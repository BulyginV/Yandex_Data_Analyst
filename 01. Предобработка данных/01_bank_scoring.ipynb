{
 "cells": [
  {
   "cell_type": "markdown",
   "metadata": {},
   "source": [
    "# Исследование надёжности заёмщиков банка\n",
    "\n",
    "Заказчик — кредитный отдел банка. Нужно разобраться, влияет ли семейное положение и количество детей клиента на факт погашения кредита в срок. Входные данные от банка — статистика о платёжеспособности клиентов.\n",
    "\n",
    "Результаты исследования будут учтены при построении модели **кредитного скоринга** — специальной системы, которая оценивает способность потенциального заёмщика вернуть кредит банку.\n",
    "\n",
    "# Сценарий по выполнению проекта\n",
    "\n",
    "### Шаг 1. Загрузка и изучение данных<a class=\"tocSkip\"></a>\n",
    "\n",
    "<b>Путь к файлу:</b>  \n",
    "* <code><b>/datasets/data.csv</b></code>\n",
    "\n",
    "Датасет содержит данные о клиентах банка.\n",
    "\n",
    "<b>Описание данных</b>\n",
    "* <code><b>children</b></code> — количество детей в семье\n",
    "* <code><b>days_employed</b></code> — общий трудовой стаж в днях\n",
    "* <code><b>dob_years</b></code> — возраст клиента в годах\n",
    "* <code><b>education</b></code> — уровень образования клиента\n",
    "* <code><b>education_id</b></code> — идентификатор уровня образования\n",
    "* <code><b>family_status</b></code> — семейное положение\n",
    "* <code><b>family_status_id</b></code> — идентификатор семейного положения\n",
    "* <code><b>gender</b></code> — пол клиента\n",
    "* <code><b>income_type</b></code> — тип занятости\n",
    "* <code><b>debt</b></code> — имел ли задолженность по возврату кредитов\n",
    "* <code><b>total_income</b></code> — ежемесячный доход\n",
    "* <code><b>purpose</b></code> — цель получения кредита\n",
    "\n",
    "### Шаг 2. Предобработка данных<a class=\"tocSkip\"></a>\n",
    "* 2.1.  Обработка пропусков\n",
    "* 2.2.  Замена типа данных\n",
    "* 2.3.  Обработка дубликатов\n",
    "* 2.4.  Лемматизация и категоризация данных\n",
    "\n",
    "### Шаг 3. Ответы на вопросы<a class=\"tocSkip\"></a>\n",
    "- 3.1.  Есть ли зависимость между наличием детей и возвратом кредита в срок?\n",
    "- 3.2.  Есть ли зависимость между семейным положением и возвратом кредита в срок?\n",
    "- 3.3.  Есть ли зависимость между уровнем дохода и возвратом кредита в срок?\n",
    "- 3.4.  Как разные цели кредита влияют на его возврат в срок?\n",
    "\n",
    "### Шаг 4. Общий вывод<a class=\"tocSkip\"></a>"
   ]
  },
  {
   "cell_type": "markdown",
   "metadata": {},
   "source": [
    "<hr style=\"border: 2px solid indigo;\" />"
   ]
  },
  {
   "cell_type": "markdown",
   "metadata": {},
   "source": [
    "## Шаг 1. Загрузка и изучение данных\n",
    "\n",
    "<b>Путь к файлу:</b>  \n",
    "* <code><b>/datasets/data.csv</b></code>\n",
    "\n",
    "Датасет содержит данные о клиентах банка.\n",
    "\n",
    "<b>Описание данных</b>\n",
    "* <code><b>children</b></code> — количество детей в семье\n",
    "* <code><b>days_employed</b></code> — общий трудовой стаж в днях\n",
    "* <code><b>dob_years</b></code> — возраст клиента в годах\n",
    "* <code><b>education</b></code> — уровень образования клиента\n",
    "* <code><b>education_id</b></code> — идентификатор уровня образования\n",
    "* <code><b>family_status</b></code> — семейное положение\n",
    "* <code><b>family_status_id</b></code> — идентификатор семейного положения\n",
    "* <code><b>gender</b></code> — пол клиента\n",
    "* <code><b>income_type</b></code> — тип занятости\n",
    "* <code><b>debt</b></code> — имел ли задолженность по возврату кредитов\n",
    "* <code><b>total_income</b></code> — ежемесячный доход\n",
    "* <code><b>purpose</b></code> — цель получения кредита"
   ]
  },
  {
   "cell_type": "markdown",
   "metadata": {},
   "source": [
    "Загрузим необходимые библиотеки."
   ]
  },
  {
   "cell_type": "code",
   "execution_count": 1,
   "metadata": {},
   "outputs": [],
   "source": [
    "import pandas as pd\n",
    "import matplotlib.pyplot as plt\n",
    "import numpy as np\n",
    "import json\n",
    "from pymystem3 import Mystem\n",
    "from collections import Counter\n",
    "m = Mystem()"
   ]
  },
  {
   "cell_type": "markdown",
   "metadata": {},
   "source": [
    "Загрузим датасет <code><b>data_project_1</b></code> и ознакомимся с данными."
   ]
  },
  {
   "cell_type": "markdown",
   "metadata": {},
   "source": [
    "<div style=\"border-radius: 15px; border: 3px solid indigo; padding: 15px;\">\n",
    "<code><b>data_project_1</b></code> — данные о клиентах банка\n",
    "</div>"
   ]
  },
  {
   "cell_type": "code",
   "execution_count": 2,
   "metadata": {},
   "outputs": [
    {
     "name": "stdout",
     "output_type": "stream",
     "text": [
      "<class 'pandas.core.frame.DataFrame'>\n",
      "RangeIndex: 21525 entries, 0 to 21524\n",
      "Data columns (total 12 columns):\n",
      " #   Column            Non-Null Count  Dtype  \n",
      "---  ------            --------------  -----  \n",
      " 0   children          21525 non-null  int64  \n",
      " 1   days_employed     19351 non-null  float64\n",
      " 2   dob_years         21525 non-null  int64  \n",
      " 3   education         21525 non-null  object \n",
      " 4   education_id      21525 non-null  int64  \n",
      " 5   family_status     21525 non-null  object \n",
      " 6   family_status_id  21525 non-null  int64  \n",
      " 7   gender            21525 non-null  object \n",
      " 8   income_type       21525 non-null  object \n",
      " 9   debt              21525 non-null  int64  \n",
      " 10  total_income      19351 non-null  float64\n",
      " 11  purpose           21525 non-null  object \n",
      "dtypes: float64(2), int64(5), object(5)\n",
      "memory usage: 2.0+ MB\n"
     ]
    }
   ],
   "source": [
    "data_project_1 = pd.read_csv('data.csv')\n",
    "data_project_1.is_copy = False\n",
    "data_project_1.info()"
   ]
  },
  {
   "cell_type": "code",
   "execution_count": 3,
   "metadata": {},
   "outputs": [
    {
     "data": {
      "text/plain": [
       "Index(['children', 'days_employed', 'dob_years', 'education', 'education_id',\n",
       "       'family_status', 'family_status_id', 'gender', 'income_type', 'debt',\n",
       "       'total_income', 'purpose'],\n",
       "      dtype='object')"
      ]
     },
     "metadata": {},
     "output_type": "display_data"
    }
   ],
   "source": [
    "display(data_project_1.columns)"
   ]
  },
  {
   "cell_type": "markdown",
   "metadata": {},
   "source": [
    "В базе данных есть пропуски, всего 21525 строк, названия столбцов и их регистр в порядке."
   ]
  },
  {
   "cell_type": "code",
   "execution_count": 4,
   "metadata": {
    "scrolled": false
   },
   "outputs": [
    {
     "data": {
      "text/html": [
       "<div>\n",
       "<style scoped>\n",
       "    .dataframe tbody tr th:only-of-type {\n",
       "        vertical-align: middle;\n",
       "    }\n",
       "\n",
       "    .dataframe tbody tr th {\n",
       "        vertical-align: top;\n",
       "    }\n",
       "\n",
       "    .dataframe thead th {\n",
       "        text-align: right;\n",
       "    }\n",
       "</style>\n",
       "<table border=\"1\" class=\"dataframe\">\n",
       "  <thead>\n",
       "    <tr style=\"text-align: right;\">\n",
       "      <th></th>\n",
       "      <th>children</th>\n",
       "      <th>days_employed</th>\n",
       "      <th>dob_years</th>\n",
       "      <th>education</th>\n",
       "      <th>education_id</th>\n",
       "      <th>family_status</th>\n",
       "      <th>family_status_id</th>\n",
       "      <th>gender</th>\n",
       "      <th>income_type</th>\n",
       "      <th>debt</th>\n",
       "      <th>total_income</th>\n",
       "      <th>purpose</th>\n",
       "    </tr>\n",
       "  </thead>\n",
       "  <tbody>\n",
       "    <tr>\n",
       "      <th>0</th>\n",
       "      <td>1</td>\n",
       "      <td>-8437.673028</td>\n",
       "      <td>42</td>\n",
       "      <td>высшее</td>\n",
       "      <td>0</td>\n",
       "      <td>женат / замужем</td>\n",
       "      <td>0</td>\n",
       "      <td>F</td>\n",
       "      <td>сотрудник</td>\n",
       "      <td>0</td>\n",
       "      <td>253875.639453</td>\n",
       "      <td>покупка жилья</td>\n",
       "    </tr>\n",
       "    <tr>\n",
       "      <th>1</th>\n",
       "      <td>1</td>\n",
       "      <td>-4024.803754</td>\n",
       "      <td>36</td>\n",
       "      <td>среднее</td>\n",
       "      <td>1</td>\n",
       "      <td>женат / замужем</td>\n",
       "      <td>0</td>\n",
       "      <td>F</td>\n",
       "      <td>сотрудник</td>\n",
       "      <td>0</td>\n",
       "      <td>112080.014102</td>\n",
       "      <td>приобретение автомобиля</td>\n",
       "    </tr>\n",
       "    <tr>\n",
       "      <th>2</th>\n",
       "      <td>0</td>\n",
       "      <td>-5623.422610</td>\n",
       "      <td>33</td>\n",
       "      <td>Среднее</td>\n",
       "      <td>1</td>\n",
       "      <td>женат / замужем</td>\n",
       "      <td>0</td>\n",
       "      <td>M</td>\n",
       "      <td>сотрудник</td>\n",
       "      <td>0</td>\n",
       "      <td>145885.952297</td>\n",
       "      <td>покупка жилья</td>\n",
       "    </tr>\n",
       "    <tr>\n",
       "      <th>3</th>\n",
       "      <td>3</td>\n",
       "      <td>-4124.747207</td>\n",
       "      <td>32</td>\n",
       "      <td>среднее</td>\n",
       "      <td>1</td>\n",
       "      <td>женат / замужем</td>\n",
       "      <td>0</td>\n",
       "      <td>M</td>\n",
       "      <td>сотрудник</td>\n",
       "      <td>0</td>\n",
       "      <td>267628.550329</td>\n",
       "      <td>дополнительное образование</td>\n",
       "    </tr>\n",
       "    <tr>\n",
       "      <th>4</th>\n",
       "      <td>0</td>\n",
       "      <td>340266.072047</td>\n",
       "      <td>53</td>\n",
       "      <td>среднее</td>\n",
       "      <td>1</td>\n",
       "      <td>гражданский брак</td>\n",
       "      <td>1</td>\n",
       "      <td>F</td>\n",
       "      <td>пенсионер</td>\n",
       "      <td>0</td>\n",
       "      <td>158616.077870</td>\n",
       "      <td>сыграть свадьбу</td>\n",
       "    </tr>\n",
       "  </tbody>\n",
       "</table>\n",
       "</div>"
      ],
      "text/plain": [
       "   children  days_employed  dob_years education  education_id  \\\n",
       "0         1   -8437.673028         42    высшее             0   \n",
       "1         1   -4024.803754         36   среднее             1   \n",
       "2         0   -5623.422610         33   Среднее             1   \n",
       "3         3   -4124.747207         32   среднее             1   \n",
       "4         0  340266.072047         53   среднее             1   \n",
       "\n",
       "      family_status  family_status_id gender income_type  debt   total_income  \\\n",
       "0   женат / замужем                 0      F   сотрудник     0  253875.639453   \n",
       "1   женат / замужем                 0      F   сотрудник     0  112080.014102   \n",
       "2   женат / замужем                 0      M   сотрудник     0  145885.952297   \n",
       "3   женат / замужем                 0      M   сотрудник     0  267628.550329   \n",
       "4  гражданский брак                 1      F   пенсионер     0  158616.077870   \n",
       "\n",
       "                      purpose  \n",
       "0               покупка жилья  \n",
       "1     приобретение автомобиля  \n",
       "2               покупка жилья  \n",
       "3  дополнительное образование  \n",
       "4             сыграть свадьбу  "
      ]
     },
     "metadata": {},
     "output_type": "display_data"
    },
    {
     "data": {
      "text/html": [
       "<div>\n",
       "<style scoped>\n",
       "    .dataframe tbody tr th:only-of-type {\n",
       "        vertical-align: middle;\n",
       "    }\n",
       "\n",
       "    .dataframe tbody tr th {\n",
       "        vertical-align: top;\n",
       "    }\n",
       "\n",
       "    .dataframe thead th {\n",
       "        text-align: right;\n",
       "    }\n",
       "</style>\n",
       "<table border=\"1\" class=\"dataframe\">\n",
       "  <thead>\n",
       "    <tr style=\"text-align: right;\">\n",
       "      <th></th>\n",
       "      <th>children</th>\n",
       "      <th>days_employed</th>\n",
       "      <th>dob_years</th>\n",
       "      <th>education</th>\n",
       "      <th>education_id</th>\n",
       "      <th>family_status</th>\n",
       "      <th>family_status_id</th>\n",
       "      <th>gender</th>\n",
       "      <th>income_type</th>\n",
       "      <th>debt</th>\n",
       "      <th>total_income</th>\n",
       "      <th>purpose</th>\n",
       "    </tr>\n",
       "  </thead>\n",
       "  <tbody>\n",
       "    <tr>\n",
       "      <th>21520</th>\n",
       "      <td>1</td>\n",
       "      <td>-4529.316663</td>\n",
       "      <td>43</td>\n",
       "      <td>среднее</td>\n",
       "      <td>1</td>\n",
       "      <td>гражданский брак</td>\n",
       "      <td>1</td>\n",
       "      <td>F</td>\n",
       "      <td>компаньон</td>\n",
       "      <td>0</td>\n",
       "      <td>224791.862382</td>\n",
       "      <td>операции с жильем</td>\n",
       "    </tr>\n",
       "    <tr>\n",
       "      <th>21521</th>\n",
       "      <td>0</td>\n",
       "      <td>343937.404131</td>\n",
       "      <td>67</td>\n",
       "      <td>среднее</td>\n",
       "      <td>1</td>\n",
       "      <td>женат / замужем</td>\n",
       "      <td>0</td>\n",
       "      <td>F</td>\n",
       "      <td>пенсионер</td>\n",
       "      <td>0</td>\n",
       "      <td>155999.806512</td>\n",
       "      <td>сделка с автомобилем</td>\n",
       "    </tr>\n",
       "    <tr>\n",
       "      <th>21522</th>\n",
       "      <td>1</td>\n",
       "      <td>-2113.346888</td>\n",
       "      <td>38</td>\n",
       "      <td>среднее</td>\n",
       "      <td>1</td>\n",
       "      <td>гражданский брак</td>\n",
       "      <td>1</td>\n",
       "      <td>M</td>\n",
       "      <td>сотрудник</td>\n",
       "      <td>1</td>\n",
       "      <td>89672.561153</td>\n",
       "      <td>недвижимость</td>\n",
       "    </tr>\n",
       "    <tr>\n",
       "      <th>21523</th>\n",
       "      <td>3</td>\n",
       "      <td>-3112.481705</td>\n",
       "      <td>38</td>\n",
       "      <td>среднее</td>\n",
       "      <td>1</td>\n",
       "      <td>женат / замужем</td>\n",
       "      <td>0</td>\n",
       "      <td>M</td>\n",
       "      <td>сотрудник</td>\n",
       "      <td>1</td>\n",
       "      <td>244093.050500</td>\n",
       "      <td>на покупку своего автомобиля</td>\n",
       "    </tr>\n",
       "    <tr>\n",
       "      <th>21524</th>\n",
       "      <td>2</td>\n",
       "      <td>-1984.507589</td>\n",
       "      <td>40</td>\n",
       "      <td>среднее</td>\n",
       "      <td>1</td>\n",
       "      <td>женат / замужем</td>\n",
       "      <td>0</td>\n",
       "      <td>F</td>\n",
       "      <td>сотрудник</td>\n",
       "      <td>0</td>\n",
       "      <td>82047.418899</td>\n",
       "      <td>на покупку автомобиля</td>\n",
       "    </tr>\n",
       "  </tbody>\n",
       "</table>\n",
       "</div>"
      ],
      "text/plain": [
       "       children  days_employed  dob_years education  education_id  \\\n",
       "21520         1   -4529.316663         43   среднее             1   \n",
       "21521         0  343937.404131         67   среднее             1   \n",
       "21522         1   -2113.346888         38   среднее             1   \n",
       "21523         3   -3112.481705         38   среднее             1   \n",
       "21524         2   -1984.507589         40   среднее             1   \n",
       "\n",
       "          family_status  family_status_id gender income_type  debt  \\\n",
       "21520  гражданский брак                 1      F   компаньон     0   \n",
       "21521   женат / замужем                 0      F   пенсионер     0   \n",
       "21522  гражданский брак                 1      M   сотрудник     1   \n",
       "21523   женат / замужем                 0      M   сотрудник     1   \n",
       "21524   женат / замужем                 0      F   сотрудник     0   \n",
       "\n",
       "        total_income                       purpose  \n",
       "21520  224791.862382             операции с жильем  \n",
       "21521  155999.806512          сделка с автомобилем  \n",
       "21522   89672.561153                  недвижимость  \n",
       "21523  244093.050500  на покупку своего автомобиля  \n",
       "21524   82047.418899         на покупку автомобиля  "
      ]
     },
     "metadata": {},
     "output_type": "display_data"
    },
    {
     "data": {
      "text/html": [
       "<div>\n",
       "<style scoped>\n",
       "    .dataframe tbody tr th:only-of-type {\n",
       "        vertical-align: middle;\n",
       "    }\n",
       "\n",
       "    .dataframe tbody tr th {\n",
       "        vertical-align: top;\n",
       "    }\n",
       "\n",
       "    .dataframe thead th {\n",
       "        text-align: right;\n",
       "    }\n",
       "</style>\n",
       "<table border=\"1\" class=\"dataframe\">\n",
       "  <thead>\n",
       "    <tr style=\"text-align: right;\">\n",
       "      <th></th>\n",
       "      <th>children</th>\n",
       "      <th>days_employed</th>\n",
       "      <th>dob_years</th>\n",
       "      <th>education</th>\n",
       "      <th>education_id</th>\n",
       "      <th>family_status</th>\n",
       "      <th>family_status_id</th>\n",
       "      <th>gender</th>\n",
       "      <th>income_type</th>\n",
       "      <th>debt</th>\n",
       "      <th>total_income</th>\n",
       "      <th>purpose</th>\n",
       "    </tr>\n",
       "  </thead>\n",
       "  <tbody>\n",
       "    <tr>\n",
       "      <th>11556</th>\n",
       "      <td>1</td>\n",
       "      <td>-1337.710105</td>\n",
       "      <td>35</td>\n",
       "      <td>среднее</td>\n",
       "      <td>1</td>\n",
       "      <td>женат / замужем</td>\n",
       "      <td>0</td>\n",
       "      <td>F</td>\n",
       "      <td>сотрудник</td>\n",
       "      <td>0</td>\n",
       "      <td>89051.668712</td>\n",
       "      <td>операции с жильем</td>\n",
       "    </tr>\n",
       "    <tr>\n",
       "      <th>9932</th>\n",
       "      <td>0</td>\n",
       "      <td>-3991.235149</td>\n",
       "      <td>41</td>\n",
       "      <td>СРЕДНЕЕ</td>\n",
       "      <td>1</td>\n",
       "      <td>Не женат / не замужем</td>\n",
       "      <td>4</td>\n",
       "      <td>M</td>\n",
       "      <td>компаньон</td>\n",
       "      <td>0</td>\n",
       "      <td>133390.590519</td>\n",
       "      <td>на покупку своего автомобиля</td>\n",
       "    </tr>\n",
       "    <tr>\n",
       "      <th>16639</th>\n",
       "      <td>0</td>\n",
       "      <td>-1484.659219</td>\n",
       "      <td>44</td>\n",
       "      <td>высшее</td>\n",
       "      <td>0</td>\n",
       "      <td>Не женат / не замужем</td>\n",
       "      <td>4</td>\n",
       "      <td>F</td>\n",
       "      <td>сотрудник</td>\n",
       "      <td>0</td>\n",
       "      <td>228711.727029</td>\n",
       "      <td>строительство собственной недвижимости</td>\n",
       "    </tr>\n",
       "    <tr>\n",
       "      <th>21027</th>\n",
       "      <td>2</td>\n",
       "      <td>-4518.581668</td>\n",
       "      <td>50</td>\n",
       "      <td>высшее</td>\n",
       "      <td>0</td>\n",
       "      <td>Не женат / не замужем</td>\n",
       "      <td>4</td>\n",
       "      <td>M</td>\n",
       "      <td>госслужащий</td>\n",
       "      <td>0</td>\n",
       "      <td>181268.643621</td>\n",
       "      <td>покупка жилья для семьи</td>\n",
       "    </tr>\n",
       "    <tr>\n",
       "      <th>6777</th>\n",
       "      <td>0</td>\n",
       "      <td>NaN</td>\n",
       "      <td>46</td>\n",
       "      <td>среднее</td>\n",
       "      <td>1</td>\n",
       "      <td>Не женат / не замужем</td>\n",
       "      <td>4</td>\n",
       "      <td>F</td>\n",
       "      <td>сотрудник</td>\n",
       "      <td>0</td>\n",
       "      <td>NaN</td>\n",
       "      <td>сделка с подержанным автомобилем</td>\n",
       "    </tr>\n",
       "  </tbody>\n",
       "</table>\n",
       "</div>"
      ],
      "text/plain": [
       "       children  days_employed  dob_years education  education_id  \\\n",
       "11556         1   -1337.710105         35   среднее             1   \n",
       "9932          0   -3991.235149         41   СРЕДНЕЕ             1   \n",
       "16639         0   -1484.659219         44    высшее             0   \n",
       "21027         2   -4518.581668         50    высшее             0   \n",
       "6777          0            NaN         46   среднее             1   \n",
       "\n",
       "               family_status  family_status_id gender  income_type  debt  \\\n",
       "11556        женат / замужем                 0      F    сотрудник     0   \n",
       "9932   Не женат / не замужем                 4      M    компаньон     0   \n",
       "16639  Не женат / не замужем                 4      F    сотрудник     0   \n",
       "21027  Не женат / не замужем                 4      M  госслужащий     0   \n",
       "6777   Не женат / не замужем                 4      F    сотрудник     0   \n",
       "\n",
       "        total_income                                 purpose  \n",
       "11556   89051.668712                       операции с жильем  \n",
       "9932   133390.590519            на покупку своего автомобиля  \n",
       "16639  228711.727029  строительство собственной недвижимости  \n",
       "21027  181268.643621                 покупка жилья для семьи  \n",
       "6777             NaN        сделка с подержанным автомобилем  "
      ]
     },
     "metadata": {},
     "output_type": "display_data"
    }
   ],
   "source": [
    "display(data_project_1.head(5))\n",
    "display(data_project_1.tail(5))\n",
    "display(data_project_1.sample(5))"
   ]
  },
  {
   "cell_type": "markdown",
   "metadata": {},
   "source": [
    "Посчитаем количество пропусков и в каком они формате."
   ]
  },
  {
   "cell_type": "code",
   "execution_count": 5,
   "metadata": {},
   "outputs": [
    {
     "data": {
      "text/html": [
       "<div>\n",
       "<style scoped>\n",
       "    .dataframe tbody tr th:only-of-type {\n",
       "        vertical-align: middle;\n",
       "    }\n",
       "\n",
       "    .dataframe tbody tr th {\n",
       "        vertical-align: top;\n",
       "    }\n",
       "\n",
       "    .dataframe thead th {\n",
       "        text-align: right;\n",
       "    }\n",
       "</style>\n",
       "<table border=\"1\" class=\"dataframe\">\n",
       "  <thead>\n",
       "    <tr style=\"text-align: right;\">\n",
       "      <th></th>\n",
       "      <th>0</th>\n",
       "      <th>1</th>\n",
       "    </tr>\n",
       "  </thead>\n",
       "  <tbody>\n",
       "    <tr>\n",
       "      <th>children</th>\n",
       "      <td>int64</td>\n",
       "      <td>0</td>\n",
       "    </tr>\n",
       "    <tr>\n",
       "      <th>days_employed</th>\n",
       "      <td>float64</td>\n",
       "      <td>2174</td>\n",
       "    </tr>\n",
       "    <tr>\n",
       "      <th>dob_years</th>\n",
       "      <td>int64</td>\n",
       "      <td>0</td>\n",
       "    </tr>\n",
       "    <tr>\n",
       "      <th>education</th>\n",
       "      <td>object</td>\n",
       "      <td>0</td>\n",
       "    </tr>\n",
       "    <tr>\n",
       "      <th>education_id</th>\n",
       "      <td>int64</td>\n",
       "      <td>0</td>\n",
       "    </tr>\n",
       "    <tr>\n",
       "      <th>family_status</th>\n",
       "      <td>object</td>\n",
       "      <td>0</td>\n",
       "    </tr>\n",
       "    <tr>\n",
       "      <th>family_status_id</th>\n",
       "      <td>int64</td>\n",
       "      <td>0</td>\n",
       "    </tr>\n",
       "    <tr>\n",
       "      <th>gender</th>\n",
       "      <td>object</td>\n",
       "      <td>0</td>\n",
       "    </tr>\n",
       "    <tr>\n",
       "      <th>income_type</th>\n",
       "      <td>object</td>\n",
       "      <td>0</td>\n",
       "    </tr>\n",
       "    <tr>\n",
       "      <th>debt</th>\n",
       "      <td>int64</td>\n",
       "      <td>0</td>\n",
       "    </tr>\n",
       "    <tr>\n",
       "      <th>total_income</th>\n",
       "      <td>float64</td>\n",
       "      <td>2174</td>\n",
       "    </tr>\n",
       "    <tr>\n",
       "      <th>purpose</th>\n",
       "      <td>object</td>\n",
       "      <td>0</td>\n",
       "    </tr>\n",
       "  </tbody>\n",
       "</table>\n",
       "</div>"
      ],
      "text/plain": [
       "                        0     1\n",
       "children            int64     0\n",
       "days_employed     float64  2174\n",
       "dob_years           int64     0\n",
       "education          object     0\n",
       "education_id        int64     0\n",
       "family_status      object     0\n",
       "family_status_id    int64     0\n",
       "gender             object     0\n",
       "income_type        object     0\n",
       "debt                int64     0\n",
       "total_income      float64  2174\n",
       "purpose            object     0"
      ]
     },
     "execution_count": 5,
     "metadata": {},
     "output_type": "execute_result"
    }
   ],
   "source": [
    "pd.concat([data_project_1.dtypes, data_project_1.isna().sum()], axis=1)"
   ]
  },
  {
   "cell_type": "markdown",
   "metadata": {},
   "source": [
    "Всего пропусков обнаружено в 2174 строках и только в двух столбцах <code><b>days_employed</b></code> и <code><b>total_income</b></code> (формат данных float64)"
   ]
  },
  {
   "cell_type": "markdown",
   "metadata": {},
   "source": [
    "Посмотрим отдельно уникальные значения по каждому столбцу."
   ]
  },
  {
   "cell_type": "code",
   "execution_count": 6,
   "metadata": {},
   "outputs": [],
   "source": [
    "# создадим простейшую функцию проверки уникальных значений\n",
    "def display_unique(data, column):\n",
    "    display(data[column].unique())\n",
    "    print('Всего уникальных значений:', len(data[column].unique()))"
   ]
  },
  {
   "cell_type": "markdown",
   "metadata": {},
   "source": [
    "<div style=\"border-radius: 15px; border: 3px solid indigo; padding: 15px;\">\n",
    "<code><b>data_project_1['children']</b></code> — количество детей в семье\n",
    "</div>"
   ]
  },
  {
   "cell_type": "code",
   "execution_count": 7,
   "metadata": {},
   "outputs": [
    {
     "data": {
      "text/plain": [
       "array([ 1,  0,  3,  2, -1,  4, 20,  5], dtype=int64)"
      ]
     },
     "metadata": {},
     "output_type": "display_data"
    },
    {
     "name": "stdout",
     "output_type": "stream",
     "text": [
      "Всего уникальных значений: 8\n"
     ]
    }
   ],
   "source": [
    "display_unique(data_project_1, 'children')"
   ]
  },
  {
   "cell_type": "markdown",
   "metadata": {},
   "source": [
    "<div style=\"border-radius: 15px; border: 3px solid indigo; padding: 15px;\">\n",
    "<code><b>data_project_1['days_employed']</b></code> — общий трудовой стаж в днях\n",
    "</div>"
   ]
  },
  {
   "cell_type": "code",
   "execution_count": 8,
   "metadata": {},
   "outputs": [
    {
     "data": {
      "text/plain": [
       "array([-8437.67302776, -4024.80375385, -5623.42261023, ...,\n",
       "       -2113.3468877 , -3112.4817052 , -1984.50758853])"
      ]
     },
     "metadata": {},
     "output_type": "display_data"
    },
    {
     "name": "stdout",
     "output_type": "stream",
     "text": [
      "Всего уникальных значений: 19352\n"
     ]
    },
    {
     "data": {
      "text/plain": [
       "count    19351.000000\n",
       "mean       183.328024\n",
       "std        380.906522\n",
       "min          0.066141\n",
       "25%          2.539751\n",
       "50%          6.011563\n",
       "75%         15.172281\n",
       "max       1100.699727\n",
       "Name: days_employed, dtype: float64"
      ]
     },
     "metadata": {},
     "output_type": "display_data"
    },
    {
     "name": "stdout",
     "output_type": "stream",
     "text": [
      "Значение days_employed больше 0: 15906\n",
      "Значение days_employed меньше либо равно 0: 3445\n"
     ]
    },
    {
     "data": {
      "text/plain": [
       "count    3445.000000\n",
       "mean     1000.011808\n",
       "std        57.739771\n",
       "min       900.626632\n",
       "25%       949.697024\n",
       "50%      1000.584401\n",
       "75%      1049.990258\n",
       "max      1100.699727\n",
       "Name: days_employed, dtype: float64"
      ]
     },
     "metadata": {},
     "output_type": "display_data"
    },
    {
     "name": "stdout",
     "output_type": "stream",
     "text": [
      "Выявленные пропуски составляют: 10.1% от всей базы данных\n"
     ]
    }
   ],
   "source": [
    "display_unique(data_project_1, 'days_employed')\n",
    "\n",
    "# если данные в столбце указанны в днях, тогда попробуем преобразовать из количества дней в количество лет\n",
    "display((abs(data_project_1[\"days_employed\"])/365).describe())\n",
    "print('Значение days_employed больше 0:', data_project_1[data_project_1['days_employed'] < 0]['days_employed'].count())\n",
    "print('Значение days_employed меньше либо равно 0:', data_project_1[data_project_1['days_employed'] >= 0]['days_employed']\\\n",
    "      .count())\n",
    "display(data_project_1[data_project_1['days_employed'] >= 0]['days_employed'].apply(lambda x: x / 365).describe())\n",
    "print('Выявленные пропуски составляют: {:.1%}'\\\n",
    "      .format(len(data_project_1[data_project_1[\"days_employed\"].isnull()]) / len(data_project_1)), 'от всей базы данных')"
   ]
  },
  {
   "cell_type": "markdown",
   "metadata": {},
   "source": [
    "<div style=\"border-radius: 15px; border: 3px solid indigo; padding: 15px;\">\n",
    "<code><b>data_project_1['dob_years']</b></code> — возраст клиента в годах\n",
    "</div>"
   ]
  },
  {
   "cell_type": "code",
   "execution_count": 9,
   "metadata": {},
   "outputs": [
    {
     "data": {
      "text/plain": [
       "array([42, 36, 33, 32, 53, 27, 43, 50, 35, 41, 40, 65, 54, 56, 26, 48, 24,\n",
       "       21, 57, 67, 28, 63, 62, 47, 34, 68, 25, 31, 30, 20, 49, 37, 45, 61,\n",
       "       64, 44, 52, 46, 23, 38, 39, 51,  0, 59, 29, 60, 55, 58, 71, 22, 73,\n",
       "       66, 69, 19, 72, 70, 74, 75], dtype=int64)"
      ]
     },
     "metadata": {},
     "output_type": "display_data"
    },
    {
     "name": "stdout",
     "output_type": "stream",
     "text": [
      "Всего уникальных значений: 58\n",
      "Минимальный возраст заёмщика: 0\n",
      "Максимальный возраст заёмщика: 75\n",
      "Всего не корретных значений \"0\": 101\n"
     ]
    }
   ],
   "source": [
    "display_unique(data_project_1, 'dob_years')\n",
    "print('Минимальный возраст заёмщика: {:.0f}' .format(data_project_1['dob_years'].min()))\n",
    "print('Максимальный возраст заёмщика: {:.0f}' .format(data_project_1['dob_years'].max()))\n",
    "print('Всего не корретных значений \"0\": {:.0f}' .format(data_project_1[data_project_1['dob_years'] == 0]['dob_years'].count()))"
   ]
  },
  {
   "cell_type": "markdown",
   "metadata": {},
   "source": [
    "<div style=\"border-radius: 15px; border: 3px solid indigo; padding: 15px;\">\n",
    "<code><b>data_project_1['education']</b></code> — уровень образования клиента\n",
    "</div>"
   ]
  },
  {
   "cell_type": "code",
   "execution_count": 10,
   "metadata": {},
   "outputs": [
    {
     "data": {
      "text/plain": [
       "array(['высшее', 'среднее', 'Среднее', 'СРЕДНЕЕ', 'ВЫСШЕЕ',\n",
       "       'неоконченное высшее', 'начальное', 'Высшее',\n",
       "       'НЕОКОНЧЕННОЕ ВЫСШЕЕ', 'Неоконченное высшее', 'НАЧАЛЬНОЕ',\n",
       "       'Начальное', 'Ученая степень', 'УЧЕНАЯ СТЕПЕНЬ', 'ученая степень'],\n",
       "      dtype=object)"
      ]
     },
     "metadata": {},
     "output_type": "display_data"
    },
    {
     "name": "stdout",
     "output_type": "stream",
     "text": [
      "Всего уникальных значений: 15\n"
     ]
    }
   ],
   "source": [
    "display_unique(data_project_1, 'education')"
   ]
  },
  {
   "cell_type": "markdown",
   "metadata": {},
   "source": [
    "<div style=\"border-radius: 15px; border: 3px solid indigo; padding: 15px;\">\n",
    "<code><b>data_project_1['education_id']</b></code> — идентификатор уровня образования\n",
    "</div>"
   ]
  },
  {
   "cell_type": "code",
   "execution_count": 11,
   "metadata": {},
   "outputs": [
    {
     "data": {
      "text/plain": [
       "array([0, 1, 2, 3, 4], dtype=int64)"
      ]
     },
     "metadata": {},
     "output_type": "display_data"
    },
    {
     "name": "stdout",
     "output_type": "stream",
     "text": [
      "Всего уникальных значений: 5\n"
     ]
    }
   ],
   "source": [
    "display_unique(data_project_1, 'education_id')"
   ]
  },
  {
   "cell_type": "markdown",
   "metadata": {},
   "source": [
    "<div style=\"border-radius: 15px; border: 3px solid indigo; padding: 15px;\">\n",
    "<code><b>data_project_1['family_status']</b></code> — семейное положение\n",
    "</div>"
   ]
  },
  {
   "cell_type": "code",
   "execution_count": 12,
   "metadata": {},
   "outputs": [
    {
     "data": {
      "text/plain": [
       "array(['женат / замужем', 'гражданский брак', 'вдовец / вдова',\n",
       "       'в разводе', 'Не женат / не замужем'], dtype=object)"
      ]
     },
     "metadata": {},
     "output_type": "display_data"
    },
    {
     "name": "stdout",
     "output_type": "stream",
     "text": [
      "Всего уникальных значений: 5\n"
     ]
    }
   ],
   "source": [
    "display_unique(data_project_1, 'family_status')"
   ]
  },
  {
   "cell_type": "markdown",
   "metadata": {},
   "source": [
    "<div style=\"border-radius: 15px; border: 3px solid indigo; padding: 15px;\">\n",
    "<code><b>data_project_1['family_status_id']</b></code> — идентификатор семейного положения\n",
    "</div>"
   ]
  },
  {
   "cell_type": "code",
   "execution_count": 13,
   "metadata": {},
   "outputs": [
    {
     "data": {
      "text/plain": [
       "array([0, 1, 2, 3, 4], dtype=int64)"
      ]
     },
     "metadata": {},
     "output_type": "display_data"
    },
    {
     "name": "stdout",
     "output_type": "stream",
     "text": [
      "Всего уникальных значений: 5\n"
     ]
    }
   ],
   "source": [
    "display_unique(data_project_1, 'family_status_id')"
   ]
  },
  {
   "cell_type": "markdown",
   "metadata": {},
   "source": [
    "<div style=\"border-radius: 15px; border: 3px solid indigo; padding: 15px;\">\n",
    "<code><b>data_project_1['gender']</b></code> — пол клиента\n",
    "</div>"
   ]
  },
  {
   "cell_type": "code",
   "execution_count": 14,
   "metadata": {},
   "outputs": [
    {
     "data": {
      "text/plain": [
       "array(['F', 'M', 'XNA'], dtype=object)"
      ]
     },
     "metadata": {},
     "output_type": "display_data"
    },
    {
     "name": "stdout",
     "output_type": "stream",
     "text": [
      "Всего уникальных значений: 3\n"
     ]
    },
    {
     "data": {
      "text/html": [
       "<div>\n",
       "<style scoped>\n",
       "    .dataframe tbody tr th:only-of-type {\n",
       "        vertical-align: middle;\n",
       "    }\n",
       "\n",
       "    .dataframe tbody tr th {\n",
       "        vertical-align: top;\n",
       "    }\n",
       "\n",
       "    .dataframe thead th {\n",
       "        text-align: right;\n",
       "    }\n",
       "</style>\n",
       "<table border=\"1\" class=\"dataframe\">\n",
       "  <thead>\n",
       "    <tr style=\"text-align: right;\">\n",
       "      <th></th>\n",
       "      <th>children</th>\n",
       "      <th>days_employed</th>\n",
       "      <th>dob_years</th>\n",
       "      <th>education</th>\n",
       "      <th>education_id</th>\n",
       "      <th>family_status</th>\n",
       "      <th>family_status_id</th>\n",
       "      <th>gender</th>\n",
       "      <th>income_type</th>\n",
       "      <th>debt</th>\n",
       "      <th>total_income</th>\n",
       "      <th>purpose</th>\n",
       "    </tr>\n",
       "  </thead>\n",
       "  <tbody>\n",
       "    <tr>\n",
       "      <th>10701</th>\n",
       "      <td>0</td>\n",
       "      <td>-2358.600502</td>\n",
       "      <td>24</td>\n",
       "      <td>неоконченное высшее</td>\n",
       "      <td>2</td>\n",
       "      <td>гражданский брак</td>\n",
       "      <td>1</td>\n",
       "      <td>XNA</td>\n",
       "      <td>компаньон</td>\n",
       "      <td>0</td>\n",
       "      <td>203905.157261</td>\n",
       "      <td>покупка недвижимости</td>\n",
       "    </tr>\n",
       "  </tbody>\n",
       "</table>\n",
       "</div>"
      ],
      "text/plain": [
       "       children  days_employed  dob_years            education  education_id  \\\n",
       "10701         0   -2358.600502         24  неоконченное высшее             2   \n",
       "\n",
       "          family_status  family_status_id gender income_type  debt  \\\n",
       "10701  гражданский брак                 1    XNA   компаньон     0   \n",
       "\n",
       "        total_income               purpose  \n",
       "10701  203905.157261  покупка недвижимости  "
      ]
     },
     "metadata": {},
     "output_type": "display_data"
    }
   ],
   "source": [
    "display_unique(data_project_1, 'gender')\n",
    "display(data_project_1[data_project_1['gender'] == 'XNA'])"
   ]
  },
  {
   "cell_type": "markdown",
   "metadata": {},
   "source": [
    "<div style=\"border-radius: 15px; border: 3px solid indigo; padding: 15px;\">\n",
    "<code><b>data_project_1['income_type']</b></code> — тип занятости\n",
    "</div>"
   ]
  },
  {
   "cell_type": "code",
   "execution_count": 15,
   "metadata": {},
   "outputs": [
    {
     "data": {
      "text/plain": [
       "array(['сотрудник', 'пенсионер', 'компаньон', 'госслужащий',\n",
       "       'безработный', 'предприниматель', 'студент', 'в декрете'],\n",
       "      dtype=object)"
      ]
     },
     "metadata": {},
     "output_type": "display_data"
    },
    {
     "name": "stdout",
     "output_type": "stream",
     "text": [
      "Всего уникальных значений: 8\n"
     ]
    }
   ],
   "source": [
    "display_unique(data_project_1, 'income_type')"
   ]
  },
  {
   "cell_type": "markdown",
   "metadata": {},
   "source": [
    "<div style=\"border-radius: 15px; border: 3px solid indigo; padding: 15px;\">\n",
    "<code><b>data_project_1['debt']</b></code> — имел ли задолженность по возврату кредитов\n",
    "</div>"
   ]
  },
  {
   "cell_type": "code",
   "execution_count": 16,
   "metadata": {},
   "outputs": [
    {
     "data": {
      "text/plain": [
       "array([0, 1], dtype=int64)"
      ]
     },
     "metadata": {},
     "output_type": "display_data"
    },
    {
     "name": "stdout",
     "output_type": "stream",
     "text": [
      "Всего уникальных значений: 2\n"
     ]
    }
   ],
   "source": [
    "display_unique(data_project_1, 'debt')"
   ]
  },
  {
   "cell_type": "markdown",
   "metadata": {},
   "source": [
    "<div style=\"border-radius: 15px; border: 3px solid indigo; padding: 15px;\">\n",
    "<code><b>data_project_1['total_income']</b></code> — ежемесячный доход\n",
    "</div>"
   ]
  },
  {
   "cell_type": "code",
   "execution_count": 17,
   "metadata": {},
   "outputs": [
    {
     "data": {
      "text/plain": [
       "array([253875.6394526 , 112080.01410244, 145885.95229686, ...,\n",
       "        89672.56115303, 244093.05050043,  82047.41889948])"
      ]
     },
     "metadata": {},
     "output_type": "display_data"
    },
    {
     "name": "stdout",
     "output_type": "stream",
     "text": [
      "Всего уникальных значений: 19352\n",
      "Выявленные пропуски составляют: 10.1% от всей базы данных\n"
     ]
    }
   ],
   "source": [
    "display_unique(data_project_1, 'total_income')\n",
    "print('Выявленные пропуски составляют: {:.1%}'.format(len(data_project_1[data_project_1[\"total_income\"]\\\n",
    "                                              .isnull()]) / len(data_project_1)), 'от всей базы данных')"
   ]
  },
  {
   "cell_type": "markdown",
   "metadata": {},
   "source": [
    "<div style=\"border-radius: 15px; border: 3px solid indigo; padding: 15px;\">\n",
    "<code><b>data_project_1['purpose']</b></code> — цель получения кредита\n",
    "</div>"
   ]
  },
  {
   "cell_type": "code",
   "execution_count": 18,
   "metadata": {},
   "outputs": [
    {
     "data": {
      "text/plain": [
       "array(['покупка жилья', 'приобретение автомобиля',\n",
       "       'дополнительное образование', 'сыграть свадьбу',\n",
       "       'операции с жильем', 'образование', 'на проведение свадьбы',\n",
       "       'покупка жилья для семьи', 'покупка недвижимости',\n",
       "       'покупка коммерческой недвижимости', 'покупка жилой недвижимости',\n",
       "       'строительство собственной недвижимости', 'недвижимость',\n",
       "       'строительство недвижимости', 'на покупку подержанного автомобиля',\n",
       "       'на покупку своего автомобиля',\n",
       "       'операции с коммерческой недвижимостью',\n",
       "       'строительство жилой недвижимости', 'жилье',\n",
       "       'операции со своей недвижимостью', 'автомобили',\n",
       "       'заняться образованием', 'сделка с подержанным автомобилем',\n",
       "       'получение образования', 'автомобиль', 'свадьба',\n",
       "       'получение дополнительного образования', 'покупка своего жилья',\n",
       "       'операции с недвижимостью', 'получение высшего образования',\n",
       "       'свой автомобиль', 'сделка с автомобилем',\n",
       "       'профильное образование', 'высшее образование',\n",
       "       'покупка жилья для сдачи', 'на покупку автомобиля', 'ремонт жилью',\n",
       "       'заняться высшим образованием'], dtype=object)"
      ]
     },
     "metadata": {},
     "output_type": "display_data"
    },
    {
     "name": "stdout",
     "output_type": "stream",
     "text": [
      "Всего уникальных значений: 38\n"
     ]
    }
   ],
   "source": [
    "display_unique(data_project_1, 'purpose')"
   ]
  },
  {
   "cell_type": "markdown",
   "metadata": {},
   "source": [
    "Посмотрим на данные всех столбцов через функцию <code><b>.describe()</b></code>"
   ]
  },
  {
   "cell_type": "code",
   "execution_count": 19,
   "metadata": {},
   "outputs": [
    {
     "data": {
      "text/html": [
       "<div>\n",
       "<style scoped>\n",
       "    .dataframe tbody tr th:only-of-type {\n",
       "        vertical-align: middle;\n",
       "    }\n",
       "\n",
       "    .dataframe tbody tr th {\n",
       "        vertical-align: top;\n",
       "    }\n",
       "\n",
       "    .dataframe thead th {\n",
       "        text-align: right;\n",
       "    }\n",
       "</style>\n",
       "<table border=\"1\" class=\"dataframe\">\n",
       "  <thead>\n",
       "    <tr style=\"text-align: right;\">\n",
       "      <th></th>\n",
       "      <th>children</th>\n",
       "      <th>days_employed</th>\n",
       "      <th>dob_years</th>\n",
       "      <th>education</th>\n",
       "      <th>education_id</th>\n",
       "      <th>family_status</th>\n",
       "      <th>family_status_id</th>\n",
       "      <th>gender</th>\n",
       "      <th>income_type</th>\n",
       "      <th>debt</th>\n",
       "      <th>total_income</th>\n",
       "      <th>purpose</th>\n",
       "    </tr>\n",
       "  </thead>\n",
       "  <tbody>\n",
       "    <tr>\n",
       "      <th>count</th>\n",
       "      <td>21525.000000</td>\n",
       "      <td>19351.000000</td>\n",
       "      <td>21525.000000</td>\n",
       "      <td>21525</td>\n",
       "      <td>21525.000000</td>\n",
       "      <td>21525</td>\n",
       "      <td>21525.000000</td>\n",
       "      <td>21525</td>\n",
       "      <td>21525</td>\n",
       "      <td>21525.000000</td>\n",
       "      <td>1.935100e+04</td>\n",
       "      <td>21525</td>\n",
       "    </tr>\n",
       "    <tr>\n",
       "      <th>unique</th>\n",
       "      <td>NaN</td>\n",
       "      <td>NaN</td>\n",
       "      <td>NaN</td>\n",
       "      <td>15</td>\n",
       "      <td>NaN</td>\n",
       "      <td>5</td>\n",
       "      <td>NaN</td>\n",
       "      <td>3</td>\n",
       "      <td>8</td>\n",
       "      <td>NaN</td>\n",
       "      <td>NaN</td>\n",
       "      <td>38</td>\n",
       "    </tr>\n",
       "    <tr>\n",
       "      <th>top</th>\n",
       "      <td>NaN</td>\n",
       "      <td>NaN</td>\n",
       "      <td>NaN</td>\n",
       "      <td>среднее</td>\n",
       "      <td>NaN</td>\n",
       "      <td>женат / замужем</td>\n",
       "      <td>NaN</td>\n",
       "      <td>F</td>\n",
       "      <td>сотрудник</td>\n",
       "      <td>NaN</td>\n",
       "      <td>NaN</td>\n",
       "      <td>свадьба</td>\n",
       "    </tr>\n",
       "    <tr>\n",
       "      <th>freq</th>\n",
       "      <td>NaN</td>\n",
       "      <td>NaN</td>\n",
       "      <td>NaN</td>\n",
       "      <td>13750</td>\n",
       "      <td>NaN</td>\n",
       "      <td>12380</td>\n",
       "      <td>NaN</td>\n",
       "      <td>14236</td>\n",
       "      <td>11119</td>\n",
       "      <td>NaN</td>\n",
       "      <td>NaN</td>\n",
       "      <td>797</td>\n",
       "    </tr>\n",
       "    <tr>\n",
       "      <th>mean</th>\n",
       "      <td>0.538908</td>\n",
       "      <td>63046.497661</td>\n",
       "      <td>43.293380</td>\n",
       "      <td>NaN</td>\n",
       "      <td>0.817236</td>\n",
       "      <td>NaN</td>\n",
       "      <td>0.972544</td>\n",
       "      <td>NaN</td>\n",
       "      <td>NaN</td>\n",
       "      <td>0.080883</td>\n",
       "      <td>1.674223e+05</td>\n",
       "      <td>NaN</td>\n",
       "    </tr>\n",
       "    <tr>\n",
       "      <th>std</th>\n",
       "      <td>1.381587</td>\n",
       "      <td>140827.311974</td>\n",
       "      <td>12.574584</td>\n",
       "      <td>NaN</td>\n",
       "      <td>0.548138</td>\n",
       "      <td>NaN</td>\n",
       "      <td>1.420324</td>\n",
       "      <td>NaN</td>\n",
       "      <td>NaN</td>\n",
       "      <td>0.272661</td>\n",
       "      <td>1.029716e+05</td>\n",
       "      <td>NaN</td>\n",
       "    </tr>\n",
       "    <tr>\n",
       "      <th>min</th>\n",
       "      <td>-1.000000</td>\n",
       "      <td>-18388.949901</td>\n",
       "      <td>0.000000</td>\n",
       "      <td>NaN</td>\n",
       "      <td>0.000000</td>\n",
       "      <td>NaN</td>\n",
       "      <td>0.000000</td>\n",
       "      <td>NaN</td>\n",
       "      <td>NaN</td>\n",
       "      <td>0.000000</td>\n",
       "      <td>2.066726e+04</td>\n",
       "      <td>NaN</td>\n",
       "    </tr>\n",
       "    <tr>\n",
       "      <th>25%</th>\n",
       "      <td>0.000000</td>\n",
       "      <td>-2747.423625</td>\n",
       "      <td>33.000000</td>\n",
       "      <td>NaN</td>\n",
       "      <td>1.000000</td>\n",
       "      <td>NaN</td>\n",
       "      <td>0.000000</td>\n",
       "      <td>NaN</td>\n",
       "      <td>NaN</td>\n",
       "      <td>0.000000</td>\n",
       "      <td>1.030532e+05</td>\n",
       "      <td>NaN</td>\n",
       "    </tr>\n",
       "    <tr>\n",
       "      <th>50%</th>\n",
       "      <td>0.000000</td>\n",
       "      <td>-1203.369529</td>\n",
       "      <td>42.000000</td>\n",
       "      <td>NaN</td>\n",
       "      <td>1.000000</td>\n",
       "      <td>NaN</td>\n",
       "      <td>0.000000</td>\n",
       "      <td>NaN</td>\n",
       "      <td>NaN</td>\n",
       "      <td>0.000000</td>\n",
       "      <td>1.450179e+05</td>\n",
       "      <td>NaN</td>\n",
       "    </tr>\n",
       "    <tr>\n",
       "      <th>75%</th>\n",
       "      <td>1.000000</td>\n",
       "      <td>-291.095954</td>\n",
       "      <td>53.000000</td>\n",
       "      <td>NaN</td>\n",
       "      <td>1.000000</td>\n",
       "      <td>NaN</td>\n",
       "      <td>1.000000</td>\n",
       "      <td>NaN</td>\n",
       "      <td>NaN</td>\n",
       "      <td>0.000000</td>\n",
       "      <td>2.034351e+05</td>\n",
       "      <td>NaN</td>\n",
       "    </tr>\n",
       "    <tr>\n",
       "      <th>max</th>\n",
       "      <td>20.000000</td>\n",
       "      <td>401755.400475</td>\n",
       "      <td>75.000000</td>\n",
       "      <td>NaN</td>\n",
       "      <td>4.000000</td>\n",
       "      <td>NaN</td>\n",
       "      <td>4.000000</td>\n",
       "      <td>NaN</td>\n",
       "      <td>NaN</td>\n",
       "      <td>1.000000</td>\n",
       "      <td>2.265604e+06</td>\n",
       "      <td>NaN</td>\n",
       "    </tr>\n",
       "  </tbody>\n",
       "</table>\n",
       "</div>"
      ],
      "text/plain": [
       "            children  days_employed     dob_years education  education_id  \\\n",
       "count   21525.000000   19351.000000  21525.000000     21525  21525.000000   \n",
       "unique           NaN            NaN           NaN        15           NaN   \n",
       "top              NaN            NaN           NaN   среднее           NaN   \n",
       "freq             NaN            NaN           NaN     13750           NaN   \n",
       "mean        0.538908   63046.497661     43.293380       NaN      0.817236   \n",
       "std         1.381587  140827.311974     12.574584       NaN      0.548138   \n",
       "min        -1.000000  -18388.949901      0.000000       NaN      0.000000   \n",
       "25%         0.000000   -2747.423625     33.000000       NaN      1.000000   \n",
       "50%         0.000000   -1203.369529     42.000000       NaN      1.000000   \n",
       "75%         1.000000    -291.095954     53.000000       NaN      1.000000   \n",
       "max        20.000000  401755.400475     75.000000       NaN      4.000000   \n",
       "\n",
       "          family_status  family_status_id gender income_type          debt  \\\n",
       "count             21525      21525.000000  21525       21525  21525.000000   \n",
       "unique                5               NaN      3           8           NaN   \n",
       "top     женат / замужем               NaN      F   сотрудник           NaN   \n",
       "freq              12380               NaN  14236       11119           NaN   \n",
       "mean                NaN          0.972544    NaN         NaN      0.080883   \n",
       "std                 NaN          1.420324    NaN         NaN      0.272661   \n",
       "min                 NaN          0.000000    NaN         NaN      0.000000   \n",
       "25%                 NaN          0.000000    NaN         NaN      0.000000   \n",
       "50%                 NaN          0.000000    NaN         NaN      0.000000   \n",
       "75%                 NaN          1.000000    NaN         NaN      0.000000   \n",
       "max                 NaN          4.000000    NaN         NaN      1.000000   \n",
       "\n",
       "        total_income  purpose  \n",
       "count   1.935100e+04    21525  \n",
       "unique           NaN       38  \n",
       "top              NaN  свадьба  \n",
       "freq             NaN      797  \n",
       "mean    1.674223e+05      NaN  \n",
       "std     1.029716e+05      NaN  \n",
       "min     2.066726e+04      NaN  \n",
       "25%     1.030532e+05      NaN  \n",
       "50%     1.450179e+05      NaN  \n",
       "75%     2.034351e+05      NaN  \n",
       "max     2.265604e+06      NaN  "
      ]
     },
     "metadata": {},
     "output_type": "display_data"
    }
   ],
   "source": [
    "display(data_project_1.describe(include='all'))"
   ]
  },
  {
   "cell_type": "markdown",
   "metadata": {},
   "source": [
    "<div style=\"border-radius: 15px; border: 3px solid green; padding: 15px;\">\n",
    "<font color='green'><b>ВЫВОД:</b></font><br>\n",
    "Выше изучив данные <code><b>data_project_1</b></code> в том числе по столбцам, обращаем внимание на:\n",
    "<br>\n",
    "    \n",
    "- в датасете <code><b>data_project_1</b></code> - 21525 строк и 12 столбцов;<br>\n",
    "- <code><b>data_project_1.columns</b></code> - все названия столбцов корректные;<br>    \n",
    "- <code><b>data_project_1['days_employed']</b></code> - выявлено 2174 пропусков;<br>\n",
    "- <code><b>data_project_1['total_income']</b></code> - заменить тип данных (float64 на int64)<br>\n",
    "- <code><b>data_project_1['dob_years']</b></code> - заменить тип данных (float64 на int64)<br>    \n",
    "- <code><b>data_project_1['days_employed']</b></code> - заменить тип данных (float64 на int64)<br>    \n",
    "- <code><b>data_project_1['days_employed']</b></code> - выявлены отрицательные значения и возможно не корректный формат заполнения (указано кол-во часов вместо кол-во дней). Гипотеза - это числовое обозначение дат относительно 1970 года (вот почему есть отрицательные значения);<br>\n",
    "- <code><b>data_project_1['total_income']</b></code> - выявлено 2174 пропусков;<br>    \n",
    "- <code><b>data_project_1['children']</b></code> - выявлено отрицательное значение (-1) и возможно не корректный выброс (20);<br>\n",
    "- <code><b>data_project_1['gender']</b></code> - выявлено не корректное значение XNA;<br>\n",
    "- <code><b>data_project_1['education']</b></code> - выявлены не корректные регистры, значения задвоенны / затроенны. Необходимо привести категоризацию к 5 значениям (начальное, среднее, неоконченное высшее, высшее, ученая степень);<br>\n",
    "- <code><b>data_project_1['dob_years']</b></code> - выявлено не корректное значение 0 лет;<br>    \n",
    "- <code><b>data_project_1['purpose']</b></code> - выявлена хаотичность значений в списке. Выполнить единую категоризацию;<br> \n",
    "- <code><b>data_project_1['education_id']</b></code> - данные корректны;<br> \n",
    "- <code><b>data_project_1['family_status']</b></code> - данные корректны;<br>    \n",
    "- <code><b>data_project_1['family_status_id']</b></code> - данные корректны;<br>    \n",
    "- <code><b>data_project_1['income_type']</b></code> - данные корректны;<br> \n",
    "- <code><b>data_project_1['debt']</b></code> - данные корректны.<br>     \n",
    "    \n",
    "</div>"
   ]
  },
  {
   "cell_type": "markdown",
   "metadata": {},
   "source": [
    "<hr style=\"border: 2px solid indigo;\" />"
   ]
  },
  {
   "cell_type": "markdown",
   "metadata": {},
   "source": [
    "## Шаг 2. Предобработка данных<a class=\"tocSkip\"></a>\n",
    "* 2.1.  Обработка пропусков\n",
    "* 2.2.  Замена типа данных\n",
    "* 2.3.  Обработка дубликатов\n",
    "* 2.4.  Лемматизация и категоризация данных"
   ]
  },
  {
   "cell_type": "markdown",
   "metadata": {},
   "source": [
    "### 2.1. Обработка пропусков"
   ]
  },
  {
   "cell_type": "markdown",
   "metadata": {},
   "source": [
    "<code><b>data_project_1['children']</b></code> - заменим ошибочные значения '<code><b>20</b></code>' и '<code><b>-1</b></code>' на '<code><b>2</b></code>' и '<code><b>1</b></code>'."
   ]
  },
  {
   "cell_type": "code",
   "execution_count": 20,
   "metadata": {},
   "outputs": [
    {
     "data": {
      "text/plain": [
       "array([1, 0, 3, 2, 4, 5], dtype=int64)"
      ]
     },
     "metadata": {},
     "output_type": "display_data"
    }
   ],
   "source": [
    "data_project_1['children'] = data_project_1['children'].replace(20, 2)\n",
    "data_project_1['children'] = data_project_1['children'].replace(-1, 1)\n",
    "display(data_project_1['children'].unique())"
   ]
  },
  {
   "cell_type": "markdown",
   "metadata": {},
   "source": [
    "<code><b>data_project_1['gender']</b></code> - исключим из выборки выявленное не корректное значение ('<code><b>XNA</b></code>')."
   ]
  },
  {
   "cell_type": "code",
   "execution_count": 21,
   "metadata": {},
   "outputs": [
    {
     "name": "stdout",
     "output_type": "stream",
     "text": [
      "Количество строк в столбце gender со значением XNA: 0\n"
     ]
    }
   ],
   "source": [
    "data_project_1 = data_project_1[data_project_1['gender'] != 'XNA']\n",
    "print('Количество строк в столбце gender со значением XNA: {:.0f}'\\\n",
    "      .format(data_project_1[data_project_1['gender'] == 'XNA']['gender'].count()))"
   ]
  },
  {
   "cell_type": "markdown",
   "metadata": {},
   "source": [
    "<code><b>data_project_1['education']</b></code> - приведем все значения в столбце к одному регистру."
   ]
  },
  {
   "cell_type": "code",
   "execution_count": 22,
   "metadata": {},
   "outputs": [
    {
     "data": {
      "text/plain": [
       "array(['высшее', 'среднее', 'неоконченное высшее', 'начальное',\n",
       "       'ученая степень'], dtype=object)"
      ]
     },
     "metadata": {},
     "output_type": "display_data"
    }
   ],
   "source": [
    "data_project_1['education'] = data_project_1['education'].str.lower()\n",
    "display(data_project_1['education'].unique())"
   ]
  },
  {
   "cell_type": "markdown",
   "metadata": {},
   "source": [
    "<code><b>data_project_1['dob_years']</b></code> - исправим нулевые значения."
   ]
  },
  {
   "cell_type": "markdown",
   "metadata": {},
   "source": [
    "Вычислим медиану по каждому типу занятости."
   ]
  },
  {
   "cell_type": "code",
   "execution_count": 23,
   "metadata": {},
   "outputs": [
    {
     "data": {
      "text/plain": [
       "income_type\n",
       "безработный        38.0\n",
       "в декрете          39.0\n",
       "госслужащий        40.0\n",
       "компаньон          39.0\n",
       "пенсионер          60.0\n",
       "предприниматель    42.5\n",
       "сотрудник          39.0\n",
       "студент            22.0\n",
       "Name: dob_years, dtype: float64"
      ]
     },
     "metadata": {},
     "output_type": "display_data"
    }
   ],
   "source": [
    "display(data_project_1.groupby('income_type')['dob_years'].median())"
   ]
  },
  {
   "cell_type": "markdown",
   "metadata": {},
   "source": [
    "Используя функцию .loc, фильтуруем данные в столбце <code><b>dob_years</b></code> со значением '<code><b>0</b></code>' и заменим на медианы полученные выше."
   ]
  },
  {
   "cell_type": "code",
   "execution_count": 24,
   "metadata": {
    "scrolled": false
   },
   "outputs": [
    {
     "name": "stdout",
     "output_type": "stream",
     "text": [
      "Количество строк в столбце dob_years со значением 0 лет: 0\n"
     ]
    },
    {
     "data": {
      "text/plain": [
       "array([42., 36., 33., 32., 53., 27., 43., 50., 35., 41., 40., 65., 54.,\n",
       "       56., 26., 48., 24., 21., 57., 67., 28., 63., 62., 47., 34., 68.,\n",
       "       25., 31., 30., 20., 49., 37., 45., 61., 64., 44., 52., 46., 23.,\n",
       "       38., 39., 51., 60., 59., 29., 55., 58., 71., 22., 73., 66., 69.,\n",
       "       19., 72., 70., 74., 75.])"
      ]
     },
     "metadata": {},
     "output_type": "display_data"
    },
    {
     "name": "stdout",
     "output_type": "stream",
     "text": [
      "Всего уникальных значений: 57\n"
     ]
    }
   ],
   "source": [
    "data_project_1.is_copy = False\n",
    "data_project_1.loc[(data_project_1['income_type'] == 'пенсионер') & (data_project_1['dob_years'] == 0),'dob_years'] = 60\n",
    "data_project_1.loc[(data_project_1['income_type'] == 'студент') & (data_project_1['dob_years'] == 0),'dob_years'] = 22\n",
    "data_project_1.loc[(data_project_1['income_type'] == 'сотрудник') & (data_project_1['dob_years'] == 0),'dob_years'] = 39\n",
    "data_project_1.loc[(data_project_1['income_type'] == 'предприниматель') & (data_project_1['dob_years'] == 0),'dob_years'] = 42.5\n",
    "data_project_1.loc[(data_project_1['income_type'] == 'компаньон') & (data_project_1['dob_years'] == 0),'dob_years'] = 39\n",
    "data_project_1.loc[(data_project_1['income_type'] == 'госслужащий') & (data_project_1['dob_years'] == 0),'dob_years'] = 40\n",
    "data_project_1.loc[(data_project_1['income_type'] == 'в декрете') & (data_project_1['dob_years'] == 0),'dob_years'] = 39\n",
    "data_project_1.loc[(data_project_1['income_type'] == 'безработный ') & (data_project_1['dob_years'] == 0),'dob_years'] = 38\n",
    "\n",
    "print('Количество строк в столбце dob_years со значением 0 лет: {:.0f}'\\\n",
    "      .format(data_project_1[data_project_1['dob_years'] == 0]['dob_years'].count()))\n",
    "\n",
    "display_unique(data_project_1, 'dob_years')"
   ]
  },
  {
   "cell_type": "markdown",
   "metadata": {},
   "source": [
    "Посмотрим на распределение значений возраста клиентов на графике <code><b>.hist()</b></code>."
   ]
  },
  {
   "cell_type": "markdown",
   "metadata": {},
   "source": [
    "<div style=\"border-radius: 15px; border: 3px solid indigo; padding: 15px;\">\n",
    "<code><b>data_project_1['dob_years'].hist()</b></code> — гистограмма распределения клиентов по возрасту\n",
    "</div>"
   ]
  },
  {
   "cell_type": "code",
   "execution_count": 25,
   "metadata": {},
   "outputs": [
    {
     "data": {
      "image/png": "[encoded data removed]",
      "text/plain": [
       "<Figure size 1080x360 with 1 Axes>"
      ]
     },
     "metadata": {
      "needs_background": "light"
     },
     "output_type": "display_data"
    }
   ],
   "source": [
    "# построим гистограмму\n",
    "data_project_1['dob_years'].hist(bins=20, figsize=(15, 5))\n",
    "plt.xlabel('Возраст клиентов')  \n",
    "plt.ylabel('Количество клиентов')  \n",
    "plt.title('Распределение клиентов по возрасту')\n",
    "plt.xlim(0, 80)\n",
    "plt.show()"
   ]
  },
  {
   "cell_type": "markdown",
   "metadata": {},
   "source": [
    "<code><b>data_project_1['days_employed']</b></code> - исправим '<code><b>2174</b></code>' пропусков '<code><b>NaN</b></code>', заменив на '<code><b>0</b></code>'."
   ]
  },
  {
   "cell_type": "markdown",
   "metadata": {},
   "source": [
    "Таким образом мы сохраним репрезентативность выборки, а далее сможем заменить нулевые значения на специально подобранные."
   ]
  },
  {
   "cell_type": "code",
   "execution_count": 26,
   "metadata": {},
   "outputs": [
    {
     "data": {
      "text/plain": [
       "children               0\n",
       "days_employed          0\n",
       "dob_years              0\n",
       "education              0\n",
       "education_id           0\n",
       "family_status          0\n",
       "family_status_id       0\n",
       "gender                 0\n",
       "income_type            0\n",
       "debt                   0\n",
       "total_income        2174\n",
       "purpose                0\n",
       "dtype: int64"
      ]
     },
     "metadata": {},
     "output_type": "display_data"
    }
   ],
   "source": [
    "data_project_1['days_employed'] = data_project_1['days_employed'].fillna(0)\n",
    "display(data_project_1.isnull().sum())"
   ]
  },
  {
   "cell_type": "markdown",
   "metadata": {},
   "source": [
    "<code><b>data_project_1['total_income']</b></code> - исправим '<code><b>2174</b></code>' пропусков '<code><b>NaN</b></code>', заменив на '<code><b>0</b></code>'."
   ]
  },
  {
   "cell_type": "markdown",
   "metadata": {},
   "source": [
    "Таким образом мы сохраним репрезентативность выборки, а далее сможем заменить нулевые значения на специально подобранные."
   ]
  },
  {
   "cell_type": "code",
   "execution_count": 27,
   "metadata": {},
   "outputs": [
    {
     "data": {
      "text/plain": [
       "children            0\n",
       "days_employed       0\n",
       "dob_years           0\n",
       "education           0\n",
       "education_id        0\n",
       "family_status       0\n",
       "family_status_id    0\n",
       "gender              0\n",
       "income_type         0\n",
       "debt                0\n",
       "total_income        0\n",
       "purpose             0\n",
       "dtype: int64"
      ]
     },
     "metadata": {},
     "output_type": "display_data"
    }
   ],
   "source": [
    "data_project_1['total_income'] = data_project_1['total_income'].fillna(0)\n",
    "display(data_project_1.isnull().sum())"
   ]
  },
  {
   "cell_type": "markdown",
   "metadata": {},
   "source": [
    "<code><b>data_project_1['days_employed']</b></code> - теперь дозаполним ранее пропущенные значения, которые мы временно заменили на ноль."
   ]
  },
  {
   "cell_type": "markdown",
   "metadata": {},
   "source": [
    "Для заполнения пропущенных значений в столбце <code><b>days_employed</b></code>, создадим новый столбец <code><b>age_group</b></code> с возрастными группами и вычислим по каждой среднее значение.\n",
    "\n",
    "Выборку поделим на 4 группы:\n",
    "* 1 группа: 19 - 30 (включительно);\n",
    "* 2 группа: 30 - 40 (включительно);\n",
    "* 3 группа: 40 - 55 (включительно);\n",
    "* 4 группа: 55 - 75."
   ]
  },
  {
   "cell_type": "code",
   "execution_count": 28,
   "metadata": {},
   "outputs": [],
   "source": [
    "# cоздадим функцию для ранжирования возрастных групп\n",
    "def days_employed(row):\n",
    "    age = row['dob_years']\n",
    "\n",
    "    if age <= 30:\n",
    "        return '1 группа: (19 - 30)'\n",
    "    \n",
    "    if age <= 40 and age > 30:\n",
    "        return '2 группа: (30 - 40)'\n",
    "    \n",
    "    if age <= 55 and age > 40:\n",
    "        return '3 группа: (40 - 55)'\n",
    "    \n",
    "    if age <= 75 and age > 55:\n",
    "        return '4 группа: (55 - 75)'"
   ]
  },
  {
   "cell_type": "markdown",
   "metadata": {},
   "source": [
    "Создадим дополнительный столбец <code><b>age_group</b></code> с 4 возможными значениями (группами)."
   ]
  },
  {
   "cell_type": "markdown",
   "metadata": {},
   "source": [
    "<div style=\"border-radius: 15px; border: 3px solid indigo; padding: 15px;\">\n",
    "<code><b>data_project_1['age_group']</b></code> — возрастные группы\n",
    "</div>"
   ]
  },
  {
   "cell_type": "code",
   "execution_count": 29,
   "metadata": {},
   "outputs": [
    {
     "data": {
      "text/html": [
       "<div>\n",
       "<style scoped>\n",
       "    .dataframe tbody tr th:only-of-type {\n",
       "        vertical-align: middle;\n",
       "    }\n",
       "\n",
       "    .dataframe tbody tr th {\n",
       "        vertical-align: top;\n",
       "    }\n",
       "\n",
       "    .dataframe thead th {\n",
       "        text-align: right;\n",
       "    }\n",
       "</style>\n",
       "<table border=\"1\" class=\"dataframe\">\n",
       "  <thead>\n",
       "    <tr style=\"text-align: right;\">\n",
       "      <th></th>\n",
       "      <th>children</th>\n",
       "      <th>days_employed</th>\n",
       "      <th>dob_years</th>\n",
       "      <th>education</th>\n",
       "      <th>education_id</th>\n",
       "      <th>family_status</th>\n",
       "      <th>family_status_id</th>\n",
       "      <th>gender</th>\n",
       "      <th>income_type</th>\n",
       "      <th>debt</th>\n",
       "      <th>total_income</th>\n",
       "      <th>purpose</th>\n",
       "      <th>age_group</th>\n",
       "    </tr>\n",
       "  </thead>\n",
       "  <tbody>\n",
       "    <tr>\n",
       "      <th>0</th>\n",
       "      <td>1</td>\n",
       "      <td>-8437.673028</td>\n",
       "      <td>42.0</td>\n",
       "      <td>высшее</td>\n",
       "      <td>0</td>\n",
       "      <td>женат / замужем</td>\n",
       "      <td>0</td>\n",
       "      <td>F</td>\n",
       "      <td>сотрудник</td>\n",
       "      <td>0</td>\n",
       "      <td>253875.639453</td>\n",
       "      <td>покупка жилья</td>\n",
       "      <td>3 группа: (40 - 55)</td>\n",
       "    </tr>\n",
       "    <tr>\n",
       "      <th>1</th>\n",
       "      <td>1</td>\n",
       "      <td>-4024.803754</td>\n",
       "      <td>36.0</td>\n",
       "      <td>среднее</td>\n",
       "      <td>1</td>\n",
       "      <td>женат / замужем</td>\n",
       "      <td>0</td>\n",
       "      <td>F</td>\n",
       "      <td>сотрудник</td>\n",
       "      <td>0</td>\n",
       "      <td>112080.014102</td>\n",
       "      <td>приобретение автомобиля</td>\n",
       "      <td>2 группа: (30 - 40)</td>\n",
       "    </tr>\n",
       "    <tr>\n",
       "      <th>2</th>\n",
       "      <td>0</td>\n",
       "      <td>-5623.422610</td>\n",
       "      <td>33.0</td>\n",
       "      <td>среднее</td>\n",
       "      <td>1</td>\n",
       "      <td>женат / замужем</td>\n",
       "      <td>0</td>\n",
       "      <td>M</td>\n",
       "      <td>сотрудник</td>\n",
       "      <td>0</td>\n",
       "      <td>145885.952297</td>\n",
       "      <td>покупка жилья</td>\n",
       "      <td>2 группа: (30 - 40)</td>\n",
       "    </tr>\n",
       "    <tr>\n",
       "      <th>3</th>\n",
       "      <td>3</td>\n",
       "      <td>-4124.747207</td>\n",
       "      <td>32.0</td>\n",
       "      <td>среднее</td>\n",
       "      <td>1</td>\n",
       "      <td>женат / замужем</td>\n",
       "      <td>0</td>\n",
       "      <td>M</td>\n",
       "      <td>сотрудник</td>\n",
       "      <td>0</td>\n",
       "      <td>267628.550329</td>\n",
       "      <td>дополнительное образование</td>\n",
       "      <td>2 группа: (30 - 40)</td>\n",
       "    </tr>\n",
       "    <tr>\n",
       "      <th>4</th>\n",
       "      <td>0</td>\n",
       "      <td>340266.072047</td>\n",
       "      <td>53.0</td>\n",
       "      <td>среднее</td>\n",
       "      <td>1</td>\n",
       "      <td>гражданский брак</td>\n",
       "      <td>1</td>\n",
       "      <td>F</td>\n",
       "      <td>пенсионер</td>\n",
       "      <td>0</td>\n",
       "      <td>158616.077870</td>\n",
       "      <td>сыграть свадьбу</td>\n",
       "      <td>3 группа: (40 - 55)</td>\n",
       "    </tr>\n",
       "  </tbody>\n",
       "</table>\n",
       "</div>"
      ],
      "text/plain": [
       "   children  days_employed  dob_years education  education_id  \\\n",
       "0         1   -8437.673028       42.0    высшее             0   \n",
       "1         1   -4024.803754       36.0   среднее             1   \n",
       "2         0   -5623.422610       33.0   среднее             1   \n",
       "3         3   -4124.747207       32.0   среднее             1   \n",
       "4         0  340266.072047       53.0   среднее             1   \n",
       "\n",
       "      family_status  family_status_id gender income_type  debt   total_income  \\\n",
       "0   женат / замужем                 0      F   сотрудник     0  253875.639453   \n",
       "1   женат / замужем                 0      F   сотрудник     0  112080.014102   \n",
       "2   женат / замужем                 0      M   сотрудник     0  145885.952297   \n",
       "3   женат / замужем                 0      M   сотрудник     0  267628.550329   \n",
       "4  гражданский брак                 1      F   пенсионер     0  158616.077870   \n",
       "\n",
       "                      purpose            age_group  \n",
       "0               покупка жилья  3 группа: (40 - 55)  \n",
       "1     приобретение автомобиля  2 группа: (30 - 40)  \n",
       "2               покупка жилья  2 группа: (30 - 40)  \n",
       "3  дополнительное образование  2 группа: (30 - 40)  \n",
       "4             сыграть свадьбу  3 группа: (40 - 55)  "
      ]
     },
     "metadata": {},
     "output_type": "display_data"
    }
   ],
   "source": [
    "data_project_1['age_group'] = data_project_1.apply(days_employed, axis=1)\n",
    "display(data_project_1.head())"
   ]
  },
  {
   "cell_type": "markdown",
   "metadata": {},
   "source": [
    "Cоздадим переменную <code><b>age_group_mean</b></code> и поместим в неё сгруппированные данные для вычисления средней."
   ]
  },
  {
   "cell_type": "markdown",
   "metadata": {},
   "source": [
    "<div style=\"border-radius: 15px; border: 3px solid indigo; padding: 15px;\">\n",
    "<code><b>age_group_mean</b></code> — средние значения возраста клиентов по группам\n",
    "</div>"
   ]
  },
  {
   "cell_type": "code",
   "execution_count": 30,
   "metadata": {},
   "outputs": [
    {
     "data": {
      "text/plain": [
       "age_group\n",
       "1 группа: (19 - 30)      -475.859004\n",
       "2 группа: (30 - 40)       451.034791\n",
       "3 группа: (40 - 55)     34261.456312\n",
       "4 группа: (55 - 75)    218534.805989\n",
       "Name: days_employed, dtype: float64"
      ]
     },
     "metadata": {},
     "output_type": "display_data"
    }
   ],
   "source": [
    "age_group_mean = data_project_1.groupby('age_group')['days_employed'].mean()\n",
    "display(age_group_mean)"
   ]
  },
  {
   "cell_type": "markdown",
   "metadata": {},
   "source": [
    "Сгруппируем данные по <code><b>age_group</b></code> и <code><b>days_employed</b></code> = '<code><b>0</b></code>' и подставим средние значения <code><b>age_group_mean</b></code> согласно созданным возрастным группам."
   ]
  },
  {
   "cell_type": "code",
   "execution_count": 31,
   "metadata": {},
   "outputs": [
    {
     "name": "stdout",
     "output_type": "stream",
     "text": [
      "Выявлено нулевых значений days_employed: 0\n"
     ]
    }
   ],
   "source": [
    "data_project_1.loc[(data_project_1['age_group'] == '1 группа: (19 - 30)') & (data_project_1['days_employed'] == 0 )\\\n",
    "                   , 'days_employed'] = age_group_mean[0]\n",
    "data_project_1.loc[(data_project_1['age_group'] == '2 группа: (30 - 40)') & (data_project_1['days_employed'] == 0 )\\\n",
    "                   , 'days_employed'] = age_group_mean[1]\n",
    "data_project_1.loc[(data_project_1['age_group'] == '3 группа: (40 - 55)') & (data_project_1['days_employed'] == 0 )\\\n",
    "                   , 'days_employed'] = age_group_mean[2]\n",
    "data_project_1.loc[(data_project_1['age_group'] == '4 группа: (55 - 75)') & (data_project_1['days_employed'] == 0 )\\\n",
    "                   , 'days_employed'] = age_group_mean[3]\n",
    "\n",
    "print('Выявлено нулевых значений days_employed: {:.0f}'.format(len(data_project_1[data_project_1['days_employed'] == 0])))"
   ]
  },
  {
   "cell_type": "markdown",
   "metadata": {},
   "source": [
    "<code><b>data_project_1['total_income']</b></code> - теперь дозаполним ранее пропущенные значения, которые мы временно заменили на ноль."
   ]
  },
  {
   "cell_type": "markdown",
   "metadata": {},
   "source": [
    "Cоздадим переменную <code><b>income_type_median</b></code> и поместим в неё сгруппированные данные для вычисления медианы."
   ]
  },
  {
   "cell_type": "markdown",
   "metadata": {},
   "source": [
    "<div style=\"border-radius: 15px; border: 3px solid indigo; padding: 15px;\">\n",
    "<code><b>income_type_median</b></code> — медианные значения ежемесячного дохода клиентов по типу занятости\n",
    "</div>"
   ]
  },
  {
   "cell_type": "code",
   "execution_count": 32,
   "metadata": {},
   "outputs": [
    {
     "data": {
      "text/plain": [
       "income_type\n",
       "безработный        131339.751676\n",
       "в декрете           53829.130729\n",
       "госслужащий        139034.452386\n",
       "компаньон          162379.674930\n",
       "пенсионер          110179.690761\n",
       "предприниматель    249581.572474\n",
       "сотрудник          133546.457238\n",
       "студент             98201.625314\n",
       "Name: total_income, dtype: float64"
      ]
     },
     "metadata": {},
     "output_type": "display_data"
    }
   ],
   "source": [
    "income_type_median = data_project_1.groupby('income_type')['total_income'].median()\n",
    "display(income_type_median)"
   ]
  },
  {
   "cell_type": "markdown",
   "metadata": {},
   "source": [
    "Сгруппируем данные по <code><b>income_type</b></code> и <code><b>total_income</b></code> = '<code><b>0</b></code>' и подставим медианные значения <code><b>income_type_median</b></code> согласно посчитанным данным по типу занятости."
   ]
  },
  {
   "cell_type": "code",
   "execution_count": 33,
   "metadata": {},
   "outputs": [
    {
     "name": "stdout",
     "output_type": "stream",
     "text": [
      "Выявлено нулевых значений total_income: 0\n"
     ]
    }
   ],
   "source": [
    "data_project_1.loc[(data_project_1['total_income'] == 0) & (data_project_1['income_type'] == 'безработный'),'total_income']\\\n",
    "= income_type_median[0]\n",
    "data_project_1.loc[(data_project_1['total_income'] == 0) & (data_project_1['income_type'] == 'в декрете'),'total_income']\\\n",
    "= income_type_median[1]\n",
    "data_project_1.loc[(data_project_1['total_income'] == 0) & (data_project_1['income_type'] == 'госслужащий'),'total_income']\\\n",
    "= income_type_median[2]\n",
    "data_project_1.loc[(data_project_1['total_income'] == 0) & (data_project_1['income_type'] == 'компаньон'),'total_income']\\\n",
    "= income_type_median[3]\n",
    "data_project_1.loc[(data_project_1['total_income'] == 0) & (data_project_1['income_type'] == 'пенсионер'),'total_income']\\\n",
    "= income_type_median[4]\n",
    "data_project_1.loc[(data_project_1['total_income'] == 0) & (data_project_1['income_type'] == 'предприниматель'),'total_income']\\\n",
    "= income_type_median[5]\n",
    "data_project_1.loc[(data_project_1['total_income'] == 0) & (data_project_1['income_type'] == 'сотрудник'),'total_income']\\\n",
    "= income_type_median[6]\n",
    "data_project_1.loc[(data_project_1['total_income'] == 0) & (data_project_1['income_type'] == 'студент'),'total_income']\\\n",
    "= income_type_median[7]\n",
    "\n",
    "print('Выявлено нулевых значений total_income: {:.0f}'.format(len(data_project_1[data_project_1['total_income'] == 0])))"
   ]
  },
  {
   "cell_type": "markdown",
   "metadata": {},
   "source": [
    "Поделим нашу выборку на 4 группы по уровню дохода:\n",
    "* 1 группа: 15K - 55K (включительно);\n",
    "* 2 группа: 55K - 120K (включительно);\n",
    "* 3 группа: 120K - 200K (включительно);\n",
    "* 4 группа: 200K - 3000K."
   ]
  },
  {
   "cell_type": "markdown",
   "metadata": {},
   "source": [
    "<div style=\"border-radius: 15px; border: 3px solid indigo; padding: 15px;\">\n",
    "<code><b>data_project_1['total_income_group']</b></code> — группировка клиентов по уровню дохода\n",
    "</div>"
   ]
  },
  {
   "cell_type": "code",
   "execution_count": 34,
   "metadata": {},
   "outputs": [],
   "source": [
    "# cоздадим функцию для ранжирования групп по ежемесячному доходу\n",
    "def income_group(row):\n",
    "    \n",
    "    income = row['total_income']\n",
    "\n",
    "    if income <= 55000:\n",
    "        return '15K - 55K'\n",
    "    \n",
    "    if income <= 120000 and income > 55000:\n",
    "        return '55K - 120K'\n",
    "    \n",
    "    if income <= 200000 and income > 120000:\n",
    "        return '120K - 200K'\n",
    "    \n",
    "    if income <= 3000000 and income > 200000:\n",
    "        return '200K - 3000K'"
   ]
  },
  {
   "cell_type": "code",
   "execution_count": 35,
   "metadata": {},
   "outputs": [
    {
     "data": {
      "text/html": [
       "<div>\n",
       "<style scoped>\n",
       "    .dataframe tbody tr th:only-of-type {\n",
       "        vertical-align: middle;\n",
       "    }\n",
       "\n",
       "    .dataframe tbody tr th {\n",
       "        vertical-align: top;\n",
       "    }\n",
       "\n",
       "    .dataframe thead th {\n",
       "        text-align: right;\n",
       "    }\n",
       "</style>\n",
       "<table border=\"1\" class=\"dataframe\">\n",
       "  <thead>\n",
       "    <tr style=\"text-align: right;\">\n",
       "      <th></th>\n",
       "      <th>children</th>\n",
       "      <th>days_employed</th>\n",
       "      <th>dob_years</th>\n",
       "      <th>education</th>\n",
       "      <th>education_id</th>\n",
       "      <th>family_status</th>\n",
       "      <th>family_status_id</th>\n",
       "      <th>gender</th>\n",
       "      <th>income_type</th>\n",
       "      <th>debt</th>\n",
       "      <th>total_income</th>\n",
       "      <th>purpose</th>\n",
       "      <th>age_group</th>\n",
       "      <th>total_income_group</th>\n",
       "    </tr>\n",
       "  </thead>\n",
       "  <tbody>\n",
       "    <tr>\n",
       "      <th>0</th>\n",
       "      <td>1</td>\n",
       "      <td>-8437.673028</td>\n",
       "      <td>42.0</td>\n",
       "      <td>высшее</td>\n",
       "      <td>0</td>\n",
       "      <td>женат / замужем</td>\n",
       "      <td>0</td>\n",
       "      <td>F</td>\n",
       "      <td>сотрудник</td>\n",
       "      <td>0</td>\n",
       "      <td>253875.639453</td>\n",
       "      <td>покупка жилья</td>\n",
       "      <td>3 группа: (40 - 55)</td>\n",
       "      <td>200K - 3000K</td>\n",
       "    </tr>\n",
       "    <tr>\n",
       "      <th>1</th>\n",
       "      <td>1</td>\n",
       "      <td>-4024.803754</td>\n",
       "      <td>36.0</td>\n",
       "      <td>среднее</td>\n",
       "      <td>1</td>\n",
       "      <td>женат / замужем</td>\n",
       "      <td>0</td>\n",
       "      <td>F</td>\n",
       "      <td>сотрудник</td>\n",
       "      <td>0</td>\n",
       "      <td>112080.014102</td>\n",
       "      <td>приобретение автомобиля</td>\n",
       "      <td>2 группа: (30 - 40)</td>\n",
       "      <td>55K - 120K</td>\n",
       "    </tr>\n",
       "    <tr>\n",
       "      <th>2</th>\n",
       "      <td>0</td>\n",
       "      <td>-5623.422610</td>\n",
       "      <td>33.0</td>\n",
       "      <td>среднее</td>\n",
       "      <td>1</td>\n",
       "      <td>женат / замужем</td>\n",
       "      <td>0</td>\n",
       "      <td>M</td>\n",
       "      <td>сотрудник</td>\n",
       "      <td>0</td>\n",
       "      <td>145885.952297</td>\n",
       "      <td>покупка жилья</td>\n",
       "      <td>2 группа: (30 - 40)</td>\n",
       "      <td>120K - 200K</td>\n",
       "    </tr>\n",
       "    <tr>\n",
       "      <th>3</th>\n",
       "      <td>3</td>\n",
       "      <td>-4124.747207</td>\n",
       "      <td>32.0</td>\n",
       "      <td>среднее</td>\n",
       "      <td>1</td>\n",
       "      <td>женат / замужем</td>\n",
       "      <td>0</td>\n",
       "      <td>M</td>\n",
       "      <td>сотрудник</td>\n",
       "      <td>0</td>\n",
       "      <td>267628.550329</td>\n",
       "      <td>дополнительное образование</td>\n",
       "      <td>2 группа: (30 - 40)</td>\n",
       "      <td>200K - 3000K</td>\n",
       "    </tr>\n",
       "    <tr>\n",
       "      <th>4</th>\n",
       "      <td>0</td>\n",
       "      <td>340266.072047</td>\n",
       "      <td>53.0</td>\n",
       "      <td>среднее</td>\n",
       "      <td>1</td>\n",
       "      <td>гражданский брак</td>\n",
       "      <td>1</td>\n",
       "      <td>F</td>\n",
       "      <td>пенсионер</td>\n",
       "      <td>0</td>\n",
       "      <td>158616.077870</td>\n",
       "      <td>сыграть свадьбу</td>\n",
       "      <td>3 группа: (40 - 55)</td>\n",
       "      <td>120K - 200K</td>\n",
       "    </tr>\n",
       "  </tbody>\n",
       "</table>\n",
       "</div>"
      ],
      "text/plain": [
       "   children  days_employed  dob_years education  education_id  \\\n",
       "0         1   -8437.673028       42.0    высшее             0   \n",
       "1         1   -4024.803754       36.0   среднее             1   \n",
       "2         0   -5623.422610       33.0   среднее             1   \n",
       "3         3   -4124.747207       32.0   среднее             1   \n",
       "4         0  340266.072047       53.0   среднее             1   \n",
       "\n",
       "      family_status  family_status_id gender income_type  debt   total_income  \\\n",
       "0   женат / замужем                 0      F   сотрудник     0  253875.639453   \n",
       "1   женат / замужем                 0      F   сотрудник     0  112080.014102   \n",
       "2   женат / замужем                 0      M   сотрудник     0  145885.952297   \n",
       "3   женат / замужем                 0      M   сотрудник     0  267628.550329   \n",
       "4  гражданский брак                 1      F   пенсионер     0  158616.077870   \n",
       "\n",
       "                      purpose            age_group total_income_group  \n",
       "0               покупка жилья  3 группа: (40 - 55)       200K - 3000K  \n",
       "1     приобретение автомобиля  2 группа: (30 - 40)         55K - 120K  \n",
       "2               покупка жилья  2 группа: (30 - 40)        120K - 200K  \n",
       "3  дополнительное образование  2 группа: (30 - 40)       200K - 3000K  \n",
       "4             сыграть свадьбу  3 группа: (40 - 55)        120K - 200K  "
      ]
     },
     "metadata": {},
     "output_type": "display_data"
    }
   ],
   "source": [
    "data_project_1['total_income_group'] = data_project_1.apply(income_group, axis=1)\n",
    "display(data_project_1.head())"
   ]
  },
  {
   "cell_type": "markdown",
   "metadata": {},
   "source": [
    "### 2.2. Замена типа данных"
   ]
  },
  {
   "cell_type": "markdown",
   "metadata": {},
   "source": [
    "Заменим типы данных столбцов <code><b>total_income</b></code>, <code><b>dob_years</b></code> и <code><b>days_employed</b></code> с <code><b>float</b></code> на <code><b>int</b></code>. "
   ]
  },
  {
   "cell_type": "code",
   "execution_count": 36,
   "metadata": {},
   "outputs": [
    {
     "data": {
      "text/html": [
       "<div>\n",
       "<style scoped>\n",
       "    .dataframe tbody tr th:only-of-type {\n",
       "        vertical-align: middle;\n",
       "    }\n",
       "\n",
       "    .dataframe tbody tr th {\n",
       "        vertical-align: top;\n",
       "    }\n",
       "\n",
       "    .dataframe thead th {\n",
       "        text-align: right;\n",
       "    }\n",
       "</style>\n",
       "<table border=\"1\" class=\"dataframe\">\n",
       "  <thead>\n",
       "    <tr style=\"text-align: right;\">\n",
       "      <th></th>\n",
       "      <th>children</th>\n",
       "      <th>days_employed</th>\n",
       "      <th>dob_years</th>\n",
       "      <th>education</th>\n",
       "      <th>education_id</th>\n",
       "      <th>family_status</th>\n",
       "      <th>family_status_id</th>\n",
       "      <th>gender</th>\n",
       "      <th>income_type</th>\n",
       "      <th>debt</th>\n",
       "      <th>total_income</th>\n",
       "      <th>purpose</th>\n",
       "      <th>age_group</th>\n",
       "      <th>total_income_group</th>\n",
       "    </tr>\n",
       "  </thead>\n",
       "  <tbody>\n",
       "    <tr>\n",
       "      <th>0</th>\n",
       "      <td>1</td>\n",
       "      <td>8437</td>\n",
       "      <td>42</td>\n",
       "      <td>высшее</td>\n",
       "      <td>0</td>\n",
       "      <td>женат / замужем</td>\n",
       "      <td>0</td>\n",
       "      <td>F</td>\n",
       "      <td>сотрудник</td>\n",
       "      <td>0</td>\n",
       "      <td>253875</td>\n",
       "      <td>покупка жилья</td>\n",
       "      <td>3 группа: (40 - 55)</td>\n",
       "      <td>200K - 3000K</td>\n",
       "    </tr>\n",
       "    <tr>\n",
       "      <th>1</th>\n",
       "      <td>1</td>\n",
       "      <td>4024</td>\n",
       "      <td>36</td>\n",
       "      <td>среднее</td>\n",
       "      <td>1</td>\n",
       "      <td>женат / замужем</td>\n",
       "      <td>0</td>\n",
       "      <td>F</td>\n",
       "      <td>сотрудник</td>\n",
       "      <td>0</td>\n",
       "      <td>112080</td>\n",
       "      <td>приобретение автомобиля</td>\n",
       "      <td>2 группа: (30 - 40)</td>\n",
       "      <td>55K - 120K</td>\n",
       "    </tr>\n",
       "    <tr>\n",
       "      <th>2</th>\n",
       "      <td>0</td>\n",
       "      <td>5623</td>\n",
       "      <td>33</td>\n",
       "      <td>среднее</td>\n",
       "      <td>1</td>\n",
       "      <td>женат / замужем</td>\n",
       "      <td>0</td>\n",
       "      <td>M</td>\n",
       "      <td>сотрудник</td>\n",
       "      <td>0</td>\n",
       "      <td>145885</td>\n",
       "      <td>покупка жилья</td>\n",
       "      <td>2 группа: (30 - 40)</td>\n",
       "      <td>120K - 200K</td>\n",
       "    </tr>\n",
       "    <tr>\n",
       "      <th>3</th>\n",
       "      <td>3</td>\n",
       "      <td>4124</td>\n",
       "      <td>32</td>\n",
       "      <td>среднее</td>\n",
       "      <td>1</td>\n",
       "      <td>женат / замужем</td>\n",
       "      <td>0</td>\n",
       "      <td>M</td>\n",
       "      <td>сотрудник</td>\n",
       "      <td>0</td>\n",
       "      <td>267628</td>\n",
       "      <td>дополнительное образование</td>\n",
       "      <td>2 группа: (30 - 40)</td>\n",
       "      <td>200K - 3000K</td>\n",
       "    </tr>\n",
       "    <tr>\n",
       "      <th>4</th>\n",
       "      <td>0</td>\n",
       "      <td>340266</td>\n",
       "      <td>53</td>\n",
       "      <td>среднее</td>\n",
       "      <td>1</td>\n",
       "      <td>гражданский брак</td>\n",
       "      <td>1</td>\n",
       "      <td>F</td>\n",
       "      <td>пенсионер</td>\n",
       "      <td>0</td>\n",
       "      <td>158616</td>\n",
       "      <td>сыграть свадьбу</td>\n",
       "      <td>3 группа: (40 - 55)</td>\n",
       "      <td>120K - 200K</td>\n",
       "    </tr>\n",
       "  </tbody>\n",
       "</table>\n",
       "</div>"
      ],
      "text/plain": [
       "   children  days_employed  dob_years education  education_id  \\\n",
       "0         1           8437         42    высшее             0   \n",
       "1         1           4024         36   среднее             1   \n",
       "2         0           5623         33   среднее             1   \n",
       "3         3           4124         32   среднее             1   \n",
       "4         0         340266         53   среднее             1   \n",
       "\n",
       "      family_status  family_status_id gender income_type  debt  total_income  \\\n",
       "0   женат / замужем                 0      F   сотрудник     0        253875   \n",
       "1   женат / замужем                 0      F   сотрудник     0        112080   \n",
       "2   женат / замужем                 0      M   сотрудник     0        145885   \n",
       "3   женат / замужем                 0      M   сотрудник     0        267628   \n",
       "4  гражданский брак                 1      F   пенсионер     0        158616   \n",
       "\n",
       "                      purpose            age_group total_income_group  \n",
       "0               покупка жилья  3 группа: (40 - 55)       200K - 3000K  \n",
       "1     приобретение автомобиля  2 группа: (30 - 40)         55K - 120K  \n",
       "2               покупка жилья  2 группа: (30 - 40)        120K - 200K  \n",
       "3  дополнительное образование  2 группа: (30 - 40)       200K - 3000K  \n",
       "4             сыграть свадьбу  3 группа: (40 - 55)        120K - 200K  "
      ]
     },
     "metadata": {},
     "output_type": "display_data"
    }
   ],
   "source": [
    "data_project_1['total_income'] = data_project_1['total_income'].astype('int64')\n",
    "data_project_1['dob_years'] = data_project_1['dob_years'].astype('int64')\n",
    "data_project_1['days_employed'] = data_project_1['days_employed'].astype('int64')\n",
    "data_project_1['days_employed'] = abs(data_project_1['days_employed'])\n",
    "display(data_project_1.head())"
   ]
  },
  {
   "cell_type": "markdown",
   "metadata": {},
   "source": [
    "### 2.3. Обработка дубликатов"
   ]
  },
  {
   "cell_type": "markdown",
   "metadata": {},
   "source": [
    "Проверим данные на предмет дубликатов."
   ]
  },
  {
   "cell_type": "code",
   "execution_count": 37,
   "metadata": {},
   "outputs": [
    {
     "data": {
      "text/plain": [
       "71"
      ]
     },
     "metadata": {},
     "output_type": "display_data"
    }
   ],
   "source": [
    "display(data_project_1.duplicated().sum())"
   ]
  },
  {
   "cell_type": "markdown",
   "metadata": {},
   "source": [
    "Удалим дубликаты используя метод <code><b>.drop_duplicates()</b></code> с новой индексацией"
   ]
  },
  {
   "cell_type": "code",
   "execution_count": 38,
   "metadata": {},
   "outputs": [
    {
     "name": "stdout",
     "output_type": "stream",
     "text": [
      "<class 'pandas.core.frame.DataFrame'>\n",
      "RangeIndex: 21453 entries, 0 to 21452\n",
      "Data columns (total 14 columns):\n",
      " #   Column              Non-Null Count  Dtype \n",
      "---  ------              --------------  ----- \n",
      " 0   children            21453 non-null  int64 \n",
      " 1   days_employed       21453 non-null  int64 \n",
      " 2   dob_years           21453 non-null  int64 \n",
      " 3   education           21453 non-null  object\n",
      " 4   education_id        21453 non-null  int64 \n",
      " 5   family_status       21453 non-null  object\n",
      " 6   family_status_id    21453 non-null  int64 \n",
      " 7   gender              21453 non-null  object\n",
      " 8   income_type         21453 non-null  object\n",
      " 9   debt                21453 non-null  int64 \n",
      " 10  total_income        21453 non-null  int64 \n",
      " 11  purpose             21453 non-null  object\n",
      " 12  age_group           21453 non-null  object\n",
      " 13  total_income_group  21453 non-null  object\n",
      "dtypes: int64(7), object(7)\n",
      "memory usage: 2.3+ MB\n"
     ]
    },
    {
     "data": {
      "text/plain": [
       "None"
      ]
     },
     "metadata": {},
     "output_type": "display_data"
    }
   ],
   "source": [
    "data_project_1 = data_project_1.drop_duplicates().reset_index(drop=True)\n",
    "display(data_project_1.info())"
   ]
  },
  {
   "cell_type": "markdown",
   "metadata": {},
   "source": [
    "### 2.4. Лемматизация и категоризация данных"
   ]
  },
  {
   "cell_type": "markdown",
   "metadata": {},
   "source": [
    "Лемматизируем столбец <code><b>purpose</b></code> и на его основе создадим новый столбец с категориями <code><b>purpose_category</b></code>."
   ]
  },
  {
   "cell_type": "code",
   "execution_count": 39,
   "metadata": {},
   "outputs": [
    {
     "data": {
      "text/html": [
       "<div>\n",
       "<style scoped>\n",
       "    .dataframe tbody tr th:only-of-type {\n",
       "        vertical-align: middle;\n",
       "    }\n",
       "\n",
       "    .dataframe tbody tr th {\n",
       "        vertical-align: top;\n",
       "    }\n",
       "\n",
       "    .dataframe thead th {\n",
       "        text-align: right;\n",
       "    }\n",
       "</style>\n",
       "<table border=\"1\" class=\"dataframe\">\n",
       "  <thead>\n",
       "    <tr style=\"text-align: right;\">\n",
       "      <th></th>\n",
       "      <th>children</th>\n",
       "      <th>days_employed</th>\n",
       "      <th>dob_years</th>\n",
       "      <th>education</th>\n",
       "      <th>education_id</th>\n",
       "      <th>family_status</th>\n",
       "      <th>family_status_id</th>\n",
       "      <th>gender</th>\n",
       "      <th>income_type</th>\n",
       "      <th>debt</th>\n",
       "      <th>total_income</th>\n",
       "      <th>purpose</th>\n",
       "      <th>age_group</th>\n",
       "      <th>total_income_group</th>\n",
       "      <th>purpose_category</th>\n",
       "    </tr>\n",
       "  </thead>\n",
       "  <tbody>\n",
       "    <tr>\n",
       "      <th>0</th>\n",
       "      <td>1</td>\n",
       "      <td>8437</td>\n",
       "      <td>42</td>\n",
       "      <td>высшее</td>\n",
       "      <td>0</td>\n",
       "      <td>женат / замужем</td>\n",
       "      <td>0</td>\n",
       "      <td>F</td>\n",
       "      <td>сотрудник</td>\n",
       "      <td>0</td>\n",
       "      <td>253875</td>\n",
       "      <td>покупка жилья</td>\n",
       "      <td>3 группа: (40 - 55)</td>\n",
       "      <td>200K - 3000K</td>\n",
       "      <td>недвижимость</td>\n",
       "    </tr>\n",
       "    <tr>\n",
       "      <th>1</th>\n",
       "      <td>1</td>\n",
       "      <td>4024</td>\n",
       "      <td>36</td>\n",
       "      <td>среднее</td>\n",
       "      <td>1</td>\n",
       "      <td>женат / замужем</td>\n",
       "      <td>0</td>\n",
       "      <td>F</td>\n",
       "      <td>сотрудник</td>\n",
       "      <td>0</td>\n",
       "      <td>112080</td>\n",
       "      <td>приобретение автомобиля</td>\n",
       "      <td>2 группа: (30 - 40)</td>\n",
       "      <td>55K - 120K</td>\n",
       "      <td>авто</td>\n",
       "    </tr>\n",
       "    <tr>\n",
       "      <th>2</th>\n",
       "      <td>0</td>\n",
       "      <td>5623</td>\n",
       "      <td>33</td>\n",
       "      <td>среднее</td>\n",
       "      <td>1</td>\n",
       "      <td>женат / замужем</td>\n",
       "      <td>0</td>\n",
       "      <td>M</td>\n",
       "      <td>сотрудник</td>\n",
       "      <td>0</td>\n",
       "      <td>145885</td>\n",
       "      <td>покупка жилья</td>\n",
       "      <td>2 группа: (30 - 40)</td>\n",
       "      <td>120K - 200K</td>\n",
       "      <td>недвижимость</td>\n",
       "    </tr>\n",
       "    <tr>\n",
       "      <th>3</th>\n",
       "      <td>3</td>\n",
       "      <td>4124</td>\n",
       "      <td>32</td>\n",
       "      <td>среднее</td>\n",
       "      <td>1</td>\n",
       "      <td>женат / замужем</td>\n",
       "      <td>0</td>\n",
       "      <td>M</td>\n",
       "      <td>сотрудник</td>\n",
       "      <td>0</td>\n",
       "      <td>267628</td>\n",
       "      <td>дополнительное образование</td>\n",
       "      <td>2 группа: (30 - 40)</td>\n",
       "      <td>200K - 3000K</td>\n",
       "      <td>образование</td>\n",
       "    </tr>\n",
       "    <tr>\n",
       "      <th>4</th>\n",
       "      <td>0</td>\n",
       "      <td>340266</td>\n",
       "      <td>53</td>\n",
       "      <td>среднее</td>\n",
       "      <td>1</td>\n",
       "      <td>гражданский брак</td>\n",
       "      <td>1</td>\n",
       "      <td>F</td>\n",
       "      <td>пенсионер</td>\n",
       "      <td>0</td>\n",
       "      <td>158616</td>\n",
       "      <td>сыграть свадьбу</td>\n",
       "      <td>3 группа: (40 - 55)</td>\n",
       "      <td>120K - 200K</td>\n",
       "      <td>свадьба</td>\n",
       "    </tr>\n",
       "  </tbody>\n",
       "</table>\n",
       "</div>"
      ],
      "text/plain": [
       "   children  days_employed  dob_years education  education_id  \\\n",
       "0         1           8437         42    высшее             0   \n",
       "1         1           4024         36   среднее             1   \n",
       "2         0           5623         33   среднее             1   \n",
       "3         3           4124         32   среднее             1   \n",
       "4         0         340266         53   среднее             1   \n",
       "\n",
       "      family_status  family_status_id gender income_type  debt  total_income  \\\n",
       "0   женат / замужем                 0      F   сотрудник     0        253875   \n",
       "1   женат / замужем                 0      F   сотрудник     0        112080   \n",
       "2   женат / замужем                 0      M   сотрудник     0        145885   \n",
       "3   женат / замужем                 0      M   сотрудник     0        267628   \n",
       "4  гражданский брак                 1      F   пенсионер     0        158616   \n",
       "\n",
       "                      purpose            age_group total_income_group  \\\n",
       "0               покупка жилья  3 группа: (40 - 55)       200K - 3000K   \n",
       "1     приобретение автомобиля  2 группа: (30 - 40)         55K - 120K   \n",
       "2               покупка жилья  2 группа: (30 - 40)        120K - 200K   \n",
       "3  дополнительное образование  2 группа: (30 - 40)       200K - 3000K   \n",
       "4             сыграть свадьбу  3 группа: (40 - 55)        120K - 200K   \n",
       "\n",
       "  purpose_category  \n",
       "0     недвижимость  \n",
       "1             авто  \n",
       "2     недвижимость  \n",
       "3      образование  \n",
       "4          свадьба  "
      ]
     },
     "metadata": {},
     "output_type": "display_data"
    }
   ],
   "source": [
    "estate = ['недвижим', 'жиль']\n",
    "wedding = ['свадьб']\n",
    "auto = ['автомоб']\n",
    "education = ['образова']\n",
    "\n",
    "data_project_1['purpose_category'] = 0\n",
    "def categoryzer(list_of_words, category):\n",
    "  join = '|'.join(list_of_words)\n",
    "  index = data_project_1[data_project_1['purpose'].str.lower().str.contains(join)].index.to_list()\n",
    "  for i in index:\n",
    "    data_project_1.loc[i, 'purpose_category'] = category\n",
    "  return data_project_1\n",
    "\n",
    "categoryzer(wedding, 'свадьба')\n",
    "categoryzer(estate, 'недвижимость')\n",
    "categoryzer(auto, 'авто')\n",
    "categoryzer(education, 'образование')\n",
    "\n",
    "Counter(data_project_1['purpose_category'])\n",
    "display(data_project_1.head())"
   ]
  },
  {
   "cell_type": "markdown",
   "metadata": {},
   "source": [
    "<div style=\"border-radius: 15px; border: 3px solid green; padding: 15px;\">\n",
    "<font color='green'><b>ВЫВОД:</b></font><br>\n",
    "Выше мы успешно произвели предобработку данных датасета <code><b>data_project_1</b></code> и далее поэтапно её распишем.\n",
    "<br>\n",
    "    \n",
    "<b>1. Обработка пропусков:</b><br>\n",
    "- <code><b>children</b></code> - заменили не корректные значения -1 на 1 и 20 на 2;<br>\n",
    "- <code><b>gender</b></code> - удалили не корректную строку со значением XNA;<br>\n",
    "- <code><b>education</b></code> - привели все значения к одному регистру, сократив кол-во значений до 5;<br>\n",
    "- <code><b>dob_years</b></code> - выявили и исправили 101 не корректное значение, заменив на медианное значение относительно типа занятости;<br>\n",
    "- <code><b>days_employed</b></code> - с целью избежать потери 10% выборки заменили пропуски на значение 0, тем самым подготовив данные к дозаполнению в следующем шаге;<br>\n",
    "- <code><b>total_income</b></code> - с целью избежать потери 10% выборки мы также заменили пропуски на значение 0, тем самым подготовив данные к дозаполнению в следующем шаге;<br>\n",
    "- <code><b>days_employed</b></code> - дозаполнили пропущенные данные. Для корректного дозаполнения пропусков, было решено создать новый столбец с 4 значениями (выборка была поделена на 4 группы). Далее по каждой группе, было расчитано среднее значение относительно столбца <code><b>days_employed</b></code> и соответствующие данные были подставлены в ранее заполненные ячейки со значениями \"0\". Тем самым удалось сохранить 10% выборки с ранее пропущенными значениями;<br>\n",
    "- <code><b>total_income</b></code> - дозаполнили пропущенные данные. Для корректного дозаполнения пропусков, было решено использовать медианы значений столбца <code><b>total_income</b></code> т.к. уровень дохода максимально коррелирует именно с этими значениями. Получившиеся медианы были успешно подставлены в ранее заполненные ячейки со значениями \"0\". Таким образом, также удалось сохранить 10% выборки с ранее пропущенными значениями;<br>\n",
    "- добавили новый столбец <code><b>total_income_group</b></code> - поделили нашу выборку на 4 группы по уровню дохода.   \n",
    "<br>\n",
    "    \n",
    "<b>2. Замена типа данных:</b><br>\n",
    "- <code><b>total_income</b></code> - изменили тип данных с <code><b>float64</b></code> на <code><b>int64</b></code>;<br>\n",
    "- <code><b>dob_years</b></code> - изменили тип данных с <code><b>float64</b></code> на <code><b>int64</b></code>;<br>\n",
    "- <code><b>days_employed</b></code> - изменили тип данных с <code><b>float64</b></code> на <code><b>int64</b></code>.\n",
    "<br>\n",
    "    \n",
    "<b>3. Обработка дубликатов:</b><br>\n",
    "- <code><b>data_project_1</b></code> - ранее все пропуски в наборе данных были исключены или заменены. Поэтому далее мы произвели поиск дубликатов, который выявил 71 значение. Дубликаты были удалены;<br>\n",
    "- <code><b>data_project_1</b></code> - финальная версия датасета включила в себя данные по 21453 клиентам.\n",
    "<br>\n",
    "    \n",
    "<b>4. Лемматизация и категоризация данных:</b><br>\n",
    "- после группировки цели кредита разделены на 4 группы (авто, образование, свадьба, недвижимость);<br>\n",
    "- данные очищенны;<br>\n",
    "- теперь можем сгрупировать их для того чтобы ответить на поставленые вопросы в задании.<br>\n",
    "    \n",
    "</div>"
   ]
  },
  {
   "cell_type": "markdown",
   "metadata": {},
   "source": [
    "<hr style=\"border: 2px solid indigo;\" />"
   ]
  },
  {
   "cell_type": "markdown",
   "metadata": {},
   "source": [
    "## Шаг 3. Ответы на вопросы\n",
    "- 3.1.  Есть ли зависимость между наличием детей и возвратом кредита в срок?\n",
    "- 3.2.  Есть ли зависимость между семейным положением и возвратом кредита в срок?\n",
    "- 3.3.  Есть ли зависимость между уровнем дохода и возвратом кредита в срок?\n",
    "- 3.4.  Как разные цели кредита влияют на его возврат в срок?"
   ]
  },
  {
   "cell_type": "markdown",
   "metadata": {},
   "source": [
    "### 3.1. Есть ли зависимость между наличием детей и возвратом кредита в срок?"
   ]
  },
  {
   "cell_type": "markdown",
   "metadata": {},
   "source": [
    "Рассчитаем показатель просрочки для всей выборки."
   ]
  },
  {
   "cell_type": "markdown",
   "metadata": {},
   "source": [
    "<div style=\"border-radius: 15px; border: 3px solid indigo; padding: 15px;\">\n",
    "<code><b>defolt_payment</b></code> — показатель просрочки для всей выборки\n",
    "</div>"
   ]
  },
  {
   "cell_type": "code",
   "execution_count": 40,
   "metadata": {},
   "outputs": [
    {
     "data": {
      "text/plain": [
       "0.08115415093460122"
      ]
     },
     "metadata": {},
     "output_type": "display_data"
    }
   ],
   "source": [
    "defolt_payment = data_project_1[(data_project_1['debt'] == 1)].count() / data_project_1['debt'].count()\n",
    "display(defolt_payment['debt'])"
   ]
  },
  {
   "cell_type": "markdown",
   "metadata": {},
   "source": [
    "Создадим сводную таблицу <code><b>data_pivot1</b></code> для расчета % просрочки в зависимости от наличия детей."
   ]
  },
  {
   "cell_type": "markdown",
   "metadata": {},
   "source": [
    "<div style=\"border-radius: 15px; border: 3px solid indigo; padding: 15px;\">\n",
    "<code><b>data_pivot1</b></code> — сводная таблица просрочки клиентов в зависимости от количества детей\n",
    "</div>"
   ]
  },
  {
   "cell_type": "code",
   "execution_count": 41,
   "metadata": {},
   "outputs": [
    {
     "data": {
      "text/html": [
       "<div>\n",
       "<style scoped>\n",
       "    .dataframe tbody tr th:only-of-type {\n",
       "        vertical-align: middle;\n",
       "    }\n",
       "\n",
       "    .dataframe tbody tr th {\n",
       "        vertical-align: top;\n",
       "    }\n",
       "\n",
       "    .dataframe thead th {\n",
       "        text-align: right;\n",
       "    }\n",
       "</style>\n",
       "<table border=\"1\" class=\"dataframe\">\n",
       "  <thead>\n",
       "    <tr style=\"text-align: right;\">\n",
       "      <th>children</th>\n",
       "      <th>0</th>\n",
       "      <th>1</th>\n",
       "      <th>2</th>\n",
       "      <th>3</th>\n",
       "      <th>4</th>\n",
       "      <th>5</th>\n",
       "    </tr>\n",
       "    <tr>\n",
       "      <th>debt</th>\n",
       "      <th></th>\n",
       "      <th></th>\n",
       "      <th></th>\n",
       "      <th></th>\n",
       "      <th></th>\n",
       "      <th></th>\n",
       "    </tr>\n",
       "  </thead>\n",
       "  <tbody>\n",
       "    <tr>\n",
       "      <th>0</th>\n",
       "      <td>13027.0</td>\n",
       "      <td>4410.0</td>\n",
       "      <td>1926.0</td>\n",
       "      <td>303.0</td>\n",
       "      <td>37.0</td>\n",
       "      <td>9.0</td>\n",
       "    </tr>\n",
       "    <tr>\n",
       "      <th>1</th>\n",
       "      <td>1063.0</td>\n",
       "      <td>445.0</td>\n",
       "      <td>202.0</td>\n",
       "      <td>27.0</td>\n",
       "      <td>4.0</td>\n",
       "      <td>NaN</td>\n",
       "    </tr>\n",
       "  </tbody>\n",
       "</table>\n",
       "</div>"
      ],
      "text/plain": [
       "children        0       1       2      3     4    5\n",
       "debt                                               \n",
       "0         13027.0  4410.0  1926.0  303.0  37.0  9.0\n",
       "1          1063.0   445.0   202.0   27.0   4.0  NaN"
      ]
     },
     "metadata": {},
     "output_type": "display_data"
    }
   ],
   "source": [
    "data_pivot1 = data_project_1.pivot_table(index=['debt'], columns='children', values = 'family_status_id', aggfunc='count')\n",
    "display(data_pivot1)"
   ]
  },
  {
   "cell_type": "markdown",
   "metadata": {},
   "source": [
    "Пропишем формулы вычисления просрочки в зависимости от наличия детей."
   ]
  },
  {
   "cell_type": "code",
   "execution_count": 42,
   "metadata": {},
   "outputs": [
    {
     "name": "stdout",
     "output_type": "stream",
     "text": [
      "Просрочка БЕЗ УЧЁТА ДЕТЕЙ составляет: 8.1%\n",
      "\n",
      "Просрочка С УЧЁТОМ ДЕТЕЙ составляет:\n",
      "7.5% Нет детей\n",
      "9.2% 1 Ребенок\n",
      "9.5% 2 Ребенка\n",
      "8.2% 3 Ребенка\n",
      "9.8% 4 Ребенка\n"
     ]
    }
   ],
   "source": [
    "ch0 = data_pivot1[0][1] / data_pivot1[0].sum()\n",
    "ch1 = data_pivot1[1][1] / data_pivot1[1].sum()\n",
    "ch2 = data_pivot1[2][1] / data_pivot1[2].sum()\n",
    "ch3 = data_pivot1[3][1] / data_pivot1[3].sum()\n",
    "ch4 = data_pivot1[4][1] / data_pivot1[4].sum()\n",
    "\n",
    "print('Просрочка БЕЗ УЧЁТА ДЕТЕЙ составляет: {:.1%}' .format(defolt_payment['debt']))\n",
    "print()\n",
    "print('Просрочка С УЧЁТОМ ДЕТЕЙ составляет:')\n",
    "print(\"{:.1%} Нет детей\".format(ch0))\n",
    "print(\"{:.1%} 1 Ребенок\".format(ch1))\n",
    "print(\"{:.1%} 2 Ребенка\".format(ch2))\n",
    "print(\"{:.1%} 3 Ребенка\".format(ch3))\n",
    "print(\"{:.1%} 4 Ребенка\".format(ch4))"
   ]
  },
  {
   "cell_type": "markdown",
   "metadata": {},
   "source": [
    "<div style=\"border-radius: 15px; border: 3px solid green; padding: 15px;\">\n",
    "<font color='green'><b>ВЫВОД:</b></font><br>\n",
    "При среднем значении просрочки на всей выборке в 8.1%, удалось установить, что появление детей действительно повышает риск просрочки. Клиенты без детей напротив, просрочки совершают меньше чем общий процент и тем более чем клиенты с детьми.\n",
    "<br>\n",
    "    \n",
    "<b>Вопрос:</b> Есть ли зависимость между наличием детей и возвратом кредита в срок?\n",
    "<br>\n",
    "    \n",
    "<b>Ответ:</b> Зависимость есть и она ОТРИЦАТЕЛЬНАЯ.<br>\n",
    "    \n",
    "</div>"
   ]
  },
  {
   "cell_type": "markdown",
   "metadata": {},
   "source": [
    "### 3.2. Есть ли зависимость между семейным положением и возвратом кредита в срок?"
   ]
  },
  {
   "cell_type": "markdown",
   "metadata": {},
   "source": [
    "Создадим сводную таблицу <code><b>data_pivot2</b></code> для расчета % просрочки в зависимости от семейного положения"
   ]
  },
  {
   "cell_type": "markdown",
   "metadata": {},
   "source": [
    "<div style=\"border-radius: 15px; border: 3px solid indigo; padding: 15px;\">\n",
    "<code><b>data_pivot2</b></code> — сводная таблица просрочки клиентов в зависимости от семейного положения\n",
    "</div>"
   ]
  },
  {
   "cell_type": "code",
   "execution_count": 43,
   "metadata": {},
   "outputs": [
    {
     "data": {
      "text/html": [
       "<div>\n",
       "<style scoped>\n",
       "    .dataframe tbody tr th:only-of-type {\n",
       "        vertical-align: middle;\n",
       "    }\n",
       "\n",
       "    .dataframe tbody tr th {\n",
       "        vertical-align: top;\n",
       "    }\n",
       "\n",
       "    .dataframe thead th {\n",
       "        text-align: right;\n",
       "    }\n",
       "</style>\n",
       "<table border=\"1\" class=\"dataframe\">\n",
       "  <thead>\n",
       "    <tr style=\"text-align: right;\">\n",
       "      <th>family_status</th>\n",
       "      <th>Не женат / не замужем</th>\n",
       "      <th>в разводе</th>\n",
       "      <th>вдовец / вдова</th>\n",
       "      <th>гражданский брак</th>\n",
       "      <th>женат / замужем</th>\n",
       "    </tr>\n",
       "    <tr>\n",
       "      <th>debt</th>\n",
       "      <th></th>\n",
       "      <th></th>\n",
       "      <th></th>\n",
       "      <th></th>\n",
       "      <th></th>\n",
       "    </tr>\n",
       "  </thead>\n",
       "  <tbody>\n",
       "    <tr>\n",
       "      <th>0</th>\n",
       "      <td>2536</td>\n",
       "      <td>1110</td>\n",
       "      <td>896</td>\n",
       "      <td>3762</td>\n",
       "      <td>11408</td>\n",
       "    </tr>\n",
       "    <tr>\n",
       "      <th>1</th>\n",
       "      <td>274</td>\n",
       "      <td>85</td>\n",
       "      <td>63</td>\n",
       "      <td>388</td>\n",
       "      <td>931</td>\n",
       "    </tr>\n",
       "  </tbody>\n",
       "</table>\n",
       "</div>"
      ],
      "text/plain": [
       "family_status  Не женат / не замужем  в разводе  вдовец / вдова  \\\n",
       "debt                                                              \n",
       "0                               2536       1110             896   \n",
       "1                                274         85              63   \n",
       "\n",
       "family_status  гражданский брак  женат / замужем  \n",
       "debt                                              \n",
       "0                          3762            11408  \n",
       "1                           388              931  "
      ]
     },
     "metadata": {},
     "output_type": "display_data"
    }
   ],
   "source": [
    "data_pivot2 = data_project_1.pivot_table(index=['debt'], columns='family_status', values='age_group', aggfunc='count')\n",
    "display(data_pivot2)"
   ]
  },
  {
   "cell_type": "markdown",
   "metadata": {},
   "source": [
    "Пропишем формулы вычисления просрочки в зависимости от семейного положения."
   ]
  },
  {
   "cell_type": "code",
   "execution_count": 44,
   "metadata": {},
   "outputs": [
    {
     "name": "stdout",
     "output_type": "stream",
     "text": [
      "Просрочка БЕЗ УЧЁТА СЕМЕЙНОГО ПОЛОЖЕНИЯ составляет: 8.1%\n",
      "\n",
      "Просрочка С УЧЁТОМ СЕМЕЙНОГО ПОЛОЖЕНИЯ составляет:\n",
      "9.8% Не женат / не замужем\n",
      "7.1% в разводе\n",
      "6.6% вдовец / вдова\n",
      "9.3% гражданский брак\n",
      "7.5% женат / замужем\n"
     ]
    }
   ],
   "source": [
    "no_family = data_pivot2['Не женат / не замужем'][1] / data_pivot2['Не женат / не замужем'].sum()\n",
    "divorce = data_pivot2['в разводе'][1] / data_pivot2['в разводе'].sum()\n",
    "widow = data_pivot2['вдовец / вдова'][1] / data_pivot2['вдовец / вдова'].sum()\n",
    "partner = data_pivot2['гражданский брак'][1] / data_pivot2['гражданский брак'].sum()\n",
    "family = data_pivot2['женат / замужем'][1] / data_pivot2['женат / замужем'].sum()\n",
    "\n",
    "print('Просрочка БЕЗ УЧЁТА СЕМЕЙНОГО ПОЛОЖЕНИЯ составляет: {:.1%}' .format(defolt_payment['debt']))\n",
    "print()\n",
    "print('Просрочка С УЧЁТОМ СЕМЕЙНОГО ПОЛОЖЕНИЯ составляет:')\n",
    "print(\"{:.1%} Не женат / не замужем\".format(no_family))\n",
    "print(\"{:.1%} в разводе\".format(divorce))\n",
    "print(\"{:.1%} вдовец / вдова\".format(widow))\n",
    "print(\"{:.1%} гражданский брак\".format(partner))\n",
    "print(\"{:.1%} женат / замужем\".format(family))"
   ]
  },
  {
   "cell_type": "markdown",
   "metadata": {},
   "source": [
    "<div style=\"border-radius: 15px; border: 3px solid green; padding: 15px;\">\n",
    "<font color='green'><b>ВЫВОД:</b></font><br>\n",
    "Не женатые/ Не замужние или клиенты в гражданском браке, реже выплачивают кредит в срок т.к. их средний процент просрочки 9.8% и 9.3% выше среднего значения для всей выборки.\n",
    "<br>    \n",
    "\n",
    "<b>Вопрос:</b> Есть ли зависимость между семейным положением и возвратом кредита в срок?\n",
    "<br>\n",
    "    \n",
    "<b>Ответ:</b> Зависимость есть и она ПРЯМАЯ.<br>\n",
    "    \n",
    "</div>"
   ]
  },
  {
   "cell_type": "markdown",
   "metadata": {},
   "source": [
    "### 3.3. Есть ли зависимость между уровнем дохода и возвратом кредита в срок?"
   ]
  },
  {
   "cell_type": "markdown",
   "metadata": {},
   "source": [
    "Создадим сводную таблицу <code><b>data_pivot3</b></code> для расчета % просрочки в зависимости от уровня дохода."
   ]
  },
  {
   "cell_type": "markdown",
   "metadata": {},
   "source": [
    "<div style=\"border-radius: 15px; border: 3px solid indigo; padding: 15px;\">\n",
    "<code><b>data_pivot3</b></code> — сводная таблица просрочки клиентов в зависимости от уровня дохода\n",
    "</div>"
   ]
  },
  {
   "cell_type": "code",
   "execution_count": 45,
   "metadata": {},
   "outputs": [
    {
     "data": {
      "text/html": [
       "<div>\n",
       "<style scoped>\n",
       "    .dataframe tbody tr th:only-of-type {\n",
       "        vertical-align: middle;\n",
       "    }\n",
       "\n",
       "    .dataframe tbody tr th {\n",
       "        vertical-align: top;\n",
       "    }\n",
       "\n",
       "    .dataframe thead th {\n",
       "        text-align: right;\n",
       "    }\n",
       "</style>\n",
       "<table border=\"1\" class=\"dataframe\">\n",
       "  <thead>\n",
       "    <tr style=\"text-align: right;\">\n",
       "      <th>total_income_group</th>\n",
       "      <th>120K - 200K</th>\n",
       "      <th>15K - 55K</th>\n",
       "      <th>200K - 3000K</th>\n",
       "      <th>55K - 120K</th>\n",
       "    </tr>\n",
       "    <tr>\n",
       "      <th>debt</th>\n",
       "      <th></th>\n",
       "      <th></th>\n",
       "      <th></th>\n",
       "      <th></th>\n",
       "    </tr>\n",
       "  </thead>\n",
       "  <tbody>\n",
       "    <tr>\n",
       "      <th>0</th>\n",
       "      <td>8359</td>\n",
       "      <td>545</td>\n",
       "      <td>4708</td>\n",
       "      <td>6100</td>\n",
       "    </tr>\n",
       "    <tr>\n",
       "      <th>1</th>\n",
       "      <td>797</td>\n",
       "      <td>35</td>\n",
       "      <td>358</td>\n",
       "      <td>551</td>\n",
       "    </tr>\n",
       "  </tbody>\n",
       "</table>\n",
       "</div>"
      ],
      "text/plain": [
       "total_income_group  120K - 200K  15K - 55K  200K - 3000K  55K - 120K\n",
       "debt                                                                \n",
       "0                          8359        545          4708        6100\n",
       "1                           797         35           358         551"
      ]
     },
     "metadata": {},
     "output_type": "display_data"
    }
   ],
   "source": [
    "data_pivot3 = data_project_1.pivot_table(index=['debt'], columns='total_income_group', values='age_group', aggfunc='count')\n",
    "display(data_pivot3)"
   ]
  },
  {
   "cell_type": "markdown",
   "metadata": {},
   "source": [
    "Пропишем формулы вычисления просрочки в зависимости от уровня дохода."
   ]
  },
  {
   "cell_type": "code",
   "execution_count": 46,
   "metadata": {},
   "outputs": [
    {
     "name": "stdout",
     "output_type": "stream",
     "text": [
      "Просрочка БЕЗ УЧЁТА УРОВНЯ ДОХОДА составляет: 8.1%\n",
      "\n",
      "Просрочка С УЧЁТОМ УРОВНЯ ДОХОДА составляет:\n",
      "8.7% Доход 120K - 200K\n",
      "6.0% Доход 15K - 55K\n",
      "7.1% Доход 200K - 3000K\n",
      "8.3% Доход 55K - 120K\n"
     ]
    }
   ],
   "source": [
    "in1 = data_pivot3['120K - 200K'][1] / data_pivot3['120K - 200K'].sum()\n",
    "in2 = data_pivot3['15K - 55K'][1] / data_pivot3['15K - 55K'].sum()\n",
    "in3 = data_pivot3['200K - 3000K'][1] / data_pivot3['200K - 3000K'].sum()\n",
    "in4 = data_pivot3['55K - 120K'][1] / data_pivot3['55K - 120K'].sum()\n",
    "\n",
    "print('Просрочка БЕЗ УЧЁТА УРОВНЯ ДОХОДА составляет: {:.1%}' .format(defolt_payment['debt']))\n",
    "print()\n",
    "print('Просрочка С УЧЁТОМ УРОВНЯ ДОХОДА составляет:')\n",
    "print(\"{:.1%} Доход 120K - 200K\".format(in1))\n",
    "print(\"{:.1%} Доход 15K - 55K\".format(in2))\n",
    "print(\"{:.1%} Доход 200K - 3000K\".format(in3))\n",
    "print(\"{:.1%} Доход 55K - 120K\".format(in4))"
   ]
  },
  {
   "cell_type": "markdown",
   "metadata": {},
   "source": [
    "<div style=\"border-radius: 15px; border: 3px solid green; padding: 15px;\">\n",
    "<font color='green'><b>ВЫВОД:</b></font><br>\n",
    "Клиенты с малым достатком и клиенты с высокими доходами, допускают просрочки редко. В то время как клиенты с доходами (средний и выше среднего) допускают просрочку чаще среднего показателя по всей выборке.\n",
    "<br>\n",
    "    \n",
    "<b>Вопрос:</b> Есть ли зависимость между уровнем дохода и возвратом кредита в срок?\n",
    "<br>\n",
    "    \n",
    "<b>Ответ:</b> Зависимость есть.<br>\n",
    "    \n",
    "</div>"
   ]
  },
  {
   "cell_type": "markdown",
   "metadata": {},
   "source": [
    "### 3.4. Как разные цели кредита влияют на его возврат в срок?"
   ]
  },
  {
   "cell_type": "markdown",
   "metadata": {},
   "source": [
    "Создадим сводную таблицу <code><b>data_pivot4</b></code> для расчета % просрочки в зависимости от цели кредита."
   ]
  },
  {
   "cell_type": "markdown",
   "metadata": {},
   "source": [
    "<div style=\"border-radius: 15px; border: 3px solid indigo; padding: 15px;\">\n",
    "<code><b>data_pivot4</b></code> — сводная таблица просрочки клиентов в зависимости от цели кредита\n",
    "</div>"
   ]
  },
  {
   "cell_type": "code",
   "execution_count": 47,
   "metadata": {},
   "outputs": [
    {
     "data": {
      "text/html": [
       "<div>\n",
       "<style scoped>\n",
       "    .dataframe tbody tr th:only-of-type {\n",
       "        vertical-align: middle;\n",
       "    }\n",
       "\n",
       "    .dataframe tbody tr th {\n",
       "        vertical-align: top;\n",
       "    }\n",
       "\n",
       "    .dataframe thead th {\n",
       "        text-align: right;\n",
       "    }\n",
       "</style>\n",
       "<table border=\"1\" class=\"dataframe\">\n",
       "  <thead>\n",
       "    <tr style=\"text-align: right;\">\n",
       "      <th>purpose_category</th>\n",
       "      <th>авто</th>\n",
       "      <th>недвижимость</th>\n",
       "      <th>образование</th>\n",
       "      <th>свадьба</th>\n",
       "    </tr>\n",
       "    <tr>\n",
       "      <th>debt</th>\n",
       "      <th></th>\n",
       "      <th></th>\n",
       "      <th></th>\n",
       "      <th></th>\n",
       "    </tr>\n",
       "  </thead>\n",
       "  <tbody>\n",
       "    <tr>\n",
       "      <th>0</th>\n",
       "      <td>3903</td>\n",
       "      <td>10028</td>\n",
       "      <td>3643</td>\n",
       "      <td>2138</td>\n",
       "    </tr>\n",
       "    <tr>\n",
       "      <th>1</th>\n",
       "      <td>403</td>\n",
       "      <td>782</td>\n",
       "      <td>370</td>\n",
       "      <td>186</td>\n",
       "    </tr>\n",
       "  </tbody>\n",
       "</table>\n",
       "</div>"
      ],
      "text/plain": [
       "purpose_category  авто  недвижимость  образование  свадьба\n",
       "debt                                                      \n",
       "0                 3903         10028         3643     2138\n",
       "1                  403           782          370      186"
      ]
     },
     "metadata": {},
     "output_type": "display_data"
    }
   ],
   "source": [
    "data_pivot4 = data_project_1.pivot_table(index=['debt'], columns='purpose_category', values='age_group', aggfunc='count')\n",
    "display(data_pivot4)"
   ]
  },
  {
   "cell_type": "markdown",
   "metadata": {},
   "source": [
    "Пропишем формулы вычисления просрочки в зависимости от целей кредита."
   ]
  },
  {
   "cell_type": "code",
   "execution_count": 48,
   "metadata": {},
   "outputs": [
    {
     "name": "stdout",
     "output_type": "stream",
     "text": [
      "Просрочка БЕЗ УЧЁТА ЦЕЛИ КРЕДИТА составляет: 8.1%\n",
      "\n",
      "Просрочка С УЧЁТОМ ЦЕЛИ КРЕДИТА составляет:\n",
      "9.4% авто\n",
      "7.2% недвижимость\n",
      "9.2% образование\n",
      "8.0% свадьба\n"
     ]
    }
   ],
   "source": [
    "in1 = data_pivot4['авто'][1] / data_pivot4['авто'].sum()\n",
    "in2 = data_pivot4['недвижимость'][1] / data_pivot4['недвижимость'].sum()\n",
    "in3 = data_pivot4['образование'][1] / data_pivot4['образование'].sum()\n",
    "in5 = data_pivot4['свадьба'][1] / data_pivot4['свадьба'].sum()\n",
    "\n",
    "print('Просрочка БЕЗ УЧЁТА ЦЕЛИ КРЕДИТА составляет: {:.1%}' .format(defolt_payment['debt']))\n",
    "print()\n",
    "print('Просрочка С УЧЁТОМ ЦЕЛИ КРЕДИТА составляет:')\n",
    "print(\"{:.1%} авто\".format(in1))\n",
    "print(\"{:.1%} недвижимость\".format(in2))\n",
    "print(\"{:.1%} образование\".format(in3))\n",
    "print(\"{:.1%} свадьба\".format(in5))"
   ]
  },
  {
   "cell_type": "markdown",
   "metadata": {},
   "source": [
    "<div style=\"border-radius: 15px; border: 3px solid green; padding: 15px;\">\n",
    "<font color='green'><b>ВЫВОД:</b></font><br>\n",
    "Клиенты категорий - недвижимость и свадьба более ответственно подходят к вопросу просрочки. В то время как взятый в кредит на автомобиль или образование с большей вероятностью окажется в просрочке.<br>\n",
    "    \n",
    "</div>"
   ]
  },
  {
   "cell_type": "markdown",
   "metadata": {},
   "source": [
    "<hr style=\"border: 2px solid indigo;\" />"
   ]
  },
  {
   "cell_type": "markdown",
   "metadata": {},
   "source": [
    "## Шаг 4. Общий вывод"
   ]
  },
  {
   "cell_type": "markdown",
   "metadata": {},
   "source": [
    "<div style=\"border-radius: 15px; border: 3px solid green; padding: 15px;\">\n",
    "<font color='green'><b>ВЫВОД:</b></font><br>\n",
    "Главный вопрос проекта - влияет ли семейное положение и количество детей клиента на факт погашения кредита в срок?\n",
    "И чтобы на него ответить, мы прежде разобрали каждый фактор в отдельности и на сколько они влияют на факт погашения кредита.<br>\n",
    "\n",
    "Для того чтобы мы могли делать правильные выводы, нам нужен ориентир (среднее значение) показателя просрочки по всей выборке и он составляет 8,1%\n",
    "<br>\n",
    "\n",
    "Далее сравним общий % просрочки с теми просрочками которые демонстрируют различные группы клиентов под воздействием следующих факторов:\n",
    "<br>\n",
    "\n",
    "- <b>1. НАЛИЧИЕ ДЕТЕЙ</b> - на основание обработанных данных делаем вывод, что наличие детей негативно сказывается на способности клиентов погашать кредит в срок. Об этом свидетельствуют данные по просросчкам: без детей - 7,5% просрочки, 1 и 2 ребенка в семье - 9,2% и 9,5% просрочки;\n",
    "<br>\n",
    "    \n",
    "- <b>2. СЕМЕЙНОЕ ПОЛОЖЕНИЕ</b> - клиенты которые в своё время принимали отвественное решение выйти замуж / жениться относятся более ответственно и к остальным важным вопросам, таким как погашение в срок взятых на себя обязательств по кредиту. Свободные клиенты или не оформившие свои отношения официально напротив склонны совершать просрочки чаще. Женат / замужем (7,5%), в разводе (7,1%) и вдова / вдовец (6,6%) против гражданский брак (9,3%) и не женат / не замужем (9,8%);\n",
    "<br>    \n",
    "    \n",
    "- <b>3. УРОВЕНЬ ДОХОДА</b> - клиенты с очень маленьким или очень большим доходом в среднем совершают реже просрочки нежели клиент со средним доходом;\n",
    "<br>\n",
    "\n",
    "- <b>4. ЦЕЛИ КРЕДИТА</b> - мы выделили 4 основных целей кредита и снова пришли к выводу, что клиенты \"семейные\" оформляя на себя такие кредиты как недвижимость и свадьба гораздо реже совершают просроку нежели клиенты целью которых является оформление в кредит автомобиля (для себя) или образования (тоже для себя).\n",
    "<br>\n",
    "\n",
    "Главный вывод по главному вопросу это ДА, семейное положение НАПРЯМУЮ влияет на процент просрочки и ДА наличие детей к сожалению это процент только увеличивает. Важно заложить эти параметры в скоринговую модель и проставить соответствующие понижающие / повышающие скоринговые баллы в зависимости от семейного положения и наличия детей.<br>\n",
    "    \n",
    "</div>"
   ]
  }
 ],
 "metadata": {
  "ExecuteTimeLog": [
   {
    "duration": 2906,
    "start_time": "2021-07-07T14:13:42.329Z"
   },
   {
    "duration": 2154,
    "start_time": "2021-07-07T14:16:03.399Z"
   },
   {
    "duration": 326,
    "start_time": "2021-07-07T14:18:49.570Z"
   },
   {
    "duration": 98,
    "start_time": "2021-07-07T14:20:55.212Z"
   },
   {
    "duration": 3036,
    "start_time": "2021-07-07T14:21:04.941Z"
   },
   {
    "duration": 136,
    "start_time": "2021-07-07T14:21:14.305Z"
   },
   {
    "duration": 91,
    "start_time": "2021-07-07T14:25:36.525Z"
   },
   {
    "duration": 94,
    "start_time": "2021-07-07T14:45:50.396Z"
   },
   {
    "duration": 8,
    "start_time": "2021-07-07T15:18:28.723Z"
   },
   {
    "duration": 75,
    "start_time": "2021-07-07T15:25:14.582Z"
   },
   {
    "duration": 6,
    "start_time": "2021-07-07T15:25:14.680Z"
   },
   {
    "duration": 79,
    "start_time": "2021-07-07T15:27:49.457Z"
   },
   {
    "duration": 71,
    "start_time": "2021-07-07T15:28:17.510Z"
   },
   {
    "duration": 80,
    "start_time": "2021-07-07T15:32:12.164Z"
   },
   {
    "duration": 68,
    "start_time": "2021-07-07T15:32:30.716Z"
   },
   {
    "duration": 69,
    "start_time": "2021-07-07T15:32:44.242Z"
   },
   {
    "duration": 6,
    "start_time": "2021-07-07T15:32:44.313Z"
   },
   {
    "duration": 58,
    "start_time": "2021-07-07T15:33:10.592Z"
   },
   {
    "duration": 69,
    "start_time": "2021-07-07T15:34:25.406Z"
   },
   {
    "duration": 505,
    "start_time": "2021-07-07T15:35:09.605Z"
   },
   {
    "duration": 326,
    "start_time": "2021-07-07T15:36:19.021Z"
   },
   {
    "duration": 334,
    "start_time": "2021-07-07T15:36:23.934Z"
   },
   {
    "duration": 381,
    "start_time": "2021-07-07T15:52:35.101Z"
   },
   {
    "duration": 327,
    "start_time": "2021-07-07T15:52:40.354Z"
   },
   {
    "duration": 441,
    "start_time": "2021-07-07T15:52:40.243Z"
   },
   {
    "duration": 76,
    "start_time": "2021-07-07T15:53:00.144Z"
   },
   {
    "duration": 872,
    "start_time": "2021-07-08T09:49:59.661Z"
   },
   {
    "duration": 89,
    "start_time": "2021-07-08T09:50:34.924Z"
   },
   {
    "duration": 79,
    "start_time": "2021-07-08T10:02:04.445Z"
   },
   {
    "duration": 82,
    "start_time": "2021-07-08T10:03:43.101Z"
   },
   {
    "duration": 80,
    "start_time": "2021-07-08T10:04:03.200Z"
   },
   {
    "duration": 106,
    "start_time": "2021-07-08T10:07:18.578Z"
   },
   {
    "duration": 99,
    "start_time": "2021-07-08T10:07:55.279Z"
   },
   {
    "duration": 100,
    "start_time": "2021-07-08T10:08:40.168Z"
   },
   {
    "duration": 77,
    "start_time": "2021-07-08T10:18:09.596Z"
   },
   {
    "duration": 93,
    "start_time": "2021-07-08T10:21:14.151Z"
   },
   {
    "duration": 93,
    "start_time": "2021-07-08T10:24:01.996Z"
   },
   {
    "duration": 81,
    "start_time": "2021-07-08T10:25:38.597Z"
   },
   {
    "duration": 73,
    "start_time": "2021-07-08T10:33:25.042Z"
   },
   {
    "duration": 96,
    "start_time": "2021-07-08T10:36:03.076Z"
   },
   {
    "duration": 72,
    "start_time": "2021-07-08T10:36:56.967Z"
   },
   {
    "duration": 87,
    "start_time": "2021-07-08T10:37:45.512Z"
   },
   {
    "duration": 69,
    "start_time": "2021-07-08T10:40:34.180Z"
   },
   {
    "duration": 92,
    "start_time": "2021-07-08T10:41:26.085Z"
   },
   {
    "duration": 96,
    "start_time": "2021-07-08T10:43:01.702Z"
   },
   {
    "duration": 70,
    "start_time": "2021-07-08T10:43:43.379Z"
   },
   {
    "duration": 98,
    "start_time": "2021-07-08T10:44:24.143Z"
   },
   {
    "duration": 79,
    "start_time": "2021-07-08T10:45:40.369Z"
   },
   {
    "duration": 81,
    "start_time": "2021-07-08T10:46:11.050Z"
   },
   {
    "duration": 92,
    "start_time": "2021-07-08T10:58:52.581Z"
   },
   {
    "duration": 82,
    "start_time": "2021-07-08T11:06:46.164Z"
   },
   {
    "duration": 175,
    "start_time": "2021-07-08T11:15:21.672Z"
   },
   {
    "duration": 81,
    "start_time": "2021-07-08T11:46:03.088Z"
   },
   {
    "duration": 30,
    "start_time": "2021-07-08T12:06:24.057Z"
   },
   {
    "duration": 25,
    "start_time": "2021-07-08T12:07:23.981Z"
   },
   {
    "duration": 28,
    "start_time": "2021-07-08T12:08:09.138Z"
   },
   {
    "duration": 92,
    "start_time": "2021-07-08T12:12:54.400Z"
   },
   {
    "duration": 450,
    "start_time": "2021-07-08T12:13:05.689Z"
   },
   {
    "duration": 276,
    "start_time": "2021-07-08T12:13:54.100Z"
   },
   {
    "duration": 24,
    "start_time": "2021-07-08T12:23:09.837Z"
   },
   {
    "duration": 35,
    "start_time": "2021-07-08T12:23:39.831Z"
   },
   {
    "duration": 26,
    "start_time": "2021-07-08T12:23:49.776Z"
   },
   {
    "duration": 50,
    "start_time": "2021-07-08T12:24:13.722Z"
   },
   {
    "duration": 41,
    "start_time": "2021-07-08T12:25:16.695Z"
   },
   {
    "duration": 51,
    "start_time": "2021-07-08T12:25:40.313Z"
   },
   {
    "duration": 58,
    "start_time": "2021-07-08T12:25:51.147Z"
   },
   {
    "duration": 37,
    "start_time": "2021-07-08T12:26:43.481Z"
   },
   {
    "duration": 15,
    "start_time": "2021-07-08T12:26:54.739Z"
   },
   {
    "duration": 41,
    "start_time": "2021-07-08T12:27:01.121Z"
   },
   {
    "duration": 17,
    "start_time": "2021-07-08T12:27:50.070Z"
   },
   {
    "duration": 17,
    "start_time": "2021-07-08T12:28:09.082Z"
   },
   {
    "duration": 13,
    "start_time": "2021-07-08T12:28:19.295Z"
   },
   {
    "duration": 89,
    "start_time": "2021-07-08T12:28:54.388Z"
   },
   {
    "duration": 24,
    "start_time": "2021-07-08T12:28:54.678Z"
   },
   {
    "duration": 60,
    "start_time": "2021-07-08T12:29:36.855Z"
   },
   {
    "duration": 33,
    "start_time": "2021-07-08T12:32:43.660Z"
   },
   {
    "duration": 12,
    "start_time": "2021-07-08T12:36:28.865Z"
   },
   {
    "duration": 11,
    "start_time": "2021-07-08T12:41:19.632Z"
   },
   {
    "duration": 21,
    "start_time": "2021-07-08T12:42:37.783Z"
   },
   {
    "duration": 87,
    "start_time": "2021-07-08T12:42:47.778Z"
   },
   {
    "duration": 87,
    "start_time": "2021-07-08T12:42:47.869Z"
   },
   {
    "duration": 92,
    "start_time": "2021-07-08T13:20:53.328Z"
   },
   {
    "duration": 74,
    "start_time": "2021-07-08T13:20:53.422Z"
   },
   {
    "duration": 25,
    "start_time": "2021-07-08T13:28:34.583Z"
   },
   {
    "duration": 21,
    "start_time": "2021-07-08T13:30:51.713Z"
   },
   {
    "duration": 27,
    "start_time": "2021-07-08T13:33:34.685Z"
   },
   {
    "duration": 93,
    "start_time": "2021-07-08T13:33:42.798Z"
   },
   {
    "duration": 23,
    "start_time": "2021-07-08T13:33:42.893Z"
   },
   {
    "duration": 46,
    "start_time": "2021-07-08T13:35:14.846Z"
   },
   {
    "duration": 15,
    "start_time": "2021-07-08T13:35:22.704Z"
   },
   {
    "duration": 297,
    "start_time": "2021-07-08T13:35:29.957Z"
   },
   {
    "duration": 22,
    "start_time": "2021-07-08T13:35:30.266Z"
   },
   {
    "duration": 25,
    "start_time": "2021-07-08T13:37:15.982Z"
   },
   {
    "duration": 85,
    "start_time": "2021-07-08T14:39:05.724Z"
   },
   {
    "duration": 87,
    "start_time": "2021-07-08T14:39:31.793Z"
   },
   {
    "duration": 117,
    "start_time": "2021-07-08T14:46:01.926Z"
   },
   {
    "duration": 155,
    "start_time": "2021-07-08T14:47:00.216Z"
   },
   {
    "duration": 87,
    "start_time": "2021-07-08T14:47:53.214Z"
   },
   {
    "duration": 77,
    "start_time": "2021-07-08T14:49:20.782Z"
   },
   {
    "duration": 120,
    "start_time": "2021-07-08T14:49:42.640Z"
   },
   {
    "duration": 335,
    "start_time": "2021-07-08T14:50:23.099Z"
   },
   {
    "duration": 78,
    "start_time": "2021-07-08T14:50:31.927Z"
   },
   {
    "duration": 70,
    "start_time": "2021-07-08T14:52:34.537Z"
   },
   {
    "duration": 83,
    "start_time": "2021-07-08T14:52:45.808Z"
   },
   {
    "duration": 140,
    "start_time": "2021-07-08T14:53:53.775Z"
   },
   {
    "duration": 82,
    "start_time": "2021-07-08T15:00:33.035Z"
   },
   {
    "duration": 304,
    "start_time": "2021-07-08T15:49:28.202Z"
   },
   {
    "duration": 339,
    "start_time": "2021-07-08T15:49:35.346Z"
   },
   {
    "duration": 21,
    "start_time": "2021-07-08T15:49:36.022Z"
   },
   {
    "duration": 80,
    "start_time": "2021-07-08T15:59:41.433Z"
   },
   {
    "duration": 75,
    "start_time": "2021-07-08T16:02:01.096Z"
   },
   {
    "duration": 97,
    "start_time": "2021-07-08T16:02:20.131Z"
   },
   {
    "duration": 70,
    "start_time": "2021-07-08T16:02:50.967Z"
   },
   {
    "duration": 160,
    "start_time": "2021-07-08T16:03:05.025Z"
   },
   {
    "duration": 73,
    "start_time": "2021-07-08T16:03:16.484Z"
   },
   {
    "duration": 82,
    "start_time": "2021-07-08T16:06:21.167Z"
   },
   {
    "duration": 71,
    "start_time": "2021-07-08T16:12:03.278Z"
   },
   {
    "duration": 68,
    "start_time": "2021-07-08T16:12:44.099Z"
   },
   {
    "duration": 80,
    "start_time": "2021-07-08T16:13:52.166Z"
   },
   {
    "duration": 70,
    "start_time": "2021-07-08T16:14:07.841Z"
   },
   {
    "duration": 42,
    "start_time": "2021-07-08T16:14:07.914Z"
   },
   {
    "duration": 90,
    "start_time": "2021-07-08T16:14:53.308Z"
   },
   {
    "duration": 108,
    "start_time": "2021-07-08T16:15:03.483Z"
   },
   {
    "duration": 20,
    "start_time": "2021-07-08T16:15:03.595Z"
   },
   {
    "duration": 80,
    "start_time": "2021-07-08T16:15:18.871Z"
   },
   {
    "duration": 30,
    "start_time": "2021-07-08T16:15:18.954Z"
   },
   {
    "duration": 895,
    "start_time": "2021-07-08T19:58:38.447Z"
   },
   {
    "duration": 76,
    "start_time": "2021-07-08T19:58:56.280Z"
   },
   {
    "duration": 74,
    "start_time": "2021-07-08T19:59:10.921Z"
   },
   {
    "duration": 23,
    "start_time": "2021-07-08T19:59:10.998Z"
   },
   {
    "duration": 68,
    "start_time": "2021-07-08T19:59:45.068Z"
   },
   {
    "duration": 90,
    "start_time": "2021-07-08T20:00:14.359Z"
   },
   {
    "duration": 850,
    "start_time": "2021-07-08T20:02:15.087Z"
   },
   {
    "duration": 301,
    "start_time": "2021-07-08T20:02:59.878Z"
   },
   {
    "duration": 261,
    "start_time": "2021-07-08T20:02:59.919Z"
   },
   {
    "duration": 8104,
    "start_time": "2021-07-08T20:03:50.061Z"
   },
   {
    "duration": 72,
    "start_time": "2021-07-08T20:04:03.943Z"
   },
   {
    "duration": 83,
    "start_time": "2021-07-08T20:05:05.033Z"
   },
   {
    "duration": 95,
    "start_time": "2021-07-08T20:21:13.962Z"
   },
   {
    "duration": 103,
    "start_time": "2021-07-08T20:22:47.110Z"
   },
   {
    "duration": 98,
    "start_time": "2021-07-08T20:28:40.413Z"
   },
   {
    "duration": 97,
    "start_time": "2021-07-08T22:11:16.438Z"
   },
   {
    "duration": 22,
    "start_time": "2021-07-08T22:11:16.538Z"
   },
   {
    "duration": 118,
    "start_time": "2021-07-09T09:40:47.463Z"
   },
   {
    "duration": 122,
    "start_time": "2021-07-09T09:46:38.163Z"
   },
   {
    "duration": 123,
    "start_time": "2021-07-09T09:46:54.769Z"
   },
   {
    "duration": 1604,
    "start_time": "2021-07-09T09:47:05.787Z"
   },
   {
    "duration": 80,
    "start_time": "2021-07-09T09:50:15.890Z"
   },
   {
    "duration": 148,
    "start_time": "2021-07-09T09:52:25.266Z"
   },
   {
    "duration": 68,
    "start_time": "2021-07-09T09:53:54.174Z"
   },
   {
    "duration": 26,
    "start_time": "2021-07-09T10:18:07.503Z"
   },
   {
    "duration": 55,
    "start_time": "2021-07-09T10:19:23.097Z"
   },
   {
    "duration": 62,
    "start_time": "2021-07-09T10:19:51.531Z"
   },
   {
    "duration": 49,
    "start_time": "2021-07-09T10:20:10.653Z"
   },
   {
    "duration": 93,
    "start_time": "2021-07-09T10:21:04.814Z"
   },
   {
    "duration": 65,
    "start_time": "2021-07-09T10:21:09.959Z"
   },
   {
    "duration": 88,
    "start_time": "2021-07-09T10:21:10.073Z"
   },
   {
    "duration": 152,
    "start_time": "2021-07-09T10:28:22.666Z"
   },
   {
    "duration": 97,
    "start_time": "2021-07-09T10:28:22.821Z"
   },
   {
    "duration": 154,
    "start_time": "2021-07-09T10:29:00.797Z"
   },
   {
    "duration": 156,
    "start_time": "2021-07-09T10:29:21.575Z"
   },
   {
    "duration": 160,
    "start_time": "2021-07-09T10:29:35.879Z"
   },
   {
    "duration": 175,
    "start_time": "2021-07-09T10:30:16.552Z"
   },
   {
    "duration": 162,
    "start_time": "2021-07-09T10:30:38.227Z"
   },
   {
    "duration": 166,
    "start_time": "2021-07-09T10:30:45.525Z"
   },
   {
    "duration": 94,
    "start_time": "2021-07-09T10:30:45.693Z"
   },
   {
    "duration": 79,
    "start_time": "2021-07-09T10:31:44.616Z"
   },
   {
    "duration": 87,
    "start_time": "2021-07-09T10:31:44.697Z"
   },
   {
    "duration": 74,
    "start_time": "2021-07-09T10:32:11.921Z"
   },
   {
    "duration": 72,
    "start_time": "2021-07-09T10:32:22.353Z"
   },
   {
    "duration": 75,
    "start_time": "2021-07-09T10:32:44.064Z"
   },
   {
    "duration": 3,
    "start_time": "2021-07-09T10:40:06.087Z"
   },
   {
    "duration": 308,
    "start_time": "2021-07-09T11:18:51.736Z"
   },
   {
    "duration": 9,
    "start_time": "2021-07-09T11:21:13.687Z"
   },
   {
    "duration": 191,
    "start_time": "2021-07-09T11:21:19.303Z"
   },
   {
    "duration": 9,
    "start_time": "2021-07-09T11:21:19.496Z"
   },
   {
    "duration": 10,
    "start_time": "2021-07-09T11:22:48.407Z"
   },
   {
    "duration": 72,
    "start_time": "2021-07-09T11:27:28.259Z"
   },
   {
    "duration": 417,
    "start_time": "2021-07-09T11:28:06.101Z"
   },
   {
    "duration": 72,
    "start_time": "2021-07-09T11:28:28.444Z"
   },
   {
    "duration": 402,
    "start_time": "2021-07-09T11:29:06.238Z"
   },
   {
    "duration": 378,
    "start_time": "2021-07-09T11:29:24.428Z"
   },
   {
    "duration": 73,
    "start_time": "2021-07-09T11:29:31.298Z"
   },
   {
    "duration": 410,
    "start_time": "2021-07-09T11:29:41.428Z"
   },
   {
    "duration": 84,
    "start_time": "2021-07-09T11:32:26.964Z"
   },
   {
    "duration": 101,
    "start_time": "2021-07-09T11:32:47.729Z"
   },
   {
    "duration": 82,
    "start_time": "2021-07-09T11:33:13.216Z"
   },
   {
    "duration": 15,
    "start_time": "2021-07-09T11:37:10.237Z"
   },
   {
    "duration": 16,
    "start_time": "2021-07-09T11:37:47.528Z"
   },
   {
    "duration": 10,
    "start_time": "2021-07-09T11:38:08.680Z"
   },
   {
    "duration": 23,
    "start_time": "2021-07-09T11:42:23.120Z"
   },
   {
    "duration": 27,
    "start_time": "2021-07-09T11:43:03.640Z"
   },
   {
    "duration": 47,
    "start_time": "2021-07-09T11:53:44.486Z"
   },
   {
    "duration": 38,
    "start_time": "2021-07-09T11:54:00.827Z"
   },
   {
    "duration": 66,
    "start_time": "2021-07-09T11:58:52.828Z"
   },
   {
    "duration": 37,
    "start_time": "2021-07-09T11:58:52.939Z"
   },
   {
    "duration": 40,
    "start_time": "2021-07-09T11:59:20.152Z"
   },
   {
    "duration": 119,
    "start_time": "2021-07-09T12:06:59.201Z"
   },
   {
    "duration": 106,
    "start_time": "2021-07-09T12:07:36.129Z"
   },
   {
    "duration": 77,
    "start_time": "2021-07-09T12:08:23.706Z"
   },
   {
    "duration": 72,
    "start_time": "2021-07-09T12:09:00.213Z"
   },
   {
    "duration": 76,
    "start_time": "2021-07-09T12:09:11.228Z"
   },
   {
    "duration": 73,
    "start_time": "2021-07-09T12:09:23.425Z"
   },
   {
    "duration": 65,
    "start_time": "2021-07-09T12:10:47.462Z"
   },
   {
    "duration": 39,
    "start_time": "2021-07-09T12:12:28.431Z"
   },
   {
    "duration": 41,
    "start_time": "2021-07-09T12:14:27.591Z"
   },
   {
    "duration": 86,
    "start_time": "2021-07-09T12:17:44.597Z"
   },
   {
    "duration": 84,
    "start_time": "2021-07-09T12:18:04.123Z"
   },
   {
    "duration": 69,
    "start_time": "2021-07-09T12:18:51.611Z"
   },
   {
    "duration": 96,
    "start_time": "2021-07-09T12:19:23.379Z"
   },
   {
    "duration": 62,
    "start_time": "2021-07-09T12:19:23.479Z"
   },
   {
    "duration": 66,
    "start_time": "2021-07-09T12:20:56.825Z"
   },
   {
    "duration": 109,
    "start_time": "2021-07-09T12:21:24.492Z"
   },
   {
    "duration": 150,
    "start_time": "2021-07-09T12:21:42.771Z"
   },
   {
    "duration": 143,
    "start_time": "2021-07-09T12:22:05.774Z"
   },
   {
    "duration": 147,
    "start_time": "2021-07-09T12:24:18.634Z"
   },
   {
    "duration": 172,
    "start_time": "2021-07-09T12:24:32.829Z"
   },
   {
    "duration": 135,
    "start_time": "2021-07-09T12:25:38.952Z"
   },
   {
    "duration": 416,
    "start_time": "2021-07-09T12:28:46.605Z"
   },
   {
    "duration": 819,
    "start_time": "2021-07-09T12:32:13.026Z"
   },
   {
    "duration": 997,
    "start_time": "2021-07-09T12:32:59.464Z"
   },
   {
    "duration": 428,
    "start_time": "2021-07-09T12:40:28.179Z"
   },
   {
    "duration": 415,
    "start_time": "2021-07-09T12:42:06.454Z"
   },
   {
    "duration": 415,
    "start_time": "2021-07-09T12:42:21.915Z"
   },
   {
    "duration": 65,
    "start_time": "2021-07-09T12:42:41.623Z"
   },
   {
    "duration": 418,
    "start_time": "2021-07-09T12:42:41.723Z"
   },
   {
    "duration": 65,
    "start_time": "2021-07-09T12:43:33.360Z"
   },
   {
    "duration": 444,
    "start_time": "2021-07-09T12:43:33.428Z"
   },
   {
    "duration": 66,
    "start_time": "2021-07-09T12:43:52.129Z"
   },
   {
    "duration": 409,
    "start_time": "2021-07-09T12:43:52.198Z"
   },
   {
    "duration": 404,
    "start_time": "2021-07-09T12:46:07.919Z"
   },
   {
    "duration": 477,
    "start_time": "2021-07-09T12:49:41.726Z"
   },
   {
    "duration": 444,
    "start_time": "2021-07-09T13:09:09.704Z"
   },
   {
    "duration": 422,
    "start_time": "2021-07-09T13:09:29.592Z"
   },
   {
    "duration": 65,
    "start_time": "2021-07-09T13:16:49.579Z"
   },
   {
    "duration": 426,
    "start_time": "2021-07-09T13:16:49.646Z"
   },
   {
    "duration": 1034,
    "start_time": "2021-07-09T13:26:50.564Z"
   },
   {
    "duration": 558,
    "start_time": "2021-07-09T13:27:04.083Z"
   },
   {
    "duration": 77,
    "start_time": "2021-07-09T13:27:18.850Z"
   },
   {
    "duration": 478,
    "start_time": "2021-07-09T13:27:18.930Z"
   },
   {
    "duration": 418,
    "start_time": "2021-07-09T13:28:20.300Z"
   },
   {
    "duration": 408,
    "start_time": "2021-07-09T13:29:32.314Z"
   },
   {
    "duration": 410,
    "start_time": "2021-07-09T13:33:59.144Z"
   },
   {
    "duration": 542,
    "start_time": "2021-07-09T13:35:15.833Z"
   },
   {
    "duration": 484,
    "start_time": "2021-07-09T13:36:38.259Z"
   },
   {
    "duration": 66,
    "start_time": "2021-07-09T13:38:20.225Z"
   },
   {
    "duration": 410,
    "start_time": "2021-07-09T13:38:20.325Z"
   },
   {
    "duration": 432,
    "start_time": "2021-07-09T15:47:06.521Z"
   },
   {
    "duration": 426,
    "start_time": "2021-07-09T15:47:26.159Z"
   },
   {
    "duration": 403,
    "start_time": "2021-07-09T15:50:56.080Z"
   },
   {
    "duration": 428,
    "start_time": "2021-07-09T15:51:12.240Z"
   },
   {
    "duration": 415,
    "start_time": "2021-07-09T15:52:50.648Z"
   },
   {
    "duration": 401,
    "start_time": "2021-07-09T15:54:14.932Z"
   },
   {
    "duration": 413,
    "start_time": "2021-07-09T15:54:38.092Z"
   },
   {
    "duration": 434,
    "start_time": "2021-07-09T15:57:24.345Z"
   },
   {
    "duration": 463,
    "start_time": "2021-07-09T15:58:53.510Z"
   },
   {
    "duration": 515,
    "start_time": "2021-07-09T16:01:56.327Z"
   },
   {
    "duration": 463,
    "start_time": "2021-07-09T16:02:07.998Z"
   },
   {
    "duration": 463,
    "start_time": "2021-07-09T16:03:34.206Z"
   },
   {
    "duration": 429,
    "start_time": "2021-07-09T16:03:56.431Z"
   },
   {
    "duration": 471,
    "start_time": "2021-07-09T16:04:04.443Z"
   },
   {
    "duration": 468,
    "start_time": "2021-07-09T16:04:15.359Z"
   },
   {
    "duration": 479,
    "start_time": "2021-07-09T16:27:28.290Z"
   },
   {
    "duration": 479,
    "start_time": "2021-07-09T16:35:52.691Z"
   },
   {
    "duration": 448,
    "start_time": "2021-07-09T16:37:06.906Z"
   },
   {
    "duration": 454,
    "start_time": "2021-07-09T16:37:23.393Z"
   },
   {
    "duration": 64,
    "start_time": "2021-07-09T16:37:29.504Z"
   },
   {
    "duration": 438,
    "start_time": "2021-07-09T16:37:29.571Z"
   },
   {
    "duration": 487,
    "start_time": "2021-07-09T16:37:30.013Z"
   },
   {
    "duration": 71,
    "start_time": "2021-07-09T16:37:59.773Z"
   },
   {
    "duration": 434,
    "start_time": "2021-07-09T16:37:59.847Z"
   },
   {
    "duration": 500,
    "start_time": "2021-07-09T16:38:00.285Z"
   },
   {
    "duration": 466,
    "start_time": "2021-07-09T16:38:37.115Z"
   },
   {
    "duration": 535,
    "start_time": "2021-07-09T16:39:00.499Z"
   },
   {
    "duration": 489,
    "start_time": "2021-07-09T16:39:18.218Z"
   },
   {
    "duration": 485,
    "start_time": "2021-07-09T16:50:26.038Z"
   },
   {
    "duration": 514,
    "start_time": "2021-07-09T16:51:25.065Z"
   },
   {
    "duration": 787,
    "start_time": "2021-07-09T16:53:42.052Z"
   },
   {
    "duration": 896,
    "start_time": "2021-07-09T16:53:59.325Z"
   },
   {
    "duration": 452,
    "start_time": "2021-07-09T19:07:44.183Z"
   },
   {
    "duration": 448,
    "start_time": "2021-07-09T19:08:59.631Z"
   },
   {
    "duration": 426,
    "start_time": "2021-07-09T19:12:02.430Z"
   },
   {
    "duration": 460,
    "start_time": "2021-07-09T19:13:12.438Z"
   },
   {
    "duration": 68,
    "start_time": "2021-07-09T19:13:17.134Z"
   },
   {
    "duration": 407,
    "start_time": "2021-07-09T19:13:17.204Z"
   },
   {
    "duration": 884,
    "start_time": "2021-07-09T19:13:17.613Z"
   },
   {
    "duration": 473,
    "start_time": "2021-07-09T19:13:18.500Z"
   },
   {
    "duration": 492,
    "start_time": "2021-07-09T19:13:38.952Z"
   },
   {
    "duration": 436,
    "start_time": "2021-07-09T19:18:36.632Z"
   },
   {
    "duration": 136,
    "start_time": "2021-07-09T19:18:40.749Z"
   },
   {
    "duration": 402,
    "start_time": "2021-07-09T19:18:40.887Z"
   },
   {
    "duration": 925,
    "start_time": "2021-07-09T19:18:41.292Z"
   },
   {
    "duration": 437,
    "start_time": "2021-07-09T19:18:42.220Z"
   },
   {
    "duration": 459,
    "start_time": "2021-07-09T19:20:21.545Z"
   },
   {
    "duration": 451,
    "start_time": "2021-07-09T19:22:54.952Z"
   },
   {
    "duration": 451,
    "start_time": "2021-07-09T19:30:49.469Z"
   },
   {
    "duration": 438,
    "start_time": "2021-07-09T19:33:10.929Z"
   },
   {
    "duration": 447,
    "start_time": "2021-07-09T19:34:23.088Z"
   },
   {
    "duration": 1704,
    "start_time": "2021-07-09T20:08:29.915Z"
   },
   {
    "duration": 1709,
    "start_time": "2021-07-09T20:08:39.613Z"
   },
   {
    "duration": 68,
    "start_time": "2021-07-09T20:09:08.671Z"
   },
   {
    "duration": 1790,
    "start_time": "2021-07-09T20:09:08.742Z"
   },
   {
    "duration": 314,
    "start_time": "2021-07-09T20:09:10.534Z"
   },
   {
    "duration": 915,
    "start_time": "2021-07-09T20:09:09.936Z"
   },
   {
    "duration": 38,
    "start_time": "2021-07-09T20:10:26.101Z"
   },
   {
    "duration": 1896,
    "start_time": "2021-07-09T20:16:30.146Z"
   },
   {
    "duration": 1676,
    "start_time": "2021-07-09T20:18:54.211Z"
   },
   {
    "duration": 1681,
    "start_time": "2021-07-09T20:19:31.458Z"
   },
   {
    "duration": 1886,
    "start_time": "2021-07-09T20:20:18.944Z"
   },
   {
    "duration": 1547,
    "start_time": "2021-07-09T20:20:33.367Z"
   },
   {
    "duration": 1766,
    "start_time": "2021-07-09T20:20:34.916Z"
   },
   {
    "duration": 39,
    "start_time": "2021-07-09T20:20:36.684Z"
   },
   {
    "duration": 74,
    "start_time": "2021-07-09T20:20:36.726Z"
   },
   {
    "duration": 33,
    "start_time": "2021-07-09T20:30:29.020Z"
   },
   {
    "duration": 68,
    "start_time": "2021-07-09T20:30:34.557Z"
   },
   {
    "duration": 1740,
    "start_time": "2021-07-09T20:30:34.628Z"
   },
   {
    "duration": 37,
    "start_time": "2021-07-09T20:30:36.372Z"
   },
   {
    "duration": 72,
    "start_time": "2021-07-09T20:30:36.412Z"
   },
   {
    "duration": 4743,
    "start_time": "2021-07-09T20:35:17.799Z"
   },
   {
    "duration": 105,
    "start_time": "2021-07-09T20:41:23.217Z"
   },
   {
    "duration": 1827,
    "start_time": "2021-07-09T20:41:23.325Z"
   },
   {
    "duration": 46,
    "start_time": "2021-07-09T20:41:25.155Z"
   },
   {
    "duration": 65,
    "start_time": "2021-07-09T20:41:25.204Z"
   },
   {
    "duration": 4579,
    "start_time": "2021-07-09T20:41:25.272Z"
   },
   {
    "duration": 64,
    "start_time": "2021-07-09T20:41:29.853Z"
   },
   {
    "duration": 53,
    "start_time": "2021-07-09T20:50:18.235Z"
   },
   {
    "duration": 27,
    "start_time": "2021-07-09T20:50:32.566Z"
   },
   {
    "duration": 28,
    "start_time": "2021-07-09T20:50:52.878Z"
   },
   {
    "duration": 275,
    "start_time": "2021-07-10T12:20:29.783Z"
   },
   {
    "duration": 655,
    "start_time": "2021-07-10T12:21:43.323Z"
   },
   {
    "duration": 896,
    "start_time": "2021-07-10T12:21:43.980Z"
   },
   {
    "duration": 23,
    "start_time": "2021-07-10T12:21:44.878Z"
   },
   {
    "duration": 30,
    "start_time": "2021-07-10T12:21:44.903Z"
   },
   {
    "duration": 3442,
    "start_time": "2021-07-10T12:21:44.934Z"
   },
   {
    "duration": 36,
    "start_time": "2021-07-10T12:21:48.378Z"
   },
   {
    "duration": 61,
    "start_time": "2021-07-10T12:22:13.175Z"
   },
   {
    "duration": 913,
    "start_time": "2021-07-10T12:22:13.238Z"
   },
   {
    "duration": 18,
    "start_time": "2021-07-10T12:22:14.153Z"
   },
   {
    "duration": 41,
    "start_time": "2021-07-10T12:22:14.173Z"
   },
   {
    "duration": 3351,
    "start_time": "2021-07-10T12:22:14.216Z"
   },
   {
    "duration": 28,
    "start_time": "2021-07-10T12:22:17.569Z"
   },
   {
    "duration": 16,
    "start_time": "2021-07-10T12:22:49.381Z"
   },
   {
    "duration": 25,
    "start_time": "2021-07-10T12:23:55.766Z"
   },
   {
    "duration": 12,
    "start_time": "2021-07-10T12:26:39.330Z"
   },
   {
    "duration": 19,
    "start_time": "2021-07-10T12:29:22.065Z"
   },
   {
    "duration": 17,
    "start_time": "2021-07-10T12:30:55.045Z"
   },
   {
    "duration": 16,
    "start_time": "2021-07-10T12:31:03.285Z"
   },
   {
    "duration": 16,
    "start_time": "2021-07-10T12:32:31.209Z"
   },
   {
    "duration": 83,
    "start_time": "2021-07-10T12:34:02.883Z"
   },
   {
    "duration": 17,
    "start_time": "2021-07-10T12:34:12.535Z"
   },
   {
    "duration": 16,
    "start_time": "2021-07-10T12:34:33.110Z"
   },
   {
    "duration": 17,
    "start_time": "2021-07-10T12:35:45.791Z"
   },
   {
    "duration": 27,
    "start_time": "2021-07-10T12:38:39.191Z"
   },
   {
    "duration": 9,
    "start_time": "2021-07-10T12:40:56.238Z"
   },
   {
    "duration": 20,
    "start_time": "2021-07-10T12:42:03.329Z"
   },
   {
    "duration": 21,
    "start_time": "2021-07-10T12:43:52.126Z"
   },
   {
    "duration": 18,
    "start_time": "2021-07-10T12:46:18.611Z"
   },
   {
    "duration": 22,
    "start_time": "2021-07-10T12:49:37.645Z"
   },
   {
    "duration": 20,
    "start_time": "2021-07-10T12:51:51.651Z"
   },
   {
    "duration": 22,
    "start_time": "2021-07-10T12:52:10.870Z"
   },
   {
    "duration": 62,
    "start_time": "2021-07-10T12:52:28.876Z"
   },
   {
    "duration": 883,
    "start_time": "2021-07-10T12:52:28.940Z"
   },
   {
    "duration": 19,
    "start_time": "2021-07-10T12:52:29.825Z"
   },
   {
    "duration": 45,
    "start_time": "2021-07-10T12:52:29.846Z"
   },
   {
    "duration": 3242,
    "start_time": "2021-07-10T12:52:29.893Z"
   },
   {
    "duration": 26,
    "start_time": "2021-07-10T12:52:33.137Z"
   },
   {
    "duration": 42,
    "start_time": "2021-07-10T12:52:33.165Z"
   },
   {
    "duration": 65,
    "start_time": "2021-07-10T12:52:48.775Z"
   },
   {
    "duration": 887,
    "start_time": "2021-07-10T12:52:48.841Z"
   },
   {
    "duration": 20,
    "start_time": "2021-07-10T12:52:49.729Z"
   },
   {
    "duration": 44,
    "start_time": "2021-07-10T12:52:49.750Z"
   },
   {
    "duration": 3279,
    "start_time": "2021-07-10T12:52:49.795Z"
   },
   {
    "duration": 40,
    "start_time": "2021-07-10T12:52:53.076Z"
   },
   {
    "duration": 271,
    "start_time": "2021-07-10T12:52:53.117Z"
   },
   {
    "duration": 65,
    "start_time": "2021-07-10T12:53:21.661Z"
   },
   {
    "duration": 958,
    "start_time": "2021-07-10T12:53:21.728Z"
   },
   {
    "duration": 19,
    "start_time": "2021-07-10T12:53:22.688Z"
   },
   {
    "duration": 31,
    "start_time": "2021-07-10T12:53:22.709Z"
   },
   {
    "duration": 3163,
    "start_time": "2021-07-10T12:53:22.741Z"
   },
   {
    "duration": 26,
    "start_time": "2021-07-10T12:53:25.906Z"
   },
   {
    "duration": 26,
    "start_time": "2021-07-10T12:53:25.934Z"
   },
   {
    "duration": 21,
    "start_time": "2021-07-10T12:54:02.175Z"
   },
   {
    "duration": 18,
    "start_time": "2021-07-10T13:02:52.263Z"
   },
   {
    "duration": 17,
    "start_time": "2021-07-10T13:03:46.897Z"
   },
   {
    "duration": 18,
    "start_time": "2021-07-10T13:03:56.932Z"
   },
   {
    "duration": 20,
    "start_time": "2021-07-10T13:04:54.886Z"
   },
   {
    "duration": 18,
    "start_time": "2021-07-10T13:05:06.275Z"
   },
   {
    "duration": 19,
    "start_time": "2021-07-10T13:05:15.791Z"
   },
   {
    "duration": 19,
    "start_time": "2021-07-10T13:05:29.073Z"
   },
   {
    "duration": 20,
    "start_time": "2021-07-10T13:05:50.016Z"
   },
   {
    "duration": 22,
    "start_time": "2021-07-10T13:08:32.200Z"
   },
   {
    "duration": 67,
    "start_time": "2021-07-10T13:09:04.938Z"
   },
   {
    "duration": 899,
    "start_time": "2021-07-10T13:09:05.007Z"
   },
   {
    "duration": 21,
    "start_time": "2021-07-10T13:09:05.908Z"
   },
   {
    "duration": 33,
    "start_time": "2021-07-10T13:09:05.931Z"
   },
   {
    "duration": 3156,
    "start_time": "2021-07-10T13:09:05.965Z"
   },
   {
    "duration": 27,
    "start_time": "2021-07-10T13:09:09.123Z"
   },
   {
    "duration": 42,
    "start_time": "2021-07-10T13:09:09.152Z"
   },
   {
    "duration": 24,
    "start_time": "2021-07-10T13:10:06.106Z"
   },
   {
    "duration": 18,
    "start_time": "2021-07-10T13:23:18.215Z"
   },
   {
    "duration": 19,
    "start_time": "2021-07-10T13:23:31.098Z"
   },
   {
    "duration": 19,
    "start_time": "2021-07-10T13:24:00.401Z"
   },
   {
    "duration": 19,
    "start_time": "2021-07-10T13:24:57.952Z"
   },
   {
    "duration": 21,
    "start_time": "2021-07-10T13:33:16.524Z"
   },
   {
    "duration": 21,
    "start_time": "2021-07-10T13:34:17.805Z"
   },
   {
    "duration": 22,
    "start_time": "2021-07-10T13:37:03.613Z"
   },
   {
    "duration": 424,
    "start_time": "2021-07-10T21:26:27.071Z"
   },
   {
    "duration": 331,
    "start_time": "2021-07-10T21:27:13.992Z"
   },
   {
    "duration": 986,
    "start_time": "2021-07-10T21:29:16.794Z"
   },
   {
    "duration": 1709,
    "start_time": "2021-07-10T21:29:17.782Z"
   },
   {
    "duration": 50,
    "start_time": "2021-07-10T21:29:19.494Z"
   },
   {
    "duration": 75,
    "start_time": "2021-07-10T21:29:19.548Z"
   },
   {
    "duration": 4658,
    "start_time": "2021-07-10T21:29:19.626Z"
   },
   {
    "duration": 58,
    "start_time": "2021-07-10T21:29:24.286Z"
   },
   {
    "duration": 64,
    "start_time": "2021-07-10T21:29:24.347Z"
   },
   {
    "duration": 31,
    "start_time": "2021-07-10T21:29:24.416Z"
   },
   {
    "duration": 45,
    "start_time": "2021-07-10T21:39:00.504Z"
   },
   {
    "duration": 93,
    "start_time": "2021-07-10T21:41:45.583Z"
   },
   {
    "duration": 1771,
    "start_time": "2021-07-10T21:41:45.679Z"
   },
   {
    "duration": 62,
    "start_time": "2021-07-10T21:41:47.454Z"
   },
   {
    "duration": 53,
    "start_time": "2021-07-10T21:41:47.520Z"
   },
   {
    "duration": 4733,
    "start_time": "2021-07-10T21:41:47.576Z"
   },
   {
    "duration": 50,
    "start_time": "2021-07-10T21:41:52.312Z"
   },
   {
    "duration": 76,
    "start_time": "2021-07-10T21:41:52.364Z"
   },
   {
    "duration": 429,
    "start_time": "2021-07-10T21:41:52.443Z"
   },
   {
    "duration": 28,
    "start_time": "2021-07-10T21:42:14.318Z"
   },
   {
    "duration": 26,
    "start_time": "2021-07-10T21:44:04.676Z"
   },
   {
    "duration": 29,
    "start_time": "2021-07-10T21:50:05.617Z"
   },
   {
    "duration": 31,
    "start_time": "2021-07-10T21:53:07.763Z"
   },
   {
    "duration": 32,
    "start_time": "2021-07-10T21:55:11.678Z"
   },
   {
    "duration": 98,
    "start_time": "2021-07-10T21:55:56.989Z"
   },
   {
    "duration": 1745,
    "start_time": "2021-07-10T21:55:57.090Z"
   },
   {
    "duration": 41,
    "start_time": "2021-07-10T21:55:58.838Z"
   },
   {
    "duration": 72,
    "start_time": "2021-07-10T21:55:58.882Z"
   },
   {
    "duration": 5531,
    "start_time": "2021-07-10T21:55:58.957Z"
   },
   {
    "duration": 103,
    "start_time": "2021-07-10T21:56:04.491Z"
   },
   {
    "duration": 68,
    "start_time": "2021-07-10T21:56:04.597Z"
   },
   {
    "duration": 63,
    "start_time": "2021-07-10T21:56:04.669Z"
   },
   {
    "duration": 97,
    "start_time": "2021-07-10T22:02:52.983Z"
   },
   {
    "duration": 1621,
    "start_time": "2021-07-10T22:02:53.082Z"
   },
   {
    "duration": 34,
    "start_time": "2021-07-10T22:02:54.709Z"
   },
   {
    "duration": 74,
    "start_time": "2021-07-10T22:02:54.746Z"
   },
   {
    "duration": 4815,
    "start_time": "2021-07-10T22:02:54.823Z"
   },
   {
    "duration": 69,
    "start_time": "2021-07-10T22:02:59.640Z"
   },
   {
    "duration": 49,
    "start_time": "2021-07-10T22:02:59.712Z"
   },
   {
    "duration": 68,
    "start_time": "2021-07-10T22:02:59.766Z"
   },
   {
    "duration": 378,
    "start_time": "2021-07-10T22:02:59.837Z"
   },
   {
    "duration": 25,
    "start_time": "2021-07-10T22:05:23.027Z"
   },
   {
    "duration": 97,
    "start_time": "2021-07-10T22:05:42.312Z"
   },
   {
    "duration": 1800,
    "start_time": "2021-07-10T22:05:42.412Z"
   },
   {
    "duration": 35,
    "start_time": "2021-07-10T22:05:44.215Z"
   },
   {
    "duration": 72,
    "start_time": "2021-07-10T22:05:44.253Z"
   },
   {
    "duration": 4456,
    "start_time": "2021-07-10T22:05:44.327Z"
   },
   {
    "duration": 71,
    "start_time": "2021-07-10T22:05:48.786Z"
   },
   {
    "duration": 71,
    "start_time": "2021-07-10T22:05:48.860Z"
   },
   {
    "duration": 32,
    "start_time": "2021-07-10T22:05:48.935Z"
   },
   {
    "duration": 57,
    "start_time": "2021-07-10T22:05:48.970Z"
   },
   {
    "duration": 24,
    "start_time": "2021-07-10T22:12:45.353Z"
   },
   {
    "duration": 26,
    "start_time": "2021-07-10T22:13:44.800Z"
   },
   {
    "duration": 26,
    "start_time": "2021-07-10T22:14:40.863Z"
   },
   {
    "duration": 27,
    "start_time": "2021-07-10T22:15:49.422Z"
   },
   {
    "duration": 29,
    "start_time": "2021-07-10T22:16:30.491Z"
   },
   {
    "duration": 103,
    "start_time": "2021-07-10T22:26:32.922Z"
   },
   {
    "duration": 1799,
    "start_time": "2021-07-10T22:26:33.028Z"
   },
   {
    "duration": 39,
    "start_time": "2021-07-10T22:26:34.831Z"
   },
   {
    "duration": 82,
    "start_time": "2021-07-10T22:26:34.874Z"
   },
   {
    "duration": 4697,
    "start_time": "2021-07-10T22:26:34.959Z"
   },
   {
    "duration": 69,
    "start_time": "2021-07-10T22:26:39.658Z"
   },
   {
    "duration": 45,
    "start_time": "2021-07-10T22:26:39.731Z"
   },
   {
    "duration": 54,
    "start_time": "2021-07-10T22:26:39.779Z"
   },
   {
    "duration": 28,
    "start_time": "2021-07-10T22:26:39.835Z"
   },
   {
    "duration": 64,
    "start_time": "2021-07-10T22:26:39.865Z"
   },
   {
    "duration": 29,
    "start_time": "2021-07-10T22:27:04.320Z"
   },
   {
    "duration": 109,
    "start_time": "2021-07-10T22:36:21.587Z"
   },
   {
    "duration": 1852,
    "start_time": "2021-07-10T22:36:21.698Z"
   },
   {
    "duration": 37,
    "start_time": "2021-07-10T22:36:23.553Z"
   },
   {
    "duration": 63,
    "start_time": "2021-07-10T22:36:23.592Z"
   },
   {
    "duration": 5118,
    "start_time": "2021-07-10T22:36:23.657Z"
   },
   {
    "duration": 77,
    "start_time": "2021-07-10T22:36:28.778Z"
   },
   {
    "duration": 74,
    "start_time": "2021-07-10T22:36:28.859Z"
   },
   {
    "duration": 32,
    "start_time": "2021-07-10T22:36:28.938Z"
   },
   {
    "duration": 49,
    "start_time": "2021-07-10T22:36:28.974Z"
   },
   {
    "duration": 29,
    "start_time": "2021-07-10T22:36:29.026Z"
   },
   {
    "duration": 646,
    "start_time": "2021-07-11T02:20:44.668Z"
   },
   {
    "duration": 907,
    "start_time": "2021-07-11T02:20:45.316Z"
   },
   {
    "duration": 25,
    "start_time": "2021-07-11T02:20:46.225Z"
   },
   {
    "duration": 32,
    "start_time": "2021-07-11T02:20:46.252Z"
   },
   {
    "duration": 3355,
    "start_time": "2021-07-11T02:20:46.286Z"
   },
   {
    "duration": 32,
    "start_time": "2021-07-11T02:20:49.642Z"
   },
   {
    "duration": 33,
    "start_time": "2021-07-11T02:20:49.676Z"
   },
   {
    "duration": 39,
    "start_time": "2021-07-11T02:20:49.711Z"
   },
   {
    "duration": 17,
    "start_time": "2021-07-11T02:20:49.752Z"
   },
   {
    "duration": 19,
    "start_time": "2021-07-11T02:20:49.771Z"
   },
   {
    "duration": 13,
    "start_time": "2021-07-11T02:29:58.723Z"
   },
   {
    "duration": 1262,
    "start_time": "2021-07-11T15:21:26.152Z"
   },
   {
    "duration": 94,
    "start_time": "2021-07-11T15:21:47.755Z"
   },
   {
    "duration": 62,
    "start_time": "2021-07-11T15:23:26.246Z"
   },
   {
    "duration": 273,
    "start_time": "2021-07-11T15:24:51.667Z"
   },
   {
    "duration": 58,
    "start_time": "2021-07-11T15:25:13.218Z"
   },
   {
    "duration": 18,
    "start_time": "2021-07-11T15:29:58.633Z"
   },
   {
    "duration": 13,
    "start_time": "2021-07-11T15:30:44.182Z"
   },
   {
    "duration": 85,
    "start_time": "2021-07-11T15:31:15.121Z"
   },
   {
    "duration": 15,
    "start_time": "2021-07-11T15:32:30.633Z"
   },
   {
    "duration": 23,
    "start_time": "2021-07-11T15:36:59.067Z"
   },
   {
    "duration": 18,
    "start_time": "2021-07-11T15:37:51.524Z"
   },
   {
    "duration": 74,
    "start_time": "2021-07-11T15:43:58.873Z"
   },
   {
    "duration": 7,
    "start_time": "2021-07-11T15:51:31.960Z"
   },
   {
    "duration": 8,
    "start_time": "2021-07-11T15:53:18.085Z"
   },
   {
    "duration": 7,
    "start_time": "2021-07-11T15:54:04.583Z"
   },
   {
    "duration": 27,
    "start_time": "2021-07-11T15:54:49.653Z"
   },
   {
    "duration": 65,
    "start_time": "2021-07-11T15:55:01.759Z"
   },
   {
    "duration": 29,
    "start_time": "2021-07-11T15:55:01.827Z"
   },
   {
    "duration": 20,
    "start_time": "2021-07-11T15:55:01.860Z"
   },
   {
    "duration": 17,
    "start_time": "2021-07-11T15:55:01.884Z"
   },
   {
    "duration": 6,
    "start_time": "2021-07-11T15:55:01.903Z"
   },
   {
    "duration": 50,
    "start_time": "2021-07-11T15:55:01.912Z"
   },
   {
    "duration": 10,
    "start_time": "2021-07-11T15:55:01.964Z"
   },
   {
    "duration": 18,
    "start_time": "2021-07-11T15:55:01.978Z"
   },
   {
    "duration": 16,
    "start_time": "2021-07-11T15:55:01.999Z"
   },
   {
    "duration": 15,
    "start_time": "2021-07-11T15:55:02.017Z"
   },
   {
    "duration": 1863,
    "start_time": "2021-07-11T15:55:02.035Z"
   },
   {
    "duration": 38,
    "start_time": "2021-07-11T15:55:03.900Z"
   },
   {
    "duration": 61,
    "start_time": "2021-07-11T15:55:03.956Z"
   },
   {
    "duration": 4792,
    "start_time": "2021-07-11T15:55:04.020Z"
   },
   {
    "duration": 87,
    "start_time": "2021-07-11T15:55:08.815Z"
   },
   {
    "duration": 71,
    "start_time": "2021-07-11T15:55:08.906Z"
   },
   {
    "duration": 32,
    "start_time": "2021-07-11T15:55:08.981Z"
   },
   {
    "duration": 59,
    "start_time": "2021-07-11T15:55:09.016Z"
   },
   {
    "duration": 29,
    "start_time": "2021-07-11T15:55:09.078Z"
   },
   {
    "duration": 66,
    "start_time": "2021-07-11T15:55:53.698Z"
   },
   {
    "duration": 8,
    "start_time": "2021-07-11T15:56:48.950Z"
   },
   {
    "duration": 17,
    "start_time": "2021-07-11T15:57:25.670Z"
   },
   {
    "duration": 29,
    "start_time": "2021-07-11T15:58:11.365Z"
   },
   {
    "duration": 114,
    "start_time": "2021-07-11T15:58:34.400Z"
   },
   {
    "duration": 84,
    "start_time": "2021-07-11T15:58:34.517Z"
   },
   {
    "duration": 20,
    "start_time": "2021-07-11T15:58:34.605Z"
   },
   {
    "duration": 24,
    "start_time": "2021-07-11T15:58:34.657Z"
   },
   {
    "duration": 8,
    "start_time": "2021-07-11T15:58:34.684Z"
   },
   {
    "duration": 23,
    "start_time": "2021-07-11T15:58:34.695Z"
   },
   {
    "duration": 41,
    "start_time": "2021-07-11T15:58:34.720Z"
   },
   {
    "duration": 5,
    "start_time": "2021-07-11T15:58:34.766Z"
   },
   {
    "duration": 8,
    "start_time": "2021-07-11T15:58:34.775Z"
   },
   {
    "duration": 12,
    "start_time": "2021-07-11T15:58:34.786Z"
   },
   {
    "duration": 1851,
    "start_time": "2021-07-11T15:58:34.801Z"
   },
   {
    "duration": 40,
    "start_time": "2021-07-11T15:58:36.656Z"
   },
   {
    "duration": 76,
    "start_time": "2021-07-11T15:58:36.699Z"
   },
   {
    "duration": 4988,
    "start_time": "2021-07-11T15:58:36.778Z"
   },
   {
    "duration": 56,
    "start_time": "2021-07-11T15:58:41.769Z"
   },
   {
    "duration": 66,
    "start_time": "2021-07-11T15:58:41.827Z"
   },
   {
    "duration": 27,
    "start_time": "2021-07-11T15:58:41.895Z"
   },
   {
    "duration": 59,
    "start_time": "2021-07-11T15:58:41.924Z"
   },
   {
    "duration": 33,
    "start_time": "2021-07-11T15:58:41.986Z"
   },
   {
    "duration": 22,
    "start_time": "2021-07-11T16:00:41.279Z"
   },
   {
    "duration": 22,
    "start_time": "2021-07-11T16:05:13.395Z"
   },
   {
    "duration": 93,
    "start_time": "2021-07-11T16:05:22.821Z"
   },
   {
    "duration": 66,
    "start_time": "2021-07-11T16:05:22.916Z"
   },
   {
    "duration": 14,
    "start_time": "2021-07-11T16:05:22.985Z"
   },
   {
    "duration": 16,
    "start_time": "2021-07-11T16:05:23.001Z"
   },
   {
    "duration": 47,
    "start_time": "2021-07-11T16:05:23.019Z"
   },
   {
    "duration": 25,
    "start_time": "2021-07-11T16:05:23.069Z"
   },
   {
    "duration": 6,
    "start_time": "2021-07-11T16:05:23.097Z"
   },
   {
    "duration": 49,
    "start_time": "2021-07-11T16:05:23.107Z"
   },
   {
    "duration": 3,
    "start_time": "2021-07-11T16:05:23.160Z"
   },
   {
    "duration": 7,
    "start_time": "2021-07-11T16:05:23.166Z"
   },
   {
    "duration": 1741,
    "start_time": "2021-07-11T16:05:23.177Z"
   },
   {
    "duration": 55,
    "start_time": "2021-07-11T16:05:24.920Z"
   },
   {
    "duration": 47,
    "start_time": "2021-07-11T16:05:24.977Z"
   },
   {
    "duration": 4617,
    "start_time": "2021-07-11T16:05:25.026Z"
   },
   {
    "duration": 70,
    "start_time": "2021-07-11T16:05:29.645Z"
   },
   {
    "duration": 84,
    "start_time": "2021-07-11T16:05:29.717Z"
   },
   {
    "duration": 69,
    "start_time": "2021-07-11T16:05:29.804Z"
   },
   {
    "duration": 71,
    "start_time": "2021-07-11T16:05:29.878Z"
   },
   {
    "duration": 73,
    "start_time": "2021-07-11T16:05:29.967Z"
   },
   {
    "duration": 36,
    "start_time": "2021-07-11T16:08:07.331Z"
   },
   {
    "duration": 96,
    "start_time": "2021-07-11T16:08:14.142Z"
   },
   {
    "duration": 58,
    "start_time": "2021-07-11T16:08:14.241Z"
   },
   {
    "duration": 14,
    "start_time": "2021-07-11T16:08:14.302Z"
   },
   {
    "duration": 21,
    "start_time": "2021-07-11T16:08:14.361Z"
   },
   {
    "duration": 5,
    "start_time": "2021-07-11T16:08:14.385Z"
   },
   {
    "duration": 70,
    "start_time": "2021-07-11T16:08:14.393Z"
   },
   {
    "duration": 10,
    "start_time": "2021-07-11T16:08:14.466Z"
   },
   {
    "duration": 4,
    "start_time": "2021-07-11T16:08:14.480Z"
   },
   {
    "duration": 5,
    "start_time": "2021-07-11T16:08:14.487Z"
   },
   {
    "duration": 9,
    "start_time": "2021-07-11T16:08:14.494Z"
   },
   {
    "duration": 1800,
    "start_time": "2021-07-11T16:08:14.505Z"
   },
   {
    "duration": 52,
    "start_time": "2021-07-11T16:08:16.308Z"
   },
   {
    "duration": 52,
    "start_time": "2021-07-11T16:08:16.363Z"
   },
   {
    "duration": 5111,
    "start_time": "2021-07-11T16:08:16.417Z"
   },
   {
    "duration": 71,
    "start_time": "2021-07-11T16:08:21.532Z"
   },
   {
    "duration": 63,
    "start_time": "2021-07-11T16:08:21.606Z"
   },
   {
    "duration": 30,
    "start_time": "2021-07-11T16:08:21.672Z"
   },
   {
    "duration": 57,
    "start_time": "2021-07-11T16:08:21.704Z"
   },
   {
    "duration": 33,
    "start_time": "2021-07-11T16:08:21.767Z"
   },
   {
    "duration": 52,
    "start_time": "2021-07-11T16:08:53.869Z"
   },
   {
    "duration": 94,
    "start_time": "2021-07-11T16:09:05.741Z"
   },
   {
    "duration": 73,
    "start_time": "2021-07-11T16:09:05.838Z"
   },
   {
    "duration": 46,
    "start_time": "2021-07-11T16:09:05.914Z"
   },
   {
    "duration": 24,
    "start_time": "2021-07-11T16:09:05.964Z"
   },
   {
    "duration": 6,
    "start_time": "2021-07-11T16:09:05.990Z"
   },
   {
    "duration": 85,
    "start_time": "2021-07-11T16:09:05.998Z"
   },
   {
    "duration": 6,
    "start_time": "2021-07-11T16:09:06.085Z"
   },
   {
    "duration": 9,
    "start_time": "2021-07-11T16:09:06.095Z"
   },
   {
    "duration": 9,
    "start_time": "2021-07-11T16:09:06.106Z"
   },
   {
    "duration": 19,
    "start_time": "2021-07-11T16:09:06.117Z"
   },
   {
    "duration": 1862,
    "start_time": "2021-07-11T16:09:06.163Z"
   },
   {
    "duration": 52,
    "start_time": "2021-07-11T16:09:08.028Z"
   },
   {
    "duration": 76,
    "start_time": "2021-07-11T16:09:08.083Z"
   },
   {
    "duration": 4678,
    "start_time": "2021-07-11T16:09:08.162Z"
   },
   {
    "duration": 82,
    "start_time": "2021-07-11T16:09:12.843Z"
   },
   {
    "duration": 55,
    "start_time": "2021-07-11T16:09:12.928Z"
   },
   {
    "duration": 32,
    "start_time": "2021-07-11T16:09:12.985Z"
   },
   {
    "duration": 52,
    "start_time": "2021-07-11T16:09:13.020Z"
   },
   {
    "duration": 31,
    "start_time": "2021-07-11T16:09:13.075Z"
   },
   {
    "duration": 54,
    "start_time": "2021-07-11T16:16:55.490Z"
   },
   {
    "duration": 98,
    "start_time": "2021-07-11T16:17:13.010Z"
   },
   {
    "duration": 72,
    "start_time": "2021-07-11T16:17:13.111Z"
   },
   {
    "duration": 14,
    "start_time": "2021-07-11T16:17:13.186Z"
   },
   {
    "duration": 16,
    "start_time": "2021-07-11T16:17:13.203Z"
   },
   {
    "duration": 52,
    "start_time": "2021-07-11T16:17:13.221Z"
   },
   {
    "duration": 39,
    "start_time": "2021-07-11T16:17:13.275Z"
   },
   {
    "duration": 6,
    "start_time": "2021-07-11T16:17:13.317Z"
   },
   {
    "duration": 4,
    "start_time": "2021-07-11T16:17:13.366Z"
   },
   {
    "duration": 7,
    "start_time": "2021-07-11T16:17:13.373Z"
   },
   {
    "duration": 6,
    "start_time": "2021-07-11T16:17:13.383Z"
   },
   {
    "duration": 1791,
    "start_time": "2021-07-11T16:17:13.393Z"
   },
   {
    "duration": 34,
    "start_time": "2021-07-11T16:17:15.186Z"
   },
   {
    "duration": 74,
    "start_time": "2021-07-11T16:17:15.222Z"
   },
   {
    "duration": 4795,
    "start_time": "2021-07-11T16:17:15.299Z"
   },
   {
    "duration": 70,
    "start_time": "2021-07-11T16:17:20.097Z"
   },
   {
    "duration": 45,
    "start_time": "2021-07-11T16:17:20.171Z"
   },
   {
    "duration": 57,
    "start_time": "2021-07-11T16:17:20.219Z"
   },
   {
    "duration": 28,
    "start_time": "2021-07-11T16:17:20.284Z"
   },
   {
    "duration": 58,
    "start_time": "2021-07-11T16:17:20.315Z"
   },
   {
    "duration": 356,
    "start_time": "2021-07-11T22:28:32.749Z"
   },
   {
    "duration": 945,
    "start_time": "2021-07-11T22:28:39.183Z"
   },
   {
    "duration": 61,
    "start_time": "2021-07-11T22:28:40.131Z"
   },
   {
    "duration": 17,
    "start_time": "2021-07-11T22:28:40.196Z"
   },
   {
    "duration": 58,
    "start_time": "2021-07-11T22:28:40.216Z"
   },
   {
    "duration": 5,
    "start_time": "2021-07-11T22:28:40.277Z"
   },
   {
    "duration": 83,
    "start_time": "2021-07-11T22:28:40.284Z"
   },
   {
    "duration": 6,
    "start_time": "2021-07-11T22:28:40.369Z"
   },
   {
    "duration": 6,
    "start_time": "2021-07-11T22:28:40.379Z"
   },
   {
    "duration": 9,
    "start_time": "2021-07-11T22:28:40.388Z"
   },
   {
    "duration": 10,
    "start_time": "2021-07-11T22:28:40.399Z"
   },
   {
    "duration": 9,
    "start_time": "2021-07-11T22:28:40.411Z"
   },
   {
    "duration": 1775,
    "start_time": "2021-07-11T22:28:40.423Z"
   },
   {
    "duration": 38,
    "start_time": "2021-07-11T22:28:42.200Z"
   },
   {
    "duration": 67,
    "start_time": "2021-07-11T22:28:42.240Z"
   },
   {
    "duration": 5589,
    "start_time": "2021-07-11T22:28:42.309Z"
   },
   {
    "duration": 72,
    "start_time": "2021-07-11T22:28:47.900Z"
   },
   {
    "duration": 43,
    "start_time": "2021-07-11T22:28:47.974Z"
   },
   {
    "duration": 57,
    "start_time": "2021-07-11T22:28:48.020Z"
   },
   {
    "duration": 30,
    "start_time": "2021-07-11T22:28:48.080Z"
   },
   {
    "duration": 61,
    "start_time": "2021-07-11T22:28:48.113Z"
   },
   {
    "duration": 16,
    "start_time": "2021-07-11T22:30:00.846Z"
   },
   {
    "duration": 88,
    "start_time": "2021-07-11T22:30:08.036Z"
   },
   {
    "duration": 59,
    "start_time": "2021-07-11T22:30:08.127Z"
   },
   {
    "duration": 15,
    "start_time": "2021-07-11T22:30:08.189Z"
   },
   {
    "duration": 17,
    "start_time": "2021-07-11T22:30:08.207Z"
   },
   {
    "duration": 5,
    "start_time": "2021-07-11T22:30:08.263Z"
   },
   {
    "duration": 41,
    "start_time": "2021-07-11T22:30:08.271Z"
   },
   {
    "duration": 73,
    "start_time": "2021-07-11T22:30:08.314Z"
   },
   {
    "duration": 5,
    "start_time": "2021-07-11T22:30:08.392Z"
   },
   {
    "duration": 10,
    "start_time": "2021-07-11T22:30:08.400Z"
   },
   {
    "duration": 9,
    "start_time": "2021-07-11T22:30:08.413Z"
   },
   {
    "duration": 9,
    "start_time": "2021-07-11T22:30:08.424Z"
   },
   {
    "duration": 1803,
    "start_time": "2021-07-11T22:30:08.436Z"
   },
   {
    "duration": 50,
    "start_time": "2021-07-11T22:30:10.241Z"
   },
   {
    "duration": 68,
    "start_time": "2021-07-11T22:30:10.294Z"
   },
   {
    "duration": 5040,
    "start_time": "2021-07-11T22:30:10.364Z"
   },
   {
    "duration": 71,
    "start_time": "2021-07-11T22:30:15.407Z"
   },
   {
    "duration": 42,
    "start_time": "2021-07-11T22:30:15.480Z"
   },
   {
    "duration": 58,
    "start_time": "2021-07-11T22:30:15.524Z"
   },
   {
    "duration": 29,
    "start_time": "2021-07-11T22:30:15.585Z"
   },
   {
    "duration": 64,
    "start_time": "2021-07-11T22:30:15.617Z"
   },
   {
    "duration": 12,
    "start_time": "2021-07-11T22:31:04.627Z"
   },
   {
    "duration": 13,
    "start_time": "2021-07-11T22:31:20.026Z"
   },
   {
    "duration": 98,
    "start_time": "2021-07-11T22:32:04.105Z"
   },
   {
    "duration": 74,
    "start_time": "2021-07-11T22:32:04.206Z"
   },
   {
    "duration": 14,
    "start_time": "2021-07-11T22:32:04.283Z"
   },
   {
    "duration": 18,
    "start_time": "2021-07-11T22:32:04.300Z"
   },
   {
    "duration": 44,
    "start_time": "2021-07-11T22:32:04.320Z"
   },
   {
    "duration": 42,
    "start_time": "2021-07-11T22:32:04.366Z"
   },
   {
    "duration": 61,
    "start_time": "2021-07-11T22:32:04.411Z"
   },
   {
    "duration": 5,
    "start_time": "2021-07-11T22:32:04.476Z"
   },
   {
    "duration": 9,
    "start_time": "2021-07-11T22:32:04.484Z"
   },
   {
    "duration": 7,
    "start_time": "2021-07-11T22:32:04.495Z"
   },
   {
    "duration": 5,
    "start_time": "2021-07-11T22:32:04.505Z"
   },
   {
    "duration": 1721,
    "start_time": "2021-07-11T22:32:04.512Z"
   },
   {
    "duration": 48,
    "start_time": "2021-07-11T22:32:06.235Z"
   },
   {
    "duration": 50,
    "start_time": "2021-07-11T22:32:06.285Z"
   },
   {
    "duration": 4829,
    "start_time": "2021-07-11T22:32:06.338Z"
   },
   {
    "duration": 58,
    "start_time": "2021-07-11T22:32:11.171Z"
   },
   {
    "duration": 68,
    "start_time": "2021-07-11T22:32:11.231Z"
   },
   {
    "duration": 31,
    "start_time": "2021-07-11T22:32:11.301Z"
   },
   {
    "duration": 53,
    "start_time": "2021-07-11T22:32:11.334Z"
   },
   {
    "duration": 44,
    "start_time": "2021-07-11T22:32:11.391Z"
   },
   {
    "duration": 14,
    "start_time": "2021-07-11T22:32:51.058Z"
   },
   {
    "duration": 91,
    "start_time": "2021-07-11T22:32:59.073Z"
   },
   {
    "duration": 54,
    "start_time": "2021-07-11T22:32:59.167Z"
   },
   {
    "duration": 43,
    "start_time": "2021-07-11T22:32:59.224Z"
   },
   {
    "duration": 18,
    "start_time": "2021-07-11T22:32:59.270Z"
   },
   {
    "duration": 5,
    "start_time": "2021-07-11T22:32:59.290Z"
   },
   {
    "duration": 80,
    "start_time": "2021-07-11T22:32:59.298Z"
   },
   {
    "duration": 9,
    "start_time": "2021-07-11T22:32:59.380Z"
   },
   {
    "duration": 5,
    "start_time": "2021-07-11T22:32:59.393Z"
   },
   {
    "duration": 8,
    "start_time": "2021-07-11T22:32:59.401Z"
   },
   {
    "duration": 8,
    "start_time": "2021-07-11T22:32:59.412Z"
   },
   {
    "duration": 41,
    "start_time": "2021-07-11T22:32:59.422Z"
   },
   {
    "duration": 1727,
    "start_time": "2021-07-11T22:32:59.466Z"
   },
   {
    "duration": 38,
    "start_time": "2021-07-11T22:33:01.195Z"
   },
   {
    "duration": 76,
    "start_time": "2021-07-11T22:33:01.235Z"
   },
   {
    "duration": 4677,
    "start_time": "2021-07-11T22:33:01.314Z"
   },
   {
    "duration": 70,
    "start_time": "2021-07-11T22:33:05.994Z"
   },
   {
    "duration": 43,
    "start_time": "2021-07-11T22:33:06.066Z"
   },
   {
    "duration": 67,
    "start_time": "2021-07-11T22:33:06.112Z"
   },
   {
    "duration": 29,
    "start_time": "2021-07-11T22:33:06.182Z"
   },
   {
    "duration": 59,
    "start_time": "2021-07-11T22:33:06.213Z"
   },
   {
    "duration": 94,
    "start_time": "2021-07-11T22:37:08.661Z"
   },
   {
    "duration": 51,
    "start_time": "2021-07-11T22:37:08.762Z"
   },
   {
    "duration": 46,
    "start_time": "2021-07-11T22:37:08.816Z"
   },
   {
    "duration": 17,
    "start_time": "2021-07-11T22:37:08.865Z"
   },
   {
    "duration": 5,
    "start_time": "2021-07-11T22:37:08.885Z"
   },
   {
    "duration": 83,
    "start_time": "2021-07-11T22:37:08.892Z"
   },
   {
    "duration": 9,
    "start_time": "2021-07-11T22:37:08.977Z"
   },
   {
    "duration": 5,
    "start_time": "2021-07-11T22:37:08.990Z"
   },
   {
    "duration": 8,
    "start_time": "2021-07-11T22:37:08.998Z"
   },
   {
    "duration": 7,
    "start_time": "2021-07-11T22:37:09.009Z"
   },
   {
    "duration": 6,
    "start_time": "2021-07-11T22:37:09.018Z"
   },
   {
    "duration": 1862,
    "start_time": "2021-07-11T22:37:09.026Z"
   },
   {
    "duration": 36,
    "start_time": "2021-07-11T22:37:10.890Z"
   },
   {
    "duration": 76,
    "start_time": "2021-07-11T22:37:10.929Z"
   },
   {
    "duration": 4754,
    "start_time": "2021-07-11T22:37:11.008Z"
   },
   {
    "duration": 60,
    "start_time": "2021-07-11T22:37:15.764Z"
   },
   {
    "duration": 66,
    "start_time": "2021-07-11T22:37:15.826Z"
   },
   {
    "duration": 31,
    "start_time": "2021-07-11T22:37:15.894Z"
   },
   {
    "duration": 54,
    "start_time": "2021-07-11T22:37:15.928Z"
   },
   {
    "duration": 30,
    "start_time": "2021-07-11T22:37:15.984Z"
   },
   {
    "duration": 11,
    "start_time": "2021-07-11T22:43:04.471Z"
   },
   {
    "duration": 95,
    "start_time": "2021-07-11T22:43:15.991Z"
   },
   {
    "duration": 75,
    "start_time": "2021-07-11T22:43:16.089Z"
   },
   {
    "duration": 16,
    "start_time": "2021-07-11T22:43:16.167Z"
   },
   {
    "duration": 19,
    "start_time": "2021-07-11T22:43:16.186Z"
   },
   {
    "duration": 6,
    "start_time": "2021-07-11T22:43:16.207Z"
   },
   {
    "duration": 82,
    "start_time": "2021-07-11T22:43:16.215Z"
   },
   {
    "duration": 11,
    "start_time": "2021-07-11T22:43:16.299Z"
   },
   {
    "duration": 47,
    "start_time": "2021-07-11T22:43:16.314Z"
   },
   {
    "duration": 4,
    "start_time": "2021-07-11T22:43:16.364Z"
   },
   {
    "duration": 8,
    "start_time": "2021-07-11T22:43:16.370Z"
   },
   {
    "duration": 6,
    "start_time": "2021-07-11T22:43:16.381Z"
   },
   {
    "duration": 1743,
    "start_time": "2021-07-11T22:43:16.390Z"
   },
   {
    "duration": 49,
    "start_time": "2021-07-11T22:43:18.136Z"
   },
   {
    "duration": 49,
    "start_time": "2021-07-11T22:43:18.188Z"
   },
   {
    "duration": 5175,
    "start_time": "2021-07-11T22:43:18.239Z"
   },
   {
    "duration": 74,
    "start_time": "2021-07-11T22:43:23.416Z"
   },
   {
    "duration": 44,
    "start_time": "2021-07-11T22:43:23.493Z"
   },
   {
    "duration": 30,
    "start_time": "2021-07-11T22:43:23.563Z"
   },
   {
    "duration": 28,
    "start_time": "2021-07-11T22:43:23.596Z"
   },
   {
    "duration": 59,
    "start_time": "2021-07-11T22:43:23.626Z"
   },
   {
    "duration": 97,
    "start_time": "2021-07-11T22:45:23.582Z"
   },
   {
    "duration": 8,
    "start_time": "2021-07-11T22:52:21.286Z"
   },
   {
    "duration": 92,
    "start_time": "2021-07-11T22:52:29.323Z"
   },
   {
    "duration": 65,
    "start_time": "2021-07-11T22:52:29.418Z"
   },
   {
    "duration": 15,
    "start_time": "2021-07-11T22:52:29.487Z"
   },
   {
    "duration": 17,
    "start_time": "2021-07-11T22:52:29.505Z"
   },
   {
    "duration": 6,
    "start_time": "2021-07-11T22:52:29.562Z"
   },
   {
    "duration": 42,
    "start_time": "2021-07-11T22:52:29.571Z"
   },
   {
    "duration": 53,
    "start_time": "2021-07-11T22:52:29.616Z"
   },
   {
    "duration": 7,
    "start_time": "2021-07-11T22:52:29.674Z"
   },
   {
    "duration": 5,
    "start_time": "2021-07-11T22:52:29.684Z"
   },
   {
    "duration": 9,
    "start_time": "2021-07-11T22:52:29.691Z"
   },
   {
    "duration": 8,
    "start_time": "2021-07-11T22:52:29.702Z"
   },
   {
    "duration": 9,
    "start_time": "2021-07-11T22:52:29.712Z"
   },
   {
    "duration": 1754,
    "start_time": "2021-07-11T22:52:29.724Z"
   },
   {
    "duration": 36,
    "start_time": "2021-07-11T22:52:31.480Z"
   },
   {
    "duration": 78,
    "start_time": "2021-07-11T22:52:31.518Z"
   },
   {
    "duration": 4813,
    "start_time": "2021-07-11T22:52:31.598Z"
   },
   {
    "duration": 78,
    "start_time": "2021-07-11T22:52:36.414Z"
   },
   {
    "duration": 70,
    "start_time": "2021-07-11T22:52:36.494Z"
   },
   {
    "duration": 34,
    "start_time": "2021-07-11T22:52:36.566Z"
   },
   {
    "duration": 62,
    "start_time": "2021-07-11T22:52:36.603Z"
   },
   {
    "duration": 30,
    "start_time": "2021-07-11T22:52:36.667Z"
   },
   {
    "duration": 106,
    "start_time": "2021-07-11T22:54:10.920Z"
   },
   {
    "duration": 7,
    "start_time": "2021-07-11T22:55:48.906Z"
   },
   {
    "duration": 7,
    "start_time": "2021-07-11T22:57:41.256Z"
   },
   {
    "duration": 97,
    "start_time": "2021-07-11T23:00:19.078Z"
   },
   {
    "duration": 50,
    "start_time": "2021-07-11T23:00:19.178Z"
   },
   {
    "duration": 39,
    "start_time": "2021-07-11T23:00:19.231Z"
   },
   {
    "duration": 17,
    "start_time": "2021-07-11T23:00:19.272Z"
   },
   {
    "duration": 5,
    "start_time": "2021-07-11T23:00:19.292Z"
   },
   {
    "duration": 83,
    "start_time": "2021-07-11T23:00:19.299Z"
   },
   {
    "duration": 14,
    "start_time": "2021-07-11T23:00:19.385Z"
   },
   {
    "duration": 9,
    "start_time": "2021-07-11T23:00:19.402Z"
   },
   {
    "duration": 6,
    "start_time": "2021-07-11T23:00:19.449Z"
   },
   {
    "duration": 7,
    "start_time": "2021-07-11T23:00:19.589Z"
   },
   {
    "duration": 7,
    "start_time": "2021-07-11T23:00:19.599Z"
   },
   {
    "duration": 5,
    "start_time": "2021-07-11T23:00:19.627Z"
   },
   {
    "duration": 8,
    "start_time": "2021-07-11T23:00:19.634Z"
   },
   {
    "duration": 5,
    "start_time": "2021-07-11T23:00:19.646Z"
   },
   {
    "duration": 6,
    "start_time": "2021-07-11T23:00:19.653Z"
   },
   {
    "duration": 1733,
    "start_time": "2021-07-11T23:00:19.671Z"
   },
   {
    "duration": 56,
    "start_time": "2021-07-11T23:00:21.407Z"
   },
   {
    "duration": 53,
    "start_time": "2021-07-11T23:00:21.468Z"
   },
   {
    "duration": 4696,
    "start_time": "2021-07-11T23:00:21.525Z"
   },
   {
    "duration": 79,
    "start_time": "2021-07-11T23:00:26.223Z"
   },
   {
    "duration": 61,
    "start_time": "2021-07-11T23:00:26.305Z"
   },
   {
    "duration": 32,
    "start_time": "2021-07-11T23:00:26.369Z"
   },
   {
    "duration": 59,
    "start_time": "2021-07-11T23:00:26.404Z"
   },
   {
    "duration": 32,
    "start_time": "2021-07-11T23:00:26.465Z"
   },
   {
    "duration": 99,
    "start_time": "2021-07-11T23:03:14.582Z"
   },
   {
    "duration": 78,
    "start_time": "2021-07-11T23:03:14.684Z"
   },
   {
    "duration": 15,
    "start_time": "2021-07-11T23:03:14.765Z"
   },
   {
    "duration": 18,
    "start_time": "2021-07-11T23:03:14.783Z"
   },
   {
    "duration": 6,
    "start_time": "2021-07-11T23:03:14.804Z"
   },
   {
    "duration": 94,
    "start_time": "2021-07-11T23:03:14.813Z"
   },
   {
    "duration": 57,
    "start_time": "2021-07-11T23:03:14.911Z"
   },
   {
    "duration": 9,
    "start_time": "2021-07-11T23:03:14.973Z"
   },
   {
    "duration": 7,
    "start_time": "2021-07-11T23:03:14.986Z"
   },
   {
    "duration": 10,
    "start_time": "2021-07-11T23:03:14.996Z"
   },
   {
    "duration": 55,
    "start_time": "2021-07-11T23:03:15.009Z"
   },
   {
    "duration": 36,
    "start_time": "2021-07-11T23:03:15.067Z"
   },
   {
    "duration": 5,
    "start_time": "2021-07-11T23:03:15.106Z"
   },
   {
    "duration": 12,
    "start_time": "2021-07-11T23:03:15.114Z"
   },
   {
    "duration": 8,
    "start_time": "2021-07-11T23:03:15.129Z"
   },
   {
    "duration": 4,
    "start_time": "2021-07-11T23:03:15.163Z"
   },
   {
    "duration": 1846,
    "start_time": "2021-07-11T23:03:15.170Z"
   },
   {
    "duration": 50,
    "start_time": "2021-07-11T23:03:17.018Z"
   },
   {
    "duration": 52,
    "start_time": "2021-07-11T23:03:17.070Z"
   },
   {
    "duration": 4871,
    "start_time": "2021-07-11T23:03:17.124Z"
   },
   {
    "duration": 67,
    "start_time": "2021-07-11T23:03:21.999Z"
   },
   {
    "duration": 43,
    "start_time": "2021-07-11T23:03:22.069Z"
   },
   {
    "duration": 32,
    "start_time": "2021-07-11T23:03:22.115Z"
   },
   {
    "duration": 41,
    "start_time": "2021-07-11T23:03:22.150Z"
   },
   {
    "duration": 31,
    "start_time": "2021-07-11T23:03:22.193Z"
   },
   {
    "duration": 6,
    "start_time": "2021-07-11T23:05:52.927Z"
   },
   {
    "duration": 6,
    "start_time": "2021-07-11T23:07:35.697Z"
   },
   {
    "duration": 6,
    "start_time": "2021-07-11T23:08:50.840Z"
   },
   {
    "duration": 11,
    "start_time": "2021-07-11T23:10:17.552Z"
   },
   {
    "duration": 101,
    "start_time": "2021-07-11T23:17:29.213Z"
   },
   {
    "duration": 69,
    "start_time": "2021-07-11T23:17:29.317Z"
   },
   {
    "duration": 15,
    "start_time": "2021-07-11T23:17:29.388Z"
   },
   {
    "duration": 17,
    "start_time": "2021-07-11T23:17:29.406Z"
   },
   {
    "duration": 39,
    "start_time": "2021-07-11T23:17:29.426Z"
   },
   {
    "duration": 45,
    "start_time": "2021-07-11T23:17:29.468Z"
   },
   {
    "duration": 55,
    "start_time": "2021-07-11T23:17:29.515Z"
   },
   {
    "duration": 6,
    "start_time": "2021-07-11T23:17:29.574Z"
   },
   {
    "duration": 5,
    "start_time": "2021-07-11T23:17:29.583Z"
   },
   {
    "duration": 7,
    "start_time": "2021-07-11T23:17:29.591Z"
   },
   {
    "duration": 7,
    "start_time": "2021-07-11T23:17:29.600Z"
   },
   {
    "duration": 22,
    "start_time": "2021-07-11T23:17:29.661Z"
   },
   {
    "duration": 6,
    "start_time": "2021-07-11T23:17:29.685Z"
   },
   {
    "duration": 6,
    "start_time": "2021-07-11T23:17:29.791Z"
   },
   {
    "duration": 8,
    "start_time": "2021-07-11T23:17:29.937Z"
   },
   {
    "duration": 9,
    "start_time": "2021-07-11T23:17:30.094Z"
   },
   {
    "duration": 84,
    "start_time": "2021-07-11T23:17:30.106Z"
   },
   {
    "duration": 3,
    "start_time": "2021-07-11T23:17:30.193Z"
   },
   {
    "duration": 8,
    "start_time": "2021-07-11T23:17:30.198Z"
   },
   {
    "duration": 9,
    "start_time": "2021-07-11T23:17:30.209Z"
   },
   {
    "duration": 1857,
    "start_time": "2021-07-11T23:17:30.221Z"
   },
   {
    "duration": 38,
    "start_time": "2021-07-11T23:17:32.082Z"
   },
   {
    "duration": 77,
    "start_time": "2021-07-11T23:17:32.123Z"
   },
   {
    "duration": 4795,
    "start_time": "2021-07-11T23:17:32.202Z"
   },
   {
    "duration": 74,
    "start_time": "2021-07-11T23:17:37.000Z"
   },
   {
    "duration": 84,
    "start_time": "2021-07-11T23:17:37.078Z"
   },
   {
    "duration": 46,
    "start_time": "2021-07-11T23:17:37.165Z"
   },
   {
    "duration": 66,
    "start_time": "2021-07-11T23:17:37.214Z"
   },
   {
    "duration": 45,
    "start_time": "2021-07-11T23:17:37.283Z"
   },
   {
    "duration": 76,
    "start_time": "2021-07-11T23:19:33.558Z"
   },
   {
    "duration": 126,
    "start_time": "2021-07-11T23:20:38.364Z"
   },
   {
    "duration": 98,
    "start_time": "2021-07-11T23:20:38.494Z"
   },
   {
    "duration": 20,
    "start_time": "2021-07-11T23:20:38.597Z"
   },
   {
    "duration": 60,
    "start_time": "2021-07-11T23:20:38.621Z"
   },
   {
    "duration": 7,
    "start_time": "2021-07-11T23:20:38.684Z"
   },
   {
    "duration": 93,
    "start_time": "2021-07-11T23:20:38.694Z"
   },
   {
    "duration": 10,
    "start_time": "2021-07-11T23:20:38.789Z"
   },
   {
    "duration": 20,
    "start_time": "2021-07-11T23:20:38.803Z"
   },
   {
    "duration": 36,
    "start_time": "2021-07-11T23:20:38.826Z"
   },
   {
    "duration": 6,
    "start_time": "2021-07-11T23:20:38.865Z"
   },
   {
    "duration": 17,
    "start_time": "2021-07-11T23:20:38.873Z"
   },
   {
    "duration": 25,
    "start_time": "2021-07-11T23:20:38.892Z"
   },
   {
    "duration": 6,
    "start_time": "2021-07-11T23:20:38.919Z"
   },
   {
    "duration": 36,
    "start_time": "2021-07-11T23:20:38.927Z"
   },
   {
    "duration": 15,
    "start_time": "2021-07-11T23:20:38.965Z"
   },
   {
    "duration": 10,
    "start_time": "2021-07-11T23:20:38.982Z"
   },
   {
    "duration": 101,
    "start_time": "2021-07-11T23:20:38.995Z"
   },
   {
    "duration": 3,
    "start_time": "2021-07-11T23:20:39.099Z"
   },
   {
    "duration": 14,
    "start_time": "2021-07-11T23:20:39.104Z"
   },
   {
    "duration": 16,
    "start_time": "2021-07-11T23:20:39.120Z"
   },
   {
    "duration": 1697,
    "start_time": "2021-07-11T23:20:39.138Z"
   },
   {
    "duration": 49,
    "start_time": "2021-07-11T23:20:40.837Z"
   },
   {
    "duration": 50,
    "start_time": "2021-07-11T23:20:40.890Z"
   },
   {
    "duration": 4873,
    "start_time": "2021-07-11T23:20:40.943Z"
   },
   {
    "duration": 72,
    "start_time": "2021-07-11T23:20:45.819Z"
   },
   {
    "duration": 72,
    "start_time": "2021-07-11T23:20:45.893Z"
   },
   {
    "duration": 31,
    "start_time": "2021-07-11T23:20:45.967Z"
   },
   {
    "duration": 28,
    "start_time": "2021-07-11T23:20:46.000Z"
   },
   {
    "duration": 32,
    "start_time": "2021-07-11T23:20:46.063Z"
   },
   {
    "duration": 11,
    "start_time": "2021-07-11T23:21:10.447Z"
   },
   {
    "duration": 7,
    "start_time": "2021-07-11T23:21:44.901Z"
   },
   {
    "duration": 100,
    "start_time": "2021-07-11T23:23:22.964Z"
   },
   {
    "duration": 70,
    "start_time": "2021-07-11T23:23:23.067Z"
   },
   {
    "duration": 22,
    "start_time": "2021-07-11T23:23:23.163Z"
   },
   {
    "duration": 25,
    "start_time": "2021-07-11T23:23:23.189Z"
   },
   {
    "duration": 7,
    "start_time": "2021-07-11T23:23:23.218Z"
   },
   {
    "duration": 59,
    "start_time": "2021-07-11T23:23:23.263Z"
   },
   {
    "duration": 45,
    "start_time": "2021-07-11T23:23:23.325Z"
   },
   {
    "duration": 9,
    "start_time": "2021-07-11T23:23:23.373Z"
   },
   {
    "duration": 11,
    "start_time": "2021-07-11T23:23:23.388Z"
   },
   {
    "duration": 9,
    "start_time": "2021-07-11T23:23:23.403Z"
   },
   {
    "duration": 52,
    "start_time": "2021-07-11T23:23:23.414Z"
   },
   {
    "duration": 23,
    "start_time": "2021-07-11T23:23:23.469Z"
   },
   {
    "duration": 7,
    "start_time": "2021-07-11T23:23:23.495Z"
   },
   {
    "duration": 8,
    "start_time": "2021-07-11T23:23:23.505Z"
   },
   {
    "duration": 57,
    "start_time": "2021-07-11T23:23:23.515Z"
   },
   {
    "duration": 7,
    "start_time": "2021-07-11T23:23:23.575Z"
   },
   {
    "duration": 111,
    "start_time": "2021-07-11T23:23:23.585Z"
   },
   {
    "duration": 3,
    "start_time": "2021-07-11T23:23:23.699Z"
   },
   {
    "duration": 6,
    "start_time": "2021-07-11T23:23:23.705Z"
   },
   {
    "duration": 5,
    "start_time": "2021-07-11T23:23:23.714Z"
   },
   {
    "duration": 1744,
    "start_time": "2021-07-11T23:23:23.722Z"
   },
   {
    "duration": 41,
    "start_time": "2021-07-11T23:23:25.469Z"
   },
   {
    "duration": 87,
    "start_time": "2021-07-11T23:23:25.513Z"
   },
   {
    "duration": 5065,
    "start_time": "2021-07-11T23:23:25.603Z"
   },
   {
    "duration": 59,
    "start_time": "2021-07-11T23:23:30.671Z"
   },
   {
    "duration": 70,
    "start_time": "2021-07-11T23:23:30.733Z"
   },
   {
    "duration": 32,
    "start_time": "2021-07-11T23:23:30.808Z"
   },
   {
    "duration": 29,
    "start_time": "2021-07-11T23:23:30.862Z"
   },
   {
    "duration": 32,
    "start_time": "2021-07-11T23:23:30.893Z"
   },
   {
    "duration": 99,
    "start_time": "2021-07-11T23:49:04.953Z"
   },
   {
    "duration": 58,
    "start_time": "2021-07-11T23:49:05.056Z"
   },
   {
    "duration": 54,
    "start_time": "2021-07-11T23:49:05.118Z"
   },
   {
    "duration": 21,
    "start_time": "2021-07-11T23:49:05.176Z"
   },
   {
    "duration": 7,
    "start_time": "2021-07-11T23:49:05.200Z"
   },
   {
    "duration": 96,
    "start_time": "2021-07-11T23:49:05.210Z"
   },
   {
    "duration": 57,
    "start_time": "2021-07-11T23:49:05.308Z"
   },
   {
    "duration": 7,
    "start_time": "2021-07-11T23:49:05.369Z"
   },
   {
    "duration": 6,
    "start_time": "2021-07-11T23:49:05.379Z"
   },
   {
    "duration": 10,
    "start_time": "2021-07-11T23:49:05.388Z"
   },
   {
    "duration": 6,
    "start_time": "2021-07-11T23:49:05.401Z"
   },
   {
    "duration": 72,
    "start_time": "2021-07-11T23:49:05.410Z"
   },
   {
    "duration": 7,
    "start_time": "2021-07-11T23:49:05.484Z"
   },
   {
    "duration": 6,
    "start_time": "2021-07-11T23:49:05.493Z"
   },
   {
    "duration": 61,
    "start_time": "2021-07-11T23:49:05.502Z"
   },
   {
    "duration": 7,
    "start_time": "2021-07-11T23:49:05.566Z"
   },
   {
    "duration": 107,
    "start_time": "2021-07-11T23:49:05.575Z"
   },
   {
    "duration": 3,
    "start_time": "2021-07-11T23:49:05.685Z"
   },
   {
    "duration": 7,
    "start_time": "2021-07-11T23:49:05.690Z"
   },
   {
    "duration": 7,
    "start_time": "2021-07-11T23:49:05.700Z"
   },
   {
    "duration": 13,
    "start_time": "2021-07-11T23:49:05.710Z"
   },
   {
    "duration": 1852,
    "start_time": "2021-07-11T23:49:05.726Z"
   },
   {
    "duration": 38,
    "start_time": "2021-07-11T23:49:07.584Z"
   },
   {
    "duration": 81,
    "start_time": "2021-07-11T23:49:07.624Z"
   },
   {
    "duration": 5104,
    "start_time": "2021-07-11T23:49:07.707Z"
   },
   {
    "duration": 71,
    "start_time": "2021-07-11T23:49:12.814Z"
   },
   {
    "duration": 48,
    "start_time": "2021-07-11T23:49:12.888Z"
   },
   {
    "duration": 53,
    "start_time": "2021-07-11T23:49:12.938Z"
   },
   {
    "duration": 29,
    "start_time": "2021-07-11T23:49:12.994Z"
   },
   {
    "duration": 59,
    "start_time": "2021-07-11T23:49:13.026Z"
   },
   {
    "duration": 24,
    "start_time": "2021-07-11T23:54:53.031Z"
   },
   {
    "duration": 19,
    "start_time": "2021-07-11T23:55:27.836Z"
   },
   {
    "duration": 17,
    "start_time": "2021-07-11T23:55:41.470Z"
   },
   {
    "duration": 18,
    "start_time": "2021-07-11T23:58:43.221Z"
   },
   {
    "duration": 16,
    "start_time": "2021-07-11T23:58:56.555Z"
   },
   {
    "duration": 24,
    "start_time": "2021-07-12T00:03:35.971Z"
   },
   {
    "duration": 385,
    "start_time": "2021-07-12T00:17:44.722Z"
   },
   {
    "duration": 449,
    "start_time": "2021-07-12T00:19:09.695Z"
   },
   {
    "duration": 99,
    "start_time": "2021-07-12T00:20:06.590Z"
   },
   {
    "duration": 82,
    "start_time": "2021-07-12T00:20:06.691Z"
   },
   {
    "duration": 15,
    "start_time": "2021-07-12T00:20:06.776Z"
   },
   {
    "duration": 18,
    "start_time": "2021-07-12T00:20:06.794Z"
   },
   {
    "duration": 47,
    "start_time": "2021-07-12T00:20:06.815Z"
   },
   {
    "duration": 43,
    "start_time": "2021-07-12T00:20:06.864Z"
   },
   {
    "duration": 53,
    "start_time": "2021-07-12T00:20:06.910Z"
   },
   {
    "duration": 7,
    "start_time": "2021-07-12T00:20:06.967Z"
   },
   {
    "duration": 6,
    "start_time": "2021-07-12T00:20:06.977Z"
   },
   {
    "duration": 10,
    "start_time": "2021-07-12T00:20:06.986Z"
   },
   {
    "duration": 6,
    "start_time": "2021-07-12T00:20:06.998Z"
   },
   {
    "duration": 32,
    "start_time": "2021-07-12T00:20:07.062Z"
   },
   {
    "duration": 7,
    "start_time": "2021-07-12T00:20:07.097Z"
   },
   {
    "duration": 6,
    "start_time": "2021-07-12T00:20:07.107Z"
   },
   {
    "duration": 52,
    "start_time": "2021-07-12T00:20:07.116Z"
   },
   {
    "duration": 8,
    "start_time": "2021-07-12T00:20:07.170Z"
   },
   {
    "duration": 123,
    "start_time": "2021-07-12T00:20:07.181Z"
   },
   {
    "duration": 3,
    "start_time": "2021-07-12T00:20:07.307Z"
   },
   {
    "duration": 7,
    "start_time": "2021-07-12T00:20:07.312Z"
   },
   {
    "duration": 6,
    "start_time": "2021-07-12T00:20:07.321Z"
   },
   {
    "duration": 10,
    "start_time": "2021-07-12T00:20:07.362Z"
   },
   {
    "duration": 14,
    "start_time": "2021-07-12T00:20:07.374Z"
   },
   {
    "duration": 20,
    "start_time": "2021-07-12T00:20:07.392Z"
   },
   {
    "duration": 425,
    "start_time": "2021-07-12T00:20:07.415Z"
   },
   {
    "duration": -1367,
    "start_time": "2021-07-12T00:20:09.210Z"
   },
   {
    "duration": -1381,
    "start_time": "2021-07-12T00:20:09.225Z"
   },
   {
    "duration": -1438,
    "start_time": "2021-07-12T00:20:09.284Z"
   },
   {
    "duration": -1451,
    "start_time": "2021-07-12T00:20:09.298Z"
   },
   {
    "duration": -1462,
    "start_time": "2021-07-12T00:20:09.310Z"
   },
   {
    "duration": -1475,
    "start_time": "2021-07-12T00:20:09.325Z"
   },
   {
    "duration": -1486,
    "start_time": "2021-07-12T00:20:09.337Z"
   },
   {
    "duration": -1498,
    "start_time": "2021-07-12T00:20:09.350Z"
   },
   {
    "duration": -1508,
    "start_time": "2021-07-12T00:20:09.362Z"
   },
   {
    "duration": 334,
    "start_time": "2021-07-12T00:21:56.804Z"
   },
   {
    "duration": 68,
    "start_time": "2021-07-12T00:22:02.787Z"
   },
   {
    "duration": 54,
    "start_time": "2021-07-12T00:22:02.858Z"
   },
   {
    "duration": 51,
    "start_time": "2021-07-12T00:22:02.915Z"
   },
   {
    "duration": 18,
    "start_time": "2021-07-12T00:22:02.968Z"
   },
   {
    "duration": 6,
    "start_time": "2021-07-12T00:22:02.989Z"
   },
   {
    "duration": 97,
    "start_time": "2021-07-12T00:22:02.997Z"
   },
   {
    "duration": 12,
    "start_time": "2021-07-12T00:22:03.096Z"
   },
   {
    "duration": 57,
    "start_time": "2021-07-12T00:22:03.112Z"
   },
   {
    "duration": 23,
    "start_time": "2021-07-12T00:22:03.173Z"
   },
   {
    "duration": 13,
    "start_time": "2021-07-12T00:22:03.199Z"
   },
   {
    "duration": 10,
    "start_time": "2021-07-12T00:22:03.215Z"
   },
   {
    "duration": 56,
    "start_time": "2021-07-12T00:22:03.228Z"
   },
   {
    "duration": 6,
    "start_time": "2021-07-12T00:22:03.286Z"
   },
   {
    "duration": 10,
    "start_time": "2021-07-12T00:22:03.295Z"
   },
   {
    "duration": 54,
    "start_time": "2021-07-12T00:22:03.308Z"
   },
   {
    "duration": 8,
    "start_time": "2021-07-12T00:22:03.365Z"
   },
   {
    "duration": 107,
    "start_time": "2021-07-12T00:22:03.375Z"
   },
   {
    "duration": 3,
    "start_time": "2021-07-12T00:22:03.485Z"
   },
   {
    "duration": 7,
    "start_time": "2021-07-12T00:22:03.491Z"
   },
   {
    "duration": 9,
    "start_time": "2021-07-12T00:22:03.501Z"
   },
   {
    "duration": 18,
    "start_time": "2021-07-12T00:22:03.513Z"
   },
   {
    "duration": 45,
    "start_time": "2021-07-12T00:22:03.533Z"
   },
   {
    "duration": 20,
    "start_time": "2021-07-12T00:22:03.583Z"
   },
   {
    "duration": 391,
    "start_time": "2021-07-12T00:22:03.605Z"
   },
   {
    "duration": -1442,
    "start_time": "2021-07-12T00:22:05.440Z"
   },
   {
    "duration": -1456,
    "start_time": "2021-07-12T00:22:05.456Z"
   },
   {
    "duration": -1467,
    "start_time": "2021-07-12T00:22:05.469Z"
   },
   {
    "duration": -1476,
    "start_time": "2021-07-12T00:22:05.480Z"
   },
   {
    "duration": -1489,
    "start_time": "2021-07-12T00:22:05.494Z"
   },
   {
    "duration": -1498,
    "start_time": "2021-07-12T00:22:05.506Z"
   },
   {
    "duration": -1557,
    "start_time": "2021-07-12T00:22:05.566Z"
   },
   {
    "duration": -1615,
    "start_time": "2021-07-12T00:22:05.626Z"
   },
   {
    "duration": -1668,
    "start_time": "2021-07-12T00:22:05.681Z"
   },
   {
    "duration": 375,
    "start_time": "2021-07-12T00:22:41.635Z"
   },
   {
    "duration": 15,
    "start_time": "2021-07-12T00:31:56.697Z"
   },
   {
    "duration": 14,
    "start_time": "2021-07-12T00:32:19.750Z"
   },
   {
    "duration": 68,
    "start_time": "2021-07-12T00:32:45.527Z"
   },
   {
    "duration": 81,
    "start_time": "2021-07-12T00:32:45.598Z"
   },
   {
    "duration": 15,
    "start_time": "2021-07-12T00:32:45.682Z"
   },
   {
    "duration": 17,
    "start_time": "2021-07-12T00:32:45.700Z"
   },
   {
    "duration": 46,
    "start_time": "2021-07-12T00:32:45.719Z"
   },
   {
    "duration": 42,
    "start_time": "2021-07-12T00:32:45.768Z"
   },
   {
    "duration": 11,
    "start_time": "2021-07-12T00:32:45.863Z"
   },
   {
    "duration": 6,
    "start_time": "2021-07-12T00:32:45.878Z"
   },
   {
    "duration": 5,
    "start_time": "2021-07-12T00:32:45.887Z"
   },
   {
    "duration": 66,
    "start_time": "2021-07-12T00:32:45.895Z"
   },
   {
    "duration": 5,
    "start_time": "2021-07-12T00:32:45.964Z"
   },
   {
    "duration": 24,
    "start_time": "2021-07-12T00:32:45.972Z"
   },
   {
    "duration": 6,
    "start_time": "2021-07-12T00:32:45.998Z"
   },
   {
    "duration": 54,
    "start_time": "2021-07-12T00:32:46.007Z"
   },
   {
    "duration": 11,
    "start_time": "2021-07-12T00:32:46.065Z"
   },
   {
    "duration": 10,
    "start_time": "2021-07-12T00:32:46.079Z"
   },
   {
    "duration": 127,
    "start_time": "2021-07-12T00:32:46.091Z"
   },
   {
    "duration": 4,
    "start_time": "2021-07-12T00:32:46.220Z"
   },
   {
    "duration": 7,
    "start_time": "2021-07-12T00:32:46.226Z"
   },
   {
    "duration": 25,
    "start_time": "2021-07-12T00:32:46.236Z"
   },
   {
    "duration": 11,
    "start_time": "2021-07-12T00:32:46.264Z"
   },
   {
    "duration": 13,
    "start_time": "2021-07-12T00:32:46.277Z"
   },
   {
    "duration": 19,
    "start_time": "2021-07-12T00:32:46.295Z"
   },
   {
    "duration": 399,
    "start_time": "2021-07-12T00:32:46.362Z"
   },
   {
    "duration": 17,
    "start_time": "2021-07-12T00:32:46.764Z"
   },
   {
    "duration": 1328,
    "start_time": "2021-07-12T00:32:46.784Z"
   },
   {
    "duration": 61,
    "start_time": "2021-07-12T00:32:48.115Z"
   },
   {
    "duration": 55,
    "start_time": "2021-07-12T00:32:48.180Z"
   },
   {
    "duration": 4743,
    "start_time": "2021-07-12T00:32:48.238Z"
   },
   {
    "duration": 57,
    "start_time": "2021-07-12T00:32:52.984Z"
   },
   {
    "duration": 58,
    "start_time": "2021-07-12T00:32:53.043Z"
   },
   {
    "duration": 60,
    "start_time": "2021-07-12T00:32:53.103Z"
   },
   {
    "duration": 29,
    "start_time": "2021-07-12T00:32:53.166Z"
   },
   {
    "duration": 31,
    "start_time": "2021-07-12T00:32:53.197Z"
   },
   {
    "duration": 21,
    "start_time": "2021-07-12T00:33:49.756Z"
   },
   {
    "duration": 97,
    "start_time": "2021-07-12T00:34:15.934Z"
   },
   {
    "duration": 59,
    "start_time": "2021-07-12T00:34:16.034Z"
   },
   {
    "duration": 14,
    "start_time": "2021-07-12T00:34:16.096Z"
   },
   {
    "duration": 64,
    "start_time": "2021-07-12T00:34:16.113Z"
   },
   {
    "duration": 6,
    "start_time": "2021-07-12T00:34:16.180Z"
   },
   {
    "duration": 95,
    "start_time": "2021-07-12T00:34:16.189Z"
   },
   {
    "duration": 11,
    "start_time": "2021-07-12T00:34:16.286Z"
   },
   {
    "duration": 6,
    "start_time": "2021-07-12T00:34:16.301Z"
   },
   {
    "duration": 6,
    "start_time": "2021-07-12T00:34:16.362Z"
   },
   {
    "duration": 11,
    "start_time": "2021-07-12T00:34:16.370Z"
   },
   {
    "duration": 6,
    "start_time": "2021-07-12T00:34:16.383Z"
   },
   {
    "duration": 74,
    "start_time": "2021-07-12T00:34:16.391Z"
   },
   {
    "duration": 7,
    "start_time": "2021-07-12T00:34:16.467Z"
   },
   {
    "duration": 5,
    "start_time": "2021-07-12T00:34:16.476Z"
   },
   {
    "duration": 11,
    "start_time": "2021-07-12T00:34:16.483Z"
   },
   {
    "duration": 8,
    "start_time": "2021-07-12T00:34:16.496Z"
   },
   {
    "duration": 80,
    "start_time": "2021-07-12T00:34:16.562Z"
   },
   {
    "duration": 18,
    "start_time": "2021-07-12T00:34:16.644Z"
   },
   {
    "duration": 10,
    "start_time": "2021-07-12T00:34:16.665Z"
   },
   {
    "duration": 11,
    "start_time": "2021-07-12T00:34:16.677Z"
   },
   {
    "duration": 12,
    "start_time": "2021-07-12T00:34:16.690Z"
   },
   {
    "duration": 23,
    "start_time": "2021-07-12T00:34:16.705Z"
   },
   {
    "duration": 32,
    "start_time": "2021-07-12T00:34:16.767Z"
   },
   {
    "duration": 609,
    "start_time": "2021-07-12T00:34:16.803Z"
   },
   {
    "duration": 24,
    "start_time": "2021-07-12T00:34:17.415Z"
   },
   {
    "duration": 2308,
    "start_time": "2021-07-12T00:34:17.462Z"
   },
   {
    "duration": 57,
    "start_time": "2021-07-12T00:34:19.773Z"
   },
   {
    "duration": 95,
    "start_time": "2021-07-12T00:34:19.833Z"
   },
   {
    "duration": 5286,
    "start_time": "2021-07-12T00:34:19.932Z"
   },
   {
    "duration": 73,
    "start_time": "2021-07-12T00:34:25.220Z"
   },
   {
    "duration": 67,
    "start_time": "2021-07-12T00:34:25.295Z"
   },
   {
    "duration": 34,
    "start_time": "2021-07-12T00:34:25.365Z"
   },
   {
    "duration": 63,
    "start_time": "2021-07-12T00:34:25.402Z"
   },
   {
    "duration": 46,
    "start_time": "2021-07-12T00:34:25.468Z"
   },
   {
    "duration": 29,
    "start_time": "2021-07-12T00:36:01.755Z"
   },
   {
    "duration": 125,
    "start_time": "2021-07-12T00:36:06.191Z"
   },
   {
    "duration": 91,
    "start_time": "2021-07-12T00:36:06.319Z"
   },
   {
    "duration": 50,
    "start_time": "2021-07-12T00:36:06.414Z"
   },
   {
    "duration": 26,
    "start_time": "2021-07-12T00:36:06.467Z"
   },
   {
    "duration": 7,
    "start_time": "2021-07-12T00:36:06.496Z"
   },
   {
    "duration": 96,
    "start_time": "2021-07-12T00:36:06.506Z"
   },
   {
    "duration": 15,
    "start_time": "2021-07-12T00:36:06.605Z"
   },
   {
    "duration": 7,
    "start_time": "2021-07-12T00:36:06.663Z"
   },
   {
    "duration": 5,
    "start_time": "2021-07-12T00:36:06.673Z"
   },
   {
    "duration": 17,
    "start_time": "2021-07-12T00:36:06.680Z"
   },
   {
    "duration": 5,
    "start_time": "2021-07-12T00:36:06.700Z"
   },
   {
    "duration": 62,
    "start_time": "2021-07-12T00:36:06.707Z"
   },
   {
    "duration": 7,
    "start_time": "2021-07-12T00:36:06.771Z"
   },
   {
    "duration": 6,
    "start_time": "2021-07-12T00:36:06.780Z"
   },
   {
    "duration": 11,
    "start_time": "2021-07-12T00:36:06.789Z"
   },
   {
    "duration": 8,
    "start_time": "2021-07-12T00:36:06.803Z"
   },
   {
    "duration": 80,
    "start_time": "2021-07-12T00:36:06.863Z"
   },
   {
    "duration": 17,
    "start_time": "2021-07-12T00:36:06.946Z"
   },
   {
    "duration": 3,
    "start_time": "2021-07-12T00:36:06.965Z"
   },
   {
    "duration": 7,
    "start_time": "2021-07-12T00:36:06.971Z"
   },
   {
    "duration": 18,
    "start_time": "2021-07-12T00:36:06.980Z"
   },
   {
    "duration": 19,
    "start_time": "2021-07-12T00:36:07.001Z"
   },
   {
    "duration": 51,
    "start_time": "2021-07-12T00:36:07.025Z"
   },
   {
    "duration": 404,
    "start_time": "2021-07-12T00:36:07.079Z"
   },
   {
    "duration": 14,
    "start_time": "2021-07-12T00:36:07.485Z"
   },
   {
    "duration": 1347,
    "start_time": "2021-07-12T00:36:07.501Z"
   },
   {
    "duration": 45,
    "start_time": "2021-07-12T00:36:08.851Z"
   },
   {
    "duration": 71,
    "start_time": "2021-07-12T00:36:08.899Z"
   },
   {
    "duration": 4828,
    "start_time": "2021-07-12T00:36:08.972Z"
   },
   {
    "duration": 74,
    "start_time": "2021-07-12T00:36:13.803Z"
   },
   {
    "duration": 44,
    "start_time": "2021-07-12T00:36:13.880Z"
   },
   {
    "duration": 55,
    "start_time": "2021-07-12T00:36:13.927Z"
   },
   {
    "duration": 27,
    "start_time": "2021-07-12T00:36:13.985Z"
   },
   {
    "duration": 59,
    "start_time": "2021-07-12T00:36:14.015Z"
   },
   {
    "duration": 110,
    "start_time": "2021-07-12T00:39:59.080Z"
   },
   {
    "duration": 77,
    "start_time": "2021-07-12T00:39:59.193Z"
   },
   {
    "duration": 14,
    "start_time": "2021-07-12T00:39:59.274Z"
   },
   {
    "duration": 18,
    "start_time": "2021-07-12T00:39:59.290Z"
   },
   {
    "duration": 52,
    "start_time": "2021-07-12T00:39:59.310Z"
   },
   {
    "duration": 43,
    "start_time": "2021-07-12T00:39:59.364Z"
   },
   {
    "duration": 60,
    "start_time": "2021-07-12T00:39:59.409Z"
   },
   {
    "duration": 7,
    "start_time": "2021-07-12T00:39:59.473Z"
   },
   {
    "duration": 6,
    "start_time": "2021-07-12T00:39:59.482Z"
   },
   {
    "duration": 11,
    "start_time": "2021-07-12T00:39:59.490Z"
   },
   {
    "duration": 62,
    "start_time": "2021-07-12T00:39:59.503Z"
   },
   {
    "duration": 21,
    "start_time": "2021-07-12T00:39:59.568Z"
   },
   {
    "duration": 6,
    "start_time": "2021-07-12T00:39:59.592Z"
   },
   {
    "duration": 6,
    "start_time": "2021-07-12T00:39:59.601Z"
   },
   {
    "duration": 62,
    "start_time": "2021-07-12T00:39:59.609Z"
   },
   {
    "duration": 7,
    "start_time": "2021-07-12T00:39:59.674Z"
   },
   {
    "duration": 120,
    "start_time": "2021-07-12T00:39:59.683Z"
   },
   {
    "duration": 4,
    "start_time": "2021-07-12T00:39:59.805Z"
   },
   {
    "duration": 9,
    "start_time": "2021-07-12T00:39:59.811Z"
   },
   {
    "duration": 15,
    "start_time": "2021-07-12T00:39:59.823Z"
   },
   {
    "duration": 24,
    "start_time": "2021-07-12T00:39:59.840Z"
   },
   {
    "duration": 19,
    "start_time": "2021-07-12T00:39:59.866Z"
   },
   {
    "duration": 20,
    "start_time": "2021-07-12T00:39:59.890Z"
   },
   {
    "duration": 445,
    "start_time": "2021-07-12T00:39:59.913Z"
   },
   {
    "duration": 15,
    "start_time": "2021-07-12T00:40:00.362Z"
   },
   {
    "duration": 21,
    "start_time": "2021-07-12T00:40:00.379Z"
   },
   {
    "duration": 1352,
    "start_time": "2021-07-12T00:40:00.403Z"
   },
   {
    "duration": 38,
    "start_time": "2021-07-12T00:40:01.761Z"
   },
   {
    "duration": 70,
    "start_time": "2021-07-12T00:40:01.802Z"
   },
   {
    "duration": 4646,
    "start_time": "2021-07-12T00:40:01.875Z"
   },
   {
    "duration": 72,
    "start_time": "2021-07-12T00:40:06.524Z"
   },
   {
    "duration": 66,
    "start_time": "2021-07-12T00:40:06.598Z"
   },
   {
    "duration": 31,
    "start_time": "2021-07-12T00:40:06.667Z"
   },
   {
    "duration": 30,
    "start_time": "2021-07-12T00:40:06.701Z"
   },
   {
    "duration": 31,
    "start_time": "2021-07-12T00:40:06.763Z"
   },
   {
    "duration": 442,
    "start_time": "2021-07-12T00:48:28.435Z"
   },
   {
    "duration": 455,
    "start_time": "2021-07-12T00:49:28.545Z"
   },
   {
    "duration": 98,
    "start_time": "2021-07-12T00:49:34.209Z"
   },
   {
    "duration": 73,
    "start_time": "2021-07-12T00:49:34.310Z"
   },
   {
    "duration": 14,
    "start_time": "2021-07-12T00:49:34.386Z"
   },
   {
    "duration": 61,
    "start_time": "2021-07-12T00:49:34.403Z"
   },
   {
    "duration": 5,
    "start_time": "2021-07-12T00:49:34.467Z"
   },
   {
    "duration": 95,
    "start_time": "2021-07-12T00:49:34.475Z"
   },
   {
    "duration": 10,
    "start_time": "2021-07-12T00:49:34.573Z"
   },
   {
    "duration": 9,
    "start_time": "2021-07-12T00:49:34.587Z"
   },
   {
    "duration": 8,
    "start_time": "2021-07-12T00:49:34.598Z"
   },
   {
    "duration": 55,
    "start_time": "2021-07-12T00:49:34.608Z"
   },
   {
    "duration": 5,
    "start_time": "2021-07-12T00:49:34.666Z"
   },
   {
    "duration": 22,
    "start_time": "2021-07-12T00:49:34.674Z"
   },
   {
    "duration": 6,
    "start_time": "2021-07-12T00:49:34.698Z"
   },
   {
    "duration": 57,
    "start_time": "2021-07-12T00:49:34.707Z"
   },
   {
    "duration": 11,
    "start_time": "2021-07-12T00:49:34.766Z"
   },
   {
    "duration": 8,
    "start_time": "2021-07-12T00:49:34.779Z"
   },
   {
    "duration": 124,
    "start_time": "2021-07-12T00:49:34.790Z"
   },
   {
    "duration": 3,
    "start_time": "2021-07-12T00:49:34.916Z"
   },
   {
    "duration": 7,
    "start_time": "2021-07-12T00:49:34.921Z"
   },
   {
    "duration": 32,
    "start_time": "2021-07-12T00:49:34.930Z"
   },
   {
    "duration": 13,
    "start_time": "2021-07-12T00:49:34.964Z"
   },
   {
    "duration": 26,
    "start_time": "2021-07-12T00:49:34.979Z"
   },
   {
    "duration": 21,
    "start_time": "2021-07-12T00:49:35.010Z"
   },
   {
    "duration": 431,
    "start_time": "2021-07-12T00:49:35.034Z"
   },
   {
    "duration": 15,
    "start_time": "2021-07-12T00:49:35.467Z"
   },
   {
    "duration": 19,
    "start_time": "2021-07-12T00:49:35.485Z"
   },
   {
    "duration": 473,
    "start_time": "2021-07-12T00:49:35.507Z"
   },
   {
    "duration": 979,
    "start_time": "2021-07-12T00:49:35.983Z"
   },
   {
    "duration": 36,
    "start_time": "2021-07-12T00:49:36.965Z"
   },
   {
    "duration": 75,
    "start_time": "2021-07-12T00:49:37.003Z"
   },
   {
    "duration": 4845,
    "start_time": "2021-07-12T00:49:37.081Z"
   },
   {
    "duration": 74,
    "start_time": "2021-07-12T00:49:41.929Z"
   },
   {
    "duration": 73,
    "start_time": "2021-07-12T00:49:42.005Z"
   },
   {
    "duration": 31,
    "start_time": "2021-07-12T00:49:42.080Z"
   },
   {
    "duration": 53,
    "start_time": "2021-07-12T00:49:42.113Z"
   },
   {
    "duration": 31,
    "start_time": "2021-07-12T00:49:42.169Z"
   },
   {
    "duration": 464,
    "start_time": "2021-07-12T00:50:36.441Z"
   },
   {
    "duration": 101,
    "start_time": "2021-07-12T00:56:32.930Z"
   },
   {
    "duration": 63,
    "start_time": "2021-07-12T00:56:33.034Z"
   },
   {
    "duration": 16,
    "start_time": "2021-07-12T00:56:33.100Z"
   },
   {
    "duration": 57,
    "start_time": "2021-07-12T00:56:33.118Z"
   },
   {
    "duration": 5,
    "start_time": "2021-07-12T00:56:33.178Z"
   },
   {
    "duration": 96,
    "start_time": "2021-07-12T00:56:33.186Z"
   },
   {
    "duration": 10,
    "start_time": "2021-07-12T00:56:33.284Z"
   },
   {
    "duration": 26,
    "start_time": "2021-07-12T00:56:33.299Z"
   },
   {
    "duration": 44,
    "start_time": "2021-07-12T00:56:33.328Z"
   },
   {
    "duration": 16,
    "start_time": "2021-07-12T00:56:33.375Z"
   },
   {
    "duration": 9,
    "start_time": "2021-07-12T00:56:33.393Z"
   },
   {
    "duration": 60,
    "start_time": "2021-07-12T00:56:33.405Z"
   },
   {
    "duration": 8,
    "start_time": "2021-07-12T00:56:33.469Z"
   },
   {
    "duration": 7,
    "start_time": "2021-07-12T00:56:33.480Z"
   },
   {
    "duration": 32,
    "start_time": "2021-07-12T00:56:33.490Z"
   },
   {
    "duration": 39,
    "start_time": "2021-07-12T00:56:33.525Z"
   },
   {
    "duration": 128,
    "start_time": "2021-07-12T00:56:33.567Z"
   },
   {
    "duration": 4,
    "start_time": "2021-07-12T00:56:33.699Z"
   },
   {
    "duration": 10,
    "start_time": "2021-07-12T00:56:33.706Z"
   },
   {
    "duration": 13,
    "start_time": "2021-07-12T00:56:33.719Z"
   },
   {
    "duration": 29,
    "start_time": "2021-07-12T00:56:33.735Z"
   },
   {
    "duration": 18,
    "start_time": "2021-07-12T00:56:33.767Z"
   },
   {
    "duration": 20,
    "start_time": "2021-07-12T00:56:33.790Z"
   },
   {
    "duration": 431,
    "start_time": "2021-07-12T00:56:33.813Z"
   },
   {
    "duration": 22,
    "start_time": "2021-07-12T00:56:34.246Z"
   },
   {
    "duration": 15,
    "start_time": "2021-07-12T00:56:34.271Z"
   },
   {
    "duration": 474,
    "start_time": "2021-07-12T00:56:34.289Z"
   },
   {
    "duration": 504,
    "start_time": "2021-07-12T00:56:34.766Z"
   },
   {
    "duration": 433,
    "start_time": "2021-07-12T00:56:35.273Z"
   },
   {
    "duration": 37,
    "start_time": "2021-07-12T00:56:35.709Z"
   },
   {
    "duration": 48,
    "start_time": "2021-07-12T00:56:35.762Z"
   },
   {
    "duration": 5389,
    "start_time": "2021-07-12T00:56:35.813Z"
   },
   {
    "duration": 75,
    "start_time": "2021-07-12T00:56:41.205Z"
   },
   {
    "duration": 48,
    "start_time": "2021-07-12T00:56:41.283Z"
   },
   {
    "duration": 53,
    "start_time": "2021-07-12T00:56:41.333Z"
   },
   {
    "duration": 29,
    "start_time": "2021-07-12T00:56:41.388Z"
   },
   {
    "duration": 63,
    "start_time": "2021-07-12T00:56:41.419Z"
   },
   {
    "duration": 431,
    "start_time": "2021-07-12T01:01:53.839Z"
   },
   {
    "duration": 37,
    "start_time": "2021-07-12T01:04:35.820Z"
   },
   {
    "duration": 87,
    "start_time": "2021-07-12T01:07:07.410Z"
   },
   {
    "duration": 98,
    "start_time": "2021-07-12T01:07:26.071Z"
   },
   {
    "duration": 93,
    "start_time": "2021-07-12T01:07:26.172Z"
   },
   {
    "duration": 19,
    "start_time": "2021-07-12T01:07:26.269Z"
   },
   {
    "duration": 19,
    "start_time": "2021-07-12T01:07:26.291Z"
   },
   {
    "duration": 51,
    "start_time": "2021-07-12T01:07:26.312Z"
   },
   {
    "duration": 46,
    "start_time": "2021-07-12T01:07:26.366Z"
   },
   {
    "duration": 12,
    "start_time": "2021-07-12T01:07:26.463Z"
   },
   {
    "duration": 18,
    "start_time": "2021-07-12T01:07:26.479Z"
   },
   {
    "duration": 10,
    "start_time": "2021-07-12T01:07:26.501Z"
   },
   {
    "duration": 51,
    "start_time": "2021-07-12T01:07:26.514Z"
   },
   {
    "duration": 6,
    "start_time": "2021-07-12T01:07:26.569Z"
   },
   {
    "duration": 23,
    "start_time": "2021-07-12T01:07:26.579Z"
   },
   {
    "duration": 6,
    "start_time": "2021-07-12T01:07:26.605Z"
   },
   {
    "duration": 52,
    "start_time": "2021-07-12T01:07:26.613Z"
   },
   {
    "duration": 18,
    "start_time": "2021-07-12T01:07:26.668Z"
   },
   {
    "duration": 11,
    "start_time": "2021-07-12T01:07:26.689Z"
   },
   {
    "duration": 159,
    "start_time": "2021-07-12T01:07:26.703Z"
   },
   {
    "duration": 4,
    "start_time": "2021-07-12T01:07:26.865Z"
   },
   {
    "duration": 9,
    "start_time": "2021-07-12T01:07:26.872Z"
   },
   {
    "duration": 7,
    "start_time": "2021-07-12T01:07:26.884Z"
   },
   {
    "duration": 12,
    "start_time": "2021-07-12T01:07:26.894Z"
   },
   {
    "duration": 19,
    "start_time": "2021-07-12T01:07:26.909Z"
   },
   {
    "duration": 33,
    "start_time": "2021-07-12T01:07:26.966Z"
   },
   {
    "duration": 601,
    "start_time": "2021-07-12T01:07:27.003Z"
   },
   {
    "duration": 21,
    "start_time": "2021-07-12T01:07:27.607Z"
   },
   {
    "duration": 42,
    "start_time": "2021-07-12T01:07:27.631Z"
   },
   {
    "duration": 798,
    "start_time": "2021-07-12T01:07:27.676Z"
   },
   {
    "duration": 553,
    "start_time": "2021-07-12T01:07:28.477Z"
   },
   {
    "duration": 440,
    "start_time": "2021-07-12T01:07:29.033Z"
   },
   {
    "duration": 37,
    "start_time": "2021-07-12T01:07:29.476Z"
   },
   {
    "duration": 96,
    "start_time": "2021-07-12T01:07:29.516Z"
   },
   {
    "duration": 4687,
    "start_time": "2021-07-12T01:07:29.615Z"
   },
   {
    "duration": 76,
    "start_time": "2021-07-12T01:07:34.305Z"
   },
   {
    "duration": 45,
    "start_time": "2021-07-12T01:07:34.383Z"
   },
   {
    "duration": 54,
    "start_time": "2021-07-12T01:07:34.431Z"
   },
   {
    "duration": 32,
    "start_time": "2021-07-12T01:07:34.487Z"
   },
   {
    "duration": 64,
    "start_time": "2021-07-12T01:07:34.522Z"
   },
   {
    "duration": 3835,
    "start_time": "2021-07-12T01:08:45.255Z"
   },
   {
    "duration": 59,
    "start_time": "2021-07-12T01:10:25.386Z"
   },
   {
    "duration": 45,
    "start_time": "2021-07-12T01:16:29.833Z"
   },
   {
    "duration": 44,
    "start_time": "2021-07-12T01:18:59.107Z"
   },
   {
    "duration": 36,
    "start_time": "2021-07-12T01:21:44.016Z"
   },
   {
    "duration": 29,
    "start_time": "2021-07-12T01:23:58.282Z"
   },
   {
    "duration": 35,
    "start_time": "2021-07-12T01:24:13.056Z"
   },
   {
    "duration": 37,
    "start_time": "2021-07-12T01:25:54.269Z"
   },
   {
    "duration": 97,
    "start_time": "2021-07-12T01:26:14.992Z"
   },
   {
    "duration": 78,
    "start_time": "2021-07-12T01:26:15.091Z"
   },
   {
    "duration": 15,
    "start_time": "2021-07-12T01:26:15.172Z"
   },
   {
    "duration": 19,
    "start_time": "2021-07-12T01:26:15.190Z"
   },
   {
    "duration": 52,
    "start_time": "2021-07-12T01:26:15.212Z"
   },
   {
    "duration": 45,
    "start_time": "2021-07-12T01:26:15.266Z"
   },
   {
    "duration": 12,
    "start_time": "2021-07-12T01:26:15.363Z"
   },
   {
    "duration": 7,
    "start_time": "2021-07-12T01:26:15.379Z"
   },
   {
    "duration": 5,
    "start_time": "2021-07-12T01:26:15.389Z"
   },
   {
    "duration": 9,
    "start_time": "2021-07-12T01:26:15.397Z"
   },
   {
    "duration": 6,
    "start_time": "2021-07-12T01:26:15.463Z"
   },
   {
    "duration": 23,
    "start_time": "2021-07-12T01:26:15.471Z"
   },
   {
    "duration": 6,
    "start_time": "2021-07-12T01:26:15.496Z"
   },
   {
    "duration": 57,
    "start_time": "2021-07-12T01:26:15.504Z"
   },
   {
    "duration": 12,
    "start_time": "2021-07-12T01:26:15.564Z"
   },
   {
    "duration": 8,
    "start_time": "2021-07-12T01:26:15.578Z"
   },
   {
    "duration": 126,
    "start_time": "2021-07-12T01:26:15.589Z"
   },
   {
    "duration": 3,
    "start_time": "2021-07-12T01:26:15.717Z"
   },
   {
    "duration": 11,
    "start_time": "2021-07-12T01:26:15.723Z"
   },
   {
    "duration": 5,
    "start_time": "2021-07-12T01:26:15.737Z"
   },
   {
    "duration": 14,
    "start_time": "2021-07-12T01:26:15.763Z"
   },
   {
    "duration": 16,
    "start_time": "2021-07-12T01:26:15.780Z"
   },
   {
    "duration": 20,
    "start_time": "2021-07-12T01:26:15.800Z"
   },
   {
    "duration": 442,
    "start_time": "2021-07-12T01:26:15.823Z"
   },
   {
    "duration": 18,
    "start_time": "2021-07-12T01:26:16.268Z"
   },
   {
    "duration": 16,
    "start_time": "2021-07-12T01:26:16.290Z"
   },
   {
    "duration": 483,
    "start_time": "2021-07-12T01:26:16.309Z"
   },
   {
    "duration": 493,
    "start_time": "2021-07-12T01:26:16.794Z"
   },
   {
    "duration": 429,
    "start_time": "2021-07-12T01:26:17.290Z"
   },
   {
    "duration": 48,
    "start_time": "2021-07-12T01:26:17.721Z"
   },
   {
    "duration": 68,
    "start_time": "2021-07-12T01:26:17.772Z"
   },
   {
    "duration": 4862,
    "start_time": "2021-07-12T01:26:17.842Z"
   },
   {
    "duration": 73,
    "start_time": "2021-07-12T01:26:22.707Z"
   },
   {
    "duration": 159,
    "start_time": "2021-07-12T01:26:22.783Z"
   },
   {
    "duration": 49,
    "start_time": "2021-07-12T01:26:22.945Z"
   },
   {
    "duration": 33,
    "start_time": "2021-07-12T01:26:22.996Z"
   },
   {
    "duration": 39,
    "start_time": "2021-07-12T01:26:23.063Z"
   },
   {
    "duration": 667,
    "start_time": "2021-07-12T18:15:45.381Z"
   },
   {
    "duration": 39,
    "start_time": "2021-07-12T18:15:46.050Z"
   },
   {
    "duration": 15,
    "start_time": "2021-07-12T18:15:46.092Z"
   },
   {
    "duration": 40,
    "start_time": "2021-07-12T18:15:46.109Z"
   },
   {
    "duration": 6,
    "start_time": "2021-07-12T18:15:46.151Z"
   },
   {
    "duration": 32,
    "start_time": "2021-07-12T18:15:46.159Z"
   },
   {
    "duration": 8,
    "start_time": "2021-07-12T18:15:46.193Z"
   },
   {
    "duration": 5,
    "start_time": "2021-07-12T18:15:46.241Z"
   },
   {
    "duration": 5,
    "start_time": "2021-07-12T18:15:46.248Z"
   },
   {
    "duration": 6,
    "start_time": "2021-07-12T18:15:46.255Z"
   },
   {
    "duration": 4,
    "start_time": "2021-07-12T18:15:46.263Z"
   },
   {
    "duration": 13,
    "start_time": "2021-07-12T18:15:46.269Z"
   },
   {
    "duration": 7,
    "start_time": "2021-07-12T18:15:46.284Z"
   },
   {
    "duration": 50,
    "start_time": "2021-07-12T18:15:46.292Z"
   },
   {
    "duration": 8,
    "start_time": "2021-07-12T18:15:46.344Z"
   },
   {
    "duration": 12,
    "start_time": "2021-07-12T18:15:46.353Z"
   },
   {
    "duration": 49,
    "start_time": "2021-07-12T18:15:46.367Z"
   },
   {
    "duration": 2,
    "start_time": "2021-07-12T18:15:46.417Z"
   },
   {
    "duration": 2,
    "start_time": "2021-07-12T18:15:46.440Z"
   },
   {
    "duration": 5,
    "start_time": "2021-07-12T18:15:46.444Z"
   },
   {
    "duration": 9,
    "start_time": "2021-07-12T18:15:46.450Z"
   },
   {
    "duration": 11,
    "start_time": "2021-07-12T18:15:46.460Z"
   },
   {
    "duration": 14,
    "start_time": "2021-07-12T18:15:46.474Z"
   },
   {
    "duration": 255,
    "start_time": "2021-07-12T18:15:46.490Z"
   },
   {
    "duration": 11,
    "start_time": "2021-07-12T18:15:46.747Z"
   },
   {
    "duration": 10,
    "start_time": "2021-07-12T18:15:46.759Z"
   },
   {
    "duration": 290,
    "start_time": "2021-07-12T18:15:46.770Z"
   },
   {
    "duration": 393,
    "start_time": "2021-07-12T18:15:47.062Z"
   },
   {
    "duration": 321,
    "start_time": "2021-07-12T18:15:47.457Z"
   },
   {
    "duration": 22,
    "start_time": "2021-07-12T18:15:47.780Z"
   },
   {
    "duration": 84,
    "start_time": "2021-07-12T18:15:47.804Z"
   },
   {
    "duration": 3684,
    "start_time": "2021-07-12T18:15:47.890Z"
   },
   {
    "duration": 34,
    "start_time": "2021-07-12T18:15:51.575Z"
   },
   {
    "duration": 49,
    "start_time": "2021-07-12T18:15:51.611Z"
   },
   {
    "duration": 25,
    "start_time": "2021-07-12T18:15:51.662Z"
   },
   {
    "duration": 22,
    "start_time": "2021-07-12T18:15:51.689Z"
   },
   {
    "duration": 22,
    "start_time": "2021-07-12T18:15:51.741Z"
   },
   {
    "duration": 14,
    "start_time": "2021-07-12T18:33:10.814Z"
   },
   {
    "duration": 19,
    "start_time": "2021-07-12T18:42:59.125Z"
   },
   {
    "duration": 10,
    "start_time": "2021-07-12T18:43:39.149Z"
   },
   {
    "duration": 9,
    "start_time": "2021-07-12T18:44:13.039Z"
   },
   {
    "duration": 969,
    "start_time": "2021-07-13T13:14:36.578Z"
   },
   {
    "duration": 57,
    "start_time": "2021-07-13T13:14:37.549Z"
   },
   {
    "duration": 14,
    "start_time": "2021-07-13T13:14:37.609Z"
   },
   {
    "duration": 18,
    "start_time": "2021-07-13T13:14:37.627Z"
   },
   {
    "duration": 39,
    "start_time": "2021-07-13T13:14:37.647Z"
   },
   {
    "duration": 51,
    "start_time": "2021-07-13T13:14:37.688Z"
   },
   {
    "duration": 44,
    "start_time": "2021-07-13T13:14:37.742Z"
   },
   {
    "duration": 6,
    "start_time": "2021-07-13T13:14:37.791Z"
   },
   {
    "duration": 6,
    "start_time": "2021-07-13T13:14:37.801Z"
   },
   {
    "duration": 8,
    "start_time": "2021-07-13T13:14:37.809Z"
   },
   {
    "duration": 5,
    "start_time": "2021-07-13T13:14:37.820Z"
   },
   {
    "duration": 70,
    "start_time": "2021-07-13T13:14:37.827Z"
   },
   {
    "duration": 6,
    "start_time": "2021-07-13T13:14:37.899Z"
   },
   {
    "duration": 7,
    "start_time": "2021-07-13T13:14:37.907Z"
   },
   {
    "duration": 18,
    "start_time": "2021-07-13T13:14:37.916Z"
   },
   {
    "duration": 14,
    "start_time": "2021-07-13T13:14:37.936Z"
   },
   {
    "duration": 109,
    "start_time": "2021-07-13T13:14:37.952Z"
   },
   {
    "duration": 22,
    "start_time": "2021-07-13T13:14:38.063Z"
   },
   {
    "duration": 6,
    "start_time": "2021-07-13T13:14:38.088Z"
   },
   {
    "duration": 7,
    "start_time": "2021-07-13T13:14:38.097Z"
   },
   {
    "duration": 11,
    "start_time": "2021-07-13T13:14:38.107Z"
   },
   {
    "duration": 17,
    "start_time": "2021-07-13T13:14:38.121Z"
   },
   {
    "duration": 46,
    "start_time": "2021-07-13T13:14:38.143Z"
   },
   {
    "duration": 409,
    "start_time": "2021-07-13T13:14:38.192Z"
   },
   {
    "duration": 14,
    "start_time": "2021-07-13T13:14:38.604Z"
   },
   {
    "duration": 14,
    "start_time": "2021-07-13T13:14:38.621Z"
   },
   {
    "duration": 470,
    "start_time": "2021-07-13T13:14:38.637Z"
   },
   {
    "duration": 492,
    "start_time": "2021-07-13T13:14:39.109Z"
   },
   {
    "duration": 454,
    "start_time": "2021-07-13T13:14:39.604Z"
   },
   {
    "duration": 68,
    "start_time": "2021-07-13T13:14:40.061Z"
   },
   {
    "duration": 108,
    "start_time": "2021-07-13T13:14:40.132Z"
   },
   {
    "duration": 4601,
    "start_time": "2021-07-13T13:14:40.243Z"
   },
   {
    "duration": 64,
    "start_time": "2021-07-13T13:14:44.846Z"
   },
   {
    "duration": 72,
    "start_time": "2021-07-13T13:14:44.913Z"
   },
   {
    "duration": 43,
    "start_time": "2021-07-13T13:14:44.987Z"
   },
   {
    "duration": 68,
    "start_time": "2021-07-13T13:14:45.033Z"
   },
   {
    "duration": 35,
    "start_time": "2021-07-13T13:14:45.103Z"
   },
   {
    "duration": 92,
    "start_time": "2021-07-13T13:17:24.040Z"
   },
   {
    "duration": 65,
    "start_time": "2021-07-13T13:17:29.926Z"
   },
   {
    "duration": 57,
    "start_time": "2021-07-13T13:17:29.994Z"
   },
   {
    "duration": 41,
    "start_time": "2021-07-13T13:17:30.054Z"
   },
   {
    "duration": 18,
    "start_time": "2021-07-13T13:17:30.098Z"
   },
   {
    "duration": 5,
    "start_time": "2021-07-13T13:17:30.119Z"
   },
   {
    "duration": 89,
    "start_time": "2021-07-13T13:17:30.126Z"
   },
   {
    "duration": 11,
    "start_time": "2021-07-13T13:17:30.217Z"
   },
   {
    "duration": 18,
    "start_time": "2021-07-13T13:17:30.231Z"
   },
   {
    "duration": 5,
    "start_time": "2021-07-13T13:17:30.287Z"
   },
   {
    "duration": 20,
    "start_time": "2021-07-13T13:17:30.294Z"
   },
   {
    "duration": 16,
    "start_time": "2021-07-13T13:17:30.316Z"
   },
   {
    "duration": 34,
    "start_time": "2021-07-13T13:17:30.334Z"
   },
   {
    "duration": 7,
    "start_time": "2021-07-13T13:17:30.387Z"
   },
   {
    "duration": 11,
    "start_time": "2021-07-13T13:17:30.396Z"
   },
   {
    "duration": 23,
    "start_time": "2021-07-13T13:17:30.410Z"
   },
   {
    "duration": 19,
    "start_time": "2021-07-13T13:17:30.436Z"
   },
   {
    "duration": 100,
    "start_time": "2021-07-13T13:17:30.457Z"
   },
   {
    "duration": 3,
    "start_time": "2021-07-13T13:17:30.559Z"
   },
   {
    "duration": 22,
    "start_time": "2021-07-13T13:17:30.565Z"
   },
   {
    "duration": 14,
    "start_time": "2021-07-13T13:17:30.590Z"
   },
   {
    "duration": 17,
    "start_time": "2021-07-13T13:17:30.606Z"
   },
   {
    "duration": 15,
    "start_time": "2021-07-13T13:17:30.626Z"
   },
   {
    "duration": 42,
    "start_time": "2021-07-13T13:17:30.646Z"
   },
   {
    "duration": 404,
    "start_time": "2021-07-13T13:17:30.691Z"
   },
   {
    "duration": 15,
    "start_time": "2021-07-13T13:17:31.097Z"
   },
   {
    "duration": 18,
    "start_time": "2021-07-13T13:17:31.114Z"
   },
   {
    "duration": 787,
    "start_time": "2021-07-13T13:17:31.135Z"
   },
   {
    "duration": 609,
    "start_time": "2021-07-13T13:17:31.925Z"
   },
   {
    "duration": 427,
    "start_time": "2021-07-13T13:17:32.537Z"
   },
   {
    "duration": 46,
    "start_time": "2021-07-13T13:17:32.967Z"
   },
   {
    "duration": 87,
    "start_time": "2021-07-13T13:17:33.016Z"
   },
   {
    "duration": 5228,
    "start_time": "2021-07-13T13:17:33.105Z"
   },
   {
    "duration": 74,
    "start_time": "2021-07-13T13:17:38.337Z"
   },
   {
    "duration": 71,
    "start_time": "2021-07-13T13:17:38.414Z"
   },
   {
    "duration": 36,
    "start_time": "2021-07-13T13:17:38.489Z"
   },
   {
    "duration": 66,
    "start_time": "2021-07-13T13:17:38.527Z"
   },
   {
    "duration": 36,
    "start_time": "2021-07-13T13:17:38.595Z"
   },
   {
    "duration": 102,
    "start_time": "2021-07-13T13:27:37.432Z"
   },
   {
    "duration": 45,
    "start_time": "2021-07-13T13:28:07.212Z"
   },
   {
    "duration": 1575,
    "start_time": "2021-07-13T13:28:17.969Z"
   },
   {
    "duration": 51,
    "start_time": "2021-07-13T13:28:19.547Z"
   },
   {
    "duration": 14,
    "start_time": "2021-07-13T13:28:19.601Z"
   },
   {
    "duration": 17,
    "start_time": "2021-07-13T13:28:19.618Z"
   },
   {
    "duration": 6,
    "start_time": "2021-07-13T13:28:19.637Z"
   },
   {
    "duration": 81,
    "start_time": "2021-07-13T13:28:19.645Z"
   },
   {
    "duration": 56,
    "start_time": "2021-07-13T13:28:19.729Z"
   },
   {
    "duration": 7,
    "start_time": "2021-07-13T13:28:19.788Z"
   },
   {
    "duration": 7,
    "start_time": "2021-07-13T13:28:19.800Z"
   },
   {
    "duration": 11,
    "start_time": "2021-07-13T13:28:19.810Z"
   },
   {
    "duration": 7,
    "start_time": "2021-07-13T13:28:19.824Z"
   },
   {
    "duration": 77,
    "start_time": "2021-07-13T13:28:19.833Z"
   },
   {
    "duration": 8,
    "start_time": "2021-07-13T13:28:19.914Z"
   },
   {
    "duration": 7,
    "start_time": "2021-07-13T13:28:19.925Z"
   },
   {
    "duration": 18,
    "start_time": "2021-07-13T13:28:19.935Z"
   },
   {
    "duration": 9,
    "start_time": "2021-07-13T13:28:19.986Z"
   },
   {
    "duration": 96,
    "start_time": "2021-07-13T13:28:19.998Z"
   },
   {
    "duration": 4,
    "start_time": "2021-07-13T13:28:20.096Z"
   },
   {
    "duration": 19,
    "start_time": "2021-07-13T13:28:20.102Z"
   },
   {
    "duration": 11,
    "start_time": "2021-07-13T13:28:20.123Z"
   },
   {
    "duration": 15,
    "start_time": "2021-07-13T13:28:20.136Z"
   },
   {
    "duration": 18,
    "start_time": "2021-07-13T13:28:20.154Z"
   },
   {
    "duration": 29,
    "start_time": "2021-07-13T13:28:20.175Z"
   },
   {
    "duration": 394,
    "start_time": "2021-07-13T13:28:20.207Z"
   },
   {
    "duration": 15,
    "start_time": "2021-07-13T13:28:20.603Z"
   },
   {
    "duration": 20,
    "start_time": "2021-07-13T13:28:20.621Z"
   },
   {
    "duration": 2148,
    "start_time": "2021-07-13T13:28:20.646Z"
   },
   {
    "duration": -1574,
    "start_time": "2021-07-13T13:28:24.371Z"
   },
   {
    "duration": -1592,
    "start_time": "2021-07-13T13:28:24.390Z"
   },
   {
    "duration": -1608,
    "start_time": "2021-07-13T13:28:24.408Z"
   },
   {
    "duration": -1621,
    "start_time": "2021-07-13T13:28:24.422Z"
   },
   {
    "duration": -1708,
    "start_time": "2021-07-13T13:28:24.511Z"
   },
   {
    "duration": -1768,
    "start_time": "2021-07-13T13:28:24.572Z"
   },
   {
    "duration": -1826,
    "start_time": "2021-07-13T13:28:24.632Z"
   },
   {
    "duration": -1866,
    "start_time": "2021-07-13T13:28:24.673Z"
   },
   {
    "duration": -1923,
    "start_time": "2021-07-13T13:28:24.732Z"
   },
   {
    "duration": -1978,
    "start_time": "2021-07-13T13:28:24.789Z"
   },
   {
    "duration": 38,
    "start_time": "2021-07-13T13:30:21.780Z"
   },
   {
    "duration": 64,
    "start_time": "2021-07-13T13:30:34.560Z"
   },
   {
    "duration": 62,
    "start_time": "2021-07-13T13:30:34.627Z"
   },
   {
    "duration": 14,
    "start_time": "2021-07-13T13:30:34.692Z"
   },
   {
    "duration": 19,
    "start_time": "2021-07-13T13:30:34.709Z"
   },
   {
    "duration": 6,
    "start_time": "2021-07-13T13:30:34.731Z"
   },
   {
    "duration": 85,
    "start_time": "2021-07-13T13:30:34.740Z"
   },
   {
    "duration": 57,
    "start_time": "2021-07-13T13:30:34.828Z"
   },
   {
    "duration": 8,
    "start_time": "2021-07-13T13:30:34.892Z"
   },
   {
    "duration": 8,
    "start_time": "2021-07-13T13:30:34.904Z"
   },
   {
    "duration": 11,
    "start_time": "2021-07-13T13:30:34.915Z"
   },
   {
    "duration": 58,
    "start_time": "2021-07-13T13:30:34.929Z"
   },
   {
    "duration": 23,
    "start_time": "2021-07-13T13:30:34.991Z"
   },
   {
    "duration": 8,
    "start_time": "2021-07-13T13:30:35.018Z"
   },
   {
    "duration": 9,
    "start_time": "2021-07-13T13:30:35.029Z"
   },
   {
    "duration": 11,
    "start_time": "2021-07-13T13:30:35.086Z"
   },
   {
    "duration": 9,
    "start_time": "2021-07-13T13:30:35.100Z"
   },
   {
    "duration": 117,
    "start_time": "2021-07-13T13:30:35.112Z"
   },
   {
    "duration": 4,
    "start_time": "2021-07-13T13:30:35.232Z"
   },
   {
    "duration": 9,
    "start_time": "2021-07-13T13:30:35.239Z"
   },
   {
    "duration": 7,
    "start_time": "2021-07-13T13:30:35.250Z"
   },
   {
    "duration": 31,
    "start_time": "2021-07-13T13:30:35.260Z"
   },
   {
    "duration": 16,
    "start_time": "2021-07-13T13:30:35.294Z"
   },
   {
    "duration": 21,
    "start_time": "2021-07-13T13:30:35.316Z"
   },
   {
    "duration": 413,
    "start_time": "2021-07-13T13:30:35.340Z"
   },
   {
    "duration": 14,
    "start_time": "2021-07-13T13:30:35.756Z"
   },
   {
    "duration": 16,
    "start_time": "2021-07-13T13:30:35.786Z"
   },
   {
    "duration": 38,
    "start_time": "2021-07-13T13:30:35.804Z"
   },
   {
    "duration": 506,
    "start_time": "2021-07-13T13:30:35.845Z"
   },
   {
    "duration": 427,
    "start_time": "2021-07-13T13:30:36.353Z"
   },
   {
    "duration": 314,
    "start_time": "2021-07-13T13:30:36.785Z"
   },
   {
    "duration": -1819,
    "start_time": "2021-07-13T13:30:38.920Z"
   },
   {
    "duration": -1838,
    "start_time": "2021-07-13T13:30:38.941Z"
   },
   {
    "duration": -1948,
    "start_time": "2021-07-13T13:30:39.052Z"
   },
   {
    "duration": -1969,
    "start_time": "2021-07-13T13:30:39.075Z"
   },
   {
    "duration": -2017,
    "start_time": "2021-07-13T13:30:39.124Z"
   },
   {
    "duration": -2075,
    "start_time": "2021-07-13T13:30:39.184Z"
   },
   {
    "duration": -2135,
    "start_time": "2021-07-13T13:30:39.245Z"
   },
   {
    "duration": 64,
    "start_time": "2021-07-13T13:32:09.683Z"
   },
   {
    "duration": 43,
    "start_time": "2021-07-13T13:34:50.598Z"
   },
   {
    "duration": 349,
    "start_time": "2021-07-13T13:35:09.829Z"
   },
   {
    "duration": 310,
    "start_time": "2021-07-13T13:36:41.413Z"
   },
   {
    "duration": 322,
    "start_time": "2021-07-13T13:37:30.030Z"
   },
   {
    "duration": 87,
    "start_time": "2021-07-13T13:43:32.075Z"
   },
   {
    "duration": 75,
    "start_time": "2021-07-13T13:43:32.166Z"
   },
   {
    "duration": 43,
    "start_time": "2021-07-13T13:43:32.244Z"
   },
   {
    "duration": 17,
    "start_time": "2021-07-13T13:43:32.290Z"
   },
   {
    "duration": 6,
    "start_time": "2021-07-13T13:43:32.310Z"
   },
   {
    "duration": 97,
    "start_time": "2021-07-13T13:43:32.318Z"
   },
   {
    "duration": 15,
    "start_time": "2021-07-13T13:43:32.418Z"
   },
   {
    "duration": 50,
    "start_time": "2021-07-13T13:43:32.438Z"
   },
   {
    "duration": 6,
    "start_time": "2021-07-13T13:43:32.492Z"
   },
   {
    "duration": 14,
    "start_time": "2021-07-13T13:43:32.501Z"
   },
   {
    "duration": 12,
    "start_time": "2021-07-13T13:43:32.517Z"
   },
   {
    "duration": 60,
    "start_time": "2021-07-13T13:43:32.532Z"
   },
   {
    "duration": 7,
    "start_time": "2021-07-13T13:43:32.595Z"
   },
   {
    "duration": 11,
    "start_time": "2021-07-13T13:43:32.604Z"
   },
   {
    "duration": 16,
    "start_time": "2021-07-13T13:43:32.618Z"
   },
   {
    "duration": 49,
    "start_time": "2021-07-13T13:43:32.637Z"
   },
   {
    "duration": 97,
    "start_time": "2021-07-13T13:43:32.689Z"
   },
   {
    "duration": 4,
    "start_time": "2021-07-13T13:43:32.788Z"
   },
   {
    "duration": 10,
    "start_time": "2021-07-13T13:43:32.794Z"
   },
   {
    "duration": 20,
    "start_time": "2021-07-13T13:43:32.806Z"
   },
   {
    "duration": 25,
    "start_time": "2021-07-13T13:43:32.828Z"
   },
   {
    "duration": 41,
    "start_time": "2021-07-13T13:43:32.856Z"
   },
   {
    "duration": 40,
    "start_time": "2021-07-13T13:43:32.904Z"
   },
   {
    "duration": 424,
    "start_time": "2021-07-13T13:43:32.948Z"
   },
   {
    "duration": 21,
    "start_time": "2021-07-13T13:43:33.375Z"
   },
   {
    "duration": 57,
    "start_time": "2021-07-13T13:43:33.398Z"
   },
   {
    "duration": 350,
    "start_time": "2021-07-13T13:43:33.458Z"
   },
   {
    "duration": 644,
    "start_time": "2021-07-13T13:43:33.812Z"
   },
   {
    "duration": 450,
    "start_time": "2021-07-13T13:43:34.459Z"
   },
   {
    "duration": 37,
    "start_time": "2021-07-13T13:43:34.912Z"
   },
   {
    "duration": 90,
    "start_time": "2021-07-13T13:43:34.952Z"
   },
   {
    "duration": 4619,
    "start_time": "2021-07-13T13:43:35.045Z"
   },
   {
    "duration": 69,
    "start_time": "2021-07-13T13:43:39.667Z"
   },
   {
    "duration": 80,
    "start_time": "2021-07-13T13:43:39.739Z"
   },
   {
    "duration": 351,
    "start_time": "2021-07-13T13:43:39.823Z"
   },
   {
    "duration": -1225,
    "start_time": "2021-07-13T13:43:41.401Z"
   },
   {
    "duration": -1236,
    "start_time": "2021-07-13T13:43:41.414Z"
   },
   {
    "duration": 341,
    "start_time": "2021-07-13T13:44:35.911Z"
   },
   {
    "duration": 646,
    "start_time": "2021-07-13T13:45:07.774Z"
   },
   {
    "duration": 90,
    "start_time": "2021-07-13T13:55:25.899Z"
   },
   {
    "duration": 51,
    "start_time": "2021-07-13T13:55:25.991Z"
   },
   {
    "duration": 43,
    "start_time": "2021-07-13T13:55:26.045Z"
   },
   {
    "duration": 22,
    "start_time": "2021-07-13T13:55:26.091Z"
   },
   {
    "duration": 7,
    "start_time": "2021-07-13T13:55:26.115Z"
   },
   {
    "duration": 91,
    "start_time": "2021-07-13T13:55:26.124Z"
   },
   {
    "duration": 10,
    "start_time": "2021-07-13T13:55:26.217Z"
   },
   {
    "duration": 17,
    "start_time": "2021-07-13T13:55:26.231Z"
   },
   {
    "duration": 36,
    "start_time": "2021-07-13T13:55:26.251Z"
   },
   {
    "duration": 7,
    "start_time": "2021-07-13T13:55:26.290Z"
   },
   {
    "duration": 8,
    "start_time": "2021-07-13T13:55:26.299Z"
   },
   {
    "duration": 25,
    "start_time": "2021-07-13T13:55:26.309Z"
   },
   {
    "duration": 50,
    "start_time": "2021-07-13T13:55:26.336Z"
   },
   {
    "duration": 6,
    "start_time": "2021-07-13T13:55:26.388Z"
   },
   {
    "duration": 13,
    "start_time": "2021-07-13T13:55:26.396Z"
   },
   {
    "duration": 7,
    "start_time": "2021-07-13T13:55:26.411Z"
   },
   {
    "duration": 118,
    "start_time": "2021-07-13T13:55:26.421Z"
   },
   {
    "duration": 3,
    "start_time": "2021-07-13T13:55:26.541Z"
   },
   {
    "duration": 7,
    "start_time": "2021-07-13T13:55:26.546Z"
   },
   {
    "duration": 6,
    "start_time": "2021-07-13T13:55:26.556Z"
   },
   {
    "duration": 9,
    "start_time": "2021-07-13T13:55:26.586Z"
   },
   {
    "duration": 17,
    "start_time": "2021-07-13T13:55:26.597Z"
   },
   {
    "duration": 21,
    "start_time": "2021-07-13T13:55:26.619Z"
   },
   {
    "duration": 433,
    "start_time": "2021-07-13T13:55:26.643Z"
   },
   {
    "duration": 7,
    "start_time": "2021-07-13T13:55:27.079Z"
   },
   {
    "duration": 18,
    "start_time": "2021-07-13T13:55:27.088Z"
   },
   {
    "duration": 661,
    "start_time": "2021-07-13T13:55:27.108Z"
   },
   {
    "duration": -2007,
    "start_time": "2021-07-13T13:55:29.779Z"
   },
   {
    "duration": -2088,
    "start_time": "2021-07-13T13:55:29.861Z"
   },
   {
    "duration": -2103,
    "start_time": "2021-07-13T13:55:29.878Z"
   },
   {
    "duration": -2116,
    "start_time": "2021-07-13T13:55:29.892Z"
   },
   {
    "duration": -2130,
    "start_time": "2021-07-13T13:55:29.908Z"
   },
   {
    "duration": -2143,
    "start_time": "2021-07-13T13:55:29.922Z"
   },
   {
    "duration": -2157,
    "start_time": "2021-07-13T13:55:29.938Z"
   },
   {
    "duration": -2170,
    "start_time": "2021-07-13T13:55:29.953Z"
   },
   {
    "duration": -2207,
    "start_time": "2021-07-13T13:55:29.992Z"
   },
   {
    "duration": -2226,
    "start_time": "2021-07-13T13:55:30.012Z"
   },
   {
    "duration": 301,
    "start_time": "2021-07-13T13:57:20.643Z"
   },
   {
    "duration": 77,
    "start_time": "2021-07-13T13:57:37.539Z"
   },
   {
    "duration": 98,
    "start_time": "2021-07-13T13:57:37.620Z"
   },
   {
    "duration": 15,
    "start_time": "2021-07-13T13:57:37.721Z"
   },
   {
    "duration": 50,
    "start_time": "2021-07-13T13:57:37.739Z"
   },
   {
    "duration": 7,
    "start_time": "2021-07-13T13:57:37.791Z"
   },
   {
    "duration": 99,
    "start_time": "2021-07-13T13:57:37.802Z"
   },
   {
    "duration": 12,
    "start_time": "2021-07-13T13:57:37.904Z"
   },
   {
    "duration": 13,
    "start_time": "2021-07-13T13:57:37.920Z"
   },
   {
    "duration": 50,
    "start_time": "2021-07-13T13:57:37.938Z"
   },
   {
    "duration": 17,
    "start_time": "2021-07-13T13:57:37.990Z"
   },
   {
    "duration": 20,
    "start_time": "2021-07-13T13:57:38.010Z"
   },
   {
    "duration": 52,
    "start_time": "2021-07-13T13:57:38.034Z"
   },
   {
    "duration": 9,
    "start_time": "2021-07-13T13:57:38.089Z"
   },
   {
    "duration": 8,
    "start_time": "2021-07-13T13:57:38.100Z"
   },
   {
    "duration": 34,
    "start_time": "2021-07-13T13:57:38.112Z"
   },
   {
    "duration": 40,
    "start_time": "2021-07-13T13:57:38.149Z"
   },
   {
    "duration": 103,
    "start_time": "2021-07-13T13:57:38.191Z"
   },
   {
    "duration": 4,
    "start_time": "2021-07-13T13:57:38.296Z"
   },
   {
    "duration": 11,
    "start_time": "2021-07-13T13:57:38.303Z"
   },
   {
    "duration": 19,
    "start_time": "2021-07-13T13:57:38.318Z"
   },
   {
    "duration": 23,
    "start_time": "2021-07-13T13:57:38.340Z"
   },
   {
    "duration": 37,
    "start_time": "2021-07-13T13:57:38.365Z"
   },
   {
    "duration": 48,
    "start_time": "2021-07-13T13:57:38.408Z"
   },
   {
    "duration": 436,
    "start_time": "2021-07-13T13:57:38.459Z"
   },
   {
    "duration": 3,
    "start_time": "2021-07-13T13:57:38.898Z"
   },
   {
    "duration": 48,
    "start_time": "2021-07-13T13:57:38.904Z"
   },
   {
    "duration": 312,
    "start_time": "2021-07-13T13:57:38.954Z"
   },
   {
    "duration": 497,
    "start_time": "2021-07-13T13:57:39.269Z"
   },
   {
    "duration": 458,
    "start_time": "2021-07-13T13:57:39.768Z"
   },
   {
    "duration": 35,
    "start_time": "2021-07-13T13:57:40.228Z"
   },
   {
    "duration": 63,
    "start_time": "2021-07-13T13:57:40.285Z"
   },
   {
    "duration": 4665,
    "start_time": "2021-07-13T13:57:40.350Z"
   },
   {
    "duration": 69,
    "start_time": "2021-07-13T13:57:45.018Z"
   },
   {
    "duration": 53,
    "start_time": "2021-07-13T13:57:45.090Z"
   },
   {
    "duration": 291,
    "start_time": "2021-07-13T13:57:45.146Z"
   },
   {
    "duration": -1075,
    "start_time": "2021-07-13T13:57:46.515Z"
   },
   {
    "duration": -1090,
    "start_time": "2021-07-13T13:57:46.531Z"
   },
   {
    "duration": 291,
    "start_time": "2021-07-13T14:00:57.327Z"
   },
   {
    "duration": 332,
    "start_time": "2021-07-13T14:02:14.692Z"
   },
   {
    "duration": 49,
    "start_time": "2021-07-13T14:04:09.854Z"
   },
   {
    "duration": 103,
    "start_time": "2021-07-13T14:07:32.286Z"
   },
   {
    "duration": 53,
    "start_time": "2021-07-13T14:07:32.391Z"
   },
   {
    "duration": 44,
    "start_time": "2021-07-13T14:07:32.446Z"
   },
   {
    "duration": 18,
    "start_time": "2021-07-13T14:07:32.493Z"
   },
   {
    "duration": 7,
    "start_time": "2021-07-13T14:07:32.515Z"
   },
   {
    "duration": 91,
    "start_time": "2021-07-13T14:07:32.525Z"
   },
   {
    "duration": 11,
    "start_time": "2021-07-13T14:07:32.619Z"
   },
   {
    "duration": 7,
    "start_time": "2021-07-13T14:07:32.634Z"
   },
   {
    "duration": 6,
    "start_time": "2021-07-13T14:07:32.687Z"
   },
   {
    "duration": 11,
    "start_time": "2021-07-13T14:07:32.695Z"
   },
   {
    "duration": 5,
    "start_time": "2021-07-13T14:07:32.709Z"
   },
   {
    "duration": 28,
    "start_time": "2021-07-13T14:07:32.716Z"
   },
   {
    "duration": 7,
    "start_time": "2021-07-13T14:07:32.785Z"
   },
   {
    "duration": 11,
    "start_time": "2021-07-13T14:07:32.795Z"
   },
   {
    "duration": 14,
    "start_time": "2021-07-13T14:07:32.808Z"
   },
   {
    "duration": 10,
    "start_time": "2021-07-13T14:07:32.824Z"
   },
   {
    "duration": 130,
    "start_time": "2021-07-13T14:07:32.837Z"
   },
   {
    "duration": 3,
    "start_time": "2021-07-13T14:07:32.969Z"
   },
   {
    "duration": 3,
    "start_time": "2021-07-13T14:07:32.986Z"
   },
   {
    "duration": 11,
    "start_time": "2021-07-13T14:07:32.991Z"
   },
   {
    "duration": 17,
    "start_time": "2021-07-13T14:07:33.005Z"
   },
   {
    "duration": 17,
    "start_time": "2021-07-13T14:07:33.024Z"
   },
   {
    "duration": 50,
    "start_time": "2021-07-13T14:07:33.046Z"
   },
   {
    "duration": 417,
    "start_time": "2021-07-13T14:07:33.099Z"
   },
   {
    "duration": 15,
    "start_time": "2021-07-13T14:07:33.518Z"
   },
   {
    "duration": 15,
    "start_time": "2021-07-13T14:07:33.535Z"
   },
   {
    "duration": 482,
    "start_time": "2021-07-13T14:07:33.552Z"
   },
   {
    "duration": 508,
    "start_time": "2021-07-13T14:07:34.037Z"
   },
   {
    "duration": 443,
    "start_time": "2021-07-13T14:07:34.548Z"
   },
   {
    "duration": 39,
    "start_time": "2021-07-13T14:07:34.994Z"
   },
   {
    "duration": 107,
    "start_time": "2021-07-13T14:07:35.036Z"
   },
   {
    "duration": 4583,
    "start_time": "2021-07-13T14:07:35.145Z"
   },
   {
    "duration": 71,
    "start_time": "2021-07-13T14:07:39.731Z"
   },
   {
    "duration": 52,
    "start_time": "2021-07-13T14:07:39.805Z"
   },
   {
    "duration": 65,
    "start_time": "2021-07-13T14:07:39.859Z"
   },
   {
    "duration": 61,
    "start_time": "2021-07-13T14:07:39.926Z"
   },
   {
    "duration": 47,
    "start_time": "2021-07-13T14:07:39.991Z"
   },
   {
    "duration": 317,
    "start_time": "2021-07-13T14:09:53.798Z"
   },
   {
    "duration": 40,
    "start_time": "2021-07-13T14:20:27.571Z"
   },
   {
    "duration": 42,
    "start_time": "2021-07-13T14:21:12.984Z"
   },
   {
    "duration": 42,
    "start_time": "2021-07-13T14:22:01.000Z"
   },
   {
    "duration": 37,
    "start_time": "2021-07-13T14:22:57.185Z"
   },
   {
    "duration": 56,
    "start_time": "2021-07-13T14:25:24.958Z"
   }
  ],
  "kernelspec": {
   "display_name": "Python 3",
   "language": "python",
   "name": "python3"
  },
  "language_info": {
   "codemirror_mode": {
    "name": "ipython",
    "version": 3
   },
   "file_extension": ".py",
   "mimetype": "text/x-python",
   "name": "python",
   "nbconvert_exporter": "python",
   "pygments_lexer": "ipython3",
   "version": "3.8.8"
  },
  "toc": {
   "base_numbering": 1,
   "nav_menu": {},
   "number_sections": true,
   "sideBar": true,
   "skip_h1_title": true,
   "title_cell": "Table of Contents",
   "title_sidebar": "Contents",
   "toc_cell": false,
   "toc_position": {},
   "toc_section_display": true,
   "toc_window_display": false
  }
 },
 "nbformat": 4,
 "nbformat_minor": 2
}
