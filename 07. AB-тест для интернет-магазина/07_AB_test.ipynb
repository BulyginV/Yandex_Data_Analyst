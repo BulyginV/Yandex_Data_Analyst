{
 "cells": [
  {
   "cell_type": "markdown",
   "metadata": {},
   "source": [
    "# Проверка гипотез по увеличению выручки в интернет-магазине — оценка результатов A/B теста\n",
    "\n",
    "Вместе с отделом маркетинга крупного интернет-магазина мы подготовили список гипотез для увеличения выручки.  \n",
    "Необходимо приоритизировать гипотезы, запустить A/B-тест и проанализировать результаты.  \n",
    "\n",
    "# Сценарий по выполнению проекта\n",
    "  \n",
    "## Шаг 1. Загрузить данные и подготовить их к анализу<a class=\"tocSkip\"></a>\n",
    "\n",
    "<b>1.1. Загрузка данных</b> - положить данные о визитах, заказах и гипотезах в переменные;\n",
    "\n",
    "Пути к файлам: \n",
    "* гипотезы: /datasets/hypothesis.csv  \n",
    "* заказы: /datasets/orders.csv  \n",
    "* визиты: /datasets/visitors.csv  \n",
    "\n",
    "\n",
    "<b>1.2. Подготовка данных.</b> - убедиться, что тип данных во всех колонках соответствует сохранённым в них значениям.  \n",
    "\n",
    "* предобработка hypothesis\n",
    "* предобработка orders\n",
    "* предобработка visitors\n",
    "\n",
    "\n",
    "## Шаг 2. Часть 1. Приоритизация гипотез<a class=\"tocSkip\"></a>\n",
    "\n",
    "В файле /datasets/hypothesis.csv 9 гипотез по увеличению выручки интернет-магазина с указанными параметрами Reach, Impact, Confidence, Effort.    \n",
    "  \n",
    "## Задачи<a class=\"tocSkip\"></a>\n",
    "\n",
    "* <b>2.1. Применить фреймворк ICE</b>  \n",
    "Применить фреймворк ICE для приоритизации гипотез. Отсортировать их по убыванию приоритета;  \n",
    "  \n",
    "  \n",
    "* <b>2.2. Применить фреймворк RICE</b>  \n",
    "Применить фреймворк RICE для приоритизации гипотез. Отсортировать их по убыванию приоритета;  \n",
    "  \n",
    "  \n",
    "* <b>2.3. RICE вместо ICE</b>  \n",
    "Указать, как изменилась приоритизация гипотез при применении RICE вместо ICE. Объяснить, почему так произошло.  \n",
    "  \n",
    "  \n",
    "## Шаг 3. Часть 2. Анализ A/B-теста<a class=\"tocSkip\"></a>\n",
    "\n",
    "Мы провели A/B-тест и получили результаты, которые описаны в файлах /datasets/orders.csv и /datasets/visitors.csv.\n",
    "  \n",
    "## Задачи<a class=\"tocSkip\"></a>\n",
    "\n",
    "* <b>3.1. Построить график кумулятивной выручки по группам.</b>  \n",
    "Сделать выводы и предположения;  \n",
    "  \n",
    "  \n",
    "* <b>3.2. Построить график кумулятивного среднего чека по группам.</b>  \n",
    "Сделать выводы и предположения;  \n",
    "  \n",
    "  \n",
    "* <b>3.3. Построить график относительного изменения кумулятивного среднего чека группы B к группе A.</b>  \n",
    "Сделать выводы и предположения;  \n",
    "  \n",
    "  \n",
    "* <b>3.4. Построить график кумулятивной конверсии по группам.</b>  \n",
    "Сделать выводы и предположения;  \n",
    "  \n",
    "  \n",
    "* <b>3.5. Построить график относительного изменения кумулятивной конверсии группы B к группе A.</b>  \n",
    "Сделать выводы и предположения;  \n",
    "  \n",
    "  \n",
    "* <b>3.6. Построить точечный график количества заказов по пользователям.</b>  \n",
    "Сделать выводы и предположения;  \n",
    "  \n",
    "  \n",
    "* <b>3.7. Посчитать 95-й и 99-й перцентили количества заказов на пользователя.</b>  \n",
    "Выбрать границу для определения аномальных пользователей;  \n",
    "  \n",
    "  \n",
    "* <b>3.8. Построить точечный график стоимостей заказов.</b>  \n",
    "Сделать выводы и предположения;  \n",
    "  \n",
    "  \n",
    "* <b>3.9. Посчитать 95-й и 99-й перцентили стоимости заказов.</b>  \n",
    "Выбрать границу для определения аномальных заказов;  \n",
    "  \n",
    "  \n",
    "* <b>3.10. Посчитать статистическую значимость различий в конверсии между группами по «сырым» данным.</b>  \n",
    "Сделать выводы и предположения;  \n",
    "  \n",
    "  \n",
    "* <b>3.11. Посчитать статистическую значимость различий в среднем чеке заказа между группами по «сырым» данным.</b>  \n",
    "Сделать выводы и предположения;  \n",
    "  \n",
    "  \n",
    "* <b>3.12. Посчитать статистическую значимость различий в конверсии между группами по «очищенным» данным.</b>  \n",
    "Сделать выводы и предположения;  \n",
    "  \n",
    "  \n",
    "* <b>3.13. Посчитать статистическую значимость различий в среднем чеке заказа между группами по «очищенным» данным.</b>  \n",
    "Сделать выводы и предположения;  \n",
    "  \n",
    "  \n",
    "* <b>3.14. Принять решение по результатам теста и объяснить его.</b>  \n",
    "Варианты решений: 1. Остановить тест, зафиксировать победу одной из групп. 2. Остановить тест, зафиксировать отсутствие различий между группами. 3. Продолжить тест.  \n",
    "  \n",
    "  \n",
    "# Описание данных\n",
    "\n",
    "<b>Структура hypothesis (информация о гипотезах):</b>\n",
    "\n",
    "* <b>Hypothesis</b> — краткое описание гипотезы;\n",
    "* <b>Reach</b> — охват пользователей по 10-балльной шкале;\n",
    "* <b>Impact</b> — влияние на пользователей по 10-балльной шкале;\n",
    "* <b>Confidence</b> — уверенность в гипотезе по 10-балльной шкале;\n",
    "* <b>Efforts</b> — затраты ресурсов на проверку гипотезы по 10-балльной шкале. Чем больше значение Efforts, тем дороже проверка гипотезы.\n",
    "  \n",
    "  \n",
    "<b>Структура orders (информация о заказах):</b>\n",
    "* <b>transactionId</b> — идентификатор заказа;\n",
    "* <b>visitorId</b> — идентификатор пользователя, совершившего заказ;\n",
    "* <b>date</b> — дата, когда был совершён заказ;\n",
    "* <b>revenue</b> — выручка заказа;\n",
    "* <b>group</b> — группа A/B-теста, в которую попал заказ.\n",
    "  \n",
    "  \n",
    "<b>Структура visitors (информация о пользователях):</b>\n",
    "* <b>date</b> — дата;\n",
    "* <b>group</b> группа A/B-теста;\n",
    "* <b>visitors</b> — количество пользователей в указанную дату в указанной группе A/B-теста."
   ]
  },
  {
   "cell_type": "markdown",
   "metadata": {},
   "source": [
    "## Шаг 1. Загрузить данные и подготовить их к анализу"
   ]
  },
  {
   "cell_type": "markdown",
   "metadata": {},
   "source": [
    "### 1.1. Загрузка данных\n",
    "\n",
    "Пути к файлам:  \n",
    "* гипотезы: /datasets/hypothesis.csv  \n",
    "* заказы: /datasets/orders.csv  \n",
    "* визиты: /datasets/visitors.csv   "
   ]
  },
  {
   "cell_type": "code",
   "execution_count": 1,
   "metadata": {},
   "outputs": [],
   "source": [
    "# импортирую все инструменты\n",
    "import pandas as pd\n",
    "import matplotlib\n",
    "import matplotlib.pyplot as plt\n",
    "import seaborn as sns\n",
    "import numpy as np\n",
    "from scipy import stats\n",
    "pd.set_option('display.max_columns', None)\n",
    "import warnings\n",
    "warnings.simplefilter(action='ignore', category=FutureWarning)\n",
    "pd.set_option('display.max_colwidth', 1)\n",
    "#pd.set_option('display.max_rows', None)\n",
    "#pd.set_option('display.max_columns', None)"
   ]
  },
  {
   "cell_type": "markdown",
   "metadata": {},
   "source": [
    "<div style=\"border-radius: 15px; border: 3px solid indigo; padding: 15px;\">\n",
    "<font color='purple'><b>hypothesis</b></font> — информация о 9 гипотезах\n",
    "</div>"
   ]
  },
  {
   "cell_type": "code",
   "execution_count": 2,
   "metadata": {},
   "outputs": [
    {
     "name": "stdout",
     "output_type": "stream",
     "text": [
      "<class 'pandas.core.frame.DataFrame'>\n",
      "RangeIndex: 9 entries, 0 to 8\n",
      "Data columns (total 5 columns):\n",
      " #   Column      Non-Null Count  Dtype \n",
      "---  ------      --------------  ----- \n",
      " 0   Hypothesis  9 non-null      object\n",
      " 1   Reach       9 non-null      int64 \n",
      " 2   Impact      9 non-null      int64 \n",
      " 3   Confidence  9 non-null      int64 \n",
      " 4   Efforts     9 non-null      int64 \n",
      "dtypes: int64(4), object(1)\n",
      "memory usage: 488.0+ bytes\n"
     ]
    },
    {
     "data": {
      "text/plain": [
       "None"
      ]
     },
     "metadata": {},
     "output_type": "display_data"
    }
   ],
   "source": [
    "# сохраняю таблицу hypothesis.csv в переменной hypothesis\n",
    "hypothesis = pd.read_csv('hypothesis.csv')\n",
    "display(hypothesis.info())"
   ]
  },
  {
   "cell_type": "code",
   "execution_count": 3,
   "metadata": {},
   "outputs": [
    {
     "data": {
      "text/plain": [
       "Index(['Hypothesis', 'Reach', 'Impact', 'Confidence', 'Efforts'], dtype='object')"
      ]
     },
     "metadata": {},
     "output_type": "display_data"
    }
   ],
   "source": [
    "# проверяю отдельно наименование столбцов\n",
    "display(hypothesis.columns)"
   ]
  },
  {
   "cell_type": "code",
   "execution_count": 4,
   "metadata": {},
   "outputs": [
    {
     "data": {
      "text/plain": [
       "0"
      ]
     },
     "metadata": {},
     "output_type": "display_data"
    }
   ],
   "source": [
    "# проверяю данные на предмет дубликатов\n",
    "display(hypothesis.duplicated().sum())"
   ]
  },
  {
   "cell_type": "code",
   "execution_count": 5,
   "metadata": {},
   "outputs": [
    {
     "data": {
      "text/html": [
       "<div>\n",
       "<style scoped>\n",
       "    .dataframe tbody tr th:only-of-type {\n",
       "        vertical-align: middle;\n",
       "    }\n",
       "\n",
       "    .dataframe tbody tr th {\n",
       "        vertical-align: top;\n",
       "    }\n",
       "\n",
       "    .dataframe thead th {\n",
       "        text-align: right;\n",
       "    }\n",
       "</style>\n",
       "<table border=\"1\" class=\"dataframe\">\n",
       "  <thead>\n",
       "    <tr style=\"text-align: right;\">\n",
       "      <th></th>\n",
       "      <th>Hypothesis</th>\n",
       "      <th>Reach</th>\n",
       "      <th>Impact</th>\n",
       "      <th>Confidence</th>\n",
       "      <th>Efforts</th>\n",
       "    </tr>\n",
       "  </thead>\n",
       "  <tbody>\n",
       "    <tr>\n",
       "      <th>0</th>\n",
       "      <td>Добавить два новых канала привлечения трафика, что позволит привлекать на 30% больше пользователей</td>\n",
       "      <td>3</td>\n",
       "      <td>10</td>\n",
       "      <td>8</td>\n",
       "      <td>6</td>\n",
       "    </tr>\n",
       "    <tr>\n",
       "      <th>1</th>\n",
       "      <td>Запустить собственную службу доставки, что сократит срок доставки заказов</td>\n",
       "      <td>2</td>\n",
       "      <td>5</td>\n",
       "      <td>4</td>\n",
       "      <td>10</td>\n",
       "    </tr>\n",
       "    <tr>\n",
       "      <th>2</th>\n",
       "      <td>Добавить блоки рекомендаций товаров на сайт интернет магазина, чтобы повысить конверсию и средний чек заказа</td>\n",
       "      <td>8</td>\n",
       "      <td>3</td>\n",
       "      <td>7</td>\n",
       "      <td>3</td>\n",
       "    </tr>\n",
       "    <tr>\n",
       "      <th>3</th>\n",
       "      <td>Изменить структура категорий, что увеличит конверсию, т.к. пользователи быстрее найдут нужный товар</td>\n",
       "      <td>8</td>\n",
       "      <td>3</td>\n",
       "      <td>3</td>\n",
       "      <td>8</td>\n",
       "    </tr>\n",
       "    <tr>\n",
       "      <th>4</th>\n",
       "      <td>Изменить цвет фона главной страницы, чтобы увеличить вовлеченность пользователей</td>\n",
       "      <td>3</td>\n",
       "      <td>1</td>\n",
       "      <td>1</td>\n",
       "      <td>1</td>\n",
       "    </tr>\n",
       "    <tr>\n",
       "      <th>5</th>\n",
       "      <td>Добавить страницу отзывов клиентов о магазине, что позволит увеличить количество заказов</td>\n",
       "      <td>3</td>\n",
       "      <td>2</td>\n",
       "      <td>2</td>\n",
       "      <td>3</td>\n",
       "    </tr>\n",
       "    <tr>\n",
       "      <th>6</th>\n",
       "      <td>Показать на главной странице баннеры с актуальными акциями и распродажами, чтобы увеличить конверсию</td>\n",
       "      <td>5</td>\n",
       "      <td>3</td>\n",
       "      <td>8</td>\n",
       "      <td>3</td>\n",
       "    </tr>\n",
       "    <tr>\n",
       "      <th>7</th>\n",
       "      <td>Добавить форму подписки на все основные страницы, чтобы собрать базу клиентов для email-рассылок</td>\n",
       "      <td>10</td>\n",
       "      <td>7</td>\n",
       "      <td>8</td>\n",
       "      <td>5</td>\n",
       "    </tr>\n",
       "    <tr>\n",
       "      <th>8</th>\n",
       "      <td>Запустить акцию, дающую скидку на товар в день рождения</td>\n",
       "      <td>1</td>\n",
       "      <td>9</td>\n",
       "      <td>9</td>\n",
       "      <td>5</td>\n",
       "    </tr>\n",
       "  </tbody>\n",
       "</table>\n",
       "</div>"
      ],
      "text/plain": [
       "                                                                                                     Hypothesis  \\\n",
       "0  Добавить два новых канала привлечения трафика, что позволит привлекать на 30% больше пользователей             \n",
       "1  Запустить собственную службу доставки, что сократит срок доставки заказов                                      \n",
       "2  Добавить блоки рекомендаций товаров на сайт интернет магазина, чтобы повысить конверсию и средний чек заказа   \n",
       "3  Изменить структура категорий, что увеличит конверсию, т.к. пользователи быстрее найдут нужный товар            \n",
       "4  Изменить цвет фона главной страницы, чтобы увеличить вовлеченность пользователей                               \n",
       "5  Добавить страницу отзывов клиентов о магазине, что позволит увеличить количество заказов                       \n",
       "6  Показать на главной странице баннеры с актуальными акциями и распродажами, чтобы увеличить конверсию           \n",
       "7  Добавить форму подписки на все основные страницы, чтобы собрать базу клиентов для email-рассылок               \n",
       "8  Запустить акцию, дающую скидку на товар в день рождения                                                        \n",
       "\n",
       "   Reach  Impact  Confidence  Efforts  \n",
       "0  3      10      8           6        \n",
       "1  2      5       4           10       \n",
       "2  8      3       7           3        \n",
       "3  8      3       3           8        \n",
       "4  3      1       1           1        \n",
       "5  3      2       2           3        \n",
       "6  5      3       8           3        \n",
       "7  10     7       8           5        \n",
       "8  1      9       9           5        "
      ]
     },
     "metadata": {},
     "output_type": "display_data"
    }
   ],
   "source": [
    "# изучаю данные\n",
    "display(hypothesis)"
   ]
  },
  {
   "cell_type": "code",
   "execution_count": 6,
   "metadata": {},
   "outputs": [
    {
     "data": {
      "text/html": [
       "<div>\n",
       "<style scoped>\n",
       "    .dataframe tbody tr th:only-of-type {\n",
       "        vertical-align: middle;\n",
       "    }\n",
       "\n",
       "    .dataframe tbody tr th {\n",
       "        vertical-align: top;\n",
       "    }\n",
       "\n",
       "    .dataframe thead th {\n",
       "        text-align: right;\n",
       "    }\n",
       "</style>\n",
       "<table border=\"1\" class=\"dataframe\">\n",
       "  <thead>\n",
       "    <tr style=\"text-align: right;\">\n",
       "      <th></th>\n",
       "      <th>0</th>\n",
       "      <th>1</th>\n",
       "    </tr>\n",
       "  </thead>\n",
       "  <tbody>\n",
       "    <tr>\n",
       "      <th>Hypothesis</th>\n",
       "      <td>object</td>\n",
       "      <td>0</td>\n",
       "    </tr>\n",
       "    <tr>\n",
       "      <th>Reach</th>\n",
       "      <td>int64</td>\n",
       "      <td>0</td>\n",
       "    </tr>\n",
       "    <tr>\n",
       "      <th>Impact</th>\n",
       "      <td>int64</td>\n",
       "      <td>0</td>\n",
       "    </tr>\n",
       "    <tr>\n",
       "      <th>Confidence</th>\n",
       "      <td>int64</td>\n",
       "      <td>0</td>\n",
       "    </tr>\n",
       "    <tr>\n",
       "      <th>Efforts</th>\n",
       "      <td>int64</td>\n",
       "      <td>0</td>\n",
       "    </tr>\n",
       "  </tbody>\n",
       "</table>\n",
       "</div>"
      ],
      "text/plain": [
       "                 0  1\n",
       "Hypothesis  object  0\n",
       "Reach       int64   0\n",
       "Impact      int64   0\n",
       "Confidence  int64   0\n",
       "Efforts     int64   0"
      ]
     },
     "metadata": {},
     "output_type": "display_data"
    }
   ],
   "source": [
    "# проверяю на пропуски\n",
    "display(pd.concat([hypothesis.dtypes, hypothesis.isna().sum()], axis=1))"
   ]
  },
  {
   "cell_type": "code",
   "execution_count": 7,
   "metadata": {},
   "outputs": [
    {
     "data": {
      "text/html": [
       "<div>\n",
       "<style scoped>\n",
       "    .dataframe tbody tr th:only-of-type {\n",
       "        vertical-align: middle;\n",
       "    }\n",
       "\n",
       "    .dataframe tbody tr th {\n",
       "        vertical-align: top;\n",
       "    }\n",
       "\n",
       "    .dataframe thead th {\n",
       "        text-align: right;\n",
       "    }\n",
       "</style>\n",
       "<table border=\"1\" class=\"dataframe\">\n",
       "  <thead>\n",
       "    <tr style=\"text-align: right;\">\n",
       "      <th></th>\n",
       "      <th>Hypothesis</th>\n",
       "      <th>Reach</th>\n",
       "      <th>Impact</th>\n",
       "      <th>Confidence</th>\n",
       "      <th>Efforts</th>\n",
       "    </tr>\n",
       "  </thead>\n",
       "  <tbody>\n",
       "    <tr>\n",
       "      <th>count</th>\n",
       "      <td>9</td>\n",
       "      <td>9.000000</td>\n",
       "      <td>9.000000</td>\n",
       "      <td>9.000000</td>\n",
       "      <td>9.000000</td>\n",
       "    </tr>\n",
       "    <tr>\n",
       "      <th>unique</th>\n",
       "      <td>9</td>\n",
       "      <td>NaN</td>\n",
       "      <td>NaN</td>\n",
       "      <td>NaN</td>\n",
       "      <td>NaN</td>\n",
       "    </tr>\n",
       "    <tr>\n",
       "      <th>top</th>\n",
       "      <td>Показать на главной странице баннеры с актуальными акциями и распродажами, чтобы увеличить конверсию</td>\n",
       "      <td>NaN</td>\n",
       "      <td>NaN</td>\n",
       "      <td>NaN</td>\n",
       "      <td>NaN</td>\n",
       "    </tr>\n",
       "    <tr>\n",
       "      <th>freq</th>\n",
       "      <td>1</td>\n",
       "      <td>NaN</td>\n",
       "      <td>NaN</td>\n",
       "      <td>NaN</td>\n",
       "      <td>NaN</td>\n",
       "    </tr>\n",
       "    <tr>\n",
       "      <th>mean</th>\n",
       "      <td>NaN</td>\n",
       "      <td>4.777778</td>\n",
       "      <td>4.777778</td>\n",
       "      <td>5.555556</td>\n",
       "      <td>4.888889</td>\n",
       "    </tr>\n",
       "    <tr>\n",
       "      <th>std</th>\n",
       "      <td>NaN</td>\n",
       "      <td>3.153481</td>\n",
       "      <td>3.192874</td>\n",
       "      <td>3.045944</td>\n",
       "      <td>2.803767</td>\n",
       "    </tr>\n",
       "    <tr>\n",
       "      <th>min</th>\n",
       "      <td>NaN</td>\n",
       "      <td>1.000000</td>\n",
       "      <td>1.000000</td>\n",
       "      <td>1.000000</td>\n",
       "      <td>1.000000</td>\n",
       "    </tr>\n",
       "    <tr>\n",
       "      <th>25%</th>\n",
       "      <td>NaN</td>\n",
       "      <td>3.000000</td>\n",
       "      <td>3.000000</td>\n",
       "      <td>3.000000</td>\n",
       "      <td>3.000000</td>\n",
       "    </tr>\n",
       "    <tr>\n",
       "      <th>50%</th>\n",
       "      <td>NaN</td>\n",
       "      <td>3.000000</td>\n",
       "      <td>3.000000</td>\n",
       "      <td>7.000000</td>\n",
       "      <td>5.000000</td>\n",
       "    </tr>\n",
       "    <tr>\n",
       "      <th>75%</th>\n",
       "      <td>NaN</td>\n",
       "      <td>8.000000</td>\n",
       "      <td>7.000000</td>\n",
       "      <td>8.000000</td>\n",
       "      <td>6.000000</td>\n",
       "    </tr>\n",
       "    <tr>\n",
       "      <th>max</th>\n",
       "      <td>NaN</td>\n",
       "      <td>10.000000</td>\n",
       "      <td>10.000000</td>\n",
       "      <td>9.000000</td>\n",
       "      <td>10.000000</td>\n",
       "    </tr>\n",
       "  </tbody>\n",
       "</table>\n",
       "</div>"
      ],
      "text/plain": [
       "                                                                                                  Hypothesis  \\\n",
       "count   9                                                                                                      \n",
       "unique  9                                                                                                      \n",
       "top     Показать на главной странице баннеры с актуальными акциями и распродажами, чтобы увеличить конверсию   \n",
       "freq    1                                                                                                      \n",
       "mean    NaN                                                                                                    \n",
       "std     NaN                                                                                                    \n",
       "min     NaN                                                                                                    \n",
       "25%     NaN                                                                                                    \n",
       "50%     NaN                                                                                                    \n",
       "75%     NaN                                                                                                    \n",
       "max     NaN                                                                                                    \n",
       "\n",
       "            Reach     Impact  Confidence    Efforts  \n",
       "count   9.000000   9.000000   9.000000    9.000000   \n",
       "unique NaN        NaN        NaN         NaN         \n",
       "top    NaN        NaN        NaN         NaN         \n",
       "freq   NaN        NaN        NaN         NaN         \n",
       "mean    4.777778   4.777778   5.555556    4.888889   \n",
       "std     3.153481   3.192874   3.045944    2.803767   \n",
       "min     1.000000   1.000000   1.000000    1.000000   \n",
       "25%     3.000000   3.000000   3.000000    3.000000   \n",
       "50%     3.000000   3.000000   7.000000    5.000000   \n",
       "75%     8.000000   7.000000   8.000000    6.000000   \n",
       "max     10.000000  10.000000  9.000000    10.000000  "
      ]
     },
     "metadata": {},
     "output_type": "display_data"
    }
   ],
   "source": [
    "# изучаю таблицу через describe\n",
    "display(hypothesis.describe(include='all'))"
   ]
  },
  {
   "cell_type": "markdown",
   "metadata": {},
   "source": [
    "<div style=\"border-radius: 15px; border: 3px solid indigo; padding: 15px;\">\n",
    "<font color='purple'><b>hypothesis['Hypothesis']</b></font> — краткое описание гипотезы\n",
    "</div>"
   ]
  },
  {
   "cell_type": "code",
   "execution_count": 8,
   "metadata": {},
   "outputs": [
    {
     "data": {
      "text/plain": [
       "'Добавить два новых канала привлечения трафика, что позволит привлекать на 30% больше пользователей'"
      ]
     },
     "metadata": {},
     "output_type": "display_data"
    },
    {
     "data": {
      "text/plain": [
       "'Запустить собственную службу доставки, что сократит срок доставки заказов'"
      ]
     },
     "metadata": {},
     "output_type": "display_data"
    },
    {
     "data": {
      "text/plain": [
       "'Добавить блоки рекомендаций товаров на сайт интернет магазина, чтобы повысить конверсию и средний чек заказа'"
      ]
     },
     "metadata": {},
     "output_type": "display_data"
    },
    {
     "data": {
      "text/plain": [
       "'Изменить структура категорий, что увеличит конверсию, т.к. пользователи быстрее найдут нужный товар'"
      ]
     },
     "metadata": {},
     "output_type": "display_data"
    },
    {
     "data": {
      "text/plain": [
       "'Изменить цвет фона главной страницы, чтобы увеличить вовлеченность пользователей'"
      ]
     },
     "metadata": {},
     "output_type": "display_data"
    },
    {
     "data": {
      "text/plain": [
       "'Добавить страницу отзывов клиентов о магазине, что позволит увеличить количество заказов'"
      ]
     },
     "metadata": {},
     "output_type": "display_data"
    },
    {
     "data": {
      "text/plain": [
       "'Показать на главной странице баннеры с актуальными акциями и распродажами, чтобы увеличить конверсию'"
      ]
     },
     "metadata": {},
     "output_type": "display_data"
    },
    {
     "data": {
      "text/plain": [
       "'Добавить форму подписки на все основные страницы, чтобы собрать базу клиентов для email-рассылок'"
      ]
     },
     "metadata": {},
     "output_type": "display_data"
    },
    {
     "data": {
      "text/plain": [
       "'Запустить акцию, дающую скидку на товар в день рождения'"
      ]
     },
     "metadata": {},
     "output_type": "display_data"
    },
    {
     "name": "stdout",
     "output_type": "stream",
     "text": [
      "Всего уникальных значений в hypothesis[\"Hypothesis\"]: 9\n"
     ]
    }
   ],
   "source": [
    "# изучаю уникальные значения по столбцу Hypothesis\n",
    "display(*hypothesis['Hypothesis'].unique())\n",
    "print('Всего уникальных значений в hypothesis[\"Hypothesis\"]:', len(hypothesis['Hypothesis'].unique()))"
   ]
  },
  {
   "cell_type": "markdown",
   "metadata": {},
   "source": [
    "<div style=\"border-radius: 15px; border: 3px solid indigo; padding: 15px;\">\n",
    "<font color='purple'><b>hypothesis['Reach']</b></font> — охват пользователей по 10-балльной шкале\n",
    "</div>"
   ]
  },
  {
   "cell_type": "code",
   "execution_count": 9,
   "metadata": {},
   "outputs": [
    {
     "data": {
      "text/plain": [
       "array([ 3,  2,  8,  5, 10,  1], dtype=int64)"
      ]
     },
     "metadata": {},
     "output_type": "display_data"
    },
    {
     "name": "stdout",
     "output_type": "stream",
     "text": [
      "Всего уникальных значений в hypothesis[\"Reach\"]: 6\n"
     ]
    }
   ],
   "source": [
    "# изучаю уникальные значения по столбцу Reach\n",
    "display(hypothesis['Reach'].unique())\n",
    "print('Всего уникальных значений в hypothesis[\"Reach\"]:', len(hypothesis['Reach'].unique()))"
   ]
  },
  {
   "cell_type": "markdown",
   "metadata": {},
   "source": [
    "<div style=\"border-radius: 15px; border: 3px solid indigo; padding: 15px;\">\n",
    "<font color='purple'><b>hypothesis['Impact']</b></font> — влияние на пользователей по 10-балльной шкале\n",
    "</div>"
   ]
  },
  {
   "cell_type": "code",
   "execution_count": 10,
   "metadata": {},
   "outputs": [
    {
     "data": {
      "text/plain": [
       "array([10,  5,  3,  1,  2,  7,  9], dtype=int64)"
      ]
     },
     "metadata": {},
     "output_type": "display_data"
    },
    {
     "name": "stdout",
     "output_type": "stream",
     "text": [
      "Всего уникальных значений в hypothesis[\"Impact\"]: 7\n"
     ]
    }
   ],
   "source": [
    "# изучаю уникальные значения по столбцу Impact\n",
    "display(hypothesis['Impact'].unique())\n",
    "print('Всего уникальных значений в hypothesis[\"Impact\"]:', len(hypothesis['Impact'].unique()))"
   ]
  },
  {
   "cell_type": "markdown",
   "metadata": {},
   "source": [
    "<div style=\"border-radius: 15px; border: 3px solid indigo; padding: 15px;\">\n",
    "<font color='purple'><b>hypothesis['Confidence']</b></font> — уверенность в гипотезе по 10-балльной шкале\n",
    "</div>"
   ]
  },
  {
   "cell_type": "code",
   "execution_count": 11,
   "metadata": {},
   "outputs": [
    {
     "data": {
      "text/plain": [
       "array([8, 4, 7, 3, 1, 2, 9], dtype=int64)"
      ]
     },
     "metadata": {},
     "output_type": "display_data"
    },
    {
     "name": "stdout",
     "output_type": "stream",
     "text": [
      "Всего уникальных значений в hypothesis[\"Confidence\"]: 7\n"
     ]
    }
   ],
   "source": [
    "# изучаю уникальные значения по столбцу Confidence\n",
    "display(hypothesis['Confidence'].unique())\n",
    "print('Всего уникальных значений в hypothesis[\"Confidence\"]:', len(hypothesis['Confidence'].unique()))"
   ]
  },
  {
   "cell_type": "markdown",
   "metadata": {},
   "source": [
    "<div style=\"border-radius: 15px; border: 3px solid indigo; padding: 15px;\">\n",
    "<font color='purple'><b>hypothesis['Efforts']</b></font> — затраты ресурсов на проверку гипотезы по 10-балльной шкале. Чем больше значение Efforts, тем дороже проверка гипотезы.\n",
    "</div>"
   ]
  },
  {
   "cell_type": "code",
   "execution_count": 12,
   "metadata": {},
   "outputs": [
    {
     "data": {
      "text/plain": [
       "array([ 6, 10,  3,  8,  1,  5], dtype=int64)"
      ]
     },
     "metadata": {},
     "output_type": "display_data"
    },
    {
     "name": "stdout",
     "output_type": "stream",
     "text": [
      "Всего уникальных значений в hypothesis[\"Efforts\"]: 6\n"
     ]
    }
   ],
   "source": [
    "# изучаю уникальные значения по столбцу Confidence\n",
    "display(hypothesis['Efforts'].unique())\n",
    "print('Всего уникальных значений в hypothesis[\"Efforts\"]:', len(hypothesis['Efforts'].unique()))"
   ]
  },
  {
   "cell_type": "markdown",
   "metadata": {},
   "source": [
    "<div style=\"border-radius: 15px; border: 3px solid indigo; padding: 15px;\">\n",
    "<font color='purple'><b>orders</b></font> — информация о заказах.\n",
    "</div>"
   ]
  },
  {
   "cell_type": "code",
   "execution_count": 13,
   "metadata": {},
   "outputs": [
    {
     "name": "stdout",
     "output_type": "stream",
     "text": [
      "<class 'pandas.core.frame.DataFrame'>\n",
      "RangeIndex: 1197 entries, 0 to 1196\n",
      "Data columns (total 5 columns):\n",
      " #   Column         Non-Null Count  Dtype \n",
      "---  ------         --------------  ----- \n",
      " 0   transactionId  1197 non-null   int64 \n",
      " 1   visitorId      1197 non-null   int64 \n",
      " 2   date           1197 non-null   object\n",
      " 3   revenue        1197 non-null   int64 \n",
      " 4   group          1197 non-null   object\n",
      "dtypes: int64(3), object(2)\n",
      "memory usage: 46.9+ KB\n"
     ]
    },
    {
     "data": {
      "text/plain": [
       "None"
      ]
     },
     "metadata": {},
     "output_type": "display_data"
    }
   ],
   "source": [
    "# сохраняю таблицу orders.csv в переменной orders\n",
    "orders = pd.read_csv('orders.csv')\n",
    "display(orders.info())"
   ]
  },
  {
   "cell_type": "code",
   "execution_count": 14,
   "metadata": {},
   "outputs": [
    {
     "data": {
      "text/plain": [
       "Index(['transactionId', 'visitorId', 'date', 'revenue', 'group'], dtype='object')"
      ]
     },
     "metadata": {},
     "output_type": "display_data"
    }
   ],
   "source": [
    "# проверяю отдельно наименование столбцов\n",
    "display(orders.columns)"
   ]
  },
  {
   "cell_type": "code",
   "execution_count": 15,
   "metadata": {},
   "outputs": [
    {
     "data": {
      "text/plain": [
       "0"
      ]
     },
     "metadata": {},
     "output_type": "display_data"
    }
   ],
   "source": [
    "# проверяю данные на предмет дубликатов\n",
    "display(orders.duplicated().sum())"
   ]
  },
  {
   "cell_type": "code",
   "execution_count": 16,
   "metadata": {},
   "outputs": [
    {
     "data": {
      "text/html": [
       "<div>\n",
       "<style scoped>\n",
       "    .dataframe tbody tr th:only-of-type {\n",
       "        vertical-align: middle;\n",
       "    }\n",
       "\n",
       "    .dataframe tbody tr th {\n",
       "        vertical-align: top;\n",
       "    }\n",
       "\n",
       "    .dataframe thead th {\n",
       "        text-align: right;\n",
       "    }\n",
       "</style>\n",
       "<table border=\"1\" class=\"dataframe\">\n",
       "  <thead>\n",
       "    <tr style=\"text-align: right;\">\n",
       "      <th></th>\n",
       "      <th>transactionId</th>\n",
       "      <th>visitorId</th>\n",
       "      <th>date</th>\n",
       "      <th>revenue</th>\n",
       "      <th>group</th>\n",
       "    </tr>\n",
       "  </thead>\n",
       "  <tbody>\n",
       "    <tr>\n",
       "      <th>0</th>\n",
       "      <td>3667963787</td>\n",
       "      <td>3312258926</td>\n",
       "      <td>2019-08-15</td>\n",
       "      <td>1650</td>\n",
       "      <td>B</td>\n",
       "    </tr>\n",
       "    <tr>\n",
       "      <th>1</th>\n",
       "      <td>2804400009</td>\n",
       "      <td>3642806036</td>\n",
       "      <td>2019-08-15</td>\n",
       "      <td>730</td>\n",
       "      <td>B</td>\n",
       "    </tr>\n",
       "    <tr>\n",
       "      <th>2</th>\n",
       "      <td>2961555356</td>\n",
       "      <td>4069496402</td>\n",
       "      <td>2019-08-15</td>\n",
       "      <td>400</td>\n",
       "      <td>A</td>\n",
       "    </tr>\n",
       "    <tr>\n",
       "      <th>3</th>\n",
       "      <td>3797467345</td>\n",
       "      <td>1196621759</td>\n",
       "      <td>2019-08-15</td>\n",
       "      <td>9759</td>\n",
       "      <td>B</td>\n",
       "    </tr>\n",
       "    <tr>\n",
       "      <th>4</th>\n",
       "      <td>2282983706</td>\n",
       "      <td>2322279887</td>\n",
       "      <td>2019-08-15</td>\n",
       "      <td>2308</td>\n",
       "      <td>B</td>\n",
       "    </tr>\n",
       "  </tbody>\n",
       "</table>\n",
       "</div>"
      ],
      "text/plain": [
       "   transactionId   visitorId        date  revenue group\n",
       "0  3667963787     3312258926  2019-08-15  1650     B   \n",
       "1  2804400009     3642806036  2019-08-15  730      B   \n",
       "2  2961555356     4069496402  2019-08-15  400      A   \n",
       "3  3797467345     1196621759  2019-08-15  9759     B   \n",
       "4  2282983706     2322279887  2019-08-15  2308     B   "
      ]
     },
     "metadata": {},
     "output_type": "display_data"
    }
   ],
   "source": [
    "# изучаю данные head\n",
    "display(orders.head())"
   ]
  },
  {
   "cell_type": "code",
   "execution_count": 17,
   "metadata": {},
   "outputs": [
    {
     "data": {
      "text/html": [
       "<div>\n",
       "<style scoped>\n",
       "    .dataframe tbody tr th:only-of-type {\n",
       "        vertical-align: middle;\n",
       "    }\n",
       "\n",
       "    .dataframe tbody tr th {\n",
       "        vertical-align: top;\n",
       "    }\n",
       "\n",
       "    .dataframe thead th {\n",
       "        text-align: right;\n",
       "    }\n",
       "</style>\n",
       "<table border=\"1\" class=\"dataframe\">\n",
       "  <thead>\n",
       "    <tr style=\"text-align: right;\">\n",
       "      <th></th>\n",
       "      <th>transactionId</th>\n",
       "      <th>visitorId</th>\n",
       "      <th>date</th>\n",
       "      <th>revenue</th>\n",
       "      <th>group</th>\n",
       "    </tr>\n",
       "  </thead>\n",
       "  <tbody>\n",
       "    <tr>\n",
       "      <th>843</th>\n",
       "      <td>3536751509</td>\n",
       "      <td>3722970464</td>\n",
       "      <td>2019-08-05</td>\n",
       "      <td>985</td>\n",
       "      <td>B</td>\n",
       "    </tr>\n",
       "    <tr>\n",
       "      <th>223</th>\n",
       "      <td>408545316</td>\n",
       "      <td>2153871238</td>\n",
       "      <td>2019-08-23</td>\n",
       "      <td>2490</td>\n",
       "      <td>A</td>\n",
       "    </tr>\n",
       "    <tr>\n",
       "      <th>94</th>\n",
       "      <td>252633006</td>\n",
       "      <td>457167155</td>\n",
       "      <td>2019-08-22</td>\n",
       "      <td>5970</td>\n",
       "      <td>B</td>\n",
       "    </tr>\n",
       "    <tr>\n",
       "      <th>714</th>\n",
       "      <td>175321713</td>\n",
       "      <td>2138109167</td>\n",
       "      <td>2019-08-20</td>\n",
       "      <td>295</td>\n",
       "      <td>B</td>\n",
       "    </tr>\n",
       "    <tr>\n",
       "      <th>718</th>\n",
       "      <td>3232411764</td>\n",
       "      <td>2357168171</td>\n",
       "      <td>2019-08-27</td>\n",
       "      <td>24381</td>\n",
       "      <td>A</td>\n",
       "    </tr>\n",
       "  </tbody>\n",
       "</table>\n",
       "</div>"
      ],
      "text/plain": [
       "     transactionId   visitorId        date  revenue group\n",
       "843  3536751509     3722970464  2019-08-05  985      B   \n",
       "223  408545316      2153871238  2019-08-23  2490     A   \n",
       "94   252633006      457167155   2019-08-22  5970     B   \n",
       "714  175321713      2138109167  2019-08-20  295      B   \n",
       "718  3232411764     2357168171  2019-08-27  24381    A   "
      ]
     },
     "metadata": {},
     "output_type": "display_data"
    }
   ],
   "source": [
    "# изучаю данные sample\n",
    "display(orders.sample(5))"
   ]
  },
  {
   "cell_type": "code",
   "execution_count": 18,
   "metadata": {},
   "outputs": [
    {
     "data": {
      "text/html": [
       "<div>\n",
       "<style scoped>\n",
       "    .dataframe tbody tr th:only-of-type {\n",
       "        vertical-align: middle;\n",
       "    }\n",
       "\n",
       "    .dataframe tbody tr th {\n",
       "        vertical-align: top;\n",
       "    }\n",
       "\n",
       "    .dataframe thead th {\n",
       "        text-align: right;\n",
       "    }\n",
       "</style>\n",
       "<table border=\"1\" class=\"dataframe\">\n",
       "  <thead>\n",
       "    <tr style=\"text-align: right;\">\n",
       "      <th></th>\n",
       "      <th>transactionId</th>\n",
       "      <th>visitorId</th>\n",
       "      <th>date</th>\n",
       "      <th>revenue</th>\n",
       "      <th>group</th>\n",
       "    </tr>\n",
       "  </thead>\n",
       "  <tbody>\n",
       "    <tr>\n",
       "      <th>1192</th>\n",
       "      <td>2662137336</td>\n",
       "      <td>3733762160</td>\n",
       "      <td>2019-08-14</td>\n",
       "      <td>6490</td>\n",
       "      <td>B</td>\n",
       "    </tr>\n",
       "    <tr>\n",
       "      <th>1193</th>\n",
       "      <td>2203539145</td>\n",
       "      <td>370388673</td>\n",
       "      <td>2019-08-14</td>\n",
       "      <td>3190</td>\n",
       "      <td>A</td>\n",
       "    </tr>\n",
       "    <tr>\n",
       "      <th>1194</th>\n",
       "      <td>1807773912</td>\n",
       "      <td>573423106</td>\n",
       "      <td>2019-08-14</td>\n",
       "      <td>10550</td>\n",
       "      <td>A</td>\n",
       "    </tr>\n",
       "    <tr>\n",
       "      <th>1195</th>\n",
       "      <td>1947021204</td>\n",
       "      <td>1614305549</td>\n",
       "      <td>2019-08-14</td>\n",
       "      <td>100</td>\n",
       "      <td>A</td>\n",
       "    </tr>\n",
       "    <tr>\n",
       "      <th>1196</th>\n",
       "      <td>3936777065</td>\n",
       "      <td>2108080724</td>\n",
       "      <td>2019-08-15</td>\n",
       "      <td>202740</td>\n",
       "      <td>B</td>\n",
       "    </tr>\n",
       "  </tbody>\n",
       "</table>\n",
       "</div>"
      ],
      "text/plain": [
       "      transactionId   visitorId        date  revenue group\n",
       "1192  2662137336     3733762160  2019-08-14  6490     B   \n",
       "1193  2203539145     370388673   2019-08-14  3190     A   \n",
       "1194  1807773912     573423106   2019-08-14  10550    A   \n",
       "1195  1947021204     1614305549  2019-08-14  100      A   \n",
       "1196  3936777065     2108080724  2019-08-15  202740   B   "
      ]
     },
     "metadata": {},
     "output_type": "display_data"
    }
   ],
   "source": [
    "# изучаю данные tail\n",
    "display(orders.tail(5))"
   ]
  },
  {
   "cell_type": "code",
   "execution_count": 19,
   "metadata": {},
   "outputs": [
    {
     "data": {
      "text/html": [
       "<div>\n",
       "<style scoped>\n",
       "    .dataframe tbody tr th:only-of-type {\n",
       "        vertical-align: middle;\n",
       "    }\n",
       "\n",
       "    .dataframe tbody tr th {\n",
       "        vertical-align: top;\n",
       "    }\n",
       "\n",
       "    .dataframe thead th {\n",
       "        text-align: right;\n",
       "    }\n",
       "</style>\n",
       "<table border=\"1\" class=\"dataframe\">\n",
       "  <thead>\n",
       "    <tr style=\"text-align: right;\">\n",
       "      <th></th>\n",
       "      <th>0</th>\n",
       "      <th>1</th>\n",
       "    </tr>\n",
       "  </thead>\n",
       "  <tbody>\n",
       "    <tr>\n",
       "      <th>transactionId</th>\n",
       "      <td>int64</td>\n",
       "      <td>0</td>\n",
       "    </tr>\n",
       "    <tr>\n",
       "      <th>visitorId</th>\n",
       "      <td>int64</td>\n",
       "      <td>0</td>\n",
       "    </tr>\n",
       "    <tr>\n",
       "      <th>date</th>\n",
       "      <td>object</td>\n",
       "      <td>0</td>\n",
       "    </tr>\n",
       "    <tr>\n",
       "      <th>revenue</th>\n",
       "      <td>int64</td>\n",
       "      <td>0</td>\n",
       "    </tr>\n",
       "    <tr>\n",
       "      <th>group</th>\n",
       "      <td>object</td>\n",
       "      <td>0</td>\n",
       "    </tr>\n",
       "  </tbody>\n",
       "</table>\n",
       "</div>"
      ],
      "text/plain": [
       "                    0  1\n",
       "transactionId  int64   0\n",
       "visitorId      int64   0\n",
       "date           object  0\n",
       "revenue        int64   0\n",
       "group          object  0"
      ]
     },
     "metadata": {},
     "output_type": "display_data"
    }
   ],
   "source": [
    "# проверяю на пропуски\n",
    "display(pd.concat([orders.dtypes, orders.isna().sum()], axis=1))"
   ]
  },
  {
   "cell_type": "code",
   "execution_count": 20,
   "metadata": {},
   "outputs": [
    {
     "data": {
      "text/html": [
       "<div>\n",
       "<style scoped>\n",
       "    .dataframe tbody tr th:only-of-type {\n",
       "        vertical-align: middle;\n",
       "    }\n",
       "\n",
       "    .dataframe tbody tr th {\n",
       "        vertical-align: top;\n",
       "    }\n",
       "\n",
       "    .dataframe thead th {\n",
       "        text-align: right;\n",
       "    }\n",
       "</style>\n",
       "<table border=\"1\" class=\"dataframe\">\n",
       "  <thead>\n",
       "    <tr style=\"text-align: right;\">\n",
       "      <th></th>\n",
       "      <th>transactionId</th>\n",
       "      <th>visitorId</th>\n",
       "      <th>date</th>\n",
       "      <th>revenue</th>\n",
       "      <th>group</th>\n",
       "    </tr>\n",
       "  </thead>\n",
       "  <tbody>\n",
       "    <tr>\n",
       "      <th>count</th>\n",
       "      <td>1.197000e+03</td>\n",
       "      <td>1.197000e+03</td>\n",
       "      <td>1197</td>\n",
       "      <td>1.197000e+03</td>\n",
       "      <td>1197</td>\n",
       "    </tr>\n",
       "    <tr>\n",
       "      <th>unique</th>\n",
       "      <td>NaN</td>\n",
       "      <td>NaN</td>\n",
       "      <td>31</td>\n",
       "      <td>NaN</td>\n",
       "      <td>2</td>\n",
       "    </tr>\n",
       "    <tr>\n",
       "      <th>top</th>\n",
       "      <td>NaN</td>\n",
       "      <td>NaN</td>\n",
       "      <td>2019-08-05</td>\n",
       "      <td>NaN</td>\n",
       "      <td>B</td>\n",
       "    </tr>\n",
       "    <tr>\n",
       "      <th>freq</th>\n",
       "      <td>NaN</td>\n",
       "      <td>NaN</td>\n",
       "      <td>48</td>\n",
       "      <td>NaN</td>\n",
       "      <td>640</td>\n",
       "    </tr>\n",
       "    <tr>\n",
       "      <th>mean</th>\n",
       "      <td>2.155621e+09</td>\n",
       "      <td>2.165960e+09</td>\n",
       "      <td>NaN</td>\n",
       "      <td>8.348006e+03</td>\n",
       "      <td>NaN</td>\n",
       "    </tr>\n",
       "    <tr>\n",
       "      <th>std</th>\n",
       "      <td>1.229085e+09</td>\n",
       "      <td>1.236014e+09</td>\n",
       "      <td>NaN</td>\n",
       "      <td>3.919113e+04</td>\n",
       "      <td>NaN</td>\n",
       "    </tr>\n",
       "    <tr>\n",
       "      <th>min</th>\n",
       "      <td>1.062393e+06</td>\n",
       "      <td>5.114589e+06</td>\n",
       "      <td>NaN</td>\n",
       "      <td>5.000000e+01</td>\n",
       "      <td>NaN</td>\n",
       "    </tr>\n",
       "    <tr>\n",
       "      <th>25%</th>\n",
       "      <td>1.166776e+09</td>\n",
       "      <td>1.111826e+09</td>\n",
       "      <td>NaN</td>\n",
       "      <td>1.220000e+03</td>\n",
       "      <td>NaN</td>\n",
       "    </tr>\n",
       "    <tr>\n",
       "      <th>50%</th>\n",
       "      <td>2.145194e+09</td>\n",
       "      <td>2.217985e+09</td>\n",
       "      <td>NaN</td>\n",
       "      <td>2.978000e+03</td>\n",
       "      <td>NaN</td>\n",
       "    </tr>\n",
       "    <tr>\n",
       "      <th>75%</th>\n",
       "      <td>3.237740e+09</td>\n",
       "      <td>3.177606e+09</td>\n",
       "      <td>NaN</td>\n",
       "      <td>8.290000e+03</td>\n",
       "      <td>NaN</td>\n",
       "    </tr>\n",
       "    <tr>\n",
       "      <th>max</th>\n",
       "      <td>4.293856e+09</td>\n",
       "      <td>4.283872e+09</td>\n",
       "      <td>NaN</td>\n",
       "      <td>1.294500e+06</td>\n",
       "      <td>NaN</td>\n",
       "    </tr>\n",
       "  </tbody>\n",
       "</table>\n",
       "</div>"
      ],
      "text/plain": [
       "        transactionId     visitorId        date       revenue group\n",
       "count   1.197000e+03   1.197000e+03  1197        1.197000e+03  1197\n",
       "unique NaN            NaN            31         NaN            2   \n",
       "top    NaN            NaN            2019-08-05 NaN            B   \n",
       "freq   NaN            NaN            48         NaN            640 \n",
       "mean    2.155621e+09   2.165960e+09  NaN         8.348006e+03  NaN \n",
       "std     1.229085e+09   1.236014e+09  NaN         3.919113e+04  NaN \n",
       "min     1.062393e+06   5.114589e+06  NaN         5.000000e+01  NaN \n",
       "25%     1.166776e+09   1.111826e+09  NaN         1.220000e+03  NaN \n",
       "50%     2.145194e+09   2.217985e+09  NaN         2.978000e+03  NaN \n",
       "75%     3.237740e+09   3.177606e+09  NaN         8.290000e+03  NaN \n",
       "max     4.293856e+09   4.283872e+09  NaN         1.294500e+06  NaN "
      ]
     },
     "metadata": {},
     "output_type": "display_data"
    }
   ],
   "source": [
    "# изучаю таблицу через describe\n",
    "display(orders.describe(include='all'))"
   ]
  },
  {
   "cell_type": "markdown",
   "metadata": {},
   "source": [
    "<div style=\"border-radius: 15px; border: 3px solid indigo; padding: 15px;\">\n",
    "<font color='purple'><b>orders['transactionId']</b></font> — идентификатор заказа\n",
    "</div>"
   ]
  },
  {
   "cell_type": "code",
   "execution_count": 21,
   "metadata": {},
   "outputs": [
    {
     "data": {
      "text/plain": [
       "array([3667963787, 2804400009, 2961555356, ..., 1807773912, 1947021204,\n",
       "       3936777065], dtype=int64)"
      ]
     },
     "metadata": {},
     "output_type": "display_data"
    },
    {
     "name": "stdout",
     "output_type": "stream",
     "text": [
      "Всего уникальных значений в orders[\"transactionId\"]: 1197\n"
     ]
    }
   ],
   "source": [
    "# изучаю уникальные значения по столбцу transactionId\n",
    "display(orders['transactionId'].unique())\n",
    "print('Всего уникальных значений в orders[\"transactionId\"]:', len(orders['transactionId'].unique()))"
   ]
  },
  {
   "cell_type": "markdown",
   "metadata": {},
   "source": [
    "<div style=\"border-radius: 15px; border: 3px solid indigo; padding: 15px;\">\n",
    "<font color='purple'><b>orders['visitorId']</b></font> — идентификатор пользователя, совершившего заказ\n",
    "</div>"
   ]
  },
  {
   "cell_type": "code",
   "execution_count": 22,
   "metadata": {},
   "outputs": [
    {
     "data": {
      "text/plain": [
       "array([3312258926, 3642806036, 4069496402, ...,  370388673,  573423106,\n",
       "       2108080724], dtype=int64)"
      ]
     },
     "metadata": {},
     "output_type": "display_data"
    },
    {
     "name": "stdout",
     "output_type": "stream",
     "text": [
      "Всего уникальных значений в orders[\"visitorId\"]: 1031\n"
     ]
    }
   ],
   "source": [
    "# изучаю уникальные значения по столбцу visitorId\n",
    "display(orders['visitorId'].unique())\n",
    "print('Всего уникальных значений в orders[\"visitorId\"]:', len(orders['visitorId'].unique()))"
   ]
  },
  {
   "cell_type": "markdown",
   "metadata": {},
   "source": [
    "<div style=\"border-radius: 15px; border: 3px solid indigo; padding: 15px;\">\n",
    "<font color='purple'><b>orders['date']</b></font> — дата, когда был совершён заказ\n",
    "</div>"
   ]
  },
  {
   "cell_type": "code",
   "execution_count": 23,
   "metadata": {},
   "outputs": [
    {
     "data": {
      "text/plain": [
       "array(['2019-08-15', '2019-08-16', '2019-08-01', '2019-08-22',\n",
       "       '2019-08-17', '2019-08-23', '2019-08-02', '2019-08-18',\n",
       "       '2019-08-24', '2019-08-03', '2019-08-25', '2019-08-28',\n",
       "       '2019-08-19', '2019-08-06', '2019-08-26', '2019-08-29',\n",
       "       '2019-08-04', '2019-08-20', '2019-08-09', '2019-08-07',\n",
       "       '2019-08-30', '2019-08-05', '2019-08-27', '2019-08-21',\n",
       "       '2019-08-08', '2019-08-10', '2019-08-31', '2019-08-11',\n",
       "       '2019-08-12', '2019-08-13', '2019-08-14'], dtype=object)"
      ]
     },
     "metadata": {},
     "output_type": "display_data"
    },
    {
     "name": "stdout",
     "output_type": "stream",
     "text": [
      "Всего уникальных значений в orders[\"date\"]: 31\n"
     ]
    }
   ],
   "source": [
    "# изучаю уникальные значения по столбцу date\n",
    "display(orders['date'].unique())\n",
    "print('Всего уникальных значений в orders[\"date\"]:', len(orders['date'].unique()))"
   ]
  },
  {
   "cell_type": "markdown",
   "metadata": {},
   "source": [
    "<div style=\"border-radius: 15px; border: 3px solid indigo; padding: 15px;\">\n",
    "<font color='purple'><b>orders['revenue']</b></font> — выручка заказа\n",
    "</div>"
   ]
  },
  {
   "cell_type": "code",
   "execution_count": 24,
   "metadata": {},
   "outputs": [
    {
     "data": {
      "text/plain": [
       "array([   1650,     730,     400,    9759,    2308,    2210,    1860,\n",
       "          1044,   13710,    1855,    4008,    4499,    7370,   11985,\n",
       "         10980,   15277,    1060,     990,   16490,    1190,     300,\n",
       "          1050,     632,   15185,    7555,    3488,    7620,    5280,\n",
       "           700,     190,     383,    1680,   22785,    2355,    2470,\n",
       "          6250,   19260,     610,    2986,    1090,    9290,    2480,\n",
       "          3000,    2140,    3590,    6990,    1250,    2970,   18100,\n",
       "           100,    2750,     570,    2978,    1440,    7860,   56650,\n",
       "           790,    1350,    2540,    1710,    2350,   14610,    8999,\n",
       "         10510,   29499,     780,     890,    4400,   32350,   40740,\n",
       "          2490,    2080,    5400,    5100,    4020,     690,   12350,\n",
       "          1290,     382,    2110,    1490,   17868,    1940,   26550,\n",
       "          5970,     987,    9024,    5555,    7129,    3240,    2995,\n",
       "          2550,   17600,     850,    5365,    8390,    5870,    5020,\n",
       "         14489,    8470,    1630,    5800,     172,    6230,     760,\n",
       "          3390,    4480,    1139,   12336,    1450,    7990,    5099,\n",
       "          9400,    6441,    3070,    6145,   53904,    6922,    5190,\n",
       "          6976,    7690,     426,   28490,     390,     299,    6329,\n",
       "          8800,    2990,    9448,    2920,    9980,    1790,    4970,\n",
       "          3760,    8090,   11990,   18900,    6420,    1990,     650,\n",
       "           436,    1038,    1780,    3564,    3340,    5480,   38160,\n",
       "          2800,    3040,     995,    3210,     310,    2090,    3468,\n",
       "           778,    5740,    4580,    1840,    1550,   17990,     290,\n",
       "          6940,    1690,    5369,   11115,     165,    2646,    2220,\n",
       "          2190,    2845,    1799,    1498,    9850,    6700,     500,\n",
       "          2640,    4717,   30649,    5640,    2820,   17422,   14155,\n",
       "          4185,   10960,    1140,    1310,    1380,   10791,    9310,\n",
       "          3470,    2955,   15850,   27550,   15485,    6201,    2320,\n",
       "           599,     660,    6149,    2938,   10590,     110,   12810,\n",
       "          9880,     920,   15417,     950,    2339,    3190,    2360,\n",
       "         16950,   34340,    1620,   14271,    1920,     380,    8240,\n",
       "           282,   10970,     170,    1922,   14400,   19538,   10450,\n",
       "          2290,    1830,   33970,    1100,    4877,   12680,     860,\n",
       "          3354,    1000,    6890,    4299,   12562,     420,   23750,\n",
       "          6350,     490,   22040,    2950,    2342,    5622,    7485,\n",
       "          1200,    2057,      76,    1900,    2690,   20219,    4195,\n",
       "           830,    2330,    2526,    1435,    1460,     250,    6194,\n",
       "          3460,    5070,    8850,    1410,    1758,    1220,    8000,\n",
       "         15072,   41450,    1530,    1390,    4370,    6000,    2580,\n",
       "          5160,    6536,    5000,   14970,    9080,     910,   16770,\n",
       "          2500,    1590,    3990,   20026,   12470,    4980,   16680,\n",
       "         16480,    4780,    3450,    5415,   16279,    2385,     120,\n",
       "          1398,   20990,    5539,     270,   21220,    1253,   12550,\n",
       "           880,    9990,    3890,   19240,    3080,     460,      70,\n",
       "           870,   26980,   13990,   24744,    4500,    8870,     600,\n",
       "           440,     750,    1950,   37550,   31680,    9490,   11249,\n",
       "           470, 1294500,    2630,    4930,    3150,   17650,    5450,\n",
       "          5770,    1575,   20450,   11050,    2000,    2255,    1999,\n",
       "          7300,   18464,    6677,    2890,    6248,    5270,    4485,\n",
       "          7349,    3030,      50,    9232,    9934,    2840,    8990,\n",
       "          8780,    4410,     350,   19280,   13769,    6681,    6260,\n",
       "          1130,   11135,   20100,    2722,    8885,    8585,    1980,\n",
       "         10195,   30990,    2359,     320,    2590,    8250,     580,\n",
       "          5350,    3140,    1910,   17379,    4840,    6930,    5690,\n",
       "          6090,     740,   10440,    4880,    6590,   21550,   33405,\n",
       "          3525,   43990,   13390,     697,    4495,    8401,    6382,\n",
       "          2285,   10485,    6288,   11711,    3950,   25080,    1580,\n",
       "         35485,    9750,   27490,    1510,    1850,    4990,    3650,\n",
       "         33050,    5530,   27600,    1893,   31350,     360,    5249,\n",
       "          6716,    3559,    5790,     604,    3550,     240,    2235,\n",
       "         10550,    4690,   12888,    7995,    3220,     495,     265,\n",
       "          4790,     480,    1721,    2830,     340,    1870,    2670,\n",
       "          2420,    3261,    1634,   39800,   12990,   25890,   18990,\n",
       "          3826,   18010,   10250,   17030,    5119,    9870,   13860,\n",
       "          8877,    4620,   43690,    1846,      90,    4190,   34550,\n",
       "         10765,    7024,    4698,    2030,   78990,   10850,     550,\n",
       "         16990,     620,     654,    6613,   10160,    6400,    6440,\n",
       "         27390,    2050,     540,   42740,    9680,    5150,     410,\n",
       "          3680,    5227,     590,    5776,    2390,   14495,    2070,\n",
       "          2555,   19520,   11688,    4180,    1399,   45880,    3050,\n",
       "           295,   17792,   24381,    1805,   28350,    6170,    3270,\n",
       "          2960,    1020,   10137,   14490,   67990,   86620,    4900,\n",
       "         49495,    3170,   37150,   19660,   45780,   24860,    1737,\n",
       "          1040,    9690,    1149,    5490,    1640,     840,   12490,\n",
       "          4740,    3480,     785,    7890,    2600,    3739,     900,\n",
       "          3888,    1993,   13770,   20290,    2578,    5330,    5719,\n",
       "          2436,    5030,    4210,    2400,    8099,    1540,    6242,\n",
       "         18560,     150,    4600,   13740,    2790,   19990,     980,\n",
       "          1120,   15416,    3410,    5840,    4170,   10170,     985,\n",
       "         22950,    1180,    1188,    2674,    4710,   18270,     770,\n",
       "         93940,    7110,   12642,    4920,    3290,   35890,    4363,\n",
       "          6445,   58220,    3740,    3500,    1600,    1420,    1729,\n",
       "          3250,     450,   11440,    4188,     530,   13354,   17300,\n",
       "          2180,     160,    1960,     359,     510,   19386,      75,\n",
       "          1885,    4040,   25790,   13203,    2250,   34990,    3430,\n",
       "         19490,     720,      60,    7390,    3910,   58550,     800,\n",
       "          7240,   18350,   18463,    3330,    6660,    4283,   60450,\n",
       "         24350,    9050,    5170,   28750,   11250,    1730,    5900,\n",
       "          2348,    3600,    1320,    3806,    2907,     971,   14990,\n",
       "           640,    8290,    5430,     820,    4685,    2610,   14250,\n",
       "           130,   52900,    3490,    4390,    9800,   13070,   15500,\n",
       "          6674,    3404,   18557,    8439,    8340,   27985,    6645,\n",
       "          8640,    6060,    1720,   15450,    1800,    8950,    8280,\n",
       "          1825,    5688,    4240,    2061,   12150,    1280,    8777,\n",
       "          9300,    8590,    6015,    1170,    4650,   39500,    6585,\n",
       "          5050,   14000,   32610,   16920,   65710,     725,    6438,\n",
       "         66350,    3320,   11490,    7500,    7550,   11565,    2752,\n",
       "         28060,    1707,    6780,    5390,    3260,   17940,   24990,\n",
       "          3980,    8529,    5440,    2510,   18893,   92550,   52480,\n",
       "          4140,    3520,    3180,    4120,     370,    6385,    9368,\n",
       "          3780,    1329,    3020,    6180,   25250,    4940,   10380,\n",
       "         15380,     112,   31550,    8600,    6490,  202740], dtype=int64)"
      ]
     },
     "metadata": {},
     "output_type": "display_data"
    },
    {
     "name": "stdout",
     "output_type": "stream",
     "text": [
      "Всего уникальных значений в orders[\"revenue\"]: 713\n"
     ]
    }
   ],
   "source": [
    "# изучаю уникальные значения по столбцу revenue\n",
    "display(orders['revenue'].unique())\n",
    "print('Всего уникальных значений в orders[\"revenue\"]:', len(orders['revenue'].unique()))"
   ]
  },
  {
   "cell_type": "markdown",
   "metadata": {},
   "source": [
    "<div style=\"border-radius: 15px; border: 3px solid indigo; padding: 15px;\">\n",
    "<font color='purple'><b>orders['group']</b></font> — группа A/B-теста, в которую попал заказ\n",
    "</div>"
   ]
  },
  {
   "cell_type": "code",
   "execution_count": 25,
   "metadata": {},
   "outputs": [
    {
     "data": {
      "text/plain": [
       "array(['B', 'A'], dtype=object)"
      ]
     },
     "metadata": {},
     "output_type": "display_data"
    },
    {
     "name": "stdout",
     "output_type": "stream",
     "text": [
      "Всего уникальных значений в orders[\"group\"]: 2\n"
     ]
    }
   ],
   "source": [
    "# изучаю уникальные значения по столбцу group\n",
    "display(orders['group'].unique())\n",
    "print('Всего уникальных значений в orders[\"group\"]:', len(orders['group'].unique()))"
   ]
  },
  {
   "cell_type": "markdown",
   "metadata": {},
   "source": [
    "<div style=\"border-radius: 15px; border: 3px solid indigo; padding: 15px;\">\n",
    "<font color='purple'><b>visitors</b></font> — информация о пользователях\n",
    "</div>"
   ]
  },
  {
   "cell_type": "code",
   "execution_count": 26,
   "metadata": {},
   "outputs": [
    {
     "name": "stdout",
     "output_type": "stream",
     "text": [
      "<class 'pandas.core.frame.DataFrame'>\n",
      "RangeIndex: 62 entries, 0 to 61\n",
      "Data columns (total 3 columns):\n",
      " #   Column    Non-Null Count  Dtype \n",
      "---  ------    --------------  ----- \n",
      " 0   date      62 non-null     object\n",
      " 1   group     62 non-null     object\n",
      " 2   visitors  62 non-null     int64 \n",
      "dtypes: int64(1), object(2)\n",
      "memory usage: 1.6+ KB\n"
     ]
    },
    {
     "data": {
      "text/plain": [
       "None"
      ]
     },
     "metadata": {},
     "output_type": "display_data"
    }
   ],
   "source": [
    "# сохраняю таблицу visitors.csv в переменной visitors\n",
    "visitors = pd.read_csv('visitors.csv')\n",
    "display(visitors.info())"
   ]
  },
  {
   "cell_type": "code",
   "execution_count": 27,
   "metadata": {},
   "outputs": [
    {
     "data": {
      "text/plain": [
       "Index(['date', 'group', 'visitors'], dtype='object')"
      ]
     },
     "metadata": {},
     "output_type": "display_data"
    }
   ],
   "source": [
    "# проверяю отдельно наименование столбцов\n",
    "display(visitors.columns)"
   ]
  },
  {
   "cell_type": "code",
   "execution_count": 28,
   "metadata": {},
   "outputs": [
    {
     "data": {
      "text/plain": [
       "0"
      ]
     },
     "metadata": {},
     "output_type": "display_data"
    }
   ],
   "source": [
    "# проверяю данные на предмет дубликатов\n",
    "display(visitors.duplicated().sum())"
   ]
  },
  {
   "cell_type": "code",
   "execution_count": 29,
   "metadata": {},
   "outputs": [
    {
     "data": {
      "text/html": [
       "<div>\n",
       "<style scoped>\n",
       "    .dataframe tbody tr th:only-of-type {\n",
       "        vertical-align: middle;\n",
       "    }\n",
       "\n",
       "    .dataframe tbody tr th {\n",
       "        vertical-align: top;\n",
       "    }\n",
       "\n",
       "    .dataframe thead th {\n",
       "        text-align: right;\n",
       "    }\n",
       "</style>\n",
       "<table border=\"1\" class=\"dataframe\">\n",
       "  <thead>\n",
       "    <tr style=\"text-align: right;\">\n",
       "      <th></th>\n",
       "      <th>date</th>\n",
       "      <th>group</th>\n",
       "      <th>visitors</th>\n",
       "    </tr>\n",
       "  </thead>\n",
       "  <tbody>\n",
       "    <tr>\n",
       "      <th>0</th>\n",
       "      <td>2019-08-01</td>\n",
       "      <td>A</td>\n",
       "      <td>719</td>\n",
       "    </tr>\n",
       "    <tr>\n",
       "      <th>1</th>\n",
       "      <td>2019-08-02</td>\n",
       "      <td>A</td>\n",
       "      <td>619</td>\n",
       "    </tr>\n",
       "    <tr>\n",
       "      <th>2</th>\n",
       "      <td>2019-08-03</td>\n",
       "      <td>A</td>\n",
       "      <td>507</td>\n",
       "    </tr>\n",
       "    <tr>\n",
       "      <th>3</th>\n",
       "      <td>2019-08-04</td>\n",
       "      <td>A</td>\n",
       "      <td>717</td>\n",
       "    </tr>\n",
       "    <tr>\n",
       "      <th>4</th>\n",
       "      <td>2019-08-05</td>\n",
       "      <td>A</td>\n",
       "      <td>756</td>\n",
       "    </tr>\n",
       "  </tbody>\n",
       "</table>\n",
       "</div>"
      ],
      "text/plain": [
       "         date group  visitors\n",
       "0  2019-08-01  A     719     \n",
       "1  2019-08-02  A     619     \n",
       "2  2019-08-03  A     507     \n",
       "3  2019-08-04  A     717     \n",
       "4  2019-08-05  A     756     "
      ]
     },
     "metadata": {},
     "output_type": "display_data"
    }
   ],
   "source": [
    "# изучаю данные head\n",
    "display(visitors.head(5))"
   ]
  },
  {
   "cell_type": "code",
   "execution_count": 30,
   "metadata": {},
   "outputs": [
    {
     "data": {
      "text/html": [
       "<div>\n",
       "<style scoped>\n",
       "    .dataframe tbody tr th:only-of-type {\n",
       "        vertical-align: middle;\n",
       "    }\n",
       "\n",
       "    .dataframe tbody tr th {\n",
       "        vertical-align: top;\n",
       "    }\n",
       "\n",
       "    .dataframe thead th {\n",
       "        text-align: right;\n",
       "    }\n",
       "</style>\n",
       "<table border=\"1\" class=\"dataframe\">\n",
       "  <thead>\n",
       "    <tr style=\"text-align: right;\">\n",
       "      <th></th>\n",
       "      <th>date</th>\n",
       "      <th>group</th>\n",
       "      <th>visitors</th>\n",
       "    </tr>\n",
       "  </thead>\n",
       "  <tbody>\n",
       "    <tr>\n",
       "      <th>14</th>\n",
       "      <td>2019-08-15</td>\n",
       "      <td>A</td>\n",
       "      <td>628</td>\n",
       "    </tr>\n",
       "    <tr>\n",
       "      <th>30</th>\n",
       "      <td>2019-08-31</td>\n",
       "      <td>A</td>\n",
       "      <td>699</td>\n",
       "    </tr>\n",
       "    <tr>\n",
       "      <th>17</th>\n",
       "      <td>2019-08-18</td>\n",
       "      <td>A</td>\n",
       "      <td>668</td>\n",
       "    </tr>\n",
       "    <tr>\n",
       "      <th>44</th>\n",
       "      <td>2019-08-14</td>\n",
       "      <td>B</td>\n",
       "      <td>746</td>\n",
       "    </tr>\n",
       "    <tr>\n",
       "      <th>5</th>\n",
       "      <td>2019-08-06</td>\n",
       "      <td>A</td>\n",
       "      <td>667</td>\n",
       "    </tr>\n",
       "  </tbody>\n",
       "</table>\n",
       "</div>"
      ],
      "text/plain": [
       "          date group  visitors\n",
       "14  2019-08-15  A     628     \n",
       "30  2019-08-31  A     699     \n",
       "17  2019-08-18  A     668     \n",
       "44  2019-08-14  B     746     \n",
       "5   2019-08-06  A     667     "
      ]
     },
     "metadata": {},
     "output_type": "display_data"
    }
   ],
   "source": [
    "# изучаю данные sample\n",
    "display(visitors.sample(5))"
   ]
  },
  {
   "cell_type": "code",
   "execution_count": 31,
   "metadata": {},
   "outputs": [
    {
     "data": {
      "text/html": [
       "<div>\n",
       "<style scoped>\n",
       "    .dataframe tbody tr th:only-of-type {\n",
       "        vertical-align: middle;\n",
       "    }\n",
       "\n",
       "    .dataframe tbody tr th {\n",
       "        vertical-align: top;\n",
       "    }\n",
       "\n",
       "    .dataframe thead th {\n",
       "        text-align: right;\n",
       "    }\n",
       "</style>\n",
       "<table border=\"1\" class=\"dataframe\">\n",
       "  <thead>\n",
       "    <tr style=\"text-align: right;\">\n",
       "      <th></th>\n",
       "      <th>date</th>\n",
       "      <th>group</th>\n",
       "      <th>visitors</th>\n",
       "    </tr>\n",
       "  </thead>\n",
       "  <tbody>\n",
       "    <tr>\n",
       "      <th>57</th>\n",
       "      <td>2019-08-27</td>\n",
       "      <td>B</td>\n",
       "      <td>720</td>\n",
       "    </tr>\n",
       "    <tr>\n",
       "      <th>58</th>\n",
       "      <td>2019-08-28</td>\n",
       "      <td>B</td>\n",
       "      <td>654</td>\n",
       "    </tr>\n",
       "    <tr>\n",
       "      <th>59</th>\n",
       "      <td>2019-08-29</td>\n",
       "      <td>B</td>\n",
       "      <td>531</td>\n",
       "    </tr>\n",
       "    <tr>\n",
       "      <th>60</th>\n",
       "      <td>2019-08-30</td>\n",
       "      <td>B</td>\n",
       "      <td>490</td>\n",
       "    </tr>\n",
       "    <tr>\n",
       "      <th>61</th>\n",
       "      <td>2019-08-31</td>\n",
       "      <td>B</td>\n",
       "      <td>718</td>\n",
       "    </tr>\n",
       "  </tbody>\n",
       "</table>\n",
       "</div>"
      ],
      "text/plain": [
       "          date group  visitors\n",
       "57  2019-08-27  B     720     \n",
       "58  2019-08-28  B     654     \n",
       "59  2019-08-29  B     531     \n",
       "60  2019-08-30  B     490     \n",
       "61  2019-08-31  B     718     "
      ]
     },
     "metadata": {},
     "output_type": "display_data"
    }
   ],
   "source": [
    "# изучаю данные tail\n",
    "display(visitors.tail(5))"
   ]
  },
  {
   "cell_type": "code",
   "execution_count": 32,
   "metadata": {},
   "outputs": [
    {
     "data": {
      "text/html": [
       "<div>\n",
       "<style scoped>\n",
       "    .dataframe tbody tr th:only-of-type {\n",
       "        vertical-align: middle;\n",
       "    }\n",
       "\n",
       "    .dataframe tbody tr th {\n",
       "        vertical-align: top;\n",
       "    }\n",
       "\n",
       "    .dataframe thead th {\n",
       "        text-align: right;\n",
       "    }\n",
       "</style>\n",
       "<table border=\"1\" class=\"dataframe\">\n",
       "  <thead>\n",
       "    <tr style=\"text-align: right;\">\n",
       "      <th></th>\n",
       "      <th>0</th>\n",
       "      <th>1</th>\n",
       "    </tr>\n",
       "  </thead>\n",
       "  <tbody>\n",
       "    <tr>\n",
       "      <th>date</th>\n",
       "      <td>object</td>\n",
       "      <td>0</td>\n",
       "    </tr>\n",
       "    <tr>\n",
       "      <th>group</th>\n",
       "      <td>object</td>\n",
       "      <td>0</td>\n",
       "    </tr>\n",
       "    <tr>\n",
       "      <th>visitors</th>\n",
       "      <td>int64</td>\n",
       "      <td>0</td>\n",
       "    </tr>\n",
       "  </tbody>\n",
       "</table>\n",
       "</div>"
      ],
      "text/plain": [
       "               0  1\n",
       "date      object  0\n",
       "group     object  0\n",
       "visitors  int64   0"
      ]
     },
     "metadata": {},
     "output_type": "display_data"
    }
   ],
   "source": [
    "# проверяю на пропуски\n",
    "display(pd.concat([visitors.dtypes, visitors.isna().sum()], axis=1))"
   ]
  },
  {
   "cell_type": "code",
   "execution_count": 33,
   "metadata": {},
   "outputs": [
    {
     "data": {
      "text/html": [
       "<div>\n",
       "<style scoped>\n",
       "    .dataframe tbody tr th:only-of-type {\n",
       "        vertical-align: middle;\n",
       "    }\n",
       "\n",
       "    .dataframe tbody tr th {\n",
       "        vertical-align: top;\n",
       "    }\n",
       "\n",
       "    .dataframe thead th {\n",
       "        text-align: right;\n",
       "    }\n",
       "</style>\n",
       "<table border=\"1\" class=\"dataframe\">\n",
       "  <thead>\n",
       "    <tr style=\"text-align: right;\">\n",
       "      <th></th>\n",
       "      <th>date</th>\n",
       "      <th>group</th>\n",
       "      <th>visitors</th>\n",
       "    </tr>\n",
       "  </thead>\n",
       "  <tbody>\n",
       "    <tr>\n",
       "      <th>count</th>\n",
       "      <td>62</td>\n",
       "      <td>62</td>\n",
       "      <td>62.000000</td>\n",
       "    </tr>\n",
       "    <tr>\n",
       "      <th>unique</th>\n",
       "      <td>31</td>\n",
       "      <td>2</td>\n",
       "      <td>NaN</td>\n",
       "    </tr>\n",
       "    <tr>\n",
       "      <th>top</th>\n",
       "      <td>2019-08-04</td>\n",
       "      <td>B</td>\n",
       "      <td>NaN</td>\n",
       "    </tr>\n",
       "    <tr>\n",
       "      <th>freq</th>\n",
       "      <td>2</td>\n",
       "      <td>31</td>\n",
       "      <td>NaN</td>\n",
       "    </tr>\n",
       "    <tr>\n",
       "      <th>mean</th>\n",
       "      <td>NaN</td>\n",
       "      <td>NaN</td>\n",
       "      <td>607.290323</td>\n",
       "    </tr>\n",
       "    <tr>\n",
       "      <th>std</th>\n",
       "      <td>NaN</td>\n",
       "      <td>NaN</td>\n",
       "      <td>114.400560</td>\n",
       "    </tr>\n",
       "    <tr>\n",
       "      <th>min</th>\n",
       "      <td>NaN</td>\n",
       "      <td>NaN</td>\n",
       "      <td>361.000000</td>\n",
       "    </tr>\n",
       "    <tr>\n",
       "      <th>25%</th>\n",
       "      <td>NaN</td>\n",
       "      <td>NaN</td>\n",
       "      <td>534.000000</td>\n",
       "    </tr>\n",
       "    <tr>\n",
       "      <th>50%</th>\n",
       "      <td>NaN</td>\n",
       "      <td>NaN</td>\n",
       "      <td>624.500000</td>\n",
       "    </tr>\n",
       "    <tr>\n",
       "      <th>75%</th>\n",
       "      <td>NaN</td>\n",
       "      <td>NaN</td>\n",
       "      <td>710.500000</td>\n",
       "    </tr>\n",
       "    <tr>\n",
       "      <th>max</th>\n",
       "      <td>NaN</td>\n",
       "      <td>NaN</td>\n",
       "      <td>770.000000</td>\n",
       "    </tr>\n",
       "  </tbody>\n",
       "</table>\n",
       "</div>"
      ],
      "text/plain": [
       "              date group    visitors\n",
       "count   62          62    62.000000 \n",
       "unique  31          2    NaN        \n",
       "top     2019-08-04  B    NaN        \n",
       "freq    2           31   NaN        \n",
       "mean    NaN         NaN   607.290323\n",
       "std     NaN         NaN   114.400560\n",
       "min     NaN         NaN   361.000000\n",
       "25%     NaN         NaN   534.000000\n",
       "50%     NaN         NaN   624.500000\n",
       "75%     NaN         NaN   710.500000\n",
       "max     NaN         NaN   770.000000"
      ]
     },
     "metadata": {},
     "output_type": "display_data"
    }
   ],
   "source": [
    "# изучаю таблицу через describe\n",
    "display(visitors.describe(include='all'))"
   ]
  },
  {
   "cell_type": "markdown",
   "metadata": {},
   "source": [
    "<div style=\"border-radius: 15px; border: 3px solid indigo; padding: 15px;\">\n",
    "<font color='purple'><b>visitors['date']</b></font> — дата\n",
    "</div>"
   ]
  },
  {
   "cell_type": "code",
   "execution_count": 34,
   "metadata": {},
   "outputs": [
    {
     "data": {
      "text/plain": [
       "array(['2019-08-01', '2019-08-02', '2019-08-03', '2019-08-04',\n",
       "       '2019-08-05', '2019-08-06', '2019-08-07', '2019-08-08',\n",
       "       '2019-08-09', '2019-08-10', '2019-08-11', '2019-08-12',\n",
       "       '2019-08-13', '2019-08-14', '2019-08-15', '2019-08-16',\n",
       "       '2019-08-17', '2019-08-18', '2019-08-19', '2019-08-20',\n",
       "       '2019-08-21', '2019-08-22', '2019-08-23', '2019-08-24',\n",
       "       '2019-08-25', '2019-08-26', '2019-08-27', '2019-08-28',\n",
       "       '2019-08-29', '2019-08-30', '2019-08-31'], dtype=object)"
      ]
     },
     "metadata": {},
     "output_type": "display_data"
    },
    {
     "name": "stdout",
     "output_type": "stream",
     "text": [
      "Всего уникальных значений в visitors[\"date\"]: 31\n"
     ]
    }
   ],
   "source": [
    "# изучаю уникальные значения по столбцу date\n",
    "display(visitors['date'].unique())\n",
    "print('Всего уникальных значений в visitors[\"date\"]:', len(visitors['date'].unique()))"
   ]
  },
  {
   "cell_type": "markdown",
   "metadata": {},
   "source": [
    "<div style=\"border-radius: 15px; border: 3px solid indigo; padding: 15px;\">\n",
    "<font color='purple'><b>visitors['group']</b></font> — группа A/B-теста\n",
    "</div>"
   ]
  },
  {
   "cell_type": "code",
   "execution_count": 35,
   "metadata": {},
   "outputs": [
    {
     "data": {
      "text/plain": [
       "array(['A', 'B'], dtype=object)"
      ]
     },
     "metadata": {},
     "output_type": "display_data"
    },
    {
     "name": "stdout",
     "output_type": "stream",
     "text": [
      "Всего уникальных значений в visitors[\"group\"]: 2\n"
     ]
    }
   ],
   "source": [
    "# изучаю уникальные значения по столбцу group\n",
    "display(visitors['group'].unique())\n",
    "print('Всего уникальных значений в visitors[\"group\"]:', len(visitors['group'].unique()))"
   ]
  },
  {
   "cell_type": "markdown",
   "metadata": {},
   "source": [
    "<div style=\"border-radius: 15px; border: 3px solid indigo; padding: 15px;\">\n",
    "<font color='purple'><b>visitors['visitors']</b></font> — количество пользователей в указанную дату в указанной группе A/B-теста\n",
    "</div>"
   ]
  },
  {
   "cell_type": "code",
   "execution_count": 36,
   "metadata": {},
   "outputs": [
    {
     "data": {
      "text/plain": [
       "array([719, 619, 507, 717, 756, 667, 644, 610, 617, 406, 718, 595, 748,\n",
       "       735, 628, 361, 412, 668, 502, 575, 646, 609, 468, 395, 621, 722,\n",
       "       711, 594, 577, 490, 699, 713, 581, 509, 770, 707, 655, 709, 654,\n",
       "       369, 721, 543, 769, 746, 544, 413, 421, 737, 487, 560, 656, 650,\n",
       "       546, 378, 679, 676, 720, 531], dtype=int64)"
      ]
     },
     "metadata": {},
     "output_type": "display_data"
    },
    {
     "name": "stdout",
     "output_type": "stream",
     "text": [
      "Всего уникальных значений в visitors[\"visitors\"]: 58\n"
     ]
    }
   ],
   "source": [
    "# изучаю уникальные значения по столбцу visitors\n",
    "display(visitors['visitors'].unique())\n",
    "print('Всего уникальных значений в visitors[\"visitors\"]:', len(visitors['visitors'].unique()))"
   ]
  },
  {
   "cell_type": "markdown",
   "metadata": {},
   "source": [
    "### 1.2. Подготовка данных"
   ]
  },
  {
   "cell_type": "markdown",
   "metadata": {},
   "source": [
    "Выше изучив таблицы <b>hypothesis, orders, visits</b> и их столбцы, обратил внимание на:\n",
    "* пропуски отсутствуют во всех трех таблицах\n",
    "* дубли отсутствуют во всех трех таблицах\n",
    "* не корректные значения отсутствуют во всех трех таблицах\n",
    "* некорретные названия столбцов (columns) в <b>hypothesis</b> и <b>orders</b> - верхний регистр в названиях\n",
    "* <b>orders['date']</b> - не корректный тип данных (object заменить на тип datetime)\n",
    "* <b>visits['date']</b> - не корректный тип данных (object заменить на тип datetime)"
   ]
  },
  {
   "cell_type": "code",
   "execution_count": 37,
   "metadata": {},
   "outputs": [
    {
     "data": {
      "text/plain": [
       "Index(['Hypothesis', 'Reach', 'Impact', 'Confidence', 'Efforts'], dtype='object')"
      ]
     },
     "metadata": {},
     "output_type": "display_data"
    }
   ],
   "source": [
    "# повторно изучаем наименование столбцов\n",
    "display(hypothesis.columns)"
   ]
  },
  {
   "cell_type": "code",
   "execution_count": 38,
   "metadata": {},
   "outputs": [],
   "source": [
    "# заменяем названия столбцов на корректные\n",
    "hypothesis.columns = hypothesis.columns.str.lower()\n",
    "orders.columns = orders.columns.str.lower()"
   ]
  },
  {
   "cell_type": "code",
   "execution_count": 39,
   "metadata": {},
   "outputs": [
    {
     "name": "stdout",
     "output_type": "stream",
     "text": [
      "<class 'pandas.core.frame.DataFrame'>\n",
      "RangeIndex: 9 entries, 0 to 8\n",
      "Data columns (total 5 columns):\n",
      " #   Column      Non-Null Count  Dtype \n",
      "---  ------      --------------  ----- \n",
      " 0   hypothesis  9 non-null      object\n",
      " 1   reach       9 non-null      int64 \n",
      " 2   impact      9 non-null      int64 \n",
      " 3   confidence  9 non-null      int64 \n",
      " 4   efforts     9 non-null      int64 \n",
      "dtypes: int64(4), object(1)\n",
      "memory usage: 488.0+ bytes\n"
     ]
    },
    {
     "data": {
      "text/plain": [
       "None"
      ]
     },
     "metadata": {},
     "output_type": "display_data"
    },
    {
     "name": "stdout",
     "output_type": "stream",
     "text": [
      "<class 'pandas.core.frame.DataFrame'>\n",
      "RangeIndex: 1197 entries, 0 to 1196\n",
      "Data columns (total 5 columns):\n",
      " #   Column         Non-Null Count  Dtype         \n",
      "---  ------         --------------  -----         \n",
      " 0   transactionid  1197 non-null   int64         \n",
      " 1   visitorid      1197 non-null   int64         \n",
      " 2   date           1197 non-null   datetime64[ns]\n",
      " 3   revenue        1197 non-null   int64         \n",
      " 4   group          1197 non-null   object        \n",
      "dtypes: datetime64[ns](1), int64(3), object(1)\n",
      "memory usage: 46.9+ KB\n"
     ]
    },
    {
     "data": {
      "text/plain": [
       "None"
      ]
     },
     "metadata": {},
     "output_type": "display_data"
    },
    {
     "name": "stdout",
     "output_type": "stream",
     "text": [
      "<class 'pandas.core.frame.DataFrame'>\n",
      "RangeIndex: 62 entries, 0 to 61\n",
      "Data columns (total 3 columns):\n",
      " #   Column    Non-Null Count  Dtype         \n",
      "---  ------    --------------  -----         \n",
      " 0   date      62 non-null     datetime64[ns]\n",
      " 1   group     62 non-null     object        \n",
      " 2   visitors  62 non-null     int64         \n",
      "dtypes: datetime64[ns](1), int64(1), object(1)\n",
      "memory usage: 1.6+ KB\n"
     ]
    },
    {
     "data": {
      "text/plain": [
       "None"
      ]
     },
     "metadata": {},
     "output_type": "display_data"
    }
   ],
   "source": [
    "# заменим тип данных object на datetime по столбцам orders['date'] и visitors['date']\n",
    "orders['date'] = pd.to_datetime(orders['date'], format = '%Y-%m-%d')\n",
    "visitors['date'] = pd.to_datetime(visitors['date'], format = '%Y-%m-%d')\n",
    "display(hypothesis.info())\n",
    "display(orders.info())\n",
    "display(visitors.info())"
   ]
  },
  {
   "cell_type": "code",
   "execution_count": 40,
   "metadata": {},
   "outputs": [
    {
     "name": "stdout",
     "output_type": "stream",
     "text": [
      "Процент пользователей, которые попали в две группы: 5.63%\n",
      "Количество пользователей, которые попали в две группы: 58\n"
     ]
    }
   ],
   "source": [
    "print('Процент пользователей, которые попали в две группы: {:.2%}'.\\\n",
    "      format(orders.groupby('visitorid')['group'].nunique().mean()-1))\n",
    "print('Количество пользователей, которые попали в две группы:',\\\n",
    "      orders.groupby('visitorid').agg({'group' : 'nunique'}).query('group > 1').shape[0])"
   ]
  },
  {
   "cell_type": "markdown",
   "metadata": {},
   "source": [
    "## Шаг 2. Часть 1. Приоритизация гипотез\n",
    "В файле /datasets/hypothesis.csv 9 гипотез по увеличению выручки интернет-магазина с указанными параметрами Reach, Impact, Confidence, Effort."
   ]
  },
  {
   "cell_type": "markdown",
   "metadata": {},
   "source": [
    "### 2.1. Применить фреймворк ICE\n",
    "Применить фреймворк ICE для приоритизации гипотез. Отсортировать их по убыванию приоритета."
   ]
  },
  {
   "cell_type": "code",
   "execution_count": 41,
   "metadata": {},
   "outputs": [],
   "source": [
    "# рассчитаем и запишем фреймворк ICE в столбец hypothesis['ICE']\n",
    "hypothesis['ICE'] = round((hypothesis['impact'] * hypothesis['confidence']) / hypothesis['efforts'], 2)"
   ]
  },
  {
   "cell_type": "code",
   "execution_count": 42,
   "metadata": {},
   "outputs": [
    {
     "data": {
      "text/html": [
       "<div>\n",
       "<style scoped>\n",
       "    .dataframe tbody tr th:only-of-type {\n",
       "        vertical-align: middle;\n",
       "    }\n",
       "\n",
       "    .dataframe tbody tr th {\n",
       "        vertical-align: top;\n",
       "    }\n",
       "\n",
       "    .dataframe thead th {\n",
       "        text-align: right;\n",
       "    }\n",
       "</style>\n",
       "<table border=\"1\" class=\"dataframe\">\n",
       "  <thead>\n",
       "    <tr style=\"text-align: right;\">\n",
       "      <th></th>\n",
       "      <th>hypothesis</th>\n",
       "      <th>reach</th>\n",
       "      <th>impact</th>\n",
       "      <th>confidence</th>\n",
       "      <th>efforts</th>\n",
       "      <th>ICE</th>\n",
       "    </tr>\n",
       "  </thead>\n",
       "  <tbody>\n",
       "    <tr>\n",
       "      <th>8</th>\n",
       "      <td>Запустить акцию, дающую скидку на товар в день рождения</td>\n",
       "      <td>1</td>\n",
       "      <td>9</td>\n",
       "      <td>9</td>\n",
       "      <td>5</td>\n",
       "      <td>16.20</td>\n",
       "    </tr>\n",
       "    <tr>\n",
       "      <th>0</th>\n",
       "      <td>Добавить два новых канала привлечения трафика, что позволит привлекать на 30% больше пользователей</td>\n",
       "      <td>3</td>\n",
       "      <td>10</td>\n",
       "      <td>8</td>\n",
       "      <td>6</td>\n",
       "      <td>13.33</td>\n",
       "    </tr>\n",
       "    <tr>\n",
       "      <th>7</th>\n",
       "      <td>Добавить форму подписки на все основные страницы, чтобы собрать базу клиентов для email-рассылок</td>\n",
       "      <td>10</td>\n",
       "      <td>7</td>\n",
       "      <td>8</td>\n",
       "      <td>5</td>\n",
       "      <td>11.20</td>\n",
       "    </tr>\n",
       "    <tr>\n",
       "      <th>6</th>\n",
       "      <td>Показать на главной странице баннеры с актуальными акциями и распродажами, чтобы увеличить конверсию</td>\n",
       "      <td>5</td>\n",
       "      <td>3</td>\n",
       "      <td>8</td>\n",
       "      <td>3</td>\n",
       "      <td>8.00</td>\n",
       "    </tr>\n",
       "    <tr>\n",
       "      <th>2</th>\n",
       "      <td>Добавить блоки рекомендаций товаров на сайт интернет магазина, чтобы повысить конверсию и средний чек заказа</td>\n",
       "      <td>8</td>\n",
       "      <td>3</td>\n",
       "      <td>7</td>\n",
       "      <td>3</td>\n",
       "      <td>7.00</td>\n",
       "    </tr>\n",
       "    <tr>\n",
       "      <th>1</th>\n",
       "      <td>Запустить собственную службу доставки, что сократит срок доставки заказов</td>\n",
       "      <td>2</td>\n",
       "      <td>5</td>\n",
       "      <td>4</td>\n",
       "      <td>10</td>\n",
       "      <td>2.00</td>\n",
       "    </tr>\n",
       "    <tr>\n",
       "      <th>5</th>\n",
       "      <td>Добавить страницу отзывов клиентов о магазине, что позволит увеличить количество заказов</td>\n",
       "      <td>3</td>\n",
       "      <td>2</td>\n",
       "      <td>2</td>\n",
       "      <td>3</td>\n",
       "      <td>1.33</td>\n",
       "    </tr>\n",
       "    <tr>\n",
       "      <th>3</th>\n",
       "      <td>Изменить структура категорий, что увеличит конверсию, т.к. пользователи быстрее найдут нужный товар</td>\n",
       "      <td>8</td>\n",
       "      <td>3</td>\n",
       "      <td>3</td>\n",
       "      <td>8</td>\n",
       "      <td>1.12</td>\n",
       "    </tr>\n",
       "    <tr>\n",
       "      <th>4</th>\n",
       "      <td>Изменить цвет фона главной страницы, чтобы увеличить вовлеченность пользователей</td>\n",
       "      <td>3</td>\n",
       "      <td>1</td>\n",
       "      <td>1</td>\n",
       "      <td>1</td>\n",
       "      <td>1.00</td>\n",
       "    </tr>\n",
       "  </tbody>\n",
       "</table>\n",
       "</div>"
      ],
      "text/plain": [
       "                                                                                                     hypothesis  \\\n",
       "8  Запустить акцию, дающую скидку на товар в день рождения                                                        \n",
       "0  Добавить два новых канала привлечения трафика, что позволит привлекать на 30% больше пользователей             \n",
       "7  Добавить форму подписки на все основные страницы, чтобы собрать базу клиентов для email-рассылок               \n",
       "6  Показать на главной странице баннеры с актуальными акциями и распродажами, чтобы увеличить конверсию           \n",
       "2  Добавить блоки рекомендаций товаров на сайт интернет магазина, чтобы повысить конверсию и средний чек заказа   \n",
       "1  Запустить собственную службу доставки, что сократит срок доставки заказов                                      \n",
       "5  Добавить страницу отзывов клиентов о магазине, что позволит увеличить количество заказов                       \n",
       "3  Изменить структура категорий, что увеличит конверсию, т.к. пользователи быстрее найдут нужный товар            \n",
       "4  Изменить цвет фона главной страницы, чтобы увеличить вовлеченность пользователей                               \n",
       "\n",
       "   reach  impact  confidence  efforts    ICE  \n",
       "8  1      9       9           5        16.20  \n",
       "0  3      10      8           6        13.33  \n",
       "7  10     7       8           5        11.20  \n",
       "6  5      3       8           3        8.00   \n",
       "2  8      3       7           3        7.00   \n",
       "1  2      5       4           10       2.00   \n",
       "5  3      2       2           3        1.33   \n",
       "3  8      3       3           8        1.12   \n",
       "4  3      1       1           1        1.00   "
      ]
     },
     "metadata": {},
     "output_type": "display_data"
    }
   ],
   "source": [
    "# отсортируем гипотезы по приоритету ICE\n",
    "display(hypothesis.sort_values('ICE', ascending=False))"
   ]
  },
  {
   "cell_type": "code",
   "execution_count": 43,
   "metadata": {
    "scrolled": true
   },
   "outputs": [
    {
     "data": {
      "image/png": "[encoded data removed]",
      "text/plain": [
       "<Figure size 360x360 with 1 Axes>"
      ]
     },
     "metadata": {
      "needs_background": "light"
     },
     "output_type": "display_data"
    }
   ],
   "source": [
    "# визуализируем приоритизацию ICE на графике\n",
    "ax = hypothesis[['hypothesis', 'ICE']].set_index('hypothesis').sort_values('ICE').plot(kind='barh', figsize=(5,5))\n",
    "ax.set_xlabel('Приоритет', fontsize=14)\n",
    "ax.set_ylabel('Гипотеза', fontsize=14)\n",
    "ax.set_title('Приоритизация по ICE', fontsize=16)\n",
    "plt.show()"
   ]
  },
  {
   "cell_type": "markdown",
   "metadata": {},
   "source": [
    "<div style=\"border-radius: 15px; border: 3px solid green; padding: 15px;\">\n",
    "<font color='green'><b>ВЫВОД:</b></font><br>\n",
    "<b>TOP5 гипотез по приоритизации ICE:</b><br>\n",
    "1. <b>Гипотеза 8</b> - Запустить акцию, дающую скидку на товар в день рождения;<br>\n",
    "2. <b>Гипотеза 0</b> - Добавить два новых канала привлечения трафика, что позволит привлекать на 30% больше пользователей;<br>\n",
    "3. <b>Гипотеза 7</b> - Добавить форму подписки на все основные страницы, чтобы собрать базу клиентов для email-рассылок;<br>\n",
    "4. <b>Гипотеза 6</b> - Показать на главной странице баннеры с актуальными акциями и распродажами, чтобы увеличить конверсию;<br>\n",
    "5. <b>Гипотеза 2</b> - Добавить блоки рекомендаций товаров на сайт интернет магазина, чтобы повысить конверсию и средний чек заказа.\n",
    "<br>\n",
    "</div>"
   ]
  },
  {
   "cell_type": "markdown",
   "metadata": {},
   "source": [
    "### 2.2. Применить фреймворк RICE\n",
    "Применить фреймворк RICE для приоритизации гипотез. Отсортировать их по убыванию приоритета."
   ]
  },
  {
   "cell_type": "code",
   "execution_count": 44,
   "metadata": {},
   "outputs": [],
   "source": [
    "# рассчитаем и запишем фреймворк RICE в столбец hypothesis['RICE']\n",
    "hypothesis['RICE'] = round((hypothesis['reach'] * hypothesis['impact'] * hypothesis['confidence']) / hypothesis['efforts'], 2)"
   ]
  },
  {
   "cell_type": "code",
   "execution_count": 45,
   "metadata": {},
   "outputs": [
    {
     "data": {
      "text/html": [
       "<div>\n",
       "<style scoped>\n",
       "    .dataframe tbody tr th:only-of-type {\n",
       "        vertical-align: middle;\n",
       "    }\n",
       "\n",
       "    .dataframe tbody tr th {\n",
       "        vertical-align: top;\n",
       "    }\n",
       "\n",
       "    .dataframe thead th {\n",
       "        text-align: right;\n",
       "    }\n",
       "</style>\n",
       "<table border=\"1\" class=\"dataframe\">\n",
       "  <thead>\n",
       "    <tr style=\"text-align: right;\">\n",
       "      <th></th>\n",
       "      <th>hypothesis</th>\n",
       "      <th>reach</th>\n",
       "      <th>impact</th>\n",
       "      <th>confidence</th>\n",
       "      <th>efforts</th>\n",
       "      <th>ICE</th>\n",
       "      <th>RICE</th>\n",
       "    </tr>\n",
       "  </thead>\n",
       "  <tbody>\n",
       "    <tr>\n",
       "      <th>7</th>\n",
       "      <td>Добавить форму подписки на все основные страницы, чтобы собрать базу клиентов для email-рассылок</td>\n",
       "      <td>10</td>\n",
       "      <td>7</td>\n",
       "      <td>8</td>\n",
       "      <td>5</td>\n",
       "      <td>11.20</td>\n",
       "      <td>112.0</td>\n",
       "    </tr>\n",
       "    <tr>\n",
       "      <th>2</th>\n",
       "      <td>Добавить блоки рекомендаций товаров на сайт интернет магазина, чтобы повысить конверсию и средний чек заказа</td>\n",
       "      <td>8</td>\n",
       "      <td>3</td>\n",
       "      <td>7</td>\n",
       "      <td>3</td>\n",
       "      <td>7.00</td>\n",
       "      <td>56.0</td>\n",
       "    </tr>\n",
       "    <tr>\n",
       "      <th>0</th>\n",
       "      <td>Добавить два новых канала привлечения трафика, что позволит привлекать на 30% больше пользователей</td>\n",
       "      <td>3</td>\n",
       "      <td>10</td>\n",
       "      <td>8</td>\n",
       "      <td>6</td>\n",
       "      <td>13.33</td>\n",
       "      <td>40.0</td>\n",
       "    </tr>\n",
       "    <tr>\n",
       "      <th>6</th>\n",
       "      <td>Показать на главной странице баннеры с актуальными акциями и распродажами, чтобы увеличить конверсию</td>\n",
       "      <td>5</td>\n",
       "      <td>3</td>\n",
       "      <td>8</td>\n",
       "      <td>3</td>\n",
       "      <td>8.00</td>\n",
       "      <td>40.0</td>\n",
       "    </tr>\n",
       "    <tr>\n",
       "      <th>8</th>\n",
       "      <td>Запустить акцию, дающую скидку на товар в день рождения</td>\n",
       "      <td>1</td>\n",
       "      <td>9</td>\n",
       "      <td>9</td>\n",
       "      <td>5</td>\n",
       "      <td>16.20</td>\n",
       "      <td>16.2</td>\n",
       "    </tr>\n",
       "    <tr>\n",
       "      <th>3</th>\n",
       "      <td>Изменить структура категорий, что увеличит конверсию, т.к. пользователи быстрее найдут нужный товар</td>\n",
       "      <td>8</td>\n",
       "      <td>3</td>\n",
       "      <td>3</td>\n",
       "      <td>8</td>\n",
       "      <td>1.12</td>\n",
       "      <td>9.0</td>\n",
       "    </tr>\n",
       "    <tr>\n",
       "      <th>1</th>\n",
       "      <td>Запустить собственную службу доставки, что сократит срок доставки заказов</td>\n",
       "      <td>2</td>\n",
       "      <td>5</td>\n",
       "      <td>4</td>\n",
       "      <td>10</td>\n",
       "      <td>2.00</td>\n",
       "      <td>4.0</td>\n",
       "    </tr>\n",
       "    <tr>\n",
       "      <th>5</th>\n",
       "      <td>Добавить страницу отзывов клиентов о магазине, что позволит увеличить количество заказов</td>\n",
       "      <td>3</td>\n",
       "      <td>2</td>\n",
       "      <td>2</td>\n",
       "      <td>3</td>\n",
       "      <td>1.33</td>\n",
       "      <td>4.0</td>\n",
       "    </tr>\n",
       "    <tr>\n",
       "      <th>4</th>\n",
       "      <td>Изменить цвет фона главной страницы, чтобы увеличить вовлеченность пользователей</td>\n",
       "      <td>3</td>\n",
       "      <td>1</td>\n",
       "      <td>1</td>\n",
       "      <td>1</td>\n",
       "      <td>1.00</td>\n",
       "      <td>3.0</td>\n",
       "    </tr>\n",
       "  </tbody>\n",
       "</table>\n",
       "</div>"
      ],
      "text/plain": [
       "                                                                                                     hypothesis  \\\n",
       "7  Добавить форму подписки на все основные страницы, чтобы собрать базу клиентов для email-рассылок               \n",
       "2  Добавить блоки рекомендаций товаров на сайт интернет магазина, чтобы повысить конверсию и средний чек заказа   \n",
       "0  Добавить два новых канала привлечения трафика, что позволит привлекать на 30% больше пользователей             \n",
       "6  Показать на главной странице баннеры с актуальными акциями и распродажами, чтобы увеличить конверсию           \n",
       "8  Запустить акцию, дающую скидку на товар в день рождения                                                        \n",
       "3  Изменить структура категорий, что увеличит конверсию, т.к. пользователи быстрее найдут нужный товар            \n",
       "1  Запустить собственную службу доставки, что сократит срок доставки заказов                                      \n",
       "5  Добавить страницу отзывов клиентов о магазине, что позволит увеличить количество заказов                       \n",
       "4  Изменить цвет фона главной страницы, чтобы увеличить вовлеченность пользователей                               \n",
       "\n",
       "   reach  impact  confidence  efforts    ICE   RICE  \n",
       "7  10     7       8           5        11.20  112.0  \n",
       "2  8      3       7           3        7.00   56.0   \n",
       "0  3      10      8           6        13.33  40.0   \n",
       "6  5      3       8           3        8.00   40.0   \n",
       "8  1      9       9           5        16.20  16.2   \n",
       "3  8      3       3           8        1.12   9.0    \n",
       "1  2      5       4           10       2.00   4.0    \n",
       "5  3      2       2           3        1.33   4.0    \n",
       "4  3      1       1           1        1.00   3.0    "
      ]
     },
     "metadata": {},
     "output_type": "display_data"
    }
   ],
   "source": [
    "# отсортируем гипотезы по приоритету RICE\n",
    "display(hypothesis.sort_values('RICE', ascending=False))"
   ]
  },
  {
   "cell_type": "code",
   "execution_count": 46,
   "metadata": {},
   "outputs": [
    {
     "data": {
      "image/png": "[encoded data removed]",
      "text/plain": [
       "<Figure size 360x360 with 1 Axes>"
      ]
     },
     "metadata": {
      "needs_background": "light"
     },
     "output_type": "display_data"
    }
   ],
   "source": [
    "# визуализируем приоритизацию RICE на графике\n",
    "ax = hypothesis[['hypothesis', 'RICE']].set_index('hypothesis').sort_values('RICE').plot(kind='barh', figsize=(5,5))\n",
    "ax.set_xlabel('Приоритет', fontsize=14)\n",
    "ax.set_ylabel('Гипотеза', fontsize=14)\n",
    "ax.set_title('Приоритизация по RICE', fontsize=16)\n",
    "plt.show()"
   ]
  },
  {
   "cell_type": "markdown",
   "metadata": {},
   "source": [
    "<div style=\"border-radius: 15px; border: 3px solid green; padding: 15px;\">\n",
    "<font color='green'><b>ВЫВОД:</b></font><br>\n",
    "<b>TOP5 гипотез по приоритизации RICE:</b><br>\n",
    "1. <b>Гипотеза 7</b> - Добавить форму подписки на все основные страницы, чтобы собрать базу клиентов для email-рассылок;<br>\n",
    "2. <b>Гипотеза 2</b> - Добавить блоки рекомендаций товаров на сайт интернет магазина, чтобы повысить конверсию и средний чек заказа.<br>\n",
    "3. <b>Гипотеза 0</b> - Добавить два новых канала привлечения трафика, что позволит привлекать на 30% больше пользователей;<br>\n",
    "4. <b>Гипотеза 6</b> - Показать на главной странице баннеры с актуальными акциями и распродажами, чтобы увеличить конверсию;<br>\n",
    "5. <b>Гипотеза 8</b> - Запустить акцию, дающую скидку на товар в день рождения.    \n",
    "<br>\n",
    "</div>"
   ]
  },
  {
   "cell_type": "markdown",
   "metadata": {},
   "source": [
    "### 2.3. RICE вместо ICE\n",
    "Указать, как изменилась приоритизация гипотез при применении RICE вместо ICE. Объяснить, почему так произошло."
   ]
  },
  {
   "cell_type": "markdown",
   "metadata": {},
   "source": [
    "<div style=\"border-radius: 15px; border: 3px solid green; padding: 15px;\">\n",
    "<font color='green'><b>ВЫВОД:</b></font><br>\n",
    "    \n",
    "При применении ICE наиболее перспективными (TOP5) получились гипотезы под номерами 8, 0, 7 ,6 и 2. При применении RICE список перспективных (TOP5) остался прежним, но произошла перестановка гипотез по местам. Таким образом на первое место уже вышла гипотеза 7 и далее 2, 0, 6 и 8. Такие корректировки произошли потому что ICE, не учитывает параметр REACH (скольких пользователей затронет изменение). Исходя из этого за основу стоит взять приоритезацию именно по RICE:\n",
    "<br>\n",
    "    \n",
    "1. <b>Гипотеза 7</b> - Добавить форму подписки на все основные страницы, чтобы собрать базу клиентов для email-рассылок;<br>\n",
    "2. <b>Гипотеза 2</b> - Добавить блоки рекомендаций товаров на сайт интернет магазина, чтобы повысить конверсию и средний чек заказа.<br>\n",
    "3. <b>Гипотеза 0</b> - Добавить два новых канала привлечения трафика, что позволит привлекать на 30% больше пользователей;<br>\n",
    "4. <b>Гипотеза 6</b> - Показать на главной странице баннеры с актуальными акциями и распродажами, чтобы увеличить конверсию;<br>\n",
    "5. <b>Гипотеза 8</b> - Запустить акцию, дающую скидку на товар в день рождения.    \n",
    "<br>\n",
    "</div>"
   ]
  },
  {
   "cell_type": "markdown",
   "metadata": {},
   "source": [
    "## Шаг 3. Часть 2. Анализ A/B-теста\n",
    "Мы провели A/B-тест и получили результаты, которые описаны в файлах /datasets/orders.csv и /datasets/visitors.csv."
   ]
  },
  {
   "cell_type": "markdown",
   "metadata": {},
   "source": [
    "### 3.1. Построить график кумулятивной выручки по группам.\n",
    "Сделать выводы и предположения."
   ]
  },
  {
   "cell_type": "markdown",
   "metadata": {},
   "source": [
    "<div style=\"border-radius: 15px; border: 3px solid indigo; padding: 15px;\">\n",
    "<font color='purple'><b>datesGroups</b></font> — датафрейм с уникальными парами значений 'date' и 'group', таблицы orders\n",
    "</div>"
   ]
  },
  {
   "cell_type": "code",
   "execution_count": 47,
   "metadata": {},
   "outputs": [
    {
     "data": {
      "text/html": [
       "<div>\n",
       "<style scoped>\n",
       "    .dataframe tbody tr th:only-of-type {\n",
       "        vertical-align: middle;\n",
       "    }\n",
       "\n",
       "    .dataframe tbody tr th {\n",
       "        vertical-align: top;\n",
       "    }\n",
       "\n",
       "    .dataframe thead th {\n",
       "        text-align: right;\n",
       "    }\n",
       "</style>\n",
       "<table border=\"1\" class=\"dataframe\">\n",
       "  <thead>\n",
       "    <tr style=\"text-align: right;\">\n",
       "      <th></th>\n",
       "      <th>date</th>\n",
       "      <th>group</th>\n",
       "    </tr>\n",
       "  </thead>\n",
       "  <tbody>\n",
       "    <tr>\n",
       "      <th>0</th>\n",
       "      <td>2019-08-15</td>\n",
       "      <td>B</td>\n",
       "    </tr>\n",
       "    <tr>\n",
       "      <th>2</th>\n",
       "      <td>2019-08-15</td>\n",
       "      <td>A</td>\n",
       "    </tr>\n",
       "    <tr>\n",
       "      <th>45</th>\n",
       "      <td>2019-08-16</td>\n",
       "      <td>A</td>\n",
       "    </tr>\n",
       "    <tr>\n",
       "      <th>47</th>\n",
       "      <td>2019-08-16</td>\n",
       "      <td>B</td>\n",
       "    </tr>\n",
       "    <tr>\n",
       "      <th>55</th>\n",
       "      <td>2019-08-01</td>\n",
       "      <td>A</td>\n",
       "    </tr>\n",
       "  </tbody>\n",
       "</table>\n",
       "</div>"
      ],
      "text/plain": [
       "         date group\n",
       "0  2019-08-15  B   \n",
       "2  2019-08-15  A   \n",
       "45 2019-08-16  A   \n",
       "47 2019-08-16  B   \n",
       "55 2019-08-01  A   "
      ]
     },
     "metadata": {},
     "output_type": "display_data"
    }
   ],
   "source": [
    "# сформируем 62 значения дата - группа через метод .drop_duplicates()\n",
    "datesGroups = orders[['date','group']].drop_duplicates()\n",
    "display(datesGroups.head())"
   ]
  },
  {
   "cell_type": "markdown",
   "metadata": {},
   "source": [
    "<div style=\"border-radius: 15px; border: 3px solid indigo; padding: 15px;\">\n",
    "<font color='purple'><b>ordersAggregated</b></font> — агрегированные кумулятивные данные по дням о заказах\n",
    "</div>"
   ]
  },
  {
   "cell_type": "code",
   "execution_count": 48,
   "metadata": {},
   "outputs": [
    {
     "data": {
      "text/html": [
       "<div>\n",
       "<style scoped>\n",
       "    .dataframe tbody tr th:only-of-type {\n",
       "        vertical-align: middle;\n",
       "    }\n",
       "\n",
       "    .dataframe tbody tr th {\n",
       "        vertical-align: top;\n",
       "    }\n",
       "\n",
       "    .dataframe thead th {\n",
       "        text-align: right;\n",
       "    }\n",
       "</style>\n",
       "<table border=\"1\" class=\"dataframe\">\n",
       "  <thead>\n",
       "    <tr style=\"text-align: right;\">\n",
       "      <th></th>\n",
       "      <th>date</th>\n",
       "      <th>group</th>\n",
       "      <th>transactionid</th>\n",
       "      <th>visitorid</th>\n",
       "      <th>revenue</th>\n",
       "    </tr>\n",
       "  </thead>\n",
       "  <tbody>\n",
       "    <tr>\n",
       "      <th>55</th>\n",
       "      <td>2019-08-01</td>\n",
       "      <td>A</td>\n",
       "      <td>24</td>\n",
       "      <td>20</td>\n",
       "      <td>148579</td>\n",
       "    </tr>\n",
       "    <tr>\n",
       "      <th>66</th>\n",
       "      <td>2019-08-01</td>\n",
       "      <td>B</td>\n",
       "      <td>21</td>\n",
       "      <td>20</td>\n",
       "      <td>101217</td>\n",
       "    </tr>\n",
       "    <tr>\n",
       "      <th>175</th>\n",
       "      <td>2019-08-02</td>\n",
       "      <td>A</td>\n",
       "      <td>44</td>\n",
       "      <td>38</td>\n",
       "      <td>242401</td>\n",
       "    </tr>\n",
       "    <tr>\n",
       "      <th>173</th>\n",
       "      <td>2019-08-02</td>\n",
       "      <td>B</td>\n",
       "      <td>45</td>\n",
       "      <td>43</td>\n",
       "      <td>266748</td>\n",
       "    </tr>\n",
       "    <tr>\n",
       "      <th>291</th>\n",
       "      <td>2019-08-03</td>\n",
       "      <td>A</td>\n",
       "      <td>68</td>\n",
       "      <td>62</td>\n",
       "      <td>354874</td>\n",
       "    </tr>\n",
       "  </tbody>\n",
       "</table>\n",
       "</div>"
      ],
      "text/plain": [
       "          date group  transactionid  visitorid  revenue\n",
       "55  2019-08-01  A     24             20         148579 \n",
       "66  2019-08-01  B     21             20         101217 \n",
       "175 2019-08-02  A     44             38         242401 \n",
       "173 2019-08-02  B     45             43         266748 \n",
       "291 2019-08-03  A     68             62         354874 "
      ]
     },
     "metadata": {},
     "output_type": "display_data"
    }
   ],
   "source": [
    "# получаем агрегированные кумулятивные данные по дням о заказах\n",
    "ordersAggregated = datesGroups.apply(lambda x: orders[np.logical_and(orders['date'] <= x['date']\\\n",
    ", orders['group'] == x['group'])]\\\n",
    ".agg({'date': 'max', 'group': 'max', 'transactionid': pd.Series.nunique, 'visitorid': pd.Series.nunique, 'revenue': 'sum'})\\\n",
    ", axis=1).sort_values(by=['date','group'])\n",
    "display(ordersAggregated.head())"
   ]
  },
  {
   "cell_type": "markdown",
   "metadata": {},
   "source": [
    "<div style=\"border-radius: 15px; border: 3px solid indigo; padding: 15px;\">\n",
    "<font color='purple'><b>visitorsAggregated</b></font> — агрегированные кумулятивные данные по дням о посетителях\n",
    "</div>"
   ]
  },
  {
   "cell_type": "code",
   "execution_count": 49,
   "metadata": {},
   "outputs": [
    {
     "data": {
      "text/html": [
       "<div>\n",
       "<style scoped>\n",
       "    .dataframe tbody tr th:only-of-type {\n",
       "        vertical-align: middle;\n",
       "    }\n",
       "\n",
       "    .dataframe tbody tr th {\n",
       "        vertical-align: top;\n",
       "    }\n",
       "\n",
       "    .dataframe thead th {\n",
       "        text-align: right;\n",
       "    }\n",
       "</style>\n",
       "<table border=\"1\" class=\"dataframe\">\n",
       "  <thead>\n",
       "    <tr style=\"text-align: right;\">\n",
       "      <th></th>\n",
       "      <th>date</th>\n",
       "      <th>group</th>\n",
       "      <th>visitors</th>\n",
       "    </tr>\n",
       "  </thead>\n",
       "  <tbody>\n",
       "    <tr>\n",
       "      <th>55</th>\n",
       "      <td>2019-08-01</td>\n",
       "      <td>A</td>\n",
       "      <td>719</td>\n",
       "    </tr>\n",
       "    <tr>\n",
       "      <th>66</th>\n",
       "      <td>2019-08-01</td>\n",
       "      <td>B</td>\n",
       "      <td>713</td>\n",
       "    </tr>\n",
       "    <tr>\n",
       "      <th>175</th>\n",
       "      <td>2019-08-02</td>\n",
       "      <td>A</td>\n",
       "      <td>1338</td>\n",
       "    </tr>\n",
       "    <tr>\n",
       "      <th>173</th>\n",
       "      <td>2019-08-02</td>\n",
       "      <td>B</td>\n",
       "      <td>1294</td>\n",
       "    </tr>\n",
       "    <tr>\n",
       "      <th>291</th>\n",
       "      <td>2019-08-03</td>\n",
       "      <td>A</td>\n",
       "      <td>1845</td>\n",
       "    </tr>\n",
       "  </tbody>\n",
       "</table>\n",
       "</div>"
      ],
      "text/plain": [
       "          date group  visitors\n",
       "55  2019-08-01  A     719     \n",
       "66  2019-08-01  B     713     \n",
       "175 2019-08-02  A     1338    \n",
       "173 2019-08-02  B     1294    \n",
       "291 2019-08-03  A     1845    "
      ]
     },
     "metadata": {},
     "output_type": "display_data"
    }
   ],
   "source": [
    "# получаем агрегированные кумулятивные данные по дням о посетителях\n",
    "visitorsAggregated = datesGroups.apply(lambda x: visitors[np.logical_and(visitors['date'] <= x['date']\\\n",
    ", visitors['group'] == x['group'])]\\\n",
    ".agg({'date' : 'max', 'group' : 'max', 'visitors' : 'sum'}), axis=1).sort_values(by=['date','group'])\n",
    "display(visitorsAggregated.head())"
   ]
  },
  {
   "cell_type": "markdown",
   "metadata": {},
   "source": [
    "<div style=\"border-radius: 15px; border: 3px solid indigo; padding: 15px;\">\n",
    "<font color='purple'><b>cumulativeData</b></font> — объединенная таблица агрегированных кумулятивных данных по дням о заказах и посетителях\n",
    "</div>"
   ]
  },
  {
   "cell_type": "code",
   "execution_count": 50,
   "metadata": {},
   "outputs": [
    {
     "data": {
      "text/html": [
       "<div>\n",
       "<style scoped>\n",
       "    .dataframe tbody tr th:only-of-type {\n",
       "        vertical-align: middle;\n",
       "    }\n",
       "\n",
       "    .dataframe tbody tr th {\n",
       "        vertical-align: top;\n",
       "    }\n",
       "\n",
       "    .dataframe thead th {\n",
       "        text-align: right;\n",
       "    }\n",
       "</style>\n",
       "<table border=\"1\" class=\"dataframe\">\n",
       "  <thead>\n",
       "    <tr style=\"text-align: right;\">\n",
       "      <th></th>\n",
       "      <th>date</th>\n",
       "      <th>group</th>\n",
       "      <th>orders</th>\n",
       "      <th>buyers</th>\n",
       "      <th>revenue</th>\n",
       "      <th>visitors</th>\n",
       "    </tr>\n",
       "  </thead>\n",
       "  <tbody>\n",
       "    <tr>\n",
       "      <th>0</th>\n",
       "      <td>2019-08-01</td>\n",
       "      <td>A</td>\n",
       "      <td>24</td>\n",
       "      <td>20</td>\n",
       "      <td>148579</td>\n",
       "      <td>719</td>\n",
       "    </tr>\n",
       "    <tr>\n",
       "      <th>1</th>\n",
       "      <td>2019-08-01</td>\n",
       "      <td>B</td>\n",
       "      <td>21</td>\n",
       "      <td>20</td>\n",
       "      <td>101217</td>\n",
       "      <td>713</td>\n",
       "    </tr>\n",
       "    <tr>\n",
       "      <th>2</th>\n",
       "      <td>2019-08-02</td>\n",
       "      <td>A</td>\n",
       "      <td>44</td>\n",
       "      <td>38</td>\n",
       "      <td>242401</td>\n",
       "      <td>1338</td>\n",
       "    </tr>\n",
       "    <tr>\n",
       "      <th>3</th>\n",
       "      <td>2019-08-02</td>\n",
       "      <td>B</td>\n",
       "      <td>45</td>\n",
       "      <td>43</td>\n",
       "      <td>266748</td>\n",
       "      <td>1294</td>\n",
       "    </tr>\n",
       "    <tr>\n",
       "      <th>4</th>\n",
       "      <td>2019-08-03</td>\n",
       "      <td>A</td>\n",
       "      <td>68</td>\n",
       "      <td>62</td>\n",
       "      <td>354874</td>\n",
       "      <td>1845</td>\n",
       "    </tr>\n",
       "  </tbody>\n",
       "</table>\n",
       "</div>"
      ],
      "text/plain": [
       "        date group  orders  buyers  revenue  visitors\n",
       "0 2019-08-01  A     24      20      148579   719     \n",
       "1 2019-08-01  B     21      20      101217   713     \n",
       "2 2019-08-02  A     44      38      242401   1338    \n",
       "3 2019-08-02  B     45      43      266748   1294    \n",
       "4 2019-08-03  A     68      62      354874   1845    "
      ]
     },
     "metadata": {},
     "output_type": "display_data"
    }
   ],
   "source": [
    "# объединим ordersAggregated и visitorsAggregated с помощью merge и заменим transactionid = orders, а visitorid = buyers\n",
    "cumulativeData = ordersAggregated.merge(visitorsAggregated, left_on=['date', 'group'], right_on=['date', 'group'])\n",
    "cumulativeData.columns = ['date', 'group', 'orders', 'buyers', 'revenue', 'visitors']\n",
    "display(cumulativeData.head())"
   ]
  },
  {
   "cell_type": "markdown",
   "metadata": {},
   "source": [
    "<div style=\"border-radius: 15px; border: 3px solid indigo; padding: 15px;\">\n",
    "<font color='purple'><b>cumulativeRevenueA</b></font> — кумулятивное количество заказов и кумулятивная выручка по дням в группе А\n",
    "</div>"
   ]
  },
  {
   "cell_type": "code",
   "execution_count": 51,
   "metadata": {},
   "outputs": [
    {
     "data": {
      "text/html": [
       "<div>\n",
       "<style scoped>\n",
       "    .dataframe tbody tr th:only-of-type {\n",
       "        vertical-align: middle;\n",
       "    }\n",
       "\n",
       "    .dataframe tbody tr th {\n",
       "        vertical-align: top;\n",
       "    }\n",
       "\n",
       "    .dataframe thead th {\n",
       "        text-align: right;\n",
       "    }\n",
       "</style>\n",
       "<table border=\"1\" class=\"dataframe\">\n",
       "  <thead>\n",
       "    <tr style=\"text-align: right;\">\n",
       "      <th></th>\n",
       "      <th>date</th>\n",
       "      <th>revenue</th>\n",
       "      <th>orders</th>\n",
       "    </tr>\n",
       "  </thead>\n",
       "  <tbody>\n",
       "    <tr>\n",
       "      <th>0</th>\n",
       "      <td>2019-08-01</td>\n",
       "      <td>148579</td>\n",
       "      <td>24</td>\n",
       "    </tr>\n",
       "    <tr>\n",
       "      <th>2</th>\n",
       "      <td>2019-08-02</td>\n",
       "      <td>242401</td>\n",
       "      <td>44</td>\n",
       "    </tr>\n",
       "    <tr>\n",
       "      <th>4</th>\n",
       "      <td>2019-08-03</td>\n",
       "      <td>354874</td>\n",
       "      <td>68</td>\n",
       "    </tr>\n",
       "    <tr>\n",
       "      <th>6</th>\n",
       "      <td>2019-08-04</td>\n",
       "      <td>425699</td>\n",
       "      <td>84</td>\n",
       "    </tr>\n",
       "    <tr>\n",
       "      <th>8</th>\n",
       "      <td>2019-08-05</td>\n",
       "      <td>549917</td>\n",
       "      <td>109</td>\n",
       "    </tr>\n",
       "  </tbody>\n",
       "</table>\n",
       "</div>"
      ],
      "text/plain": [
       "        date  revenue  orders\n",
       "0 2019-08-01  148579   24    \n",
       "2 2019-08-02  242401   44    \n",
       "4 2019-08-03  354874   68    \n",
       "6 2019-08-04  425699   84    \n",
       "8 2019-08-05  549917   109   "
      ]
     },
     "metadata": {},
     "output_type": "display_data"
    }
   ],
   "source": [
    "# создадим датафрейм с данными date, revenue, orders отсортировав по группе А\n",
    "cumulativeRevenueA = cumulativeData[cumulativeData['group']=='A'][['date','revenue', 'orders']]\n",
    "display(cumulativeRevenueA.head())"
   ]
  },
  {
   "cell_type": "markdown",
   "metadata": {},
   "source": [
    "<div style=\"border-radius: 15px; border: 3px solid indigo; padding: 15px;\">\n",
    "<font color='purple'><b>cumulativeRevenueB</b></font> — кумулятивное количество заказов и кумулятивная выручка по дням в группе B\n",
    "</div>"
   ]
  },
  {
   "cell_type": "code",
   "execution_count": 52,
   "metadata": {},
   "outputs": [
    {
     "data": {
      "text/html": [
       "<div>\n",
       "<style scoped>\n",
       "    .dataframe tbody tr th:only-of-type {\n",
       "        vertical-align: middle;\n",
       "    }\n",
       "\n",
       "    .dataframe tbody tr th {\n",
       "        vertical-align: top;\n",
       "    }\n",
       "\n",
       "    .dataframe thead th {\n",
       "        text-align: right;\n",
       "    }\n",
       "</style>\n",
       "<table border=\"1\" class=\"dataframe\">\n",
       "  <thead>\n",
       "    <tr style=\"text-align: right;\">\n",
       "      <th></th>\n",
       "      <th>date</th>\n",
       "      <th>revenue</th>\n",
       "      <th>orders</th>\n",
       "    </tr>\n",
       "  </thead>\n",
       "  <tbody>\n",
       "    <tr>\n",
       "      <th>1</th>\n",
       "      <td>2019-08-01</td>\n",
       "      <td>101217</td>\n",
       "      <td>21</td>\n",
       "    </tr>\n",
       "    <tr>\n",
       "      <th>3</th>\n",
       "      <td>2019-08-02</td>\n",
       "      <td>266748</td>\n",
       "      <td>45</td>\n",
       "    </tr>\n",
       "    <tr>\n",
       "      <th>5</th>\n",
       "      <td>2019-08-03</td>\n",
       "      <td>380996</td>\n",
       "      <td>61</td>\n",
       "    </tr>\n",
       "    <tr>\n",
       "      <th>7</th>\n",
       "      <td>2019-08-04</td>\n",
       "      <td>489567</td>\n",
       "      <td>78</td>\n",
       "    </tr>\n",
       "    <tr>\n",
       "      <th>9</th>\n",
       "      <td>2019-08-05</td>\n",
       "      <td>581995</td>\n",
       "      <td>101</td>\n",
       "    </tr>\n",
       "  </tbody>\n",
       "</table>\n",
       "</div>"
      ],
      "text/plain": [
       "        date  revenue  orders\n",
       "1 2019-08-01  101217   21    \n",
       "3 2019-08-02  266748   45    \n",
       "5 2019-08-03  380996   61    \n",
       "7 2019-08-04  489567   78    \n",
       "9 2019-08-05  581995   101   "
      ]
     },
     "metadata": {},
     "output_type": "display_data"
    }
   ],
   "source": [
    "# создадим датафрейм с данными date, revenue, orders отсортировав по группе B\n",
    "cumulativeRevenueB = cumulativeData[cumulativeData['group']=='B'][['date','revenue', 'orders']]\n",
    "display(cumulativeRevenueB.head())"
   ]
  },
  {
   "cell_type": "code",
   "execution_count": 53,
   "metadata": {},
   "outputs": [
    {
     "data": {
      "image/png": "[encoded data removed]",
      "text/plain": [
       "<Figure size 1080x360 with 1 Axes>"
      ]
     },
     "metadata": {
      "needs_background": "light"
     },
     "output_type": "display_data"
    }
   ],
   "source": [
    "# построим график выручки группы А и грыппы В\n",
    "plt.figure(figsize=(15,5))\n",
    "plt.plot(cumulativeRevenueA['date'], cumulativeRevenueA['revenue'], label='A')\n",
    "plt.plot(cumulativeRevenueB['date'], cumulativeRevenueB['revenue'], label='B')\n",
    "plt.legend() \n",
    "plt.title(\"Кумулятивная выручка по группам А и В\", fontsize=16)\n",
    "plt.xlabel('даты по заказам', fontsize=14)\n",
    "plt.ylabel('выручка по заказам', fontsize=14)\n",
    "plt.xticks(rotation=0);"
   ]
  },
  {
   "cell_type": "markdown",
   "metadata": {},
   "source": [
    "<div style=\"border-radius: 15px; border: 3px solid green; padding: 15px;\">\n",
    "<font color='green'><b>ВЫВОД:</b></font><br>\n",
    "Выручка увеличивается в течение всего теста. На графике выручка группы В резко растет между 18 и 19 августа. Это может сигнализировать о всплесках числа заказов, либо о появлении очень дорогих заказов в выборке. Выручка группы А растет довольно равномерно, без сильных всплесков.\n",
    "<br>\n",
    "</div>"
   ]
  },
  {
   "cell_type": "markdown",
   "metadata": {},
   "source": [
    "### 3.2. Построить график кумулятивного среднего чека по группам.\n",
    "Сделать выводы и предположения."
   ]
  },
  {
   "cell_type": "markdown",
   "metadata": {},
   "source": [
    "<div style=\"border-radius: 15px; border: 3px solid indigo; padding: 15px;\">\n",
    "<font color='purple'><b>cumulativeRevenueA['average_check']</b></font> — средний чек в группе А\n",
    "</div>"
   ]
  },
  {
   "cell_type": "code",
   "execution_count": 54,
   "metadata": {},
   "outputs": [
    {
     "data": {
      "text/html": [
       "<div>\n",
       "<style scoped>\n",
       "    .dataframe tbody tr th:only-of-type {\n",
       "        vertical-align: middle;\n",
       "    }\n",
       "\n",
       "    .dataframe tbody tr th {\n",
       "        vertical-align: top;\n",
       "    }\n",
       "\n",
       "    .dataframe thead th {\n",
       "        text-align: right;\n",
       "    }\n",
       "</style>\n",
       "<table border=\"1\" class=\"dataframe\">\n",
       "  <thead>\n",
       "    <tr style=\"text-align: right;\">\n",
       "      <th></th>\n",
       "      <th>date</th>\n",
       "      <th>revenue</th>\n",
       "      <th>orders</th>\n",
       "      <th>average_check</th>\n",
       "    </tr>\n",
       "  </thead>\n",
       "  <tbody>\n",
       "    <tr>\n",
       "      <th>0</th>\n",
       "      <td>2019-08-01</td>\n",
       "      <td>148579</td>\n",
       "      <td>24</td>\n",
       "      <td>6190.79</td>\n",
       "    </tr>\n",
       "    <tr>\n",
       "      <th>2</th>\n",
       "      <td>2019-08-02</td>\n",
       "      <td>242401</td>\n",
       "      <td>44</td>\n",
       "      <td>5509.11</td>\n",
       "    </tr>\n",
       "    <tr>\n",
       "      <th>4</th>\n",
       "      <td>2019-08-03</td>\n",
       "      <td>354874</td>\n",
       "      <td>68</td>\n",
       "      <td>5218.74</td>\n",
       "    </tr>\n",
       "    <tr>\n",
       "      <th>6</th>\n",
       "      <td>2019-08-04</td>\n",
       "      <td>425699</td>\n",
       "      <td>84</td>\n",
       "      <td>5067.85</td>\n",
       "    </tr>\n",
       "    <tr>\n",
       "      <th>8</th>\n",
       "      <td>2019-08-05</td>\n",
       "      <td>549917</td>\n",
       "      <td>109</td>\n",
       "      <td>5045.11</td>\n",
       "    </tr>\n",
       "  </tbody>\n",
       "</table>\n",
       "</div>"
      ],
      "text/plain": [
       "        date  revenue  orders  average_check\n",
       "0 2019-08-01  148579   24      6190.79      \n",
       "2 2019-08-02  242401   44      5509.11      \n",
       "4 2019-08-03  354874   68      5218.74      \n",
       "6 2019-08-04  425699   84      5067.85      \n",
       "8 2019-08-05  549917   109     5045.11      "
      ]
     },
     "metadata": {},
     "output_type": "display_data"
    }
   ],
   "source": [
    "# добавим столбец average_check посчитав в нём средний чек по группе А\n",
    "cumulativeRevenueA['average_check'] = round(cumulativeRevenueA['revenue'] / cumulativeRevenueA['orders'], 2)\n",
    "display(cumulativeRevenueA.head())"
   ]
  },
  {
   "cell_type": "markdown",
   "metadata": {},
   "source": [
    "<div style=\"border-radius: 15px; border: 3px solid indigo; padding: 15px;\">\n",
    "<font color='purple'><b>cumulativeRevenueB['average_check']</b></font> — средний чек в группе B\n",
    "</div>"
   ]
  },
  {
   "cell_type": "code",
   "execution_count": 55,
   "metadata": {},
   "outputs": [
    {
     "data": {
      "text/html": [
       "<div>\n",
       "<style scoped>\n",
       "    .dataframe tbody tr th:only-of-type {\n",
       "        vertical-align: middle;\n",
       "    }\n",
       "\n",
       "    .dataframe tbody tr th {\n",
       "        vertical-align: top;\n",
       "    }\n",
       "\n",
       "    .dataframe thead th {\n",
       "        text-align: right;\n",
       "    }\n",
       "</style>\n",
       "<table border=\"1\" class=\"dataframe\">\n",
       "  <thead>\n",
       "    <tr style=\"text-align: right;\">\n",
       "      <th></th>\n",
       "      <th>date</th>\n",
       "      <th>revenue</th>\n",
       "      <th>orders</th>\n",
       "      <th>average_check</th>\n",
       "    </tr>\n",
       "  </thead>\n",
       "  <tbody>\n",
       "    <tr>\n",
       "      <th>1</th>\n",
       "      <td>2019-08-01</td>\n",
       "      <td>101217</td>\n",
       "      <td>21</td>\n",
       "      <td>4819.86</td>\n",
       "    </tr>\n",
       "    <tr>\n",
       "      <th>3</th>\n",
       "      <td>2019-08-02</td>\n",
       "      <td>266748</td>\n",
       "      <td>45</td>\n",
       "      <td>5927.73</td>\n",
       "    </tr>\n",
       "    <tr>\n",
       "      <th>5</th>\n",
       "      <td>2019-08-03</td>\n",
       "      <td>380996</td>\n",
       "      <td>61</td>\n",
       "      <td>6245.84</td>\n",
       "    </tr>\n",
       "    <tr>\n",
       "      <th>7</th>\n",
       "      <td>2019-08-04</td>\n",
       "      <td>489567</td>\n",
       "      <td>78</td>\n",
       "      <td>6276.50</td>\n",
       "    </tr>\n",
       "    <tr>\n",
       "      <th>9</th>\n",
       "      <td>2019-08-05</td>\n",
       "      <td>581995</td>\n",
       "      <td>101</td>\n",
       "      <td>5762.33</td>\n",
       "    </tr>\n",
       "  </tbody>\n",
       "</table>\n",
       "</div>"
      ],
      "text/plain": [
       "        date  revenue  orders  average_check\n",
       "1 2019-08-01  101217   21      4819.86      \n",
       "3 2019-08-02  266748   45      5927.73      \n",
       "5 2019-08-03  380996   61      6245.84      \n",
       "7 2019-08-04  489567   78      6276.50      \n",
       "9 2019-08-05  581995   101     5762.33      "
      ]
     },
     "metadata": {},
     "output_type": "display_data"
    }
   ],
   "source": [
    "# добавим столбец average_check посчитав в нём средний чек по группе А\n",
    "cumulativeRevenueB['average_check'] = round(cumulativeRevenueB['revenue'] / cumulativeRevenueB['orders'], 2)\n",
    "display(cumulativeRevenueB.head())"
   ]
  },
  {
   "cell_type": "code",
   "execution_count": 56,
   "metadata": {},
   "outputs": [
    {
     "data": {
      "image/png": "[encoded data removed]",
      "text/plain": [
       "<Figure size 1080x360 with 1 Axes>"
      ]
     },
     "metadata": {
      "needs_background": "light"
     },
     "output_type": "display_data"
    }
   ],
   "source": [
    "# построим график кумулятивного среднего чека по группам A и B\n",
    "plt.figure(figsize=(15,5))\n",
    "plt.plot(cumulativeRevenueA['date'], cumulativeRevenueA['average_check'], label='A')\n",
    "plt.plot(cumulativeRevenueB['date'], cumulativeRevenueB['average_check'], label='B')\n",
    "plt.legend() \n",
    "plt.title(\"Кумулятивный средний чек по группам A и B\", fontsize=16)\n",
    "plt.xlabel('даты по заказам', fontsize=14)\n",
    "plt.ylabel('средний чек по заказам', fontsize=14)\n",
    "plt.xticks(rotation=0);"
   ]
  },
  {
   "cell_type": "markdown",
   "metadata": {},
   "source": [
    "<div style=\"border-radius: 15px; border: 3px solid green; padding: 15px;\">\n",
    "<font color='green'><b>ВЫВОД:</b></font><br>\n",
    "Средний чек становится равномерным к самому концу теста (примерно к 29 августа). Есть резкий всплекс по среднему чеку в группе В после 18 августа. Возможно, в этот период стало больше заказов или заказы стали дороже.\n",
    "<br>\n",
    "</div>"
   ]
  },
  {
   "cell_type": "markdown",
   "metadata": {},
   "source": [
    "### 3.3. Построить график относительного изменения кумулятивного среднего чека группы B к группе A.\n",
    "Сделать выводы и предположения."
   ]
  },
  {
   "cell_type": "markdown",
   "metadata": {},
   "source": [
    "<div style=\"border-radius: 15px; border: 3px solid indigo; padding: 15px;\">\n",
    "<font color='purple'><b>mergedCumulativeRevenue</b></font> — объединенная таблица агрегированных кумулятивных данных\n",
    "</div>"
   ]
  },
  {
   "cell_type": "code",
   "execution_count": 57,
   "metadata": {},
   "outputs": [
    {
     "data": {
      "text/html": [
       "<div>\n",
       "<style scoped>\n",
       "    .dataframe tbody tr th:only-of-type {\n",
       "        vertical-align: middle;\n",
       "    }\n",
       "\n",
       "    .dataframe tbody tr th {\n",
       "        vertical-align: top;\n",
       "    }\n",
       "\n",
       "    .dataframe thead th {\n",
       "        text-align: right;\n",
       "    }\n",
       "</style>\n",
       "<table border=\"1\" class=\"dataframe\">\n",
       "  <thead>\n",
       "    <tr style=\"text-align: right;\">\n",
       "      <th></th>\n",
       "      <th>date</th>\n",
       "      <th>revenueA</th>\n",
       "      <th>ordersA</th>\n",
       "      <th>average_checkA</th>\n",
       "      <th>revenueB</th>\n",
       "      <th>ordersB</th>\n",
       "      <th>average_checkB</th>\n",
       "    </tr>\n",
       "  </thead>\n",
       "  <tbody>\n",
       "    <tr>\n",
       "      <th>0</th>\n",
       "      <td>2019-08-01</td>\n",
       "      <td>148579</td>\n",
       "      <td>24</td>\n",
       "      <td>6190.79</td>\n",
       "      <td>101217</td>\n",
       "      <td>21</td>\n",
       "      <td>4819.86</td>\n",
       "    </tr>\n",
       "    <tr>\n",
       "      <th>1</th>\n",
       "      <td>2019-08-02</td>\n",
       "      <td>242401</td>\n",
       "      <td>44</td>\n",
       "      <td>5509.11</td>\n",
       "      <td>266748</td>\n",
       "      <td>45</td>\n",
       "      <td>5927.73</td>\n",
       "    </tr>\n",
       "    <tr>\n",
       "      <th>2</th>\n",
       "      <td>2019-08-03</td>\n",
       "      <td>354874</td>\n",
       "      <td>68</td>\n",
       "      <td>5218.74</td>\n",
       "      <td>380996</td>\n",
       "      <td>61</td>\n",
       "      <td>6245.84</td>\n",
       "    </tr>\n",
       "    <tr>\n",
       "      <th>3</th>\n",
       "      <td>2019-08-04</td>\n",
       "      <td>425699</td>\n",
       "      <td>84</td>\n",
       "      <td>5067.85</td>\n",
       "      <td>489567</td>\n",
       "      <td>78</td>\n",
       "      <td>6276.50</td>\n",
       "    </tr>\n",
       "    <tr>\n",
       "      <th>4</th>\n",
       "      <td>2019-08-05</td>\n",
       "      <td>549917</td>\n",
       "      <td>109</td>\n",
       "      <td>5045.11</td>\n",
       "      <td>581995</td>\n",
       "      <td>101</td>\n",
       "      <td>5762.33</td>\n",
       "    </tr>\n",
       "  </tbody>\n",
       "</table>\n",
       "</div>"
      ],
      "text/plain": [
       "        date  revenueA  ordersA  average_checkA  revenueB  ordersB  \\\n",
       "0 2019-08-01  148579    24       6190.79         101217    21        \n",
       "1 2019-08-02  242401    44       5509.11         266748    45        \n",
       "2 2019-08-03  354874    68       5218.74         380996    61        \n",
       "3 2019-08-04  425699    84       5067.85         489567    78        \n",
       "4 2019-08-05  549917    109      5045.11         581995    101       \n",
       "\n",
       "   average_checkB  \n",
       "0  4819.86         \n",
       "1  5927.73         \n",
       "2  6245.84         \n",
       "3  6276.50         \n",
       "4  5762.33         "
      ]
     },
     "metadata": {},
     "output_type": "display_data"
    }
   ],
   "source": [
    "# объединим cumulativeRevenueA и cumulativeRevenueB с помощью merge\n",
    "mergedCumulativeRevenue = cumulativeRevenueA\\\n",
    ".merge(cumulativeRevenueB, left_on='date', right_on='date', how='left', suffixes=['A', 'B'])\n",
    "display(mergedCumulativeRevenue.head())"
   ]
  },
  {
   "cell_type": "markdown",
   "metadata": {},
   "source": [
    "<div style=\"border-radius: 15px; border: 3px solid indigo; padding: 15px;\">\n",
    "<font color='purple'><b>mergedCumulativeRevenue['average_check_BA']</b></font> — агрегированные кумулятивные данные средних чеков группы B к группе А\n",
    "</div>"
   ]
  },
  {
   "cell_type": "code",
   "execution_count": 58,
   "metadata": {},
   "outputs": [
    {
     "data": {
      "text/html": [
       "<div>\n",
       "<style scoped>\n",
       "    .dataframe tbody tr th:only-of-type {\n",
       "        vertical-align: middle;\n",
       "    }\n",
       "\n",
       "    .dataframe tbody tr th {\n",
       "        vertical-align: top;\n",
       "    }\n",
       "\n",
       "    .dataframe thead th {\n",
       "        text-align: right;\n",
       "    }\n",
       "</style>\n",
       "<table border=\"1\" class=\"dataframe\">\n",
       "  <thead>\n",
       "    <tr style=\"text-align: right;\">\n",
       "      <th></th>\n",
       "      <th>date</th>\n",
       "      <th>revenueA</th>\n",
       "      <th>ordersA</th>\n",
       "      <th>average_checkA</th>\n",
       "      <th>revenueB</th>\n",
       "      <th>ordersB</th>\n",
       "      <th>average_checkB</th>\n",
       "      <th>average_check_BA</th>\n",
       "    </tr>\n",
       "  </thead>\n",
       "  <tbody>\n",
       "    <tr>\n",
       "      <th>0</th>\n",
       "      <td>2019-08-01</td>\n",
       "      <td>148579</td>\n",
       "      <td>24</td>\n",
       "      <td>6190.79</td>\n",
       "      <td>101217</td>\n",
       "      <td>21</td>\n",
       "      <td>4819.86</td>\n",
       "      <td>0.78</td>\n",
       "    </tr>\n",
       "    <tr>\n",
       "      <th>1</th>\n",
       "      <td>2019-08-02</td>\n",
       "      <td>242401</td>\n",
       "      <td>44</td>\n",
       "      <td>5509.11</td>\n",
       "      <td>266748</td>\n",
       "      <td>45</td>\n",
       "      <td>5927.73</td>\n",
       "      <td>1.08</td>\n",
       "    </tr>\n",
       "    <tr>\n",
       "      <th>2</th>\n",
       "      <td>2019-08-03</td>\n",
       "      <td>354874</td>\n",
       "      <td>68</td>\n",
       "      <td>5218.74</td>\n",
       "      <td>380996</td>\n",
       "      <td>61</td>\n",
       "      <td>6245.84</td>\n",
       "      <td>1.20</td>\n",
       "    </tr>\n",
       "    <tr>\n",
       "      <th>3</th>\n",
       "      <td>2019-08-04</td>\n",
       "      <td>425699</td>\n",
       "      <td>84</td>\n",
       "      <td>5067.85</td>\n",
       "      <td>489567</td>\n",
       "      <td>78</td>\n",
       "      <td>6276.50</td>\n",
       "      <td>1.24</td>\n",
       "    </tr>\n",
       "    <tr>\n",
       "      <th>4</th>\n",
       "      <td>2019-08-05</td>\n",
       "      <td>549917</td>\n",
       "      <td>109</td>\n",
       "      <td>5045.11</td>\n",
       "      <td>581995</td>\n",
       "      <td>101</td>\n",
       "      <td>5762.33</td>\n",
       "      <td>1.14</td>\n",
       "    </tr>\n",
       "  </tbody>\n",
       "</table>\n",
       "</div>"
      ],
      "text/plain": [
       "        date  revenueA  ordersA  average_checkA  revenueB  ordersB  \\\n",
       "0 2019-08-01  148579    24       6190.79         101217    21        \n",
       "1 2019-08-02  242401    44       5509.11         266748    45        \n",
       "2 2019-08-03  354874    68       5218.74         380996    61        \n",
       "3 2019-08-04  425699    84       5067.85         489567    78        \n",
       "4 2019-08-05  549917    109      5045.11         581995    101       \n",
       "\n",
       "   average_checkB  average_check_BA  \n",
       "0  4819.86         0.78              \n",
       "1  5927.73         1.08              \n",
       "2  6245.84         1.20              \n",
       "3  6276.50         1.24              \n",
       "4  5762.33         1.14              "
      ]
     },
     "metadata": {},
     "output_type": "display_data"
    }
   ],
   "source": [
    "# создадим столбец average_check_BA посчитав в нём относительное изменение кумулятивного среднего чека группы В к группе А\n",
    "mergedCumulativeRevenue['average_check_BA'] =\\\n",
    "round(mergedCumulativeRevenue['average_checkB'] / mergedCumulativeRevenue['average_checkA'], 2)\n",
    "display(mergedCumulativeRevenue.head())"
   ]
  },
  {
   "cell_type": "code",
   "execution_count": 59,
   "metadata": {},
   "outputs": [
    {
     "data": {
      "image/png": "[encoded data removed]",
      "text/plain": [
       "<Figure size 1080x360 with 1 Axes>"
      ]
     },
     "metadata": {
      "needs_background": "light"
     },
     "output_type": "display_data"
    }
   ],
   "source": [
    "# построим график относительного изменения кумулятивного среднего чека группы B к группе A\n",
    "plt.figure(figsize=(15,5))\n",
    "plt.plot(mergedCumulativeRevenue['date'], mergedCumulativeRevenue['average_check_BA'] - 1)\n",
    "plt.axhline(y=0, color='black', linestyle='--') \n",
    "plt.title(\"Соотношение среднего чека группы B к группе A\", fontsize=16)\n",
    "plt.xlabel('даты по заказам', fontsize=14)\n",
    "plt.ylabel('средний чек по заказам', fontsize=14)\n",
    "plt.xticks(rotation=0);"
   ]
  },
  {
   "cell_type": "markdown",
   "metadata": {},
   "source": [
    "<div style=\"border-radius: 15px; border: 3px solid green; padding: 15px;\">\n",
    "<font color='green'><b>ВЫВОД:</b></font><br>\n",
    "Колебания слишком резкие, необходимо будет проверить данные на наличие аномальных пользователей.\n",
    "<br>\n",
    "</div>"
   ]
  },
  {
   "cell_type": "markdown",
   "metadata": {},
   "source": [
    "### 3.4. Построить график кумулятивной конверсии по группам.\n",
    "Сделать выводы и предположения."
   ]
  },
  {
   "cell_type": "markdown",
   "metadata": {},
   "source": [
    "<div style=\"border-radius: 15px; border: 3px solid indigo; padding: 15px;\">\n",
    "<font color='purple'><b>cumulativeData['conversion']</b></font> — кумулятивная конверсия\n",
    "</div>"
   ]
  },
  {
   "cell_type": "code",
   "execution_count": 60,
   "metadata": {},
   "outputs": [
    {
     "data": {
      "text/html": [
       "<div>\n",
       "<style scoped>\n",
       "    .dataframe tbody tr th:only-of-type {\n",
       "        vertical-align: middle;\n",
       "    }\n",
       "\n",
       "    .dataframe tbody tr th {\n",
       "        vertical-align: top;\n",
       "    }\n",
       "\n",
       "    .dataframe thead th {\n",
       "        text-align: right;\n",
       "    }\n",
       "</style>\n",
       "<table border=\"1\" class=\"dataframe\">\n",
       "  <thead>\n",
       "    <tr style=\"text-align: right;\">\n",
       "      <th></th>\n",
       "      <th>date</th>\n",
       "      <th>group</th>\n",
       "      <th>orders</th>\n",
       "      <th>buyers</th>\n",
       "      <th>revenue</th>\n",
       "      <th>visitors</th>\n",
       "      <th>conversion</th>\n",
       "    </tr>\n",
       "  </thead>\n",
       "  <tbody>\n",
       "    <tr>\n",
       "      <th>0</th>\n",
       "      <td>2019-08-01</td>\n",
       "      <td>A</td>\n",
       "      <td>24</td>\n",
       "      <td>20</td>\n",
       "      <td>148579</td>\n",
       "      <td>719</td>\n",
       "      <td>0.033</td>\n",
       "    </tr>\n",
       "    <tr>\n",
       "      <th>1</th>\n",
       "      <td>2019-08-01</td>\n",
       "      <td>B</td>\n",
       "      <td>21</td>\n",
       "      <td>20</td>\n",
       "      <td>101217</td>\n",
       "      <td>713</td>\n",
       "      <td>0.029</td>\n",
       "    </tr>\n",
       "    <tr>\n",
       "      <th>2</th>\n",
       "      <td>2019-08-02</td>\n",
       "      <td>A</td>\n",
       "      <td>44</td>\n",
       "      <td>38</td>\n",
       "      <td>242401</td>\n",
       "      <td>1338</td>\n",
       "      <td>0.033</td>\n",
       "    </tr>\n",
       "    <tr>\n",
       "      <th>3</th>\n",
       "      <td>2019-08-02</td>\n",
       "      <td>B</td>\n",
       "      <td>45</td>\n",
       "      <td>43</td>\n",
       "      <td>266748</td>\n",
       "      <td>1294</td>\n",
       "      <td>0.035</td>\n",
       "    </tr>\n",
       "    <tr>\n",
       "      <th>4</th>\n",
       "      <td>2019-08-03</td>\n",
       "      <td>A</td>\n",
       "      <td>68</td>\n",
       "      <td>62</td>\n",
       "      <td>354874</td>\n",
       "      <td>1845</td>\n",
       "      <td>0.037</td>\n",
       "    </tr>\n",
       "  </tbody>\n",
       "</table>\n",
       "</div>"
      ],
      "text/plain": [
       "        date group  orders  buyers  revenue  visitors  conversion\n",
       "0 2019-08-01  A     24      20      148579   719       0.033     \n",
       "1 2019-08-01  B     21      20      101217   713       0.029     \n",
       "2 2019-08-02  A     44      38      242401   1338      0.033     \n",
       "3 2019-08-02  B     45      43      266748   1294      0.035     \n",
       "4 2019-08-03  A     68      62      354874   1845      0.037     "
      ]
     },
     "metadata": {},
     "output_type": "display_data"
    }
   ],
   "source": [
    "# создадим столбец conversion и посчитаем в нем кумулятивную конверсию\n",
    "cumulativeData['conversion'] = round(cumulativeData['orders']/cumulativeData['visitors'], 3)\n",
    "display(cumulativeData.head())"
   ]
  },
  {
   "cell_type": "markdown",
   "metadata": {},
   "source": [
    "<div style=\"border-radius: 15px; border: 3px solid indigo; padding: 15px;\">\n",
    "<font color='purple'><b>cumulativeDataA</b></font> — отсортированные данные по группе А\n",
    "</div>"
   ]
  },
  {
   "cell_type": "code",
   "execution_count": 61,
   "metadata": {},
   "outputs": [
    {
     "data": {
      "text/html": [
       "<div>\n",
       "<style scoped>\n",
       "    .dataframe tbody tr th:only-of-type {\n",
       "        vertical-align: middle;\n",
       "    }\n",
       "\n",
       "    .dataframe tbody tr th {\n",
       "        vertical-align: top;\n",
       "    }\n",
       "\n",
       "    .dataframe thead th {\n",
       "        text-align: right;\n",
       "    }\n",
       "</style>\n",
       "<table border=\"1\" class=\"dataframe\">\n",
       "  <thead>\n",
       "    <tr style=\"text-align: right;\">\n",
       "      <th></th>\n",
       "      <th>date</th>\n",
       "      <th>group</th>\n",
       "      <th>orders</th>\n",
       "      <th>buyers</th>\n",
       "      <th>revenue</th>\n",
       "      <th>visitors</th>\n",
       "      <th>conversion</th>\n",
       "    </tr>\n",
       "  </thead>\n",
       "  <tbody>\n",
       "    <tr>\n",
       "      <th>0</th>\n",
       "      <td>2019-08-01</td>\n",
       "      <td>A</td>\n",
       "      <td>24</td>\n",
       "      <td>20</td>\n",
       "      <td>148579</td>\n",
       "      <td>719</td>\n",
       "      <td>0.033</td>\n",
       "    </tr>\n",
       "    <tr>\n",
       "      <th>2</th>\n",
       "      <td>2019-08-02</td>\n",
       "      <td>A</td>\n",
       "      <td>44</td>\n",
       "      <td>38</td>\n",
       "      <td>242401</td>\n",
       "      <td>1338</td>\n",
       "      <td>0.033</td>\n",
       "    </tr>\n",
       "    <tr>\n",
       "      <th>4</th>\n",
       "      <td>2019-08-03</td>\n",
       "      <td>A</td>\n",
       "      <td>68</td>\n",
       "      <td>62</td>\n",
       "      <td>354874</td>\n",
       "      <td>1845</td>\n",
       "      <td>0.037</td>\n",
       "    </tr>\n",
       "    <tr>\n",
       "      <th>6</th>\n",
       "      <td>2019-08-04</td>\n",
       "      <td>A</td>\n",
       "      <td>84</td>\n",
       "      <td>77</td>\n",
       "      <td>425699</td>\n",
       "      <td>2562</td>\n",
       "      <td>0.033</td>\n",
       "    </tr>\n",
       "    <tr>\n",
       "      <th>8</th>\n",
       "      <td>2019-08-05</td>\n",
       "      <td>A</td>\n",
       "      <td>109</td>\n",
       "      <td>100</td>\n",
       "      <td>549917</td>\n",
       "      <td>3318</td>\n",
       "      <td>0.033</td>\n",
       "    </tr>\n",
       "  </tbody>\n",
       "</table>\n",
       "</div>"
      ],
      "text/plain": [
       "        date group  orders  buyers  revenue  visitors  conversion\n",
       "0 2019-08-01  A     24      20      148579   719       0.033     \n",
       "2 2019-08-02  A     44      38      242401   1338      0.033     \n",
       "4 2019-08-03  A     68      62      354874   1845      0.037     \n",
       "6 2019-08-04  A     84      77      425699   2562      0.033     \n",
       "8 2019-08-05  A     109     100     549917   3318      0.033     "
      ]
     },
     "metadata": {},
     "output_type": "display_data"
    }
   ],
   "source": [
    "# отсортируем данные только по группе А\n",
    "cumulativeDataA = cumulativeData[cumulativeData['group']=='A']\n",
    "display(cumulativeDataA.head())"
   ]
  },
  {
   "cell_type": "markdown",
   "metadata": {},
   "source": [
    "<div style=\"border-radius: 15px; border: 3px solid indigo; padding: 15px;\">\n",
    "<font color='purple'><b>cumulativeDataB</b></font> — отсортированные данные по группе B\n",
    "</div>"
   ]
  },
  {
   "cell_type": "code",
   "execution_count": 62,
   "metadata": {},
   "outputs": [
    {
     "data": {
      "text/html": [
       "<div>\n",
       "<style scoped>\n",
       "    .dataframe tbody tr th:only-of-type {\n",
       "        vertical-align: middle;\n",
       "    }\n",
       "\n",
       "    .dataframe tbody tr th {\n",
       "        vertical-align: top;\n",
       "    }\n",
       "\n",
       "    .dataframe thead th {\n",
       "        text-align: right;\n",
       "    }\n",
       "</style>\n",
       "<table border=\"1\" class=\"dataframe\">\n",
       "  <thead>\n",
       "    <tr style=\"text-align: right;\">\n",
       "      <th></th>\n",
       "      <th>date</th>\n",
       "      <th>group</th>\n",
       "      <th>orders</th>\n",
       "      <th>buyers</th>\n",
       "      <th>revenue</th>\n",
       "      <th>visitors</th>\n",
       "      <th>conversion</th>\n",
       "    </tr>\n",
       "  </thead>\n",
       "  <tbody>\n",
       "    <tr>\n",
       "      <th>1</th>\n",
       "      <td>2019-08-01</td>\n",
       "      <td>B</td>\n",
       "      <td>21</td>\n",
       "      <td>20</td>\n",
       "      <td>101217</td>\n",
       "      <td>713</td>\n",
       "      <td>0.029</td>\n",
       "    </tr>\n",
       "    <tr>\n",
       "      <th>3</th>\n",
       "      <td>2019-08-02</td>\n",
       "      <td>B</td>\n",
       "      <td>45</td>\n",
       "      <td>43</td>\n",
       "      <td>266748</td>\n",
       "      <td>1294</td>\n",
       "      <td>0.035</td>\n",
       "    </tr>\n",
       "    <tr>\n",
       "      <th>5</th>\n",
       "      <td>2019-08-03</td>\n",
       "      <td>B</td>\n",
       "      <td>61</td>\n",
       "      <td>59</td>\n",
       "      <td>380996</td>\n",
       "      <td>1803</td>\n",
       "      <td>0.034</td>\n",
       "    </tr>\n",
       "    <tr>\n",
       "      <th>7</th>\n",
       "      <td>2019-08-04</td>\n",
       "      <td>B</td>\n",
       "      <td>78</td>\n",
       "      <td>75</td>\n",
       "      <td>489567</td>\n",
       "      <td>2573</td>\n",
       "      <td>0.030</td>\n",
       "    </tr>\n",
       "    <tr>\n",
       "      <th>9</th>\n",
       "      <td>2019-08-05</td>\n",
       "      <td>B</td>\n",
       "      <td>101</td>\n",
       "      <td>98</td>\n",
       "      <td>581995</td>\n",
       "      <td>3280</td>\n",
       "      <td>0.031</td>\n",
       "    </tr>\n",
       "  </tbody>\n",
       "</table>\n",
       "</div>"
      ],
      "text/plain": [
       "        date group  orders  buyers  revenue  visitors  conversion\n",
       "1 2019-08-01  B     21      20      101217   713       0.029     \n",
       "3 2019-08-02  B     45      43      266748   1294      0.035     \n",
       "5 2019-08-03  B     61      59      380996   1803      0.034     \n",
       "7 2019-08-04  B     78      75      489567   2573      0.030     \n",
       "9 2019-08-05  B     101     98      581995   3280      0.031     "
      ]
     },
     "metadata": {},
     "output_type": "display_data"
    }
   ],
   "source": [
    "# отсортируем данные только по группе B\n",
    "cumulativeDataB = cumulativeData[cumulativeData['group']=='B']\n",
    "display(cumulativeDataB.head())"
   ]
  },
  {
   "cell_type": "code",
   "execution_count": 63,
   "metadata": {},
   "outputs": [
    {
     "data": {
      "image/png": "[encoded data removed]",
      "text/plain": [
       "<Figure size 1080x360 with 1 Axes>"
      ]
     },
     "metadata": {
      "needs_background": "light"
     },
     "output_type": "display_data"
    }
   ],
   "source": [
    "# построим график кумулятивной конверсии по группам, используя метод plt.axis()\n",
    "plt.figure(figsize=(15,5))\n",
    "plt.plot(cumulativeDataA['date'], cumulativeDataA['conversion'], label='A')\n",
    "plt.plot(cumulativeDataB['date'], cumulativeDataB['conversion'], label='B')\n",
    "plt.title(\"Кумулятивная конверсия по группам A и B\", fontsize=16)\n",
    "plt.xlabel('даты по заказам', fontsize=14)\n",
    "plt.ylabel('конверсия по заказам', fontsize=14)\n",
    "plt.xticks(rotation=0)\n",
    "plt.legend();"
   ]
  },
  {
   "cell_type": "markdown",
   "metadata": {},
   "source": [
    "<div style=\"border-radius: 15px; border: 3px solid green; padding: 15px;\">\n",
    "<font color='green'><b>ВЫВОД:</b></font><br>\n",
    "Получается симметричный график конверсий, до 5 августа группы колебались около одного значения, затем конверсия группы В начала рост и зафиксировалась, а конверсия группы А просела и также зафиксировалась.\n",
    "<br>\n",
    "</div>"
   ]
  },
  {
   "cell_type": "markdown",
   "metadata": {},
   "source": [
    "### 3.5. Построить график относительного изменения кумулятивной конверсии группы B к группе A.\n",
    "Сделать выводы и предположения."
   ]
  },
  {
   "cell_type": "markdown",
   "metadata": {},
   "source": [
    "<div style=\"border-radius: 15px; border: 3px solid indigo; padding: 15px;\">\n",
    "<font color='purple'><b>mergedCumulativeConversions</b></font> — объединенная таблица агрегированных кумулятивных данных по конверсии\n",
    "</div>"
   ]
  },
  {
   "cell_type": "code",
   "execution_count": 64,
   "metadata": {},
   "outputs": [
    {
     "data": {
      "text/html": [
       "<div>\n",
       "<style scoped>\n",
       "    .dataframe tbody tr th:only-of-type {\n",
       "        vertical-align: middle;\n",
       "    }\n",
       "\n",
       "    .dataframe tbody tr th {\n",
       "        vertical-align: top;\n",
       "    }\n",
       "\n",
       "    .dataframe thead th {\n",
       "        text-align: right;\n",
       "    }\n",
       "</style>\n",
       "<table border=\"1\" class=\"dataframe\">\n",
       "  <thead>\n",
       "    <tr style=\"text-align: right;\">\n",
       "      <th></th>\n",
       "      <th>date</th>\n",
       "      <th>conversionA</th>\n",
       "      <th>conversionB</th>\n",
       "    </tr>\n",
       "  </thead>\n",
       "  <tbody>\n",
       "    <tr>\n",
       "      <th>0</th>\n",
       "      <td>2019-08-01</td>\n",
       "      <td>0.033</td>\n",
       "      <td>0.029</td>\n",
       "    </tr>\n",
       "    <tr>\n",
       "      <th>1</th>\n",
       "      <td>2019-08-02</td>\n",
       "      <td>0.033</td>\n",
       "      <td>0.035</td>\n",
       "    </tr>\n",
       "    <tr>\n",
       "      <th>2</th>\n",
       "      <td>2019-08-03</td>\n",
       "      <td>0.037</td>\n",
       "      <td>0.034</td>\n",
       "    </tr>\n",
       "    <tr>\n",
       "      <th>3</th>\n",
       "      <td>2019-08-04</td>\n",
       "      <td>0.033</td>\n",
       "      <td>0.030</td>\n",
       "    </tr>\n",
       "    <tr>\n",
       "      <th>4</th>\n",
       "      <td>2019-08-05</td>\n",
       "      <td>0.033</td>\n",
       "      <td>0.031</td>\n",
       "    </tr>\n",
       "  </tbody>\n",
       "</table>\n",
       "</div>"
      ],
      "text/plain": [
       "        date  conversionA  conversionB\n",
       "0 2019-08-01  0.033        0.029      \n",
       "1 2019-08-02  0.033        0.035      \n",
       "2 2019-08-03  0.037        0.034      \n",
       "3 2019-08-04  0.033        0.030      \n",
       "4 2019-08-05  0.033        0.031      "
      ]
     },
     "metadata": {},
     "output_type": "display_data"
    }
   ],
   "source": [
    "# объединим cumulativeDataA и cumulativeDataB с помощью merge\n",
    "mergedCumulativeConversions = cumulativeDataA[['date','conversion']]\\\n",
    ".merge(cumulativeDataB[['date','conversion']], left_on='date', right_on='date', how='left', suffixes=['A', 'B'])\n",
    "display(mergedCumulativeConversions.head())"
   ]
  },
  {
   "cell_type": "code",
   "execution_count": 65,
   "metadata": {},
   "outputs": [
    {
     "data": {
      "text/html": [
       "<div>\n",
       "<style scoped>\n",
       "    .dataframe tbody tr th:only-of-type {\n",
       "        vertical-align: middle;\n",
       "    }\n",
       "\n",
       "    .dataframe tbody tr th {\n",
       "        vertical-align: top;\n",
       "    }\n",
       "\n",
       "    .dataframe thead th {\n",
       "        text-align: right;\n",
       "    }\n",
       "</style>\n",
       "<table border=\"1\" class=\"dataframe\">\n",
       "  <thead>\n",
       "    <tr style=\"text-align: right;\">\n",
       "      <th></th>\n",
       "      <th>date</th>\n",
       "      <th>conversionA</th>\n",
       "      <th>conversionB</th>\n",
       "      <th>conversion_BA</th>\n",
       "    </tr>\n",
       "  </thead>\n",
       "  <tbody>\n",
       "    <tr>\n",
       "      <th>0</th>\n",
       "      <td>2019-08-01</td>\n",
       "      <td>0.033</td>\n",
       "      <td>0.029</td>\n",
       "      <td>0.879</td>\n",
       "    </tr>\n",
       "    <tr>\n",
       "      <th>1</th>\n",
       "      <td>2019-08-02</td>\n",
       "      <td>0.033</td>\n",
       "      <td>0.035</td>\n",
       "      <td>1.061</td>\n",
       "    </tr>\n",
       "    <tr>\n",
       "      <th>2</th>\n",
       "      <td>2019-08-03</td>\n",
       "      <td>0.037</td>\n",
       "      <td>0.034</td>\n",
       "      <td>0.919</td>\n",
       "    </tr>\n",
       "    <tr>\n",
       "      <th>3</th>\n",
       "      <td>2019-08-04</td>\n",
       "      <td>0.033</td>\n",
       "      <td>0.030</td>\n",
       "      <td>0.909</td>\n",
       "    </tr>\n",
       "    <tr>\n",
       "      <th>4</th>\n",
       "      <td>2019-08-05</td>\n",
       "      <td>0.033</td>\n",
       "      <td>0.031</td>\n",
       "      <td>0.939</td>\n",
       "    </tr>\n",
       "  </tbody>\n",
       "</table>\n",
       "</div>"
      ],
      "text/plain": [
       "        date  conversionA  conversionB  conversion_BA\n",
       "0 2019-08-01  0.033        0.029        0.879        \n",
       "1 2019-08-02  0.033        0.035        1.061        \n",
       "2 2019-08-03  0.037        0.034        0.919        \n",
       "3 2019-08-04  0.033        0.030        0.909        \n",
       "4 2019-08-05  0.033        0.031        0.939        "
      ]
     },
     "metadata": {},
     "output_type": "display_data"
    }
   ],
   "source": [
    "# создадим столбец conversion_BA посчитав в нём относительное изменение кумулятивной конверсии группы B к группе A\n",
    "mergedCumulativeConversions['conversion_BA'] =\\\n",
    "round(mergedCumulativeConversions['conversionB'] / mergedCumulativeConversions['conversionA'], 3)\n",
    "display(mergedCumulativeConversions.head())"
   ]
  },
  {
   "cell_type": "code",
   "execution_count": 66,
   "metadata": {},
   "outputs": [
    {
     "data": {
      "image/png": "[encoded data removed]",
      "text/plain": [
       "<Figure size 1080x360 with 1 Axes>"
      ]
     },
     "metadata": {
      "needs_background": "light"
     },
     "output_type": "display_data"
    }
   ],
   "source": [
    "# построим график относительного изменения кумулятивной конверсии группы B к группе A\n",
    "plt.figure(figsize=(15,5))\n",
    "plt.plot(mergedCumulativeConversions['date']\\\n",
    ", mergedCumulativeConversions['conversion_BA'] - 1, label=\"Относительный прирост конверсии B относительно A\")\n",
    "plt.legend()\n",
    "plt.axhline(y=0, color='black', linestyle='--')\n",
    "plt.title(\"Относительное изменение кумулятивной конверсии группы B к группе A\", fontsize=16)\n",
    "plt.xlabel('даты по заказам', fontsize=14)\n",
    "plt.ylabel('конверсия по заказам', fontsize=14)\n",
    "plt.xticks(rotation=0)\n",
    "plt.legend();"
   ]
  },
  {
   "cell_type": "markdown",
   "metadata": {},
   "source": [
    "<div style=\"border-radius: 15px; border: 3px solid green; padding: 15px;\">\n",
    "<font color='green'><b>ВЫВОД:</b></font><br>\n",
    "В начале теста группа B проигрывала группе A, затем вырвалась вперёд. Конверсия группы B стабильно выше. Стоит проанализировать аномалии, возможно результаты изменятся.\n",
    "<br>\n",
    "</div>"
   ]
  },
  {
   "cell_type": "markdown",
   "metadata": {},
   "source": [
    "### 3.6. Построить точечный график количества заказов по пользователям.\n",
    "Сделать выводы и предположения."
   ]
  },
  {
   "cell_type": "markdown",
   "metadata": {},
   "source": [
    "<div style=\"border-radius: 15px; border: 3px solid indigo; padding: 15px;\">\n",
    "<font color='purple'><b>ordersByUsers</b></font> — количество заказов по пользователям\n",
    "</div>"
   ]
  },
  {
   "cell_type": "code",
   "execution_count": 67,
   "metadata": {},
   "outputs": [
    {
     "data": {
      "text/html": [
       "<div>\n",
       "<style scoped>\n",
       "    .dataframe tbody tr th:only-of-type {\n",
       "        vertical-align: middle;\n",
       "    }\n",
       "\n",
       "    .dataframe tbody tr th {\n",
       "        vertical-align: top;\n",
       "    }\n",
       "\n",
       "    .dataframe thead th {\n",
       "        text-align: right;\n",
       "    }\n",
       "</style>\n",
       "<table border=\"1\" class=\"dataframe\">\n",
       "  <thead>\n",
       "    <tr style=\"text-align: right;\">\n",
       "      <th></th>\n",
       "      <th>userId</th>\n",
       "      <th>orders</th>\n",
       "    </tr>\n",
       "  </thead>\n",
       "  <tbody>\n",
       "    <tr>\n",
       "      <th>1023</th>\n",
       "      <td>4256040402</td>\n",
       "      <td>11</td>\n",
       "    </tr>\n",
       "    <tr>\n",
       "      <th>591</th>\n",
       "      <td>2458001652</td>\n",
       "      <td>11</td>\n",
       "    </tr>\n",
       "    <tr>\n",
       "      <th>569</th>\n",
       "      <td>2378935119</td>\n",
       "      <td>9</td>\n",
       "    </tr>\n",
       "    <tr>\n",
       "      <th>487</th>\n",
       "      <td>2038680547</td>\n",
       "      <td>8</td>\n",
       "    </tr>\n",
       "    <tr>\n",
       "      <th>44</th>\n",
       "      <td>199603092</td>\n",
       "      <td>5</td>\n",
       "    </tr>\n",
       "    <tr>\n",
       "      <th>744</th>\n",
       "      <td>3062433592</td>\n",
       "      <td>5</td>\n",
       "    </tr>\n",
       "    <tr>\n",
       "      <th>55</th>\n",
       "      <td>237748145</td>\n",
       "      <td>5</td>\n",
       "    </tr>\n",
       "    <tr>\n",
       "      <th>917</th>\n",
       "      <td>3803269165</td>\n",
       "      <td>5</td>\n",
       "    </tr>\n",
       "    <tr>\n",
       "      <th>299</th>\n",
       "      <td>1230306981</td>\n",
       "      <td>5</td>\n",
       "    </tr>\n",
       "    <tr>\n",
       "      <th>897</th>\n",
       "      <td>3717692402</td>\n",
       "      <td>5</td>\n",
       "    </tr>\n",
       "  </tbody>\n",
       "</table>\n",
       "</div>"
      ],
      "text/plain": [
       "          userId  orders\n",
       "1023  4256040402  11    \n",
       "591   2458001652  11    \n",
       "569   2378935119  9     \n",
       "487   2038680547  8     \n",
       "44    199603092   5     \n",
       "744   3062433592  5     \n",
       "55    237748145   5     \n",
       "917   3803269165  5     \n",
       "299   1230306981  5     \n",
       "897   3717692402  5     "
      ]
     },
     "metadata": {},
     "output_type": "display_data"
    }
   ],
   "source": [
    "# создадим переменную ordersByUsers и запишем в нее все уникальные заказы по каждому пользователю\n",
    "ordersByUsers = (orders.drop(['group', 'revenue', 'date'], axis=1)\\\n",
    "                 .groupby('visitorid', as_index=False).agg({'transactionid' : pd.Series.nunique}))\n",
    "ordersByUsers.columns = ['userId', 'orders']\n",
    "display(ordersByUsers.sort_values(by='orders', ascending=False).head(10))"
   ]
  },
  {
   "cell_type": "code",
   "execution_count": 68,
   "metadata": {},
   "outputs": [
    {
     "data": {
      "image/png": "[encoded data removed]",
      "text/plain": [
       "<Figure size 1080x360 with 1 Axes>"
      ]
     },
     "metadata": {
      "needs_background": "light"
     },
     "output_type": "display_data"
    }
   ],
   "source": [
    "# построим точечный график количества заказов по пользователям\n",
    "x_values = pd.Series(range(0, len(ordersByUsers)))\n",
    "plt.figure(figsize=(15,5))\n",
    "plt.scatter(x_values, ordersByUsers['orders']) \n",
    "plt.title(\"Точечный график количества заказов по пользователям\", fontsize=16)\n",
    "plt.xlabel('пользователи', fontsize=14)\n",
    "plt.ylabel('количество заказов', fontsize=14);"
   ]
  },
  {
   "cell_type": "markdown",
   "metadata": {},
   "source": [
    "<div style=\"border-radius: 15px; border: 3px solid green; padding: 15px;\">\n",
    "<font color='green'><b>ВЫВОД:</b></font><br>\n",
    "Малое количество пользователей, которые сделали больше 2 заказов, говорит нам о вероятной аномалии. Следующим шагом попробуем рассчитать выборочные перцентили.\n",
    "<br>\n",
    "</div>"
   ]
  },
  {
   "cell_type": "markdown",
   "metadata": {},
   "source": [
    "### 3.7. Посчитать 95-й и 99-й перцентили количества заказов на пользователя.\n",
    "Выбрать границу для определения аномальных пользователей."
   ]
  },
  {
   "cell_type": "code",
   "execution_count": 69,
   "metadata": {},
   "outputs": [
    {
     "name": "stdout",
     "output_type": "stream",
     "text": [
      "[2. 4.]\n"
     ]
    }
   ],
   "source": [
    "# посчитаем 95-й и 99-й перцентили количества заказов на пользователя\n",
    "print(np.percentile(ordersByUsers['orders'], [ 95, 99]))"
   ]
  },
  {
   "cell_type": "markdown",
   "metadata": {},
   "source": [
    "<div style=\"border-radius: 15px; border: 3px solid green; padding: 15px;\">\n",
    "<font color='green'><b>ВЫВОД:</b></font>\n",
    "<br>\n",
    "\n",
    "- 95-й перцентиль количества заказов на пользователя: 2 заказа (5% пользователей)<br>\n",
    "- 99-й перцентиль количества заказов на пользователя: 4 и более заказов (1% пользователей)\n",
    "<br>\n",
    "\n",
    "<b>Граница для определения аномальных пользователей: 2 заказа</b><br>\n",
    "Выберем 2 заказа на одного пользователя за нижнюю границу числа заказов, и отсеем аномальных пользователей по ней.\n",
    "<br>\n",
    "</div>"
   ]
  },
  {
   "cell_type": "markdown",
   "metadata": {},
   "source": [
    "### 3.8. Построить точечный график стоимостей заказов.\n",
    "Сделать выводы и предположения."
   ]
  },
  {
   "cell_type": "code",
   "execution_count": 70,
   "metadata": {},
   "outputs": [
    {
     "data": {
      "image/png": "[encoded data removed]",
      "text/plain": [
       "<Figure size 1080x360 with 1 Axes>"
      ]
     },
     "metadata": {
      "needs_background": "light"
     },
     "output_type": "display_data"
    }
   ],
   "source": [
    "# построим точечный график стоимостей заказов\n",
    "x_values = pd.Series(range(0,len(orders['revenue'])))\n",
    "plt.figure(figsize=(15,5))\n",
    "plt.scatter(x_values, orders['revenue']) \n",
    "plt.title(\"Точечный график стоимостей заказов\", fontsize=16)\n",
    "plt.xlabel('пользователи', fontsize=14)\n",
    "plt.ylabel('стоимость заказов', fontsize=14)\n",
    "plt.ylim(0, 1400000);"
   ]
  },
  {
   "cell_type": "markdown",
   "metadata": {},
   "source": [
    "<div style=\"border-radius: 15px; border: 3px solid green; padding: 15px;\">\n",
    "<font color='green'><b>ВЫВОД:</b></font><br>\n",
    "На графике видны два явных выброса это заказы на 20000 и 1200000 руб. В таком случае границу для аномальных заказов можем устанавливать на уровня 19000 руб. Таким образом, большинство совершенных заказов будет укладываться в эту границу.\n",
    "<br>\n",
    "</div>"
   ]
  },
  {
   "cell_type": "markdown",
   "metadata": {},
   "source": [
    "### 3.9. Посчитать 95-й и 99-й перцентили стоимости заказов.\n",
    "Выбрать границу для определения аномальных заказов."
   ]
  },
  {
   "cell_type": "code",
   "execution_count": 71,
   "metadata": {},
   "outputs": [
    {
     "name": "stdout",
     "output_type": "stream",
     "text": [
      "[28000.  58233.2]\n"
     ]
    }
   ],
   "source": [
    "# посчитаем 95-й и 99-й перцентили стоимости заказов\n",
    "print(np.percentile(orders['revenue'], [95, 99]))"
   ]
  },
  {
   "cell_type": "markdown",
   "metadata": {},
   "source": [
    "<div style=\"border-radius: 15px; border: 3px solid green; padding: 15px;\">\n",
    "<font color='green'><b>ВЫВОД:</b></font>\n",
    "<br>\n",
    "\n",
    "- 95-й перцентиль стоимости заказов: 28000 руб. (5% заказов)<br>\n",
    "- 99-й перцентиль стоимости заказов: 58233 руб. (1% заказов)\n",
    "<br>\n",
    "\n",
    "<b>Граница для определения аномальных заказов: 28000 руб.</b><br>\n",
    "Всё-таки доверимся вычислениям по перцентилям и возьмем 28 000, как границу для определения аномальных заказов.<br>   \n",
    "</div>"
   ]
  },
  {
   "cell_type": "markdown",
   "metadata": {},
   "source": [
    "### 3.10. Посчитать статистическую значимость различий в конверсии между группами по «сырым» данным.\n",
    "Сделать выводы и предположения."
   ]
  },
  {
   "cell_type": "markdown",
   "metadata": {},
   "source": [
    "<div style=\"border-radius: 15px; border: 3px solid indigo; padding: 15px;\">\n",
    "<font color='purple'><b>visitorsADaily</b></font> — количество пользователей по датам (группа А)\n",
    "</div>"
   ]
  },
  {
   "cell_type": "code",
   "execution_count": 72,
   "metadata": {},
   "outputs": [
    {
     "data": {
      "text/html": [
       "<div>\n",
       "<style scoped>\n",
       "    .dataframe tbody tr th:only-of-type {\n",
       "        vertical-align: middle;\n",
       "    }\n",
       "\n",
       "    .dataframe tbody tr th {\n",
       "        vertical-align: top;\n",
       "    }\n",
       "\n",
       "    .dataframe thead th {\n",
       "        text-align: right;\n",
       "    }\n",
       "</style>\n",
       "<table border=\"1\" class=\"dataframe\">\n",
       "  <thead>\n",
       "    <tr style=\"text-align: right;\">\n",
       "      <th></th>\n",
       "      <th>date</th>\n",
       "      <th>visitorsPerDateA</th>\n",
       "    </tr>\n",
       "  </thead>\n",
       "  <tbody>\n",
       "    <tr>\n",
       "      <th>0</th>\n",
       "      <td>2019-08-01</td>\n",
       "      <td>719</td>\n",
       "    </tr>\n",
       "    <tr>\n",
       "      <th>1</th>\n",
       "      <td>2019-08-02</td>\n",
       "      <td>619</td>\n",
       "    </tr>\n",
       "    <tr>\n",
       "      <th>2</th>\n",
       "      <td>2019-08-03</td>\n",
       "      <td>507</td>\n",
       "    </tr>\n",
       "    <tr>\n",
       "      <th>3</th>\n",
       "      <td>2019-08-04</td>\n",
       "      <td>717</td>\n",
       "    </tr>\n",
       "    <tr>\n",
       "      <th>4</th>\n",
       "      <td>2019-08-05</td>\n",
       "      <td>756</td>\n",
       "    </tr>\n",
       "  </tbody>\n",
       "</table>\n",
       "</div>"
      ],
      "text/plain": [
       "        date  visitorsPerDateA\n",
       "0 2019-08-01  719             \n",
       "1 2019-08-02  619             \n",
       "2 2019-08-03  507             \n",
       "3 2019-08-04  717             \n",
       "4 2019-08-05  756             "
      ]
     },
     "metadata": {},
     "output_type": "display_data"
    }
   ],
   "source": [
    "# сохраним всех пользователей группы А по датам\n",
    "visitorsADaily = visitors[visitors['group'] == 'A'][['date', 'visitors']]\n",
    "visitorsADaily.columns = ['date', 'visitorsPerDateA']\n",
    "display(visitorsADaily.head())"
   ]
  },
  {
   "cell_type": "markdown",
   "metadata": {},
   "source": [
    "<div style=\"border-radius: 15px; border: 3px solid indigo; padding: 15px;\">\n",
    "<font color='purple'><b>visitorsACummulative</b></font> — кумулятивные данные пользователей по датам (группа А)\n",
    "</div>"
   ]
  },
  {
   "cell_type": "code",
   "execution_count": 73,
   "metadata": {},
   "outputs": [
    {
     "data": {
      "text/html": [
       "<div>\n",
       "<style scoped>\n",
       "    .dataframe tbody tr th:only-of-type {\n",
       "        vertical-align: middle;\n",
       "    }\n",
       "\n",
       "    .dataframe tbody tr th {\n",
       "        vertical-align: top;\n",
       "    }\n",
       "\n",
       "    .dataframe thead th {\n",
       "        text-align: right;\n",
       "    }\n",
       "</style>\n",
       "<table border=\"1\" class=\"dataframe\">\n",
       "  <thead>\n",
       "    <tr style=\"text-align: right;\">\n",
       "      <th></th>\n",
       "      <th>date</th>\n",
       "      <th>visitorsCummulativeA</th>\n",
       "    </tr>\n",
       "  </thead>\n",
       "  <tbody>\n",
       "    <tr>\n",
       "      <th>0</th>\n",
       "      <td>2019-08-01</td>\n",
       "      <td>719</td>\n",
       "    </tr>\n",
       "    <tr>\n",
       "      <th>1</th>\n",
       "      <td>2019-08-02</td>\n",
       "      <td>1338</td>\n",
       "    </tr>\n",
       "    <tr>\n",
       "      <th>2</th>\n",
       "      <td>2019-08-03</td>\n",
       "      <td>1845</td>\n",
       "    </tr>\n",
       "    <tr>\n",
       "      <th>3</th>\n",
       "      <td>2019-08-04</td>\n",
       "      <td>2562</td>\n",
       "    </tr>\n",
       "    <tr>\n",
       "      <th>4</th>\n",
       "      <td>2019-08-05</td>\n",
       "      <td>3318</td>\n",
       "    </tr>\n",
       "  </tbody>\n",
       "</table>\n",
       "</div>"
      ],
      "text/plain": [
       "        date  visitorsCummulativeA\n",
       "0 2019-08-01  719                 \n",
       "1 2019-08-02  1338                \n",
       "2 2019-08-03  1845                \n",
       "3 2019-08-04  2562                \n",
       "4 2019-08-05  3318                "
      ]
     },
     "metadata": {},
     "output_type": "display_data"
    }
   ],
   "source": [
    "# посчитаем кумулятивные данные пользователей по датам (группа А)\n",
    "visitorsACummulative = visitorsADaily.apply(\n",
    "    lambda x: visitorsADaily[visitorsADaily['date'] <= x['date']].agg(\n",
    "        {'date': 'max', 'visitorsPerDateA': 'sum'}\n",
    "    ),\n",
    "    axis=1,\n",
    ")\n",
    "visitorsACummulative.columns = ['date', 'visitorsCummulativeA']\n",
    "display(visitorsACummulative.head())"
   ]
  },
  {
   "cell_type": "markdown",
   "metadata": {},
   "source": [
    "<div style=\"border-radius: 15px; border: 3px solid indigo; padding: 15px;\">\n",
    "<font color='purple'><b>visitorsBDaily</b></font> — количество пользователей по датам (группа B)\n",
    "</div>"
   ]
  },
  {
   "cell_type": "code",
   "execution_count": 74,
   "metadata": {},
   "outputs": [
    {
     "data": {
      "text/html": [
       "<div>\n",
       "<style scoped>\n",
       "    .dataframe tbody tr th:only-of-type {\n",
       "        vertical-align: middle;\n",
       "    }\n",
       "\n",
       "    .dataframe tbody tr th {\n",
       "        vertical-align: top;\n",
       "    }\n",
       "\n",
       "    .dataframe thead th {\n",
       "        text-align: right;\n",
       "    }\n",
       "</style>\n",
       "<table border=\"1\" class=\"dataframe\">\n",
       "  <thead>\n",
       "    <tr style=\"text-align: right;\">\n",
       "      <th></th>\n",
       "      <th>date</th>\n",
       "      <th>visitorsPerDateB</th>\n",
       "    </tr>\n",
       "  </thead>\n",
       "  <tbody>\n",
       "    <tr>\n",
       "      <th>31</th>\n",
       "      <td>2019-08-01</td>\n",
       "      <td>713</td>\n",
       "    </tr>\n",
       "    <tr>\n",
       "      <th>32</th>\n",
       "      <td>2019-08-02</td>\n",
       "      <td>581</td>\n",
       "    </tr>\n",
       "    <tr>\n",
       "      <th>33</th>\n",
       "      <td>2019-08-03</td>\n",
       "      <td>509</td>\n",
       "    </tr>\n",
       "    <tr>\n",
       "      <th>34</th>\n",
       "      <td>2019-08-04</td>\n",
       "      <td>770</td>\n",
       "    </tr>\n",
       "    <tr>\n",
       "      <th>35</th>\n",
       "      <td>2019-08-05</td>\n",
       "      <td>707</td>\n",
       "    </tr>\n",
       "  </tbody>\n",
       "</table>\n",
       "</div>"
      ],
      "text/plain": [
       "         date  visitorsPerDateB\n",
       "31 2019-08-01  713             \n",
       "32 2019-08-02  581             \n",
       "33 2019-08-03  509             \n",
       "34 2019-08-04  770             \n",
       "35 2019-08-05  707             "
      ]
     },
     "metadata": {},
     "output_type": "display_data"
    }
   ],
   "source": [
    "# сохраним всех пользователей группы B по датам\n",
    "visitorsBDaily = visitors[visitors['group'] == 'B'][['date', 'visitors']]\n",
    "visitorsBDaily.columns = ['date', 'visitorsPerDateB']\n",
    "display(visitorsBDaily.head())"
   ]
  },
  {
   "cell_type": "markdown",
   "metadata": {},
   "source": [
    "<div style=\"border-radius: 15px; border: 3px solid indigo; padding: 15px;\">\n",
    "<font color='purple'><b>visitorsBCummulative</b></font> — кумулятивные данные пользователей по датам (группа B)\n",
    "</div>"
   ]
  },
  {
   "cell_type": "code",
   "execution_count": 75,
   "metadata": {},
   "outputs": [
    {
     "data": {
      "text/html": [
       "<div>\n",
       "<style scoped>\n",
       "    .dataframe tbody tr th:only-of-type {\n",
       "        vertical-align: middle;\n",
       "    }\n",
       "\n",
       "    .dataframe tbody tr th {\n",
       "        vertical-align: top;\n",
       "    }\n",
       "\n",
       "    .dataframe thead th {\n",
       "        text-align: right;\n",
       "    }\n",
       "</style>\n",
       "<table border=\"1\" class=\"dataframe\">\n",
       "  <thead>\n",
       "    <tr style=\"text-align: right;\">\n",
       "      <th></th>\n",
       "      <th>date</th>\n",
       "      <th>visitorsCummulativeB</th>\n",
       "    </tr>\n",
       "  </thead>\n",
       "  <tbody>\n",
       "    <tr>\n",
       "      <th>31</th>\n",
       "      <td>2019-08-01</td>\n",
       "      <td>713</td>\n",
       "    </tr>\n",
       "    <tr>\n",
       "      <th>32</th>\n",
       "      <td>2019-08-02</td>\n",
       "      <td>1294</td>\n",
       "    </tr>\n",
       "    <tr>\n",
       "      <th>33</th>\n",
       "      <td>2019-08-03</td>\n",
       "      <td>1803</td>\n",
       "    </tr>\n",
       "    <tr>\n",
       "      <th>34</th>\n",
       "      <td>2019-08-04</td>\n",
       "      <td>2573</td>\n",
       "    </tr>\n",
       "    <tr>\n",
       "      <th>35</th>\n",
       "      <td>2019-08-05</td>\n",
       "      <td>3280</td>\n",
       "    </tr>\n",
       "  </tbody>\n",
       "</table>\n",
       "</div>"
      ],
      "text/plain": [
       "         date  visitorsCummulativeB\n",
       "31 2019-08-01  713                 \n",
       "32 2019-08-02  1294                \n",
       "33 2019-08-03  1803                \n",
       "34 2019-08-04  2573                \n",
       "35 2019-08-05  3280                "
      ]
     },
     "metadata": {},
     "output_type": "display_data"
    }
   ],
   "source": [
    "# посчитаем кумулятивные данные пользователей по датам (группа B)\n",
    "visitorsBCummulative = visitorsBDaily.apply(\n",
    "    lambda x: visitorsBDaily[visitorsBDaily['date'] <= x['date']].agg(\n",
    "        {'date': 'max', 'visitorsPerDateB': 'sum'}\n",
    "    ),\n",
    "    axis=1,\n",
    ")\n",
    "visitorsBCummulative.columns = ['date', 'visitorsCummulativeB']\n",
    "display(visitorsBCummulative.head())"
   ]
  },
  {
   "cell_type": "markdown",
   "metadata": {},
   "source": [
    "<div style=\"border-radius: 15px; border: 3px solid indigo; padding: 15px;\">\n",
    "<font color='purple'><b>ordersADaily</b></font> — количество и стоимость заказов по датам (группа А)\n",
    "</div>"
   ]
  },
  {
   "cell_type": "code",
   "execution_count": 76,
   "metadata": {},
   "outputs": [
    {
     "data": {
      "text/html": [
       "<div>\n",
       "<style scoped>\n",
       "    .dataframe tbody tr th:only-of-type {\n",
       "        vertical-align: middle;\n",
       "    }\n",
       "\n",
       "    .dataframe tbody tr th {\n",
       "        vertical-align: top;\n",
       "    }\n",
       "\n",
       "    .dataframe thead th {\n",
       "        text-align: right;\n",
       "    }\n",
       "</style>\n",
       "<table border=\"1\" class=\"dataframe\">\n",
       "  <thead>\n",
       "    <tr style=\"text-align: right;\">\n",
       "      <th></th>\n",
       "      <th>date</th>\n",
       "      <th>ordersPerDateA</th>\n",
       "      <th>revenuePerDateA</th>\n",
       "    </tr>\n",
       "  </thead>\n",
       "  <tbody>\n",
       "    <tr>\n",
       "      <th>0</th>\n",
       "      <td>2019-08-01</td>\n",
       "      <td>24</td>\n",
       "      <td>148579</td>\n",
       "    </tr>\n",
       "    <tr>\n",
       "      <th>1</th>\n",
       "      <td>2019-08-02</td>\n",
       "      <td>20</td>\n",
       "      <td>93822</td>\n",
       "    </tr>\n",
       "    <tr>\n",
       "      <th>2</th>\n",
       "      <td>2019-08-03</td>\n",
       "      <td>24</td>\n",
       "      <td>112473</td>\n",
       "    </tr>\n",
       "    <tr>\n",
       "      <th>3</th>\n",
       "      <td>2019-08-04</td>\n",
       "      <td>16</td>\n",
       "      <td>70825</td>\n",
       "    </tr>\n",
       "    <tr>\n",
       "      <th>4</th>\n",
       "      <td>2019-08-05</td>\n",
       "      <td>25</td>\n",
       "      <td>124218</td>\n",
       "    </tr>\n",
       "  </tbody>\n",
       "</table>\n",
       "</div>"
      ],
      "text/plain": [
       "        date  ordersPerDateA  revenuePerDateA\n",
       "0 2019-08-01  24              148579         \n",
       "1 2019-08-02  20              93822          \n",
       "2 2019-08-03  24              112473         \n",
       "3 2019-08-04  16              70825          \n",
       "4 2019-08-05  25              124218         "
      ]
     },
     "metadata": {},
     "output_type": "display_data"
    }
   ],
   "source": [
    "# посчитаем количество и сумму всех заказов по датам (группа А)\n",
    "ordersADaily = (\n",
    "    orders[orders['group'] == 'A'][['date', 'transactionid', 'visitorid', 'revenue']]\n",
    "    .groupby('date', as_index=False)\n",
    "    .agg({'transactionid': pd.Series.nunique, 'revenue': 'sum'})\n",
    ")\n",
    "ordersADaily.columns = ['date', 'ordersPerDateA', 'revenuePerDateA']\n",
    "display(ordersADaily.head())"
   ]
  },
  {
   "cell_type": "markdown",
   "metadata": {},
   "source": [
    "<div style=\"border-radius: 15px; border: 3px solid indigo; padding: 15px;\">\n",
    "<font color='purple'><b>ordersACummulative</b></font> — кумулятивные данные по количеству и стоимости заказов по датам (группа А)\n",
    "</div>"
   ]
  },
  {
   "cell_type": "code",
   "execution_count": 77,
   "metadata": {},
   "outputs": [
    {
     "data": {
      "text/html": [
       "<div>\n",
       "<style scoped>\n",
       "    .dataframe tbody tr th:only-of-type {\n",
       "        vertical-align: middle;\n",
       "    }\n",
       "\n",
       "    .dataframe tbody tr th {\n",
       "        vertical-align: top;\n",
       "    }\n",
       "\n",
       "    .dataframe thead th {\n",
       "        text-align: right;\n",
       "    }\n",
       "</style>\n",
       "<table border=\"1\" class=\"dataframe\">\n",
       "  <thead>\n",
       "    <tr style=\"text-align: right;\">\n",
       "      <th></th>\n",
       "      <th>date</th>\n",
       "      <th>ordersCummulativeA</th>\n",
       "      <th>revenueCummulativeA</th>\n",
       "    </tr>\n",
       "  </thead>\n",
       "  <tbody>\n",
       "    <tr>\n",
       "      <th>0</th>\n",
       "      <td>2019-08-01</td>\n",
       "      <td>24</td>\n",
       "      <td>148579</td>\n",
       "    </tr>\n",
       "    <tr>\n",
       "      <th>1</th>\n",
       "      <td>2019-08-02</td>\n",
       "      <td>44</td>\n",
       "      <td>242401</td>\n",
       "    </tr>\n",
       "    <tr>\n",
       "      <th>2</th>\n",
       "      <td>2019-08-03</td>\n",
       "      <td>68</td>\n",
       "      <td>354874</td>\n",
       "    </tr>\n",
       "    <tr>\n",
       "      <th>3</th>\n",
       "      <td>2019-08-04</td>\n",
       "      <td>84</td>\n",
       "      <td>425699</td>\n",
       "    </tr>\n",
       "    <tr>\n",
       "      <th>4</th>\n",
       "      <td>2019-08-05</td>\n",
       "      <td>109</td>\n",
       "      <td>549917</td>\n",
       "    </tr>\n",
       "  </tbody>\n",
       "</table>\n",
       "</div>"
      ],
      "text/plain": [
       "        date  ordersCummulativeA  revenueCummulativeA\n",
       "0 2019-08-01  24                  148579             \n",
       "1 2019-08-02  44                  242401             \n",
       "2 2019-08-03  68                  354874             \n",
       "3 2019-08-04  84                  425699             \n",
       "4 2019-08-05  109                 549917             "
      ]
     },
     "metadata": {},
     "output_type": "display_data"
    }
   ],
   "source": [
    "# посчитаем кумулятивные данные по количеству и сумме всех заказов по датам (группа А)\n",
    "ordersACummulative = ordersADaily.apply(\n",
    "    lambda x: ordersADaily[ordersADaily['date'] <= x['date']].agg(\n",
    "        {'date': 'max', 'ordersPerDateA': 'sum', 'revenuePerDateA': 'sum'}\n",
    "    ),\n",
    "    axis=1,\n",
    ").sort_values(by=['date'])\n",
    "ordersACummulative.columns = ['date', 'ordersCummulativeA', 'revenueCummulativeA']\n",
    "display(ordersACummulative.head())"
   ]
  },
  {
   "cell_type": "markdown",
   "metadata": {},
   "source": [
    "<div style=\"border-radius: 15px; border: 3px solid indigo; padding: 15px;\">\n",
    "<font color='purple'><b>ordersBDaily</b></font> — количество и стоимость заказов по датам (группа B)\n",
    "</div>"
   ]
  },
  {
   "cell_type": "code",
   "execution_count": 78,
   "metadata": {},
   "outputs": [
    {
     "data": {
      "text/html": [
       "<div>\n",
       "<style scoped>\n",
       "    .dataframe tbody tr th:only-of-type {\n",
       "        vertical-align: middle;\n",
       "    }\n",
       "\n",
       "    .dataframe tbody tr th {\n",
       "        vertical-align: top;\n",
       "    }\n",
       "\n",
       "    .dataframe thead th {\n",
       "        text-align: right;\n",
       "    }\n",
       "</style>\n",
       "<table border=\"1\" class=\"dataframe\">\n",
       "  <thead>\n",
       "    <tr style=\"text-align: right;\">\n",
       "      <th></th>\n",
       "      <th>date</th>\n",
       "      <th>ordersPerDateB</th>\n",
       "      <th>revenuePerDateB</th>\n",
       "    </tr>\n",
       "  </thead>\n",
       "  <tbody>\n",
       "    <tr>\n",
       "      <th>0</th>\n",
       "      <td>2019-08-01</td>\n",
       "      <td>21</td>\n",
       "      <td>101217</td>\n",
       "    </tr>\n",
       "    <tr>\n",
       "      <th>1</th>\n",
       "      <td>2019-08-02</td>\n",
       "      <td>24</td>\n",
       "      <td>165531</td>\n",
       "    </tr>\n",
       "    <tr>\n",
       "      <th>2</th>\n",
       "      <td>2019-08-03</td>\n",
       "      <td>16</td>\n",
       "      <td>114248</td>\n",
       "    </tr>\n",
       "    <tr>\n",
       "      <th>3</th>\n",
       "      <td>2019-08-04</td>\n",
       "      <td>17</td>\n",
       "      <td>108571</td>\n",
       "    </tr>\n",
       "    <tr>\n",
       "      <th>4</th>\n",
       "      <td>2019-08-05</td>\n",
       "      <td>23</td>\n",
       "      <td>92428</td>\n",
       "    </tr>\n",
       "  </tbody>\n",
       "</table>\n",
       "</div>"
      ],
      "text/plain": [
       "        date  ordersPerDateB  revenuePerDateB\n",
       "0 2019-08-01  21              101217         \n",
       "1 2019-08-02  24              165531         \n",
       "2 2019-08-03  16              114248         \n",
       "3 2019-08-04  17              108571         \n",
       "4 2019-08-05  23              92428          "
      ]
     },
     "metadata": {},
     "output_type": "display_data"
    }
   ],
   "source": [
    "# посчитаем количество и сумму всех заказов по датам (группа B)\n",
    "ordersBDaily = (\n",
    "    orders[orders['group'] == 'B'][['date', 'transactionid', 'visitorid', 'revenue']]\n",
    "    .groupby('date', as_index=False)\n",
    "    .agg({'transactionid': pd.Series.nunique, 'revenue': 'sum'})\n",
    ")\n",
    "ordersBDaily.columns = ['date', 'ordersPerDateB', 'revenuePerDateB']\n",
    "display(ordersBDaily.head())"
   ]
  },
  {
   "cell_type": "markdown",
   "metadata": {},
   "source": [
    "<div style=\"border-radius: 15px; border: 3px solid indigo; padding: 15px;\">\n",
    "<font color='purple'><b>ordersBCummulative</b></font> — кумулятивные данные по количеству и стоимости заказов по датам (группа B)\n",
    "</div>"
   ]
  },
  {
   "cell_type": "code",
   "execution_count": 79,
   "metadata": {},
   "outputs": [
    {
     "data": {
      "text/html": [
       "<div>\n",
       "<style scoped>\n",
       "    .dataframe tbody tr th:only-of-type {\n",
       "        vertical-align: middle;\n",
       "    }\n",
       "\n",
       "    .dataframe tbody tr th {\n",
       "        vertical-align: top;\n",
       "    }\n",
       "\n",
       "    .dataframe thead th {\n",
       "        text-align: right;\n",
       "    }\n",
       "</style>\n",
       "<table border=\"1\" class=\"dataframe\">\n",
       "  <thead>\n",
       "    <tr style=\"text-align: right;\">\n",
       "      <th></th>\n",
       "      <th>date</th>\n",
       "      <th>ordersCummulativeB</th>\n",
       "      <th>revenueCummulativeB</th>\n",
       "    </tr>\n",
       "  </thead>\n",
       "  <tbody>\n",
       "    <tr>\n",
       "      <th>0</th>\n",
       "      <td>2019-08-01</td>\n",
       "      <td>21</td>\n",
       "      <td>101217</td>\n",
       "    </tr>\n",
       "    <tr>\n",
       "      <th>1</th>\n",
       "      <td>2019-08-02</td>\n",
       "      <td>45</td>\n",
       "      <td>266748</td>\n",
       "    </tr>\n",
       "    <tr>\n",
       "      <th>2</th>\n",
       "      <td>2019-08-03</td>\n",
       "      <td>61</td>\n",
       "      <td>380996</td>\n",
       "    </tr>\n",
       "    <tr>\n",
       "      <th>3</th>\n",
       "      <td>2019-08-04</td>\n",
       "      <td>78</td>\n",
       "      <td>489567</td>\n",
       "    </tr>\n",
       "    <tr>\n",
       "      <th>4</th>\n",
       "      <td>2019-08-05</td>\n",
       "      <td>101</td>\n",
       "      <td>581995</td>\n",
       "    </tr>\n",
       "  </tbody>\n",
       "</table>\n",
       "</div>"
      ],
      "text/plain": [
       "        date  ordersCummulativeB  revenueCummulativeB\n",
       "0 2019-08-01  21                  101217             \n",
       "1 2019-08-02  45                  266748             \n",
       "2 2019-08-03  61                  380996             \n",
       "3 2019-08-04  78                  489567             \n",
       "4 2019-08-05  101                 581995             "
      ]
     },
     "metadata": {},
     "output_type": "display_data"
    }
   ],
   "source": [
    "# посчитаем кумулятивные данные по количеству и сумме всех заказов по датам (группа B)\n",
    "ordersBCummulative = ordersBDaily.apply(\n",
    "    lambda x: ordersBDaily[ordersBDaily['date'] <= x['date']].agg(\n",
    "        {'date': 'max', 'ordersPerDateB': 'sum', 'revenuePerDateB': 'sum'}\n",
    "    ),\n",
    "    axis=1,\n",
    ").sort_values(by=['date'])\n",
    "ordersBCummulative.columns = ['date', 'ordersCummulativeB', 'revenueCummulativeB']\n",
    "display(ordersBCummulative.head())"
   ]
  },
  {
   "cell_type": "markdown",
   "metadata": {},
   "source": [
    "<div style=\"border-radius: 15px; border: 3px solid indigo; padding: 15px;\">\n",
    "<font color='purple'><b>data</b></font> — объединенная таблица по заказам и пользователям (по группам А и В)\n",
    "</div>\n",
    "\n",
    "* ordersPerDateA — количество заказов в выбранную дату в группе A;\n",
    "* revenuePerDateA — суммарная выручка в выбранную дату в группе A;\n",
    "* ordersPerDateB — количество заказов в выбранную дату в группе B;\n",
    "* revenuePerDateB — суммарная выручка в выбранную дату в группе B;\n",
    "* ordersCummulativeA — суммарное число заказов до выбранной даты включительно в группе A;\n",
    "* revenueCummulativeA — суммарная выручка до выбранной даты включительно в группе A;\n",
    "* ordersCummulativeB — суммарное количество заказов до выбранной даты включительно в группе B;\n",
    "* revenueCummulativeB — суммарная выручка до выбранной даты включительно в группе B;\n",
    "* visitorsPerDateA — количество пользователей в выбранную дату в группе A;\n",
    "* visitorsPerDateB — количество пользователей в выбранную дату в группе B;\n",
    "* visitorsCummulativeA — количество пользователей до выбранной даты включительно в группе A;\n",
    "* visitorsCummulativeB — количество пользователей до выбранной даты включительно в группе B.\n",
    "\n",
    "Посчитаем статистическую значимость различия в конверсии между группами.\n",
    "\n",
    "Создадим переменные ordersByUsersA и ordersByUsersB со столбцами ['userId', 'orders']. В них для пользователей, которые заказывали хотя бы 1 раз, укажем число совершённых заказов."
   ]
  },
  {
   "cell_type": "code",
   "execution_count": 80,
   "metadata": {},
   "outputs": [
    {
     "data": {
      "text/html": [
       "<div>\n",
       "<style scoped>\n",
       "    .dataframe tbody tr th:only-of-type {\n",
       "        vertical-align: middle;\n",
       "    }\n",
       "\n",
       "    .dataframe tbody tr th {\n",
       "        vertical-align: top;\n",
       "    }\n",
       "\n",
       "    .dataframe thead th {\n",
       "        text-align: right;\n",
       "    }\n",
       "</style>\n",
       "<table border=\"1\" class=\"dataframe\">\n",
       "  <thead>\n",
       "    <tr style=\"text-align: right;\">\n",
       "      <th></th>\n",
       "      <th>date</th>\n",
       "      <th>ordersPerDateA</th>\n",
       "      <th>revenuePerDateA</th>\n",
       "      <th>ordersPerDateB</th>\n",
       "      <th>revenuePerDateB</th>\n",
       "      <th>ordersCummulativeA</th>\n",
       "      <th>revenueCummulativeA</th>\n",
       "      <th>ordersCummulativeB</th>\n",
       "      <th>revenueCummulativeB</th>\n",
       "      <th>visitorsPerDateA</th>\n",
       "      <th>visitorsPerDateB</th>\n",
       "      <th>visitorsCummulativeA</th>\n",
       "      <th>visitorsCummulativeB</th>\n",
       "    </tr>\n",
       "  </thead>\n",
       "  <tbody>\n",
       "    <tr>\n",
       "      <th>0</th>\n",
       "      <td>2019-08-01</td>\n",
       "      <td>24</td>\n",
       "      <td>148579</td>\n",
       "      <td>21</td>\n",
       "      <td>101217</td>\n",
       "      <td>24</td>\n",
       "      <td>148579</td>\n",
       "      <td>21</td>\n",
       "      <td>101217</td>\n",
       "      <td>719</td>\n",
       "      <td>713</td>\n",
       "      <td>719</td>\n",
       "      <td>713</td>\n",
       "    </tr>\n",
       "    <tr>\n",
       "      <th>1</th>\n",
       "      <td>2019-08-02</td>\n",
       "      <td>20</td>\n",
       "      <td>93822</td>\n",
       "      <td>24</td>\n",
       "      <td>165531</td>\n",
       "      <td>44</td>\n",
       "      <td>242401</td>\n",
       "      <td>45</td>\n",
       "      <td>266748</td>\n",
       "      <td>619</td>\n",
       "      <td>581</td>\n",
       "      <td>1338</td>\n",
       "      <td>1294</td>\n",
       "    </tr>\n",
       "    <tr>\n",
       "      <th>2</th>\n",
       "      <td>2019-08-03</td>\n",
       "      <td>24</td>\n",
       "      <td>112473</td>\n",
       "      <td>16</td>\n",
       "      <td>114248</td>\n",
       "      <td>68</td>\n",
       "      <td>354874</td>\n",
       "      <td>61</td>\n",
       "      <td>380996</td>\n",
       "      <td>507</td>\n",
       "      <td>509</td>\n",
       "      <td>1845</td>\n",
       "      <td>1803</td>\n",
       "    </tr>\n",
       "    <tr>\n",
       "      <th>3</th>\n",
       "      <td>2019-08-04</td>\n",
       "      <td>16</td>\n",
       "      <td>70825</td>\n",
       "      <td>17</td>\n",
       "      <td>108571</td>\n",
       "      <td>84</td>\n",
       "      <td>425699</td>\n",
       "      <td>78</td>\n",
       "      <td>489567</td>\n",
       "      <td>717</td>\n",
       "      <td>770</td>\n",
       "      <td>2562</td>\n",
       "      <td>2573</td>\n",
       "    </tr>\n",
       "    <tr>\n",
       "      <th>4</th>\n",
       "      <td>2019-08-05</td>\n",
       "      <td>25</td>\n",
       "      <td>124218</td>\n",
       "      <td>23</td>\n",
       "      <td>92428</td>\n",
       "      <td>109</td>\n",
       "      <td>549917</td>\n",
       "      <td>101</td>\n",
       "      <td>581995</td>\n",
       "      <td>756</td>\n",
       "      <td>707</td>\n",
       "      <td>3318</td>\n",
       "      <td>3280</td>\n",
       "    </tr>\n",
       "  </tbody>\n",
       "</table>\n",
       "</div>"
      ],
      "text/plain": [
       "        date  ordersPerDateA  revenuePerDateA  ordersPerDateB  \\\n",
       "0 2019-08-01  24              148579           21               \n",
       "1 2019-08-02  20              93822            24               \n",
       "2 2019-08-03  24              112473           16               \n",
       "3 2019-08-04  16              70825            17               \n",
       "4 2019-08-05  25              124218           23               \n",
       "\n",
       "   revenuePerDateB  ordersCummulativeA  revenueCummulativeA  \\\n",
       "0  101217           24                  148579                \n",
       "1  165531           44                  242401                \n",
       "2  114248           68                  354874                \n",
       "3  108571           84                  425699                \n",
       "4  92428            109                 549917                \n",
       "\n",
       "   ordersCummulativeB  revenueCummulativeB  visitorsPerDateA  \\\n",
       "0  21                  101217               719                \n",
       "1  45                  266748               619                \n",
       "2  61                  380996               507                \n",
       "3  78                  489567               717                \n",
       "4  101                 581995               756                \n",
       "\n",
       "   visitorsPerDateB  visitorsCummulativeA  visitorsCummulativeB  \n",
       "0  713               719                   713                   \n",
       "1  581               1338                  1294                  \n",
       "2  509               1845                  1803                  \n",
       "3  770               2562                  2573                  \n",
       "4  707               3318                  3280                  "
      ]
     },
     "metadata": {},
     "output_type": "display_data"
    }
   ],
   "source": [
    "# объединим все таблицу в одну общую с помощью merge\n",
    "data = (\n",
    "    ordersADaily.merge(\n",
    "        ordersBDaily, left_on='date', right_on='date', how='left'\n",
    "    )\n",
    "    .merge(ordersACummulative, left_on='date', right_on='date', how='left')\n",
    "    .merge(ordersBCummulative, left_on='date', right_on='date', how='left')\n",
    "    .merge(visitorsADaily, left_on='date', right_on='date', how='left')\n",
    "    .merge(visitorsBDaily, left_on='date', right_on='date', how='left')\n",
    "    .merge(visitorsACummulative, left_on='date', right_on='date', how='left')\n",
    "    .merge(visitorsBCummulative, left_on='date', right_on='date', how='left')\n",
    ")\n",
    "display(data.head())"
   ]
  },
  {
   "cell_type": "markdown",
   "metadata": {},
   "source": [
    "<div style=\"border-radius: 15px; border: 3px solid indigo; padding: 15px;\">\n",
    "<font color='purple'><b>ordersByUsersA</b></font> — число совершенных заказов для пользователей, которые заказывали хотя бы 1 раз (группа А)\n",
    "</div>"
   ]
  },
  {
   "cell_type": "code",
   "execution_count": 81,
   "metadata": {},
   "outputs": [
    {
     "data": {
      "text/html": [
       "<div>\n",
       "<style scoped>\n",
       "    .dataframe tbody tr th:only-of-type {\n",
       "        vertical-align: middle;\n",
       "    }\n",
       "\n",
       "    .dataframe tbody tr th {\n",
       "        vertical-align: top;\n",
       "    }\n",
       "\n",
       "    .dataframe thead th {\n",
       "        text-align: right;\n",
       "    }\n",
       "</style>\n",
       "<table border=\"1\" class=\"dataframe\">\n",
       "  <thead>\n",
       "    <tr style=\"text-align: right;\">\n",
       "      <th></th>\n",
       "      <th>userid</th>\n",
       "      <th>orders</th>\n",
       "    </tr>\n",
       "  </thead>\n",
       "  <tbody>\n",
       "    <tr>\n",
       "      <th>0</th>\n",
       "      <td>8300375</td>\n",
       "      <td>1</td>\n",
       "    </tr>\n",
       "    <tr>\n",
       "      <th>1</th>\n",
       "      <td>11685486</td>\n",
       "      <td>1</td>\n",
       "    </tr>\n",
       "    <tr>\n",
       "      <th>2</th>\n",
       "      <td>54447517</td>\n",
       "      <td>1</td>\n",
       "    </tr>\n",
       "    <tr>\n",
       "      <th>3</th>\n",
       "      <td>66685450</td>\n",
       "      <td>1</td>\n",
       "    </tr>\n",
       "    <tr>\n",
       "      <th>4</th>\n",
       "      <td>78758296</td>\n",
       "      <td>1</td>\n",
       "    </tr>\n",
       "  </tbody>\n",
       "</table>\n",
       "</div>"
      ],
      "text/plain": [
       "     userid  orders\n",
       "0  8300375   1     \n",
       "1  11685486  1     \n",
       "2  54447517  1     \n",
       "3  66685450  1     \n",
       "4  78758296  1     "
      ]
     },
     "metadata": {},
     "output_type": "display_data"
    }
   ],
   "source": [
    "# посчитаем количество совершенных заказов по группе А\n",
    "ordersByUsersA = (\n",
    "    orders[orders['group'] == 'A']\n",
    "    .groupby('visitorid', as_index=False)\n",
    "    .agg({'transactionid': pd.Series.nunique})\n",
    ")\n",
    "ordersByUsersA.columns = ['userid', 'orders']\n",
    "display(ordersByUsersA.head())"
   ]
  },
  {
   "cell_type": "markdown",
   "metadata": {},
   "source": [
    "<div style=\"border-radius: 15px; border: 3px solid indigo; padding: 15px;\">\n",
    "<font color='purple'><b>ordersByUsersB</b></font> — число совершенных заказов для пользователей, которые заказывали хотя бы 1 раз (группа В)\n",
    "</div>"
   ]
  },
  {
   "cell_type": "code",
   "execution_count": 82,
   "metadata": {},
   "outputs": [
    {
     "data": {
      "text/html": [
       "<div>\n",
       "<style scoped>\n",
       "    .dataframe tbody tr th:only-of-type {\n",
       "        vertical-align: middle;\n",
       "    }\n",
       "\n",
       "    .dataframe tbody tr th {\n",
       "        vertical-align: top;\n",
       "    }\n",
       "\n",
       "    .dataframe thead th {\n",
       "        text-align: right;\n",
       "    }\n",
       "</style>\n",
       "<table border=\"1\" class=\"dataframe\">\n",
       "  <thead>\n",
       "    <tr style=\"text-align: right;\">\n",
       "      <th></th>\n",
       "      <th>userid</th>\n",
       "      <th>orders</th>\n",
       "    </tr>\n",
       "  </thead>\n",
       "  <tbody>\n",
       "    <tr>\n",
       "      <th>0</th>\n",
       "      <td>5114589</td>\n",
       "      <td>1</td>\n",
       "    </tr>\n",
       "    <tr>\n",
       "      <th>1</th>\n",
       "      <td>6958315</td>\n",
       "      <td>1</td>\n",
       "    </tr>\n",
       "    <tr>\n",
       "      <th>2</th>\n",
       "      <td>8300375</td>\n",
       "      <td>1</td>\n",
       "    </tr>\n",
       "    <tr>\n",
       "      <th>3</th>\n",
       "      <td>39475350</td>\n",
       "      <td>1</td>\n",
       "    </tr>\n",
       "    <tr>\n",
       "      <th>4</th>\n",
       "      <td>47206413</td>\n",
       "      <td>1</td>\n",
       "    </tr>\n",
       "  </tbody>\n",
       "</table>\n",
       "</div>"
      ],
      "text/plain": [
       "     userid  orders\n",
       "0  5114589   1     \n",
       "1  6958315   1     \n",
       "2  8300375   1     \n",
       "3  39475350  1     \n",
       "4  47206413  1     "
      ]
     },
     "metadata": {},
     "output_type": "display_data"
    }
   ],
   "source": [
    "# посчитаем количество совершенных заказов по группе B\n",
    "ordersByUsersB = (\n",
    "    orders[orders['group'] == 'B']\n",
    "    .groupby('visitorid', as_index=False)\n",
    "    .agg({'transactionid': pd.Series.nunique})\n",
    ")\n",
    "ordersByUsersB.columns = ['userid', 'orders']\n",
    "display(ordersByUsersB.head())"
   ]
  },
  {
   "cell_type": "markdown",
   "metadata": {},
   "source": [
    "<div style=\"border-radius: 15px; border: 3px solid indigo; padding: 15px;\">\n",
    "<font color='purple'><b>sampleA</b></font> — выборка группы А, где каждый элемент — число заказов определённого пользователя, в том числе ноль. Число элементов sampleA — это количество пользователей, сумма всех элементов — количество заказов. Чтобы получить конверсию в группе А, поделим сумму заказов на число пользователей — найдём среднее в выборке sampleA методом mean()\n",
    "</div>"
   ]
  },
  {
   "cell_type": "code",
   "execution_count": 83,
   "metadata": {
    "scrolled": true
   },
   "outputs": [
    {
     "data": {
      "text/plain": [
       "0    1\n",
       "1    1\n",
       "2    1\n",
       "3    1\n",
       "4    1\n",
       "Name: orders, dtype: int64"
      ]
     },
     "metadata": {},
     "output_type": "display_data"
    }
   ],
   "source": [
    "# сохраним выборку группы А\n",
    "sampleA = pd.concat([ordersByUsersA['orders']\\\n",
    ",pd.Series(0, index=np.arange(data['visitorsPerDateA'].sum() - len(ordersByUsersA['orders'])), name='orders')],axis=0)\n",
    "display(sampleA.head())"
   ]
  },
  {
   "cell_type": "markdown",
   "metadata": {},
   "source": [
    "<div style=\"border-radius: 15px; border: 3px solid indigo; padding: 15px;\">\n",
    "<font color='purple'><b>sampleB</b></font> — выборка группы B, где каждый элемент — число заказов определённого пользователя, в том числе ноль. Число элементов sampleB — это количество пользователей, сумма всех элементов — количество заказов. Чтобы получить конверсию в группе B, поделим сумму заказов на число пользователей — найдём среднее в выборке sampleB методом mean()\n",
    "</div>"
   ]
  },
  {
   "cell_type": "code",
   "execution_count": 84,
   "metadata": {},
   "outputs": [
    {
     "data": {
      "text/plain": [
       "0    1\n",
       "1    1\n",
       "2    1\n",
       "3    1\n",
       "4    1\n",
       "Name: orders, dtype: int64"
      ]
     },
     "metadata": {},
     "output_type": "display_data"
    }
   ],
   "source": [
    "# сохраним выборку группы B\n",
    "sampleB = pd.concat([ordersByUsersB['orders']\\\n",
    ",pd.Series(0, index=np.arange(data['visitorsPerDateB'].sum() - len(ordersByUsersB['orders'])), name='orders')],axis=0)\n",
    "display(sampleB.head())"
   ]
  },
  {
   "cell_type": "code",
   "execution_count": 85,
   "metadata": {},
   "outputs": [
    {
     "name": "stdout",
     "output_type": "stream",
     "text": [
      "\n",
      "Относительный прирост конверсии группы B по отношению к группе A: 0.138\n",
      "P-value: 0.017\n",
      "Отвергаем нулевую гипотезу - По неочищенным данным в конверсии групп A и B РАЗНИЦА СТАТИСТИЧЕСКИ ЗНАЧИМА!\n"
     ]
    }
   ],
   "source": [
    "# посчитаем статистическую значимость различий в конверсии между группами по «сырым» данным\n",
    "print('\\nОтносительный прирост конверсии группы B по отношению к группе A: {:.3f}'.format(sampleB.mean()/sampleA.mean()-1))\n",
    "alpha = 0.05\n",
    "results = stats.mannwhitneyu(sampleA, sampleB, alternative = 'two-sided')\n",
    "\n",
    "print('P-value: {0:.3f}'.format(results.pvalue))\n",
    "if results.pvalue < alpha:\n",
    "    print('Отвергаем нулевую гипотезу - По неочищенным данным в конверсии групп A и B РАЗНИЦА СТАТИСТИЧЕСКИ ЗНАЧИМА!')\n",
    "else:\n",
    "    print('Не получилось отвергнуть нулевую гипотезу - По неочищенным данным РАЗЛИЧИЙ в конверсии групп A и B НЕТ!')"
   ]
  },
  {
   "cell_type": "markdown",
   "metadata": {},
   "source": [
    "<div style=\"border-radius: 15px; border: 3px solid green; padding: 15px;\">\n",
    "<font color='green'><b>ВЫВОД:</b></font>\n",
    "<br>\n",
    "\n",
    "<b>Нулевая гипотеза (Н0):</b> конверсия в группе В равна конверсии в группе А.<br> \n",
    "<b>Альтернативная гипотеза (Н1):</b> конверсия в группе В не равна конверсии в группе А.\n",
    "<br>\n",
    "   \n",
    "<b>Отвергаем нулевую гипотезу</b> - По неочищенным данным в конверсии групп A и B РАЗНИЦА СТАТИСТИЧЕСКИ ЗНАЧИМА!\n",
    "<br>    \n",
    "    \n",
    "P-value = 0.017, а следовательно меньше alpha = 0.05. Значит, нулевую гипотезу отвергаем - в конверсии между группами есть статистически значимые различия. Прирост конверсии группы В к группе А равен 13,8%. Вывод: по «сырым» данным различия в конверсии групп A и B есть.<br>\n",
    "</div>"
   ]
  },
  {
   "cell_type": "markdown",
   "metadata": {},
   "source": [
    "### 3.11. Посчитать статистическую значимость различий в среднем чеке заказа между группами по «сырым» данным.\n",
    "Сделать выводы и предположения."
   ]
  },
  {
   "cell_type": "code",
   "execution_count": 86,
   "metadata": {},
   "outputs": [
    {
     "name": "stdout",
     "output_type": "stream",
     "text": [
      "\n",
      "Относительное изменение среднего чека в группе B по отношению к группе A: 0.259\n",
      "P-value: 0.729\n",
      "Не получилось отвергнуть нулевую гипотезу - По неочищенным данным РАЗЛИЧИЙ в средних чеках в группах A и B НЕТ!\n"
     ]
    }
   ],
   "source": [
    "# посчитаем статистическую значимость различий в среднем чеке заказа между группами по «сырым» данным\n",
    "print('\\nОтносительное изменение среднего чека в группе B по отношению к группе A: {:.3f}'.format(\n",
    "orders[orders['group']=='B']['revenue'].mean()/orders[orders['group']=='A']['revenue'].mean()-1))\n",
    "results = stats.mannwhitneyu(orders[orders['group']=='A']['revenue']\\\n",
    ", orders[orders['group']=='B']['revenue'], alternative = 'two-sided')\n",
    "print('P-value: {0:.3f}'.format(results.pvalue))\n",
    "if results.pvalue < alpha:\n",
    "    print('Отвергаем нулевую гипотезу - По неочищенным данным РАЗНИЦА в средних чеках в группах A и B СТАТИСТИЧЕСКИ ЗНАЧИМА!')\n",
    "else:\n",
    "    print('Не получилось отвергнуть нулевую гипотезу - По неочищенным данным РАЗЛИЧИЙ в средних чеках в группах A и B НЕТ!')"
   ]
  },
  {
   "cell_type": "markdown",
   "metadata": {},
   "source": [
    "<div style=\"border-radius: 15px; border: 3px solid green; padding: 15px;\">\n",
    "<font color='green'><b>ВЫВОД:</b></font>\n",
    "<br>\n",
    "\n",
    "<b>Нулевая гипотеза (Н0):</b> средний чек в группе В равен среднему чеку в группе А.<br> \n",
    "<b>Альтернативная гипотеза (Н1):</b> средний чек в группе В не равен среднему чеку в группе А.\n",
    "<br>\n",
    "   \n",
    "<b>Не получилось отвергнуть нулевую гипотезу</b> - По неочищенным данным РАЗЛИЧИЙ в средних чеках в группах A и B НЕТ!\n",
    "<br>    \n",
    "    \n",
    "P-value = 0.729, а следовательно больше alpha = 0.05. Значит, нулевую гипотезу отвергнуть не получилось - статистически значимых различий в среднем чеке между группами нет. Относительное различие среднего чека между группами всего 2,5%. По «сырым» данным различий в среднем чеке групп A и B нет. Надо проанализировать аномалии.<br>\n",
    "</div>"
   ]
  },
  {
   "cell_type": "markdown",
   "metadata": {},
   "source": [
    "### 3.12. Посчитать статистическую значимость различий в конверсии между группами по «очищенным» данным.\n",
    "Сделать выводы и предположения."
   ]
  },
  {
   "cell_type": "code",
   "execution_count": 87,
   "metadata": {},
   "outputs": [],
   "source": [
    "# зададим предельные количества заказов и сумму покупки для формирования списка аномальных пользователей\n",
    "limit_orders = 2\n",
    "limit_revenue = 28000"
   ]
  },
  {
   "cell_type": "code",
   "execution_count": 88,
   "metadata": {},
   "outputs": [],
   "source": [
    "# составим списки без покупок по группам \n",
    "list_orders_1 =[]\n",
    "for i in range(0,(visitors[visitors['group']=='A']['visitors'].sum()-len(ordersByUsersA))):\n",
    "    list_orders_1.append(0)\n",
    "orders_by_non_purchased_users_A = pd.Series(data = list_orders_1, name = 'orders')\n",
    "\n",
    "list_orders_2 =[]\n",
    "for i in range(0,(visitors[visitors['group']=='B']['visitors'].sum()-len(ordersByUsersB))):\n",
    "    list_orders_2.append(0)\n",
    "orders_by_non_purchased_users_B = pd.Series(data = list_orders_2, name = 'orders')"
   ]
  },
  {
   "cell_type": "code",
   "execution_count": 89,
   "metadata": {},
   "outputs": [
    {
     "name": "stdout",
     "output_type": "stream",
     "text": [
      "Кол-во аномальных пользователей: 74\n"
     ]
    }
   ],
   "source": [
    "# посчитаем количество аномальных пользователей\n",
    "usersWithManyOrders = pd.concat([ordersByUsersA[ordersByUsersA['orders']>limit_orders]['userid'], \n",
    "                                ordersByUsersB[ordersByUsersB['orders']>limit_orders]['userid']], axis = 0)\n",
    "usersWithExpensiveOrders = orders[orders['revenue']>limit_revenue]['visitorid']\n",
    "abnormalUsers = pd.concat([usersWithManyOrders, usersWithExpensiveOrders], axis = 0).drop_duplicates().sort_values()\n",
    "print('Кол-во аномальных пользователей: {}'.format(len(abnormalUsers)))"
   ]
  },
  {
   "cell_type": "code",
   "execution_count": 90,
   "metadata": {},
   "outputs": [
    {
     "name": "stdout",
     "output_type": "stream",
     "text": [
      "\n",
      "Относительный прирост конверсии группы B по отношению к группе A после очистки данных: 0.173\n",
      "P-value: 0.013\n",
      "Отвергаем нулевую гипотезу - По очищенным данным в конверсии групп A и B РАЗНИЦА СТАТИСТИЧЕСКИ ЗНАЧИМА!\n"
     ]
    }
   ],
   "source": [
    "# посчитаем статистическую значимость различий в конверсии между группами по «очищенным» данным.\n",
    "sampleAFiltered = pd.concat([\n",
    "    ordersByUsersA[np.logical_not(ordersByUsersA['userid'].isin(abnormalUsers))]['orders'],\n",
    "    orders_by_non_purchased_users_A\n",
    "], axis = 0)\n",
    "sampleBFiltered = pd.concat([\n",
    "    ordersByUsersB[np.logical_not(ordersByUsersB['userid'].isin(abnormalUsers))]['orders'],\n",
    "    orders_by_non_purchased_users_B\n",
    "], axis = 0)\n",
    "print('\\nОтносительный прирост конверсии группы B по отношению к группе A после очистки данных: {:.3f}'\\\n",
    "      .format(sampleBFiltered.mean()/sampleAFiltered.mean()-1))\n",
    "results = stats.mannwhitneyu(sampleAFiltered, sampleBFiltered, alternative = 'two-sided')\n",
    "print('P-value: {0:.3f}'.format(results.pvalue))\n",
    "if results.pvalue < alpha:\n",
    "    print('Отвергаем нулевую гипотезу - По очищенным данным в конверсии групп A и B РАЗНИЦА СТАТИСТИЧЕСКИ ЗНАЧИМА!')\n",
    "else:\n",
    "    print('Не получилось отвергнуть нулевую гипотезу - По очищенным данным РАЗЛИЧИЙ в конверсии групп A и B НЕТ!')"
   ]
  },
  {
   "cell_type": "markdown",
   "metadata": {},
   "source": [
    "<div style=\"border-radius: 15px; border: 3px solid green; padding: 15px;\">\n",
    "<font color='green'><b>ВЫВОД:</b></font>\n",
    "<br>\n",
    "\n",
    "<b>Нулевая гипотеза (Н0):</b> конверсия в группе A РАВНА конверсии в группе B.<br> \n",
    "<b>Альтернативная гипотеза (Н1):</b> конверсия в группе A НЕ РАВНА конверсии в группе B.\n",
    "<br>\n",
    "   \n",
    "<b>Отвергаем нулевую гипотезу</b> - По очищенным данным в конверсии групп A и B РАЗНИЦА СТАТИСТИЧЕСКИ ЗНАЧИМА!\n",
    "<br>    \n",
    "    \n",
    "Результаты по конверсии практически не изменились. p-value остался значительно меньше 0.05. Значит, нулевую гипотезу о том, что статистически значимых различий в конверсии между группами нет - нулевую гипотезу отвергаем. По очищенным данным есть статистически значимые различия в конверсии групп A и B. Относительный прирост конверсии группы B около 17%.<br>\n",
    "</div>"
   ]
  },
  {
   "cell_type": "markdown",
   "metadata": {},
   "source": [
    "### 3.13. Посчитать статистическую значимость различий в среднем чеке заказа между группами по «очищенным» данным.\n",
    "Сделать выводы и предположения."
   ]
  },
  {
   "cell_type": "code",
   "execution_count": 91,
   "metadata": {},
   "outputs": [
    {
     "name": "stdout",
     "output_type": "stream",
     "text": [
      "\n",
      "Относительное изменение среднего чека в группе B по отношению группы A после очистки данных: -0.020\n",
      "P-value: 0.738\n",
      "Не получилось отвергнуть нулевую гипотезу - По очищенным данным РАЗЛИЧИЙ в средних чеках в группах A и B НЕТ!\n"
     ]
    }
   ],
   "source": [
    "# посчитаем статистическую значимость различий в среднем чеке заказа между группами по «очищенным» данным.\n",
    "print('\\nОтносительное изменение среднего чека в группе B по отношению группы A после очистки данных: {:.3f}'.format(\n",
    "orders[np.logical_and(orders['group']=='B', np.logical_not(orders['visitorid'].isin(abnormalUsers)))]['revenue'].mean()\\\n",
    "/orders[np.logical_and(orders['group']=='A', np.logical_not(orders['visitorid'].isin(abnormalUsers)))]['revenue'].mean()-1))\n",
    "       \n",
    "       \n",
    "results = stats.mannwhitneyu(\\\n",
    "orders[np.logical_and(orders['group']=='A', np.logical_not(orders['visitorid'].isin(abnormalUsers)))]['revenue'],\\\n",
    "orders[np.logical_and(orders['group']=='B', np.logical_not(orders['visitorid'].isin(abnormalUsers)))]['revenue'],\\\n",
    "                             alternative = 'two-sided')\n",
    "print('P-value: {0:.3f}'.format(results.pvalue))\n",
    "if results.pvalue < alpha:\n",
    "    print('Отвергаем нулевую гипотезу - По очищенным данным РАЗНИЦА в средних чеках в группах A и B СТАТИСТИЧЕСКИ ЗНАЧИМА!')\n",
    "else:\n",
    "    print('Не получилось отвергнуть нулевую гипотезу - По очищенным данным РАЗЛИЧИЙ в средних чеках в группах A и B НЕТ!')"
   ]
  },
  {
   "cell_type": "markdown",
   "metadata": {},
   "source": [
    "<div style=\"border-radius: 15px; border: 3px solid green; padding: 15px;\">\n",
    "<font color='green'><b>ВЫВОД:</b></font>\n",
    "<br>\n",
    "\n",
    "<b>Нулевая гипотеза (Н0):</b> средний чек A НЕ ПРЕВОСХОДИТ среднему чеку группы B.<br> \n",
    "<b>Альтернативная гипотеза (Н1):</b> средний чек A ПРЕВОСХОДИТ среднему чеку группы B.\n",
    "<br>\n",
    "   \n",
    "<b>Не получилось отвергнуть нулевую гипотезу</b> - По очищенным данным РАЗЛИЧИЙ в средних чеках в группах A и B НЕТ!\n",
    "<br>    \n",
    "    \n",
    "P-value практически не изменился, а разница между сегментами сильно изменилась. Очищенные данные показывают, что средний чек группы B немного уступает группе A, в то время как на сырых данных чек группы B был на 26% больше. По очищенным данным статистически значимых различий среднего чека между группами нет. Хотя статистической зачимости и нет, стоит отметить, что разница из положительной стала отрицательной - это дополнительно показывает вклад аномалии.<br>\n",
    "</div>"
   ]
  },
  {
   "cell_type": "markdown",
   "metadata": {},
   "source": [
    "### 3.14. Принять решение по результатам теста и объяснить его.\n",
    "Варианты решений: 1. Остановить тест, зафиксировать победу одной из групп. 2. Остановить тест, зафиксировать отсутствие различий между группами. 3. Продолжить тест."
   ]
  },
  {
   "cell_type": "markdown",
   "metadata": {},
   "source": [
    "<div style=\"border-radius: 15px; border: 3px solid green; padding: 15px;\">\n",
    "<font color='green'><b>ВЫВОД:</b></font>\n",
    "<br>\n",
    "\n",
    "<b>Результаты A/B теста</b><br>\n",
    "Есть статистически значимое различие по конверсии между группами как по сырым данным, так и после фильтрации аномалий.\n",
    "Как по сырым, так и по очищенным данным нет статистически значимого различия по среднему чеку между группами.\n",
    "График различия конверсии между группами сообщает, что результаты группы B лучше группы A: имеют тенденцию к росту и практически зафиксировались. График различия среднего чека колеблется. Сделать из этого графика определённые выводы нельзя.\n",
    "<br>\n",
    "    \n",
    "<b>Решение: 1. Остановить тест, зафиксировать победу одной из групп.</b><br>\n",
    "На основании результатов, можно остановить тест и зафиксировать победу группы B. Так как есть статистически значимое различие по конверсии между группами, относительный прирост конверсии группы B около 17%.<br>\n",
    "</div>"
   ]
  },
  {
   "cell_type": "markdown",
   "metadata": {},
   "source": [
    "<div style=\"border-radius: 15px; border: 3px solid green; padding: 15px;\">\n",
    "<font color='green'><b>ОБЩИЙ ВЫВОД:</b></font>\n",
    "<br>\n",
    "\n",
    "Согласно проекту, наша главная цель это <font color='green'><b>УВЕЛИЧЕНИЕ ВЫРУЧКИ</b></font>.\n",
    "Для этого, совместно с отделом маркетинга нам понадобилось приоритизировать ранее подготовленные гипотезы. \n",
    "Проанализировав 9 гипотез с точки зрения разных фреймфорков (ICE и RICE), мы получили топ5 гипотез и далее решили остановить свой выбор именно на версии фреймворка RICE т.к. его параметры, в частности REACH (скольких пользователей затронет изменение) наиболее полно закрывает наши потребности.\n",
    "<br>\n",
    "\n",
    "<b>ТОП5 гипотез, которые мы берём в работу:</b><br>\n",
    "<b>1. Гипотеза 7</b> - Добавить форму подписки на все основные страницы, чтобы собрать базу клиентов для email-рассылок;<br>\n",
    "<b>2. Гипотеза 2</b> - Добавить блоки рекомендаций товаров на сайт интернет магазина, чтобы повысить конверсию и средний чек заказа;<br>\n",
    "<b>3. Гипотеза 0</b> - Добавить два новых канала привлечения трафика, что позволит привлекать на 30% больше пользователей;<br>\n",
    "<b>4. Гипотеза 6</b> - Показать на главной странице баннеры с актуальными акциями и распродажами, чтобы увеличить конверсию;<br>\n",
    "<b>5. Гипотеза 8</b> - Запустить акцию, дающую скидку на товар в день рождения.\n",
    "<br>\n",
    "\n",
    "Далее мы получили в работу данные по заказам и пользователям. Пользователи уже были равномерно распределены по группам А и В. Изучив данные и проведя их предобработку, мы привели в порядок форматы и типы данных, а также выявили, что 58 пользователей продублировались в обе группы. По рекоммендации вышестоящих руководителей, было принято решение, данные не удалять, а провести тест на сформированных группах.\n",
    "<br>\n",
    "\n",
    "<b>После мы перешли к непосредственному запуску А/В теста и поэтапно разобрали:</b>\n",
    "<br>\n",
    "\n",
    "1. Сравнительный анализ кумулятивной выручки по группам А и В. До 18 августа, группы шли довольно ровно, однако в эту дату в группе В произошел резкий отрыв от группы А - выручку группы В стала значительно отличаться от группы А. У нас появились основания предположить, что в группе В после 18 числе появилось больше заказов или заказы стали более дорогими.<br>\n",
    "2. Далее подтвердилось наше предположение, что средний чек по группе В стал значительно выше т.к. 18 августа этот параметр резко вырос. Вероятно были куплены дорогостоящие покупки.<br>\n",
    "3. Сравнивая уровень конверсий по группам, уже после 5 августа можно было наблюдать стабильное отличие конверсси группы В от группы А. По этому показателю однозначный лидер - группа В.<br>\n",
    "4. По количеству заказов отсеять аномалии нам помог 95-ый перцентиль. Границу установили на уровне - 2 заказа.<br>\n",
    "5. По стоимости заказов нам также был полезен 95-ый перцентиль. Границу установили на уровне - 28000 руб. Заодно увидели тот самый аномальный заказ на сумму свыше 1200000 руб.<br>\n",
    "6. Для выявления различий между конверсиями групп А и В по \"сырым\" данным, мы использовали критерий Манна Уитни. В результате чего, мы получили, что различия в конверсиях группы А и В - СТАТИСТИЧЕСКИ ЗНАЧИМЫ. Показатель P-value = 0.017, а прирост конверсии группы В к конверсии группы А составил 14%.<br>\n",
    "7. А вот сравнение средних чеков по \"сырым\" данным между группам А и В, статистически значимых различий не выявило. P-value = 0.729.<br>\n",
    "8. Аналогичные тесты по \"очищенным\" данным показали нам схожие результаты, как по конверсии, так и по среднему чеку. Итог один - различия в конверсиях по группам - СТАТИСТИЧЕСКИ ЗНАЧИМЫ. (лидирует группа В), а по среднему чеку разлиций практически нет.<br>\n",
    "\n",
    "<b>Итоговый вывод:</b><br>\n",
    "После проведенного выше анализа, мы приходим к выводу, что тест пора завершать с присуждением победы группе В т.к. прирост конверсии на 17% это в итоге <font color='green'><b>ЗНАЧИМОЕ УВЕЛИЧИНЕ ВЫРУЧКИ</b></font> нашего интернет магазина.<br>\n",
    "</div>"
   ]
  }
 ],
 "metadata": {
  "ExecuteTimeLog": [
   {
    "duration": 1855,
    "start_time": "2021-10-14T12:09:55.947Z"
   },
   {
    "duration": 5,
    "start_time": "2021-10-14T13:18:24.650Z"
   },
   {
    "duration": 33,
    "start_time": "2021-10-14T13:19:32.398Z"
   },
   {
    "duration": 28,
    "start_time": "2021-10-14T13:26:25.079Z"
   },
   {
    "duration": 5,
    "start_time": "2021-10-14T13:50:25.913Z"
   },
   {
    "duration": 10,
    "start_time": "2021-10-14T13:50:51.062Z"
   },
   {
    "duration": 12,
    "start_time": "2021-10-14T13:51:17.188Z"
   },
   {
    "duration": 12,
    "start_time": "2021-10-14T13:51:53.962Z"
   },
   {
    "duration": 32,
    "start_time": "2021-10-14T13:52:51.861Z"
   },
   {
    "duration": 107,
    "start_time": "2021-10-14T13:57:02.960Z"
   },
   {
    "duration": 8,
    "start_time": "2021-10-14T13:58:44.587Z"
   },
   {
    "duration": 17,
    "start_time": "2021-10-14T13:59:03.330Z"
   },
   {
    "duration": 8,
    "start_time": "2021-10-14T14:01:53.490Z"
   },
   {
    "duration": 8,
    "start_time": "2021-10-14T14:04:23.862Z"
   },
   {
    "duration": 7,
    "start_time": "2021-10-14T14:07:22.797Z"
   },
   {
    "duration": 8,
    "start_time": "2021-10-14T14:08:57.336Z"
   },
   {
    "duration": 30,
    "start_time": "2021-10-14T14:14:43.466Z"
   },
   {
    "duration": 34,
    "start_time": "2021-10-14T14:14:56.040Z"
   },
   {
    "duration": 71,
    "start_time": "2021-10-14T14:15:54.212Z"
   },
   {
    "duration": 5,
    "start_time": "2021-10-14T14:16:45.452Z"
   },
   {
    "duration": 7,
    "start_time": "2021-10-14T14:17:09.700Z"
   },
   {
    "duration": 12,
    "start_time": "2021-10-14T14:17:52.069Z"
   },
   {
    "duration": 11,
    "start_time": "2021-10-14T14:18:10.113Z"
   },
   {
    "duration": 11,
    "start_time": "2021-10-14T14:20:25.200Z"
   },
   {
    "duration": 12,
    "start_time": "2021-10-14T14:20:31.950Z"
   },
   {
    "duration": 11,
    "start_time": "2021-10-14T14:21:00.140Z"
   },
   {
    "duration": 18,
    "start_time": "2021-10-14T14:21:29.152Z"
   },
   {
    "duration": 35,
    "start_time": "2021-10-14T14:21:47.083Z"
   },
   {
    "duration": 8,
    "start_time": "2021-10-14T14:23:49.912Z"
   },
   {
    "duration": 8,
    "start_time": "2021-10-14T14:28:32.518Z"
   },
   {
    "duration": 14,
    "start_time": "2021-10-14T14:30:02.417Z"
   },
   {
    "duration": 10,
    "start_time": "2021-10-14T14:32:13.305Z"
   },
   {
    "duration": 8,
    "start_time": "2021-10-14T14:35:18.660Z"
   },
   {
    "duration": 25,
    "start_time": "2021-10-14T14:38:32.346Z"
   },
   {
    "duration": 5,
    "start_time": "2021-10-14T14:39:40.521Z"
   },
   {
    "duration": 9,
    "start_time": "2021-10-14T14:41:20.633Z"
   },
   {
    "duration": 10,
    "start_time": "2021-10-14T14:41:41.831Z"
   },
   {
    "duration": 16,
    "start_time": "2021-10-14T14:43:01.959Z"
   },
   {
    "duration": 10,
    "start_time": "2021-10-14T14:43:33.995Z"
   },
   {
    "duration": 12,
    "start_time": "2021-10-14T14:43:59.076Z"
   },
   {
    "duration": 24,
    "start_time": "2021-10-14T14:44:20.806Z"
   },
   {
    "duration": 104,
    "start_time": "2021-10-14T14:46:26.840Z"
   },
   {
    "duration": 7,
    "start_time": "2021-10-14T14:47:19.130Z"
   },
   {
    "duration": 7,
    "start_time": "2021-10-14T14:48:58.459Z"
   },
   {
    "duration": 105,
    "start_time": "2021-10-14T14:49:54.422Z"
   },
   {
    "duration": 8,
    "start_time": "2021-10-14T14:52:01.595Z"
   },
   {
    "duration": 5,
    "start_time": "2021-10-14T14:59:25.999Z"
   },
   {
    "duration": 4,
    "start_time": "2021-10-14T15:00:23.842Z"
   },
   {
    "duration": 502,
    "start_time": "2021-10-14T15:07:51.089Z"
   },
   {
    "duration": 356,
    "start_time": "2021-10-14T15:18:51.856Z"
   },
   {
    "duration": 21,
    "start_time": "2021-10-14T15:19:09.210Z"
   },
   {
    "duration": 334,
    "start_time": "2021-10-14T15:35:31.257Z"
   },
   {
    "duration": 9,
    "start_time": "2021-10-14T15:35:39.942Z"
   },
   {
    "duration": 14,
    "start_time": "2021-10-14T15:35:43.782Z"
   },
   {
    "duration": 5,
    "start_time": "2021-10-14T15:36:30.656Z"
   },
   {
    "duration": 15,
    "start_time": "2021-10-14T15:36:31.398Z"
   },
   {
    "duration": 459,
    "start_time": "2021-10-14T15:41:41.629Z"
   },
   {
    "duration": 448,
    "start_time": "2021-10-14T15:42:46.364Z"
   },
   {
    "duration": 456,
    "start_time": "2021-10-14T15:43:11.112Z"
   },
   {
    "duration": 850,
    "start_time": "2021-10-14T15:44:11.191Z"
   },
   {
    "duration": 457,
    "start_time": "2021-10-14T15:44:27.463Z"
   },
   {
    "duration": 614,
    "start_time": "2021-10-14T15:44:55.358Z"
   },
   {
    "duration": 503,
    "start_time": "2021-10-14T15:45:08.382Z"
   },
   {
    "duration": 536,
    "start_time": "2021-10-14T15:45:20.477Z"
   },
   {
    "duration": 465,
    "start_time": "2021-10-14T15:46:15.800Z"
   },
   {
    "duration": 533,
    "start_time": "2021-10-14T15:46:22.980Z"
   },
   {
    "duration": 477,
    "start_time": "2021-10-14T15:47:13.100Z"
   },
   {
    "duration": 486,
    "start_time": "2021-10-14T15:47:32.684Z"
   },
   {
    "duration": 472,
    "start_time": "2021-10-14T15:48:10.820Z"
   },
   {
    "duration": 15,
    "start_time": "2021-10-14T16:01:02.265Z"
   },
   {
    "duration": 503,
    "start_time": "2021-10-14T16:01:13.978Z"
   },
   {
    "duration": 354,
    "start_time": "2021-10-14T16:01:49.193Z"
   },
   {
    "duration": 6,
    "start_time": "2021-10-14T16:01:55.605Z"
   },
   {
    "duration": 16,
    "start_time": "2021-10-14T16:01:57.249Z"
   },
   {
    "duration": 498,
    "start_time": "2021-10-14T16:03:10.425Z"
   },
   {
    "duration": 1575,
    "start_time": "2021-10-14T16:10:45.950Z"
   },
   {
    "duration": 12,
    "start_time": "2021-10-14T16:11:16.390Z"
   },
   {
    "duration": 347,
    "start_time": "2021-10-14T16:11:34.415Z"
   },
   {
    "duration": 119,
    "start_time": "2021-10-14T16:12:09.875Z"
   },
   {
    "duration": 11,
    "start_time": "2021-10-14T16:12:19.965Z"
   },
   {
    "duration": -926,
    "start_time": "2021-10-14T16:14:11.994Z"
   },
   {
    "duration": 16,
    "start_time": "2021-10-14T16:14:15.593Z"
   },
   {
    "duration": 5,
    "start_time": "2021-10-14T19:44:23.340Z"
   },
   {
    "duration": 27,
    "start_time": "2021-10-14T19:44:23.368Z"
   },
   {
    "duration": 11,
    "start_time": "2021-10-14T19:44:23.398Z"
   },
   {
    "duration": 8,
    "start_time": "2021-10-14T19:44:23.419Z"
   },
   {
    "duration": 14,
    "start_time": "2021-10-14T19:44:23.433Z"
   },
   {
    "duration": 17,
    "start_time": "2021-10-14T19:44:23.450Z"
   },
   {
    "duration": 39,
    "start_time": "2021-10-14T19:44:23.510Z"
   },
   {
    "duration": 54,
    "start_time": "2021-10-14T19:44:23.553Z"
   },
   {
    "duration": 10,
    "start_time": "2021-10-14T19:44:23.610Z"
   },
   {
    "duration": 8,
    "start_time": "2021-10-14T19:44:23.623Z"
   },
   {
    "duration": 13,
    "start_time": "2021-10-14T19:44:23.633Z"
   },
   {
    "duration": 7,
    "start_time": "2021-10-14T19:44:23.650Z"
   },
   {
    "duration": 45,
    "start_time": "2021-10-14T19:44:23.710Z"
   },
   {
    "duration": 5,
    "start_time": "2021-10-14T19:44:23.758Z"
   },
   {
    "duration": 7,
    "start_time": "2021-10-14T19:44:23.766Z"
   },
   {
    "duration": 11,
    "start_time": "2021-10-14T19:44:23.776Z"
   },
   {
    "duration": 29,
    "start_time": "2021-10-14T19:44:23.789Z"
   },
   {
    "duration": 13,
    "start_time": "2021-10-14T19:44:23.821Z"
   },
   {
    "duration": 15,
    "start_time": "2021-10-14T19:44:23.838Z"
   },
   {
    "duration": 83,
    "start_time": "2021-10-14T19:44:23.856Z"
   },
   {
    "duration": 7,
    "start_time": "2021-10-14T19:44:23.942Z"
   },
   {
    "duration": 7,
    "start_time": "2021-10-14T19:44:23.952Z"
   },
   {
    "duration": 43,
    "start_time": "2021-10-14T19:44:23.962Z"
   },
   {
    "duration": 15,
    "start_time": "2021-10-14T19:44:24.010Z"
   },
   {
    "duration": 8,
    "start_time": "2021-10-14T19:44:24.028Z"
   },
   {
    "duration": 28,
    "start_time": "2021-10-14T19:44:24.038Z"
   },
   {
    "duration": 37,
    "start_time": "2021-10-14T19:44:24.069Z"
   },
   {
    "duration": 10,
    "start_time": "2021-10-14T19:44:24.109Z"
   },
   {
    "duration": 13,
    "start_time": "2021-10-14T19:44:24.122Z"
   },
   {
    "duration": 19,
    "start_time": "2021-10-14T19:44:24.138Z"
   },
   {
    "duration": 51,
    "start_time": "2021-10-14T19:44:24.160Z"
   },
   {
    "duration": 14,
    "start_time": "2021-10-14T19:44:24.216Z"
   },
   {
    "duration": 22,
    "start_time": "2021-10-14T19:44:24.236Z"
   },
   {
    "duration": 49,
    "start_time": "2021-10-14T19:44:24.261Z"
   },
   {
    "duration": 11,
    "start_time": "2021-10-14T19:44:24.317Z"
   },
   {
    "duration": 11,
    "start_time": "2021-10-14T19:44:24.330Z"
   },
   {
    "duration": 15,
    "start_time": "2021-10-14T19:44:24.343Z"
   },
   {
    "duration": 6,
    "start_time": "2021-10-14T19:44:24.360Z"
   },
   {
    "duration": 60,
    "start_time": "2021-10-14T19:44:24.368Z"
   },
   {
    "duration": 5,
    "start_time": "2021-10-14T19:44:24.431Z"
   },
   {
    "duration": 20,
    "start_time": "2021-10-14T19:44:24.438Z"
   },
   {
    "duration": 525,
    "start_time": "2021-10-14T19:44:24.461Z"
   },
   {
    "duration": 16,
    "start_time": "2021-10-14T19:44:24.990Z"
   },
   {
    "duration": 24,
    "start_time": "2021-10-14T19:44:25.008Z"
   },
   {
    "duration": 490,
    "start_time": "2021-10-14T19:44:25.035Z"
   },
   {
    "duration": 5,
    "start_time": "2021-10-14T19:53:50.315Z"
   },
   {
    "duration": 22,
    "start_time": "2021-10-14T19:53:50.910Z"
   },
   {
    "duration": 28,
    "start_time": "2021-10-14T19:54:23.681Z"
   },
   {
    "duration": 6,
    "start_time": "2021-10-14T19:54:44.063Z"
   },
   {
    "duration": 30,
    "start_time": "2021-10-14T19:54:44.076Z"
   },
   {
    "duration": 5,
    "start_time": "2021-10-14T19:54:44.109Z"
   },
   {
    "duration": 7,
    "start_time": "2021-10-14T19:54:44.117Z"
   },
   {
    "duration": 13,
    "start_time": "2021-10-14T19:54:44.127Z"
   },
   {
    "duration": 12,
    "start_time": "2021-10-14T19:54:44.142Z"
   },
   {
    "duration": 72,
    "start_time": "2021-10-14T19:54:44.157Z"
   },
   {
    "duration": 17,
    "start_time": "2021-10-14T19:54:44.232Z"
   },
   {
    "duration": 52,
    "start_time": "2021-10-14T19:54:44.252Z"
   },
   {
    "duration": 7,
    "start_time": "2021-10-14T19:54:44.307Z"
   },
   {
    "duration": 7,
    "start_time": "2021-10-14T19:54:44.317Z"
   },
   {
    "duration": 7,
    "start_time": "2021-10-14T19:54:44.327Z"
   },
   {
    "duration": 72,
    "start_time": "2021-10-14T19:54:44.336Z"
   },
   {
    "duration": 5,
    "start_time": "2021-10-14T19:54:44.410Z"
   },
   {
    "duration": 10,
    "start_time": "2021-10-14T19:54:44.418Z"
   },
   {
    "duration": 11,
    "start_time": "2021-10-14T19:54:44.431Z"
   },
   {
    "duration": 58,
    "start_time": "2021-10-14T19:54:44.445Z"
   },
   {
    "duration": 11,
    "start_time": "2021-10-14T19:54:44.505Z"
   },
   {
    "duration": 12,
    "start_time": "2021-10-14T19:54:44.519Z"
   },
   {
    "duration": 67,
    "start_time": "2021-10-14T19:54:44.533Z"
   },
   {
    "duration": 7,
    "start_time": "2021-10-14T19:54:44.603Z"
   },
   {
    "duration": 7,
    "start_time": "2021-10-14T19:54:44.614Z"
   },
   {
    "duration": 7,
    "start_time": "2021-10-14T19:54:44.624Z"
   },
   {
    "duration": 9,
    "start_time": "2021-10-14T19:54:44.633Z"
   },
   {
    "duration": 59,
    "start_time": "2021-10-14T19:54:44.645Z"
   },
   {
    "duration": 25,
    "start_time": "2021-10-14T19:54:44.706Z"
   },
   {
    "duration": 6,
    "start_time": "2021-10-14T19:54:44.733Z"
   },
   {
    "duration": 10,
    "start_time": "2021-10-14T19:54:44.741Z"
   },
   {
    "duration": 11,
    "start_time": "2021-10-14T19:54:44.753Z"
   },
   {
    "duration": 46,
    "start_time": "2021-10-14T19:54:44.765Z"
   },
   {
    "duration": 10,
    "start_time": "2021-10-14T19:54:44.814Z"
   },
   {
    "duration": 11,
    "start_time": "2021-10-14T19:54:44.827Z"
   },
   {
    "duration": 62,
    "start_time": "2021-10-14T19:54:44.841Z"
   },
   {
    "duration": 9,
    "start_time": "2021-10-14T19:54:44.906Z"
   },
   {
    "duration": 9,
    "start_time": "2021-10-14T19:54:44.918Z"
   },
   {
    "duration": 9,
    "start_time": "2021-10-14T19:54:44.930Z"
   },
   {
    "duration": 61,
    "start_time": "2021-10-14T19:54:44.944Z"
   },
   {
    "duration": 20,
    "start_time": "2021-10-14T19:54:45.009Z"
   },
   {
    "duration": 30,
    "start_time": "2021-10-14T19:54:45.032Z"
   },
   {
    "duration": 36,
    "start_time": "2021-10-14T19:54:45.064Z"
   },
   {
    "duration": 16,
    "start_time": "2021-10-14T19:54:45.103Z"
   },
   {
    "duration": 509,
    "start_time": "2021-10-14T19:54:45.122Z"
   },
   {
    "duration": 7,
    "start_time": "2021-10-14T19:54:45.634Z"
   },
   {
    "duration": 32,
    "start_time": "2021-10-14T19:54:45.643Z"
   },
   {
    "duration": 493,
    "start_time": "2021-10-14T19:54:45.677Z"
   },
   {
    "duration": 13,
    "start_time": "2021-10-14T20:16:48.266Z"
   },
   {
    "duration": 14,
    "start_time": "2021-10-14T20:17:06.497Z"
   },
   {
    "duration": 21,
    "start_time": "2021-10-14T20:17:30.059Z"
   },
   {
    "duration": 16,
    "start_time": "2021-10-14T20:19:46.338Z"
   },
   {
    "duration": 7959,
    "start_time": "2021-10-14T20:24:16.142Z"
   },
   {
    "duration": 353,
    "start_time": "2021-10-14T20:24:42.560Z"
   },
   {
    "duration": 357,
    "start_time": "2021-10-14T20:25:15.045Z"
   },
   {
    "duration": 381,
    "start_time": "2021-10-14T20:26:30.227Z"
   },
   {
    "duration": 369,
    "start_time": "2021-10-14T20:27:50.882Z"
   },
   {
    "duration": 274,
    "start_time": "2021-10-14T20:32:40.095Z"
   },
   {
    "duration": 20,
    "start_time": "2021-10-14T20:41:50.149Z"
   },
   {
    "duration": 19,
    "start_time": "2021-10-14T20:43:22.769Z"
   },
   {
    "duration": 14,
    "start_time": "2021-10-14T20:49:05.116Z"
   },
   {
    "duration": 14,
    "start_time": "2021-10-14T20:50:59.019Z"
   },
   {
    "duration": 329,
    "start_time": "2021-10-14T20:53:08.125Z"
   },
   {
    "duration": 343,
    "start_time": "2021-10-14T20:54:08.008Z"
   },
   {
    "duration": 450,
    "start_time": "2021-10-14T20:54:14.310Z"
   },
   {
    "duration": 474,
    "start_time": "2021-10-14T20:54:26.222Z"
   },
   {
    "duration": 387,
    "start_time": "2021-10-14T20:54:42.485Z"
   },
   {
    "duration": 546,
    "start_time": "2021-10-14T20:54:51.685Z"
   },
   {
    "duration": 426,
    "start_time": "2021-10-14T20:55:01.974Z"
   },
   {
    "duration": 472,
    "start_time": "2021-10-14T20:56:10.795Z"
   },
   {
    "duration": 503,
    "start_time": "2021-10-14T20:56:44.360Z"
   },
   {
    "duration": 510,
    "start_time": "2021-10-14T20:56:57.495Z"
   },
   {
    "duration": 456,
    "start_time": "2021-10-14T20:57:06.023Z"
   },
   {
    "duration": 688,
    "start_time": "2021-10-14T20:57:23.315Z"
   },
   {
    "duration": 407,
    "start_time": "2021-10-14T20:57:33.516Z"
   },
   {
    "duration": 442,
    "start_time": "2021-10-14T20:57:58.824Z"
   },
   {
    "duration": 520,
    "start_time": "2021-10-14T20:58:07.729Z"
   },
   {
    "duration": 533,
    "start_time": "2021-10-14T20:58:24.761Z"
   },
   {
    "duration": 456,
    "start_time": "2021-10-14T21:01:23.092Z"
   },
   {
    "duration": 443,
    "start_time": "2021-10-14T21:01:55.430Z"
   },
   {
    "duration": 439,
    "start_time": "2021-10-14T21:02:06.464Z"
   },
   {
    "duration": 438,
    "start_time": "2021-10-14T21:03:00.775Z"
   },
   {
    "duration": 433,
    "start_time": "2021-10-14T21:04:07.919Z"
   },
   {
    "duration": 431,
    "start_time": "2021-10-14T21:04:55.574Z"
   },
   {
    "duration": 450,
    "start_time": "2021-10-14T21:05:38.067Z"
   },
   {
    "duration": 479,
    "start_time": "2021-10-14T21:05:50.235Z"
   },
   {
    "duration": 13,
    "start_time": "2021-10-14T21:43:08.787Z"
   },
   {
    "duration": 13,
    "start_time": "2021-10-14T21:43:54.312Z"
   },
   {
    "duration": 14,
    "start_time": "2021-10-14T21:48:52.149Z"
   },
   {
    "duration": 436,
    "start_time": "2021-10-14T21:51:37.196Z"
   },
   {
    "duration": 437,
    "start_time": "2021-10-14T21:52:41.311Z"
   },
   {
    "duration": 426,
    "start_time": "2021-10-14T21:53:27.358Z"
   },
   {
    "duration": 20,
    "start_time": "2021-10-14T22:02:58.315Z"
   },
   {
    "duration": 17,
    "start_time": "2021-10-14T22:09:57.547Z"
   },
   {
    "duration": 17,
    "start_time": "2021-10-14T22:10:54.891Z"
   },
   {
    "duration": 559,
    "start_time": "2021-10-14T22:14:00.367Z"
   },
   {
    "duration": 514,
    "start_time": "2021-10-14T22:14:29.414Z"
   },
   {
    "duration": 533,
    "start_time": "2021-10-14T22:16:03.363Z"
   },
   {
    "duration": 20,
    "start_time": "2021-10-14T22:24:19.474Z"
   },
   {
    "duration": 12,
    "start_time": "2021-10-14T22:55:17.010Z"
   },
   {
    "duration": 15,
    "start_time": "2021-10-14T22:57:13.486Z"
   },
   {
    "duration": 15,
    "start_time": "2021-10-14T23:00:10.244Z"
   },
   {
    "duration": 16,
    "start_time": "2021-10-14T23:01:20.096Z"
   },
   {
    "duration": 438,
    "start_time": "2021-10-14T23:04:55.102Z"
   },
   {
    "duration": 9345,
    "start_time": "2021-10-14T23:05:33.636Z"
   },
   {
    "duration": 6,
    "start_time": "2021-10-14T23:06:26.356Z"
   },
   {
    "duration": 29,
    "start_time": "2021-10-14T23:06:26.364Z"
   },
   {
    "duration": 5,
    "start_time": "2021-10-14T23:06:26.395Z"
   },
   {
    "duration": 7,
    "start_time": "2021-10-14T23:06:26.403Z"
   },
   {
    "duration": 14,
    "start_time": "2021-10-14T23:06:26.412Z"
   },
   {
    "duration": 20,
    "start_time": "2021-10-14T23:06:26.429Z"
   },
   {
    "duration": 58,
    "start_time": "2021-10-14T23:06:26.452Z"
   },
   {
    "duration": 16,
    "start_time": "2021-10-14T23:06:26.512Z"
   },
   {
    "duration": 6,
    "start_time": "2021-10-14T23:06:26.531Z"
   },
   {
    "duration": 8,
    "start_time": "2021-10-14T23:06:26.539Z"
   },
   {
    "duration": 7,
    "start_time": "2021-10-14T23:06:26.601Z"
   },
   {
    "duration": 8,
    "start_time": "2021-10-14T23:06:26.610Z"
   },
   {
    "duration": 82,
    "start_time": "2021-10-14T23:06:26.620Z"
   },
   {
    "duration": 5,
    "start_time": "2021-10-14T23:06:26.705Z"
   },
   {
    "duration": 9,
    "start_time": "2021-10-14T23:06:26.712Z"
   },
   {
    "duration": 13,
    "start_time": "2021-10-14T23:06:26.723Z"
   },
   {
    "duration": 20,
    "start_time": "2021-10-14T23:06:26.739Z"
   },
   {
    "duration": 45,
    "start_time": "2021-10-14T23:06:26.762Z"
   },
   {
    "duration": 21,
    "start_time": "2021-10-14T23:06:26.809Z"
   },
   {
    "duration": 39,
    "start_time": "2021-10-14T23:06:26.832Z"
   },
   {
    "duration": 30,
    "start_time": "2021-10-14T23:06:26.874Z"
   },
   {
    "duration": 13,
    "start_time": "2021-10-14T23:06:26.906Z"
   },
   {
    "duration": 12,
    "start_time": "2021-10-14T23:06:26.921Z"
   },
   {
    "duration": 16,
    "start_time": "2021-10-14T23:06:26.936Z"
   },
   {
    "duration": 49,
    "start_time": "2021-10-14T23:06:26.954Z"
   },
   {
    "duration": 26,
    "start_time": "2021-10-14T23:06:27.005Z"
   },
   {
    "duration": 14,
    "start_time": "2021-10-14T23:06:27.034Z"
   },
   {
    "duration": 9,
    "start_time": "2021-10-14T23:06:27.050Z"
   },
   {
    "duration": 11,
    "start_time": "2021-10-14T23:06:27.062Z"
   },
   {
    "duration": 11,
    "start_time": "2021-10-14T23:06:27.101Z"
   },
   {
    "duration": 11,
    "start_time": "2021-10-14T23:06:27.117Z"
   },
   {
    "duration": 14,
    "start_time": "2021-10-14T23:06:27.131Z"
   },
   {
    "duration": 65,
    "start_time": "2021-10-14T23:06:27.147Z"
   },
   {
    "duration": 10,
    "start_time": "2021-10-14T23:06:27.215Z"
   },
   {
    "duration": 7,
    "start_time": "2021-10-14T23:06:27.228Z"
   },
   {
    "duration": 7,
    "start_time": "2021-10-14T23:06:27.238Z"
   },
   {
    "duration": 54,
    "start_time": "2021-10-14T23:06:27.248Z"
   },
   {
    "duration": 4,
    "start_time": "2021-10-14T23:06:27.305Z"
   },
   {
    "duration": 31,
    "start_time": "2021-10-14T23:06:27.311Z"
   },
   {
    "duration": 7,
    "start_time": "2021-10-14T23:06:27.345Z"
   },
   {
    "duration": 61,
    "start_time": "2021-10-14T23:06:27.355Z"
   },
   {
    "duration": 516,
    "start_time": "2021-10-14T23:06:27.419Z"
   },
   {
    "duration": 6,
    "start_time": "2021-10-14T23:06:27.938Z"
   },
   {
    "duration": 20,
    "start_time": "2021-10-14T23:06:27.946Z"
   },
   {
    "duration": 614,
    "start_time": "2021-10-14T23:06:27.969Z"
   },
   {
    "duration": 20,
    "start_time": "2021-10-14T23:06:28.585Z"
   },
   {
    "duration": 373,
    "start_time": "2021-10-14T23:06:28.607Z"
   },
   {
    "duration": 302,
    "start_time": "2021-10-14T23:06:28.982Z"
   },
   {
    "duration": 28,
    "start_time": "2021-10-14T23:06:29.288Z"
   },
   {
    "duration": 18,
    "start_time": "2021-10-14T23:06:29.319Z"
   },
   {
    "duration": 16,
    "start_time": "2021-10-14T23:06:29.339Z"
   },
   {
    "duration": 475,
    "start_time": "2021-10-14T23:06:29.358Z"
   },
   {
    "duration": 14,
    "start_time": "2021-10-14T23:06:29.835Z"
   },
   {
    "duration": 16,
    "start_time": "2021-10-14T23:06:29.852Z"
   },
   {
    "duration": 466,
    "start_time": "2021-10-14T23:06:29.870Z"
   },
   {
    "duration": 21,
    "start_time": "2021-10-14T23:06:30.338Z"
   },
   {
    "duration": 40,
    "start_time": "2021-10-14T23:06:30.362Z"
   },
   {
    "duration": 528,
    "start_time": "2021-10-14T23:06:30.405Z"
   },
   {
    "duration": 17,
    "start_time": "2021-10-14T23:06:30.936Z"
   },
   {
    "duration": 37,
    "start_time": "2021-10-14T23:06:30.955Z"
   },
   {
    "duration": 35,
    "start_time": "2021-10-14T23:06:30.994Z"
   },
   {
    "duration": 444,
    "start_time": "2021-10-14T23:06:31.031Z"
   },
   {
    "duration": 450,
    "start_time": "2021-10-14T23:07:58.768Z"
   },
   {
    "duration": 15,
    "start_time": "2021-10-14T23:08:46.062Z"
   },
   {
    "duration": 16,
    "start_time": "2021-10-14T23:08:55.398Z"
   },
   {
    "duration": 16,
    "start_time": "2021-10-14T23:09:00.370Z"
   },
   {
    "duration": 437,
    "start_time": "2021-10-14T23:09:03.542Z"
   },
   {
    "duration": 16,
    "start_time": "2021-10-14T23:09:21.477Z"
   },
   {
    "duration": 17,
    "start_time": "2021-10-14T23:09:23.573Z"
   },
   {
    "duration": 17,
    "start_time": "2021-10-14T23:09:25.425Z"
   },
   {
    "duration": 431,
    "start_time": "2021-10-14T23:09:27.277Z"
   },
   {
    "duration": 21,
    "start_time": "2021-10-14T23:16:37.467Z"
   },
   {
    "duration": 15,
    "start_time": "2021-10-14T23:19:28.240Z"
   },
   {
    "duration": 14,
    "start_time": "2021-10-14T23:20:57.707Z"
   },
   {
    "duration": 531,
    "start_time": "2021-10-14T23:23:19.700Z"
   },
   {
    "duration": 387,
    "start_time": "2021-10-15T11:11:11.442Z"
   },
   {
    "duration": 1512,
    "start_time": "2021-10-15T11:11:27.313Z"
   },
   {
    "duration": 31,
    "start_time": "2021-10-15T11:11:28.828Z"
   },
   {
    "duration": 16,
    "start_time": "2021-10-15T11:11:28.863Z"
   },
   {
    "duration": 12,
    "start_time": "2021-10-15T11:11:28.882Z"
   },
   {
    "duration": 13,
    "start_time": "2021-10-15T11:11:28.901Z"
   },
   {
    "duration": 11,
    "start_time": "2021-10-15T11:11:28.917Z"
   },
   {
    "duration": 32,
    "start_time": "2021-10-15T11:11:28.931Z"
   },
   {
    "duration": 23,
    "start_time": "2021-10-15T11:11:29.001Z"
   },
   {
    "duration": 9,
    "start_time": "2021-10-15T11:11:29.028Z"
   },
   {
    "duration": 65,
    "start_time": "2021-10-15T11:11:29.041Z"
   },
   {
    "duration": 12,
    "start_time": "2021-10-15T11:11:29.108Z"
   },
   {
    "duration": 18,
    "start_time": "2021-10-15T11:11:29.122Z"
   },
   {
    "duration": 60,
    "start_time": "2021-10-15T11:11:29.142Z"
   },
   {
    "duration": 6,
    "start_time": "2021-10-15T11:11:29.205Z"
   },
   {
    "duration": 19,
    "start_time": "2021-10-15T11:11:29.213Z"
   },
   {
    "duration": 12,
    "start_time": "2021-10-15T11:11:29.235Z"
   },
   {
    "duration": 18,
    "start_time": "2021-10-15T11:11:29.250Z"
   },
   {
    "duration": 42,
    "start_time": "2021-10-15T11:11:29.270Z"
   },
   {
    "duration": 23,
    "start_time": "2021-10-15T11:11:29.314Z"
   },
   {
    "duration": 35,
    "start_time": "2021-10-15T11:11:29.339Z"
   },
   {
    "duration": 30,
    "start_time": "2021-10-15T11:11:29.376Z"
   },
   {
    "duration": 15,
    "start_time": "2021-10-15T11:11:29.408Z"
   },
   {
    "duration": 14,
    "start_time": "2021-10-15T11:11:29.429Z"
   },
   {
    "duration": 20,
    "start_time": "2021-10-15T11:11:29.448Z"
   },
   {
    "duration": 36,
    "start_time": "2021-10-15T11:11:29.471Z"
   },
   {
    "duration": 24,
    "start_time": "2021-10-15T11:11:29.510Z"
   },
   {
    "duration": 6,
    "start_time": "2021-10-15T11:11:29.536Z"
   },
   {
    "duration": 8,
    "start_time": "2021-10-15T11:11:29.544Z"
   },
   {
    "duration": 51,
    "start_time": "2021-10-15T11:11:29.554Z"
   },
   {
    "duration": 15,
    "start_time": "2021-10-15T11:11:29.607Z"
   },
   {
    "duration": 17,
    "start_time": "2021-10-15T11:11:29.625Z"
   },
   {
    "duration": 11,
    "start_time": "2021-10-15T11:11:29.645Z"
   },
   {
    "duration": 52,
    "start_time": "2021-10-15T11:11:29.658Z"
   },
   {
    "duration": 8,
    "start_time": "2021-10-15T11:11:29.713Z"
   },
   {
    "duration": 24,
    "start_time": "2021-10-15T11:11:29.723Z"
   },
   {
    "duration": 19,
    "start_time": "2021-10-15T11:11:29.750Z"
   },
   {
    "duration": 18,
    "start_time": "2021-10-15T11:11:29.771Z"
   },
   {
    "duration": 10,
    "start_time": "2021-10-15T11:11:29.800Z"
   },
   {
    "duration": 45,
    "start_time": "2021-10-15T11:11:29.813Z"
   },
   {
    "duration": 8,
    "start_time": "2021-10-15T11:11:29.861Z"
   },
   {
    "duration": 31,
    "start_time": "2021-10-15T11:11:29.872Z"
   },
   {
    "duration": 507,
    "start_time": "2021-10-15T11:11:29.905Z"
   },
   {
    "duration": 7,
    "start_time": "2021-10-15T11:11:30.414Z"
   },
   {
    "duration": 23,
    "start_time": "2021-10-15T11:11:30.423Z"
   },
   {
    "duration": 477,
    "start_time": "2021-10-15T11:11:30.449Z"
   },
   {
    "duration": 16,
    "start_time": "2021-10-15T11:11:30.929Z"
   },
   {
    "duration": 393,
    "start_time": "2021-10-15T11:11:30.948Z"
   },
   {
    "duration": 299,
    "start_time": "2021-10-15T11:11:31.344Z"
   },
   {
    "duration": 19,
    "start_time": "2021-10-15T11:11:31.645Z"
   },
   {
    "duration": 40,
    "start_time": "2021-10-15T11:11:31.666Z"
   },
   {
    "duration": 17,
    "start_time": "2021-10-15T11:11:31.709Z"
   },
   {
    "duration": 477,
    "start_time": "2021-10-15T11:11:31.729Z"
   },
   {
    "duration": 14,
    "start_time": "2021-10-15T11:11:32.209Z"
   },
   {
    "duration": 17,
    "start_time": "2021-10-15T11:11:32.226Z"
   },
   {
    "duration": 462,
    "start_time": "2021-10-15T11:11:32.245Z"
   },
   {
    "duration": 21,
    "start_time": "2021-10-15T11:11:32.710Z"
   },
   {
    "duration": 18,
    "start_time": "2021-10-15T11:11:32.733Z"
   },
   {
    "duration": 570,
    "start_time": "2021-10-15T11:11:32.754Z"
   },
   {
    "duration": 16,
    "start_time": "2021-10-15T11:11:33.326Z"
   },
   {
    "duration": 23,
    "start_time": "2021-10-15T11:11:33.345Z"
   },
   {
    "duration": 38,
    "start_time": "2021-10-15T11:11:33.370Z"
   },
   {
    "duration": 548,
    "start_time": "2021-10-15T11:11:33.411Z"
   },
   {
    "duration": 19,
    "start_time": "2021-10-15T11:11:33.962Z"
   },
   {
    "duration": 30,
    "start_time": "2021-10-15T11:11:33.983Z"
   },
   {
    "duration": 529,
    "start_time": "2021-10-15T11:11:34.016Z"
   },
   {
    "duration": 209,
    "start_time": "2021-10-15T11:11:34.547Z"
   },
   {
    "duration": 212,
    "start_time": "2021-10-15T11:12:34.646Z"
   },
   {
    "duration": 210,
    "start_time": "2021-10-15T11:13:01.945Z"
   },
   {
    "duration": 476,
    "start_time": "2021-10-15T11:14:00.318Z"
   },
   {
    "duration": 474,
    "start_time": "2021-10-15T11:14:39.304Z"
   },
   {
    "duration": 511,
    "start_time": "2021-10-15T11:15:27.769Z"
   },
   {
    "duration": 503,
    "start_time": "2021-10-15T11:15:40.087Z"
   },
   {
    "duration": 494,
    "start_time": "2021-10-15T11:17:53.520Z"
   },
   {
    "duration": 6,
    "start_time": "2021-10-15T11:30:35.678Z"
   },
   {
    "duration": 495,
    "start_time": "2021-10-15T11:42:34.551Z"
   },
   {
    "duration": 480,
    "start_time": "2021-10-15T11:44:18.257Z"
   },
   {
    "duration": 509,
    "start_time": "2021-10-15T11:44:37.712Z"
   },
   {
    "duration": 561,
    "start_time": "2021-10-15T11:45:00.680Z"
   },
   {
    "duration": 621,
    "start_time": "2021-10-15T11:45:24.727Z"
   },
   {
    "duration": 6,
    "start_time": "2021-10-15T11:50:30.926Z"
   },
   {
    "duration": 15,
    "start_time": "2021-10-15T12:09:23.584Z"
   },
   {
    "duration": 118,
    "start_time": "2021-10-15T12:17:47.557Z"
   },
   {
    "duration": 101,
    "start_time": "2021-10-15T12:18:31.880Z"
   },
   {
    "duration": 108,
    "start_time": "2021-10-15T12:20:33.994Z"
   },
   {
    "duration": 14,
    "start_time": "2021-10-15T12:22:41.026Z"
   },
   {
    "duration": 101,
    "start_time": "2021-10-15T12:24:12.070Z"
   },
   {
    "duration": 32,
    "start_time": "2021-10-15T12:26:14.848Z"
   },
   {
    "duration": 30,
    "start_time": "2021-10-15T12:28:51.360Z"
   },
   {
    "duration": 122,
    "start_time": "2021-10-15T12:30:07.094Z"
   },
   {
    "duration": 111,
    "start_time": "2021-10-15T12:31:24.798Z"
   },
   {
    "duration": 30,
    "start_time": "2021-10-15T12:33:08.732Z"
   },
   {
    "duration": 112,
    "start_time": "2021-10-15T12:35:36.151Z"
   },
   {
    "duration": 30,
    "start_time": "2021-10-15T12:35:38.364Z"
   },
   {
    "duration": 114,
    "start_time": "2021-10-15T12:35:54.559Z"
   },
   {
    "duration": 56,
    "start_time": "2021-10-15T12:43:45.044Z"
   },
   {
    "duration": 127,
    "start_time": "2021-10-15T12:53:06.906Z"
   },
   {
    "duration": 116,
    "start_time": "2021-10-15T12:53:56.538Z"
   },
   {
    "duration": 153,
    "start_time": "2021-10-15T12:58:01.851Z"
   },
   {
    "duration": 10,
    "start_time": "2021-10-15T13:07:35.533Z"
   },
   {
    "duration": 9,
    "start_time": "2021-10-15T13:07:41.482Z"
   },
   {
    "duration": 429,
    "start_time": "2021-10-15T13:08:29.948Z"
   },
   {
    "duration": 5,
    "start_time": "2021-10-15T13:09:40.487Z"
   },
   {
    "duration": 10,
    "start_time": "2021-10-15T13:09:48.897Z"
   },
   {
    "duration": 6,
    "start_time": "2021-10-15T13:09:50.835Z"
   },
   {
    "duration": 9,
    "start_time": "2021-10-15T13:15:53.964Z"
   },
   {
    "duration": 10,
    "start_time": "2021-10-15T13:16:05.072Z"
   },
   {
    "duration": 9,
    "start_time": "2021-10-15T13:16:15.766Z"
   },
   {
    "duration": 5,
    "start_time": "2021-10-15T21:59:35.629Z"
   },
   {
    "duration": 26,
    "start_time": "2021-10-15T21:59:35.642Z"
   },
   {
    "duration": 8,
    "start_time": "2021-10-15T21:59:35.672Z"
   },
   {
    "duration": 10,
    "start_time": "2021-10-15T21:59:35.684Z"
   },
   {
    "duration": 13,
    "start_time": "2021-10-15T21:59:35.701Z"
   },
   {
    "duration": 18,
    "start_time": "2021-10-15T21:59:35.717Z"
   },
   {
    "duration": 33,
    "start_time": "2021-10-15T21:59:35.738Z"
   },
   {
    "duration": 17,
    "start_time": "2021-10-15T21:59:35.801Z"
   },
   {
    "duration": 7,
    "start_time": "2021-10-15T21:59:35.820Z"
   },
   {
    "duration": 7,
    "start_time": "2021-10-15T21:59:35.830Z"
   },
   {
    "duration": 66,
    "start_time": "2021-10-15T21:59:35.839Z"
   },
   {
    "duration": 9,
    "start_time": "2021-10-15T21:59:35.907Z"
   },
   {
    "duration": 91,
    "start_time": "2021-10-15T21:59:35.918Z"
   },
   {
    "duration": 5,
    "start_time": "2021-10-15T21:59:36.012Z"
   },
   {
    "duration": 9,
    "start_time": "2021-10-15T21:59:36.020Z"
   },
   {
    "duration": 11,
    "start_time": "2021-10-15T21:59:36.033Z"
   },
   {
    "duration": 59,
    "start_time": "2021-10-15T21:59:36.047Z"
   },
   {
    "duration": 14,
    "start_time": "2021-10-15T21:59:36.109Z"
   },
   {
    "duration": 15,
    "start_time": "2021-10-15T21:59:36.126Z"
   },
   {
    "duration": 77,
    "start_time": "2021-10-15T21:59:36.144Z"
   },
   {
    "duration": 6,
    "start_time": "2021-10-15T21:59:36.224Z"
   },
   {
    "duration": 8,
    "start_time": "2021-10-15T21:59:36.233Z"
   },
   {
    "duration": 8,
    "start_time": "2021-10-15T21:59:36.243Z"
   },
   {
    "duration": 10,
    "start_time": "2021-10-15T21:59:36.301Z"
   },
   {
    "duration": 7,
    "start_time": "2021-10-15T21:59:36.313Z"
   },
   {
    "duration": 27,
    "start_time": "2021-10-15T21:59:36.323Z"
   },
   {
    "duration": 9,
    "start_time": "2021-10-15T21:59:36.352Z"
   },
   {
    "duration": 39,
    "start_time": "2021-10-15T21:59:36.363Z"
   },
   {
    "duration": 10,
    "start_time": "2021-10-15T21:59:36.407Z"
   },
   {
    "duration": 10,
    "start_time": "2021-10-15T21:59:36.421Z"
   },
   {
    "duration": 10,
    "start_time": "2021-10-15T21:59:36.434Z"
   },
   {
    "duration": 55,
    "start_time": "2021-10-15T21:59:36.447Z"
   },
   {
    "duration": 24,
    "start_time": "2021-10-15T21:59:36.505Z"
   },
   {
    "duration": 8,
    "start_time": "2021-10-15T21:59:36.531Z"
   },
   {
    "duration": 6,
    "start_time": "2021-10-15T21:59:36.541Z"
   },
   {
    "duration": 54,
    "start_time": "2021-10-15T21:59:36.550Z"
   },
   {
    "duration": 5,
    "start_time": "2021-10-15T21:59:36.606Z"
   },
   {
    "duration": 5,
    "start_time": "2021-10-15T21:59:36.614Z"
   },
   {
    "duration": 29,
    "start_time": "2021-10-15T21:59:36.621Z"
   },
   {
    "duration": 6,
    "start_time": "2021-10-15T21:59:36.700Z"
   },
   {
    "duration": 17,
    "start_time": "2021-10-15T21:59:36.708Z"
   },
   {
    "duration": 524,
    "start_time": "2021-10-15T21:59:36.727Z"
   },
   {
    "duration": 6,
    "start_time": "2021-10-15T21:59:37.254Z"
   },
   {
    "duration": 37,
    "start_time": "2021-10-15T21:59:37.263Z"
   },
   {
    "duration": 472,
    "start_time": "2021-10-15T21:59:37.303Z"
   },
   {
    "duration": 32,
    "start_time": "2021-10-15T21:59:37.777Z"
   },
   {
    "duration": 376,
    "start_time": "2021-10-15T21:59:37.812Z"
   },
   {
    "duration": 302,
    "start_time": "2021-10-15T21:59:38.199Z"
   },
   {
    "duration": 20,
    "start_time": "2021-10-15T21:59:38.505Z"
   },
   {
    "duration": 14,
    "start_time": "2021-10-15T21:59:38.528Z"
   },
   {
    "duration": 15,
    "start_time": "2021-10-15T21:59:38.544Z"
   },
   {
    "duration": 508,
    "start_time": "2021-10-15T21:59:38.561Z"
   },
   {
    "duration": 14,
    "start_time": "2021-10-15T21:59:39.072Z"
   },
   {
    "duration": 30,
    "start_time": "2021-10-15T21:59:39.088Z"
   },
   {
    "duration": 547,
    "start_time": "2021-10-15T21:59:39.120Z"
   },
   {
    "duration": 30,
    "start_time": "2021-10-15T21:59:39.670Z"
   },
   {
    "duration": 17,
    "start_time": "2021-10-15T21:59:39.702Z"
   },
   {
    "duration": 521,
    "start_time": "2021-10-15T21:59:39.721Z"
   },
   {
    "duration": 15,
    "start_time": "2021-10-15T21:59:40.244Z"
   },
   {
    "duration": 39,
    "start_time": "2021-10-15T21:59:40.261Z"
   },
   {
    "duration": 16,
    "start_time": "2021-10-15T21:59:40.303Z"
   },
   {
    "duration": 443,
    "start_time": "2021-10-15T21:59:40.322Z"
   },
   {
    "duration": 35,
    "start_time": "2021-10-15T21:59:40.767Z"
   },
   {
    "duration": 16,
    "start_time": "2021-10-15T21:59:40.805Z"
   },
   {
    "duration": 520,
    "start_time": "2021-10-15T21:59:40.824Z"
   },
   {
    "duration": 242,
    "start_time": "2021-10-15T21:59:41.346Z"
   },
   {
    "duration": 496,
    "start_time": "2021-10-15T21:59:41.591Z"
   },
   {
    "duration": 13,
    "start_time": "2021-10-15T21:59:42.089Z"
   },
   {
    "duration": 532,
    "start_time": "2021-10-15T21:59:42.104Z"
   },
   {
    "duration": 5,
    "start_time": "2021-10-15T21:59:42.639Z"
   },
   {
    "duration": 20,
    "start_time": "2021-10-15T21:59:42.646Z"
   },
   {
    "duration": 121,
    "start_time": "2021-10-15T21:59:42.669Z"
   },
   {
    "duration": 20,
    "start_time": "2021-10-15T21:59:42.792Z"
   },
   {
    "duration": 123,
    "start_time": "2021-10-15T21:59:42.814Z"
   },
   {
    "duration": 32,
    "start_time": "2021-10-15T21:59:42.939Z"
   },
   {
    "duration": 132,
    "start_time": "2021-10-15T21:59:42.973Z"
   },
   {
    "duration": 31,
    "start_time": "2021-10-15T21:59:43.108Z"
   },
   {
    "duration": 131,
    "start_time": "2021-10-15T21:59:43.141Z"
   },
   {
    "duration": 73,
    "start_time": "2021-10-15T21:59:43.274Z"
   },
   {
    "duration": 118,
    "start_time": "2021-10-15T21:59:43.350Z"
   },
   {
    "duration": 151,
    "start_time": "2021-10-15T21:59:43.471Z"
   },
   {
    "duration": 9,
    "start_time": "2021-10-15T21:59:43.624Z"
   },
   {
    "duration": 15,
    "start_time": "2021-10-15T21:59:43.635Z"
   },
   {
    "duration": 12,
    "start_time": "2021-10-15T21:59:43.652Z"
   },
   {
    "duration": 34,
    "start_time": "2021-10-15T21:59:43.666Z"
   },
   {
    "duration": 12,
    "start_time": "2021-10-15T22:10:52.900Z"
   },
   {
    "duration": 12,
    "start_time": "2021-10-15T22:11:29.421Z"
   },
   {
    "duration": 10,
    "start_time": "2021-10-15T22:28:37.569Z"
   },
   {
    "duration": 17,
    "start_time": "2021-10-15T22:31:54.630Z"
   },
   {
    "duration": 17,
    "start_time": "2021-10-15T22:32:24.766Z"
   },
   {
    "duration": 21,
    "start_time": "2021-10-15T22:34:32.830Z"
   },
   {
    "duration": 16,
    "start_time": "2021-10-15T22:35:26.543Z"
   },
   {
    "duration": 4,
    "start_time": "2021-10-15T22:44:57.061Z"
   },
   {
    "duration": 8654,
    "start_time": "2021-10-15T22:44:58.095Z"
   },
   {
    "duration": 6,
    "start_time": "2021-10-15T22:48:24.778Z"
   },
   {
    "duration": 10603,
    "start_time": "2021-10-15T22:49:39.461Z"
   },
   {
    "duration": 9506,
    "start_time": "2021-10-15T22:51:47.266Z"
   },
   {
    "duration": 5,
    "start_time": "2021-10-15T22:52:01.474Z"
   },
   {
    "duration": 34,
    "start_time": "2021-10-15T22:52:01.489Z"
   },
   {
    "duration": 28,
    "start_time": "2021-10-15T22:52:01.527Z"
   },
   {
    "duration": 15,
    "start_time": "2021-10-15T22:52:01.558Z"
   },
   {
    "duration": 14,
    "start_time": "2021-10-15T22:52:01.576Z"
   },
   {
    "duration": 11,
    "start_time": "2021-10-15T22:52:01.602Z"
   },
   {
    "duration": 36,
    "start_time": "2021-10-15T22:52:01.616Z"
   },
   {
    "duration": 56,
    "start_time": "2021-10-15T22:52:01.656Z"
   },
   {
    "duration": 8,
    "start_time": "2021-10-15T22:52:01.715Z"
   },
   {
    "duration": 25,
    "start_time": "2021-10-15T22:52:01.726Z"
   },
   {
    "duration": 49,
    "start_time": "2021-10-15T22:52:01.754Z"
   },
   {
    "duration": 7,
    "start_time": "2021-10-15T22:52:01.807Z"
   },
   {
    "duration": 92,
    "start_time": "2021-10-15T22:52:01.816Z"
   },
   {
    "duration": 7,
    "start_time": "2021-10-15T22:52:01.912Z"
   },
   {
    "duration": 10,
    "start_time": "2021-10-15T22:52:01.921Z"
   },
   {
    "duration": 28,
    "start_time": "2021-10-15T22:52:01.934Z"
   },
   {
    "duration": 40,
    "start_time": "2021-10-15T22:52:01.964Z"
   },
   {
    "duration": 51,
    "start_time": "2021-10-15T22:52:02.007Z"
   },
   {
    "duration": 33,
    "start_time": "2021-10-15T22:52:02.061Z"
   },
   {
    "duration": 49,
    "start_time": "2021-10-15T22:52:02.097Z"
   },
   {
    "duration": 8,
    "start_time": "2021-10-15T22:52:02.148Z"
   },
   {
    "duration": 37,
    "start_time": "2021-10-15T22:52:02.159Z"
   },
   {
    "duration": 14,
    "start_time": "2021-10-15T22:52:02.201Z"
   },
   {
    "duration": 26,
    "start_time": "2021-10-15T22:52:02.218Z"
   },
   {
    "duration": 20,
    "start_time": "2021-10-15T22:52:02.247Z"
   },
   {
    "duration": 34,
    "start_time": "2021-10-15T22:52:02.269Z"
   },
   {
    "duration": 13,
    "start_time": "2021-10-15T22:52:02.306Z"
   },
   {
    "duration": 27,
    "start_time": "2021-10-15T22:52:02.322Z"
   },
   {
    "duration": 9,
    "start_time": "2021-10-15T22:52:02.355Z"
   },
   {
    "duration": 33,
    "start_time": "2021-10-15T22:52:02.367Z"
   },
   {
    "duration": 10,
    "start_time": "2021-10-15T22:52:02.403Z"
   },
   {
    "duration": 20,
    "start_time": "2021-10-15T22:52:02.416Z"
   },
   {
    "duration": 26,
    "start_time": "2021-10-15T22:52:02.438Z"
   },
   {
    "duration": 37,
    "start_time": "2021-10-15T22:52:02.467Z"
   },
   {
    "duration": 9,
    "start_time": "2021-10-15T22:52:02.506Z"
   },
   {
    "duration": 13,
    "start_time": "2021-10-15T22:52:02.517Z"
   },
   {
    "duration": 8,
    "start_time": "2021-10-15T22:52:02.533Z"
   },
   {
    "duration": 57,
    "start_time": "2021-10-15T22:52:02.543Z"
   },
   {
    "duration": 38,
    "start_time": "2021-10-15T22:52:02.603Z"
   },
   {
    "duration": 9,
    "start_time": "2021-10-15T22:52:02.643Z"
   },
   {
    "duration": 48,
    "start_time": "2021-10-15T22:52:02.654Z"
   },
   {
    "duration": 529,
    "start_time": "2021-10-15T22:52:02.704Z"
   },
   {
    "duration": 6,
    "start_time": "2021-10-15T22:52:03.236Z"
   },
   {
    "duration": 18,
    "start_time": "2021-10-15T22:52:03.244Z"
   },
   {
    "duration": 481,
    "start_time": "2021-10-15T22:52:03.265Z"
   },
   {
    "duration": 15,
    "start_time": "2021-10-15T22:52:03.748Z"
   },
   {
    "duration": 377,
    "start_time": "2021-10-15T22:52:03.766Z"
   },
   {
    "duration": 297,
    "start_time": "2021-10-15T22:52:04.146Z"
   },
   {
    "duration": 19,
    "start_time": "2021-10-15T22:52:04.445Z"
   },
   {
    "duration": 41,
    "start_time": "2021-10-15T22:52:04.467Z"
   },
   {
    "duration": 14,
    "start_time": "2021-10-15T22:52:04.514Z"
   },
   {
    "duration": 512,
    "start_time": "2021-10-15T22:52:04.531Z"
   },
   {
    "duration": 14,
    "start_time": "2021-10-15T22:52:05.046Z"
   },
   {
    "duration": 39,
    "start_time": "2021-10-15T22:52:05.062Z"
   },
   {
    "duration": 437,
    "start_time": "2021-10-15T22:52:05.104Z"
   },
   {
    "duration": 21,
    "start_time": "2021-10-15T22:52:05.544Z"
   },
   {
    "duration": 42,
    "start_time": "2021-10-15T22:52:05.568Z"
   },
   {
    "duration": 531,
    "start_time": "2021-10-15T22:52:05.613Z"
   },
   {
    "duration": 16,
    "start_time": "2021-10-15T22:52:06.146Z"
   },
   {
    "duration": 18,
    "start_time": "2021-10-15T22:52:06.164Z"
   },
   {
    "duration": 16,
    "start_time": "2021-10-15T22:52:06.201Z"
   },
   {
    "duration": 450,
    "start_time": "2021-10-15T22:52:06.219Z"
   },
   {
    "duration": 31,
    "start_time": "2021-10-15T22:52:06.671Z"
   },
   {
    "duration": 23,
    "start_time": "2021-10-15T22:52:06.704Z"
   },
   {
    "duration": 511,
    "start_time": "2021-10-15T22:52:06.730Z"
   },
   {
    "duration": 203,
    "start_time": "2021-10-15T22:52:07.244Z"
   },
   {
    "duration": 664,
    "start_time": "2021-10-15T22:52:07.450Z"
   },
   {
    "duration": 5,
    "start_time": "2021-10-15T22:52:08.117Z"
   },
   {
    "duration": 519,
    "start_time": "2021-10-15T22:52:08.125Z"
   },
   {
    "duration": 6,
    "start_time": "2021-10-15T22:52:08.647Z"
   },
   {
    "duration": 19,
    "start_time": "2021-10-15T22:52:08.655Z"
   },
   {
    "duration": 129,
    "start_time": "2021-10-15T22:52:08.676Z"
   },
   {
    "duration": 17,
    "start_time": "2021-10-15T22:52:08.807Z"
   },
   {
    "duration": 123,
    "start_time": "2021-10-15T22:52:08.826Z"
   },
   {
    "duration": 30,
    "start_time": "2021-10-15T22:52:08.951Z"
   },
   {
    "duration": 122,
    "start_time": "2021-10-15T22:52:09.000Z"
   },
   {
    "duration": 31,
    "start_time": "2021-10-15T22:52:09.125Z"
   },
   {
    "duration": 144,
    "start_time": "2021-10-15T22:52:09.159Z"
   },
   {
    "duration": 52,
    "start_time": "2021-10-15T22:52:09.306Z"
   },
   {
    "duration": 178,
    "start_time": "2021-10-15T22:52:09.360Z"
   },
   {
    "duration": 161,
    "start_time": "2021-10-15T22:52:09.541Z"
   },
   {
    "duration": 10,
    "start_time": "2021-10-15T22:52:09.705Z"
   },
   {
    "duration": 10,
    "start_time": "2021-10-15T22:52:09.718Z"
   },
   {
    "duration": 12,
    "start_time": "2021-10-15T22:52:09.731Z"
   },
   {
    "duration": 58,
    "start_time": "2021-10-15T22:52:09.746Z"
   },
   {
    "duration": 4,
    "start_time": "2021-10-15T22:52:09.807Z"
   },
   {
    "duration": 9,
    "start_time": "2021-10-15T22:52:09.814Z"
   },
   {
    "duration": 8287,
    "start_time": "2021-10-15T22:52:09.825Z"
   },
   {
    "duration": 6,
    "start_time": "2021-10-15T22:53:39.074Z"
   },
   {
    "duration": 15,
    "start_time": "2021-10-15T22:54:11.060Z"
   },
   {
    "duration": 353,
    "start_time": "2021-10-15T22:58:32.751Z"
   },
   {
    "duration": 26,
    "start_time": "2021-10-15T23:02:46.894Z"
   },
   {
    "duration": 18,
    "start_time": "2021-10-15T23:02:51.554Z"
   },
   {
    "duration": 17,
    "start_time": "2021-10-15T23:03:33.126Z"
   },
   {
    "duration": 18,
    "start_time": "2021-10-15T23:04:22.245Z"
   },
   {
    "duration": 23,
    "start_time": "2021-10-15T23:15:23.772Z"
   },
   {
    "duration": 21,
    "start_time": "2021-10-15T23:15:42.395Z"
   },
   {
    "duration": 21,
    "start_time": "2021-10-15T23:15:51.315Z"
   },
   {
    "duration": 23,
    "start_time": "2021-10-15T23:16:30.993Z"
   },
   {
    "duration": 5,
    "start_time": "2021-10-15T23:31:53.254Z"
   },
   {
    "duration": 25,
    "start_time": "2021-10-15T23:31:53.267Z"
   },
   {
    "duration": 6,
    "start_time": "2021-10-15T23:31:53.295Z"
   },
   {
    "duration": 12,
    "start_time": "2021-10-15T23:31:53.304Z"
   },
   {
    "duration": 12,
    "start_time": "2021-10-15T23:31:53.319Z"
   },
   {
    "duration": 12,
    "start_time": "2021-10-15T23:31:53.334Z"
   },
   {
    "duration": 67,
    "start_time": "2021-10-15T23:31:53.349Z"
   },
   {
    "duration": 16,
    "start_time": "2021-10-15T23:31:53.418Z"
   },
   {
    "duration": 6,
    "start_time": "2021-10-15T23:31:53.437Z"
   },
   {
    "duration": 55,
    "start_time": "2021-10-15T23:31:53.446Z"
   },
   {
    "duration": 7,
    "start_time": "2021-10-15T23:31:53.504Z"
   },
   {
    "duration": 8,
    "start_time": "2021-10-15T23:31:53.513Z"
   },
   {
    "duration": 58,
    "start_time": "2021-10-15T23:31:53.523Z"
   },
   {
    "duration": 4,
    "start_time": "2021-10-15T23:31:53.585Z"
   },
   {
    "duration": 8,
    "start_time": "2021-10-15T23:31:53.600Z"
   },
   {
    "duration": 14,
    "start_time": "2021-10-15T23:31:53.611Z"
   },
   {
    "duration": 16,
    "start_time": "2021-10-15T23:31:53.628Z"
   },
   {
    "duration": 56,
    "start_time": "2021-10-15T23:31:53.646Z"
   },
   {
    "duration": 13,
    "start_time": "2021-10-15T23:31:53.705Z"
   },
   {
    "duration": 34,
    "start_time": "2021-10-15T23:31:53.721Z"
   },
   {
    "duration": 43,
    "start_time": "2021-10-15T23:31:53.757Z"
   },
   {
    "duration": 9,
    "start_time": "2021-10-15T23:31:53.803Z"
   },
   {
    "duration": 8,
    "start_time": "2021-10-15T23:31:53.815Z"
   },
   {
    "duration": 10,
    "start_time": "2021-10-15T23:31:53.828Z"
   },
   {
    "duration": 64,
    "start_time": "2021-10-15T23:31:53.841Z"
   },
   {
    "duration": 25,
    "start_time": "2021-10-15T23:31:53.908Z"
   },
   {
    "duration": 7,
    "start_time": "2021-10-15T23:31:53.936Z"
   },
   {
    "duration": 10,
    "start_time": "2021-10-15T23:31:53.945Z"
   },
   {
    "duration": 50,
    "start_time": "2021-10-15T23:31:53.957Z"
   },
   {
    "duration": 11,
    "start_time": "2021-10-15T23:31:54.010Z"
   },
   {
    "duration": 11,
    "start_time": "2021-10-15T23:31:54.024Z"
   },
   {
    "duration": 12,
    "start_time": "2021-10-15T23:31:54.038Z"
   },
   {
    "duration": 65,
    "start_time": "2021-10-15T23:31:54.052Z"
   },
   {
    "duration": 8,
    "start_time": "2021-10-15T23:31:54.120Z"
   },
   {
    "duration": 7,
    "start_time": "2021-10-15T23:31:54.131Z"
   },
   {
    "duration": 8,
    "start_time": "2021-10-15T23:31:54.141Z"
   },
   {
    "duration": 6,
    "start_time": "2021-10-15T23:31:54.201Z"
   },
   {
    "duration": 6,
    "start_time": "2021-10-15T23:31:54.210Z"
   },
   {
    "duration": 30,
    "start_time": "2021-10-15T23:31:54.218Z"
   },
   {
    "duration": 48,
    "start_time": "2021-10-15T23:31:54.253Z"
   },
   {
    "duration": 18,
    "start_time": "2021-10-15T23:31:54.305Z"
   },
   {
    "duration": 531,
    "start_time": "2021-10-15T23:31:54.325Z"
   },
   {
    "duration": 6,
    "start_time": "2021-10-15T23:31:54.858Z"
   },
   {
    "duration": 37,
    "start_time": "2021-10-15T23:31:54.866Z"
   },
   {
    "duration": 481,
    "start_time": "2021-10-15T23:31:54.906Z"
   },
   {
    "duration": 15,
    "start_time": "2021-10-15T23:31:55.400Z"
   },
   {
    "duration": 378,
    "start_time": "2021-10-15T23:31:55.417Z"
   },
   {
    "duration": 289,
    "start_time": "2021-10-15T23:31:55.800Z"
   },
   {
    "duration": 19,
    "start_time": "2021-10-15T23:31:56.099Z"
   },
   {
    "duration": 13,
    "start_time": "2021-10-15T23:31:56.120Z"
   },
   {
    "duration": 13,
    "start_time": "2021-10-15T23:31:56.136Z"
   },
   {
    "duration": 495,
    "start_time": "2021-10-15T23:31:56.152Z"
   },
   {
    "duration": 13,
    "start_time": "2021-10-15T23:31:56.650Z"
   },
   {
    "duration": 35,
    "start_time": "2021-10-15T23:31:56.666Z"
   },
   {
    "duration": 467,
    "start_time": "2021-10-15T23:31:56.703Z"
   },
   {
    "duration": 30,
    "start_time": "2021-10-15T23:31:57.173Z"
   },
   {
    "duration": 17,
    "start_time": "2021-10-15T23:31:57.206Z"
   },
   {
    "duration": 522,
    "start_time": "2021-10-15T23:31:57.225Z"
   },
   {
    "duration": 16,
    "start_time": "2021-10-15T23:31:57.749Z"
   },
   {
    "duration": 39,
    "start_time": "2021-10-15T23:31:57.768Z"
   },
   {
    "duration": 18,
    "start_time": "2021-10-15T23:31:57.810Z"
   },
   {
    "duration": 470,
    "start_time": "2021-10-15T23:31:57.830Z"
   },
   {
    "duration": 21,
    "start_time": "2021-10-15T23:31:58.305Z"
   },
   {
    "duration": 16,
    "start_time": "2021-10-15T23:31:58.330Z"
   },
   {
    "duration": 610,
    "start_time": "2021-10-15T23:31:58.349Z"
   },
   {
    "duration": 251,
    "start_time": "2021-10-15T23:31:58.961Z"
   },
   {
    "duration": 482,
    "start_time": "2021-10-15T23:31:59.215Z"
   },
   {
    "duration": 5,
    "start_time": "2021-10-15T23:31:59.700Z"
   },
   {
    "duration": 520,
    "start_time": "2021-10-15T23:31:59.707Z"
   },
   {
    "duration": 5,
    "start_time": "2021-10-15T23:32:00.230Z"
   },
   {
    "duration": 22,
    "start_time": "2021-10-15T23:32:00.238Z"
   },
   {
    "duration": 125,
    "start_time": "2021-10-15T23:32:00.262Z"
   },
   {
    "duration": 22,
    "start_time": "2021-10-15T23:32:00.390Z"
   },
   {
    "duration": 125,
    "start_time": "2021-10-15T23:32:00.414Z"
   },
   {
    "duration": 29,
    "start_time": "2021-10-15T23:32:00.542Z"
   },
   {
    "duration": 138,
    "start_time": "2021-10-15T23:32:00.574Z"
   },
   {
    "duration": 48,
    "start_time": "2021-10-15T23:32:00.714Z"
   },
   {
    "duration": 116,
    "start_time": "2021-10-15T23:32:00.764Z"
   },
   {
    "duration": 60,
    "start_time": "2021-10-15T23:32:00.883Z"
   },
   {
    "duration": 124,
    "start_time": "2021-10-15T23:32:00.946Z"
   },
   {
    "duration": 151,
    "start_time": "2021-10-15T23:32:01.073Z"
   },
   {
    "duration": 10,
    "start_time": "2021-10-15T23:32:01.226Z"
   },
   {
    "duration": 12,
    "start_time": "2021-10-15T23:32:01.239Z"
   },
   {
    "duration": 30,
    "start_time": "2021-10-15T23:32:01.254Z"
   },
   {
    "duration": 35,
    "start_time": "2021-10-15T23:32:01.287Z"
   },
   {
    "duration": 4,
    "start_time": "2021-10-15T23:32:01.325Z"
   },
   {
    "duration": 37,
    "start_time": "2021-10-15T23:32:01.332Z"
   },
   {
    "duration": 35,
    "start_time": "2021-10-15T23:32:01.372Z"
   },
   {
    "duration": 25,
    "start_time": "2021-10-15T23:32:01.410Z"
   },
   {
    "duration": 32,
    "start_time": "2021-10-15T23:32:01.438Z"
   },
   {
    "duration": 1040,
    "start_time": "2021-10-16T03:04:15.314Z"
   },
   {
    "duration": 23,
    "start_time": "2021-10-16T03:04:16.356Z"
   },
   {
    "duration": 5,
    "start_time": "2021-10-16T03:04:16.381Z"
   },
   {
    "duration": 10,
    "start_time": "2021-10-16T03:04:16.387Z"
   },
   {
    "duration": 11,
    "start_time": "2021-10-16T03:04:16.398Z"
   },
   {
    "duration": 7,
    "start_time": "2021-10-16T03:04:16.410Z"
   },
   {
    "duration": 20,
    "start_time": "2021-10-16T03:04:16.419Z"
   },
   {
    "duration": 13,
    "start_time": "2021-10-16T03:04:16.441Z"
   },
   {
    "duration": 5,
    "start_time": "2021-10-16T03:04:16.491Z"
   },
   {
    "duration": 6,
    "start_time": "2021-10-16T03:04:16.497Z"
   },
   {
    "duration": 6,
    "start_time": "2021-10-16T03:04:16.505Z"
   },
   {
    "duration": 5,
    "start_time": "2021-10-16T03:04:16.512Z"
   },
   {
    "duration": 45,
    "start_time": "2021-10-16T03:04:16.519Z"
   },
   {
    "duration": 3,
    "start_time": "2021-10-16T03:04:16.566Z"
   },
   {
    "duration": 9,
    "start_time": "2021-10-16T03:04:16.571Z"
   },
   {
    "duration": 12,
    "start_time": "2021-10-16T03:04:16.582Z"
   },
   {
    "duration": 8,
    "start_time": "2021-10-16T03:04:16.595Z"
   },
   {
    "duration": 7,
    "start_time": "2021-10-16T03:04:16.604Z"
   },
   {
    "duration": 11,
    "start_time": "2021-10-16T03:04:16.612Z"
   },
   {
    "duration": 20,
    "start_time": "2021-10-16T03:04:16.624Z"
   },
   {
    "duration": 4,
    "start_time": "2021-10-16T03:04:16.646Z"
   },
   {
    "duration": 39,
    "start_time": "2021-10-16T03:04:16.652Z"
   },
   {
    "duration": 5,
    "start_time": "2021-10-16T03:04:16.695Z"
   },
   {
    "duration": 6,
    "start_time": "2021-10-16T03:04:16.702Z"
   },
   {
    "duration": 5,
    "start_time": "2021-10-16T03:04:16.710Z"
   },
   {
    "duration": 22,
    "start_time": "2021-10-16T03:04:16.716Z"
   },
   {
    "duration": 5,
    "start_time": "2021-10-16T03:04:16.739Z"
   },
   {
    "duration": 6,
    "start_time": "2021-10-16T03:04:16.745Z"
   },
   {
    "duration": 39,
    "start_time": "2021-10-16T03:04:16.753Z"
   },
   {
    "duration": 8,
    "start_time": "2021-10-16T03:04:16.794Z"
   },
   {
    "duration": 7,
    "start_time": "2021-10-16T03:04:16.804Z"
   },
   {
    "duration": 9,
    "start_time": "2021-10-16T03:04:16.813Z"
   },
   {
    "duration": 15,
    "start_time": "2021-10-16T03:04:16.823Z"
   },
   {
    "duration": 8,
    "start_time": "2021-10-16T03:04:16.840Z"
   },
   {
    "duration": 5,
    "start_time": "2021-10-16T03:04:16.850Z"
   },
   {
    "duration": 39,
    "start_time": "2021-10-16T03:04:16.857Z"
   },
   {
    "duration": 4,
    "start_time": "2021-10-16T03:04:16.898Z"
   },
   {
    "duration": 5,
    "start_time": "2021-10-16T03:04:16.904Z"
   },
   {
    "duration": 19,
    "start_time": "2021-10-16T03:04:16.910Z"
   },
   {
    "duration": 4,
    "start_time": "2021-10-16T03:04:16.931Z"
   },
   {
    "duration": 9,
    "start_time": "2021-10-16T03:04:16.936Z"
   },
   {
    "duration": 345,
    "start_time": "2021-10-16T03:04:16.946Z"
   },
   {
    "duration": 4,
    "start_time": "2021-10-16T03:04:17.292Z"
   },
   {
    "duration": 14,
    "start_time": "2021-10-16T03:04:17.298Z"
   },
   {
    "duration": 286,
    "start_time": "2021-10-16T03:04:17.314Z"
   },
   {
    "duration": 10,
    "start_time": "2021-10-16T03:04:17.601Z"
   },
   {
    "duration": 209,
    "start_time": "2021-10-16T03:04:17.612Z"
   },
   {
    "duration": 154,
    "start_time": "2021-10-16T03:04:17.822Z"
   },
   {
    "duration": 17,
    "start_time": "2021-10-16T03:04:17.978Z"
   },
   {
    "duration": 10,
    "start_time": "2021-10-16T03:04:17.996Z"
   },
   {
    "duration": 9,
    "start_time": "2021-10-16T03:04:18.007Z"
   },
   {
    "duration": 274,
    "start_time": "2021-10-16T03:04:18.018Z"
   },
   {
    "duration": 9,
    "start_time": "2021-10-16T03:04:18.294Z"
   },
   {
    "duration": 10,
    "start_time": "2021-10-16T03:04:18.304Z"
   },
   {
    "duration": 262,
    "start_time": "2021-10-16T03:04:18.316Z"
   },
   {
    "duration": 20,
    "start_time": "2021-10-16T03:04:18.579Z"
   },
   {
    "duration": 13,
    "start_time": "2021-10-16T03:04:18.601Z"
   },
   {
    "duration": 346,
    "start_time": "2021-10-16T03:04:18.616Z"
   },
   {
    "duration": 10,
    "start_time": "2021-10-16T03:04:18.964Z"
   },
   {
    "duration": 16,
    "start_time": "2021-10-16T03:04:18.976Z"
   },
   {
    "duration": 11,
    "start_time": "2021-10-16T03:04:18.994Z"
   },
   {
    "duration": 256,
    "start_time": "2021-10-16T03:04:19.006Z"
   },
   {
    "duration": 12,
    "start_time": "2021-10-16T03:04:19.264Z"
   },
   {
    "duration": 21,
    "start_time": "2021-10-16T03:04:19.278Z"
   },
   {
    "duration": 424,
    "start_time": "2021-10-16T03:04:19.300Z"
   },
   {
    "duration": 105,
    "start_time": "2021-10-16T03:04:19.726Z"
   },
   {
    "duration": 349,
    "start_time": "2021-10-16T03:04:19.832Z"
   },
   {
    "duration": 8,
    "start_time": "2021-10-16T03:04:20.185Z"
   },
   {
    "duration": 360,
    "start_time": "2021-10-16T03:04:20.195Z"
   },
   {
    "duration": 4,
    "start_time": "2021-10-16T03:04:20.557Z"
   },
   {
    "duration": 19,
    "start_time": "2021-10-16T03:04:20.562Z"
   },
   {
    "duration": 62,
    "start_time": "2021-10-16T03:04:20.583Z"
   },
   {
    "duration": 13,
    "start_time": "2021-10-16T03:04:20.647Z"
   },
   {
    "duration": 73,
    "start_time": "2021-10-16T03:04:20.662Z"
   },
   {
    "duration": 18,
    "start_time": "2021-10-16T03:04:20.737Z"
   },
   {
    "duration": 78,
    "start_time": "2021-10-16T03:04:20.756Z"
   },
   {
    "duration": 18,
    "start_time": "2021-10-16T03:04:20.836Z"
   },
   {
    "duration": 82,
    "start_time": "2021-10-16T03:04:20.856Z"
   },
   {
    "duration": 27,
    "start_time": "2021-10-16T03:04:20.940Z"
   },
   {
    "duration": 71,
    "start_time": "2021-10-16T03:04:20.969Z"
   },
   {
    "duration": 78,
    "start_time": "2021-10-16T03:04:21.042Z"
   },
   {
    "duration": 7,
    "start_time": "2021-10-16T03:04:21.122Z"
   },
   {
    "duration": 7,
    "start_time": "2021-10-16T03:04:21.131Z"
   },
   {
    "duration": 8,
    "start_time": "2021-10-16T03:04:21.140Z"
   },
   {
    "duration": 42,
    "start_time": "2021-10-16T03:04:21.150Z"
   },
   {
    "duration": 2,
    "start_time": "2021-10-16T03:04:21.194Z"
   },
   {
    "duration": 18,
    "start_time": "2021-10-16T03:04:21.198Z"
   },
   {
    "duration": 9,
    "start_time": "2021-10-16T03:04:21.217Z"
   },
   {
    "duration": 11,
    "start_time": "2021-10-16T03:04:21.227Z"
   },
   {
    "duration": 12,
    "start_time": "2021-10-16T03:04:21.239Z"
   },
   {
    "duration": 4,
    "start_time": "2021-10-16T03:22:32.880Z"
   },
   {
    "duration": 1131,
    "start_time": "2021-10-16T05:33:49.396Z"
   },
   {
    "duration": 24,
    "start_time": "2021-10-16T05:33:54.476Z"
   },
   {
    "duration": 3,
    "start_time": "2021-10-16T05:33:58.028Z"
   },
   {
    "duration": 6,
    "start_time": "2021-10-16T05:33:58.886Z"
   },
   {
    "duration": 442,
    "start_time": "2021-10-16T05:34:02.597Z"
   },
   {
    "duration": 7,
    "start_time": "2021-10-16T05:34:13.730Z"
   },
   {
    "duration": 2532,
    "start_time": "2021-10-17T08:48:26.040Z"
   },
   {
    "duration": -1523,
    "start_time": "2021-10-17T08:48:30.097Z"
   },
   {
    "duration": 5,
    "start_time": "2021-10-17T08:48:50.350Z"
   },
   {
    "duration": 26,
    "start_time": "2021-10-17T08:48:56.673Z"
   },
   {
    "duration": 6,
    "start_time": "2021-10-17T08:48:58.062Z"
   },
   {
    "duration": 7,
    "start_time": "2021-10-17T08:49:00.693Z"
   },
   {
    "duration": 12,
    "start_time": "2021-10-17T08:49:02.001Z"
   },
   {
    "duration": 449,
    "start_time": "2021-10-17T08:51:35.454Z"
   },
   {
    "duration": 12,
    "start_time": "2021-10-17T08:51:49.023Z"
   },
   {
    "duration": 12,
    "start_time": "2021-10-17T08:51:58.797Z"
   },
   {
    "duration": 5,
    "start_time": "2021-10-17T08:58:14.388Z"
   },
   {
    "duration": 23,
    "start_time": "2021-10-17T08:58:14.401Z"
   },
   {
    "duration": 9,
    "start_time": "2021-10-17T08:58:14.426Z"
   },
   {
    "duration": 15,
    "start_time": "2021-10-17T08:58:14.438Z"
   },
   {
    "duration": 14,
    "start_time": "2021-10-17T08:58:14.455Z"
   },
   {
    "duration": 12,
    "start_time": "2021-10-17T08:58:14.473Z"
   },
   {
    "duration": 31,
    "start_time": "2021-10-17T08:58:14.491Z"
   },
   {
    "duration": 52,
    "start_time": "2021-10-17T08:58:14.525Z"
   },
   {
    "duration": 7,
    "start_time": "2021-10-17T08:58:14.580Z"
   },
   {
    "duration": 8,
    "start_time": "2021-10-17T08:58:14.590Z"
   },
   {
    "duration": 62,
    "start_time": "2021-10-17T08:58:14.600Z"
   },
   {
    "duration": 8,
    "start_time": "2021-10-17T08:58:14.665Z"
   },
   {
    "duration": 39,
    "start_time": "2021-10-17T08:58:14.675Z"
   },
   {
    "duration": 5,
    "start_time": "2021-10-17T08:58:14.717Z"
   },
   {
    "duration": 40,
    "start_time": "2021-10-17T08:58:14.725Z"
   },
   {
    "duration": 10,
    "start_time": "2021-10-17T08:58:14.767Z"
   },
   {
    "duration": 12,
    "start_time": "2021-10-17T08:58:14.779Z"
   },
   {
    "duration": 12,
    "start_time": "2021-10-17T08:58:14.794Z"
   },
   {
    "duration": 60,
    "start_time": "2021-10-17T08:58:14.810Z"
   },
   {
    "duration": 34,
    "start_time": "2021-10-17T08:58:14.873Z"
   },
   {
    "duration": 8,
    "start_time": "2021-10-17T08:58:14.909Z"
   },
   {
    "duration": 45,
    "start_time": "2021-10-17T08:58:14.920Z"
   },
   {
    "duration": 8,
    "start_time": "2021-10-17T08:58:14.967Z"
   },
   {
    "duration": 10,
    "start_time": "2021-10-17T08:58:14.978Z"
   },
   {
    "duration": 7,
    "start_time": "2021-10-17T08:58:14.990Z"
   },
   {
    "duration": 70,
    "start_time": "2021-10-17T08:58:15.001Z"
   },
   {
    "duration": 13,
    "start_time": "2021-10-17T08:58:15.074Z"
   },
   {
    "duration": 9,
    "start_time": "2021-10-17T08:58:15.090Z"
   },
   {
    "duration": 10,
    "start_time": "2021-10-17T08:58:15.102Z"
   },
   {
    "duration": 49,
    "start_time": "2021-10-17T08:58:15.115Z"
   },
   {
    "duration": 10,
    "start_time": "2021-10-17T08:58:15.167Z"
   },
   {
    "duration": 12,
    "start_time": "2021-10-17T08:58:15.180Z"
   },
   {
    "duration": 69,
    "start_time": "2021-10-17T08:58:15.194Z"
   },
   {
    "duration": 7,
    "start_time": "2021-10-17T08:58:15.266Z"
   },
   {
    "duration": 11,
    "start_time": "2021-10-17T08:58:15.276Z"
   },
   {
    "duration": 7,
    "start_time": "2021-10-17T08:58:15.289Z"
   },
   {
    "duration": 5,
    "start_time": "2021-10-17T08:58:15.300Z"
   },
   {
    "duration": 54,
    "start_time": "2021-10-17T08:58:15.308Z"
   },
   {
    "duration": 33,
    "start_time": "2021-10-17T08:58:15.365Z"
   },
   {
    "duration": 12,
    "start_time": "2021-10-17T08:58:15.400Z"
   },
   {
    "duration": 51,
    "start_time": "2021-10-17T08:58:15.414Z"
   },
   {
    "duration": 594,
    "start_time": "2021-10-17T08:58:15.468Z"
   },
   {
    "duration": 6,
    "start_time": "2021-10-17T08:58:16.064Z"
   },
   {
    "duration": 19,
    "start_time": "2021-10-17T08:58:16.072Z"
   },
   {
    "duration": 571,
    "start_time": "2021-10-17T08:58:16.096Z"
   },
   {
    "duration": 22,
    "start_time": "2021-10-17T08:58:16.672Z"
   },
   {
    "duration": 493,
    "start_time": "2021-10-17T08:58:16.697Z"
   },
   {
    "duration": 300,
    "start_time": "2021-10-17T08:58:17.192Z"
   },
   {
    "duration": 24,
    "start_time": "2021-10-17T08:58:17.494Z"
   },
   {
    "duration": 43,
    "start_time": "2021-10-17T08:58:17.520Z"
   },
   {
    "duration": 16,
    "start_time": "2021-10-17T08:58:17.565Z"
   },
   {
    "duration": 462,
    "start_time": "2021-10-17T08:58:17.583Z"
   },
   {
    "duration": 20,
    "start_time": "2021-10-17T08:58:18.048Z"
   },
   {
    "duration": 14,
    "start_time": "2021-10-17T08:58:18.070Z"
   },
   {
    "duration": 488,
    "start_time": "2021-10-17T08:58:18.086Z"
   },
   {
    "duration": 23,
    "start_time": "2021-10-17T08:58:18.577Z"
   },
   {
    "duration": 20,
    "start_time": "2021-10-17T08:58:18.602Z"
   },
   {
    "duration": 604,
    "start_time": "2021-10-17T08:58:18.624Z"
   },
   {
    "duration": 28,
    "start_time": "2021-10-17T08:58:19.230Z"
   },
   {
    "duration": 28,
    "start_time": "2021-10-17T08:58:19.262Z"
   },
   {
    "duration": 21,
    "start_time": "2021-10-17T08:58:19.292Z"
   },
   {
    "duration": 440,
    "start_time": "2021-10-17T08:58:19.316Z"
   },
   {
    "duration": 19,
    "start_time": "2021-10-17T08:58:19.761Z"
   },
   {
    "duration": 20,
    "start_time": "2021-10-17T08:58:19.782Z"
   },
   {
    "duration": 587,
    "start_time": "2021-10-17T08:58:19.805Z"
   },
   {
    "duration": 203,
    "start_time": "2021-10-17T08:58:20.395Z"
   },
   {
    "duration": 586,
    "start_time": "2021-10-17T08:58:20.600Z"
   },
   {
    "duration": 6,
    "start_time": "2021-10-17T08:58:21.192Z"
   },
   {
    "duration": 564,
    "start_time": "2021-10-17T08:58:21.202Z"
   },
   {
    "duration": 6,
    "start_time": "2021-10-17T08:58:21.769Z"
   },
   {
    "duration": 24,
    "start_time": "2021-10-17T08:58:21.778Z"
   },
   {
    "duration": 143,
    "start_time": "2021-10-17T08:58:21.804Z"
   },
   {
    "duration": 14,
    "start_time": "2021-10-17T08:58:21.962Z"
   },
   {
    "duration": 118,
    "start_time": "2021-10-17T08:58:21.979Z"
   },
   {
    "duration": 34,
    "start_time": "2021-10-17T08:58:22.099Z"
   },
   {
    "duration": 128,
    "start_time": "2021-10-17T08:58:22.136Z"
   },
   {
    "duration": 44,
    "start_time": "2021-10-17T08:58:22.267Z"
   },
   {
    "duration": 118,
    "start_time": "2021-10-17T08:58:22.313Z"
   },
   {
    "duration": 67,
    "start_time": "2021-10-17T08:58:22.433Z"
   },
   {
    "duration": 130,
    "start_time": "2021-10-17T08:58:22.503Z"
   },
   {
    "duration": 155,
    "start_time": "2021-10-17T08:58:22.635Z"
   },
   {
    "duration": 217,
    "start_time": "2021-10-17T08:58:22.793Z"
   },
   {
    "duration": 222,
    "start_time": "2021-10-17T08:58:23.012Z"
   },
   {
    "duration": 27,
    "start_time": "2021-10-17T08:58:23.237Z"
   },
   {
    "duration": 15,
    "start_time": "2021-10-17T08:58:23.266Z"
   },
   {
    "duration": 3,
    "start_time": "2021-10-17T08:58:23.284Z"
   },
   {
    "duration": 30,
    "start_time": "2021-10-17T08:58:23.289Z"
   },
   {
    "duration": 50,
    "start_time": "2021-10-17T08:58:23.321Z"
   },
   {
    "duration": 23,
    "start_time": "2021-10-17T08:58:23.374Z"
   },
   {
    "duration": 32,
    "start_time": "2021-10-17T08:58:23.400Z"
   },
   {
    "duration": 13,
    "start_time": "2021-10-17T09:07:53.812Z"
   },
   {
    "duration": 306,
    "start_time": "2021-10-17T09:10:00.116Z"
   },
   {
    "duration": 297,
    "start_time": "2021-10-17T09:10:13.876Z"
   },
   {
    "duration": 259,
    "start_time": "2021-10-17T09:10:24.280Z"
   },
   {
    "duration": 12,
    "start_time": "2021-10-17T09:12:44.752Z"
   },
   {
    "duration": 7,
    "start_time": "2021-10-17T09:15:06.880Z"
   },
   {
    "duration": 5,
    "start_time": "2021-10-17T09:15:49.473Z"
   },
   {
    "duration": 6,
    "start_time": "2021-10-17T09:15:58.393Z"
   },
   {
    "duration": 10,
    "start_time": "2021-10-17T09:21:02.826Z"
   },
   {
    "duration": 11,
    "start_time": "2021-10-17T09:23:24.095Z"
   },
   {
    "duration": 12,
    "start_time": "2021-10-17T09:25:09.030Z"
   },
   {
    "duration": 7,
    "start_time": "2021-10-17T09:25:19.478Z"
   },
   {
    "duration": 11,
    "start_time": "2021-10-17T09:25:56.672Z"
   },
   {
    "duration": 298,
    "start_time": "2021-10-17T09:26:43.597Z"
   },
   {
    "duration": 284,
    "start_time": "2021-10-17T09:28:54.807Z"
   },
   {
    "duration": 9,
    "start_time": "2021-10-17T09:29:29.869Z"
   },
   {
    "duration": 9,
    "start_time": "2021-10-17T09:29:44.059Z"
   },
   {
    "duration": 9,
    "start_time": "2021-10-17T09:29:50.421Z"
   },
   {
    "duration": 6,
    "start_time": "2021-10-17T09:29:51.699Z"
   },
   {
    "duration": 8,
    "start_time": "2021-10-17T09:29:53.888Z"
   },
   {
    "duration": 9,
    "start_time": "2021-10-17T09:29:55.164Z"
   },
   {
    "duration": 6,
    "start_time": "2021-10-17T09:29:58.105Z"
   },
   {
    "duration": 8,
    "start_time": "2021-10-17T09:29:59.235Z"
   },
   {
    "duration": 364,
    "start_time": "2021-10-17T09:30:01.071Z"
   },
   {
    "duration": 305,
    "start_time": "2021-10-17T09:30:11.797Z"
   },
   {
    "duration": 12,
    "start_time": "2021-10-17T09:32:38.052Z"
   },
   {
    "duration": 270,
    "start_time": "2021-10-17T09:32:49.875Z"
   },
   {
    "duration": 12,
    "start_time": "2021-10-17T09:33:08.997Z"
   },
   {
    "duration": 346,
    "start_time": "2021-10-17T09:33:31.274Z"
   },
   {
    "duration": 300,
    "start_time": "2021-10-17T09:34:14.248Z"
   },
   {
    "duration": 16,
    "start_time": "2021-10-17T09:34:21.630Z"
   },
   {
    "duration": 6,
    "start_time": "2021-10-17T09:36:08.116Z"
   },
   {
    "duration": 5,
    "start_time": "2021-10-17T09:40:45.703Z"
   },
   {
    "duration": 8,
    "start_time": "2021-10-17T09:41:12.645Z"
   },
   {
    "duration": 8,
    "start_time": "2021-10-17T09:41:59.216Z"
   },
   {
    "duration": 12,
    "start_time": "2021-10-17T09:42:17.078Z"
   },
   {
    "duration": 11,
    "start_time": "2021-10-17T09:42:19.479Z"
   },
   {
    "duration": 7,
    "start_time": "2021-10-17T09:42:22.469Z"
   },
   {
    "duration": 6,
    "start_time": "2021-10-17T09:42:24.581Z"
   },
   {
    "duration": 9,
    "start_time": "2021-10-17T09:42:25.608Z"
   },
   {
    "duration": 8,
    "start_time": "2021-10-17T09:42:28.530Z"
   },
   {
    "duration": 10,
    "start_time": "2021-10-17T09:42:47.450Z"
   },
   {
    "duration": 8,
    "start_time": "2021-10-17T09:43:43.140Z"
   },
   {
    "duration": 15,
    "start_time": "2021-10-17T09:43:52.172Z"
   },
   {
    "duration": 8,
    "start_time": "2021-10-17T09:43:54.672Z"
   },
   {
    "duration": 9,
    "start_time": "2021-10-17T09:43:55.662Z"
   },
   {
    "duration": 6,
    "start_time": "2021-10-17T09:43:56.629Z"
   },
   {
    "duration": 15,
    "start_time": "2021-10-17T09:44:00.369Z"
   },
   {
    "duration": 8,
    "start_time": "2021-10-17T09:46:02.754Z"
   },
   {
    "duration": 16,
    "start_time": "2021-10-17T09:46:27.831Z"
   },
   {
    "duration": 10,
    "start_time": "2021-10-17T09:48:00.784Z"
   },
   {
    "duration": 419,
    "start_time": "2021-10-17T10:08:53.918Z"
   },
   {
    "duration": 5,
    "start_time": "2021-10-17T10:09:17.191Z"
   },
   {
    "duration": 16,
    "start_time": "2021-10-17T10:09:33.359Z"
   },
   {
    "duration": 8,
    "start_time": "2021-10-17T10:10:52.624Z"
   },
   {
    "duration": 21,
    "start_time": "2021-10-17T10:11:47.153Z"
   },
   {
    "duration": 369,
    "start_time": "2021-10-17T10:35:21.909Z"
   },
   {
    "duration": 347,
    "start_time": "2021-10-17T10:36:15.155Z"
   },
   {
    "duration": 20,
    "start_time": "2021-10-17T10:38:48.468Z"
   },
   {
    "duration": 19,
    "start_time": "2021-10-17T10:38:52.326Z"
   },
   {
    "duration": 21,
    "start_time": "2021-10-17T10:39:16.772Z"
   },
   {
    "duration": 19,
    "start_time": "2021-10-17T10:39:37.659Z"
   },
   {
    "duration": 15,
    "start_time": "2021-10-17T10:40:04.149Z"
   },
   {
    "duration": 505,
    "start_time": "2021-10-17T10:40:53.088Z"
   },
   {
    "duration": 309,
    "start_time": "2021-10-17T10:41:20.717Z"
   },
   {
    "duration": 301,
    "start_time": "2021-10-17T10:43:16.735Z"
   },
   {
    "duration": 17,
    "start_time": "2021-10-17T10:43:54.164Z"
   },
   {
    "duration": 22,
    "start_time": "2021-10-17T10:44:55.861Z"
   },
   {
    "duration": 433,
    "start_time": "2021-10-17T10:52:14.007Z"
   },
   {
    "duration": 421,
    "start_time": "2021-10-17T10:52:27.844Z"
   },
   {
    "duration": 508,
    "start_time": "2021-10-17T10:52:37.875Z"
   },
   {
    "duration": 420,
    "start_time": "2021-10-17T10:52:45.335Z"
   },
   {
    "duration": 565,
    "start_time": "2021-10-17T10:52:52.023Z"
   },
   {
    "duration": 488,
    "start_time": "2021-10-17T10:52:59.243Z"
   },
   {
    "duration": 482,
    "start_time": "2021-10-17T10:53:08.779Z"
   },
   {
    "duration": 9,
    "start_time": "2021-10-17T10:54:08.060Z"
   },
   {
    "duration": 10,
    "start_time": "2021-10-17T10:54:48.890Z"
   },
   {
    "duration": 512,
    "start_time": "2021-10-17T11:00:27.360Z"
   },
   {
    "duration": 496,
    "start_time": "2021-10-17T11:00:55.068Z"
   },
   {
    "duration": 11,
    "start_time": "2021-10-17T11:12:57.437Z"
   },
   {
    "duration": 11,
    "start_time": "2021-10-17T11:14:45.721Z"
   },
   {
    "duration": 13,
    "start_time": "2021-10-17T11:15:51.168Z"
   },
   {
    "duration": 12,
    "start_time": "2021-10-17T11:16:24.674Z"
   },
   {
    "duration": 18,
    "start_time": "2021-10-17T11:17:11.629Z"
   },
   {
    "duration": 17,
    "start_time": "2021-10-17T11:17:30.701Z"
   },
   {
    "duration": 16,
    "start_time": "2021-10-17T11:18:00.892Z"
   },
   {
    "duration": 17,
    "start_time": "2021-10-17T11:18:25.520Z"
   },
   {
    "duration": 18,
    "start_time": "2021-10-17T11:19:37.339Z"
   },
   {
    "duration": 110,
    "start_time": "2021-10-17T11:20:46.881Z"
   },
   {
    "duration": 23,
    "start_time": "2021-10-17T11:21:12.492Z"
   },
   {
    "duration": 1115,
    "start_time": "2021-10-18T03:23:15.411Z"
   },
   {
    "duration": 22,
    "start_time": "2021-10-18T03:23:16.528Z"
   },
   {
    "duration": 6,
    "start_time": "2021-10-18T03:23:16.552Z"
   },
   {
    "duration": 6,
    "start_time": "2021-10-18T03:23:16.560Z"
   },
   {
    "duration": 9,
    "start_time": "2021-10-18T03:23:16.568Z"
   },
   {
    "duration": 16,
    "start_time": "2021-10-18T03:23:16.579Z"
   },
   {
    "duration": 22,
    "start_time": "2021-10-18T03:23:16.596Z"
   },
   {
    "duration": 10,
    "start_time": "2021-10-18T03:23:16.620Z"
   },
   {
    "duration": 5,
    "start_time": "2021-10-18T03:23:16.632Z"
   },
   {
    "duration": 6,
    "start_time": "2021-10-18T03:23:16.638Z"
   },
   {
    "duration": 48,
    "start_time": "2021-10-18T03:23:16.645Z"
   },
   {
    "duration": 4,
    "start_time": "2021-10-18T03:23:16.695Z"
   },
   {
    "duration": 58,
    "start_time": "2021-10-18T03:23:16.701Z"
   },
   {
    "duration": 3,
    "start_time": "2021-10-18T03:23:16.760Z"
   },
   {
    "duration": 6,
    "start_time": "2021-10-18T03:23:16.765Z"
   },
   {
    "duration": 7,
    "start_time": "2021-10-18T03:23:16.772Z"
   },
   {
    "duration": 9,
    "start_time": "2021-10-18T03:23:16.781Z"
   },
   {
    "duration": 7,
    "start_time": "2021-10-18T03:23:16.792Z"
   },
   {
    "duration": 9,
    "start_time": "2021-10-18T03:23:16.800Z"
   },
   {
    "duration": 22,
    "start_time": "2021-10-18T03:23:16.810Z"
   },
   {
    "duration": 5,
    "start_time": "2021-10-18T03:23:16.833Z"
   },
   {
    "duration": 6,
    "start_time": "2021-10-18T03:23:16.839Z"
   },
   {
    "duration": 5,
    "start_time": "2021-10-18T03:23:16.848Z"
   },
   {
    "duration": 41,
    "start_time": "2021-10-18T03:23:16.855Z"
   },
   {
    "duration": 7,
    "start_time": "2021-10-18T03:23:16.898Z"
   },
   {
    "duration": 19,
    "start_time": "2021-10-18T03:23:16.907Z"
   },
   {
    "duration": 3,
    "start_time": "2021-10-18T03:23:16.928Z"
   },
   {
    "duration": 7,
    "start_time": "2021-10-18T03:23:16.932Z"
   },
   {
    "duration": 7,
    "start_time": "2021-10-18T03:23:16.940Z"
   },
   {
    "duration": 9,
    "start_time": "2021-10-18T03:23:16.949Z"
   },
   {
    "duration": 36,
    "start_time": "2021-10-18T03:23:16.959Z"
   },
   {
    "duration": 9,
    "start_time": "2021-10-18T03:23:16.996Z"
   },
   {
    "duration": 16,
    "start_time": "2021-10-18T03:23:17.007Z"
   },
   {
    "duration": 5,
    "start_time": "2021-10-18T03:23:17.025Z"
   },
   {
    "duration": 9,
    "start_time": "2021-10-18T03:23:17.032Z"
   },
   {
    "duration": 4,
    "start_time": "2021-10-18T03:23:17.043Z"
   },
   {
    "duration": 4,
    "start_time": "2021-10-18T03:23:17.049Z"
   },
   {
    "duration": 37,
    "start_time": "2021-10-18T03:23:17.055Z"
   },
   {
    "duration": 21,
    "start_time": "2021-10-18T03:23:17.093Z"
   },
   {
    "duration": 12,
    "start_time": "2021-10-18T03:23:17.116Z"
   },
   {
    "duration": 5,
    "start_time": "2021-10-18T03:23:17.130Z"
   },
   {
    "duration": 26,
    "start_time": "2021-10-18T03:23:17.137Z"
   },
   {
    "duration": 320,
    "start_time": "2021-10-18T03:23:17.165Z"
   },
   {
    "duration": 5,
    "start_time": "2021-10-18T03:23:17.487Z"
   },
   {
    "duration": 13,
    "start_time": "2021-10-18T03:23:17.494Z"
   },
   {
    "duration": 290,
    "start_time": "2021-10-18T03:23:17.509Z"
   },
   {
    "duration": 12,
    "start_time": "2021-10-18T03:23:17.801Z"
   },
   {
    "duration": 216,
    "start_time": "2021-10-18T03:23:17.814Z"
   },
   {
    "duration": 162,
    "start_time": "2021-10-18T03:23:18.032Z"
   },
   {
    "duration": 13,
    "start_time": "2021-10-18T03:23:18.196Z"
   },
   {
    "duration": 11,
    "start_time": "2021-10-18T03:23:18.210Z"
   },
   {
    "duration": 11,
    "start_time": "2021-10-18T03:23:18.224Z"
   },
   {
    "duration": 270,
    "start_time": "2021-10-18T03:23:18.237Z"
   },
   {
    "duration": 9,
    "start_time": "2021-10-18T03:23:18.509Z"
   },
   {
    "duration": 11,
    "start_time": "2021-10-18T03:23:18.519Z"
   },
   {
    "duration": 255,
    "start_time": "2021-10-18T03:23:18.532Z"
   },
   {
    "duration": 12,
    "start_time": "2021-10-18T03:23:18.789Z"
   },
   {
    "duration": 11,
    "start_time": "2021-10-18T03:23:18.803Z"
   },
   {
    "duration": 344,
    "start_time": "2021-10-18T03:23:18.815Z"
   },
   {
    "duration": 9,
    "start_time": "2021-10-18T03:23:19.161Z"
   },
   {
    "duration": 20,
    "start_time": "2021-10-18T03:23:19.172Z"
   },
   {
    "duration": 11,
    "start_time": "2021-10-18T03:23:19.193Z"
   },
   {
    "duration": 253,
    "start_time": "2021-10-18T03:23:19.205Z"
   },
   {
    "duration": 13,
    "start_time": "2021-10-18T03:23:19.459Z"
   },
   {
    "duration": 23,
    "start_time": "2021-10-18T03:23:19.473Z"
   },
   {
    "duration": 417,
    "start_time": "2021-10-18T03:23:19.497Z"
   },
   {
    "duration": 127,
    "start_time": "2021-10-18T03:23:19.916Z"
   },
   {
    "duration": 328,
    "start_time": "2021-10-18T03:23:20.049Z"
   },
   {
    "duration": 11,
    "start_time": "2021-10-18T03:23:20.379Z"
   },
   {
    "duration": 358,
    "start_time": "2021-10-18T03:23:20.392Z"
   },
   {
    "duration": 325,
    "start_time": "2021-10-18T03:23:20.752Z"
   },
   {
    "duration": 4,
    "start_time": "2021-10-18T03:23:21.078Z"
   },
   {
    "duration": 15,
    "start_time": "2021-10-18T03:23:21.083Z"
   },
   {
    "duration": 57,
    "start_time": "2021-10-18T03:23:21.099Z"
   },
   {
    "duration": 9,
    "start_time": "2021-10-18T03:23:21.157Z"
   },
   {
    "duration": 74,
    "start_time": "2021-10-18T03:23:21.168Z"
   },
   {
    "duration": 18,
    "start_time": "2021-10-18T03:23:21.244Z"
   },
   {
    "duration": 72,
    "start_time": "2021-10-18T03:23:21.263Z"
   },
   {
    "duration": 16,
    "start_time": "2021-10-18T03:23:21.336Z"
   },
   {
    "duration": 80,
    "start_time": "2021-10-18T03:23:21.354Z"
   },
   {
    "duration": 50,
    "start_time": "2021-10-18T03:23:21.436Z"
   },
   {
    "duration": 55,
    "start_time": "2021-10-18T03:23:21.487Z"
   },
   {
    "duration": 75,
    "start_time": "2021-10-18T03:23:21.543Z"
   },
   {
    "duration": 5,
    "start_time": "2021-10-18T03:23:21.619Z"
   },
   {
    "duration": 10,
    "start_time": "2021-10-18T03:23:21.625Z"
   },
   {
    "duration": 9,
    "start_time": "2021-10-18T03:23:21.637Z"
   },
   {
    "duration": 10,
    "start_time": "2021-10-18T03:23:21.647Z"
   },
   {
    "duration": 3,
    "start_time": "2021-10-18T03:23:21.658Z"
   },
   {
    "duration": 39,
    "start_time": "2021-10-18T03:23:21.662Z"
   },
   {
    "duration": 8,
    "start_time": "2021-10-18T03:23:21.703Z"
   },
   {
    "duration": 20,
    "start_time": "2021-10-18T03:23:21.712Z"
   },
   {
    "duration": 13,
    "start_time": "2021-10-18T03:23:21.733Z"
   },
   {
    "duration": 4,
    "start_time": "2021-10-18T03:30:03.312Z"
   },
   {
    "duration": 2,
    "start_time": "2021-10-18T03:30:17.309Z"
   },
   {
    "duration": 262,
    "start_time": "2021-10-18T03:30:30.260Z"
   },
   {
    "duration": 4,
    "start_time": "2021-10-18T03:32:04.093Z"
   },
   {
    "duration": 3,
    "start_time": "2021-10-18T03:32:37.427Z"
   }
  ],
  "kernelspec": {
   "display_name": "Python 3",
   "language": "python",
   "name": "python3"
  },
  "language_info": {
   "codemirror_mode": {
    "name": "ipython",
    "version": 3
   },
   "file_extension": ".py",
   "mimetype": "text/x-python",
   "name": "python",
   "nbconvert_exporter": "python",
   "pygments_lexer": "ipython3",
   "version": "3.8.8"
  },
  "toc": {
   "base_numbering": 1,
   "nav_menu": {},
   "number_sections": false,
   "sideBar": true,
   "skip_h1_title": true,
   "title_cell": "Table of Contents",
   "title_sidebar": "Contents",
   "toc_cell": false,
   "toc_position": {
    "height": "calc(100% - 180px)",
    "left": "10px",
    "top": "150px",
    "width": "433.594px"
   },
   "toc_section_display": true,
   "toc_window_display": false
  }
 },
 "nbformat": 4,
 "nbformat_minor": 2
}
