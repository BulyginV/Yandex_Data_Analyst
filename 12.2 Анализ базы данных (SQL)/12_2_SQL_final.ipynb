{
 "cells": [
  {
   "cell_type": "markdown",
   "metadata": {},
   "source": [
    "# Анализ базы данных сервиса чтения книг (SQL)\n",
    "\n",
    "Коронавирус застал мир врасплох, изменив привычный порядок вещей. В свободное время жители городов больше не выходят на улицу, не посещают кафе и торговые центры. Зато стало больше времени для книг. Это заметили стартаперы — и бросились создавать приложения для тех, кто любит читать.  \n",
    "  \n",
    "Наша компания решила быть на волне и купила крупный сервис для чтения книг по подписке. Наша первая задача в роли аналитика — проанализировать базу данных. В ней — информация о книгах, издательствах, авторах, а также пользовательские обзоры книг. Эти данные помогут сформулировать ценностное предложение для нового продукта.  \n",
    "  \n",
    "<b>В рамках анализа мы выполним следующие задачи:</b>\n",
    "\n",
    "* посчитаем, сколько книг вышло после 1-го января 2000-го года;\n",
    "* для каждой книги посчитаем количество обзоров и среднюю оценку;\n",
    "* определим издательство, которое выпустило наибольшее число книг толще 50-ти страниц;\n",
    "* определим автора с самой высокой средней оценкой книг (будем учитывать только книги с 50-ю и более оценками);\n",
    "* посчитаем среднее количество обзоров от пользователей, которые поставили больше 50-ти оценок.\n",
    "\n",
    "<b>План проекта:</b>\n",
    "\n",
    "* Шаг 1. Загрузка данных, изучение общей информации\n",
    "* Шаг 2. Подсчёт количества книг, вышедших после 1 января 2000 года\n",
    "* Шаг 3. Подсчёт количества обзоров и средней оценки для каждой книги\n",
    "* Шаг 4. Определение издательства, которое выпустило наибольшее число книг толще 50 страниц\n",
    "* Шаг 5. Определение автора с самой высокой средней оценкой книг\n",
    "* Шаг 6. Определение среднего количества обзоров от пользователей, которые поставили больше 50 оценок\n",
    "* Шаг 7. Общий вывод  "
   ]
  },
  {
   "cell_type": "markdown",
   "metadata": {},
   "source": [
    "## Шаг 1. Загрузка данных, изучение общей информации"
   ]
  },
  {
   "cell_type": "markdown",
   "metadata": {},
   "source": [
    "<b>Описание данных:</b>\n",
    "\n",
    "<code><b>books</b></code> — таблица содержит данные о книгах;\n",
    "* <code><b>book_id</b></code> — идентификатор книги;\n",
    "* <code><b>author_id</b></code> — идентификатор автора;\n",
    "* <code><b>title</b></code> — название книги;\n",
    "* <code><b>num_pages</b></code> — количество страниц;\n",
    "* <code><b>publication_date</b></code> — дата публикации книги;\n",
    "* <code><b>publisher_id</b></code> — идентификатор издателя.\n",
    "\n",
    "<code><b>authors</b></code> — таблица содержит данные об авторах;\n",
    "* <code><b>author_id</b></code> — идентификатор автора;\n",
    "* <code><b>author_id</b></code> — имя автора.\n",
    "\n",
    "<code><b>publishers</b></code> — таблица содержит данные об издательствах;\n",
    "* <code><b>publisher_id</b></code> — идентификатор издательства;\n",
    "* <code><b>publisher</b></code> — название издательства.\n",
    "\n",
    "<code><b>ratings</b></code> — таблица содержит данные о пользовательских оценках книг;\n",
    "* <code><b>rating_id</b></code> — идентификатор оценки;\n",
    "* <code><b>book_id</b></code> — идентификатор книги;\n",
    "* <code><b>username</b></code> — имя пользователя, оставившего оценку;\n",
    "* <code><b>rating</b></code> — оценка книги.\n",
    "\n",
    "<code><b>reviews</b></code> — таблица содержит данные о пользовательских обзорах;\n",
    "* <code><b>review_id</b></code> — идентификатор обзора;\n",
    "* <code><b>book_id</b></code> — идентификатор книги;\n",
    "* <code><b>username</b></code> — имя автора обзора;\n",
    "* <code><b>text</b></code> — текст обзора."
   ]
  },
  {
   "cell_type": "markdown",
   "metadata": {},
   "source": [
    "<b>Схема данных:</b>"
   ]
  },
  {
   "cell_type": "markdown",
   "metadata": {},
   "source": [
    "<img src=\"https://pictures.s3.yandex.net/resources/scheme_1589269096.png\">"
   ]
  },
  {
   "cell_type": "markdown",
   "metadata": {},
   "source": [
    "Загрузим необходимые библиотеки и обеспечим доступ к базе данных."
   ]
  },
  {
   "cell_type": "code",
   "execution_count": 1,
   "metadata": {},
   "outputs": [],
   "source": [
    "# импортируем библиотеки\n",
    "import pandas as pd\n",
    "from sqlalchemy import create_engine\n",
    "\n",
    "db_config = {'user': 'praktikum_student', # имя пользователя\n",
    "            'pwd': 'Sdf4$2;d-d30pp', # пароль\n",
    "            'host': 'rc1b-wcoijxj3yxfsf3fs.mdb.yandexcloud.net',\n",
    "            'port': 6432, # порт подключения\n",
    "            'db': 'data-analyst-final-project-db'} # название базы данных\n",
    "\n",
    "connection_string = 'postgresql://{}:{}@{}:{}/{}'.format(db_config['user'],\n",
    "                                                db_config['pwd'],\n",
    "                                                db_config['host'],\n",
    "                                                db_config['port'],\n",
    "                                                db_config['db'])\n",
    "# сохраняем коннектор\n",
    "engine = create_engine(connection_string, connect_args={'sslmode':'require'}) "
   ]
  },
  {
   "cell_type": "code",
   "execution_count": 2,
   "metadata": {},
   "outputs": [],
   "source": [
    "# создадим простейшую функцию проверки дубликатов\n",
    "dict_data = {1:'books',\n",
    "           2:'authors',\n",
    "           3:'publishers',\n",
    "           4:'ratings',\n",
    "           5:'reviews'}\n",
    "\n",
    "def print_duplicated(data, number):\n",
    "    print('Обнаружено дубликатов ({}):'.format(dict_data[number]), data.duplicated().sum())\n",
    "    print('От общей базы это составляет: ', round(((data.duplicated().sum() / len(data))*100), 2), '%', sep='')"
   ]
  },
  {
   "cell_type": "markdown",
   "metadata": {},
   "source": [
    "### Загрузка данных таблицы books"
   ]
  },
  {
   "cell_type": "markdown",
   "metadata": {},
   "source": [
    "Загрузим таблицу <code><b>books</b></code> и ознакомимся с данными."
   ]
  },
  {
   "cell_type": "markdown",
   "metadata": {},
   "source": [
    "<div style=\"border-radius: 15px; border: 3px solid indigo; padding: 15px;\">\n",
    "<code><b>books</b></code> — таблица с данными о книгах\n",
    "</div>"
   ]
  },
  {
   "cell_type": "code",
   "execution_count": 3,
   "metadata": {},
   "outputs": [
    {
     "data": {
      "text/html": [
       "<div>\n",
       "<style scoped>\n",
       "    .dataframe tbody tr th:only-of-type {\n",
       "        vertical-align: middle;\n",
       "    }\n",
       "\n",
       "    .dataframe tbody tr th {\n",
       "        vertical-align: top;\n",
       "    }\n",
       "\n",
       "    .dataframe thead th {\n",
       "        text-align: right;\n",
       "    }\n",
       "</style>\n",
       "<table border=\"1\" class=\"dataframe\">\n",
       "  <thead>\n",
       "    <tr style=\"text-align: right;\">\n",
       "      <th></th>\n",
       "      <th>book_id</th>\n",
       "      <th>author_id</th>\n",
       "      <th>title</th>\n",
       "      <th>num_pages</th>\n",
       "      <th>publication_date</th>\n",
       "      <th>publisher_id</th>\n",
       "    </tr>\n",
       "  </thead>\n",
       "  <tbody>\n",
       "    <tr>\n",
       "      <th>0</th>\n",
       "      <td>1</td>\n",
       "      <td>546</td>\n",
       "      <td>'Salem's Lot</td>\n",
       "      <td>594</td>\n",
       "      <td>2005-11-01</td>\n",
       "      <td>93</td>\n",
       "    </tr>\n",
       "    <tr>\n",
       "      <th>1</th>\n",
       "      <td>2</td>\n",
       "      <td>465</td>\n",
       "      <td>1 000 Places to See Before You Die</td>\n",
       "      <td>992</td>\n",
       "      <td>2003-05-22</td>\n",
       "      <td>336</td>\n",
       "    </tr>\n",
       "    <tr>\n",
       "      <th>2</th>\n",
       "      <td>3</td>\n",
       "      <td>407</td>\n",
       "      <td>13 Little Blue Envelopes (Little Blue Envelope...</td>\n",
       "      <td>322</td>\n",
       "      <td>2010-12-21</td>\n",
       "      <td>135</td>\n",
       "    </tr>\n",
       "    <tr>\n",
       "      <th>3</th>\n",
       "      <td>4</td>\n",
       "      <td>82</td>\n",
       "      <td>1491: New Revelations of the Americas Before C...</td>\n",
       "      <td>541</td>\n",
       "      <td>2006-10-10</td>\n",
       "      <td>309</td>\n",
       "    </tr>\n",
       "    <tr>\n",
       "      <th>4</th>\n",
       "      <td>5</td>\n",
       "      <td>125</td>\n",
       "      <td>1776</td>\n",
       "      <td>386</td>\n",
       "      <td>2006-07-04</td>\n",
       "      <td>268</td>\n",
       "    </tr>\n",
       "  </tbody>\n",
       "</table>\n",
       "</div>"
      ],
      "text/plain": [
       "   book_id  author_id                                              title  \\\n",
       "0        1        546                                       'Salem's Lot   \n",
       "1        2        465                 1 000 Places to See Before You Die   \n",
       "2        3        407  13 Little Blue Envelopes (Little Blue Envelope...   \n",
       "3        4         82  1491: New Revelations of the Americas Before C...   \n",
       "4        5        125                                               1776   \n",
       "\n",
       "   num_pages publication_date  publisher_id  \n",
       "0        594       2005-11-01            93  \n",
       "1        992       2003-05-22           336  \n",
       "2        322       2010-12-21           135  \n",
       "3        541       2006-10-10           309  \n",
       "4        386       2006-07-04           268  "
      ]
     },
     "metadata": {},
     "output_type": "display_data"
    }
   ],
   "source": [
    "query = '''SELECT * FROM books'''\n",
    "books = pd.io.sql.read_sql(query, con = engine)\n",
    "display(books.head())"
   ]
  },
  {
   "cell_type": "code",
   "execution_count": 4,
   "metadata": {},
   "outputs": [
    {
     "name": "stdout",
     "output_type": "stream",
     "text": [
      "<class 'pandas.core.frame.DataFrame'>\n",
      "RangeIndex: 1000 entries, 0 to 999\n",
      "Data columns (total 6 columns):\n",
      " #   Column            Non-Null Count  Dtype \n",
      "---  ------            --------------  ----- \n",
      " 0   book_id           1000 non-null   int64 \n",
      " 1   author_id         1000 non-null   int64 \n",
      " 2   title             1000 non-null   object\n",
      " 3   num_pages         1000 non-null   int64 \n",
      " 4   publication_date  1000 non-null   object\n",
      " 5   publisher_id      1000 non-null   int64 \n",
      "dtypes: int64(4), object(2)\n",
      "memory usage: 47.0+ KB\n"
     ]
    },
    {
     "data": {
      "text/plain": [
       "None"
      ]
     },
     "metadata": {},
     "output_type": "display_data"
    }
   ],
   "source": [
    "display(books.info())"
   ]
  },
  {
   "cell_type": "code",
   "execution_count": 5,
   "metadata": {},
   "outputs": [
    {
     "name": "stdout",
     "output_type": "stream",
     "text": [
      "Обнаружено дубликатов (books): 0\n",
      "От общей базы это составляет: 0.0%\n"
     ]
    }
   ],
   "source": [
    "print_duplicated(books, 1)"
   ]
  },
  {
   "cell_type": "markdown",
   "metadata": {},
   "source": [
    "### Загрузка данных таблицы authors"
   ]
  },
  {
   "cell_type": "markdown",
   "metadata": {},
   "source": [
    "Загрузим таблицу <code><b>authors</b></code> и ознакомимся с данными."
   ]
  },
  {
   "cell_type": "markdown",
   "metadata": {},
   "source": [
    "<div style=\"border-radius: 15px; border: 3px solid indigo; padding: 15px;\">\n",
    "<code><b>authors</b></code> — таблица с данными об авторах\n",
    "</div>"
   ]
  },
  {
   "cell_type": "code",
   "execution_count": 6,
   "metadata": {},
   "outputs": [
    {
     "data": {
      "text/html": [
       "<div>\n",
       "<style scoped>\n",
       "    .dataframe tbody tr th:only-of-type {\n",
       "        vertical-align: middle;\n",
       "    }\n",
       "\n",
       "    .dataframe tbody tr th {\n",
       "        vertical-align: top;\n",
       "    }\n",
       "\n",
       "    .dataframe thead th {\n",
       "        text-align: right;\n",
       "    }\n",
       "</style>\n",
       "<table border=\"1\" class=\"dataframe\">\n",
       "  <thead>\n",
       "    <tr style=\"text-align: right;\">\n",
       "      <th></th>\n",
       "      <th>author_id</th>\n",
       "      <th>author</th>\n",
       "    </tr>\n",
       "  </thead>\n",
       "  <tbody>\n",
       "    <tr>\n",
       "      <th>0</th>\n",
       "      <td>1</td>\n",
       "      <td>A.S. Byatt</td>\n",
       "    </tr>\n",
       "    <tr>\n",
       "      <th>1</th>\n",
       "      <td>2</td>\n",
       "      <td>Aesop/Laura Harris/Laura Gibbs</td>\n",
       "    </tr>\n",
       "    <tr>\n",
       "      <th>2</th>\n",
       "      <td>3</td>\n",
       "      <td>Agatha Christie</td>\n",
       "    </tr>\n",
       "    <tr>\n",
       "      <th>3</th>\n",
       "      <td>4</td>\n",
       "      <td>Alan Brennert</td>\n",
       "    </tr>\n",
       "    <tr>\n",
       "      <th>4</th>\n",
       "      <td>5</td>\n",
       "      <td>Alan Moore/David   Lloyd</td>\n",
       "    </tr>\n",
       "  </tbody>\n",
       "</table>\n",
       "</div>"
      ],
      "text/plain": [
       "   author_id                          author\n",
       "0          1                      A.S. Byatt\n",
       "1          2  Aesop/Laura Harris/Laura Gibbs\n",
       "2          3                 Agatha Christie\n",
       "3          4                   Alan Brennert\n",
       "4          5        Alan Moore/David   Lloyd"
      ]
     },
     "metadata": {},
     "output_type": "display_data"
    }
   ],
   "source": [
    "query = '''SELECT * FROM authors'''\n",
    "authors = pd.io.sql.read_sql(query, con = engine) \n",
    "display(authors.head())"
   ]
  },
  {
   "cell_type": "code",
   "execution_count": 7,
   "metadata": {},
   "outputs": [
    {
     "name": "stdout",
     "output_type": "stream",
     "text": [
      "<class 'pandas.core.frame.DataFrame'>\n",
      "RangeIndex: 636 entries, 0 to 635\n",
      "Data columns (total 2 columns):\n",
      " #   Column     Non-Null Count  Dtype \n",
      "---  ------     --------------  ----- \n",
      " 0   author_id  636 non-null    int64 \n",
      " 1   author     636 non-null    object\n",
      "dtypes: int64(1), object(1)\n",
      "memory usage: 10.1+ KB\n"
     ]
    },
    {
     "data": {
      "text/plain": [
       "None"
      ]
     },
     "metadata": {},
     "output_type": "display_data"
    }
   ],
   "source": [
    "display(authors.info())"
   ]
  },
  {
   "cell_type": "code",
   "execution_count": 8,
   "metadata": {},
   "outputs": [
    {
     "name": "stdout",
     "output_type": "stream",
     "text": [
      "Обнаружено дубликатов (authors): 0\n",
      "От общей базы это составляет: 0.0%\n"
     ]
    }
   ],
   "source": [
    "print_duplicated(authors, 2)"
   ]
  },
  {
   "cell_type": "markdown",
   "metadata": {},
   "source": [
    "### Загрузка данных таблицы publishers"
   ]
  },
  {
   "cell_type": "markdown",
   "metadata": {},
   "source": [
    "Загрузим таблицу <code><b>publishers</b></code> и ознакомимся с данными."
   ]
  },
  {
   "cell_type": "markdown",
   "metadata": {},
   "source": [
    "<div style=\"border-radius: 15px; border: 3px solid indigo; padding: 15px;\">\n",
    "<code><b>publishers</b></code> — таблица с данными об издательствах\n",
    "</div>"
   ]
  },
  {
   "cell_type": "code",
   "execution_count": 9,
   "metadata": {},
   "outputs": [
    {
     "data": {
      "text/html": [
       "<div>\n",
       "<style scoped>\n",
       "    .dataframe tbody tr th:only-of-type {\n",
       "        vertical-align: middle;\n",
       "    }\n",
       "\n",
       "    .dataframe tbody tr th {\n",
       "        vertical-align: top;\n",
       "    }\n",
       "\n",
       "    .dataframe thead th {\n",
       "        text-align: right;\n",
       "    }\n",
       "</style>\n",
       "<table border=\"1\" class=\"dataframe\">\n",
       "  <thead>\n",
       "    <tr style=\"text-align: right;\">\n",
       "      <th></th>\n",
       "      <th>publisher_id</th>\n",
       "      <th>publisher</th>\n",
       "    </tr>\n",
       "  </thead>\n",
       "  <tbody>\n",
       "    <tr>\n",
       "      <th>0</th>\n",
       "      <td>1</td>\n",
       "      <td>Ace</td>\n",
       "    </tr>\n",
       "    <tr>\n",
       "      <th>1</th>\n",
       "      <td>2</td>\n",
       "      <td>Ace Book</td>\n",
       "    </tr>\n",
       "    <tr>\n",
       "      <th>2</th>\n",
       "      <td>3</td>\n",
       "      <td>Ace Books</td>\n",
       "    </tr>\n",
       "    <tr>\n",
       "      <th>3</th>\n",
       "      <td>4</td>\n",
       "      <td>Ace Hardcover</td>\n",
       "    </tr>\n",
       "    <tr>\n",
       "      <th>4</th>\n",
       "      <td>5</td>\n",
       "      <td>Addison Wesley Publishing Company</td>\n",
       "    </tr>\n",
       "  </tbody>\n",
       "</table>\n",
       "</div>"
      ],
      "text/plain": [
       "   publisher_id                          publisher\n",
       "0             1                                Ace\n",
       "1             2                           Ace Book\n",
       "2             3                          Ace Books\n",
       "3             4                      Ace Hardcover\n",
       "4             5  Addison Wesley Publishing Company"
      ]
     },
     "metadata": {},
     "output_type": "display_data"
    }
   ],
   "source": [
    "query = '''SELECT * FROM publishers'''\n",
    "publishers = pd.io.sql.read_sql(query, con = engine) \n",
    "display(publishers.head())"
   ]
  },
  {
   "cell_type": "code",
   "execution_count": 10,
   "metadata": {},
   "outputs": [
    {
     "name": "stdout",
     "output_type": "stream",
     "text": [
      "<class 'pandas.core.frame.DataFrame'>\n",
      "RangeIndex: 340 entries, 0 to 339\n",
      "Data columns (total 2 columns):\n",
      " #   Column        Non-Null Count  Dtype \n",
      "---  ------        --------------  ----- \n",
      " 0   publisher_id  340 non-null    int64 \n",
      " 1   publisher     340 non-null    object\n",
      "dtypes: int64(1), object(1)\n",
      "memory usage: 5.4+ KB\n"
     ]
    },
    {
     "data": {
      "text/plain": [
       "None"
      ]
     },
     "metadata": {},
     "output_type": "display_data"
    }
   ],
   "source": [
    "display(publishers.info())"
   ]
  },
  {
   "cell_type": "code",
   "execution_count": 11,
   "metadata": {},
   "outputs": [
    {
     "name": "stdout",
     "output_type": "stream",
     "text": [
      "Обнаружено дубликатов (publishers): 0\n",
      "От общей базы это составляет: 0.0%\n"
     ]
    }
   ],
   "source": [
    "print_duplicated(publishers, 3)"
   ]
  },
  {
   "cell_type": "markdown",
   "metadata": {},
   "source": [
    "### Загрузка данных таблицы ratings"
   ]
  },
  {
   "cell_type": "markdown",
   "metadata": {},
   "source": [
    "Загрузим таблицу <code><b>ratings</b></code> и ознакомимся с данными."
   ]
  },
  {
   "cell_type": "markdown",
   "metadata": {},
   "source": [
    "<div style=\"border-radius: 15px; border: 3px solid indigo; padding: 15px;\">\n",
    "<code><b>ratings</b></code> — таблица с данными о пользовательских оценках книг\n",
    "</div>"
   ]
  },
  {
   "cell_type": "code",
   "execution_count": 12,
   "metadata": {},
   "outputs": [
    {
     "data": {
      "text/html": [
       "<div>\n",
       "<style scoped>\n",
       "    .dataframe tbody tr th:only-of-type {\n",
       "        vertical-align: middle;\n",
       "    }\n",
       "\n",
       "    .dataframe tbody tr th {\n",
       "        vertical-align: top;\n",
       "    }\n",
       "\n",
       "    .dataframe thead th {\n",
       "        text-align: right;\n",
       "    }\n",
       "</style>\n",
       "<table border=\"1\" class=\"dataframe\">\n",
       "  <thead>\n",
       "    <tr style=\"text-align: right;\">\n",
       "      <th></th>\n",
       "      <th>rating_id</th>\n",
       "      <th>book_id</th>\n",
       "      <th>username</th>\n",
       "      <th>rating</th>\n",
       "    </tr>\n",
       "  </thead>\n",
       "  <tbody>\n",
       "    <tr>\n",
       "      <th>0</th>\n",
       "      <td>1</td>\n",
       "      <td>1</td>\n",
       "      <td>ryanfranco</td>\n",
       "      <td>4</td>\n",
       "    </tr>\n",
       "    <tr>\n",
       "      <th>1</th>\n",
       "      <td>2</td>\n",
       "      <td>1</td>\n",
       "      <td>grantpatricia</td>\n",
       "      <td>2</td>\n",
       "    </tr>\n",
       "    <tr>\n",
       "      <th>2</th>\n",
       "      <td>3</td>\n",
       "      <td>1</td>\n",
       "      <td>brandtandrea</td>\n",
       "      <td>5</td>\n",
       "    </tr>\n",
       "    <tr>\n",
       "      <th>3</th>\n",
       "      <td>4</td>\n",
       "      <td>2</td>\n",
       "      <td>lorichen</td>\n",
       "      <td>3</td>\n",
       "    </tr>\n",
       "    <tr>\n",
       "      <th>4</th>\n",
       "      <td>5</td>\n",
       "      <td>2</td>\n",
       "      <td>mariokeller</td>\n",
       "      <td>2</td>\n",
       "    </tr>\n",
       "  </tbody>\n",
       "</table>\n",
       "</div>"
      ],
      "text/plain": [
       "   rating_id  book_id       username  rating\n",
       "0          1        1     ryanfranco       4\n",
       "1          2        1  grantpatricia       2\n",
       "2          3        1   brandtandrea       5\n",
       "3          4        2       lorichen       3\n",
       "4          5        2    mariokeller       2"
      ]
     },
     "metadata": {},
     "output_type": "display_data"
    }
   ],
   "source": [
    "query = '''SELECT * FROM ratings'''\n",
    "ratings = pd.io.sql.read_sql(query, con = engine) \n",
    "display(ratings.head())"
   ]
  },
  {
   "cell_type": "code",
   "execution_count": 13,
   "metadata": {},
   "outputs": [
    {
     "name": "stdout",
     "output_type": "stream",
     "text": [
      "<class 'pandas.core.frame.DataFrame'>\n",
      "RangeIndex: 6456 entries, 0 to 6455\n",
      "Data columns (total 4 columns):\n",
      " #   Column     Non-Null Count  Dtype \n",
      "---  ------     --------------  ----- \n",
      " 0   rating_id  6456 non-null   int64 \n",
      " 1   book_id    6456 non-null   int64 \n",
      " 2   username   6456 non-null   object\n",
      " 3   rating     6456 non-null   int64 \n",
      "dtypes: int64(3), object(1)\n",
      "memory usage: 201.9+ KB\n"
     ]
    },
    {
     "data": {
      "text/plain": [
       "None"
      ]
     },
     "metadata": {},
     "output_type": "display_data"
    }
   ],
   "source": [
    "display(ratings.info())"
   ]
  },
  {
   "cell_type": "code",
   "execution_count": 14,
   "metadata": {},
   "outputs": [
    {
     "name": "stdout",
     "output_type": "stream",
     "text": [
      "Обнаружено дубликатов (ratings): 0\n",
      "От общей базы это составляет: 0.0%\n"
     ]
    }
   ],
   "source": [
    "print_duplicated(ratings, 4)"
   ]
  },
  {
   "cell_type": "markdown",
   "metadata": {},
   "source": [
    "### Загрузка данных таблицы reviews"
   ]
  },
  {
   "cell_type": "markdown",
   "metadata": {},
   "source": [
    "Загрузим таблицу <code><b>reviews</b></code> и ознакомимся с данными."
   ]
  },
  {
   "cell_type": "markdown",
   "metadata": {},
   "source": [
    "<div style=\"border-radius: 15px; border: 3px solid indigo; padding: 15px;\">\n",
    "<code><b>reviews</b></code> — таблица с данными о пользовательских обзорах\n",
    "</div>"
   ]
  },
  {
   "cell_type": "code",
   "execution_count": 15,
   "metadata": {},
   "outputs": [
    {
     "data": {
      "text/html": [
       "<div>\n",
       "<style scoped>\n",
       "    .dataframe tbody tr th:only-of-type {\n",
       "        vertical-align: middle;\n",
       "    }\n",
       "\n",
       "    .dataframe tbody tr th {\n",
       "        vertical-align: top;\n",
       "    }\n",
       "\n",
       "    .dataframe thead th {\n",
       "        text-align: right;\n",
       "    }\n",
       "</style>\n",
       "<table border=\"1\" class=\"dataframe\">\n",
       "  <thead>\n",
       "    <tr style=\"text-align: right;\">\n",
       "      <th></th>\n",
       "      <th>review_id</th>\n",
       "      <th>book_id</th>\n",
       "      <th>username</th>\n",
       "      <th>text</th>\n",
       "    </tr>\n",
       "  </thead>\n",
       "  <tbody>\n",
       "    <tr>\n",
       "      <th>0</th>\n",
       "      <td>1</td>\n",
       "      <td>1</td>\n",
       "      <td>brandtandrea</td>\n",
       "      <td>Mention society tell send professor analysis. ...</td>\n",
       "    </tr>\n",
       "    <tr>\n",
       "      <th>1</th>\n",
       "      <td>2</td>\n",
       "      <td>1</td>\n",
       "      <td>ryanfranco</td>\n",
       "      <td>Foot glass pretty audience hit themselves. Amo...</td>\n",
       "    </tr>\n",
       "    <tr>\n",
       "      <th>2</th>\n",
       "      <td>3</td>\n",
       "      <td>2</td>\n",
       "      <td>lorichen</td>\n",
       "      <td>Listen treat keep worry. Miss husband tax but ...</td>\n",
       "    </tr>\n",
       "    <tr>\n",
       "      <th>3</th>\n",
       "      <td>4</td>\n",
       "      <td>3</td>\n",
       "      <td>johnsonamanda</td>\n",
       "      <td>Finally month interesting blue could nature cu...</td>\n",
       "    </tr>\n",
       "    <tr>\n",
       "      <th>4</th>\n",
       "      <td>5</td>\n",
       "      <td>3</td>\n",
       "      <td>scotttamara</td>\n",
       "      <td>Nation purpose heavy give wait song will. List...</td>\n",
       "    </tr>\n",
       "  </tbody>\n",
       "</table>\n",
       "</div>"
      ],
      "text/plain": [
       "   review_id  book_id       username  \\\n",
       "0          1        1   brandtandrea   \n",
       "1          2        1     ryanfranco   \n",
       "2          3        2       lorichen   \n",
       "3          4        3  johnsonamanda   \n",
       "4          5        3    scotttamara   \n",
       "\n",
       "                                                text  \n",
       "0  Mention society tell send professor analysis. ...  \n",
       "1  Foot glass pretty audience hit themselves. Amo...  \n",
       "2  Listen treat keep worry. Miss husband tax but ...  \n",
       "3  Finally month interesting blue could nature cu...  \n",
       "4  Nation purpose heavy give wait song will. List...  "
      ]
     },
     "metadata": {},
     "output_type": "display_data"
    }
   ],
   "source": [
    "query = '''SELECT * FROM reviews'''\n",
    "reviews = pd.io.sql.read_sql(query, con = engine) \n",
    "display(reviews.head())"
   ]
  },
  {
   "cell_type": "code",
   "execution_count": 16,
   "metadata": {},
   "outputs": [
    {
     "name": "stdout",
     "output_type": "stream",
     "text": [
      "<class 'pandas.core.frame.DataFrame'>\n",
      "RangeIndex: 2793 entries, 0 to 2792\n",
      "Data columns (total 4 columns):\n",
      " #   Column     Non-Null Count  Dtype \n",
      "---  ------     --------------  ----- \n",
      " 0   review_id  2793 non-null   int64 \n",
      " 1   book_id    2793 non-null   int64 \n",
      " 2   username   2793 non-null   object\n",
      " 3   text       2793 non-null   object\n",
      "dtypes: int64(2), object(2)\n",
      "memory usage: 87.4+ KB\n"
     ]
    },
    {
     "data": {
      "text/plain": [
       "None"
      ]
     },
     "metadata": {},
     "output_type": "display_data"
    }
   ],
   "source": [
    "display(reviews.info())"
   ]
  },
  {
   "cell_type": "code",
   "execution_count": 17,
   "metadata": {},
   "outputs": [
    {
     "name": "stdout",
     "output_type": "stream",
     "text": [
      "Обнаружено дубликатов (reviews): 0\n",
      "От общей базы это составляет: 0.0%\n"
     ]
    }
   ],
   "source": [
    "print_duplicated(reviews, 5)"
   ]
  },
  {
   "cell_type": "markdown",
   "metadata": {},
   "source": [
    "### Выводы по первому шагу"
   ]
  },
  {
   "cell_type": "markdown",
   "metadata": {},
   "source": [
    "<div style=\"border-radius: 15px; border: 3px solid green; padding: 15px;\">\n",
    "<font color='green'><b>ВЫВОД:</b></font><br>\n",
    "Выше изучив данные <code><b>books</b></code>, <code><b>authors</b></code>, <code><b>publishers</b></code>, <code><b>ratings</b></code> и <code><b>reviews</b></code>, обратил внимание на:\n",
    "<br>\n",
    "\n",
    "Отдельно по таблице <b>books</b>:\n",
    "<br>\n",
    "\n",
    "- в таблице 1000 строк и 6 столбцов;<br>\n",
    "- типы данных корректные, за исключением столбца <code><b>publication_date</b></code> (но менять тип данных мы не будем т.к. работаем преимущественно в <code><b>SQL</b></code>);<br>\n",
    "- пропуски отсутствуют;<br>\n",
    "- дубликаты отсутствуют.\n",
    "<br>\n",
    "\n",
    "Отдельно по таблице <b>authors</b>:\n",
    "<br>\n",
    "\n",
    "- в таблице 636 строк и 2 столбца;<br>\n",
    "- типы данных корректные;<br>\n",
    "- пропуски отсутствуют;<br>\n",
    "- дубликаты отсутствуют.\n",
    "<br>    \n",
    "    \n",
    "Отдельно по таблице <b>publishers</b>:\n",
    "<br>\n",
    "\n",
    "- в таблице 340 строк и 2 столбца;<br>\n",
    "- типы данных корректные;<br>\n",
    "- пропуски отсутствуют;<br>\n",
    "- дубликаты отсутствуют.\n",
    "<br>   \n",
    "\n",
    "Отдельно по таблице <b>ratings</b>:\n",
    "<br>\n",
    "\n",
    "- в таблице 6456 строк и 4 столбца;<br>\n",
    "- типы данных корректные;<br>\n",
    "- пропуски отсутствуют;<br>\n",
    "- дубликаты отсутствуют.\n",
    "<br>     \n",
    "    \n",
    "Отдельно по таблице <b>reviews</b>:\n",
    "<br>\n",
    "\n",
    "- в таблице 2793 строк и 4 столбца;<br>\n",
    "- типы данных корректные;<br>\n",
    "- пропуски отсутствуют;<br>\n",
    "- дубликаты отсутствуют.\n",
    "<br>    \n",
    "\n",
    "</div>"
   ]
  },
  {
   "cell_type": "markdown",
   "metadata": {},
   "source": [
    "<hr style=\"border: 2px solid indigo;\" />"
   ]
  },
  {
   "cell_type": "markdown",
   "metadata": {},
   "source": [
    "## Шаг 2. Подсчёт количества книг, вышедших после 1 января 2000 года"
   ]
  },
  {
   "cell_type": "markdown",
   "metadata": {},
   "source": [
    "Посчитаем, сколько книг вышло после 1 января 2000 года."
   ]
  },
  {
   "cell_type": "markdown",
   "metadata": {},
   "source": [
    "<div style=\"border-radius: 15px; border: 3px solid indigo; padding: 15px;\">\n",
    "<code><b>task1</b></code> — количество книг вышедших после 1 января 2000 года\n",
    "</div>"
   ]
  },
  {
   "cell_type": "code",
   "execution_count": 18,
   "metadata": {},
   "outputs": [
    {
     "data": {
      "text/html": [
       "<div>\n",
       "<style scoped>\n",
       "    .dataframe tbody tr th:only-of-type {\n",
       "        vertical-align: middle;\n",
       "    }\n",
       "\n",
       "    .dataframe tbody tr th {\n",
       "        vertical-align: top;\n",
       "    }\n",
       "\n",
       "    .dataframe thead th {\n",
       "        text-align: right;\n",
       "    }\n",
       "</style>\n",
       "<table border=\"1\" class=\"dataframe\">\n",
       "  <thead>\n",
       "    <tr style=\"text-align: right;\">\n",
       "      <th></th>\n",
       "      <th>number_of_books</th>\n",
       "    </tr>\n",
       "  </thead>\n",
       "  <tbody>\n",
       "    <tr>\n",
       "      <th>0</th>\n",
       "      <td>819</td>\n",
       "    </tr>\n",
       "  </tbody>\n",
       "</table>\n",
       "</div>"
      ],
      "text/plain": [
       "   number_of_books\n",
       "0              819"
      ]
     },
     "metadata": {},
     "output_type": "display_data"
    }
   ],
   "source": [
    "query = '''SELECT COUNT(book_id) AS number_of_books\n",
    "           FROM books\n",
    "           WHERE publication_date > '2000-01-01'\n",
    "           '''\n",
    "task1 = pd.io.sql.read_sql(query, con = engine) \n",
    "display(task1)"
   ]
  },
  {
   "cell_type": "markdown",
   "metadata": {},
   "source": [
    "<div style=\"border-radius: 15px; border: 3px solid green; padding: 15px;\">\n",
    "<font color='green'><b>ВЫВОД:</b></font>\n",
    "<br>\n",
    "    \n",
    "Всего после 1 января 2000 года вышло 819 книг.<br>\n",
    "\n",
    "</div>"
   ]
  },
  {
   "cell_type": "markdown",
   "metadata": {},
   "source": [
    "<hr style=\"border: 2px solid indigo;\" />"
   ]
  },
  {
   "cell_type": "markdown",
   "metadata": {},
   "source": [
    "## Шаг 3. Подсчёт количества обзоров и средней оценки для каждой книги"
   ]
  },
  {
   "cell_type": "markdown",
   "metadata": {},
   "source": [
    "Для каждой книги посчитаем количество обзоров и среднюю оценку."
   ]
  },
  {
   "cell_type": "markdown",
   "metadata": {},
   "source": [
    "<div style=\"border-radius: 15px; border: 3px solid indigo; padding: 15px;\">\n",
    "<code><b>task2</b></code> — количество обзоров и средние оценки для каждой книги\n",
    "</div>"
   ]
  },
  {
   "cell_type": "code",
   "execution_count": 19,
   "metadata": {},
   "outputs": [
    {
     "data": {
      "text/html": [
       "<div>\n",
       "<style scoped>\n",
       "    .dataframe tbody tr th:only-of-type {\n",
       "        vertical-align: middle;\n",
       "    }\n",
       "\n",
       "    .dataframe tbody tr th {\n",
       "        vertical-align: top;\n",
       "    }\n",
       "\n",
       "    .dataframe thead th {\n",
       "        text-align: right;\n",
       "    }\n",
       "</style>\n",
       "<table border=\"1\" class=\"dataframe\">\n",
       "  <thead>\n",
       "    <tr style=\"text-align: right;\">\n",
       "      <th></th>\n",
       "      <th>book_id</th>\n",
       "      <th>name_book</th>\n",
       "      <th>count_review</th>\n",
       "      <th>avg_rating</th>\n",
       "    </tr>\n",
       "  </thead>\n",
       "  <tbody>\n",
       "    <tr>\n",
       "      <th>0</th>\n",
       "      <td>948</td>\n",
       "      <td>Twilight (Twilight  #1)</td>\n",
       "      <td>7</td>\n",
       "      <td>3.662500</td>\n",
       "    </tr>\n",
       "    <tr>\n",
       "      <th>1</th>\n",
       "      <td>963</td>\n",
       "      <td>Water for Elephants</td>\n",
       "      <td>6</td>\n",
       "      <td>3.977273</td>\n",
       "    </tr>\n",
       "    <tr>\n",
       "      <th>2</th>\n",
       "      <td>734</td>\n",
       "      <td>The Glass Castle</td>\n",
       "      <td>6</td>\n",
       "      <td>4.206897</td>\n",
       "    </tr>\n",
       "    <tr>\n",
       "      <th>3</th>\n",
       "      <td>302</td>\n",
       "      <td>Harry Potter and the Prisoner of Azkaban (Harr...</td>\n",
       "      <td>6</td>\n",
       "      <td>4.414634</td>\n",
       "    </tr>\n",
       "    <tr>\n",
       "      <th>4</th>\n",
       "      <td>695</td>\n",
       "      <td>The Curious Incident of the Dog in the Night-Time</td>\n",
       "      <td>6</td>\n",
       "      <td>4.081081</td>\n",
       "    </tr>\n",
       "    <tr>\n",
       "      <th>...</th>\n",
       "      <td>...</td>\n",
       "      <td>...</td>\n",
       "      <td>...</td>\n",
       "      <td>...</td>\n",
       "    </tr>\n",
       "    <tr>\n",
       "      <th>995</th>\n",
       "      <td>83</td>\n",
       "      <td>Anne Rice's The Vampire Lestat: A Graphic Novel</td>\n",
       "      <td>0</td>\n",
       "      <td>3.666667</td>\n",
       "    </tr>\n",
       "    <tr>\n",
       "      <th>996</th>\n",
       "      <td>808</td>\n",
       "      <td>The Natural Way to Draw</td>\n",
       "      <td>0</td>\n",
       "      <td>3.000000</td>\n",
       "    </tr>\n",
       "    <tr>\n",
       "      <th>997</th>\n",
       "      <td>672</td>\n",
       "      <td>The Cat in the Hat and Other Dr. Seuss Favorites</td>\n",
       "      <td>0</td>\n",
       "      <td>5.000000</td>\n",
       "    </tr>\n",
       "    <tr>\n",
       "      <th>998</th>\n",
       "      <td>221</td>\n",
       "      <td>Essential Tales and Poems</td>\n",
       "      <td>0</td>\n",
       "      <td>4.000000</td>\n",
       "    </tr>\n",
       "    <tr>\n",
       "      <th>999</th>\n",
       "      <td>191</td>\n",
       "      <td>Disney's Beauty and the Beast (A Little Golden...</td>\n",
       "      <td>0</td>\n",
       "      <td>4.000000</td>\n",
       "    </tr>\n",
       "  </tbody>\n",
       "</table>\n",
       "<p>1000 rows × 4 columns</p>\n",
       "</div>"
      ],
      "text/plain": [
       "     book_id                                          name_book  count_review  \\\n",
       "0        948                            Twilight (Twilight  #1)             7   \n",
       "1        963                                Water for Elephants             6   \n",
       "2        734                                   The Glass Castle             6   \n",
       "3        302  Harry Potter and the Prisoner of Azkaban (Harr...             6   \n",
       "4        695  The Curious Incident of the Dog in the Night-Time             6   \n",
       "..       ...                                                ...           ...   \n",
       "995       83    Anne Rice's The Vampire Lestat: A Graphic Novel             0   \n",
       "996      808                            The Natural Way to Draw             0   \n",
       "997      672   The Cat in the Hat and Other Dr. Seuss Favorites             0   \n",
       "998      221                          Essential Tales and Poems             0   \n",
       "999      191  Disney's Beauty and the Beast (A Little Golden...             0   \n",
       "\n",
       "     avg_rating  \n",
       "0      3.662500  \n",
       "1      3.977273  \n",
       "2      4.206897  \n",
       "3      4.414634  \n",
       "4      4.081081  \n",
       "..          ...  \n",
       "995    3.666667  \n",
       "996    3.000000  \n",
       "997    5.000000  \n",
       "998    4.000000  \n",
       "999    4.000000  \n",
       "\n",
       "[1000 rows x 4 columns]"
      ]
     },
     "metadata": {},
     "output_type": "display_data"
    }
   ],
   "source": [
    "query = '''\n",
    "         SELECT\n",
    "               books.book_id,\n",
    "               books.title AS name_book,\n",
    "               COUNT(DISTINCT reviews.review_id) AS count_review,\n",
    "               AVG(ratings.rating) AS avg_rating\n",
    "         FROM  books\n",
    "               LEFT JOIN reviews ON reviews.book_id = books.book_id\n",
    "               LEFT JOIN ratings ON ratings.book_id = books.book_id\n",
    "         GROUP BY\n",
    "               books.book_id\n",
    "         ORDER BY\n",
    "               count_review DESC\n",
    "               \n",
    "        '''\n",
    "task2= pd.io.sql.read_sql(query, con = engine)\n",
    "display(task2)"
   ]
  },
  {
   "cell_type": "markdown",
   "metadata": {},
   "source": [
    "<div style=\"border-radius: 15px; border: 3px solid green; padding: 15px;\">\n",
    "<font color='green'><b>ВЫВОД:</b></font>\n",
    "<br>\n",
    "    \n",
    "Лидером по количеству отзывов стало произведение <code><b>Twilight (Twilight #1)</b></code>.<br>\n",
    "\n",
    "</div>"
   ]
  },
  {
   "cell_type": "markdown",
   "metadata": {},
   "source": [
    "<hr style=\"border: 2px solid indigo;\" />"
   ]
  },
  {
   "cell_type": "markdown",
   "metadata": {},
   "source": [
    "## Шаг 4. Определение издательства, которое выпустило наибольшее число книг толще 50 страниц"
   ]
  },
  {
   "cell_type": "markdown",
   "metadata": {},
   "source": [
    "Определим издательство, которое выпустило наибольшее число книг толще 50 страниц."
   ]
  },
  {
   "cell_type": "markdown",
   "metadata": {},
   "source": [
    "<div style=\"border-radius: 15px; border: 3px solid indigo; padding: 15px;\">\n",
    "<code><b>task3</b></code> — издательство, которое выпустило наибольшее число книг толще 50 страниц\n",
    "</div>"
   ]
  },
  {
   "cell_type": "code",
   "execution_count": 20,
   "metadata": {},
   "outputs": [
    {
     "data": {
      "text/html": [
       "<div>\n",
       "<style scoped>\n",
       "    .dataframe tbody tr th:only-of-type {\n",
       "        vertical-align: middle;\n",
       "    }\n",
       "\n",
       "    .dataframe tbody tr th {\n",
       "        vertical-align: top;\n",
       "    }\n",
       "\n",
       "    .dataframe thead th {\n",
       "        text-align: right;\n",
       "    }\n",
       "</style>\n",
       "<table border=\"1\" class=\"dataframe\">\n",
       "  <thead>\n",
       "    <tr style=\"text-align: right;\">\n",
       "      <th></th>\n",
       "      <th>publisher</th>\n",
       "      <th>number_of_books</th>\n",
       "    </tr>\n",
       "  </thead>\n",
       "  <tbody>\n",
       "    <tr>\n",
       "      <th>0</th>\n",
       "      <td>Penguin Books</td>\n",
       "      <td>42</td>\n",
       "    </tr>\n",
       "  </tbody>\n",
       "</table>\n",
       "</div>"
      ],
      "text/plain": [
       "       publisher  number_of_books\n",
       "0  Penguin Books               42"
      ]
     },
     "metadata": {},
     "output_type": "display_data"
    }
   ],
   "source": [
    "query = '''SELECT publisher,\n",
    "                  COUNT(book_id) AS number_of_books\n",
    "           FROM publishers p\n",
    "           JOIN books b ON b.publisher_id = p.publisher_id\n",
    "           GROUP BY publisher\n",
    "           HAVING MIN(num_pages) > 50\n",
    "           ORDER BY number_of_books DESC\n",
    "           LIMIT 1\n",
    "           '''\n",
    "task3 = pd.io.sql.read_sql(query, con = engine) \n",
    "display(task3)"
   ]
  },
  {
   "cell_type": "markdown",
   "metadata": {},
   "source": [
    "<div style=\"border-radius: 15px; border: 3px solid green; padding: 15px;\">\n",
    "<font color='green'><b>ВЫВОД:</b></font>\n",
    "<br>\n",
    "    \n",
    "Издательство, выпустившее наибольшее число книг толще 50 страниц - <code><b>Penguin Books</b></code> с количеством выпущенных книг равным 42.<br>\n",
    "\n",
    "</div>"
   ]
  },
  {
   "cell_type": "markdown",
   "metadata": {},
   "source": [
    "<hr style=\"border: 2px solid indigo;\" />"
   ]
  },
  {
   "cell_type": "markdown",
   "metadata": {},
   "source": [
    "## Шаг 5. Определение автора с самой высокой средней оценкой книг"
   ]
  },
  {
   "cell_type": "markdown",
   "metadata": {},
   "source": [
    "Определим автора с самой высокой средней оценкой книг (учтём только книги с 50 и более оценками)."
   ]
  },
  {
   "cell_type": "markdown",
   "metadata": {},
   "source": [
    "<div style=\"border-radius: 15px; border: 3px solid indigo; padding: 15px;\">\n",
    "<code><b>task4</b></code> — автор с самой высокой средней оценкой книг\n",
    "</div>"
   ]
  },
  {
   "cell_type": "code",
   "execution_count": 21,
   "metadata": {},
   "outputs": [
    {
     "data": {
      "text/html": [
       "<div>\n",
       "<style scoped>\n",
       "    .dataframe tbody tr th:only-of-type {\n",
       "        vertical-align: middle;\n",
       "    }\n",
       "\n",
       "    .dataframe tbody tr th {\n",
       "        vertical-align: top;\n",
       "    }\n",
       "\n",
       "    .dataframe thead th {\n",
       "        text-align: right;\n",
       "    }\n",
       "</style>\n",
       "<table border=\"1\" class=\"dataframe\">\n",
       "  <thead>\n",
       "    <tr style=\"text-align: right;\">\n",
       "      <th></th>\n",
       "      <th>author</th>\n",
       "      <th>average_rating</th>\n",
       "    </tr>\n",
       "  </thead>\n",
       "  <tbody>\n",
       "    <tr>\n",
       "      <th>0</th>\n",
       "      <td>J.K. Rowling/Mary GrandPré</td>\n",
       "      <td>4.283844</td>\n",
       "    </tr>\n",
       "  </tbody>\n",
       "</table>\n",
       "</div>"
      ],
      "text/plain": [
       "                       author  average_rating\n",
       "0  J.K. Rowling/Mary GrandPré        4.283844"
      ]
     },
     "metadata": {},
     "output_type": "display_data"
    }
   ],
   "source": [
    "query = '''SELECT authors.author,\n",
    "                  top.avg AS average_rating\n",
    "           FROM authors\n",
    "           RIGHT JOIN (SELECT author_id,\n",
    "                              AVG(rating_avg)\n",
    "                       FROM books\n",
    "                       LEFT JOIN (SELECT AVG(rating) AS rating_avg, \n",
    "                                         book_id \n",
    "                                  FROM ratings\n",
    "                                  GROUP BY book_id) AS ratings ON books.book_id = ratings.book_id\n",
    "                       WHERE books.book_id IN (SELECT books.book_id\n",
    "                                               FROM books\n",
    "                                               LEFT JOIN ratings ON books.book_id = ratings.book_id\n",
    "                                               GROUP BY books.book_id\n",
    "                                               HAVING COUNT(rating_id) >= 50)\n",
    "                       GROUP BY author_id\n",
    "                       ORDER BY avg DESC\n",
    "                       LIMIT 1) AS top ON authors.author_id = top.author_id\n",
    "           '''\n",
    "task4 = pd.io.sql.read_sql(query, con = engine) \n",
    "display(task4)"
   ]
  },
  {
   "cell_type": "markdown",
   "metadata": {},
   "source": [
    "<div style=\"border-radius: 15px; border: 3px solid green; padding: 15px;\">\n",
    "<font color='green'><b>ВЫВОД:</b></font>\n",
    "<br>\n",
    "    \n",
    "Автор с самой высокой средней оценкой книг - <code><b>J.K. Rowling/Mary GrandPré</b></code> (для книг с количеством оценок больше 50).<br>\n",
    "\n",
    "</div>"
   ]
  },
  {
   "cell_type": "markdown",
   "metadata": {},
   "source": [
    "<hr style=\"border: 2px solid indigo;\" />"
   ]
  },
  {
   "cell_type": "markdown",
   "metadata": {},
   "source": [
    "## Шаг 6. Определение среднего количества обзоров от пользователей, которые поставили больше 50 оценок"
   ]
  },
  {
   "cell_type": "markdown",
   "metadata": {},
   "source": [
    "Посчитаем среднее количество обзоров от пользователей, которые поставили больше 50 оценок."
   ]
  },
  {
   "cell_type": "markdown",
   "metadata": {},
   "source": [
    "<div style=\"border-radius: 15px; border: 3px solid indigo; padding: 15px;\">\n",
    "<code><b>task5</b></code> — среднее количество обзоров от пользователей, которые поставили больше 50 оценок\n",
    "</div>"
   ]
  },
  {
   "cell_type": "code",
   "execution_count": 22,
   "metadata": {},
   "outputs": [
    {
     "data": {
      "text/html": [
       "<div>\n",
       "<style scoped>\n",
       "    .dataframe tbody tr th:only-of-type {\n",
       "        vertical-align: middle;\n",
       "    }\n",
       "\n",
       "    .dataframe tbody tr th {\n",
       "        vertical-align: top;\n",
       "    }\n",
       "\n",
       "    .dataframe thead th {\n",
       "        text-align: right;\n",
       "    }\n",
       "</style>\n",
       "<table border=\"1\" class=\"dataframe\">\n",
       "  <thead>\n",
       "    <tr style=\"text-align: right;\">\n",
       "      <th></th>\n",
       "      <th>avg_reviews</th>\n",
       "    </tr>\n",
       "  </thead>\n",
       "  <tbody>\n",
       "    <tr>\n",
       "      <th>0</th>\n",
       "      <td>24.333333</td>\n",
       "    </tr>\n",
       "  </tbody>\n",
       "</table>\n",
       "</div>"
      ],
      "text/plain": [
       "   avg_reviews\n",
       "0    24.333333"
      ]
     },
     "metadata": {},
     "output_type": "display_data"
    }
   ],
   "source": [
    "query = '''SELECT AVG((COUNT)) AS avg_reviews\n",
    "           FROM\n",
    "               (SELECT COUNT(text)\n",
    "                FROM reviews\n",
    "                FULL OUTER JOIN (SELECT username,\n",
    "                                        COUNT(rating_id) as cnt\n",
    "                                 FROM ratings\n",
    "                                 GROUP BY username) AS cnt_rating\n",
    "                ON cnt_rating.username = reviews.username\n",
    "                WHERE cnt > 50\n",
    "                GROUP BY reviews.username) as count;                                  \n",
    "                '''\n",
    "task5 = pd.io.sql.read_sql(query, con = engine) \n",
    "display(task5)"
   ]
  },
  {
   "cell_type": "markdown",
   "metadata": {},
   "source": [
    "<div style=\"border-radius: 15px; border: 3px solid green; padding: 15px;\">\n",
    "<font color='green'><b>ВЫВОД:</b></font>\n",
    "<br>\n",
    "    \n",
    "Среднее количество отзывов от пользователей, поставивших больше 50 оценок - 24,3.<br>\n",
    "\n",
    "</div>"
   ]
  },
  {
   "cell_type": "markdown",
   "metadata": {},
   "source": [
    "<hr style=\"border: 2px solid indigo;\" />"
   ]
  },
  {
   "cell_type": "markdown",
   "metadata": {},
   "source": [
    "## Шаг 7. Общий вывод"
   ]
  },
  {
   "cell_type": "markdown",
   "metadata": {},
   "source": [
    "<div style=\"border-radius: 15px; border: 3px solid green; padding: 15px;\">\n",
    "<font color='green'><b>ВЫВОД:</b></font>\n",
    "<br>\n",
    "    \n",
    "- После 1 января 2000 года вышло 819 книг;<br>\n",
    "- Для книги <code><b>Twilight</b></code> вышло 7 обзоров при рейтинге книги 3.7, в то время как для книги <code><b>The Hobbit or There and Back Again</b></code> при рейтинге 4.1 вышло 6 обзоров;<br>\n",
    "- Издательство, выпустившее наибольшее число книг толще 50 страниц: <code><b>Penguin Books</b></code> 42 книги;<br>\n",
    "- Автор с самой высокой средней оценкой книг: <code><b>J.K. Rowling/Mary GrandPré</b></code> с рейтингом 4.28;<br>\n",
    "- Cреднее количество обзоров от пользователей, которые поставили больше 50 оценок: 24.3.\n",
    "<br>\n",
    "\n",
    "</div>"
   ]
  },
  {
   "cell_type": "markdown",
   "metadata": {},
   "source": [
    "<div style=\"border-radius: 15px; border: 3px solid green; padding: 15px;\">\n",
    "<font color='green'><b>РЕКОМЕНДАЦИИ:</b></font>\n",
    "<br>\n",
    "    \n",
    "- Продвигать книги имеющие достаточно высокий рейтинг или большое количество обзоров;<br>\n",
    "- Активных пользователей выделить на фоне остальных и стимулировать оставлять еще больше обзоров на прочитанные книги;<br>\n",
    "- Заключить с издательством, выпускающее больше всего книг (толще 50 листов) договор о предоставление новых книг в наш сервис в числе первых.\n",
    "<br>\n",
    "\n",
    "</div>"
   ]
  },
  {
   "cell_type": "markdown",
   "metadata": {},
   "source": [
    "<hr style=\"border: 2px solid indigo;\" />"
   ]
  }
 ],
 "metadata": {
  "ExecuteTimeLog": [
   {
    "duration": 660,
    "start_time": "2021-12-21T23:49:10.141Z"
   },
   {
    "duration": 294,
    "start_time": "2021-12-21T23:59:31.908Z"
   },
   {
    "duration": 94,
    "start_time": "2021-12-21T23:59:56.428Z"
   },
   {
    "duration": 8,
    "start_time": "2021-12-22T00:00:26.866Z"
   },
   {
    "duration": 4,
    "start_time": "2021-12-22T00:03:45.257Z"
   },
   {
    "duration": 9,
    "start_time": "2021-12-22T00:04:11.562Z"
   },
   {
    "duration": 82,
    "start_time": "2021-12-22T00:10:48.559Z"
   },
   {
    "duration": 7,
    "start_time": "2021-12-22T00:11:04.912Z"
   },
   {
    "duration": 6,
    "start_time": "2021-12-22T00:11:28.836Z"
   },
   {
    "duration": 72,
    "start_time": "2021-12-22T00:11:57.879Z"
   },
   {
    "duration": 7,
    "start_time": "2021-12-22T00:12:14.157Z"
   },
   {
    "duration": 6,
    "start_time": "2021-12-22T00:12:30.195Z"
   },
   {
    "duration": 127,
    "start_time": "2021-12-22T00:13:01.016Z"
   },
   {
    "duration": 7,
    "start_time": "2021-12-22T00:13:31.411Z"
   },
   {
    "duration": 9,
    "start_time": "2021-12-22T00:13:48.597Z"
   },
   {
    "duration": 118,
    "start_time": "2021-12-22T00:14:37.558Z"
   },
   {
    "duration": 7,
    "start_time": "2021-12-22T00:14:38.360Z"
   },
   {
    "duration": 9,
    "start_time": "2021-12-22T00:14:39.061Z"
   },
   {
    "duration": 72,
    "start_time": "2021-12-22T00:32:25.242Z"
   },
   {
    "duration": 88,
    "start_time": "2021-12-22T00:40:07.457Z"
   },
   {
    "duration": 88,
    "start_time": "2021-12-22T00:40:52.358Z"
   },
   {
    "duration": 114,
    "start_time": "2021-12-22T00:44:04.639Z"
   },
   {
    "duration": 107,
    "start_time": "2021-12-22T00:46:35.631Z"
   },
   {
    "duration": 108,
    "start_time": "2021-12-22T00:51:55.341Z"
   },
   {
    "duration": 106,
    "start_time": "2021-12-22T00:59:21.914Z"
   },
   {
    "duration": 71,
    "start_time": "2021-12-22T00:59:40.402Z"
   },
   {
    "duration": 76,
    "start_time": "2021-12-22T01:03:22.515Z"
   },
   {
    "duration": 74,
    "start_time": "2021-12-22T01:07:21.830Z"
   },
   {
    "duration": 4,
    "start_time": "2021-12-22T01:23:24.081Z"
   },
   {
    "duration": 7,
    "start_time": "2021-12-22T01:23:24.087Z"
   },
   {
    "duration": 275,
    "start_time": "2021-12-22T01:23:24.096Z"
   },
   {
    "duration": 6,
    "start_time": "2021-12-22T01:23:24.373Z"
   },
   {
    "duration": 10,
    "start_time": "2021-12-22T01:23:24.380Z"
   },
   {
    "duration": 71,
    "start_time": "2021-12-22T01:23:24.392Z"
   },
   {
    "duration": 6,
    "start_time": "2021-12-22T01:23:24.465Z"
   },
   {
    "duration": 6,
    "start_time": "2021-12-22T01:23:24.472Z"
   },
   {
    "duration": 71,
    "start_time": "2021-12-22T01:23:24.480Z"
   },
   {
    "duration": 6,
    "start_time": "2021-12-22T01:23:24.552Z"
   },
   {
    "duration": 11,
    "start_time": "2021-12-22T01:23:24.559Z"
   },
   {
    "duration": 141,
    "start_time": "2021-12-22T01:23:24.571Z"
   },
   {
    "duration": 6,
    "start_time": "2021-12-22T01:23:24.714Z"
   },
   {
    "duration": 9,
    "start_time": "2021-12-22T01:23:24.722Z"
   },
   {
    "duration": 87,
    "start_time": "2021-12-22T01:23:24.732Z"
   },
   {
    "duration": 6,
    "start_time": "2021-12-22T01:23:24.821Z"
   },
   {
    "duration": 9,
    "start_time": "2021-12-22T01:23:24.828Z"
   },
   {
    "duration": 70,
    "start_time": "2021-12-22T01:23:24.838Z"
   },
   {
    "duration": 88,
    "start_time": "2021-12-22T01:23:24.909Z"
   },
   {
    "duration": 71,
    "start_time": "2021-12-22T01:23:24.999Z"
   },
   {
    "duration": 74,
    "start_time": "2021-12-22T01:23:25.071Z"
   },
   {
    "duration": 71,
    "start_time": "2021-12-22T01:23:25.147Z"
   },
   {
    "duration": 1088,
    "start_time": "2021-12-22T18:51:08.393Z"
   },
   {
    "duration": 7,
    "start_time": "2021-12-22T18:51:09.484Z"
   },
   {
    "duration": 273,
    "start_time": "2021-12-22T18:51:09.497Z"
   },
   {
    "duration": 13,
    "start_time": "2021-12-22T18:51:09.773Z"
   },
   {
    "duration": 18,
    "start_time": "2021-12-22T18:51:09.789Z"
   },
   {
    "duration": 70,
    "start_time": "2021-12-22T18:51:09.809Z"
   },
   {
    "duration": 12,
    "start_time": "2021-12-22T18:51:09.881Z"
   },
   {
    "duration": 14,
    "start_time": "2021-12-22T18:51:09.896Z"
   },
   {
    "duration": 71,
    "start_time": "2021-12-22T18:51:09.913Z"
   },
   {
    "duration": 13,
    "start_time": "2021-12-22T18:51:09.992Z"
   },
   {
    "duration": 14,
    "start_time": "2021-12-22T18:51:10.009Z"
   },
   {
    "duration": 113,
    "start_time": "2021-12-22T18:51:10.026Z"
   },
   {
    "duration": 13,
    "start_time": "2021-12-22T18:51:10.142Z"
   },
   {
    "duration": 19,
    "start_time": "2021-12-22T18:51:10.158Z"
   },
   {
    "duration": 86,
    "start_time": "2021-12-22T18:51:10.180Z"
   },
   {
    "duration": 14,
    "start_time": "2021-12-22T18:51:10.268Z"
   },
   {
    "duration": 16,
    "start_time": "2021-12-22T18:51:10.286Z"
   },
   {
    "duration": 68,
    "start_time": "2021-12-22T18:51:10.305Z"
   },
   {
    "duration": 540,
    "start_time": "2021-12-22T18:51:10.376Z"
   },
   {
    "duration": -104,
    "start_time": "2021-12-22T18:51:11.022Z"
   },
   {
    "duration": -109,
    "start_time": "2021-12-22T18:51:11.028Z"
   },
   {
    "duration": -110,
    "start_time": "2021-12-22T18:51:11.031Z"
   },
   {
    "duration": 728,
    "start_time": "2021-12-22T21:02:04.464Z"
   },
   {
    "duration": 4,
    "start_time": "2021-12-22T21:02:05.729Z"
   },
   {
    "duration": 261,
    "start_time": "2021-12-22T21:02:11.858Z"
   },
   {
    "duration": 9,
    "start_time": "2021-12-22T21:02:13.832Z"
   },
   {
    "duration": 9,
    "start_time": "2021-12-22T21:02:13.933Z"
   },
   {
    "duration": 75,
    "start_time": "2021-12-22T21:02:17.430Z"
   },
   {
    "duration": 7,
    "start_time": "2021-12-22T21:02:18.192Z"
   },
   {
    "duration": 7,
    "start_time": "2021-12-22T21:02:19.099Z"
   },
   {
    "duration": 67,
    "start_time": "2021-12-22T21:02:22.116Z"
   },
   {
    "duration": 7,
    "start_time": "2021-12-22T21:02:23.271Z"
   },
   {
    "duration": 5,
    "start_time": "2021-12-22T21:02:25.728Z"
   },
   {
    "duration": 115,
    "start_time": "2021-12-22T21:02:32.287Z"
   },
   {
    "duration": 7,
    "start_time": "2021-12-22T21:02:38.591Z"
   },
   {
    "duration": 8,
    "start_time": "2021-12-22T21:02:39.403Z"
   },
   {
    "duration": 108,
    "start_time": "2021-12-22T21:02:42.419Z"
   },
   {
    "duration": 7,
    "start_time": "2021-12-22T21:02:45.170Z"
   },
   {
    "duration": 10,
    "start_time": "2021-12-22T21:02:45.864Z"
   },
   {
    "duration": 66,
    "start_time": "2021-12-22T21:02:57.188Z"
   },
   {
    "duration": 103,
    "start_time": "2021-12-22T21:07:51.685Z"
   },
   {
    "duration": 101,
    "start_time": "2021-12-22T21:23:54.916Z"
   },
   {
    "duration": 67,
    "start_time": "2021-12-22T21:24:07.412Z"
   },
   {
    "duration": 71,
    "start_time": "2021-12-22T21:24:18.235Z"
   },
   {
    "duration": 69,
    "start_time": "2021-12-22T21:24:29.105Z"
   },
   {
    "duration": 5,
    "start_time": "2021-12-22T21:25:07.347Z"
   },
   {
    "duration": 32,
    "start_time": "2021-12-22T21:25:07.354Z"
   },
   {
    "duration": 292,
    "start_time": "2021-12-22T21:25:07.388Z"
   },
   {
    "duration": 6,
    "start_time": "2021-12-22T21:25:07.682Z"
   },
   {
    "duration": 45,
    "start_time": "2021-12-22T21:25:07.690Z"
   },
   {
    "duration": 87,
    "start_time": "2021-12-22T21:25:07.736Z"
   },
   {
    "duration": 6,
    "start_time": "2021-12-22T21:25:07.826Z"
   },
   {
    "duration": 49,
    "start_time": "2021-12-22T21:25:07.834Z"
   },
   {
    "duration": 89,
    "start_time": "2021-12-22T21:25:07.885Z"
   },
   {
    "duration": 6,
    "start_time": "2021-12-22T21:25:07.976Z"
   },
   {
    "duration": 40,
    "start_time": "2021-12-22T21:25:07.984Z"
   },
   {
    "duration": 169,
    "start_time": "2021-12-22T21:25:08.026Z"
   },
   {
    "duration": 6,
    "start_time": "2021-12-22T21:25:08.197Z"
   },
   {
    "duration": 35,
    "start_time": "2021-12-22T21:25:08.205Z"
   },
   {
    "duration": 105,
    "start_time": "2021-12-22T21:25:08.242Z"
   },
   {
    "duration": 7,
    "start_time": "2021-12-22T21:25:08.349Z"
   },
   {
    "duration": 23,
    "start_time": "2021-12-22T21:25:08.358Z"
   },
   {
    "duration": 108,
    "start_time": "2021-12-22T21:25:08.384Z"
   },
   {
    "duration": 85,
    "start_time": "2021-12-22T21:25:08.494Z"
   },
   {
    "duration": 71,
    "start_time": "2021-12-22T21:25:08.581Z"
   },
   {
    "duration": 77,
    "start_time": "2021-12-22T21:25:08.654Z"
   },
   {
    "duration": 71,
    "start_time": "2021-12-22T21:25:08.733Z"
   },
   {
    "duration": 853,
    "start_time": "2021-12-23T19:43:44.163Z"
   },
   {
    "duration": 5,
    "start_time": "2021-12-23T19:43:45.018Z"
   },
   {
    "duration": 242,
    "start_time": "2021-12-23T19:43:45.027Z"
   },
   {
    "duration": 11,
    "start_time": "2021-12-23T19:43:45.272Z"
   },
   {
    "duration": 13,
    "start_time": "2021-12-23T19:43:45.286Z"
   },
   {
    "duration": 63,
    "start_time": "2021-12-23T19:43:45.302Z"
   },
   {
    "duration": 8,
    "start_time": "2021-12-23T19:43:45.367Z"
   },
   {
    "duration": 8,
    "start_time": "2021-12-23T19:43:45.378Z"
   },
   {
    "duration": 61,
    "start_time": "2021-12-23T19:43:45.390Z"
   },
   {
    "duration": 10,
    "start_time": "2021-12-23T19:43:45.454Z"
   },
   {
    "duration": 8,
    "start_time": "2021-12-23T19:43:45.467Z"
   },
   {
    "duration": 93,
    "start_time": "2021-12-23T19:43:45.478Z"
   },
   {
    "duration": 10,
    "start_time": "2021-12-23T19:43:45.573Z"
   },
   {
    "duration": 11,
    "start_time": "2021-12-23T19:43:45.585Z"
   },
   {
    "duration": 77,
    "start_time": "2021-12-23T19:43:45.599Z"
   },
   {
    "duration": 9,
    "start_time": "2021-12-23T19:43:45.679Z"
   },
   {
    "duration": 12,
    "start_time": "2021-12-23T19:43:45.691Z"
   },
   {
    "duration": 58,
    "start_time": "2021-12-23T19:43:45.705Z"
   },
   {
    "duration": 81,
    "start_time": "2021-12-23T19:43:45.766Z"
   },
   {
    "duration": 61,
    "start_time": "2021-12-23T19:43:45.850Z"
   },
   {
    "duration": 65,
    "start_time": "2021-12-23T19:43:45.914Z"
   },
   {
    "duration": 64,
    "start_time": "2021-12-23T19:43:45.982Z"
   }
  ],
  "kernelspec": {
   "display_name": "Python 3",
   "language": "python",
   "name": "python3"
  },
  "language_info": {
   "codemirror_mode": {
    "name": "ipython",
    "version": 3
   },
   "file_extension": ".py",
   "mimetype": "text/x-python",
   "name": "python",
   "nbconvert_exporter": "python",
   "pygments_lexer": "ipython3",
   "version": "3.8.8"
  },
  "toc": {
   "base_numbering": 1,
   "nav_menu": {},
   "number_sections": false,
   "sideBar": true,
   "skip_h1_title": true,
   "title_cell": "Table of Contents",
   "title_sidebar": "Contents",
   "toc_cell": false,
   "toc_position": {},
   "toc_section_display": true,
   "toc_window_display": false
  }
 },
 "nbformat": 4,
 "nbformat_minor": 2
}
