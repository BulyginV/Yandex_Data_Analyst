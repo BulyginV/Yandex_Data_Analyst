{
 "cells": [
  {
   "cell_type": "markdown",
   "metadata": {},
   "source": [
    "# Исследование данных авиакомпании — проверка гипотезы о повышении спроса во время фестивалей\n",
    "\n",
    "Компании «F9» — это российская авиакомпания, выполняющая внутренние пассажирские авиаперевозки. Сотни перелётов каждый день. Важно понять предпочтения пользователей, покупающих билеты на те или иные направления.\n",
    "\n",
    "Нам предстоит изучить базу данных и проанализировать спрос пассажиров на рейсы в города, где проходят крупнейшие фестивали.\n",
    "\n",
    "# Сценарий по выполнению проекта\n",
    "\n",
    "### Шаг 1. Загрузка и изучение данных<a class=\"tocSkip\"></a> \n",
    "\n",
    "У нас есть файлы, в которых содержатся результаты запросов.\n",
    "\n",
    "<b>Путь к файлам запросов 1 и 2:</b>\n",
    "* <code><b>/datasets/query_1.csv</b></code><br>\n",
    "* <code><b>/datasets/query_3.csv</b></code><br>\n",
    "\n",
    "<b>Описание данных</b>\n",
    "* <code><b>model</b></code> — модели самолета\n",
    "* <code><b>flights_amount</b></code> — количество рейсов для каждой модели самолетов model в сентябре 2018 года\n",
    "* <code><b>city</b></code> — городах\n",
    "* <code><b>average_flights</b></code> — среднем количестве рейсов, прибывающих в город city за день в августе 2018 года\n",
    "\n",
    "### Шаг 2. Проверить типы данных на корректность<a class=\"tocSkip\"></a>\n",
    "\n",
    "### Шаг 3. Выбрать топ-10 городов по количеству рейсов<a class=\"tocSkip\"></a>\n",
    "\n",
    "### Шаг 4. Построить графики и сделать выводы<a class=\"tocSkip\"></a>\n",
    "\n",
    "* 4.1. График - модели самолетов и количество рейсов\n",
    "* 4.2. График - города и количество рейсов\n",
    "* 4.3. График - ТОП-10 городов и количество рейсов\n",
    "\n",
    "### Шаг 5. Итоговый вывод<a class=\"tocSkip\"></a>"
   ]
  },
  {
   "cell_type": "markdown",
   "metadata": {},
   "source": [
    "<hr style=\"border: 2px solid indigo;\" />"
   ]
  },
  {
   "cell_type": "markdown",
   "metadata": {},
   "source": [
    "## Шаг 1. Загрузка и изучение данных\n",
    "\n",
    "У нас есть файлы, в которых содержатся результаты запросов.\n",
    "\n",
    "<b>Путь к файлам запросов 1 и 2:</b>\n",
    "* <code><b>/datasets/query_1.csv</b></code><br>\n",
    "* <code><b>/datasets/query_3.csv</b></code><br>\n",
    "\n",
    "<b>Описание данных</b>\n",
    "* <code><b>model</b></code> — модели самолета\n",
    "* <code><b>flights_amount</b></code> — количество рейсов для каждой модели самолетов model в сентябре 2018 года\n",
    "* <code><b>city</b></code> — информация о городах\n",
    "* <code><b>average_flights</b></code> — среднем количестве рейсов, прибывающих в город city за день в августе 2018 года"
   ]
  },
  {
   "cell_type": "markdown",
   "metadata": {},
   "source": [
    "Загрузим необходимые библиотеки."
   ]
  },
  {
   "cell_type": "code",
   "execution_count": 1,
   "metadata": {},
   "outputs": [],
   "source": [
    "import pandas as pd\n",
    "import matplotlib\n",
    "import matplotlib.pyplot as plt\n",
    "import seaborn as sns\n",
    "import numpy as np\n",
    "from scipy import stats as st\n",
    "pd.set_option('display.max_columns', None)\n",
    "import warnings\n",
    "warnings.simplefilter(action='ignore', category=FutureWarning)"
   ]
  },
  {
   "cell_type": "markdown",
   "metadata": {},
   "source": [
    "Загрузим датасет <code><b>data_query_1</b></code>."
   ]
  },
  {
   "cell_type": "markdown",
   "metadata": {},
   "source": [
    "<div style=\"border-radius: 15px; border: 3px solid indigo; padding: 15px;\">\n",
    "<code><b>data_query_1</b></code> — данные о количестве рейсов за сентябрь 2018 (запроса 1)\n",
    "</div>"
   ]
  },
  {
   "cell_type": "code",
   "execution_count": 2,
   "metadata": {},
   "outputs": [
    {
     "data": {
      "text/html": [
       "<div>\n",
       "<style scoped>\n",
       "    .dataframe tbody tr th:only-of-type {\n",
       "        vertical-align: middle;\n",
       "    }\n",
       "\n",
       "    .dataframe tbody tr th {\n",
       "        vertical-align: top;\n",
       "    }\n",
       "\n",
       "    .dataframe thead th {\n",
       "        text-align: right;\n",
       "    }\n",
       "</style>\n",
       "<table border=\"1\" class=\"dataframe\">\n",
       "  <thead>\n",
       "    <tr style=\"text-align: right;\">\n",
       "      <th></th>\n",
       "      <th>model</th>\n",
       "      <th>flights_amount</th>\n",
       "    </tr>\n",
       "  </thead>\n",
       "  <tbody>\n",
       "    <tr>\n",
       "      <th>0</th>\n",
       "      <td>Airbus A319-100</td>\n",
       "      <td>607</td>\n",
       "    </tr>\n",
       "    <tr>\n",
       "      <th>1</th>\n",
       "      <td>Airbus A321-200</td>\n",
       "      <td>960</td>\n",
       "    </tr>\n",
       "    <tr>\n",
       "      <th>2</th>\n",
       "      <td>Boeing 737-300</td>\n",
       "      <td>630</td>\n",
       "    </tr>\n",
       "    <tr>\n",
       "      <th>3</th>\n",
       "      <td>Boeing 767-300</td>\n",
       "      <td>600</td>\n",
       "    </tr>\n",
       "    <tr>\n",
       "      <th>4</th>\n",
       "      <td>Boeing 777-300</td>\n",
       "      <td>300</td>\n",
       "    </tr>\n",
       "    <tr>\n",
       "      <th>5</th>\n",
       "      <td>Bombardier CRJ-200</td>\n",
       "      <td>4446</td>\n",
       "    </tr>\n",
       "    <tr>\n",
       "      <th>6</th>\n",
       "      <td>Cessna 208 Caravan</td>\n",
       "      <td>4557</td>\n",
       "    </tr>\n",
       "    <tr>\n",
       "      <th>7</th>\n",
       "      <td>Sukhoi SuperJet-100</td>\n",
       "      <td>4185</td>\n",
       "    </tr>\n",
       "  </tbody>\n",
       "</table>\n",
       "</div>"
      ],
      "text/plain": [
       "                 model  flights_amount\n",
       "0      Airbus A319-100             607\n",
       "1      Airbus A321-200             960\n",
       "2       Boeing 737-300             630\n",
       "3       Boeing 767-300             600\n",
       "4       Boeing 777-300             300\n",
       "5   Bombardier CRJ-200            4446\n",
       "6   Cessna 208 Caravan            4557\n",
       "7  Sukhoi SuperJet-100            4185"
      ]
     },
     "metadata": {},
     "output_type": "display_data"
    }
   ],
   "source": [
    "data_query_1 = pd.read_csv('query_1.csv')\n",
    "display(data_query_1)"
   ]
  },
  {
   "cell_type": "code",
   "execution_count": 3,
   "metadata": {},
   "outputs": [
    {
     "name": "stdout",
     "output_type": "stream",
     "text": [
      "<class 'pandas.core.frame.DataFrame'>\n",
      "RangeIndex: 8 entries, 0 to 7\n",
      "Data columns (total 2 columns):\n",
      " #   Column          Non-Null Count  Dtype \n",
      "---  ------          --------------  ----- \n",
      " 0   model           8 non-null      object\n",
      " 1   flights_amount  8 non-null      int64 \n",
      "dtypes: int64(1), object(1)\n",
      "memory usage: 256.0+ bytes\n"
     ]
    },
    {
     "data": {
      "text/plain": [
       "None"
      ]
     },
     "metadata": {},
     "output_type": "display_data"
    }
   ],
   "source": [
    "display(data_query_1.info())"
   ]
  },
  {
   "cell_type": "code",
   "execution_count": 4,
   "metadata": {},
   "outputs": [
    {
     "data": {
      "text/plain": [
       "Index(['model', 'flights_amount'], dtype='object')"
      ]
     },
     "metadata": {},
     "output_type": "display_data"
    }
   ],
   "source": [
    "display(data_query_1.columns)"
   ]
  },
  {
   "cell_type": "markdown",
   "metadata": {},
   "source": [
    "Проверим данные на предмет дубликатов."
   ]
  },
  {
   "cell_type": "code",
   "execution_count": 5,
   "metadata": {},
   "outputs": [
    {
     "data": {
      "text/plain": [
       "0"
      ]
     },
     "metadata": {},
     "output_type": "display_data"
    }
   ],
   "source": [
    "display(data_query_1.duplicated().sum())"
   ]
  },
  {
   "cell_type": "markdown",
   "metadata": {},
   "source": [
    "Проверим данные на пропуски."
   ]
  },
  {
   "cell_type": "code",
   "execution_count": 6,
   "metadata": {},
   "outputs": [
    {
     "data": {
      "text/html": [
       "<div>\n",
       "<style scoped>\n",
       "    .dataframe tbody tr th:only-of-type {\n",
       "        vertical-align: middle;\n",
       "    }\n",
       "\n",
       "    .dataframe tbody tr th {\n",
       "        vertical-align: top;\n",
       "    }\n",
       "\n",
       "    .dataframe thead th {\n",
       "        text-align: right;\n",
       "    }\n",
       "</style>\n",
       "<table border=\"1\" class=\"dataframe\">\n",
       "  <thead>\n",
       "    <tr style=\"text-align: right;\">\n",
       "      <th></th>\n",
       "      <th>0</th>\n",
       "      <th>1</th>\n",
       "    </tr>\n",
       "  </thead>\n",
       "  <tbody>\n",
       "    <tr>\n",
       "      <th>model</th>\n",
       "      <td>object</td>\n",
       "      <td>0</td>\n",
       "    </tr>\n",
       "    <tr>\n",
       "      <th>flights_amount</th>\n",
       "      <td>int64</td>\n",
       "      <td>0</td>\n",
       "    </tr>\n",
       "  </tbody>\n",
       "</table>\n",
       "</div>"
      ],
      "text/plain": [
       "                     0  1\n",
       "model           object  0\n",
       "flights_amount   int64  0"
      ]
     },
     "metadata": {},
     "output_type": "display_data"
    }
   ],
   "source": [
    "display(pd.concat([data_query_1.dtypes, data_query_1.isna().sum()], axis=1))"
   ]
  },
  {
   "cell_type": "markdown",
   "metadata": {},
   "source": [
    "Посмотрим на данные всех столбцов через функцию <code><b>.describe()</b></code>"
   ]
  },
  {
   "cell_type": "code",
   "execution_count": 7,
   "metadata": {
    "scrolled": true
   },
   "outputs": [
    {
     "data": {
      "text/html": [
       "<div>\n",
       "<style scoped>\n",
       "    .dataframe tbody tr th:only-of-type {\n",
       "        vertical-align: middle;\n",
       "    }\n",
       "\n",
       "    .dataframe tbody tr th {\n",
       "        vertical-align: top;\n",
       "    }\n",
       "\n",
       "    .dataframe thead th {\n",
       "        text-align: right;\n",
       "    }\n",
       "</style>\n",
       "<table border=\"1\" class=\"dataframe\">\n",
       "  <thead>\n",
       "    <tr style=\"text-align: right;\">\n",
       "      <th></th>\n",
       "      <th>model</th>\n",
       "      <th>flights_amount</th>\n",
       "    </tr>\n",
       "  </thead>\n",
       "  <tbody>\n",
       "    <tr>\n",
       "      <th>count</th>\n",
       "      <td>8</td>\n",
       "      <td>8.000000</td>\n",
       "    </tr>\n",
       "    <tr>\n",
       "      <th>unique</th>\n",
       "      <td>8</td>\n",
       "      <td>NaN</td>\n",
       "    </tr>\n",
       "    <tr>\n",
       "      <th>top</th>\n",
       "      <td>Boeing 737-300</td>\n",
       "      <td>NaN</td>\n",
       "    </tr>\n",
       "    <tr>\n",
       "      <th>freq</th>\n",
       "      <td>1</td>\n",
       "      <td>NaN</td>\n",
       "    </tr>\n",
       "    <tr>\n",
       "      <th>mean</th>\n",
       "      <td>NaN</td>\n",
       "      <td>2035.625000</td>\n",
       "    </tr>\n",
       "    <tr>\n",
       "      <th>std</th>\n",
       "      <td>NaN</td>\n",
       "      <td>1965.203947</td>\n",
       "    </tr>\n",
       "    <tr>\n",
       "      <th>min</th>\n",
       "      <td>NaN</td>\n",
       "      <td>300.000000</td>\n",
       "    </tr>\n",
       "    <tr>\n",
       "      <th>25%</th>\n",
       "      <td>NaN</td>\n",
       "      <td>605.250000</td>\n",
       "    </tr>\n",
       "    <tr>\n",
       "      <th>50%</th>\n",
       "      <td>NaN</td>\n",
       "      <td>795.000000</td>\n",
       "    </tr>\n",
       "    <tr>\n",
       "      <th>75%</th>\n",
       "      <td>NaN</td>\n",
       "      <td>4250.250000</td>\n",
       "    </tr>\n",
       "    <tr>\n",
       "      <th>max</th>\n",
       "      <td>NaN</td>\n",
       "      <td>4557.000000</td>\n",
       "    </tr>\n",
       "  </tbody>\n",
       "</table>\n",
       "</div>"
      ],
      "text/plain": [
       "                 model  flights_amount\n",
       "count                8        8.000000\n",
       "unique               8             NaN\n",
       "top     Boeing 737-300             NaN\n",
       "freq                 1             NaN\n",
       "mean               NaN     2035.625000\n",
       "std                NaN     1965.203947\n",
       "min                NaN      300.000000\n",
       "25%                NaN      605.250000\n",
       "50%                NaN      795.000000\n",
       "75%                NaN     4250.250000\n",
       "max                NaN     4557.000000"
      ]
     },
     "metadata": {},
     "output_type": "display_data"
    }
   ],
   "source": [
    "display(data_query_1.describe(include='all'))"
   ]
  },
  {
   "cell_type": "markdown",
   "metadata": {},
   "source": [
    "Посмотрим отдельно уникальные значения по каждому столбцу."
   ]
  },
  {
   "cell_type": "code",
   "execution_count": 8,
   "metadata": {},
   "outputs": [],
   "source": [
    "# создадим простейшую функцию проверки уникальных значений\n",
    "def display_unique(data, column):\n",
    "    display(data[column].unique())\n",
    "    display(data[column].value_counts())\n",
    "    print('Всего уникальных значений:', len(data[column].unique()))"
   ]
  },
  {
   "cell_type": "markdown",
   "metadata": {},
   "source": [
    "<div style=\"border-radius: 15px; border: 3px solid indigo; padding: 15px;\">\n",
    "<code><b>data_query_1['model']</b></code> — модели самолета\n",
    "</div>"
   ]
  },
  {
   "cell_type": "code",
   "execution_count": 9,
   "metadata": {},
   "outputs": [
    {
     "data": {
      "text/plain": [
       "array(['Airbus A319-100', 'Airbus A321-200', 'Boeing 737-300',\n",
       "       'Boeing 767-300', 'Boeing 777-300', 'Bombardier CRJ-200',\n",
       "       'Cessna 208 Caravan', 'Sukhoi SuperJet-100'], dtype=object)"
      ]
     },
     "metadata": {},
     "output_type": "display_data"
    },
    {
     "data": {
      "text/plain": [
       "Boeing 737-300         1\n",
       "Cessna 208 Caravan     1\n",
       "Boeing 777-300         1\n",
       "Bombardier CRJ-200     1\n",
       "Airbus A319-100        1\n",
       "Sukhoi SuperJet-100    1\n",
       "Boeing 767-300         1\n",
       "Airbus A321-200        1\n",
       "Name: model, dtype: int64"
      ]
     },
     "metadata": {},
     "output_type": "display_data"
    },
    {
     "name": "stdout",
     "output_type": "stream",
     "text": [
      "Всего уникальных значений: 8\n"
     ]
    }
   ],
   "source": [
    "display_unique(data_query_1, 'model')"
   ]
  },
  {
   "cell_type": "markdown",
   "metadata": {},
   "source": [
    "<div style=\"border-radius: 15px; border: 3px solid indigo; padding: 15px;\">\n",
    "<code><b>data_query_1['flights_amount']</b></code> — количество рейсов для каждой модели самолетов model в сентябре 2018 года\n",
    "</div>"
   ]
  },
  {
   "cell_type": "code",
   "execution_count": 10,
   "metadata": {},
   "outputs": [
    {
     "data": {
      "text/plain": [
       "array([ 607,  960,  630,  600,  300, 4446, 4557, 4185], dtype=int64)"
      ]
     },
     "metadata": {},
     "output_type": "display_data"
    },
    {
     "data": {
      "text/plain": [
       "960     1\n",
       "630     1\n",
       "600     1\n",
       "4185    1\n",
       "300     1\n",
       "4557    1\n",
       "4446    1\n",
       "607     1\n",
       "Name: flights_amount, dtype: int64"
      ]
     },
     "metadata": {},
     "output_type": "display_data"
    },
    {
     "name": "stdout",
     "output_type": "stream",
     "text": [
      "Всего уникальных значений: 8\n"
     ]
    }
   ],
   "source": [
    "display_unique(data_query_1, 'flights_amount')"
   ]
  },
  {
   "cell_type": "markdown",
   "metadata": {},
   "source": [
    "Загрузим датасет <code><b>data_query_3</b></code>."
   ]
  },
  {
   "cell_type": "markdown",
   "metadata": {},
   "source": [
    "<div style=\"border-radius: 15px; border: 3px solid indigo; padding: 15px;\">\n",
    "<code><b>data_query_3</b></code> — данные о среднем количестве рейсов за день в августе 2018 года (запроса 3)\n",
    "</div>"
   ]
  },
  {
   "cell_type": "code",
   "execution_count": 11,
   "metadata": {},
   "outputs": [
    {
     "data": {
      "text/html": [
       "<div>\n",
       "<style scoped>\n",
       "    .dataframe tbody tr th:only-of-type {\n",
       "        vertical-align: middle;\n",
       "    }\n",
       "\n",
       "    .dataframe tbody tr th {\n",
       "        vertical-align: top;\n",
       "    }\n",
       "\n",
       "    .dataframe thead th {\n",
       "        text-align: right;\n",
       "    }\n",
       "</style>\n",
       "<table border=\"1\" class=\"dataframe\">\n",
       "  <thead>\n",
       "    <tr style=\"text-align: right;\">\n",
       "      <th></th>\n",
       "      <th>city</th>\n",
       "      <th>average_flights</th>\n",
       "    </tr>\n",
       "  </thead>\n",
       "  <tbody>\n",
       "    <tr>\n",
       "      <th>0</th>\n",
       "      <td>Абакан</td>\n",
       "      <td>3.870968</td>\n",
       "    </tr>\n",
       "    <tr>\n",
       "      <th>1</th>\n",
       "      <td>Анадырь</td>\n",
       "      <td>1.000000</td>\n",
       "    </tr>\n",
       "    <tr>\n",
       "      <th>2</th>\n",
       "      <td>Анапа</td>\n",
       "      <td>2.161290</td>\n",
       "    </tr>\n",
       "    <tr>\n",
       "      <th>3</th>\n",
       "      <td>Архангельск</td>\n",
       "      <td>5.354839</td>\n",
       "    </tr>\n",
       "    <tr>\n",
       "      <th>4</th>\n",
       "      <td>Астрахань</td>\n",
       "      <td>2.451613</td>\n",
       "    </tr>\n",
       "  </tbody>\n",
       "</table>\n",
       "</div>"
      ],
      "text/plain": [
       "          city  average_flights\n",
       "0       Абакан         3.870968\n",
       "1      Анадырь         1.000000\n",
       "2        Анапа         2.161290\n",
       "3  Архангельск         5.354839\n",
       "4    Астрахань         2.451613"
      ]
     },
     "metadata": {},
     "output_type": "display_data"
    }
   ],
   "source": [
    "data_query_3 = pd.read_csv('query_3.csv')\n",
    "display(data_query_3.head())"
   ]
  },
  {
   "cell_type": "code",
   "execution_count": 12,
   "metadata": {},
   "outputs": [
    {
     "name": "stdout",
     "output_type": "stream",
     "text": [
      "<class 'pandas.core.frame.DataFrame'>\n",
      "RangeIndex: 101 entries, 0 to 100\n",
      "Data columns (total 2 columns):\n",
      " #   Column           Non-Null Count  Dtype  \n",
      "---  ------           --------------  -----  \n",
      " 0   city             101 non-null    object \n",
      " 1   average_flights  101 non-null    float64\n",
      "dtypes: float64(1), object(1)\n",
      "memory usage: 1.7+ KB\n"
     ]
    },
    {
     "data": {
      "text/plain": [
       "None"
      ]
     },
     "metadata": {},
     "output_type": "display_data"
    }
   ],
   "source": [
    "display(data_query_3.info())"
   ]
  },
  {
   "cell_type": "code",
   "execution_count": 13,
   "metadata": {},
   "outputs": [
    {
     "data": {
      "text/plain": [
       "Index(['city', 'average_flights'], dtype='object')"
      ]
     },
     "metadata": {},
     "output_type": "display_data"
    }
   ],
   "source": [
    "display(data_query_3.columns)"
   ]
  },
  {
   "cell_type": "markdown",
   "metadata": {},
   "source": [
    "Проверим данные на предмет дубликатов."
   ]
  },
  {
   "cell_type": "code",
   "execution_count": 14,
   "metadata": {},
   "outputs": [
    {
     "data": {
      "text/plain": [
       "0"
      ]
     },
     "metadata": {},
     "output_type": "display_data"
    }
   ],
   "source": [
    "display(data_query_3.duplicated().sum())"
   ]
  },
  {
   "cell_type": "markdown",
   "metadata": {},
   "source": [
    "Проверим данные на пропуски."
   ]
  },
  {
   "cell_type": "code",
   "execution_count": 15,
   "metadata": {},
   "outputs": [
    {
     "data": {
      "text/html": [
       "<div>\n",
       "<style scoped>\n",
       "    .dataframe tbody tr th:only-of-type {\n",
       "        vertical-align: middle;\n",
       "    }\n",
       "\n",
       "    .dataframe tbody tr th {\n",
       "        vertical-align: top;\n",
       "    }\n",
       "\n",
       "    .dataframe thead th {\n",
       "        text-align: right;\n",
       "    }\n",
       "</style>\n",
       "<table border=\"1\" class=\"dataframe\">\n",
       "  <thead>\n",
       "    <tr style=\"text-align: right;\">\n",
       "      <th></th>\n",
       "      <th>0</th>\n",
       "      <th>1</th>\n",
       "    </tr>\n",
       "  </thead>\n",
       "  <tbody>\n",
       "    <tr>\n",
       "      <th>city</th>\n",
       "      <td>object</td>\n",
       "      <td>0</td>\n",
       "    </tr>\n",
       "    <tr>\n",
       "      <th>average_flights</th>\n",
       "      <td>float64</td>\n",
       "      <td>0</td>\n",
       "    </tr>\n",
       "  </tbody>\n",
       "</table>\n",
       "</div>"
      ],
      "text/plain": [
       "                       0  1\n",
       "city              object  0\n",
       "average_flights  float64  0"
      ]
     },
     "metadata": {},
     "output_type": "display_data"
    }
   ],
   "source": [
    "display(pd.concat([data_query_3.dtypes, data_query_3.isna().sum()], axis=1))"
   ]
  },
  {
   "cell_type": "markdown",
   "metadata": {},
   "source": [
    "Посмотрим на данные всех столбцов через функцию <code><b>.describe()</b></code>"
   ]
  },
  {
   "cell_type": "code",
   "execution_count": 16,
   "metadata": {},
   "outputs": [
    {
     "data": {
      "text/html": [
       "<div>\n",
       "<style scoped>\n",
       "    .dataframe tbody tr th:only-of-type {\n",
       "        vertical-align: middle;\n",
       "    }\n",
       "\n",
       "    .dataframe tbody tr th {\n",
       "        vertical-align: top;\n",
       "    }\n",
       "\n",
       "    .dataframe thead th {\n",
       "        text-align: right;\n",
       "    }\n",
       "</style>\n",
       "<table border=\"1\" class=\"dataframe\">\n",
       "  <thead>\n",
       "    <tr style=\"text-align: right;\">\n",
       "      <th></th>\n",
       "      <th>city</th>\n",
       "      <th>average_flights</th>\n",
       "    </tr>\n",
       "  </thead>\n",
       "  <tbody>\n",
       "    <tr>\n",
       "      <th>count</th>\n",
       "      <td>101</td>\n",
       "      <td>101.000000</td>\n",
       "    </tr>\n",
       "    <tr>\n",
       "      <th>unique</th>\n",
       "      <td>101</td>\n",
       "      <td>NaN</td>\n",
       "    </tr>\n",
       "    <tr>\n",
       "      <th>top</th>\n",
       "      <td>Грозный</td>\n",
       "      <td>NaN</td>\n",
       "    </tr>\n",
       "    <tr>\n",
       "      <th>freq</th>\n",
       "      <td>1</td>\n",
       "      <td>NaN</td>\n",
       "    </tr>\n",
       "    <tr>\n",
       "      <th>mean</th>\n",
       "      <td>NaN</td>\n",
       "      <td>5.494189</td>\n",
       "    </tr>\n",
       "    <tr>\n",
       "      <th>std</th>\n",
       "      <td>NaN</td>\n",
       "      <td>13.119790</td>\n",
       "    </tr>\n",
       "    <tr>\n",
       "      <th>min</th>\n",
       "      <td>NaN</td>\n",
       "      <td>1.000000</td>\n",
       "    </tr>\n",
       "    <tr>\n",
       "      <th>25%</th>\n",
       "      <td>NaN</td>\n",
       "      <td>2.000000</td>\n",
       "    </tr>\n",
       "    <tr>\n",
       "      <th>50%</th>\n",
       "      <td>NaN</td>\n",
       "      <td>3.000000</td>\n",
       "    </tr>\n",
       "    <tr>\n",
       "      <th>75%</th>\n",
       "      <td>NaN</td>\n",
       "      <td>5.870968</td>\n",
       "    </tr>\n",
       "    <tr>\n",
       "      <th>max</th>\n",
       "      <td>NaN</td>\n",
       "      <td>129.774194</td>\n",
       "    </tr>\n",
       "  </tbody>\n",
       "</table>\n",
       "</div>"
      ],
      "text/plain": [
       "           city  average_flights\n",
       "count       101       101.000000\n",
       "unique      101              NaN\n",
       "top     Грозный              NaN\n",
       "freq          1              NaN\n",
       "mean        NaN         5.494189\n",
       "std         NaN        13.119790\n",
       "min         NaN         1.000000\n",
       "25%         NaN         2.000000\n",
       "50%         NaN         3.000000\n",
       "75%         NaN         5.870968\n",
       "max         NaN       129.774194"
      ]
     },
     "metadata": {},
     "output_type": "display_data"
    }
   ],
   "source": [
    "display(data_query_3.describe(include='all'))"
   ]
  },
  {
   "cell_type": "markdown",
   "metadata": {},
   "source": [
    "Посмотрим отдельно уникальные значения по каждому столбцу."
   ]
  },
  {
   "cell_type": "markdown",
   "metadata": {},
   "source": [
    "<div style=\"border-radius: 15px; border: 3px solid indigo; padding: 15px;\">\n",
    "<code><b>data_query_3['city']</b></code> — информация о городах\n",
    "</div>"
   ]
  },
  {
   "cell_type": "code",
   "execution_count": 17,
   "metadata": {},
   "outputs": [
    {
     "data": {
      "text/plain": [
       "array(['Абакан', 'Анадырь', 'Анапа', 'Архангельск', 'Астрахань',\n",
       "       'Барнаул', 'Белгород', 'Белоярский', 'Благовещенск', 'Братск',\n",
       "       'Брянск', 'Бугульма', 'Владивосток', 'Владикавказ', 'Волгоград',\n",
       "       'Воркута', 'Воронеж', 'Геленджик', 'Горно-Алтайск', 'Грозный',\n",
       "       'Екатеринбург', 'Иваново', 'Ижевск', 'Иркутск', 'Йошкар-Ола',\n",
       "       'Казань', 'Калининград', 'Калуга', 'Кемерово', 'Киров', 'Когалым',\n",
       "       'Комсомольск-на-Амуре', 'Краснодар', 'Красноярск', 'Курган',\n",
       "       'Курск', 'Кызыл', 'Липецк', 'Магадан', 'Магнитогорск', 'Махачкала',\n",
       "       'Минеральные Воды', 'Мирный', 'Москва', 'Мурманск', 'Надым',\n",
       "       'Нальчик', 'Нарьян-Мар', 'Нерюнгри', 'Нефтеюганск',\n",
       "       'Нижневартовск', 'Нижнекамск', 'Нижний Новгород', 'Новокузнецк',\n",
       "       'Новосибирск', 'Новый Уренгой', 'Норильск', 'Ноябрьск', 'Нягань',\n",
       "       'Омск', 'Оренбург', 'Орск', 'Пенза', 'Пермь', 'Петрозаводск',\n",
       "       'Петропавловск-Камчатский', 'Псков', 'Ростов-на-Дону', 'Салехард',\n",
       "       'Самара', 'Санкт-Петербург', 'Саранск', 'Саратов', 'Советский',\n",
       "       'Сочи', 'Ставрополь', 'Стрежевой', 'Сургут', 'Сыктывкар', 'Тамбов',\n",
       "       'Томск', 'Тюмень', 'Удачный', 'Улан-Удэ', 'Ульяновск', 'Урай',\n",
       "       'Усинск', 'Усть-Илимск', 'Усть-Кут', 'Уфа', 'Ухта', 'Хабаровск',\n",
       "       'Ханты-Мансийск', 'Чебоксары', 'Челябинск', 'Череповец', 'Чита',\n",
       "       'Элиста', 'Южно-Сахалинск', 'Якутск', 'Ярославль'], dtype=object)"
      ]
     },
     "metadata": {},
     "output_type": "display_data"
    },
    {
     "data": {
      "text/plain": [
       "Грозный        1\n",
       "Омск           1\n",
       "Якутск         1\n",
       "Тюмень         1\n",
       "Казань         1\n",
       "              ..\n",
       "Новосибирск    1\n",
       "Нягань         1\n",
       "Владивосток    1\n",
       "Псков          1\n",
       "Владикавказ    1\n",
       "Name: city, Length: 101, dtype: int64"
      ]
     },
     "metadata": {},
     "output_type": "display_data"
    },
    {
     "name": "stdout",
     "output_type": "stream",
     "text": [
      "Всего уникальных значений: 101\n"
     ]
    }
   ],
   "source": [
    "display_unique(data_query_3, 'city')"
   ]
  },
  {
   "cell_type": "markdown",
   "metadata": {},
   "source": [
    "<div style=\"border-radius: 15px; border: 3px solid indigo; padding: 15px;\">\n",
    "<code><b>data_query_3['average_flights']</b></code> — среднем количестве рейсов, прибывающих в город city за день в августе 2018 года\n",
    "</div>"
   ]
  },
  {
   "cell_type": "code",
   "execution_count": 18,
   "metadata": {},
   "outputs": [
    {
     "data": {
      "text/plain": [
       "array([  3.87096774,   1.        ,   2.16129032,   5.35483871,\n",
       "         2.4516129 ,   2.61290323,   6.        ,   2.        ,\n",
       "        10.        ,   3.        ,   5.12903226,   4.58064516,\n",
       "         2.59090909,   1.38709677,   1.12903226,  11.32258065,\n",
       "         6.03225806,   4.29032258,   7.74193548,   2.58064516,\n",
       "         2.03225806,   3.16129032,   3.90322581,  11.58064516,\n",
       "         3.41935484,   2.29032258,   1.27777778,   1.29411765,\n",
       "         1.35714286,   4.        ,   3.29032258,   6.29032258,\n",
       "       129.77419355,   3.12903226,   3.74193548,   5.87096774,\n",
       "        17.32258065,   8.29032258,   5.        ,   1.59090909,\n",
       "        10.12903226,   1.5483871 ,  10.19354839,  31.16129032,\n",
       "         9.        ,   9.61290323,   8.74193548,   4.12903226,\n",
       "         4.19354839,   6.96774194,   1.60869565,   9.58064516,\n",
       "         2.87096774,   6.5483871 ,   8.41935484,   6.70967742,\n",
       "         1.58064516,   4.87096774,   2.74193548,   1.32258065])"
      ]
     },
     "metadata": {},
     "output_type": "display_data"
    },
    {
     "data": {
      "text/plain": [
       "1.000000      12\n",
       "2.000000       9\n",
       "3.000000       7\n",
       "4.000000       4\n",
       "2.290323       3\n",
       "6.000000       2\n",
       "2.580645       2\n",
       "2.612903       2\n",
       "4.290323       2\n",
       "2.161290       2\n",
       "5.000000       2\n",
       "6.032258       2\n",
       "3.290323       2\n",
       "3.419355       2\n",
       "6.290323       2\n",
       "5.870968       2\n",
       "1.580645       1\n",
       "10.129032      1\n",
       "8.419355       1\n",
       "4.870968       1\n",
       "9.000000       1\n",
       "7.741935       1\n",
       "4.129032       1\n",
       "3.903226       1\n",
       "129.774194     1\n",
       "1.357143       1\n",
       "4.193548       1\n",
       "11.322581      1\n",
       "17.322581      1\n",
       "9.580645       1\n",
       "5.354839       1\n",
       "6.967742       1\n",
       "3.129032       1\n",
       "9.612903       1\n",
       "31.161290      1\n",
       "2.741935       1\n",
       "2.032258       1\n",
       "1.548387       1\n",
       "3.741935       1\n",
       "1.387097       1\n",
       "8.741935       1\n",
       "3.161290       1\n",
       "3.870968       1\n",
       "10.193548      1\n",
       "1.294118       1\n",
       "6.548387       1\n",
       "10.000000      1\n",
       "1.322581       1\n",
       "1.608696       1\n",
       "1.129032       1\n",
       "4.580645       1\n",
       "11.580645      1\n",
       "1.277778       1\n",
       "2.451613       1\n",
       "5.129032       1\n",
       "2.590909       1\n",
       "8.290323       1\n",
       "6.709677       1\n",
       "2.870968       1\n",
       "1.590909       1\n",
       "Name: average_flights, dtype: int64"
      ]
     },
     "metadata": {},
     "output_type": "display_data"
    },
    {
     "name": "stdout",
     "output_type": "stream",
     "text": [
      "Всего уникальных значений: 60\n"
     ]
    }
   ],
   "source": [
    "display_unique(data_query_3, 'average_flights')"
   ]
  },
  {
   "cell_type": "markdown",
   "metadata": {},
   "source": [
    "## Шаг 2. Проверить типы данных на корректность"
   ]
  },
  {
   "cell_type": "markdown",
   "metadata": {},
   "source": [
    "Исправим тип данных <code><b>data_query_3['average_flights']</b></code> на корректный (float64 заменить на тип int)."
   ]
  },
  {
   "cell_type": "code",
   "execution_count": 19,
   "metadata": {},
   "outputs": [
    {
     "data": {
      "text/plain": [
       "0    3\n",
       "1    1\n",
       "2    2\n",
       "3    5\n",
       "4    2\n",
       "Name: average_flights, dtype: int32"
      ]
     },
     "metadata": {},
     "output_type": "display_data"
    }
   ],
   "source": [
    "data_query_3['average_flights'] = data_query_3['average_flights'].astype('int')\n",
    "display(data_query_3['average_flights'].head())"
   ]
  },
  {
   "cell_type": "markdown",
   "metadata": {},
   "source": [
    "## Шаг 3. Выбрать топ-10 городов по количеству рейсов"
   ]
  },
  {
   "cell_type": "markdown",
   "metadata": {},
   "source": [
    "Сохраним в переменной <code><b>top10_cities</b></code> топ-10 городов по количеству рейсов."
   ]
  },
  {
   "cell_type": "markdown",
   "metadata": {},
   "source": [
    "<div style=\"border-radius: 15px; border: 3px solid indigo; padding: 15px;\">\n",
    "<code><b>top10_cities</b></code> — топ-10 городов по количеству рейсов\n",
    "</div>"
   ]
  },
  {
   "cell_type": "code",
   "execution_count": 20,
   "metadata": {},
   "outputs": [
    {
     "data": {
      "text/html": [
       "<div>\n",
       "<style scoped>\n",
       "    .dataframe tbody tr th:only-of-type {\n",
       "        vertical-align: middle;\n",
       "    }\n",
       "\n",
       "    .dataframe tbody tr th {\n",
       "        vertical-align: top;\n",
       "    }\n",
       "\n",
       "    .dataframe thead th {\n",
       "        text-align: right;\n",
       "    }\n",
       "</style>\n",
       "<table border=\"1\" class=\"dataframe\">\n",
       "  <thead>\n",
       "    <tr style=\"text-align: right;\">\n",
       "      <th></th>\n",
       "      <th>city</th>\n",
       "      <th>average_flights</th>\n",
       "    </tr>\n",
       "  </thead>\n",
       "  <tbody>\n",
       "    <tr>\n",
       "      <th>43</th>\n",
       "      <td>Москва</td>\n",
       "      <td>129</td>\n",
       "    </tr>\n",
       "    <tr>\n",
       "      <th>70</th>\n",
       "      <td>Санкт-Петербург</td>\n",
       "      <td>31</td>\n",
       "    </tr>\n",
       "    <tr>\n",
       "      <th>54</th>\n",
       "      <td>Новосибирск</td>\n",
       "      <td>17</td>\n",
       "    </tr>\n",
       "    <tr>\n",
       "      <th>20</th>\n",
       "      <td>Екатеринбург</td>\n",
       "      <td>11</td>\n",
       "    </tr>\n",
       "    <tr>\n",
       "      <th>33</th>\n",
       "      <td>Красноярск</td>\n",
       "      <td>11</td>\n",
       "    </tr>\n",
       "    <tr>\n",
       "      <th>63</th>\n",
       "      <td>Пермь</td>\n",
       "      <td>10</td>\n",
       "    </tr>\n",
       "    <tr>\n",
       "      <th>67</th>\n",
       "      <td>Ростов-на-Дону</td>\n",
       "      <td>10</td>\n",
       "    </tr>\n",
       "    <tr>\n",
       "      <th>10</th>\n",
       "      <td>Брянск</td>\n",
       "      <td>10</td>\n",
       "    </tr>\n",
       "    <tr>\n",
       "      <th>84</th>\n",
       "      <td>Ульяновск</td>\n",
       "      <td>9</td>\n",
       "    </tr>\n",
       "    <tr>\n",
       "      <th>73</th>\n",
       "      <td>Советский</td>\n",
       "      <td>9</td>\n",
       "    </tr>\n",
       "  </tbody>\n",
       "</table>\n",
       "</div>"
      ],
      "text/plain": [
       "               city  average_flights\n",
       "43           Москва              129\n",
       "70  Санкт-Петербург               31\n",
       "54      Новосибирск               17\n",
       "20     Екатеринбург               11\n",
       "33       Красноярск               11\n",
       "63            Пермь               10\n",
       "67   Ростов-на-Дону               10\n",
       "10           Брянск               10\n",
       "84        Ульяновск                9\n",
       "73        Советский                9"
      ]
     },
     "metadata": {},
     "output_type": "display_data"
    }
   ],
   "source": [
    "top10_cities = data_query_3.sort_values(by='average_flights', ascending=False).head(10)\n",
    "display(top10_cities)"
   ]
  },
  {
   "cell_type": "markdown",
   "metadata": {},
   "source": [
    "## Шаг 4. Построить графики и сделать выводы"
   ]
  },
  {
   "cell_type": "markdown",
   "metadata": {},
   "source": [
    "### 4.1. График - модели самолетов и количество рейсов"
   ]
  },
  {
   "cell_type": "markdown",
   "metadata": {},
   "source": [
    "Построим график количества рейсов в зависимости от модели самолета."
   ]
  },
  {
   "cell_type": "markdown",
   "metadata": {},
   "source": [
    "<div style=\"border-radius: 15px; border: 3px solid indigo; padding: 15px;\">\n",
    "<code><b>model_flights_amount</b></code> — количество рейсов в зависимости от модели самолета\n",
    "</div>"
   ]
  },
  {
   "cell_type": "code",
   "execution_count": 21,
   "metadata": {},
   "outputs": [
    {
     "data": {
      "image/png": "[encoded data removed]",
      "text/plain": [
       "<Figure size 1080x360 with 1 Axes>"
      ]
     },
     "metadata": {},
     "output_type": "display_data"
    }
   ],
   "source": [
    "model_flights_amount = data_query_1.sort_values(by='flights_amount', ascending=False)\n",
    "\n",
    "palette = ['#2961b8ff', '#3277caff', '#3987D7', '#3b8cdcff', '#44a2eaff', '#4db8f8ff', '#3fc5f0ff', '#64d4f4ff', '#7ddbf6ff', '#96e2f8ff']\n",
    "\n",
    "sns.set_style(\"whitegrid\")\n",
    "plt.figure(figsize=(15, 5))\n",
    "plt.title('Количество рейсов в зависимости от модели самолета', fontsize=16)\n",
    "sns.barplot(x='model', y='flights_amount', data=model_flights_amount, label=\"line\", palette=palette)\n",
    "sns.despine(left=True)\n",
    "plt.xlabel('Модель самолета', fontsize=14)\n",
    "plt.ylabel('Количество рейсов', fontsize=14)\n",
    "plt.xticks(rotation=30)\n",
    "plt.show()"
   ]
  },
  {
   "cell_type": "markdown",
   "metadata": {},
   "source": [
    "<div style=\"border-radius: 15px; border: 3px solid green; padding: 15px;\">\n",
    "<font color='green'><b>ВЫВОД:</b></font><br>\n",
    "На графике \"Количество рейсов в зависимости от модели самолета\" выявлена следующая зависимость:\n",
    "<br>\n",
    "\n",
    "Топ-3 со значительным отрывом от остальных заняли модели самолетов <code><b>Cessna 208 Caravan</b></code>, <code><b>Bombardier CRJ-200</b></code>, и <code><b>Sukhoi Superjet-100</b></code>. Этому есть объяснение в виде дальности перелета. Данные модели самолетов имеет среднюю дальность около 2000 км и в отличие от остальных не большой потенциал вместимости пассажиров. Перелеты совершаются на внутренних (локальных направлениях), поэтому их расстояние не большое, а переодичность высокая.\n",
    "<br> \n",
    "\n",
    "Остальные модели рассчитаны на далекие перелеты например Москва - Новосибирск - Владивосток.<br>\n",
    "    \n",
    "</div>"
   ]
  },
  {
   "cell_type": "markdown",
   "metadata": {},
   "source": [
    "### 4.2. График - города и количество рейсов"
   ]
  },
  {
   "cell_type": "markdown",
   "metadata": {},
   "source": [
    "Построим график количества рейсов в зависимости от города."
   ]
  },
  {
   "cell_type": "markdown",
   "metadata": {},
   "source": [
    "<div style=\"border-radius: 15px; border: 3px solid indigo; padding: 15px;\">\n",
    "<code><b>city_average_flights</b></code> — количество рейсов в зависимости от города\n",
    "</div>"
   ]
  },
  {
   "cell_type": "code",
   "execution_count": 22,
   "metadata": {},
   "outputs": [
    {
     "data": {
      "image/png": "[encoded data removed]",
      "text/plain": [
       "<Figure size 720x2160 with 1 Axes>"
      ]
     },
     "metadata": {},
     "output_type": "display_data"
    }
   ],
   "source": [
    "city_average_flights = data_query_3.sort_values(by='average_flights', ascending=False)\n",
    "\n",
    "plt.figure(figsize=(10, 30))\n",
    "plt.title('Количество рейсов в зависимости от города', fontsize=16)\n",
    "sns.barplot(x='average_flights', y='city', data=city_average_flights)\n",
    "sns.despine(left=True)\n",
    "plt.ylabel('')\n",
    "plt.xlabel('Количество рейсов', fontsize=14)\n",
    "plt.show()"
   ]
  },
  {
   "cell_type": "markdown",
   "metadata": {},
   "source": [
    "<div style=\"border-radius: 15px; border: 3px solid green; padding: 15px;\">\n",
    "<font color='green'><b>ВЫВОД:</b></font><br>\n",
    "На графике \"Количество рейсов в зависимости от города\" выявлена следующая зависимость:\n",
    "<br>\n",
    "\n",
    "Популярными городами являются <code><b>Москва</b></code>, <code><b>Санкт-Петербург</b></code> и <code><b>Новосибирск</b></code>. Прежде всего это города милионники и они являются важными воздушнотранспортными узлами, где можно пересесть на международный рейс или стыковочный.<br> \n",
    "    \n",
    "</div>"
   ]
  },
  {
   "cell_type": "markdown",
   "metadata": {},
   "source": [
    "### 4.3. График - ТОП-10 городов и количество рейсов"
   ]
  },
  {
   "cell_type": "markdown",
   "metadata": {},
   "source": [
    "Построим график ТОП-10 городов по количеству рейсов."
   ]
  },
  {
   "cell_type": "code",
   "execution_count": 23,
   "metadata": {},
   "outputs": [
    {
     "data": {
      "image/png": "[encoded data removed]",
      "text/plain": [
       "<Figure size 1080x360 with 1 Axes>"
      ]
     },
     "metadata": {},
     "output_type": "display_data"
    }
   ],
   "source": [
    "sns.set_style(\"whitegrid\")\n",
    "plt.figure(figsize=(15, 5))\n",
    "plt.title('ТОП-10 городов по количеству рейсов', fontsize=16)\n",
    "sns.barplot(x='city', y='average_flights', data=top10_cities, palette=palette)\n",
    "sns.despine(left=True)\n",
    "plt.xlabel('Город', fontsize=14)\n",
    "plt.ylabel('Количество рейсов', fontsize=14)\n",
    "plt.show()"
   ]
  },
  {
   "cell_type": "markdown",
   "metadata": {},
   "source": [
    "<div style=\"border-radius: 15px; border: 3px solid green; padding: 15px;\">\n",
    "<font color='green'><b>ВЫВОД:</b></font><br>\n",
    "На графике \"ТОП-10 городов по количеству рейсов\" выявлена следующая зависимость:\n",
    "<br>\n",
    "\n",
    "Москва занимает первое место за счет большего количества аэропортов, чем у остальных городов, а также по соображениям экономическим и геополитическим. Это столица.\n",
    "<br>\n",
    "\n",
    "Кроме этого Москва, Санкт-Петербург, Новосибирск являются важными воздушними узлами для международных полетов. Большинство перелетов в этот город происходят из-за пересадки на другой рейс для полета за границу.<br>\n",
    "    \n",
    "</div>"
   ]
  },
  {
   "cell_type": "markdown",
   "metadata": {},
   "source": [
    "<hr style=\"border: 2px solid indigo;\" />"
   ]
  },
  {
   "cell_type": "markdown",
   "metadata": {},
   "source": [
    "## Шаг 5. Итоговый вывод"
   ]
  },
  {
   "cell_type": "markdown",
   "metadata": {},
   "source": [
    "<div style=\"border-radius: 15px; border: 3px solid green; padding: 15px;\">\n",
    "<font color='green'><b>ВЫВОД:</b></font><br>\n",
    "Была проведена проверка и анализ данных, сформированных по результатам SQL запросов.\n",
    "<br>\n",
    "\n",
    "Было ожидаемо, что больше всего полетов будет в Москве и Санкт-Петербурге, так как они крупные города в России. Указанные модели самолетов говорят о том, какой воздушный парк популярен в стране. Ещё раз напомним, что модель самолета имеет прямую корреляцию с количеством перелетов и расстоянием.<br>\n",
    "    \n",
    "</div>"
   ]
  }
 ],
 "metadata": {
  "ExecuteTimeLog": [
   {
    "duration": 1652,
    "start_time": "2021-09-13T21:55:36.490Z"
   },
   {
    "duration": 4,
    "start_time": "2021-09-13T21:57:09.850Z"
   },
   {
    "duration": 22,
    "start_time": "2021-09-13T22:01:08.651Z"
   },
   {
    "duration": 338,
    "start_time": "2021-09-13T22:02:03.082Z"
   },
   {
    "duration": 4,
    "start_time": "2021-09-13T22:02:13.226Z"
   },
   {
    "duration": 5,
    "start_time": "2021-09-13T22:02:44.527Z"
   },
   {
    "duration": 255,
    "start_time": "2021-09-13T22:03:19.474Z"
   },
   {
    "duration": 8,
    "start_time": "2021-09-13T22:03:28.876Z"
   },
   {
    "duration": 8,
    "start_time": "2021-09-13T22:04:19.434Z"
   },
   {
    "duration": 12,
    "start_time": "2021-09-13T22:04:55.012Z"
   },
   {
    "duration": 1840,
    "start_time": "2021-09-13T22:06:05.046Z"
   },
   {
    "duration": 21,
    "start_time": "2021-09-13T22:06:36.817Z"
   },
   {
    "duration": 6,
    "start_time": "2021-09-13T22:09:26.737Z"
   },
   {
    "duration": 9,
    "start_time": "2021-09-13T22:11:33.545Z"
   },
   {
    "duration": 9,
    "start_time": "2021-09-13T22:12:39.583Z"
   },
   {
    "duration": 19,
    "start_time": "2021-09-13T22:13:36.322Z"
   },
   {
    "duration": 4,
    "start_time": "2021-09-13T22:14:36.118Z"
   },
   {
    "duration": 5,
    "start_time": "2021-09-13T22:14:54.807Z"
   },
   {
    "duration": 7,
    "start_time": "2021-09-13T22:15:18.361Z"
   },
   {
    "duration": 7,
    "start_time": "2021-09-13T22:15:48.885Z"
   },
   {
    "duration": 13,
    "start_time": "2021-09-13T22:16:04.239Z"
   },
   {
    "duration": 11,
    "start_time": "2021-09-13T22:17:01.065Z"
   },
   {
    "duration": 10,
    "start_time": "2021-09-13T22:18:38.410Z"
   },
   {
    "duration": 8,
    "start_time": "2021-09-13T22:30:22.288Z"
   },
   {
    "duration": 8,
    "start_time": "2021-09-13T22:39:30.114Z"
   },
   {
    "duration": 5,
    "start_time": "2021-09-13T22:57:27.158Z"
   },
   {
    "duration": 18,
    "start_time": "2021-09-13T22:57:28.701Z"
   },
   {
    "duration": 4,
    "start_time": "2021-09-13T22:57:30.433Z"
   },
   {
    "duration": 5,
    "start_time": "2021-09-13T22:57:31.406Z"
   },
   {
    "duration": 9,
    "start_time": "2021-09-13T22:57:32.108Z"
   },
   {
    "duration": 8,
    "start_time": "2021-09-13T22:57:32.848Z"
   },
   {
    "duration": 14,
    "start_time": "2021-09-13T22:57:33.622Z"
   },
   {
    "duration": 11,
    "start_time": "2021-09-13T22:57:34.283Z"
   },
   {
    "duration": 11,
    "start_time": "2021-09-13T22:57:34.982Z"
   },
   {
    "duration": 20,
    "start_time": "2021-09-13T22:57:36.123Z"
   },
   {
    "duration": 4,
    "start_time": "2021-09-13T22:57:36.865Z"
   },
   {
    "duration": 5,
    "start_time": "2021-09-13T22:57:37.799Z"
   },
   {
    "duration": 7,
    "start_time": "2021-09-13T22:57:38.750Z"
   },
   {
    "duration": 8,
    "start_time": "2021-09-13T22:57:39.573Z"
   },
   {
    "duration": 13,
    "start_time": "2021-09-13T22:57:40.244Z"
   },
   {
    "duration": 9,
    "start_time": "2021-09-13T22:57:40.988Z"
   },
   {
    "duration": 9,
    "start_time": "2021-09-13T22:57:41.755Z"
   },
   {
    "duration": 8,
    "start_time": "2021-09-13T22:57:43.344Z"
   },
   {
    "duration": 7,
    "start_time": "2021-09-13T22:57:44.716Z"
   },
   {
    "duration": 296,
    "start_time": "2021-09-13T23:00:50.667Z"
   },
   {
    "duration": 298,
    "start_time": "2021-09-13T23:01:35.965Z"
   },
   {
    "duration": 293,
    "start_time": "2021-09-13T23:02:45.537Z"
   },
   {
    "duration": 1973,
    "start_time": "2021-09-13T23:25:34.135Z"
   },
   {
    "duration": 1841,
    "start_time": "2021-09-13T23:27:03.843Z"
   },
   {
    "duration": 1793,
    "start_time": "2021-09-13T23:29:11.811Z"
   },
   {
    "duration": 1875,
    "start_time": "2021-09-13T23:29:41.890Z"
   },
   {
    "duration": 1762,
    "start_time": "2021-09-13T23:30:14.317Z"
   },
   {
    "duration": 319,
    "start_time": "2021-09-13T23:30:37.632Z"
   },
   {
    "duration": 293,
    "start_time": "2021-09-13T23:31:10.406Z"
   },
   {
    "duration": 305,
    "start_time": "2021-09-13T23:43:32.570Z"
   },
   {
    "duration": 302,
    "start_time": "2021-09-13T23:45:38.337Z"
   },
   {
    "duration": 3,
    "start_time": "2021-09-13T23:55:28.719Z"
   },
   {
    "duration": 19,
    "start_time": "2021-09-13T23:55:30.120Z"
   },
   {
    "duration": 4,
    "start_time": "2021-09-13T23:55:30.825Z"
   },
   {
    "duration": 5,
    "start_time": "2021-09-13T23:55:31.659Z"
   },
   {
    "duration": 7,
    "start_time": "2021-09-13T23:55:32.372Z"
   },
   {
    "duration": 8,
    "start_time": "2021-09-13T23:55:33.017Z"
   },
   {
    "duration": 14,
    "start_time": "2021-09-13T23:55:33.851Z"
   },
   {
    "duration": 10,
    "start_time": "2021-09-13T23:55:34.521Z"
   },
   {
    "duration": 12,
    "start_time": "2021-09-13T23:55:35.200Z"
   },
   {
    "duration": 20,
    "start_time": "2021-09-13T23:55:35.858Z"
   },
   {
    "duration": 3,
    "start_time": "2021-09-13T23:55:36.444Z"
   },
   {
    "duration": 5,
    "start_time": "2021-09-13T23:55:37.023Z"
   },
   {
    "duration": 7,
    "start_time": "2021-09-13T23:55:37.609Z"
   },
   {
    "duration": 8,
    "start_time": "2021-09-13T23:55:38.284Z"
   },
   {
    "duration": 13,
    "start_time": "2021-09-13T23:55:38.970Z"
   },
   {
    "duration": 9,
    "start_time": "2021-09-13T23:55:39.633Z"
   },
   {
    "duration": 9,
    "start_time": "2021-09-13T23:55:40.343Z"
   },
   {
    "duration": 7,
    "start_time": "2021-09-13T23:55:41.669Z"
   },
   {
    "duration": 8,
    "start_time": "2021-09-13T23:55:43.222Z"
   },
   {
    "duration": 296,
    "start_time": "2021-09-13T23:55:45.673Z"
   },
   {
    "duration": 1886,
    "start_time": "2021-09-13T23:55:47.618Z"
   },
   {
    "duration": 303,
    "start_time": "2021-09-13T23:55:50.007Z"
   },
   {
    "duration": 1194,
    "start_time": "2021-09-14T05:52:24.222Z"
   },
   {
    "duration": 24,
    "start_time": "2021-09-14T05:52:25.418Z"
   },
   {
    "duration": 10,
    "start_time": "2021-09-14T05:52:25.444Z"
   },
   {
    "duration": 11,
    "start_time": "2021-09-14T05:52:25.456Z"
   },
   {
    "duration": 12,
    "start_time": "2021-09-14T05:52:25.469Z"
   },
   {
    "duration": 11,
    "start_time": "2021-09-14T05:52:25.483Z"
   },
   {
    "duration": 19,
    "start_time": "2021-09-14T05:52:25.496Z"
   },
   {
    "duration": 29,
    "start_time": "2021-09-14T05:52:25.517Z"
   },
   {
    "duration": 11,
    "start_time": "2021-09-14T05:52:25.548Z"
   },
   {
    "duration": 23,
    "start_time": "2021-09-14T05:52:25.561Z"
   },
   {
    "duration": 11,
    "start_time": "2021-09-14T05:52:25.586Z"
   },
   {
    "duration": 10,
    "start_time": "2021-09-14T05:52:25.599Z"
   },
   {
    "duration": 34,
    "start_time": "2021-09-14T05:52:25.611Z"
   },
   {
    "duration": 20,
    "start_time": "2021-09-14T05:52:25.647Z"
   },
   {
    "duration": 16,
    "start_time": "2021-09-14T05:52:25.669Z"
   },
   {
    "duration": 14,
    "start_time": "2021-09-14T05:52:25.687Z"
   },
   {
    "duration": 42,
    "start_time": "2021-09-14T05:52:25.703Z"
   },
   {
    "duration": 9,
    "start_time": "2021-09-14T05:52:25.747Z"
   },
   {
    "duration": 18,
    "start_time": "2021-09-14T05:52:25.758Z"
   },
   {
    "duration": 351,
    "start_time": "2021-09-14T05:52:25.779Z"
   },
   {
    "duration": 1964,
    "start_time": "2021-09-14T05:52:26.132Z"
   },
   {
    "duration": 331,
    "start_time": "2021-09-14T05:52:28.097Z"
   }
  ],
  "kernelspec": {
   "display_name": "Python 3",
   "language": "python",
   "name": "python3"
  },
  "language_info": {
   "codemirror_mode": {
    "name": "ipython",
    "version": 3
   },
   "file_extension": ".py",
   "mimetype": "text/x-python",
   "name": "python",
   "nbconvert_exporter": "python",
   "pygments_lexer": "ipython3",
   "version": "3.8.8"
  },
  "toc": {
   "base_numbering": 1,
   "nav_menu": {},
   "number_sections": false,
   "sideBar": true,
   "skip_h1_title": true,
   "title_cell": "Table of Contents",
   "title_sidebar": "Contents",
   "toc_cell": false,
   "toc_position": {},
   "toc_section_display": true,
   "toc_window_display": false
  }
 },
 "nbformat": 4,
 "nbformat_minor": 2
}
