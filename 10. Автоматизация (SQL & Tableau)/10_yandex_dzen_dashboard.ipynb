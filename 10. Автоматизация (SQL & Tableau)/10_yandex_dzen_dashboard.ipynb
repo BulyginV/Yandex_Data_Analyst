{
 "cells": [
  {
   "cell_type": "markdown",
   "id": "72df02f3",
   "metadata": {},
   "source": [
    "# Создание дашборда по пользовательским событиям для агрегатора новостей Яндекс.Дзен\n",
    "\n",
    "## Описание проекта\n",
    "\n",
    "Работая аналитиком в Яндекс.Дзене. Почти всё рабочее время занимает анализ пользовательского взаимодействия с карточками статей.\n",
    "\n",
    "Каждую карточку определяют её тема и источник (у него тоже есть тема). Примеры тем: «Красота и здоровье», «Россия», «Путешествия». Пользователей системы характеризует возрастная категория. Скажем, «26-30» или «45+».\n",
    "\n",
    "Есть три способа взаимодействия пользователей с системой:\n",
    "\n",
    "1) Карточка отображена для пользователя (show);\n",
    "\n",
    "2) Пользователь кликнул на карточку (click);\n",
    "\n",
    "3) Пользователь просмотрел статью карточки (view).\n",
    "\n",
    "Каждую неделю менеджеры задают одни и те же вопросы:\n",
    "\n",
    "1. Сколько взаимодействий пользователей с карточками происходит в системе с разбивкой по темам карточек?\n",
    "2. Как много карточек генерируют источники с разными темами?\n",
    "3. Как соотносятся темы карточек и темы источников?\n",
    "\n",
    "На шестую неделю работы решено, что процесс пора автоматизировать. Нужно сделать дашборд. Дашборд будет основываться на пайплайне, который будет брать данные из таблиц, в которых хранятся сырые данные, трансформировать данные и укладывать их в агрегирующую таблицу. Пайплайн будет разработан дата-инженерами."
   ]
  },
  {
   "cell_type": "markdown",
   "id": "efcb3e23",
   "metadata": {},
   "source": [
    "# Написание ТЗ\n",
    "\n",
    "Пообщавшись с менеджерами и администраторами баз данных, было написано  краткое ТЗ:\n",
    "\n",
    "1) Бизнес-задача: анализ взаимодействия пользователей с карточками Яндекс.Дзен;\n",
    "\n",
    "2) Насколько часто предполагается пользоваться дашбордом: не реже, чем раз в неделю;\n",
    "\n",
    "3) Кто будет основным пользователем дашборда: менеджеры по анализу контента;\n",
    "\n",
    "4) Состав данных для дашборда:\n",
    "\n",
    "- История событий по темам карточек (два графика - абсолютные числа и процентное соотношение);\n",
    "- Разбивка событий по темам источников;\n",
    "- Таблица соответствия тем источников темам карточек;\n",
    "\n",
    "5) По каким параметрам данные должны группироваться:\n",
    "\n",
    "- Дата и время;\n",
    "- Тема карточки;\n",
    "- Тема источника;\n",
    "- Возрастная группа;\n",
    "\n",
    "6) Характер данных:\n",
    "\n",
    "- История событий по темам карточек — абсолютные величины с разбивкой по минутам;\n",
    "- Разбивка событий по темам источников — относительные величины (% событий);\n",
    "- Соответствия тем источников темам карточек - абсолютные величины;\n",
    "\n",
    "7) Важность: все графики имеют равную важность;\n",
    "\n",
    "8) Источники данных для дашборда: cырые данные о событиях взаимодействия пользователей с карточками (таблица log_raw);\n",
    "\n",
    "9) База данных, в которой будут храниться агрегированные данные: дополнительные агрегированные таблицы в БД zen;\n",
    "\n",
    "10) Частота обновления данных: один раз в сутки, в полночь по UTC;"
   ]
  },
  {
   "cell_type": "markdown",
   "id": "6cedd7b5",
   "metadata": {},
   "source": [
    "# Макет дашборда"
   ]
  },
  {
   "cell_type": "markdown",
   "id": "a859a6e4",
   "metadata": {},
   "source": [
    "<img align=\"center\" src=\"dashboard_maket.png\" height=\"\" width=\"\">"
   ]
  },
  {
   "cell_type": "markdown",
   "id": "c1fff862",
   "metadata": {},
   "source": [
    "# Запрос на коннекцию к базе"
   ]
  },
  {
   "cell_type": "code",
   "execution_count": 1,
   "id": "9224d4db",
   "metadata": {},
   "outputs": [],
   "source": [
    "# импортируем библиотеки\n",
    "import pandas as pd\n",
    "from sqlalchemy import create_engine\n",
    "\n",
    "db_config = {'user': 'praktikum_student', # имя пользователя\n",
    "            'pwd': 'Sdf4$2;d-d30pp', # пароль\n",
    "            'host': 'rc1b-wcoijxj3yxfsf3fs.mdb.yandexcloud.net',\n",
    "            'port': 6432, # порт подключения\n",
    "            'db': 'data-analyst-zen-project-db'} # название базы данных\n",
    "\n",
    "connection_string = 'postgresql://{}:{}@{}:{}/{}'.format(db_config['user'],\n",
    "                                                db_config['pwd'],\n",
    "                                                db_config['host'],\n",
    "                                                db_config['port'],\n",
    "                                                db_config['db'])\n",
    "\n",
    "engine = create_engine(connection_string)\n",
    "\n",
    "query = '''\n",
    "        SELECT * FROM dash_visits \n",
    "        '''\n",
    " \n",
    "dash_visits = pd.io.sql.read_sql(query, con = engine) \n",
    "\n",
    "# сохраним выгрузку в корневой папке, назовём dash_visits.csv\n",
    "dash_visits.to_csv('dash_visits.csv')"
   ]
  },
  {
   "cell_type": "code",
   "execution_count": 2,
   "id": "e80ec9bf",
   "metadata": {},
   "outputs": [
    {
     "data": {
      "text/html": [
       "<div>\n",
       "<style scoped>\n",
       "    .dataframe tbody tr th:only-of-type {\n",
       "        vertical-align: middle;\n",
       "    }\n",
       "\n",
       "    .dataframe tbody tr th {\n",
       "        vertical-align: top;\n",
       "    }\n",
       "\n",
       "    .dataframe thead th {\n",
       "        text-align: right;\n",
       "    }\n",
       "</style>\n",
       "<table border=\"1\" class=\"dataframe\">\n",
       "  <thead>\n",
       "    <tr style=\"text-align: right;\">\n",
       "      <th></th>\n",
       "      <th>record_id</th>\n",
       "      <th>item_topic</th>\n",
       "      <th>source_topic</th>\n",
       "      <th>age_segment</th>\n",
       "      <th>dt</th>\n",
       "      <th>visits</th>\n",
       "    </tr>\n",
       "  </thead>\n",
       "  <tbody>\n",
       "    <tr>\n",
       "      <th>0</th>\n",
       "      <td>1040597</td>\n",
       "      <td>Деньги</td>\n",
       "      <td>Авто</td>\n",
       "      <td>18-25</td>\n",
       "      <td>2019-09-24 18:32:00</td>\n",
       "      <td>3</td>\n",
       "    </tr>\n",
       "    <tr>\n",
       "      <th>1</th>\n",
       "      <td>1040598</td>\n",
       "      <td>Деньги</td>\n",
       "      <td>Авто</td>\n",
       "      <td>18-25</td>\n",
       "      <td>2019-09-24 18:35:00</td>\n",
       "      <td>1</td>\n",
       "    </tr>\n",
       "    <tr>\n",
       "      <th>2</th>\n",
       "      <td>1040599</td>\n",
       "      <td>Деньги</td>\n",
       "      <td>Авто</td>\n",
       "      <td>18-25</td>\n",
       "      <td>2019-09-24 18:54:00</td>\n",
       "      <td>4</td>\n",
       "    </tr>\n",
       "    <tr>\n",
       "      <th>3</th>\n",
       "      <td>1040600</td>\n",
       "      <td>Деньги</td>\n",
       "      <td>Авто</td>\n",
       "      <td>18-25</td>\n",
       "      <td>2019-09-24 18:55:00</td>\n",
       "      <td>17</td>\n",
       "    </tr>\n",
       "    <tr>\n",
       "      <th>4</th>\n",
       "      <td>1040601</td>\n",
       "      <td>Деньги</td>\n",
       "      <td>Авто</td>\n",
       "      <td>18-25</td>\n",
       "      <td>2019-09-24 18:56:00</td>\n",
       "      <td>27</td>\n",
       "    </tr>\n",
       "  </tbody>\n",
       "</table>\n",
       "</div>"
      ],
      "text/plain": [
       "   record_id item_topic source_topic age_segment                  dt  visits\n",
       "0    1040597     Деньги         Авто       18-25 2019-09-24 18:32:00       3\n",
       "1    1040598     Деньги         Авто       18-25 2019-09-24 18:35:00       1\n",
       "2    1040599     Деньги         Авто       18-25 2019-09-24 18:54:00       4\n",
       "3    1040600     Деньги         Авто       18-25 2019-09-24 18:55:00      17\n",
       "4    1040601     Деньги         Авто       18-25 2019-09-24 18:56:00      27"
      ]
     },
     "metadata": {},
     "output_type": "display_data"
    }
   ],
   "source": [
    "# посмотрим на данные\n",
    "display(dash_visits.head())"
   ]
  },
  {
   "cell_type": "code",
   "execution_count": 3,
   "id": "6edb0d85",
   "metadata": {},
   "outputs": [
    {
     "name": "stdout",
     "output_type": "stream",
     "text": [
      "<class 'pandas.core.frame.DataFrame'>\n",
      "RangeIndex: 30745 entries, 0 to 30744\n",
      "Data columns (total 6 columns):\n",
      " #   Column        Non-Null Count  Dtype         \n",
      "---  ------        --------------  -----         \n",
      " 0   record_id     30745 non-null  int64         \n",
      " 1   item_topic    30745 non-null  object        \n",
      " 2   source_topic  30745 non-null  object        \n",
      " 3   age_segment   30745 non-null  object        \n",
      " 4   dt            30745 non-null  datetime64[ns]\n",
      " 5   visits        30745 non-null  int64         \n",
      "dtypes: datetime64[ns](1), int64(2), object(3)\n",
      "memory usage: 1.4+ MB\n"
     ]
    },
    {
     "data": {
      "text/plain": [
       "None"
      ]
     },
     "metadata": {},
     "output_type": "display_data"
    }
   ],
   "source": [
    "# проверим корректность данных\n",
    "display(dash_visits.info())"
   ]
  },
  {
   "cell_type": "markdown",
   "id": "85fea467",
   "metadata": {},
   "source": [
    "# Изготовление и выгрузка дашборда в Tableau Public\n",
    "\n",
    "В Tableau Public на основе файла dash_visits.csv сформируем дашборд в соответствии с макетом, описанным выше:\n",
    "https://public.tableau.com/app/profile/victor1223/viz/Praktikum_dashdoard_16418182557970/_?publish=yes"
   ]
  },
  {
   "cell_type": "markdown",
   "id": "a533bdaa",
   "metadata": {},
   "source": [
    "# Результаты работы и ответы на три ключевых вопроса проекта:\n",
    "\n",
    "https://disk.yandex.ru/i/-st_4AgtxSYGZw"
   ]
  }
 ],
 "metadata": {
  "kernelspec": {
   "display_name": "Python 3",
   "language": "python",
   "name": "python3"
  },
  "language_info": {
   "codemirror_mode": {
    "name": "ipython",
    "version": 3
   },
   "file_extension": ".py",
   "mimetype": "text/x-python",
   "name": "python",
   "nbconvert_exporter": "python",
   "pygments_lexer": "ipython3",
   "version": "3.8.8"
  }
 },
 "nbformat": 4,
 "nbformat_minor": 5
}
