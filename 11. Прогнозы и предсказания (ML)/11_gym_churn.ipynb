{
 "cells": [
  {
   "cell_type": "markdown",
   "metadata": {},
   "source": [
    "# Прогнозирование вероятности оттока клиентов фитнес-центра.\n",
    "\n",
    "Сеть фитнес-центров разрабатывает стратегию взаимодействия с клиентами на основе аналитических данных.\n",
    "\n",
    "Распространённая проблема фитнес-клубов и других сервисов — отток клиентов. Можно записать в отток тех, кто попросил закрыть договор или удалил аккаунт. Однако клиенты чаще просто перестают пользоваться сервисом тихо. Для фитнес-центра можно считать, что клиент попал в отток, если за последний месяц ни разу не посетил спортзал.\n",
    "\n",
    "<b>Цель исследования — провести анализ и подготовить план действий по удержанию клиентов.</b>\n",
    "\n",
    "Для решения поставленной задачи нужно было:\n",
    "\n",
    "* спрогнозировать вероятность оттока на уровне следующего месяца для каждого клиента;\n",
    "* сформировать типичные портреты клиентов: выделить несколько наиболее ярких групп и охарактеризовать их основные свойства;\n",
    "* проанализировать основные признаки, наиболее сильно влияющие на отток;\n",
    "* разработать рекомендации по повышению качества работы с клиентами:\n",
    "  * выделить целевые группы клиентов;\n",
    "  * предложить меры по снижению оттока;\n",
    "  * определить другие особенности взаимодействия с клиентами.\n",
    "\n",
    "# Сценарий по выполнению проекта\n",
    "  \n",
    "## Шаг 1. Загрузить данные<a class=\"tocSkip\"></a>\n",
    "  \n",
    "Путь к файлу:  \n",
    "* <code><b>/datasets/gym_churn.csv</b></code>  \n",
    "  \n",
    "Заказчик подготовил данные, которые содержат данные на месяц до оттока и факт оттока на определённый месяц. Набор данных включает следующие поля:  \n",
    "  \n",
    "* <code><b>Churn</b></code> — факт оттока в текущем месяце;\n",
    "* <code><b>gender</b></code> — пол;\n",
    "* <code><b>Near_Location</b></code> — проживание или работа в районе, где находится фитнес-центр;\n",
    "* <code><b>Partner</b></code> — сотрудник компании-партнёра клуба;\n",
    "* <code><b>Promo_friends</b></code> — факт первоначальной записи в рамках акции «приведи друга»;\n",
    "* <code><b>Phone</b></code> — наличие контактного телефона;\n",
    "* <code><b>Age</b></code> — возраст;\n",
    "* <code><b>Lifetime</b></code> — время с момента первого обращения в фитнес-центр (в месяцах);\n",
    "* <code><b>Contract_period</b></code> — длительность текущего действующего абонемента (месяц, 3 месяца, 6 месяцев, год);\n",
    "* <code><b>Month_to_end_contract</b></code> — срок до окончания текущего действующего абонемента (в месяцах);\n",
    "* <code><b>Group_visits</b></code> — факт посещения групповых занятий;\n",
    "* <code><b>Avg_class_frequency_total</b></code> —  средняя частота посещений в неделю за все время с начала действия абонемента;\n",
    "* <code><b>Avg_class_frequency_current_month</b></code> — средняя частота посещений в неделю за предыдущий месяц;\n",
    "* <code><b>Avg_additional_charges_total</b></code> — суммарная выручка от других услуг фитнес-центра: кафе, спорт-товары, косметический и массажный салон.\n",
    "\n",
    "  \n",
    "  \n",
    "## Шаг 2. Подготовить данные к анализу<a class=\"tocSkip\"></a>\n",
    "  \n",
    "* Привести названия столбцов к нижнему регистру<br>  \n",
    "  \n",
    "  \n",
    "## Шаг 3. Провести исследовательский анализ данных (EDA)<a class=\"tocSkip\"></a>  \n",
    "\n",
    "* <b>3.1. Посмотреть на датасет</b><br>\n",
    "Посмотреть на датасет: есть ли в нем отсутствующие признаки, изучить средние значения и стандартные отклонения.<br>\n",
    "Использовать метод <code><b>describe()</b></code>;<br><br>  \n",
    "\n",
    "* <b>3.2. Посмотреть на средние значения признаков в двух группах</b><br>\n",
    "Посмотреть на средние значения признаков в двух группах — тех, кто ушел в отток и тех, кто остался.<br><br>\n",
    "\n",
    "* <b>3.3. Построить столбчатые гистограммы и распределения признаков</b><br>\n",
    "Построить столбчатые гистограммы и распределения признаков для тех, кто ушёл (отток) и тех, кто остался (не попали в отток);<br><br>  \n",
    "\n",
    "* <b>3.4. Построить матрицу корреляций</b><br>\n",
    "Построить матрицу корреляций и отобразить её.<br>  \n",
    "  \n",
    " \n",
    "## Шаг 4. Построить модель прогнозирования оттока клиентов<a class=\"tocSkip\"></a>\n",
    "\n",
    "Построить модель бинарной классификации клиентов, где целевой признак — факт оттока клиента в следующем месяце:\n",
    "\n",
    "* <b>4.1. Разбивка данных на обучающую и валидационную выборку функцией train_test_split().</b><br>\n",
    "Разбить данные на обучающую и валидационную выборку функцией <code><b>train_test_split()</b></code>.<br><br>\n",
    "\n",
    "* <b>4.2. Обучение модели на train-выборке двумя способами: логистической регрессией, случайным лесом.</b><br>\n",
    "Обучить модель на train-выборке двумя способами: (логистической регрессией и случайным лесом)<br><br>\n",
    "  \n",
    "* <b>4.3. Оценка метрик accuracy, precision и recall для обеих моделей на валидационной выборке.</b><br>\n",
    "Оценить метрики <code><b>accuracy</b></code>, <code><b>precision</b></code> и <code><b>recall</b></code> для обеих моделей на валидационной выборке. Сравнить по ним модели. Какая модель показала себя лучше на основании метрик? Указать параметр <code><b>random_state</b></code> при разделении выборки и задании алгоритма.<br>\n",
    "\n",
    "  \n",
    "## Шаг 5. Сделать кластеризацию клиентов<a class=\"tocSkip\"></a>\n",
    "\n",
    "Отложить в сторону столбец с оттоком и провести кластеризацию объектов (клиентов):\n",
    "\n",
    "* <b>5.1. Стандартизация данных.</b><br>\n",
    "Стандартизировать данные;<br><br>\n",
    "\n",
    "* <b>5.2. Постройка матрицы расстояний функцией linkage() на стандартизованной матрице признаков.</b><br>\n",
    "Построить матрицу расстояний функцией <code><b>linkage()</b></code> на стандартизованной матрице признаков и нарисовать дендрограмму. На основании полученного графика предположить, какое количество кластеров можно выделить.<br><br>\n",
    "\n",
    "* <b>5.3. Обучение модели кластеризации на основании алгоритма K-Means и прогнозирование кластеров клиентов.</b><br>\n",
    "Обучить модель кластеризации на основании алгоритма <code><b>K-Means</b></code> и спрогнозировать кластеры клиентов. За число кластеров примем n=5.<br><br>\n",
    "\n",
    "* <b>5.4. Средние значения признаков для кластеров.</b><br>\n",
    "Посмотреть на средние значения признаков для кластеров. Можно ли сразу что-то заметить?<br><br>\n",
    "\n",
    "* <b>5.5. Распределения признаков для кластеров.</b><br>\n",
    "Построить распределения признаков для кластеров. Можно ли что-то заметить по ним?<br><br>\n",
    "\n",
    "* <b>5.6. Доля оттока для каждого полученного кластера.</b><br>\n",
    "Для каждого полученного кластера посчитать долю оттока (методом <code><b>groupby()</b></code>). Отличаются ли они по доле оттока? Какие кластеры склонны к оттоку, а какие — надёжны?<br>\n",
    "\n",
    "  \n",
    "  \n",
    "## Шаг 6. Выводы и базовые рекомендации по работе с клиентами.<a class=\"tocSkip\"></a>  \n",
    "  \n",
    "* <b>6.1. Общие выводы</b><br><br>\n",
    "\n",
    "* <b>6.2. Рекомендации для стратегии взаимодействия с клиентами и их удержания.</b><br>"
   ]
  },
  {
   "cell_type": "markdown",
   "metadata": {},
   "source": [
    "<hr style=\"border: 2px solid indigo;\" />"
   ]
  },
  {
   "cell_type": "markdown",
   "metadata": {},
   "source": [
    "## Шаг 1. Загрузить данные\n",
    "  \n",
    "Путь к файлу:  \n",
    "* <code><b>/datasets/gym_churn.csv</b></code>  \n",
    "  \n",
    "Заказчик подготовил данные, которые содержат данные на месяц до оттока и факт оттока на определённый месяц. Набор данных включает следующие поля:  \n",
    "  \n",
    "* <code><b>Churn</b></code> — факт оттока в текущем месяце;\n",
    "* <code><b>gender</b></code> — пол;\n",
    "* <code><b>Near_Location</b></code> — проживание или работа в районе, где находится фитнес-центр;\n",
    "* <code><b>Partner</b></code> — сотрудник компании-партнёра клуба;\n",
    "* <code><b>Promo_friends</b></code> — факт первоначальной записи в рамках акции «приведи друга»;\n",
    "* <code><b>Phone</b></code> — наличие контактного телефона;\n",
    "* <code><b>Age</b></code> — возраст;\n",
    "* <code><b>Lifetime</b></code> — время с момента первого обращения в фитнес-центр (в месяцах);\n",
    "* <code><b>Contract_period</b></code> — длительность текущего действующего абонемента (месяц, 3 месяца, 6 месяцев, год);\n",
    "* <code><b>Month_to_end_contract</b></code> — срок до окончания текущего действующего абонемента (в месяцах);\n",
    "* <code><b>Group_visits</b></code> — факт посещения групповых занятий;\n",
    "* <code><b>Avg_class_frequency_total</b></code> —  средняя частота посещений в неделю за все время с начала действия абонемента;\n",
    "* <code><b>Avg_class_frequency_current_month</b></code> — средняя частота посещений в неделю за предыдущий месяц;\n",
    "* <code><b>Avg_additional_charges_total</b></code> — суммарная выручка от других услуг фитнес-центра: кафе, спорт-товары, косметический и массажный салон."
   ]
  },
  {
   "cell_type": "code",
   "execution_count": 1,
   "metadata": {},
   "outputs": [],
   "source": [
    "# импортирую все инструменты\n",
    "import pandas as pd\n",
    "import seaborn as sns\n",
    "\n",
    "import matplotlib.pyplot as plt\n",
    "import numpy as np\n",
    "\n",
    "from sklearn.model_selection import train_test_split\n",
    "from sklearn.linear_model import LogisticRegression\n",
    "from sklearn.ensemble import RandomForestClassifier\n",
    "from sklearn.preprocessing import StandardScaler\n",
    "from sklearn.metrics import accuracy_score, precision_score, recall_score, f1_score\n",
    "from sklearn.cluster import KMeans\n",
    "from scipy.cluster.hierarchy import dendrogram, linkage\n",
    "\n",
    "import warnings\n",
    "warnings.filterwarnings(\"ignore\")"
   ]
  },
  {
   "cell_type": "markdown",
   "metadata": {},
   "source": [
    "<div style=\"border-radius: 15px; border: 3px solid indigo; padding: 15px;\">\n",
    "<code><b>df</b></code> — данные на месяц до оттока и факт оттока на определённый месяц\n",
    "</div>"
   ]
  },
  {
   "cell_type": "code",
   "execution_count": 2,
   "metadata": {},
   "outputs": [
    {
     "name": "stdout",
     "output_type": "stream",
     "text": [
      "<class 'pandas.core.frame.DataFrame'>\n",
      "RangeIndex: 4000 entries, 0 to 3999\n",
      "Data columns (total 14 columns):\n",
      " #   Column                             Non-Null Count  Dtype  \n",
      "---  ------                             --------------  -----  \n",
      " 0   gender                             4000 non-null   int64  \n",
      " 1   Near_Location                      4000 non-null   int64  \n",
      " 2   Partner                            4000 non-null   int64  \n",
      " 3   Promo_friends                      4000 non-null   int64  \n",
      " 4   Phone                              4000 non-null   int64  \n",
      " 5   Contract_period                    4000 non-null   int64  \n",
      " 6   Group_visits                       4000 non-null   int64  \n",
      " 7   Age                                4000 non-null   int64  \n",
      " 8   Avg_additional_charges_total       4000 non-null   float64\n",
      " 9   Month_to_end_contract              4000 non-null   float64\n",
      " 10  Lifetime                           4000 non-null   int64  \n",
      " 11  Avg_class_frequency_total          4000 non-null   float64\n",
      " 12  Avg_class_frequency_current_month  4000 non-null   float64\n",
      " 13  Churn                              4000 non-null   int64  \n",
      "dtypes: float64(4), int64(10)\n",
      "memory usage: 437.6 KB\n"
     ]
    },
    {
     "data": {
      "text/plain": [
       "None"
      ]
     },
     "metadata": {},
     "output_type": "display_data"
    }
   ],
   "source": [
    "# загрузим данные, запишем их в датафрейм df\n",
    "df = pd.read_csv('gym_churn.csv')\n",
    "display(df.info())"
   ]
  },
  {
   "cell_type": "code",
   "execution_count": 3,
   "metadata": {},
   "outputs": [
    {
     "data": {
      "text/plain": [
       "Index(['gender', 'Near_Location', 'Partner', 'Promo_friends', 'Phone',\n",
       "       'Contract_period', 'Group_visits', 'Age',\n",
       "       'Avg_additional_charges_total', 'Month_to_end_contract', 'Lifetime',\n",
       "       'Avg_class_frequency_total', 'Avg_class_frequency_current_month',\n",
       "       'Churn'],\n",
       "      dtype='object')"
      ]
     },
     "metadata": {},
     "output_type": "display_data"
    }
   ],
   "source": [
    "# проверяю отдельно наименование столбцов\n",
    "display(df.columns)"
   ]
  },
  {
   "cell_type": "code",
   "execution_count": 4,
   "metadata": {},
   "outputs": [
    {
     "name": "stdout",
     "output_type": "stream",
     "text": [
      "Обнаружено дубликатов: 0\n"
     ]
    }
   ],
   "source": [
    "# проверяю данные на предмет дубликатов\n",
    "print('Обнаружено дубликатов:', df.duplicated().sum())"
   ]
  },
  {
   "cell_type": "code",
   "execution_count": 5,
   "metadata": {},
   "outputs": [
    {
     "data": {
      "text/html": [
       "<div>\n",
       "<style scoped>\n",
       "    .dataframe tbody tr th:only-of-type {\n",
       "        vertical-align: middle;\n",
       "    }\n",
       "\n",
       "    .dataframe tbody tr th {\n",
       "        vertical-align: top;\n",
       "    }\n",
       "\n",
       "    .dataframe thead th {\n",
       "        text-align: right;\n",
       "    }\n",
       "</style>\n",
       "<table border=\"1\" class=\"dataframe\">\n",
       "  <thead>\n",
       "    <tr style=\"text-align: right;\">\n",
       "      <th></th>\n",
       "      <th>gender</th>\n",
       "      <th>Near_Location</th>\n",
       "      <th>Partner</th>\n",
       "      <th>Promo_friends</th>\n",
       "      <th>Phone</th>\n",
       "      <th>Contract_period</th>\n",
       "      <th>Group_visits</th>\n",
       "      <th>Age</th>\n",
       "      <th>Avg_additional_charges_total</th>\n",
       "      <th>Month_to_end_contract</th>\n",
       "      <th>Lifetime</th>\n",
       "      <th>Avg_class_frequency_total</th>\n",
       "      <th>Avg_class_frequency_current_month</th>\n",
       "      <th>Churn</th>\n",
       "    </tr>\n",
       "  </thead>\n",
       "  <tbody>\n",
       "    <tr>\n",
       "      <th>0</th>\n",
       "      <td>1</td>\n",
       "      <td>1</td>\n",
       "      <td>1</td>\n",
       "      <td>1</td>\n",
       "      <td>0</td>\n",
       "      <td>6</td>\n",
       "      <td>1</td>\n",
       "      <td>29</td>\n",
       "      <td>14.227470</td>\n",
       "      <td>5.0</td>\n",
       "      <td>3</td>\n",
       "      <td>0.020398</td>\n",
       "      <td>0.000000</td>\n",
       "      <td>0</td>\n",
       "    </tr>\n",
       "    <tr>\n",
       "      <th>1</th>\n",
       "      <td>0</td>\n",
       "      <td>1</td>\n",
       "      <td>0</td>\n",
       "      <td>0</td>\n",
       "      <td>1</td>\n",
       "      <td>12</td>\n",
       "      <td>1</td>\n",
       "      <td>31</td>\n",
       "      <td>113.202938</td>\n",
       "      <td>12.0</td>\n",
       "      <td>7</td>\n",
       "      <td>1.922936</td>\n",
       "      <td>1.910244</td>\n",
       "      <td>0</td>\n",
       "    </tr>\n",
       "    <tr>\n",
       "      <th>2</th>\n",
       "      <td>0</td>\n",
       "      <td>1</td>\n",
       "      <td>1</td>\n",
       "      <td>0</td>\n",
       "      <td>1</td>\n",
       "      <td>1</td>\n",
       "      <td>0</td>\n",
       "      <td>28</td>\n",
       "      <td>129.448479</td>\n",
       "      <td>1.0</td>\n",
       "      <td>2</td>\n",
       "      <td>1.859098</td>\n",
       "      <td>1.736502</td>\n",
       "      <td>0</td>\n",
       "    </tr>\n",
       "    <tr>\n",
       "      <th>3</th>\n",
       "      <td>0</td>\n",
       "      <td>1</td>\n",
       "      <td>1</td>\n",
       "      <td>1</td>\n",
       "      <td>1</td>\n",
       "      <td>12</td>\n",
       "      <td>1</td>\n",
       "      <td>33</td>\n",
       "      <td>62.669863</td>\n",
       "      <td>12.0</td>\n",
       "      <td>2</td>\n",
       "      <td>3.205633</td>\n",
       "      <td>3.357215</td>\n",
       "      <td>0</td>\n",
       "    </tr>\n",
       "    <tr>\n",
       "      <th>4</th>\n",
       "      <td>1</td>\n",
       "      <td>1</td>\n",
       "      <td>1</td>\n",
       "      <td>1</td>\n",
       "      <td>1</td>\n",
       "      <td>1</td>\n",
       "      <td>0</td>\n",
       "      <td>26</td>\n",
       "      <td>198.362265</td>\n",
       "      <td>1.0</td>\n",
       "      <td>3</td>\n",
       "      <td>1.113884</td>\n",
       "      <td>1.120078</td>\n",
       "      <td>0</td>\n",
       "    </tr>\n",
       "  </tbody>\n",
       "</table>\n",
       "</div>"
      ],
      "text/plain": [
       "   gender  Near_Location  Partner  Promo_friends  Phone  Contract_period  \\\n",
       "0       1              1        1              1      0                6   \n",
       "1       0              1        0              0      1               12   \n",
       "2       0              1        1              0      1                1   \n",
       "3       0              1        1              1      1               12   \n",
       "4       1              1        1              1      1                1   \n",
       "\n",
       "   Group_visits  Age  Avg_additional_charges_total  Month_to_end_contract  \\\n",
       "0             1   29                     14.227470                    5.0   \n",
       "1             1   31                    113.202938                   12.0   \n",
       "2             0   28                    129.448479                    1.0   \n",
       "3             1   33                     62.669863                   12.0   \n",
       "4             0   26                    198.362265                    1.0   \n",
       "\n",
       "   Lifetime  Avg_class_frequency_total  Avg_class_frequency_current_month  \\\n",
       "0         3                   0.020398                           0.000000   \n",
       "1         7                   1.922936                           1.910244   \n",
       "2         2                   1.859098                           1.736502   \n",
       "3         2                   3.205633                           3.357215   \n",
       "4         3                   1.113884                           1.120078   \n",
       "\n",
       "   Churn  \n",
       "0      0  \n",
       "1      0  \n",
       "2      0  \n",
       "3      0  \n",
       "4      0  "
      ]
     },
     "metadata": {},
     "output_type": "display_data"
    }
   ],
   "source": [
    "# изучаю данные head\n",
    "display(df.head())"
   ]
  },
  {
   "cell_type": "code",
   "execution_count": 6,
   "metadata": {},
   "outputs": [
    {
     "data": {
      "text/html": [
       "<div>\n",
       "<style scoped>\n",
       "    .dataframe tbody tr th:only-of-type {\n",
       "        vertical-align: middle;\n",
       "    }\n",
       "\n",
       "    .dataframe tbody tr th {\n",
       "        vertical-align: top;\n",
       "    }\n",
       "\n",
       "    .dataframe thead th {\n",
       "        text-align: right;\n",
       "    }\n",
       "</style>\n",
       "<table border=\"1\" class=\"dataframe\">\n",
       "  <thead>\n",
       "    <tr style=\"text-align: right;\">\n",
       "      <th></th>\n",
       "      <th>gender</th>\n",
       "      <th>Near_Location</th>\n",
       "      <th>Partner</th>\n",
       "      <th>Promo_friends</th>\n",
       "      <th>Phone</th>\n",
       "      <th>Contract_period</th>\n",
       "      <th>Group_visits</th>\n",
       "      <th>Age</th>\n",
       "      <th>Avg_additional_charges_total</th>\n",
       "      <th>Month_to_end_contract</th>\n",
       "      <th>Lifetime</th>\n",
       "      <th>Avg_class_frequency_total</th>\n",
       "      <th>Avg_class_frequency_current_month</th>\n",
       "      <th>Churn</th>\n",
       "    </tr>\n",
       "  </thead>\n",
       "  <tbody>\n",
       "    <tr>\n",
       "      <th>439</th>\n",
       "      <td>0</td>\n",
       "      <td>0</td>\n",
       "      <td>1</td>\n",
       "      <td>1</td>\n",
       "      <td>1</td>\n",
       "      <td>1</td>\n",
       "      <td>0</td>\n",
       "      <td>33</td>\n",
       "      <td>17.867481</td>\n",
       "      <td>1.0</td>\n",
       "      <td>9</td>\n",
       "      <td>1.119959</td>\n",
       "      <td>1.113919</td>\n",
       "      <td>0</td>\n",
       "    </tr>\n",
       "    <tr>\n",
       "      <th>2657</th>\n",
       "      <td>0</td>\n",
       "      <td>1</td>\n",
       "      <td>0</td>\n",
       "      <td>0</td>\n",
       "      <td>1</td>\n",
       "      <td>1</td>\n",
       "      <td>1</td>\n",
       "      <td>26</td>\n",
       "      <td>3.326196</td>\n",
       "      <td>1.0</td>\n",
       "      <td>0</td>\n",
       "      <td>2.220491</td>\n",
       "      <td>2.060425</td>\n",
       "      <td>1</td>\n",
       "    </tr>\n",
       "    <tr>\n",
       "      <th>2279</th>\n",
       "      <td>1</td>\n",
       "      <td>1</td>\n",
       "      <td>0</td>\n",
       "      <td>0</td>\n",
       "      <td>1</td>\n",
       "      <td>1</td>\n",
       "      <td>1</td>\n",
       "      <td>32</td>\n",
       "      <td>240.527130</td>\n",
       "      <td>1.0</td>\n",
       "      <td>2</td>\n",
       "      <td>2.231345</td>\n",
       "      <td>2.267858</td>\n",
       "      <td>0</td>\n",
       "    </tr>\n",
       "    <tr>\n",
       "      <th>3744</th>\n",
       "      <td>1</td>\n",
       "      <td>1</td>\n",
       "      <td>0</td>\n",
       "      <td>0</td>\n",
       "      <td>1</td>\n",
       "      <td>1</td>\n",
       "      <td>0</td>\n",
       "      <td>31</td>\n",
       "      <td>149.020203</td>\n",
       "      <td>1.0</td>\n",
       "      <td>7</td>\n",
       "      <td>1.142254</td>\n",
       "      <td>0.982940</td>\n",
       "      <td>0</td>\n",
       "    </tr>\n",
       "    <tr>\n",
       "      <th>3464</th>\n",
       "      <td>1</td>\n",
       "      <td>1</td>\n",
       "      <td>0</td>\n",
       "      <td>0</td>\n",
       "      <td>1</td>\n",
       "      <td>1</td>\n",
       "      <td>0</td>\n",
       "      <td>26</td>\n",
       "      <td>332.002212</td>\n",
       "      <td>1.0</td>\n",
       "      <td>3</td>\n",
       "      <td>2.088884</td>\n",
       "      <td>2.158351</td>\n",
       "      <td>0</td>\n",
       "    </tr>\n",
       "  </tbody>\n",
       "</table>\n",
       "</div>"
      ],
      "text/plain": [
       "      gender  Near_Location  Partner  Promo_friends  Phone  Contract_period  \\\n",
       "439        0              0        1              1      1                1   \n",
       "2657       0              1        0              0      1                1   \n",
       "2279       1              1        0              0      1                1   \n",
       "3744       1              1        0              0      1                1   \n",
       "3464       1              1        0              0      1                1   \n",
       "\n",
       "      Group_visits  Age  Avg_additional_charges_total  Month_to_end_contract  \\\n",
       "439              0   33                     17.867481                    1.0   \n",
       "2657             1   26                      3.326196                    1.0   \n",
       "2279             1   32                    240.527130                    1.0   \n",
       "3744             0   31                    149.020203                    1.0   \n",
       "3464             0   26                    332.002212                    1.0   \n",
       "\n",
       "      Lifetime  Avg_class_frequency_total  Avg_class_frequency_current_month  \\\n",
       "439          9                   1.119959                           1.113919   \n",
       "2657         0                   2.220491                           2.060425   \n",
       "2279         2                   2.231345                           2.267858   \n",
       "3744         7                   1.142254                           0.982940   \n",
       "3464         3                   2.088884                           2.158351   \n",
       "\n",
       "      Churn  \n",
       "439       0  \n",
       "2657      1  \n",
       "2279      0  \n",
       "3744      0  \n",
       "3464      0  "
      ]
     },
     "metadata": {},
     "output_type": "display_data"
    }
   ],
   "source": [
    "# изучаю данные sample\n",
    "display(df.sample(5))"
   ]
  },
  {
   "cell_type": "code",
   "execution_count": 7,
   "metadata": {},
   "outputs": [
    {
     "data": {
      "text/html": [
       "<div>\n",
       "<style scoped>\n",
       "    .dataframe tbody tr th:only-of-type {\n",
       "        vertical-align: middle;\n",
       "    }\n",
       "\n",
       "    .dataframe tbody tr th {\n",
       "        vertical-align: top;\n",
       "    }\n",
       "\n",
       "    .dataframe thead th {\n",
       "        text-align: right;\n",
       "    }\n",
       "</style>\n",
       "<table border=\"1\" class=\"dataframe\">\n",
       "  <thead>\n",
       "    <tr style=\"text-align: right;\">\n",
       "      <th></th>\n",
       "      <th>gender</th>\n",
       "      <th>Near_Location</th>\n",
       "      <th>Partner</th>\n",
       "      <th>Promo_friends</th>\n",
       "      <th>Phone</th>\n",
       "      <th>Contract_period</th>\n",
       "      <th>Group_visits</th>\n",
       "      <th>Age</th>\n",
       "      <th>Avg_additional_charges_total</th>\n",
       "      <th>Month_to_end_contract</th>\n",
       "      <th>Lifetime</th>\n",
       "      <th>Avg_class_frequency_total</th>\n",
       "      <th>Avg_class_frequency_current_month</th>\n",
       "      <th>Churn</th>\n",
       "    </tr>\n",
       "  </thead>\n",
       "  <tbody>\n",
       "    <tr>\n",
       "      <th>3995</th>\n",
       "      <td>1</td>\n",
       "      <td>1</td>\n",
       "      <td>1</td>\n",
       "      <td>0</td>\n",
       "      <td>1</td>\n",
       "      <td>12</td>\n",
       "      <td>0</td>\n",
       "      <td>33</td>\n",
       "      <td>2.406023</td>\n",
       "      <td>12.0</td>\n",
       "      <td>8</td>\n",
       "      <td>2.284497</td>\n",
       "      <td>2.349070</td>\n",
       "      <td>0</td>\n",
       "    </tr>\n",
       "    <tr>\n",
       "      <th>3996</th>\n",
       "      <td>0</td>\n",
       "      <td>1</td>\n",
       "      <td>0</td>\n",
       "      <td>0</td>\n",
       "      <td>1</td>\n",
       "      <td>1</td>\n",
       "      <td>1</td>\n",
       "      <td>29</td>\n",
       "      <td>68.883764</td>\n",
       "      <td>1.0</td>\n",
       "      <td>1</td>\n",
       "      <td>1.277168</td>\n",
       "      <td>0.292859</td>\n",
       "      <td>1</td>\n",
       "    </tr>\n",
       "    <tr>\n",
       "      <th>3997</th>\n",
       "      <td>1</td>\n",
       "      <td>1</td>\n",
       "      <td>1</td>\n",
       "      <td>1</td>\n",
       "      <td>1</td>\n",
       "      <td>12</td>\n",
       "      <td>0</td>\n",
       "      <td>28</td>\n",
       "      <td>78.250542</td>\n",
       "      <td>11.0</td>\n",
       "      <td>2</td>\n",
       "      <td>2.786146</td>\n",
       "      <td>2.831439</td>\n",
       "      <td>0</td>\n",
       "    </tr>\n",
       "    <tr>\n",
       "      <th>3998</th>\n",
       "      <td>0</td>\n",
       "      <td>1</td>\n",
       "      <td>1</td>\n",
       "      <td>1</td>\n",
       "      <td>1</td>\n",
       "      <td>6</td>\n",
       "      <td>0</td>\n",
       "      <td>32</td>\n",
       "      <td>61.912657</td>\n",
       "      <td>5.0</td>\n",
       "      <td>3</td>\n",
       "      <td>1.630108</td>\n",
       "      <td>1.596237</td>\n",
       "      <td>0</td>\n",
       "    </tr>\n",
       "    <tr>\n",
       "      <th>3999</th>\n",
       "      <td>1</td>\n",
       "      <td>0</td>\n",
       "      <td>1</td>\n",
       "      <td>0</td>\n",
       "      <td>0</td>\n",
       "      <td>12</td>\n",
       "      <td>1</td>\n",
       "      <td>30</td>\n",
       "      <td>178.861814</td>\n",
       "      <td>12.0</td>\n",
       "      <td>1</td>\n",
       "      <td>1.101832</td>\n",
       "      <td>1.035270</td>\n",
       "      <td>0</td>\n",
       "    </tr>\n",
       "  </tbody>\n",
       "</table>\n",
       "</div>"
      ],
      "text/plain": [
       "      gender  Near_Location  Partner  Promo_friends  Phone  Contract_period  \\\n",
       "3995       1              1        1              0      1               12   \n",
       "3996       0              1        0              0      1                1   \n",
       "3997       1              1        1              1      1               12   \n",
       "3998       0              1        1              1      1                6   \n",
       "3999       1              0        1              0      0               12   \n",
       "\n",
       "      Group_visits  Age  Avg_additional_charges_total  Month_to_end_contract  \\\n",
       "3995             0   33                      2.406023                   12.0   \n",
       "3996             1   29                     68.883764                    1.0   \n",
       "3997             0   28                     78.250542                   11.0   \n",
       "3998             0   32                     61.912657                    5.0   \n",
       "3999             1   30                    178.861814                   12.0   \n",
       "\n",
       "      Lifetime  Avg_class_frequency_total  Avg_class_frequency_current_month  \\\n",
       "3995         8                   2.284497                           2.349070   \n",
       "3996         1                   1.277168                           0.292859   \n",
       "3997         2                   2.786146                           2.831439   \n",
       "3998         3                   1.630108                           1.596237   \n",
       "3999         1                   1.101832                           1.035270   \n",
       "\n",
       "      Churn  \n",
       "3995      0  \n",
       "3996      1  \n",
       "3997      0  \n",
       "3998      0  \n",
       "3999      0  "
      ]
     },
     "metadata": {},
     "output_type": "display_data"
    }
   ],
   "source": [
    "# изучаю данные tail\n",
    "display(df.tail(5))"
   ]
  },
  {
   "cell_type": "code",
   "execution_count": 8,
   "metadata": {},
   "outputs": [
    {
     "data": {
      "text/html": [
       "<div>\n",
       "<style scoped>\n",
       "    .dataframe tbody tr th:only-of-type {\n",
       "        vertical-align: middle;\n",
       "    }\n",
       "\n",
       "    .dataframe tbody tr th {\n",
       "        vertical-align: top;\n",
       "    }\n",
       "\n",
       "    .dataframe thead th {\n",
       "        text-align: right;\n",
       "    }\n",
       "</style>\n",
       "<table border=\"1\" class=\"dataframe\">\n",
       "  <thead>\n",
       "    <tr style=\"text-align: right;\">\n",
       "      <th></th>\n",
       "      <th>0</th>\n",
       "      <th>1</th>\n",
       "    </tr>\n",
       "  </thead>\n",
       "  <tbody>\n",
       "    <tr>\n",
       "      <th>gender</th>\n",
       "      <td>int64</td>\n",
       "      <td>0</td>\n",
       "    </tr>\n",
       "    <tr>\n",
       "      <th>Near_Location</th>\n",
       "      <td>int64</td>\n",
       "      <td>0</td>\n",
       "    </tr>\n",
       "    <tr>\n",
       "      <th>Partner</th>\n",
       "      <td>int64</td>\n",
       "      <td>0</td>\n",
       "    </tr>\n",
       "    <tr>\n",
       "      <th>Promo_friends</th>\n",
       "      <td>int64</td>\n",
       "      <td>0</td>\n",
       "    </tr>\n",
       "    <tr>\n",
       "      <th>Phone</th>\n",
       "      <td>int64</td>\n",
       "      <td>0</td>\n",
       "    </tr>\n",
       "    <tr>\n",
       "      <th>Contract_period</th>\n",
       "      <td>int64</td>\n",
       "      <td>0</td>\n",
       "    </tr>\n",
       "    <tr>\n",
       "      <th>Group_visits</th>\n",
       "      <td>int64</td>\n",
       "      <td>0</td>\n",
       "    </tr>\n",
       "    <tr>\n",
       "      <th>Age</th>\n",
       "      <td>int64</td>\n",
       "      <td>0</td>\n",
       "    </tr>\n",
       "    <tr>\n",
       "      <th>Avg_additional_charges_total</th>\n",
       "      <td>float64</td>\n",
       "      <td>0</td>\n",
       "    </tr>\n",
       "    <tr>\n",
       "      <th>Month_to_end_contract</th>\n",
       "      <td>float64</td>\n",
       "      <td>0</td>\n",
       "    </tr>\n",
       "    <tr>\n",
       "      <th>Lifetime</th>\n",
       "      <td>int64</td>\n",
       "      <td>0</td>\n",
       "    </tr>\n",
       "    <tr>\n",
       "      <th>Avg_class_frequency_total</th>\n",
       "      <td>float64</td>\n",
       "      <td>0</td>\n",
       "    </tr>\n",
       "    <tr>\n",
       "      <th>Avg_class_frequency_current_month</th>\n",
       "      <td>float64</td>\n",
       "      <td>0</td>\n",
       "    </tr>\n",
       "    <tr>\n",
       "      <th>Churn</th>\n",
       "      <td>int64</td>\n",
       "      <td>0</td>\n",
       "    </tr>\n",
       "  </tbody>\n",
       "</table>\n",
       "</div>"
      ],
      "text/plain": [
       "                                         0  1\n",
       "gender                               int64  0\n",
       "Near_Location                        int64  0\n",
       "Partner                              int64  0\n",
       "Promo_friends                        int64  0\n",
       "Phone                                int64  0\n",
       "Contract_period                      int64  0\n",
       "Group_visits                         int64  0\n",
       "Age                                  int64  0\n",
       "Avg_additional_charges_total       float64  0\n",
       "Month_to_end_contract              float64  0\n",
       "Lifetime                             int64  0\n",
       "Avg_class_frequency_total          float64  0\n",
       "Avg_class_frequency_current_month  float64  0\n",
       "Churn                                int64  0"
      ]
     },
     "metadata": {},
     "output_type": "display_data"
    }
   ],
   "source": [
    "# проверяю на пропуски\n",
    "display(pd.concat([df.dtypes, df.isna().sum()], axis=1))"
   ]
  },
  {
   "cell_type": "code",
   "execution_count": 9,
   "metadata": {},
   "outputs": [
    {
     "data": {
      "text/html": [
       "<div>\n",
       "<style scoped>\n",
       "    .dataframe tbody tr th:only-of-type {\n",
       "        vertical-align: middle;\n",
       "    }\n",
       "\n",
       "    .dataframe tbody tr th {\n",
       "        vertical-align: top;\n",
       "    }\n",
       "\n",
       "    .dataframe thead th {\n",
       "        text-align: right;\n",
       "    }\n",
       "</style>\n",
       "<table border=\"1\" class=\"dataframe\">\n",
       "  <thead>\n",
       "    <tr style=\"text-align: right;\">\n",
       "      <th></th>\n",
       "      <th>gender</th>\n",
       "      <th>Near_Location</th>\n",
       "      <th>Partner</th>\n",
       "      <th>Promo_friends</th>\n",
       "      <th>Phone</th>\n",
       "      <th>Contract_period</th>\n",
       "      <th>Group_visits</th>\n",
       "      <th>Age</th>\n",
       "      <th>Avg_additional_charges_total</th>\n",
       "      <th>Month_to_end_contract</th>\n",
       "      <th>Lifetime</th>\n",
       "      <th>Avg_class_frequency_total</th>\n",
       "      <th>Avg_class_frequency_current_month</th>\n",
       "      <th>Churn</th>\n",
       "    </tr>\n",
       "  </thead>\n",
       "  <tbody>\n",
       "    <tr>\n",
       "      <th>count</th>\n",
       "      <td>4000.000000</td>\n",
       "      <td>4000.000000</td>\n",
       "      <td>4000.000000</td>\n",
       "      <td>4000.000000</td>\n",
       "      <td>4000.000000</td>\n",
       "      <td>4000.000000</td>\n",
       "      <td>4000.000000</td>\n",
       "      <td>4000.000000</td>\n",
       "      <td>4000.000000</td>\n",
       "      <td>4000.000000</td>\n",
       "      <td>4000.000000</td>\n",
       "      <td>4000.000000</td>\n",
       "      <td>4000.000000</td>\n",
       "      <td>4000.000000</td>\n",
       "    </tr>\n",
       "    <tr>\n",
       "      <th>mean</th>\n",
       "      <td>0.510250</td>\n",
       "      <td>0.845250</td>\n",
       "      <td>0.486750</td>\n",
       "      <td>0.308500</td>\n",
       "      <td>0.903500</td>\n",
       "      <td>4.681250</td>\n",
       "      <td>0.412250</td>\n",
       "      <td>29.184250</td>\n",
       "      <td>146.943728</td>\n",
       "      <td>4.322750</td>\n",
       "      <td>3.724750</td>\n",
       "      <td>1.879020</td>\n",
       "      <td>1.767052</td>\n",
       "      <td>0.265250</td>\n",
       "    </tr>\n",
       "    <tr>\n",
       "      <th>std</th>\n",
       "      <td>0.499957</td>\n",
       "      <td>0.361711</td>\n",
       "      <td>0.499887</td>\n",
       "      <td>0.461932</td>\n",
       "      <td>0.295313</td>\n",
       "      <td>4.549706</td>\n",
       "      <td>0.492301</td>\n",
       "      <td>3.258367</td>\n",
       "      <td>96.355602</td>\n",
       "      <td>4.191297</td>\n",
       "      <td>3.749267</td>\n",
       "      <td>0.972245</td>\n",
       "      <td>1.052906</td>\n",
       "      <td>0.441521</td>\n",
       "    </tr>\n",
       "    <tr>\n",
       "      <th>min</th>\n",
       "      <td>0.000000</td>\n",
       "      <td>0.000000</td>\n",
       "      <td>0.000000</td>\n",
       "      <td>0.000000</td>\n",
       "      <td>0.000000</td>\n",
       "      <td>1.000000</td>\n",
       "      <td>0.000000</td>\n",
       "      <td>18.000000</td>\n",
       "      <td>0.148205</td>\n",
       "      <td>1.000000</td>\n",
       "      <td>0.000000</td>\n",
       "      <td>0.000000</td>\n",
       "      <td>0.000000</td>\n",
       "      <td>0.000000</td>\n",
       "    </tr>\n",
       "    <tr>\n",
       "      <th>25%</th>\n",
       "      <td>0.000000</td>\n",
       "      <td>1.000000</td>\n",
       "      <td>0.000000</td>\n",
       "      <td>0.000000</td>\n",
       "      <td>1.000000</td>\n",
       "      <td>1.000000</td>\n",
       "      <td>0.000000</td>\n",
       "      <td>27.000000</td>\n",
       "      <td>68.868830</td>\n",
       "      <td>1.000000</td>\n",
       "      <td>1.000000</td>\n",
       "      <td>1.180875</td>\n",
       "      <td>0.963003</td>\n",
       "      <td>0.000000</td>\n",
       "    </tr>\n",
       "    <tr>\n",
       "      <th>50%</th>\n",
       "      <td>1.000000</td>\n",
       "      <td>1.000000</td>\n",
       "      <td>0.000000</td>\n",
       "      <td>0.000000</td>\n",
       "      <td>1.000000</td>\n",
       "      <td>1.000000</td>\n",
       "      <td>0.000000</td>\n",
       "      <td>29.000000</td>\n",
       "      <td>136.220159</td>\n",
       "      <td>1.000000</td>\n",
       "      <td>3.000000</td>\n",
       "      <td>1.832768</td>\n",
       "      <td>1.719574</td>\n",
       "      <td>0.000000</td>\n",
       "    </tr>\n",
       "    <tr>\n",
       "      <th>75%</th>\n",
       "      <td>1.000000</td>\n",
       "      <td>1.000000</td>\n",
       "      <td>1.000000</td>\n",
       "      <td>1.000000</td>\n",
       "      <td>1.000000</td>\n",
       "      <td>6.000000</td>\n",
       "      <td>1.000000</td>\n",
       "      <td>31.000000</td>\n",
       "      <td>210.949625</td>\n",
       "      <td>6.000000</td>\n",
       "      <td>5.000000</td>\n",
       "      <td>2.536078</td>\n",
       "      <td>2.510336</td>\n",
       "      <td>1.000000</td>\n",
       "    </tr>\n",
       "    <tr>\n",
       "      <th>max</th>\n",
       "      <td>1.000000</td>\n",
       "      <td>1.000000</td>\n",
       "      <td>1.000000</td>\n",
       "      <td>1.000000</td>\n",
       "      <td>1.000000</td>\n",
       "      <td>12.000000</td>\n",
       "      <td>1.000000</td>\n",
       "      <td>41.000000</td>\n",
       "      <td>552.590740</td>\n",
       "      <td>12.000000</td>\n",
       "      <td>31.000000</td>\n",
       "      <td>6.023668</td>\n",
       "      <td>6.146783</td>\n",
       "      <td>1.000000</td>\n",
       "    </tr>\n",
       "  </tbody>\n",
       "</table>\n",
       "</div>"
      ],
      "text/plain": [
       "            gender  Near_Location      Partner  Promo_friends        Phone  \\\n",
       "count  4000.000000    4000.000000  4000.000000    4000.000000  4000.000000   \n",
       "mean      0.510250       0.845250     0.486750       0.308500     0.903500   \n",
       "std       0.499957       0.361711     0.499887       0.461932     0.295313   \n",
       "min       0.000000       0.000000     0.000000       0.000000     0.000000   \n",
       "25%       0.000000       1.000000     0.000000       0.000000     1.000000   \n",
       "50%       1.000000       1.000000     0.000000       0.000000     1.000000   \n",
       "75%       1.000000       1.000000     1.000000       1.000000     1.000000   \n",
       "max       1.000000       1.000000     1.000000       1.000000     1.000000   \n",
       "\n",
       "       Contract_period  Group_visits          Age  \\\n",
       "count      4000.000000   4000.000000  4000.000000   \n",
       "mean          4.681250      0.412250    29.184250   \n",
       "std           4.549706      0.492301     3.258367   \n",
       "min           1.000000      0.000000    18.000000   \n",
       "25%           1.000000      0.000000    27.000000   \n",
       "50%           1.000000      0.000000    29.000000   \n",
       "75%           6.000000      1.000000    31.000000   \n",
       "max          12.000000      1.000000    41.000000   \n",
       "\n",
       "       Avg_additional_charges_total  Month_to_end_contract     Lifetime  \\\n",
       "count                   4000.000000            4000.000000  4000.000000   \n",
       "mean                     146.943728               4.322750     3.724750   \n",
       "std                       96.355602               4.191297     3.749267   \n",
       "min                        0.148205               1.000000     0.000000   \n",
       "25%                       68.868830               1.000000     1.000000   \n",
       "50%                      136.220159               1.000000     3.000000   \n",
       "75%                      210.949625               6.000000     5.000000   \n",
       "max                      552.590740              12.000000    31.000000   \n",
       "\n",
       "       Avg_class_frequency_total  Avg_class_frequency_current_month  \\\n",
       "count                4000.000000                        4000.000000   \n",
       "mean                    1.879020                           1.767052   \n",
       "std                     0.972245                           1.052906   \n",
       "min                     0.000000                           0.000000   \n",
       "25%                     1.180875                           0.963003   \n",
       "50%                     1.832768                           1.719574   \n",
       "75%                     2.536078                           2.510336   \n",
       "max                     6.023668                           6.146783   \n",
       "\n",
       "             Churn  \n",
       "count  4000.000000  \n",
       "mean      0.265250  \n",
       "std       0.441521  \n",
       "min       0.000000  \n",
       "25%       0.000000  \n",
       "50%       0.000000  \n",
       "75%       1.000000  \n",
       "max       1.000000  "
      ]
     },
     "metadata": {},
     "output_type": "display_data"
    }
   ],
   "source": [
    "# изучаю таблицу через describe\n",
    "display(df.describe(include='all'))"
   ]
  },
  {
   "cell_type": "markdown",
   "metadata": {},
   "source": [
    "<div style=\"border-radius: 15px; border: 3px solid indigo; padding: 15px;\">\n",
    "<code><b>df['gender']</b></code> — пол\n",
    "</div>"
   ]
  },
  {
   "cell_type": "code",
   "execution_count": 10,
   "metadata": {},
   "outputs": [
    {
     "data": {
      "text/plain": [
       "array([1, 0], dtype=int64)"
      ]
     },
     "metadata": {},
     "output_type": "display_data"
    },
    {
     "name": "stdout",
     "output_type": "stream",
     "text": [
      "Всего уникальных значений в df[\"gender\"]: 2\n"
     ]
    }
   ],
   "source": [
    "# изучаю уникальные значения по столбцу gender\n",
    "display(df['gender'].unique())\n",
    "print('Всего уникальных значений в df[\"gender\"]:', len(df['gender'].unique()))"
   ]
  },
  {
   "cell_type": "markdown",
   "metadata": {},
   "source": [
    "<div style=\"border-radius: 15px; border: 3px solid indigo; padding: 15px;\">\n",
    "<code><b>df['Near_Location']</b></code> — проживание или работа в районе, где находится фитнес-центр\n",
    "</div>"
   ]
  },
  {
   "cell_type": "code",
   "execution_count": 11,
   "metadata": {},
   "outputs": [
    {
     "data": {
      "text/plain": [
       "array([1, 0], dtype=int64)"
      ]
     },
     "metadata": {},
     "output_type": "display_data"
    },
    {
     "name": "stdout",
     "output_type": "stream",
     "text": [
      "Всего уникальных значений в df[\"Near_Location\"]: 2\n"
     ]
    }
   ],
   "source": [
    "# изучаю уникальные значения по столбцу Near_Location\n",
    "display(df['Near_Location'].unique())\n",
    "print('Всего уникальных значений в df[\"Near_Location\"]:', len(df['Near_Location'].unique()))"
   ]
  },
  {
   "cell_type": "markdown",
   "metadata": {},
   "source": [
    "<div style=\"border-radius: 15px; border: 3px solid indigo; padding: 15px;\">\n",
    "<code><b>df['Partner']</b></code> — сотрудник компании-партнёра клуба\n",
    "</div>"
   ]
  },
  {
   "cell_type": "code",
   "execution_count": 12,
   "metadata": {},
   "outputs": [
    {
     "data": {
      "text/plain": [
       "array([1, 0], dtype=int64)"
      ]
     },
     "metadata": {},
     "output_type": "display_data"
    },
    {
     "name": "stdout",
     "output_type": "stream",
     "text": [
      "Всего уникальных значений в df[\"Partner\"]: 2\n"
     ]
    }
   ],
   "source": [
    "# изучаю уникальные значения по столбцу Partner\n",
    "display(df['Partner'].unique())\n",
    "print('Всего уникальных значений в df[\"Partner\"]:', len(df['Partner'].unique()))"
   ]
  },
  {
   "cell_type": "markdown",
   "metadata": {},
   "source": [
    "<div style=\"border-radius: 15px; border: 3px solid indigo; padding: 15px;\">\n",
    "<code><b>df['Promo_friends']</b></code> — факт первоначальной записи в рамках акции «приведи друга»\n",
    "</div>"
   ]
  },
  {
   "cell_type": "code",
   "execution_count": 13,
   "metadata": {},
   "outputs": [
    {
     "data": {
      "text/plain": [
       "array([1, 0], dtype=int64)"
      ]
     },
     "metadata": {},
     "output_type": "display_data"
    },
    {
     "name": "stdout",
     "output_type": "stream",
     "text": [
      "Всего уникальных значений в df[\"Promo_friends\"]: 2\n"
     ]
    }
   ],
   "source": [
    "# изучаю уникальные значения по столбцу Promo_friends\n",
    "display(df['Promo_friends'].unique())\n",
    "print('Всего уникальных значений в df[\"Promo_friends\"]:', len(df['Promo_friends'].unique()))"
   ]
  },
  {
   "cell_type": "markdown",
   "metadata": {},
   "source": [
    "<div style=\"border-radius: 15px; border: 3px solid indigo; padding: 15px;\">\n",
    "<code><b>df['Phone']</b></code> — наличие контактного телефона\n",
    "</div>"
   ]
  },
  {
   "cell_type": "code",
   "execution_count": 14,
   "metadata": {},
   "outputs": [
    {
     "data": {
      "text/plain": [
       "array([0, 1], dtype=int64)"
      ]
     },
     "metadata": {},
     "output_type": "display_data"
    },
    {
     "name": "stdout",
     "output_type": "stream",
     "text": [
      "Всего уникальных значений в df[\"Phone\"]: 2\n"
     ]
    }
   ],
   "source": [
    "# изучаю уникальные значения по столбцу Phone\n",
    "display(df['Phone'].unique())\n",
    "print('Всего уникальных значений в df[\"Phone\"]:', len(df['Phone'].unique()))"
   ]
  },
  {
   "cell_type": "markdown",
   "metadata": {},
   "source": [
    "<div style=\"border-radius: 15px; border: 3px solid indigo; padding: 15px;\">\n",
    "<code><b>df['Age']</b></code> — возраст\n",
    "</div>"
   ]
  },
  {
   "cell_type": "code",
   "execution_count": 15,
   "metadata": {},
   "outputs": [
    {
     "data": {
      "text/plain": [
       "array([29, 31, 28, 33, 26, 34, 32, 30, 23, 27, 35, 25, 36, 24, 21, 37, 22,\n",
       "       19, 20, 38, 39, 18, 41], dtype=int64)"
      ]
     },
     "metadata": {},
     "output_type": "display_data"
    },
    {
     "name": "stdout",
     "output_type": "stream",
     "text": [
      "Всего уникальных значений в df[\"Age\"]: 23\n"
     ]
    }
   ],
   "source": [
    "# изучаю уникальные значения по столбцу Age\n",
    "display(df['Age'].unique())\n",
    "print('Всего уникальных значений в df[\"Age\"]:', len(df['Age'].unique()))"
   ]
  },
  {
   "cell_type": "markdown",
   "metadata": {},
   "source": [
    "<div style=\"border-radius: 15px; border: 3px solid indigo; padding: 15px;\">\n",
    "<code><b>df['Lifetime']</b></code> — время с момента первого обращения в фитнес-центр (в месяцах)\n",
    "</div>"
   ]
  },
  {
   "cell_type": "code",
   "execution_count": 16,
   "metadata": {},
   "outputs": [
    {
     "data": {
      "text/plain": [
       "array([ 3,  7,  2,  0,  1, 11,  4,  8, 14,  6,  5, 15, 12, 21, 10, 20,  9,\n",
       "       13, 17, 16, 24, 22, 31, 26, 23, 18, 19, 27, 29], dtype=int64)"
      ]
     },
     "metadata": {},
     "output_type": "display_data"
    },
    {
     "name": "stdout",
     "output_type": "stream",
     "text": [
      "Всего уникальных значений в df[\"Lifetime\"]: 29\n"
     ]
    }
   ],
   "source": [
    "# изучаю уникальные значения по столбцу Lifetime\n",
    "display(df['Lifetime'].unique())\n",
    "print('Всего уникальных значений в df[\"Lifetime\"]:', len(df['Lifetime'].unique()))"
   ]
  },
  {
   "cell_type": "markdown",
   "metadata": {},
   "source": [
    "<div style=\"border-radius: 15px; border: 3px solid indigo; padding: 15px;\">\n",
    "<code><b>df['Contract_period']</b></code> — длительность текущего действующего абонемента (месяц, 3 месяца, 6 месяцев, год)\n",
    "</div>"
   ]
  },
  {
   "cell_type": "code",
   "execution_count": 17,
   "metadata": {},
   "outputs": [
    {
     "data": {
      "text/plain": [
       "array([ 6, 12,  1], dtype=int64)"
      ]
     },
     "metadata": {},
     "output_type": "display_data"
    },
    {
     "name": "stdout",
     "output_type": "stream",
     "text": [
      "Всего уникальных значений в df[\"Contract_period\"]: 3\n"
     ]
    }
   ],
   "source": [
    "# изучаю уникальные значения по столбцу Contract_period\n",
    "display(df['Contract_period'].unique())\n",
    "print('Всего уникальных значений в df[\"Contract_period\"]:', len(df['Contract_period'].unique()))"
   ]
  },
  {
   "cell_type": "markdown",
   "metadata": {},
   "source": [
    "<div style=\"border-radius: 15px; border: 3px solid indigo; padding: 15px;\">\n",
    "<code><b>df['Month_to_end_contract']</b></code> — срок до окончания текущего действующего абонемента (в месяцах)\n",
    "</div>"
   ]
  },
  {
   "cell_type": "code",
   "execution_count": 18,
   "metadata": {},
   "outputs": [
    {
     "data": {
      "text/plain": [
       "array([ 5., 12.,  1.,  6.,  3., 10., 11.,  9.,  4.,  7.,  8.,  2.])"
      ]
     },
     "metadata": {},
     "output_type": "display_data"
    },
    {
     "name": "stdout",
     "output_type": "stream",
     "text": [
      "Всего уникальных значений в df[\"Month_to_end_contract\"]: 12\n"
     ]
    }
   ],
   "source": [
    "# изучаю уникальные значения по столбцу Month_to_end_contract\n",
    "display(df['Month_to_end_contract'].unique())\n",
    "print('Всего уникальных значений в df[\"Month_to_end_contract\"]:', len(df['Month_to_end_contract'].unique()))"
   ]
  },
  {
   "cell_type": "markdown",
   "metadata": {},
   "source": [
    "<div style=\"border-radius: 15px; border: 3px solid indigo; padding: 15px;\">\n",
    "<code><b>df['Group_visits']</b></code> — факт посещения групповых занятий\n",
    "</div>"
   ]
  },
  {
   "cell_type": "code",
   "execution_count": 19,
   "metadata": {},
   "outputs": [
    {
     "data": {
      "text/plain": [
       "array([1, 0], dtype=int64)"
      ]
     },
     "metadata": {},
     "output_type": "display_data"
    },
    {
     "name": "stdout",
     "output_type": "stream",
     "text": [
      "Всего уникальных значений в df[\"Group_visits\"]: 2\n"
     ]
    }
   ],
   "source": [
    "# изучаю уникальные значения по столбцу Group_visits\n",
    "display(df['Group_visits'].unique())\n",
    "print('Всего уникальных значений в df[\"Group_visits\"]:', len(df['Group_visits'].unique()))"
   ]
  },
  {
   "cell_type": "markdown",
   "metadata": {},
   "source": [
    "<div style=\"border-radius: 15px; border: 3px solid indigo; padding: 15px;\">\n",
    "<code><b>df['Avg_class_frequency_total']</b></code> — средняя частота посещений в неделю за все время с начала действия абонемента\n",
    "</div>"
   ]
  },
  {
   "cell_type": "code",
   "execution_count": 20,
   "metadata": {},
   "outputs": [
    {
     "data": {
      "text/plain": [
       "array([0.02039795, 1.92293606, 1.85909835, ..., 2.78614636, 1.63010814,\n",
       "       1.10183221])"
      ]
     },
     "metadata": {},
     "output_type": "display_data"
    },
    {
     "name": "stdout",
     "output_type": "stream",
     "text": [
      "Всего уникальных значений в df[\"Avg_class_frequency_total\"]: 3913\n"
     ]
    }
   ],
   "source": [
    "# изучаю уникальные значения по столбцу Avg_class_frequency_total\n",
    "display(df['Avg_class_frequency_total'].unique())\n",
    "print('Всего уникальных значений в df[\"Avg_class_frequency_total\"]:', len(df['Avg_class_frequency_total'].unique()))"
   ]
  },
  {
   "cell_type": "markdown",
   "metadata": {},
   "source": [
    "<div style=\"border-radius: 15px; border: 3px solid indigo; padding: 15px;\">\n",
    "<code><b>df['Avg_class_frequency_current_month']</b></code> — средняя частота посещений в неделю за предыдущий месяц\n",
    "</div>"
   ]
  },
  {
   "cell_type": "code",
   "execution_count": 21,
   "metadata": {},
   "outputs": [
    {
     "data": {
      "text/plain": [
       "array([0.        , 1.91024352, 1.73650189, ..., 2.8314395 , 1.59623664,\n",
       "       1.03526976])"
      ]
     },
     "metadata": {},
     "output_type": "display_data"
    },
    {
     "name": "stdout",
     "output_type": "stream",
     "text": [
      "Всего уникальных значений в df[\"Avg_class_frequency_current_month\"]: 3820\n"
     ]
    }
   ],
   "source": [
    "# изучаю уникальные значения по столбцу Avg_class_frequency_current_month\n",
    "display(df['Avg_class_frequency_current_month'].unique())\n",
    "print('Всего уникальных значений в df[\"Avg_class_frequency_current_month\"]:', len(df['Avg_class_frequency_current_month'].unique()))"
   ]
  },
  {
   "cell_type": "markdown",
   "metadata": {},
   "source": [
    "<div style=\"border-radius: 15px; border: 3px solid indigo; padding: 15px;\">\n",
    "<code><b>df['Avg_additional_charges_total']</b></code> — суммарная выручка от других услуг фитнес-центра: кафе, спорт-товары, косметический и массажный салон\n",
    "</div>"
   ]
  },
  {
   "cell_type": "code",
   "execution_count": 22,
   "metadata": {},
   "outputs": [
    {
     "data": {
      "text/plain": [
       "array([ 14.22747042, 113.20293765, 129.44847933, ...,  78.25054157,\n",
       "        61.91265691, 178.86181361])"
      ]
     },
     "metadata": {},
     "output_type": "display_data"
    },
    {
     "name": "stdout",
     "output_type": "stream",
     "text": [
      "Всего уникальных значений в df[\"Avg_additional_charges_total\"]: 4000\n"
     ]
    }
   ],
   "source": [
    "# изучаю уникальные значения по столбцу Avg_additional_charges_total\n",
    "display(df['Avg_additional_charges_total'].unique())\n",
    "print('Всего уникальных значений в df[\"Avg_additional_charges_total\"]:', len(df['Avg_additional_charges_total'].unique()))"
   ]
  },
  {
   "cell_type": "markdown",
   "metadata": {},
   "source": [
    "<div style=\"border-radius: 15px; border: 3px solid indigo; padding: 15px;\">\n",
    "<code><b>df['Churn']</b></code> — факт оттока в текущем месяце\n",
    "</div>"
   ]
  },
  {
   "cell_type": "code",
   "execution_count": 23,
   "metadata": {},
   "outputs": [
    {
     "data": {
      "text/plain": [
       "array([0, 1], dtype=int64)"
      ]
     },
     "metadata": {},
     "output_type": "display_data"
    },
    {
     "name": "stdout",
     "output_type": "stream",
     "text": [
      "Всего уникальных значений в df[\"Churn\"]: 2\n"
     ]
    }
   ],
   "source": [
    "# изучаю уникальные значения по столбцу Churn\n",
    "display(df['Churn'].unique())\n",
    "print('Всего уникальных значений в df[\"Churn\"]:', len(df['Churn'].unique()))"
   ]
  },
  {
   "cell_type": "markdown",
   "metadata": {},
   "source": [
    "<div style=\"border-radius: 15px; border: 3px solid green; padding: 15px;\">\n",
    "<font color='green'><b>ВЫВОД:</b></font>\n",
    "<br>\n",
    "\n",
    "Выше изучив таблицу <code><b>df</b></code> и её столбцы, обратил внимание на:\n",
    "<br>\n",
    "\n",
    "- в датасете 4000 наблюдений;<br>\n",
    "- пропуски отсутствуют;<br>\n",
    "- дубликаты отсутствуют;<br>\n",
    "- все форматы данных в норме;<br>\n",
    "- названия столбцов необходимо привести к нижнему регистру.<br>\n",
    "\n",
    "</div>"
   ]
  },
  {
   "cell_type": "markdown",
   "metadata": {},
   "source": [
    "<hr style=\"border: 2px solid indigo;\" />"
   ]
  },
  {
   "cell_type": "markdown",
   "metadata": {},
   "source": [
    "## Шаг 2. Подготовить данные к анализу\n",
    "  \n",
    "* Привести названия столбцов к нижнему регистру<br>  "
   ]
  },
  {
   "cell_type": "code",
   "execution_count": 24,
   "metadata": {},
   "outputs": [
    {
     "data": {
      "text/html": [
       "<div>\n",
       "<style scoped>\n",
       "    .dataframe tbody tr th:only-of-type {\n",
       "        vertical-align: middle;\n",
       "    }\n",
       "\n",
       "    .dataframe tbody tr th {\n",
       "        vertical-align: top;\n",
       "    }\n",
       "\n",
       "    .dataframe thead th {\n",
       "        text-align: right;\n",
       "    }\n",
       "</style>\n",
       "<table border=\"1\" class=\"dataframe\">\n",
       "  <thead>\n",
       "    <tr style=\"text-align: right;\">\n",
       "      <th></th>\n",
       "      <th>gender</th>\n",
       "      <th>near_location</th>\n",
       "      <th>partner</th>\n",
       "      <th>promo_friends</th>\n",
       "      <th>phone</th>\n",
       "      <th>contract_period</th>\n",
       "      <th>group_visits</th>\n",
       "      <th>age</th>\n",
       "      <th>avg_additional_charges_total</th>\n",
       "      <th>month_to_end_contract</th>\n",
       "      <th>lifetime</th>\n",
       "      <th>avg_class_frequency_total</th>\n",
       "      <th>avg_class_frequency_current_month</th>\n",
       "      <th>churn</th>\n",
       "    </tr>\n",
       "  </thead>\n",
       "  <tbody>\n",
       "    <tr>\n",
       "      <th>0</th>\n",
       "      <td>1</td>\n",
       "      <td>1</td>\n",
       "      <td>1</td>\n",
       "      <td>1</td>\n",
       "      <td>0</td>\n",
       "      <td>6</td>\n",
       "      <td>1</td>\n",
       "      <td>29</td>\n",
       "      <td>14.227470</td>\n",
       "      <td>5.0</td>\n",
       "      <td>3</td>\n",
       "      <td>0.020398</td>\n",
       "      <td>0.000000</td>\n",
       "      <td>0</td>\n",
       "    </tr>\n",
       "    <tr>\n",
       "      <th>1</th>\n",
       "      <td>0</td>\n",
       "      <td>1</td>\n",
       "      <td>0</td>\n",
       "      <td>0</td>\n",
       "      <td>1</td>\n",
       "      <td>12</td>\n",
       "      <td>1</td>\n",
       "      <td>31</td>\n",
       "      <td>113.202938</td>\n",
       "      <td>12.0</td>\n",
       "      <td>7</td>\n",
       "      <td>1.922936</td>\n",
       "      <td>1.910244</td>\n",
       "      <td>0</td>\n",
       "    </tr>\n",
       "    <tr>\n",
       "      <th>2</th>\n",
       "      <td>0</td>\n",
       "      <td>1</td>\n",
       "      <td>1</td>\n",
       "      <td>0</td>\n",
       "      <td>1</td>\n",
       "      <td>1</td>\n",
       "      <td>0</td>\n",
       "      <td>28</td>\n",
       "      <td>129.448479</td>\n",
       "      <td>1.0</td>\n",
       "      <td>2</td>\n",
       "      <td>1.859098</td>\n",
       "      <td>1.736502</td>\n",
       "      <td>0</td>\n",
       "    </tr>\n",
       "    <tr>\n",
       "      <th>3</th>\n",
       "      <td>0</td>\n",
       "      <td>1</td>\n",
       "      <td>1</td>\n",
       "      <td>1</td>\n",
       "      <td>1</td>\n",
       "      <td>12</td>\n",
       "      <td>1</td>\n",
       "      <td>33</td>\n",
       "      <td>62.669863</td>\n",
       "      <td>12.0</td>\n",
       "      <td>2</td>\n",
       "      <td>3.205633</td>\n",
       "      <td>3.357215</td>\n",
       "      <td>0</td>\n",
       "    </tr>\n",
       "    <tr>\n",
       "      <th>4</th>\n",
       "      <td>1</td>\n",
       "      <td>1</td>\n",
       "      <td>1</td>\n",
       "      <td>1</td>\n",
       "      <td>1</td>\n",
       "      <td>1</td>\n",
       "      <td>0</td>\n",
       "      <td>26</td>\n",
       "      <td>198.362265</td>\n",
       "      <td>1.0</td>\n",
       "      <td>3</td>\n",
       "      <td>1.113884</td>\n",
       "      <td>1.120078</td>\n",
       "      <td>0</td>\n",
       "    </tr>\n",
       "  </tbody>\n",
       "</table>\n",
       "</div>"
      ],
      "text/plain": [
       "   gender  near_location  partner  promo_friends  phone  contract_period  \\\n",
       "0       1              1        1              1      0                6   \n",
       "1       0              1        0              0      1               12   \n",
       "2       0              1        1              0      1                1   \n",
       "3       0              1        1              1      1               12   \n",
       "4       1              1        1              1      1                1   \n",
       "\n",
       "   group_visits  age  avg_additional_charges_total  month_to_end_contract  \\\n",
       "0             1   29                     14.227470                    5.0   \n",
       "1             1   31                    113.202938                   12.0   \n",
       "2             0   28                    129.448479                    1.0   \n",
       "3             1   33                     62.669863                   12.0   \n",
       "4             0   26                    198.362265                    1.0   \n",
       "\n",
       "   lifetime  avg_class_frequency_total  avg_class_frequency_current_month  \\\n",
       "0         3                   0.020398                           0.000000   \n",
       "1         7                   1.922936                           1.910244   \n",
       "2         2                   1.859098                           1.736502   \n",
       "3         2                   3.205633                           3.357215   \n",
       "4         3                   1.113884                           1.120078   \n",
       "\n",
       "   churn  \n",
       "0      0  \n",
       "1      0  \n",
       "2      0  \n",
       "3      0  \n",
       "4      0  "
      ]
     },
     "metadata": {},
     "output_type": "display_data"
    }
   ],
   "source": [
    "# перевод названия столбцов в нижний регистр\n",
    "df.columns = df.columns.str.lower()\n",
    "display(df.head())"
   ]
  },
  {
   "cell_type": "markdown",
   "metadata": {},
   "source": [
    "<div style=\"border-radius: 15px; border: 3px solid green; padding: 15px;\">\n",
    "<font color='green'><b>ВЫВОД:</b></font>\n",
    "<br>\n",
    "\n",
    "Названия столбцов приведены к нижнему регистру.<br>\n",
    "\n",
    "</div>"
   ]
  },
  {
   "cell_type": "markdown",
   "metadata": {},
   "source": [
    "<hr style=\"border: 2px solid indigo;\" />"
   ]
  },
  {
   "cell_type": "markdown",
   "metadata": {},
   "source": [
    "## Шаг 3. Провести исследовательский анализ данных (EDA)  \n",
    "\n",
    "* <b>3.1. Посмотреть на датасет</b><br>\n",
    "Посмотреть на датасет: есть ли в нем отсутствующие признаки, изучить средние значения и стандартные отклонения.<br>\n",
    "Использовать метод <code><b>describe()</b></code>;<br><br>  \n",
    "\n",
    "* <b>3.2. Посмотреть на средние значения признаков в двух группах</b><br>\n",
    "Посмотреть на средние значения признаков в двух группах — тех, кто ушел в отток и тех, кто остался.<br><br>\n",
    "\n",
    "* <b>3.3. Построить столбчатые гистограммы и распределения признаков</b><br>\n",
    "Построить столбчатые гистограммы и распределения признаков для тех, кто ушёл (отток) и тех, кто остался (не попали в отток);<br><br>  \n",
    "\n",
    "* <b>3.4. Построить матрицу корреляций</b><br>\n",
    "Построить матрицу корреляций и отобразить её.<br> "
   ]
  },
  {
   "cell_type": "markdown",
   "metadata": {},
   "source": [
    "### 3.1. Посмотреть на датасет\n",
    "Посмотреть на датасет: есть ли в нем отсутствующие признаки, изучить средние значения и стандартные отклонения.\n",
    "Использовать метод describe()"
   ]
  },
  {
   "cell_type": "code",
   "execution_count": 25,
   "metadata": {},
   "outputs": [
    {
     "data": {
      "text/html": [
       "<div>\n",
       "<style scoped>\n",
       "    .dataframe tbody tr th:only-of-type {\n",
       "        vertical-align: middle;\n",
       "    }\n",
       "\n",
       "    .dataframe tbody tr th {\n",
       "        vertical-align: top;\n",
       "    }\n",
       "\n",
       "    .dataframe thead th {\n",
       "        text-align: right;\n",
       "    }\n",
       "</style>\n",
       "<table border=\"1\" class=\"dataframe\">\n",
       "  <thead>\n",
       "    <tr style=\"text-align: right;\">\n",
       "      <th></th>\n",
       "      <th>gender</th>\n",
       "      <th>near_location</th>\n",
       "      <th>partner</th>\n",
       "      <th>promo_friends</th>\n",
       "      <th>phone</th>\n",
       "      <th>contract_period</th>\n",
       "      <th>group_visits</th>\n",
       "      <th>age</th>\n",
       "      <th>avg_additional_charges_total</th>\n",
       "      <th>month_to_end_contract</th>\n",
       "      <th>lifetime</th>\n",
       "      <th>avg_class_frequency_total</th>\n",
       "      <th>avg_class_frequency_current_month</th>\n",
       "      <th>churn</th>\n",
       "    </tr>\n",
       "  </thead>\n",
       "  <tbody>\n",
       "    <tr>\n",
       "      <th>count</th>\n",
       "      <td>4000.000000</td>\n",
       "      <td>4000.000000</td>\n",
       "      <td>4000.000000</td>\n",
       "      <td>4000.000000</td>\n",
       "      <td>4000.000000</td>\n",
       "      <td>4000.000000</td>\n",
       "      <td>4000.000000</td>\n",
       "      <td>4000.000000</td>\n",
       "      <td>4000.000000</td>\n",
       "      <td>4000.000000</td>\n",
       "      <td>4000.000000</td>\n",
       "      <td>4000.000000</td>\n",
       "      <td>4000.000000</td>\n",
       "      <td>4000.000000</td>\n",
       "    </tr>\n",
       "    <tr>\n",
       "      <th>mean</th>\n",
       "      <td>0.510250</td>\n",
       "      <td>0.845250</td>\n",
       "      <td>0.486750</td>\n",
       "      <td>0.308500</td>\n",
       "      <td>0.903500</td>\n",
       "      <td>4.681250</td>\n",
       "      <td>0.412250</td>\n",
       "      <td>29.184250</td>\n",
       "      <td>146.943728</td>\n",
       "      <td>4.322750</td>\n",
       "      <td>3.724750</td>\n",
       "      <td>1.879020</td>\n",
       "      <td>1.767052</td>\n",
       "      <td>0.265250</td>\n",
       "    </tr>\n",
       "    <tr>\n",
       "      <th>std</th>\n",
       "      <td>0.499957</td>\n",
       "      <td>0.361711</td>\n",
       "      <td>0.499887</td>\n",
       "      <td>0.461932</td>\n",
       "      <td>0.295313</td>\n",
       "      <td>4.549706</td>\n",
       "      <td>0.492301</td>\n",
       "      <td>3.258367</td>\n",
       "      <td>96.355602</td>\n",
       "      <td>4.191297</td>\n",
       "      <td>3.749267</td>\n",
       "      <td>0.972245</td>\n",
       "      <td>1.052906</td>\n",
       "      <td>0.441521</td>\n",
       "    </tr>\n",
       "    <tr>\n",
       "      <th>min</th>\n",
       "      <td>0.000000</td>\n",
       "      <td>0.000000</td>\n",
       "      <td>0.000000</td>\n",
       "      <td>0.000000</td>\n",
       "      <td>0.000000</td>\n",
       "      <td>1.000000</td>\n",
       "      <td>0.000000</td>\n",
       "      <td>18.000000</td>\n",
       "      <td>0.148205</td>\n",
       "      <td>1.000000</td>\n",
       "      <td>0.000000</td>\n",
       "      <td>0.000000</td>\n",
       "      <td>0.000000</td>\n",
       "      <td>0.000000</td>\n",
       "    </tr>\n",
       "    <tr>\n",
       "      <th>25%</th>\n",
       "      <td>0.000000</td>\n",
       "      <td>1.000000</td>\n",
       "      <td>0.000000</td>\n",
       "      <td>0.000000</td>\n",
       "      <td>1.000000</td>\n",
       "      <td>1.000000</td>\n",
       "      <td>0.000000</td>\n",
       "      <td>27.000000</td>\n",
       "      <td>68.868830</td>\n",
       "      <td>1.000000</td>\n",
       "      <td>1.000000</td>\n",
       "      <td>1.180875</td>\n",
       "      <td>0.963003</td>\n",
       "      <td>0.000000</td>\n",
       "    </tr>\n",
       "    <tr>\n",
       "      <th>50%</th>\n",
       "      <td>1.000000</td>\n",
       "      <td>1.000000</td>\n",
       "      <td>0.000000</td>\n",
       "      <td>0.000000</td>\n",
       "      <td>1.000000</td>\n",
       "      <td>1.000000</td>\n",
       "      <td>0.000000</td>\n",
       "      <td>29.000000</td>\n",
       "      <td>136.220159</td>\n",
       "      <td>1.000000</td>\n",
       "      <td>3.000000</td>\n",
       "      <td>1.832768</td>\n",
       "      <td>1.719574</td>\n",
       "      <td>0.000000</td>\n",
       "    </tr>\n",
       "    <tr>\n",
       "      <th>75%</th>\n",
       "      <td>1.000000</td>\n",
       "      <td>1.000000</td>\n",
       "      <td>1.000000</td>\n",
       "      <td>1.000000</td>\n",
       "      <td>1.000000</td>\n",
       "      <td>6.000000</td>\n",
       "      <td>1.000000</td>\n",
       "      <td>31.000000</td>\n",
       "      <td>210.949625</td>\n",
       "      <td>6.000000</td>\n",
       "      <td>5.000000</td>\n",
       "      <td>2.536078</td>\n",
       "      <td>2.510336</td>\n",
       "      <td>1.000000</td>\n",
       "    </tr>\n",
       "    <tr>\n",
       "      <th>max</th>\n",
       "      <td>1.000000</td>\n",
       "      <td>1.000000</td>\n",
       "      <td>1.000000</td>\n",
       "      <td>1.000000</td>\n",
       "      <td>1.000000</td>\n",
       "      <td>12.000000</td>\n",
       "      <td>1.000000</td>\n",
       "      <td>41.000000</td>\n",
       "      <td>552.590740</td>\n",
       "      <td>12.000000</td>\n",
       "      <td>31.000000</td>\n",
       "      <td>6.023668</td>\n",
       "      <td>6.146783</td>\n",
       "      <td>1.000000</td>\n",
       "    </tr>\n",
       "  </tbody>\n",
       "</table>\n",
       "</div>"
      ],
      "text/plain": [
       "            gender  near_location      partner  promo_friends        phone  \\\n",
       "count  4000.000000    4000.000000  4000.000000    4000.000000  4000.000000   \n",
       "mean      0.510250       0.845250     0.486750       0.308500     0.903500   \n",
       "std       0.499957       0.361711     0.499887       0.461932     0.295313   \n",
       "min       0.000000       0.000000     0.000000       0.000000     0.000000   \n",
       "25%       0.000000       1.000000     0.000000       0.000000     1.000000   \n",
       "50%       1.000000       1.000000     0.000000       0.000000     1.000000   \n",
       "75%       1.000000       1.000000     1.000000       1.000000     1.000000   \n",
       "max       1.000000       1.000000     1.000000       1.000000     1.000000   \n",
       "\n",
       "       contract_period  group_visits          age  \\\n",
       "count      4000.000000   4000.000000  4000.000000   \n",
       "mean          4.681250      0.412250    29.184250   \n",
       "std           4.549706      0.492301     3.258367   \n",
       "min           1.000000      0.000000    18.000000   \n",
       "25%           1.000000      0.000000    27.000000   \n",
       "50%           1.000000      0.000000    29.000000   \n",
       "75%           6.000000      1.000000    31.000000   \n",
       "max          12.000000      1.000000    41.000000   \n",
       "\n",
       "       avg_additional_charges_total  month_to_end_contract     lifetime  \\\n",
       "count                   4000.000000            4000.000000  4000.000000   \n",
       "mean                     146.943728               4.322750     3.724750   \n",
       "std                       96.355602               4.191297     3.749267   \n",
       "min                        0.148205               1.000000     0.000000   \n",
       "25%                       68.868830               1.000000     1.000000   \n",
       "50%                      136.220159               1.000000     3.000000   \n",
       "75%                      210.949625               6.000000     5.000000   \n",
       "max                      552.590740              12.000000    31.000000   \n",
       "\n",
       "       avg_class_frequency_total  avg_class_frequency_current_month  \\\n",
       "count                4000.000000                        4000.000000   \n",
       "mean                    1.879020                           1.767052   \n",
       "std                     0.972245                           1.052906   \n",
       "min                     0.000000                           0.000000   \n",
       "25%                     1.180875                           0.963003   \n",
       "50%                     1.832768                           1.719574   \n",
       "75%                     2.536078                           2.510336   \n",
       "max                     6.023668                           6.146783   \n",
       "\n",
       "             churn  \n",
       "count  4000.000000  \n",
       "mean      0.265250  \n",
       "std       0.441521  \n",
       "min       0.000000  \n",
       "25%       0.000000  \n",
       "50%       0.000000  \n",
       "75%       1.000000  \n",
       "max       1.000000  "
      ]
     },
     "execution_count": 25,
     "metadata": {},
     "output_type": "execute_result"
    }
   ],
   "source": [
    "# ещё раз смотрим на датасет через describe()\n",
    "df.describe()"
   ]
  },
  {
   "cell_type": "markdown",
   "metadata": {},
   "source": [
    "<b>Промежуточный вывод</b>\n",
    "\n",
    "* Среди посетителей примерно одинаково распределено количество мужчин и женщин.\n",
    "* Большинство посетителей живет или работает рядом с фитнес-центром – 84,5%.\n",
    "* Чуть менее половины посетителей ходят в фитнес-центр по партнерским программам.\n",
    "* Треть посетителей впервые пришла по промо-коду от знакомого.\n",
    "* Большинство клиентов оставили свой номер телефона – 90%.\n",
    "* В среднем длительность абонемента составляет 4,7 месяцев.\n",
    "* Групповые занятия посещали 41% клиентов.\n",
    "* Все клиенты фитнес-клуба совершеннолетние. Средний возраст клиента – 29 лет, +/- 3,3 года.\n",
    "* В целом на одного клиента приходится 146,9 условных единиц выручки.\n",
    "* В среднем срок до окончания текущего действующего абонемента клиента – 4,3 месяца.\n",
    "* В среднем время с момента первого обращения в фитнес-центр на одного клиента – 3,72 месяца.\n",
    "* Средняя частота посещений клиента в неделю за все время с начала действия абонемента – 1,88 раз, а за предыдущий месяц – 1,77 раз;\n",
    "* Доля оттока – 26,5%"
   ]
  },
  {
   "cell_type": "markdown",
   "metadata": {},
   "source": [
    "### 3.2. Посмотреть на средние значения признаков в двух группах\n",
    "Посмотреть на средние значения признаков в двух группах — тех, кто ушел в отток и тех, кто остался."
   ]
  },
  {
   "cell_type": "code",
   "execution_count": 26,
   "metadata": {},
   "outputs": [
    {
     "data": {
      "text/html": [
       "<div>\n",
       "<style scoped>\n",
       "    .dataframe tbody tr th:only-of-type {\n",
       "        vertical-align: middle;\n",
       "    }\n",
       "\n",
       "    .dataframe tbody tr th {\n",
       "        vertical-align: top;\n",
       "    }\n",
       "\n",
       "    .dataframe thead th {\n",
       "        text-align: right;\n",
       "    }\n",
       "</style>\n",
       "<table border=\"1\" class=\"dataframe\">\n",
       "  <thead>\n",
       "    <tr style=\"text-align: right;\">\n",
       "      <th></th>\n",
       "      <th>gender</th>\n",
       "      <th>near_location</th>\n",
       "      <th>partner</th>\n",
       "      <th>promo_friends</th>\n",
       "      <th>phone</th>\n",
       "      <th>contract_period</th>\n",
       "      <th>group_visits</th>\n",
       "      <th>age</th>\n",
       "      <th>avg_additional_charges_total</th>\n",
       "      <th>month_to_end_contract</th>\n",
       "      <th>lifetime</th>\n",
       "      <th>avg_class_frequency_total</th>\n",
       "      <th>avg_class_frequency_current_month</th>\n",
       "      <th>churn</th>\n",
       "    </tr>\n",
       "  </thead>\n",
       "  <tbody>\n",
       "    <tr>\n",
       "      <th>count</th>\n",
       "      <td>1061.000000</td>\n",
       "      <td>1061.000000</td>\n",
       "      <td>1061.000000</td>\n",
       "      <td>1061.000000</td>\n",
       "      <td>1061.000000</td>\n",
       "      <td>1061.000000</td>\n",
       "      <td>1061.000000</td>\n",
       "      <td>1061.000000</td>\n",
       "      <td>1061.000000</td>\n",
       "      <td>1061.000000</td>\n",
       "      <td>1061.000000</td>\n",
       "      <td>1061.000000</td>\n",
       "      <td>1061.000000</td>\n",
       "      <td>1061.0</td>\n",
       "    </tr>\n",
       "    <tr>\n",
       "      <th>mean</th>\n",
       "      <td>0.510839</td>\n",
       "      <td>0.768143</td>\n",
       "      <td>0.355325</td>\n",
       "      <td>0.183789</td>\n",
       "      <td>0.902922</td>\n",
       "      <td>1.728558</td>\n",
       "      <td>0.268615</td>\n",
       "      <td>26.989632</td>\n",
       "      <td>115.082899</td>\n",
       "      <td>1.662582</td>\n",
       "      <td>0.990575</td>\n",
       "      <td>1.474995</td>\n",
       "      <td>1.044546</td>\n",
       "      <td>1.0</td>\n",
       "    </tr>\n",
       "    <tr>\n",
       "      <th>std</th>\n",
       "      <td>0.500118</td>\n",
       "      <td>0.422217</td>\n",
       "      <td>0.478837</td>\n",
       "      <td>0.387495</td>\n",
       "      <td>0.296204</td>\n",
       "      <td>2.132371</td>\n",
       "      <td>0.443448</td>\n",
       "      <td>2.895163</td>\n",
       "      <td>77.696419</td>\n",
       "      <td>1.964593</td>\n",
       "      <td>1.110799</td>\n",
       "      <td>0.694705</td>\n",
       "      <td>0.770237</td>\n",
       "      <td>0.0</td>\n",
       "    </tr>\n",
       "    <tr>\n",
       "      <th>min</th>\n",
       "      <td>0.000000</td>\n",
       "      <td>0.000000</td>\n",
       "      <td>0.000000</td>\n",
       "      <td>0.000000</td>\n",
       "      <td>0.000000</td>\n",
       "      <td>1.000000</td>\n",
       "      <td>0.000000</td>\n",
       "      <td>18.000000</td>\n",
       "      <td>0.148205</td>\n",
       "      <td>1.000000</td>\n",
       "      <td>0.000000</td>\n",
       "      <td>0.000000</td>\n",
       "      <td>0.000000</td>\n",
       "      <td>1.0</td>\n",
       "    </tr>\n",
       "    <tr>\n",
       "      <th>25%</th>\n",
       "      <td>0.000000</td>\n",
       "      <td>1.000000</td>\n",
       "      <td>0.000000</td>\n",
       "      <td>0.000000</td>\n",
       "      <td>1.000000</td>\n",
       "      <td>1.000000</td>\n",
       "      <td>0.000000</td>\n",
       "      <td>25.000000</td>\n",
       "      <td>50.629127</td>\n",
       "      <td>1.000000</td>\n",
       "      <td>0.000000</td>\n",
       "      <td>1.010771</td>\n",
       "      <td>0.421337</td>\n",
       "      <td>1.0</td>\n",
       "    </tr>\n",
       "    <tr>\n",
       "      <th>50%</th>\n",
       "      <td>1.000000</td>\n",
       "      <td>1.000000</td>\n",
       "      <td>0.000000</td>\n",
       "      <td>0.000000</td>\n",
       "      <td>1.000000</td>\n",
       "      <td>1.000000</td>\n",
       "      <td>0.000000</td>\n",
       "      <td>27.000000</td>\n",
       "      <td>103.814686</td>\n",
       "      <td>1.000000</td>\n",
       "      <td>1.000000</td>\n",
       "      <td>1.491187</td>\n",
       "      <td>0.979445</td>\n",
       "      <td>1.0</td>\n",
       "    </tr>\n",
       "    <tr>\n",
       "      <th>75%</th>\n",
       "      <td>1.000000</td>\n",
       "      <td>1.000000</td>\n",
       "      <td>1.000000</td>\n",
       "      <td>0.000000</td>\n",
       "      <td>1.000000</td>\n",
       "      <td>1.000000</td>\n",
       "      <td>1.000000</td>\n",
       "      <td>29.000000</td>\n",
       "      <td>165.616858</td>\n",
       "      <td>1.000000</td>\n",
       "      <td>1.000000</td>\n",
       "      <td>1.956438</td>\n",
       "      <td>1.588576</td>\n",
       "      <td>1.0</td>\n",
       "    </tr>\n",
       "    <tr>\n",
       "      <th>max</th>\n",
       "      <td>1.000000</td>\n",
       "      <td>1.000000</td>\n",
       "      <td>1.000000</td>\n",
       "      <td>1.000000</td>\n",
       "      <td>1.000000</td>\n",
       "      <td>12.000000</td>\n",
       "      <td>1.000000</td>\n",
       "      <td>38.000000</td>\n",
       "      <td>425.535220</td>\n",
       "      <td>12.000000</td>\n",
       "      <td>9.000000</td>\n",
       "      <td>3.478646</td>\n",
       "      <td>3.540271</td>\n",
       "      <td>1.0</td>\n",
       "    </tr>\n",
       "  </tbody>\n",
       "</table>\n",
       "</div>"
      ],
      "text/plain": [
       "            gender  near_location      partner  promo_friends        phone  \\\n",
       "count  1061.000000    1061.000000  1061.000000    1061.000000  1061.000000   \n",
       "mean      0.510839       0.768143     0.355325       0.183789     0.902922   \n",
       "std       0.500118       0.422217     0.478837       0.387495     0.296204   \n",
       "min       0.000000       0.000000     0.000000       0.000000     0.000000   \n",
       "25%       0.000000       1.000000     0.000000       0.000000     1.000000   \n",
       "50%       1.000000       1.000000     0.000000       0.000000     1.000000   \n",
       "75%       1.000000       1.000000     1.000000       0.000000     1.000000   \n",
       "max       1.000000       1.000000     1.000000       1.000000     1.000000   \n",
       "\n",
       "       contract_period  group_visits          age  \\\n",
       "count      1061.000000   1061.000000  1061.000000   \n",
       "mean          1.728558      0.268615    26.989632   \n",
       "std           2.132371      0.443448     2.895163   \n",
       "min           1.000000      0.000000    18.000000   \n",
       "25%           1.000000      0.000000    25.000000   \n",
       "50%           1.000000      0.000000    27.000000   \n",
       "75%           1.000000      1.000000    29.000000   \n",
       "max          12.000000      1.000000    38.000000   \n",
       "\n",
       "       avg_additional_charges_total  month_to_end_contract     lifetime  \\\n",
       "count                   1061.000000            1061.000000  1061.000000   \n",
       "mean                     115.082899               1.662582     0.990575   \n",
       "std                       77.696419               1.964593     1.110799   \n",
       "min                        0.148205               1.000000     0.000000   \n",
       "25%                       50.629127               1.000000     0.000000   \n",
       "50%                      103.814686               1.000000     1.000000   \n",
       "75%                      165.616858               1.000000     1.000000   \n",
       "max                      425.535220              12.000000     9.000000   \n",
       "\n",
       "       avg_class_frequency_total  avg_class_frequency_current_month   churn  \n",
       "count                1061.000000                        1061.000000  1061.0  \n",
       "mean                    1.474995                           1.044546     1.0  \n",
       "std                     0.694705                           0.770237     0.0  \n",
       "min                     0.000000                           0.000000     1.0  \n",
       "25%                     1.010771                           0.421337     1.0  \n",
       "50%                     1.491187                           0.979445     1.0  \n",
       "75%                     1.956438                           1.588576     1.0  \n",
       "max                     3.478646                           3.540271     1.0  "
      ]
     },
     "execution_count": 26,
     "metadata": {},
     "output_type": "execute_result"
    }
   ],
   "source": [
    "# информация о тех, кто ушел в отток\n",
    "df.query(\"churn == 1\").describe()"
   ]
  },
  {
   "cell_type": "markdown",
   "metadata": {},
   "source": [
    "<b>Выводы по тем, кто ушел в отток:</b>\n",
    "\n",
    "* Из 4000 клиентов 1061 человек ушло в отток.\n",
    "* Соотношение полов распределено примерно одинаково.\n",
    "* Количество людей, живущих или работающих близко в фитнес-центру, – 76,8% клиентов.\n",
    "* По партнерским программам в фитнес-центр ходят только треть клиентов(35,5%) клиентов.\n",
    "* 18,4% посетителей впервые пришла по промо-коду от знакомого.\n",
    "* Большинство клиентов оставили свой номер телефона – 90%.\n",
    "* В среднем длительность абонемента составляет 1,7 месяцев.\n",
    "* Групповые занятия посещали 26,9%.\n",
    "* Средний возраст клиента – 27 лет.\n",
    "* В целом на одного клиента приходится 115,1 условных единиц выручки.\n",
    "* В среднем срок до окончания текущего действующего абонемента клиента – 1,66 месяца. Те, кто ушел в отток, не брали слишком большой абонемент – 75% пользователей приобрели абонемент на 1 месяц.\n",
    "* В среднем время с момента первого обращения в фитнес-центр на одного клиента – 1 месяц. Такие клиенты ходят реже, чем другие.\n",
    "* Средняя частота посещений клиента в неделю за все время с начала действия абонемента – 1,5 раза, а за предыдущий месяц – 1 раз.\n",
    "\n",
    "В целом клиенты, прекратившие пользоваться абонементом в фитнес-центр, менее активны: реже приходят по партнерским программам, реже ходят на групповые занятия и в спортзал в целом, меньше покупают дополнительных услуг и продуктов, покупают абонемент на меньший срок (чаще всего на 1 месяц).\n",
    "\n",
    "Такие демографические признаки, как пол и возраст, в целом совпадают с общими результатами. Но клиенты, которые прекратили ходить в спортзал, в среднем немного моложе. Номер телефона все дают примерно одинаково."
   ]
  },
  {
   "cell_type": "code",
   "execution_count": 27,
   "metadata": {},
   "outputs": [
    {
     "data": {
      "text/html": [
       "<div>\n",
       "<style scoped>\n",
       "    .dataframe tbody tr th:only-of-type {\n",
       "        vertical-align: middle;\n",
       "    }\n",
       "\n",
       "    .dataframe tbody tr th {\n",
       "        vertical-align: top;\n",
       "    }\n",
       "\n",
       "    .dataframe thead th {\n",
       "        text-align: right;\n",
       "    }\n",
       "</style>\n",
       "<table border=\"1\" class=\"dataframe\">\n",
       "  <thead>\n",
       "    <tr style=\"text-align: right;\">\n",
       "      <th></th>\n",
       "      <th>gender</th>\n",
       "      <th>near_location</th>\n",
       "      <th>partner</th>\n",
       "      <th>promo_friends</th>\n",
       "      <th>phone</th>\n",
       "      <th>contract_period</th>\n",
       "      <th>group_visits</th>\n",
       "      <th>age</th>\n",
       "      <th>avg_additional_charges_total</th>\n",
       "      <th>month_to_end_contract</th>\n",
       "      <th>lifetime</th>\n",
       "      <th>avg_class_frequency_total</th>\n",
       "      <th>avg_class_frequency_current_month</th>\n",
       "      <th>churn</th>\n",
       "    </tr>\n",
       "  </thead>\n",
       "  <tbody>\n",
       "    <tr>\n",
       "      <th>count</th>\n",
       "      <td>2939.000000</td>\n",
       "      <td>2939.000000</td>\n",
       "      <td>2939.000000</td>\n",
       "      <td>2939.000000</td>\n",
       "      <td>2939.000000</td>\n",
       "      <td>2939.000000</td>\n",
       "      <td>2939.000000</td>\n",
       "      <td>2939.000000</td>\n",
       "      <td>2939.000000</td>\n",
       "      <td>2939.000000</td>\n",
       "      <td>2939.000000</td>\n",
       "      <td>2939.000000</td>\n",
       "      <td>2939.000000</td>\n",
       "      <td>2939.0</td>\n",
       "    </tr>\n",
       "    <tr>\n",
       "      <th>mean</th>\n",
       "      <td>0.510037</td>\n",
       "      <td>0.873086</td>\n",
       "      <td>0.534195</td>\n",
       "      <td>0.353522</td>\n",
       "      <td>0.903709</td>\n",
       "      <td>5.747193</td>\n",
       "      <td>0.464103</td>\n",
       "      <td>29.976523</td>\n",
       "      <td>158.445715</td>\n",
       "      <td>5.283089</td>\n",
       "      <td>4.711807</td>\n",
       "      <td>2.024876</td>\n",
       "      <td>2.027882</td>\n",
       "      <td>0.0</td>\n",
       "    </tr>\n",
       "    <tr>\n",
       "      <th>std</th>\n",
       "      <td>0.499984</td>\n",
       "      <td>0.332933</td>\n",
       "      <td>0.498914</td>\n",
       "      <td>0.478144</td>\n",
       "      <td>0.295040</td>\n",
       "      <td>4.716942</td>\n",
       "      <td>0.498795</td>\n",
       "      <td>3.009933</td>\n",
       "      <td>99.801599</td>\n",
       "      <td>4.363522</td>\n",
       "      <td>3.874780</td>\n",
       "      <td>1.016006</td>\n",
       "      <td>1.018994</td>\n",
       "      <td>0.0</td>\n",
       "    </tr>\n",
       "    <tr>\n",
       "      <th>min</th>\n",
       "      <td>0.000000</td>\n",
       "      <td>0.000000</td>\n",
       "      <td>0.000000</td>\n",
       "      <td>0.000000</td>\n",
       "      <td>0.000000</td>\n",
       "      <td>1.000000</td>\n",
       "      <td>0.000000</td>\n",
       "      <td>19.000000</td>\n",
       "      <td>0.171862</td>\n",
       "      <td>1.000000</td>\n",
       "      <td>0.000000</td>\n",
       "      <td>0.000000</td>\n",
       "      <td>0.000000</td>\n",
       "      <td>0.0</td>\n",
       "    </tr>\n",
       "    <tr>\n",
       "      <th>25%</th>\n",
       "      <td>0.000000</td>\n",
       "      <td>1.000000</td>\n",
       "      <td>0.000000</td>\n",
       "      <td>0.000000</td>\n",
       "      <td>1.000000</td>\n",
       "      <td>1.000000</td>\n",
       "      <td>0.000000</td>\n",
       "      <td>28.000000</td>\n",
       "      <td>76.920993</td>\n",
       "      <td>1.000000</td>\n",
       "      <td>2.000000</td>\n",
       "      <td>1.283137</td>\n",
       "      <td>1.297021</td>\n",
       "      <td>0.0</td>\n",
       "    </tr>\n",
       "    <tr>\n",
       "      <th>50%</th>\n",
       "      <td>1.000000</td>\n",
       "      <td>1.000000</td>\n",
       "      <td>1.000000</td>\n",
       "      <td>0.000000</td>\n",
       "      <td>1.000000</td>\n",
       "      <td>6.000000</td>\n",
       "      <td>0.000000</td>\n",
       "      <td>30.000000</td>\n",
       "      <td>149.881171</td>\n",
       "      <td>6.000000</td>\n",
       "      <td>4.000000</td>\n",
       "      <td>2.043252</td>\n",
       "      <td>2.046697</td>\n",
       "      <td>0.0</td>\n",
       "    </tr>\n",
       "    <tr>\n",
       "      <th>75%</th>\n",
       "      <td>1.000000</td>\n",
       "      <td>1.000000</td>\n",
       "      <td>1.000000</td>\n",
       "      <td>1.000000</td>\n",
       "      <td>1.000000</td>\n",
       "      <td>12.000000</td>\n",
       "      <td>1.000000</td>\n",
       "      <td>32.000000</td>\n",
       "      <td>224.448274</td>\n",
       "      <td>10.000000</td>\n",
       "      <td>6.000000</td>\n",
       "      <td>2.732944</td>\n",
       "      <td>2.740648</td>\n",
       "      <td>0.0</td>\n",
       "    </tr>\n",
       "    <tr>\n",
       "      <th>max</th>\n",
       "      <td>1.000000</td>\n",
       "      <td>1.000000</td>\n",
       "      <td>1.000000</td>\n",
       "      <td>1.000000</td>\n",
       "      <td>1.000000</td>\n",
       "      <td>12.000000</td>\n",
       "      <td>1.000000</td>\n",
       "      <td>41.000000</td>\n",
       "      <td>552.590740</td>\n",
       "      <td>12.000000</td>\n",
       "      <td>31.000000</td>\n",
       "      <td>6.023668</td>\n",
       "      <td>6.146783</td>\n",
       "      <td>0.0</td>\n",
       "    </tr>\n",
       "  </tbody>\n",
       "</table>\n",
       "</div>"
      ],
      "text/plain": [
       "            gender  near_location      partner  promo_friends        phone  \\\n",
       "count  2939.000000    2939.000000  2939.000000    2939.000000  2939.000000   \n",
       "mean      0.510037       0.873086     0.534195       0.353522     0.903709   \n",
       "std       0.499984       0.332933     0.498914       0.478144     0.295040   \n",
       "min       0.000000       0.000000     0.000000       0.000000     0.000000   \n",
       "25%       0.000000       1.000000     0.000000       0.000000     1.000000   \n",
       "50%       1.000000       1.000000     1.000000       0.000000     1.000000   \n",
       "75%       1.000000       1.000000     1.000000       1.000000     1.000000   \n",
       "max       1.000000       1.000000     1.000000       1.000000     1.000000   \n",
       "\n",
       "       contract_period  group_visits          age  \\\n",
       "count      2939.000000   2939.000000  2939.000000   \n",
       "mean          5.747193      0.464103    29.976523   \n",
       "std           4.716942      0.498795     3.009933   \n",
       "min           1.000000      0.000000    19.000000   \n",
       "25%           1.000000      0.000000    28.000000   \n",
       "50%           6.000000      0.000000    30.000000   \n",
       "75%          12.000000      1.000000    32.000000   \n",
       "max          12.000000      1.000000    41.000000   \n",
       "\n",
       "       avg_additional_charges_total  month_to_end_contract     lifetime  \\\n",
       "count                   2939.000000            2939.000000  2939.000000   \n",
       "mean                     158.445715               5.283089     4.711807   \n",
       "std                       99.801599               4.363522     3.874780   \n",
       "min                        0.171862               1.000000     0.000000   \n",
       "25%                       76.920993               1.000000     2.000000   \n",
       "50%                      149.881171               6.000000     4.000000   \n",
       "75%                      224.448274              10.000000     6.000000   \n",
       "max                      552.590740              12.000000    31.000000   \n",
       "\n",
       "       avg_class_frequency_total  avg_class_frequency_current_month   churn  \n",
       "count                2939.000000                        2939.000000  2939.0  \n",
       "mean                    2.024876                           2.027882     0.0  \n",
       "std                     1.016006                           1.018994     0.0  \n",
       "min                     0.000000                           0.000000     0.0  \n",
       "25%                     1.283137                           1.297021     0.0  \n",
       "50%                     2.043252                           2.046697     0.0  \n",
       "75%                     2.732944                           2.740648     0.0  \n",
       "max                     6.023668                           6.146783     0.0  "
      ]
     },
     "execution_count": 27,
     "metadata": {},
     "output_type": "execute_result"
    }
   ],
   "source": [
    "# информация о тех кто остался\n",
    "df.query(\"churn == 0\").describe()"
   ]
  },
  {
   "cell_type": "markdown",
   "metadata": {},
   "source": [
    "<b>Вывод по тем, кто остался:</b>\n",
    "\n",
    "* Среди посетителей примерно одинаково распределено количество мужчин и женщин.\n",
    "* Большее количество клиентов живет или работает рядом с фитнес-центром – 87,3%.\n",
    "* Чуть более половины посетителей ходят в фитнес-центр по партнерским программам.\n",
    "* Чуть меньше половины клиентов впервые пришла по промокоду от знакомого.\n",
    "* Большинство клиентов оставили свой номер телефона – 90%.\n",
    "* В среднем длительность абонемента составляет 5,75 месяцев.\n",
    "* Групповые занятия посещали 46,4% клиентов.\n",
    "* Средний возраст клиента – почти 30 лет.\n",
    "* В целом на одного клиента приходится 158,5 условных единиц выручки.\n",
    "* В среднем срок до окончания текущего действующего абонемента клиента – 5,3 месяца.\n",
    "* В среднем время с момента первого обращения в фитнес-центр на одного клиента – 4,7 месяца.\n",
    "* Средняя частота посещений клиента в неделю за все время с начала действия абонемента – 2 раза, столько же и за предыдущий месяц.\n",
    "\n",
    "В целом в клуб систематически ходят более активные клиенты. Чаще всего они ближе живут, половина из них приходит по партнерским программам и по промокоду от знакомого, покупает абонемент на более долгий срок и чаще посещают групповые занятия. Такие клиенты тратят больше средств на дополнительные услуги в фитнес-центре и в принципе систематически ходят в спортзал в среднем 2 раза в неделю.\n",
    "\n",
    "Такие клиенты немного старше остальных – им около 30 лет. Соотношение полов примерно одинаковое. Номера телефонов оставляют примерно также, как и остальные."
   ]
  },
  {
   "cell_type": "markdown",
   "metadata": {},
   "source": [
    "### 3.3. Построить столбчатые гистограммы и распределения признаков\n",
    "Построить столбчатые гистограммы и распределения признаков для тех, кто ушёл (отток) и тех, кто остался (не попали в отток)"
   ]
  },
  {
   "cell_type": "markdown",
   "metadata": {},
   "source": [
    "* Столбчатые гистограммы по бинарным признакам."
   ]
  },
  {
   "cell_type": "code",
   "execution_count": 28,
   "metadata": {
    "scrolled": false
   },
   "outputs": [
    {
     "data": {
      "image/png": "[encoded data removed]",
      "text/plain": [
       "<Figure size 360x360 with 1 Axes>"
      ]
     },
     "metadata": {
      "needs_background": "light"
     },
     "output_type": "display_data"
    },
    {
     "data": {
      "image/png": "[encoded data removed]",
      "text/plain": [
       "<Figure size 360x360 with 1 Axes>"
      ]
     },
     "metadata": {
      "needs_background": "light"
     },
     "output_type": "display_data"
    },
    {
     "data": {
      "image/png": "[encoded data removed]",
      "text/plain": [
       "<Figure size 360x360 with 1 Axes>"
      ]
     },
     "metadata": {
      "needs_background": "light"
     },
     "output_type": "display_data"
    },
    {
     "data": {
      "image/png": "[encoded data removed]",
      "text/plain": [
       "<Figure size 360x360 with 1 Axes>"
      ]
     },
     "metadata": {
      "needs_background": "light"
     },
     "output_type": "display_data"
    },
    {
     "data": {
      "image/png": "[encoded data removed]",
      "text/plain": [
       "<Figure size 360x360 with 1 Axes>"
      ]
     },
     "metadata": {
      "needs_background": "light"
     },
     "output_type": "display_data"
    },
    {
     "data": {
      "image/png": "[encoded data removed]",
      "text/plain": [
       "<Figure size 360x360 with 1 Axes>"
      ]
     },
     "metadata": {
      "needs_background": "light"
     },
     "output_type": "display_data"
    },
    {
     "data": {
      "image/png": "[encoded data removed]",
      "text/plain": [
       "<Figure size 360x360 with 1 Axes>"
      ]
     },
     "metadata": {
      "needs_background": "light"
     },
     "output_type": "display_data"
    }
   ],
   "source": [
    "# построим столбчатые гисторграммы по бинарным признакам\n",
    "for column in ['gender', 'near_location', 'partner', 'promo_friends', 'phone', 'contract_period', 'group_visits']:\n",
    "    plt.figure(figsize=(5, 5))\n",
    "    sns.countplot(x = df[column], hue='churn', data=df)\n",
    "    plt.title('Количество клиентов по признаку ' +column, fontsize = 15, color = 'g')\n",
    "    plt.show() "
   ]
  },
  {
   "cell_type": "markdown",
   "metadata": {},
   "source": [
    "* График плотности распределения для небинарных признаков."
   ]
  },
  {
   "cell_type": "code",
   "execution_count": 29,
   "metadata": {
    "scrolled": false
   },
   "outputs": [
    {
     "data": {
      "image/png": "[encoded data removed]",
      "text/plain": [
       "<Figure size 648x360 with 1 Axes>"
      ]
     },
     "metadata": {
      "needs_background": "light"
     },
     "output_type": "display_data"
    },
    {
     "data": {
      "image/png": "[encoded data removed]",
      "text/plain": [
       "<Figure size 648x360 with 1 Axes>"
      ]
     },
     "metadata": {
      "needs_background": "light"
     },
     "output_type": "display_data"
    },
    {
     "data": {
      "image/png": "[encoded data removed]",
      "text/plain": [
       "<Figure size 648x360 with 1 Axes>"
      ]
     },
     "metadata": {
      "needs_background": "light"
     },
     "output_type": "display_data"
    },
    {
     "data": {
      "image/png": "[encoded data removed]",
      "text/plain": [
       "<Figure size 648x360 with 1 Axes>"
      ]
     },
     "metadata": {
      "needs_background": "light"
     },
     "output_type": "display_data"
    },
    {
     "data": {
      "image/png": "[encoded data removed]",
      "text/plain": [
       "<Figure size 648x360 with 1 Axes>"
      ]
     },
     "metadata": {
      "needs_background": "light"
     },
     "output_type": "display_data"
    },
    {
     "data": {
      "image/png": "[encoded data removed]",
      "text/plain": [
       "<Figure size 648x360 with 1 Axes>"
      ]
     },
     "metadata": {
      "needs_background": "light"
     },
     "output_type": "display_data"
    }
   ],
   "source": [
    "# построим графики плотности распределения для небинарных признаков\n",
    "def hist(df):\n",
    "    #for col in df.columns:\n",
    "    for col in ['month_to_end_contract', 'age', 'avg_additional_charges_total', 'lifetime', 'avg_class_frequency_total', 'avg_class_frequency_current_month']:\n",
    "        if col != 'сhurn':\n",
    "            plt.figure(figsize = (9,5))\n",
    "            sns.distplot(df.loc[df['churn']==0, col])\n",
    "            sns.distplot(df.loc[df['churn']==1, col])\n",
    "            plt.title('Распределение количества клиентов по признаку '+col, fontsize = 15, color = 'g')\n",
    "            plt.xlabel(col, fontsize = 12, color = 'g')\n",
    "            plt.legend(['Churn 0', 'Churn 1'], loc='best')\n",
    "            \n",
    "hist(df)"
   ]
  },
  {
   "cell_type": "markdown",
   "metadata": {},
   "source": [
    "<b>Промежуточный вывод:</b>\n",
    "\n",
    "* Соотношение полов для тех, кто ушел и тех, кто остался, примерно одинаковое.\n",
    "* Большинство посетителей живет или работает поблизости к расположению фитнес-центра.\n",
    "* Люди, которые пришли не по партнерской программе, остаются и попадают в отток в равной степени. Среди тех, кто пришел по партнерской программе, большинство клиентов осталось.\n",
    "* Люди, которые пришли не по промокоду от знакомого, остаются и попадают в отток в равной степени. Среди тех, кто пришел по промокоду от знакомого, большинство клиентов осталось.\n",
    "* Почти все клиенты предоставили свой номер телефона.\n",
    "* В целом видно, что длительность текущего действующего абонемента в среднем составляет: 1, 6 и 12 месяцев. Чем больше абонемент, тем меньше людей попадало в отток. Большинство клиентов, приобревших абонемент на 1 месяц, отвалилось.\n",
    "* Большинство клиентов не посещает групповые занятия – распределение оставшихся и ушедших людей здесь одинаково. Однако те, кто их посещает, уходят реже.\n",
    "* В целом клиенты постарше чаще остаются и продолжают ходить в фитнес-центр.\n",
    "* Оставшиеся клиенты приносят больше дополнительной выручки, чем те, кто ушел. Возможно из-за более короткого срока посещения, они не успевают воспользоваться всеми дополнительными услугами и продуктами, например, массажем или кафе, и поэтому приобретают что-то реже.\n",
    "* Чаще всего до конца абонемента клиентам остался 1, 6 и 12 месяцев. Вероятно, в датасете много новых клиентов, потому что этот период совпадает с длительностью абонементов. Чем больше месяцев осталось до окончания договора, тем меньше людей отваливаются.\n",
    "* С момента первого обращения в фитнес-центр в среднем прошло до 6 месяцев. Большинство клиентов отваливаются к третьему месяцу посещения фитнес-центра.\n",
    "* Средняя частота посещений в неделю за все время с начала действия абонемента для оставшихся клиентов в разы больше, чем для отвалившихся. Вероятно, те, кто ушел в отток, были не слишком мотивированы заниматься спортом систематически.\n",
    "* Большинство их тех, кто ушел в отток, за прошлый месяц посещали фитнес-центр до 2 раз в неделю в среднем. Кто-то вообще не приходил. Большинство из тех, кто остался, в среднем занимались спортом от 1 до 3 раза в неделю.\n",
    "* Соотношение тех, кто отвалился, к тем, кто остался, в среднем составляет 1:3.\n",
    "\n",
    "Можно предположить, что на отток клиентов влияет длительность абонемента, наличие партнерской программы, промокода от знакомого, и активность клиента: общее количество посещений в неделю, посещение групповых занятий, приобретение дополнительных услуг и продуктов."
   ]
  },
  {
   "cell_type": "markdown",
   "metadata": {},
   "source": [
    "### 3.4. Построить матрицу корреляций\n",
    "Построить матрицу корреляций и отобразить её"
   ]
  },
  {
   "cell_type": "code",
   "execution_count": 30,
   "metadata": {},
   "outputs": [
    {
     "data": {
      "image/png": "[encoded data removed]",
      "text/plain": [
       "<Figure size 1080x720 with 2 Axes>"
      ]
     },
     "metadata": {
      "needs_background": "light"
     },
     "output_type": "display_data"
    }
   ],
   "source": [
    "# построим матрицу корреляций\n",
    "cm = df.corr()\n",
    "fig, ax = plt.subplots(figsize=(15,10))\n",
    "sns.heatmap(cm, annot = True, fmt = '0.2f', linewidths=.3, cmap='coolwarm')\n",
    "plt.title('Матрица корреляций признаков')\n",
    "plt.show()"
   ]
  },
  {
   "cell_type": "markdown",
   "metadata": {},
   "source": [
    "<b>Промежуточный вывод:</b>\n",
    "\n",
    "С целовой переменной особо ничего сильно не коррелирует, но делать вывод о том что она независима пока преждевременно. Выявлены следующие мультиколлинеарные признаки:\n",
    "\n",
    "1. <code><b>contract_period</b></code> и <code><b>month_to_end_contract</b></code>\n",
    "2. <code><b>avg_class_frequency_current_month</b></code> и <code><b>avg_class_frequency_total</b></code>"
   ]
  },
  {
   "cell_type": "markdown",
   "metadata": {},
   "source": [
    "<hr style=\"border: 2px solid indigo;\" />"
   ]
  },
  {
   "cell_type": "markdown",
   "metadata": {},
   "source": [
    "## Шаг 4. Построить модель прогнозирования оттока клиентов\n",
    "\n",
    "Построить модель бинарной классификации клиентов, где целевой признак — факт оттока клиента в следующем месяце:\n",
    "\n",
    "* <b>4.1. Разбивка данных на обучающую и валидационную выборку функцией train_test_split().</b><br>\n",
    "Разбить данные на обучающую и валидационную выборку функцией <code><b>train_test_split()</b></code>.<br><br>\n",
    "\n",
    "* <b>4.2. Обучение модели на train-выборке двумя способами: логистической регрессией, случайным лесом.</b><br>\n",
    "Обучить модель на train-выборке двумя способами: (логистической регрессией и случайным лесом)<br><br>\n",
    "  \n",
    "* <b>4.3. Оценка метрик accuracy, precision и recall для обеих моделей на валидационной выборке.</b><br>\n",
    "Оценить метрики <code><b>accuracy</b></code>, <code><b>precision</b></code> и <code><b>recall</b></code> для обеих моделей на валидационной выборке. Сравнить по ним модели. Какая модель показала себя лучше на основании метрик? Указать параметр <code><b>random_state</b></code> при разделении выборки и задании алгоритма.<br>"
   ]
  },
  {
   "cell_type": "markdown",
   "metadata": {},
   "source": [
    "### 4.1. Разбивка данных на обучающую и валидационную выборку функцией train_test_split().\n",
    "Разбить данные на обучающую и валидационную выборку функцией train_test_split()"
   ]
  },
  {
   "cell_type": "code",
   "execution_count": 31,
   "metadata": {},
   "outputs": [],
   "source": [
    "# разделям данные на признаки (матрица X) и целевую переменную (y)\n",
    "X = df.drop(columns=['churn'])\n",
    "y = df['churn']"
   ]
  },
  {
   "cell_type": "code",
   "execution_count": 32,
   "metadata": {},
   "outputs": [],
   "source": [
    "# разделяем модель на обучающую и валидационную выборку\n",
    "X_train, X_test, y_train, y_test = train_test_split(X, y, test_size=0.2, random_state=0)"
   ]
  },
  {
   "cell_type": "code",
   "execution_count": 33,
   "metadata": {},
   "outputs": [
    {
     "name": "stdout",
     "output_type": "stream",
     "text": [
      "Классы в y_train:\n",
      "1161    0\n",
      "2355    0\n",
      "1831    0\n",
      "156     0\n",
      "195     0\n",
      "       ..\n",
      "835     0\n",
      "3264    0\n",
      "1653    0\n",
      "2607    1\n",
      "2732    0\n",
      "Name: churn, Length: 3200, dtype: int64\n",
      "Классы в y_test:\n",
      "2230    0\n",
      "668     1\n",
      "3616    0\n",
      "2363    1\n",
      "142     0\n",
      "       ..\n",
      "1118    1\n",
      "3572    0\n",
      "2482    0\n",
      "643     0\n",
      "299     0\n",
      "Name: churn, Length: 800, dtype: int64\n"
     ]
    }
   ],
   "source": [
    "# проверим, что классы перемешаны\n",
    "print(f\"Классы в y_train:\\n{y_train}\")\n",
    "print(f\"Классы в y_test:\\n{y_test}\")"
   ]
  },
  {
   "cell_type": "markdown",
   "metadata": {},
   "source": [
    "<b>Промежуточный вывод:</b>\n",
    "\n",
    "Разделили модель на обучающиую и валидационную выборку в соотношении 80:20."
   ]
  },
  {
   "cell_type": "markdown",
   "metadata": {},
   "source": [
    "### 4.2. Обучение модели на train-выборке двумя способами: логистической регрессией, случайным лесом.\n",
    "Обучить модель на train-выборке двумя способами: (логистической регрессией и случайным лесом)"
   ]
  },
  {
   "cell_type": "code",
   "execution_count": 34,
   "metadata": {},
   "outputs": [],
   "source": [
    "# обучаем scaler и трансформируем матрицу для обучающей выборки\n",
    "scaler = StandardScaler()\n",
    "X_train_st = scaler.fit_transform(X_train)"
   ]
  },
  {
   "cell_type": "code",
   "execution_count": 35,
   "metadata": {},
   "outputs": [],
   "source": [
    "# применяем стандартизацию к матрице признаков для тестовой выборки\n",
    "X_test_st = scaler.transform(X_test)\n",
    " \n",
    "models = [LogisticRegression(random_state=0),RandomForestClassifier(random_state=0)]"
   ]
  },
  {
   "cell_type": "code",
   "execution_count": 36,
   "metadata": {},
   "outputs": [],
   "source": [
    "# обучаем модель\n",
    "def print_metrics(m, X_train, y_train, X_test, y_test):\n",
    "    model = m\n",
    "    model.fit(X_train, y_train)\n",
    "    y_pred = model.predict(X_test)\n",
    "    print('\\tAccuracy: {:.2f} \\tPrecision: {:.2f} \\tRecall: {:.2f}'.format(accuracy_score(y_test, y_pred),\n",
    "                                                                          precision_score(y_test, y_pred),\n",
    "                                                                          recall_score(y_test, y_pred)))"
   ]
  },
  {
   "cell_type": "markdown",
   "metadata": {},
   "source": [
    "### 4.3. Оценка метрик accuracy, precision и recall для обеих моделей на валидационной выборке.\n",
    "Оценить метрики accuracy, precision и recall для обеих моделей на валидационной выборке. Сравнить по ним модели. Какая модель показала себя лучше на основании метрик? Указать параметр random_state при разделении выборки и задании алгоритма."
   ]
  },
  {
   "cell_type": "code",
   "execution_count": 37,
   "metadata": {},
   "outputs": [
    {
     "name": "stdout",
     "output_type": "stream",
     "text": [
      "LogisticRegression(random_state=0)\n",
      "\tAccuracy: 0.91 \tPrecision: 0.82 \tRecall: 0.80\n",
      "RandomForestClassifier(random_state=0)\n",
      "\tAccuracy: 0.92 \tPrecision: 0.84 \tRecall: 0.82\n"
     ]
    }
   ],
   "source": [
    "for i in models:\n",
    "    print(i)\n",
    "    print_metrics(i, X_train, y_train, X_test, y_test)\n",
    "    type(models).__name__"
   ]
  },
  {
   "cell_type": "markdown",
   "metadata": {},
   "source": [
    "<b>Промежуточный вывод:</b>\n",
    "\n",
    "На основании метрик accuracy (доля правильных ответов), precision (точность) и recall (полнота) логистическая регрессия (Accuracy: 0.93, Precision: 0.86, Recall: 0.83) показала себя лучше, чем случайный лес (Accuracy: 0.91, Precision: 0.83, Recall: 0.78)."
   ]
  },
  {
   "cell_type": "markdown",
   "metadata": {},
   "source": [
    "<hr style=\"border: 2px solid indigo;\" />"
   ]
  },
  {
   "cell_type": "markdown",
   "metadata": {},
   "source": [
    "## Шаг 5. Сделать кластеризацию клиентов<a class=\"tocSkip\"></a>\n",
    "\n",
    "Отложить в сторону столбец с оттоком и провести кластеризацию объектов (клиентов):\n",
    "\n",
    "* <b>5.1. Стандартизация данных.</b><br>\n",
    "Стандартизировать данные;<br><br>\n",
    "\n",
    "* <b>5.2. Постройка матрицы расстояний функцией linkage() на стандартизованной матрице признаков.</b><br>\n",
    "Построить матрицу расстояний функцией <code><b>linkage()</b></code> на стандартизованной матрице признаков и нарисовать дендрограмму. На основании полученного графика предположить, какое количество кластеров можно выделить.<br><br>\n",
    "\n",
    "* <b>5.3. Обучение модели кластеризации на основании алгоритма K-Means и прогнозирование кластеров клиентов.</b><br>\n",
    "Обучить модель кластеризации на основании алгоритма <code><b>K-Means</b></code> и спрогнозировать кластеры клиентов. За число кластеров примем n=5.<br><br>\n",
    "\n",
    "* <b>5.4. Средние значения признаков для кластеров.</b><br>\n",
    "Посмотреть на средние значения признаков для кластеров. Можно ли сразу что-то заметить?<br><br>\n",
    "\n",
    "* <b>5.5. Распределения признаков для кластеров.</b><br>\n",
    "Построить распределения признаков для кластеров. Можно ли что-то заметить по ним?<br><br>\n",
    "\n",
    "* <b>5.6. Доля оттока для каждого полученного кластера.</b><br>\n",
    "Для каждого полученного кластера посчитать долю оттока (методом <code><b>groupby()</b></code>). Отличаются ли они по доле оттока? Какие кластеры склонны к оттоку, а какие — надёжны?<br>"
   ]
  },
  {
   "cell_type": "markdown",
   "metadata": {},
   "source": [
    "### 5.1. Стандартизация данных.\n",
    "Стандартизировать данные"
   ]
  },
  {
   "cell_type": "code",
   "execution_count": 38,
   "metadata": {},
   "outputs": [],
   "source": [
    "# произведем стандартизацию данных\n",
    "x_sс = df.drop(['churn'], axis=1)\n",
    "x_sc_columns_list = x_sс.columns\n",
    "x_sс = scaler.fit_transform(x_sс)\n",
    "x_sс = pd.DataFrame(x_sс, columns = x_sc_columns_list).astype('float64')"
   ]
  },
  {
   "cell_type": "markdown",
   "metadata": {},
   "source": [
    "### 5.2. Постройка матрицы расстояний функцией linkage() на стандартизованной матрице признаков.\n",
    "Построить матрицу расстояний функцией linkage() на стандартизованной матрице признаков и нарисовать дендрограмму. На основании полученного графика предположить, какое количество кластеров можно выделить"
   ]
  },
  {
   "cell_type": "code",
   "execution_count": 39,
   "metadata": {},
   "outputs": [],
   "source": [
    "linked = linkage(x_sс, method = 'ward')"
   ]
  },
  {
   "cell_type": "code",
   "execution_count": 40,
   "metadata": {},
   "outputs": [
    {
     "data": {
      "image/png": "[encoded data removed]",
      "text/plain": [
       "<Figure size 1080x720 with 1 Axes>"
      ]
     },
     "metadata": {
      "needs_background": "light"
     },
     "output_type": "display_data"
    }
   ],
   "source": [
    "plt.figure(figsize=(15, 10))\n",
    "dendrogram(linked, orientation='top')\n",
    "plt.title('Кластеризация пользователей', fontsize=15)\n",
    "plt.show()"
   ]
  },
  {
   "cell_type": "markdown",
   "metadata": {},
   "source": [
    "<b>Промежуточный вывод:</b>\n",
    "\n",
    "На основании дендрограммы, можно предположить, что клиентов можно разделить на 5 кластеров."
   ]
  },
  {
   "cell_type": "markdown",
   "metadata": {},
   "source": [
    "### 5.3. Обучение модели кластеризации на основании алгоритма K-Means и прогнозирование кластеров клиентов.\n",
    "Обучить модель кластеризации на основании алгоритма K-Means и спрогнозировать кластеры клиентов. За число кластеров примем n=5"
   ]
  },
  {
   "cell_type": "code",
   "execution_count": 41,
   "metadata": {},
   "outputs": [],
   "source": [
    "#задаём число кластеров, равное 5\n",
    "km = KMeans(n_clusters = 5, random_state = 0)\n",
    "\n",
    "#применяем алгоритм к данным и формируем вектор кластеров \n",
    "labels = km.fit_predict(x_sс)\n",
    "\n",
    "#сохраняем метки кластера в поле датасета\n",
    "df['cluster_km'] = labels"
   ]
  },
  {
   "cell_type": "markdown",
   "metadata": {},
   "source": [
    "### 5.4. Средние значения признаков для кластеров.\n",
    "Посмотреть на средние значения признаков для кластеров. Можно ли сразу что-то заметить?"
   ]
  },
  {
   "cell_type": "code",
   "execution_count": 42,
   "metadata": {},
   "outputs": [
    {
     "data": {
      "text/html": [
       "<div>\n",
       "<style scoped>\n",
       "    .dataframe tbody tr th:only-of-type {\n",
       "        vertical-align: middle;\n",
       "    }\n",
       "\n",
       "    .dataframe tbody tr th {\n",
       "        vertical-align: top;\n",
       "    }\n",
       "\n",
       "    .dataframe thead th {\n",
       "        text-align: right;\n",
       "    }\n",
       "</style>\n",
       "<table border=\"1\" class=\"dataframe\">\n",
       "  <thead>\n",
       "    <tr style=\"text-align: right;\">\n",
       "      <th></th>\n",
       "      <th>counts</th>\n",
       "      <th>percentage</th>\n",
       "    </tr>\n",
       "  </thead>\n",
       "  <tbody>\n",
       "    <tr>\n",
       "      <th>3</th>\n",
       "      <td>1262</td>\n",
       "      <td>31.6%</td>\n",
       "    </tr>\n",
       "    <tr>\n",
       "      <th>0</th>\n",
       "      <td>1010</td>\n",
       "      <td>25.2%</td>\n",
       "    </tr>\n",
       "    <tr>\n",
       "      <th>4</th>\n",
       "      <td>838</td>\n",
       "      <td>20.9%</td>\n",
       "    </tr>\n",
       "    <tr>\n",
       "      <th>2</th>\n",
       "      <td>505</td>\n",
       "      <td>12.6%</td>\n",
       "    </tr>\n",
       "    <tr>\n",
       "      <th>1</th>\n",
       "      <td>385</td>\n",
       "      <td>9.6%</td>\n",
       "    </tr>\n",
       "  </tbody>\n",
       "</table>\n",
       "</div>"
      ],
      "text/plain": [
       "   counts percentage\n",
       "3    1262      31.6%\n",
       "0    1010      25.2%\n",
       "4     838      20.9%\n",
       "2     505      12.6%\n",
       "1     385       9.6%"
      ]
     },
     "execution_count": 42,
     "metadata": {},
     "output_type": "execute_result"
    }
   ],
   "source": [
    "#количество и процент клиентов в каждом кластере\n",
    "counts = df['cluster_km'].value_counts()\n",
    "percent = counts / counts.sum()\n",
    "fmt = '{:.1%}'.format\n",
    "pd.DataFrame({'counts': counts, 'percentage': percent.map(fmt)})"
   ]
  },
  {
   "cell_type": "code",
   "execution_count": 43,
   "metadata": {},
   "outputs": [
    {
     "data": {
      "text/html": [
       "<div>\n",
       "<style scoped>\n",
       "    .dataframe tbody tr th:only-of-type {\n",
       "        vertical-align: middle;\n",
       "    }\n",
       "\n",
       "    .dataframe tbody tr th {\n",
       "        vertical-align: top;\n",
       "    }\n",
       "\n",
       "    .dataframe thead th {\n",
       "        text-align: right;\n",
       "    }\n",
       "</style>\n",
       "<table border=\"1\" class=\"dataframe\">\n",
       "  <thead>\n",
       "    <tr style=\"text-align: right;\">\n",
       "      <th>cluster_km</th>\n",
       "      <th>0</th>\n",
       "      <th>1</th>\n",
       "      <th>2</th>\n",
       "      <th>3</th>\n",
       "      <th>4</th>\n",
       "    </tr>\n",
       "  </thead>\n",
       "  <tbody>\n",
       "    <tr>\n",
       "      <th>gender</th>\n",
       "      <td>0.50</td>\n",
       "      <td>0.52</td>\n",
       "      <td>0.50</td>\n",
       "      <td>0.49</td>\n",
       "      <td>0.56</td>\n",
       "    </tr>\n",
       "    <tr>\n",
       "      <th>near_location</th>\n",
       "      <td>0.96</td>\n",
       "      <td>0.86</td>\n",
       "      <td>0.00</td>\n",
       "      <td>1.00</td>\n",
       "      <td>0.98</td>\n",
       "    </tr>\n",
       "    <tr>\n",
       "      <th>partner</th>\n",
       "      <td>0.78</td>\n",
       "      <td>0.47</td>\n",
       "      <td>0.46</td>\n",
       "      <td>0.35</td>\n",
       "      <td>0.36</td>\n",
       "    </tr>\n",
       "    <tr>\n",
       "      <th>promo_friends</th>\n",
       "      <td>0.57</td>\n",
       "      <td>0.31</td>\n",
       "      <td>0.08</td>\n",
       "      <td>0.24</td>\n",
       "      <td>0.23</td>\n",
       "    </tr>\n",
       "    <tr>\n",
       "      <th>phone</th>\n",
       "      <td>1.00</td>\n",
       "      <td>0.00</td>\n",
       "      <td>1.00</td>\n",
       "      <td>1.00</td>\n",
       "      <td>1.00</td>\n",
       "    </tr>\n",
       "    <tr>\n",
       "      <th>contract_period</th>\n",
       "      <td>10.89</td>\n",
       "      <td>4.79</td>\n",
       "      <td>2.35</td>\n",
       "      <td>1.95</td>\n",
       "      <td>2.67</td>\n",
       "    </tr>\n",
       "    <tr>\n",
       "      <th>group_visits</th>\n",
       "      <td>0.54</td>\n",
       "      <td>0.43</td>\n",
       "      <td>0.22</td>\n",
       "      <td>0.34</td>\n",
       "      <td>0.47</td>\n",
       "    </tr>\n",
       "    <tr>\n",
       "      <th>age</th>\n",
       "      <td>29.98</td>\n",
       "      <td>29.30</td>\n",
       "      <td>28.48</td>\n",
       "      <td>28.17</td>\n",
       "      <td>30.13</td>\n",
       "    </tr>\n",
       "    <tr>\n",
       "      <th>avg_additional_charges_total</th>\n",
       "      <td>160.76</td>\n",
       "      <td>143.96</td>\n",
       "      <td>135.46</td>\n",
       "      <td>131.62</td>\n",
       "      <td>161.66</td>\n",
       "    </tr>\n",
       "    <tr>\n",
       "      <th>month_to_end_contract</th>\n",
       "      <td>9.95</td>\n",
       "      <td>4.48</td>\n",
       "      <td>2.20</td>\n",
       "      <td>1.86</td>\n",
       "      <td>2.46</td>\n",
       "    </tr>\n",
       "    <tr>\n",
       "      <th>lifetime</th>\n",
       "      <td>4.74</td>\n",
       "      <td>3.92</td>\n",
       "      <td>2.81</td>\n",
       "      <td>2.44</td>\n",
       "      <td>4.90</td>\n",
       "    </tr>\n",
       "    <tr>\n",
       "      <th>avg_class_frequency_total</th>\n",
       "      <td>1.98</td>\n",
       "      <td>1.85</td>\n",
       "      <td>1.66</td>\n",
       "      <td>1.25</td>\n",
       "      <td>2.85</td>\n",
       "    </tr>\n",
       "    <tr>\n",
       "      <th>avg_class_frequency_current_month</th>\n",
       "      <td>1.97</td>\n",
       "      <td>1.72</td>\n",
       "      <td>1.48</td>\n",
       "      <td>1.01</td>\n",
       "      <td>2.85</td>\n",
       "    </tr>\n",
       "    <tr>\n",
       "      <th>churn</th>\n",
       "      <td>0.03</td>\n",
       "      <td>0.27</td>\n",
       "      <td>0.44</td>\n",
       "      <td>0.51</td>\n",
       "      <td>0.07</td>\n",
       "    </tr>\n",
       "  </tbody>\n",
       "</table>\n",
       "</div>"
      ],
      "text/plain": [
       "cluster_km                              0       1       2       3       4\n",
       "gender                               0.50    0.52    0.50    0.49    0.56\n",
       "near_location                        0.96    0.86    0.00    1.00    0.98\n",
       "partner                              0.78    0.47    0.46    0.35    0.36\n",
       "promo_friends                        0.57    0.31    0.08    0.24    0.23\n",
       "phone                                1.00    0.00    1.00    1.00    1.00\n",
       "contract_period                     10.89    4.79    2.35    1.95    2.67\n",
       "group_visits                         0.54    0.43    0.22    0.34    0.47\n",
       "age                                 29.98   29.30   28.48   28.17   30.13\n",
       "avg_additional_charges_total       160.76  143.96  135.46  131.62  161.66\n",
       "month_to_end_contract                9.95    4.48    2.20    1.86    2.46\n",
       "lifetime                             4.74    3.92    2.81    2.44    4.90\n",
       "avg_class_frequency_total            1.98    1.85    1.66    1.25    2.85\n",
       "avg_class_frequency_current_month    1.97    1.72    1.48    1.01    2.85\n",
       "churn                                0.03    0.27    0.44    0.51    0.07"
      ]
     },
     "execution_count": 43,
     "metadata": {},
     "output_type": "execute_result"
    }
   ],
   "source": [
    "#выводим статистику по средним значениям признаков по кластерам\n",
    "df.groupby(['cluster_km']).mean().round(2).T"
   ]
  },
  {
   "cell_type": "markdown",
   "metadata": {},
   "source": [
    "<b>Кластер 0</b>\n",
    "\n",
    "* Почти все клиенты живут/работают близко к фитнес-центру – 96%.\n",
    "* Чаще остальных приходят по партнерской программе и промокоду от знакомых – 78% и 57% соответственно.\n",
    "* Самый долгий абонемент среди всех кластеров – 10,88 месяцев. Также самый большой срок до окончания абонемента – 9,95 месяцев в среднем.\n",
    "* Чаще других кластеров ходят на групповые занятия – 57% клиентов.\n",
    "* Дают большую дополнительную вырочку – 160,74 у.е. на клиента.\n",
    "* Один из самых больших значений время и с момента первого обращения в фитнес-центр – 4,74 мес.\n",
    "* Посещают фитнес-центр в среднем 2 раза в неделю.\n",
    "* <b>Самый низкий показатель оттока – 3%.</b>\n",
    "* <b>Второй кластер по количеству принадлежности к нему людей – 1011 клиентов (25.3% от общего числа).</b>\n",
    "\n",
    "<b>Кластер 1</b>\n",
    "\n",
    "* Живут/работаю близко к фитнес-центру 86% клиентов.\n",
    "* В половине случаев приходят по партнерской программе, в трети случаев – по промокоду от знакомого.\n",
    "* Чаще не указывают номер телефона.\n",
    "* Оформляют абонемент на 4,8 месяцев. До конца абонемента в среднем 4,5 месяца.\n",
    "* 43% клиентов посещают групповые занятия.\n",
    "* Сумма доп. выручки на клиента – 143,96 у.е.\n",
    "* В среднем посещают фитнес-центр от 1,72 до 1,85 раз в неделю.\n",
    "* 27% клиентов попадают в отток.\n",
    "* В этом кластере меньше всего людей – 385 клиентов (9.6% от общего числа).\n",
    "\n",
    "<b>Кластер 2</b>\n",
    "\n",
    "* Клиенты живут далеко от фитнес-центра.\n",
    "* В половине случаев приходят по партнерской программе, почти не приходят по промокоду от знакомого.\n",
    "* В среднем продолжительность абонемента составляет 2,35 месяца. До конца абонемента в среднем 2,2 месяца.\n",
    "* Меньше всего посещают групповые занятия – всего 22% клиентов кластера.\n",
    "* Клиенты кластера приносят не очень много доп. выручки – 135,46 у.е. на клиента.\n",
    "* Средняя \"продолжительность жизни\" клиента – 1,66 мес.\n",
    "* <b>Один из самых высоких показателей оттока – 44%.</b>\n",
    "* В этом кластере 505 посетителей (12.6% от общего числа)\n",
    "\n",
    "<b>Кластер 3</b>\n",
    "\n",
    "* Все клиенты кластера живут или работают рядом с фитнес-центром.\n",
    "* Количество клиентов, приходящих по партнерским программам, – 35%, по промокоду – 24%. Это одни из самых низких показателей среди всех кластеров.\n",
    "* Самый низкий период длительности абонемента – 1,95 месяцев.\n",
    "* Треть клиентов кластера ходят на групповые занятия.\n",
    "* Приносят меньше всех доп. выручки – 131,62 у.е. на клиента.\n",
    "* В среднем посещают фитнес-центр от 1 до 1,25 раз в неделю.\n",
    "* <b>Самый высокий показатель оттока – 51%.</b>\n",
    "* <b>В этом кластере больше всего посетителей – 1262 клиентов (31.6% от общего числа).</b>\n",
    "\n",
    "<b>Кластер 4</b>\n",
    "\n",
    "* Почти все клиенты проживают или работают рядом с фитнес-центром.\n",
    "* Количество клиентов, приходящих по партнерским программам, – 36%, по промокоду – 23%. Это одни из самых низких показателей среди всех кластеров.\n",
    "* В среднем возраст клиента выше остальных – 30,13 лет.\n",
    "* Клиенты приносят больше всех дополнительную выручку – 161,72 у.е.\n",
    "* В среднем посещают фитнес-центр 2,85 раз в неделю.\n",
    "* <b>Один из самых низких показателей оттока – 7%.</b>\n",
    "* <b>В этом кластере 837 посетителей (20.9% от общего числа).</b>"
   ]
  },
  {
   "cell_type": "markdown",
   "metadata": {},
   "source": [
    "### 5.5. Распределения признаков для кластеров.\n",
    "Построить распределения признаков для кластеров. Можно ли что-то заметить по ним?"
   ]
  },
  {
   "cell_type": "code",
   "execution_count": 44,
   "metadata": {},
   "outputs": [
    {
     "data": {
      "image/png": "[encoded data removed]",
      "text/plain": [
       "<Figure size 720x360 with 1 Axes>"
      ]
     },
     "metadata": {
      "needs_background": "light"
     },
     "output_type": "display_data"
    },
    {
     "data": {
      "image/png": "[encoded data removed]",
      "text/plain": [
       "<Figure size 720x360 with 1 Axes>"
      ]
     },
     "metadata": {
      "needs_background": "light"
     },
     "output_type": "display_data"
    },
    {
     "data": {
      "image/png": "[encoded data removed]",
      "text/plain": [
       "<Figure size 720x360 with 1 Axes>"
      ]
     },
     "metadata": {
      "needs_background": "light"
     },
     "output_type": "display_data"
    },
    {
     "data": {
      "image/png": "[encoded data removed]",
      "text/plain": [
       "<Figure size 720x360 with 1 Axes>"
      ]
     },
     "metadata": {
      "needs_background": "light"
     },
     "output_type": "display_data"
    },
    {
     "data": {
      "image/png": "[encoded data removed]",
      "text/plain": [
       "<Figure size 720x360 with 1 Axes>"
      ]
     },
     "metadata": {
      "needs_background": "light"
     },
     "output_type": "display_data"
    }
   ],
   "source": [
    "for column in ['gender', 'near_location', 'partner', 'promo_friends', 'contract_period']:\n",
    "    plt.figure(figsize=(10, 5))\n",
    "    sns.countplot(x = df[column], hue='cluster_km', data=df)\n",
    "    plt.title('Распределение признака ' +column, fontsize = 15, color = 'g')\n",
    "    plt.show()  "
   ]
  },
  {
   "cell_type": "markdown",
   "metadata": {},
   "source": [
    "* Распределение по полу во всех кластерах примерно равномерно. В кластере 4 количество клиентов пола 1 чуть больше, чем пола 0.\n",
    "* Все кластеры, кроме второго, живут или работают поблизости от фитнес-центра.\n",
    "* Клиенты почти все кластера 0, чуть более половины кластеров 1 и 2 пользуются партнерскими программами, в то время как клиенты кластера 3 и 4 по большей части нет.\n",
    "* В целом небольшой процент от всех класторов пользуются промокодом от знакомых, кроме кластера 0.\n",
    "* Самый частый абонемент для всех кластеров – 1 месяц, кроме кластера 0, его клиенты чаще всего покупают абонемент на 12 месяцев."
   ]
  },
  {
   "cell_type": "code",
   "execution_count": 45,
   "metadata": {
    "scrolled": false
   },
   "outputs": [
    {
     "data": {
      "image/png": "[encoded data removed]",
      "text/plain": [
       "<Figure size 360x360 with 1 Axes>"
      ]
     },
     "metadata": {
      "needs_background": "light"
     },
     "output_type": "display_data"
    },
    {
     "data": {
      "image/png": "[encoded data removed]",
      "text/plain": [
       "<Figure size 360x360 with 1 Axes>"
      ]
     },
     "metadata": {
      "needs_background": "light"
     },
     "output_type": "display_data"
    },
    {
     "data": {
      "image/png": "[encoded data removed]",
      "text/plain": [
       "<Figure size 360x360 with 1 Axes>"
      ]
     },
     "metadata": {
      "needs_background": "light"
     },
     "output_type": "display_data"
    },
    {
     "data": {
      "image/png": "[encoded data removed]",
      "text/plain": [
       "<Figure size 360x360 with 1 Axes>"
      ]
     },
     "metadata": {
      "needs_background": "light"
     },
     "output_type": "display_data"
    },
    {
     "data": {
      "image/png": "[encoded data removed]",
      "text/plain": [
       "<Figure size 360x360 with 1 Axes>"
      ]
     },
     "metadata": {
      "needs_background": "light"
     },
     "output_type": "display_data"
    },
    {
     "data": {
      "image/png": "[encoded data removed]",
      "text/plain": [
       "<Figure size 360x360 with 1 Axes>"
      ]
     },
     "metadata": {
      "needs_background": "light"
     },
     "output_type": "display_data"
    }
   ],
   "source": [
    "for column in ['month_to_end_contract', 'age', 'avg_additional_charges_total', 'lifetime', 'avg_class_frequency_total', 'avg_class_frequency_current_month']:\n",
    "    plt.figure(figsize=(5, 5))\n",
    "    sns.boxplot(x = 'cluster_km', y = df[column], data = df)\n",
    "    plt.title('Ящик с усами признака ' +column, fontsize = 15, color = 'g')\n",
    "    plt.show()"
   ]
  },
  {
   "cell_type": "markdown",
   "metadata": {},
   "source": [
    "* У клиентов кластера 0 самое большое количество месяцев до окончания абонемента. Для кластера 1 и 4 в среднем осталось 6 и 5 месяцев соответственно. У кластеров 2 и 3 осталось минимальное количество месяцев, за исключением некоторых клиентов.\n",
    "* Возраст в кластерах примерно одинаковый – от 27 до 33 лет. Кластер 3 самый \"молодой\", а 0 и 4 – самые \"взрослые\".\n",
    "* Больше всего выручки приносят кластеры 0 и 4. Они платят больше, по сравнению с другими кластерами.\n",
    "* В целом самая продолжительное время пользованием абонементов у кластеров 4 и 0. У третьего кластера – самый недолгий срок.\n",
    "* Больше всего посещений в неделю совершают клиенты кластера 4. Данные за прошедший месяц в целом совпадают с ежемесячными посещениями."
   ]
  },
  {
   "cell_type": "markdown",
   "metadata": {},
   "source": [
    "### 5.6. Доля оттока для каждого полученного кластера.\n",
    "Для каждого полученного кластера посчитать долю оттока (методом groupby()). Отличаются ли они по доле оттока? Какие кластеры склонны к оттоку, а какие — надёжны?"
   ]
  },
  {
   "cell_type": "code",
   "execution_count": 46,
   "metadata": {},
   "outputs": [
    {
     "data": {
      "text/html": [
       "<div>\n",
       "<style scoped>\n",
       "    .dataframe tbody tr th:only-of-type {\n",
       "        vertical-align: middle;\n",
       "    }\n",
       "\n",
       "    .dataframe tbody tr th {\n",
       "        vertical-align: top;\n",
       "    }\n",
       "\n",
       "    .dataframe thead th {\n",
       "        text-align: right;\n",
       "    }\n",
       "</style>\n",
       "<table border=\"1\" class=\"dataframe\">\n",
       "  <thead>\n",
       "    <tr style=\"text-align: right;\">\n",
       "      <th>cluster_km</th>\n",
       "      <th>0</th>\n",
       "      <th>1</th>\n",
       "      <th>2</th>\n",
       "      <th>3</th>\n",
       "      <th>4</th>\n",
       "    </tr>\n",
       "  </thead>\n",
       "  <tbody>\n",
       "    <tr>\n",
       "      <th>gender</th>\n",
       "      <td>0.502970</td>\n",
       "      <td>0.522078</td>\n",
       "      <td>0.495050</td>\n",
       "      <td>0.485737</td>\n",
       "      <td>0.559666</td>\n",
       "    </tr>\n",
       "    <tr>\n",
       "      <th>near_location</th>\n",
       "      <td>0.959406</td>\n",
       "      <td>0.862338</td>\n",
       "      <td>0.000000</td>\n",
       "      <td>1.000000</td>\n",
       "      <td>0.976134</td>\n",
       "    </tr>\n",
       "    <tr>\n",
       "      <th>partner</th>\n",
       "      <td>0.783168</td>\n",
       "      <td>0.470130</td>\n",
       "      <td>0.463366</td>\n",
       "      <td>0.350238</td>\n",
       "      <td>0.356802</td>\n",
       "    </tr>\n",
       "    <tr>\n",
       "      <th>promo_friends</th>\n",
       "      <td>0.574257</td>\n",
       "      <td>0.306494</td>\n",
       "      <td>0.079208</td>\n",
       "      <td>0.240095</td>\n",
       "      <td>0.230310</td>\n",
       "    </tr>\n",
       "    <tr>\n",
       "      <th>phone</th>\n",
       "      <td>1.000000</td>\n",
       "      <td>0.000000</td>\n",
       "      <td>1.000000</td>\n",
       "      <td>1.000000</td>\n",
       "      <td>0.998807</td>\n",
       "    </tr>\n",
       "    <tr>\n",
       "      <th>contract_period</th>\n",
       "      <td>10.889109</td>\n",
       "      <td>4.787013</td>\n",
       "      <td>2.352475</td>\n",
       "      <td>1.948494</td>\n",
       "      <td>2.669451</td>\n",
       "    </tr>\n",
       "    <tr>\n",
       "      <th>group_visits</th>\n",
       "      <td>0.542574</td>\n",
       "      <td>0.425974</td>\n",
       "      <td>0.215842</td>\n",
       "      <td>0.341521</td>\n",
       "      <td>0.473747</td>\n",
       "    </tr>\n",
       "    <tr>\n",
       "      <th>age</th>\n",
       "      <td>29.982178</td>\n",
       "      <td>29.301299</td>\n",
       "      <td>28.477228</td>\n",
       "      <td>28.167987</td>\n",
       "      <td>30.125298</td>\n",
       "    </tr>\n",
       "    <tr>\n",
       "      <th>avg_additional_charges_total</th>\n",
       "      <td>160.761016</td>\n",
       "      <td>143.957664</td>\n",
       "      <td>135.457501</td>\n",
       "      <td>131.622204</td>\n",
       "      <td>161.657905</td>\n",
       "    </tr>\n",
       "    <tr>\n",
       "      <th>month_to_end_contract</th>\n",
       "      <td>9.954455</td>\n",
       "      <td>4.475325</td>\n",
       "      <td>2.198020</td>\n",
       "      <td>1.856577</td>\n",
       "      <td>2.459427</td>\n",
       "    </tr>\n",
       "    <tr>\n",
       "      <th>lifetime</th>\n",
       "      <td>4.736634</td>\n",
       "      <td>3.924675</td>\n",
       "      <td>2.809901</td>\n",
       "      <td>2.440571</td>\n",
       "      <td>4.898568</td>\n",
       "    </tr>\n",
       "    <tr>\n",
       "      <th>avg_class_frequency_total</th>\n",
       "      <td>1.982055</td>\n",
       "      <td>1.847220</td>\n",
       "      <td>1.660461</td>\n",
       "      <td>1.247634</td>\n",
       "      <td>2.852002</td>\n",
       "    </tr>\n",
       "    <tr>\n",
       "      <th>avg_class_frequency_current_month</th>\n",
       "      <td>1.974789</td>\n",
       "      <td>1.716369</td>\n",
       "      <td>1.477324</td>\n",
       "      <td>1.012983</td>\n",
       "      <td>2.850161</td>\n",
       "    </tr>\n",
       "    <tr>\n",
       "      <th>churn</th>\n",
       "      <td>0.027723</td>\n",
       "      <td>0.267532</td>\n",
       "      <td>0.443564</td>\n",
       "      <td>0.514263</td>\n",
       "      <td>0.068019</td>\n",
       "    </tr>\n",
       "  </tbody>\n",
       "</table>\n",
       "</div>"
      ],
      "text/plain": [
       "cluster_km                                  0           1           2  \\\n",
       "gender                               0.502970    0.522078    0.495050   \n",
       "near_location                        0.959406    0.862338    0.000000   \n",
       "partner                              0.783168    0.470130    0.463366   \n",
       "promo_friends                        0.574257    0.306494    0.079208   \n",
       "phone                                1.000000    0.000000    1.000000   \n",
       "contract_period                     10.889109    4.787013    2.352475   \n",
       "group_visits                         0.542574    0.425974    0.215842   \n",
       "age                                 29.982178   29.301299   28.477228   \n",
       "avg_additional_charges_total       160.761016  143.957664  135.457501   \n",
       "month_to_end_contract                9.954455    4.475325    2.198020   \n",
       "lifetime                             4.736634    3.924675    2.809901   \n",
       "avg_class_frequency_total            1.982055    1.847220    1.660461   \n",
       "avg_class_frequency_current_month    1.974789    1.716369    1.477324   \n",
       "churn                                0.027723    0.267532    0.443564   \n",
       "\n",
       "cluster_km                                  3           4  \n",
       "gender                               0.485737    0.559666  \n",
       "near_location                        1.000000    0.976134  \n",
       "partner                              0.350238    0.356802  \n",
       "promo_friends                        0.240095    0.230310  \n",
       "phone                                1.000000    0.998807  \n",
       "contract_period                      1.948494    2.669451  \n",
       "group_visits                         0.341521    0.473747  \n",
       "age                                 28.167987   30.125298  \n",
       "avg_additional_charges_total       131.622204  161.657905  \n",
       "month_to_end_contract                1.856577    2.459427  \n",
       "lifetime                             2.440571    4.898568  \n",
       "avg_class_frequency_total            1.247634    2.852002  \n",
       "avg_class_frequency_current_month    1.012983    2.850161  \n",
       "churn                                0.514263    0.068019  "
      ]
     },
     "execution_count": 46,
     "metadata": {},
     "output_type": "execute_result"
    }
   ],
   "source": [
    "df.groupby(['cluster_km']).mean().T"
   ]
  },
  {
   "cell_type": "markdown",
   "metadata": {},
   "source": [
    "<b>Промежуточный вывод:</b>\n",
    "\n",
    "Кластеры 3 и 2 больше всех склонны к оттоку. Менее всех – кластеры 0 и 4."
   ]
  },
  {
   "cell_type": "markdown",
   "metadata": {},
   "source": [
    "<hr style=\"border: 2px solid indigo;\" />"
   ]
  },
  {
   "cell_type": "markdown",
   "metadata": {},
   "source": [
    "## Шаг 6. Выводы и базовые рекомендации по работе с клиентами.  \n",
    "  "
   ]
  },
  {
   "cell_type": "markdown",
   "metadata": {},
   "source": [
    "### 6.1. Общие выводы"
   ]
  },
  {
   "cell_type": "markdown",
   "metadata": {},
   "source": [
    "В датасете 4000 наблюдений. Пропусков и дубликатов нет. Все форматы данных в норме. В целом выгрузка хорошая и хочется отдельно похвалить тех, кто ее делал.  \n",
    "\n",
    "Проект отражает поведение клиентов при посещении фитнес-центра (среднее количество посещений в неделю, дополнительные траты в центре), информацию о них самих (пол, возраст, близость к фитнес-центру, участие в партнерских программах и использование промокодов от знакомых и др.) и их отток.\n",
    "\n",
    "В целом в клуб систематически ходят более активные клиенты. Чаще всего они ближе живут, половина из них приходит по партнерским программам и по промокоду от знакомого, покупает абонемент на более долгий срок и чаще посещают групповые занятия. Такие клиенты тратят больше средств на дополнительные услуги в фитнес-центре и в принципе систематически ходят в спортзал (в среднем 2 раза в неделю). Такие клиенты немного старше остальных – им около 30 лет.\n",
    "\n",
    "Клиенты, прекратившие пользоваться абонементом в фитнес-центр, менее активны: реже приходят по партнерским программам, реже ходят на групповые занятия и в спортзал в целом, меньше покупают дополнительных услуг и продуктов, покупают абонемент на меньший срок (чаще всего на 1 месяц).\n",
    "\n",
    "Проведен корреляционный анализ всех показателей. С показателем оттока особо ничего сильно не коррелирует. На нее же абсолютно не влияют показатели gender и phone. Выявлены мультиколлинеарные признаки.\n",
    "\n",
    "Была обучена модель двумя способами: логистической регрессией и случайным лесом. На основании метрик accuracy (доля правильных ответов), precision (точность) и recall (полнота) логистическая регрессия (Accuracy: 0.93, Precision: 0.86, Recall: 0.83) показала себя лучше, чем случайный лес (Accuracy: 0.91, Precision: 0.83, Recall: 0.78).\n",
    "\n",
    "<b>Провели кластеризацию клиентов и разбили их на 5 классов:</b>\n",
    "\n",
    "<b>Кластер 0.</b><br><br>\n",
    "В кластер попало 25,3% всех клиентов датасета. Почти все клиенты близко живут или работают к фитнес-центру и достаточно лояльны к нему: пользуются партнерскими программами, промокодами от знакомых, покупают продолжительные абонементы, ходят в спортзал в среднем 2 раза в неделю. Клиенты этого кластера мало того, что приносят почти самую большую дополнительную выручку на одного посетителя, так и имеют <b>самый низкий показатель оттока – 3%.</b>\n",
    "\n",
    "<b>Кластер 1.</b><br><br>\n",
    "Кластер включает в себя самое малое количество клиентов – 385 человек (9,6% от общего числа). Они реже пользуются партнерскими программами, промокодами от друзей, часто не указывают не дают номер телефона. Приобретают абонемент на 4,5 месяца. <b>27% клиентов этого кластера попадают в отток.</b>\n",
    "\n",
    "<b>Кластер 2.</b><br><br>\n",
    "В этот кластер попало 505 посетителей (12,6% от общего числа). Они еще реже пользуются партнерской программой и почти не приходят по промокоду от знакомого, меньше всех посещают групповые занятия и приносят немного дополнительной выручки. У них небольшая средняя \"продолжительность жизни\" клиента и <b>один из самых высоких показателей оттока – 44%.</b>\n",
    "\n",
    "<b>Кластер 3.</b><br><br>\n",
    "Это самый большой по количеству клиентов кластер – 1262 посетителя (31.6% от общего числа). Они почти не пользуются партнерской программой и не приходят по промокоду от знакомого, треть клиентов посещает групповые занятия. Приносят меньше всего дополнительной выручки и посещают фитнец-центр 1,25 раз в неделю. У этого кластера <b>самый высокий показатель оттока – 51%, т.е. половина кластера просто уходят.</b>\n",
    "\n",
    "<b>Кластер 4</b><br><br>\n",
    "В этот кластер входят 837 посетителей (20.9% от общего числа). Они живут или работают достаточно близко к фитнес-центру, но не особо пользуются партнерскими программами и промокодами от знакомых. Эти клиенты приносят больше всех дополнительную выручку и ходят 2,85 раз в неделю. У них достаточно низкий <b>показатель оттока – всего 7%.</b>\n",
    "\n",
    "Предпочтительнее продолжить работать с кластерами 4 и 0, а работу с кластерами 2 и 3 точно нужно пересмотреть."
   ]
  },
  {
   "cell_type": "markdown",
   "metadata": {},
   "source": [
    "### 6.2. Рекомендации для стратегии взаимодействия с клиентами и их удержания."
   ]
  },
  {
   "cell_type": "markdown",
   "metadata": {},
   "source": [
    "1. Привлечь больше людей, живущих или работающих поблизости от фитнес-центра, например, с помощью рекламной кампании в интернете или наружной рекламы.\n",
    "2. Привлечь больше партнеров для предоставления их сотрудникам скидки на абонемент и, как следствие, больше новых клиентов.\n",
    "3. При заключении договора с новым клиентом, делать больший упор на длительные абонементы. Так посетители ходят чаще, приносят больше дополнительной выручки и реже попадают в отток. Возможно стоит сделать на эти абонементы скидки для привлечения большего количества людей.\n",
    "4. Напоминать почаще и привлекать клиентов на групповые занятия, например, с помощью sms- и email рассылки. Поскольку они проходят систематически, клиент реже будет попадать в отток и пропадать. Возможно стоит пересмотреть выбор групповых занятий: убрать непопулярные занятия или добавить новых, чтобы клиенту было из чего выбирать и он смог \"привыкнуть\" на них ходить."
   ]
  }
 ],
 "metadata": {
  "ExecuteTimeLog": [
   {
    "duration": 1187,
    "start_time": "2021-11-29T16:40:50.104Z"
   },
   {
    "duration": 28,
    "start_time": "2021-11-29T16:45:00.739Z"
   },
   {
    "duration": 4,
    "start_time": "2021-11-29T16:47:23.437Z"
   },
   {
    "duration": 8,
    "start_time": "2021-11-29T16:48:59.168Z"
   },
   {
    "duration": 7,
    "start_time": "2021-11-29T16:49:09.591Z"
   },
   {
    "duration": 13,
    "start_time": "2021-11-29T16:49:40.421Z"
   },
   {
    "duration": 12,
    "start_time": "2021-11-29T16:50:16.695Z"
   },
   {
    "duration": 12,
    "start_time": "2021-11-29T16:50:33.456Z"
   },
   {
    "duration": 12,
    "start_time": "2021-11-29T16:50:59.712Z"
   },
   {
    "duration": 46,
    "start_time": "2021-11-29T16:51:19.299Z"
   },
   {
    "duration": 7,
    "start_time": "2021-11-29T16:54:08.561Z"
   },
   {
    "duration": 6,
    "start_time": "2021-11-29T16:55:39.493Z"
   },
   {
    "duration": 6,
    "start_time": "2021-11-29T17:02:36.224Z"
   },
   {
    "duration": 6,
    "start_time": "2021-11-29T17:04:08.734Z"
   },
   {
    "duration": 67,
    "start_time": "2021-11-29T17:05:43.640Z"
   },
   {
    "duration": 5,
    "start_time": "2021-11-29T17:06:30.167Z"
   },
   {
    "duration": 61,
    "start_time": "2021-11-29T17:07:20.008Z"
   },
   {
    "duration": 6,
    "start_time": "2021-11-29T17:08:47.974Z"
   },
   {
    "duration": 6,
    "start_time": "2021-11-29T17:13:57.379Z"
   },
   {
    "duration": 86,
    "start_time": "2021-11-29T17:15:30.095Z"
   },
   {
    "duration": 7,
    "start_time": "2021-11-29T17:16:17.498Z"
   },
   {
    "duration": 5,
    "start_time": "2021-11-29T17:17:42.868Z"
   },
   {
    "duration": 62,
    "start_time": "2021-11-29T17:18:41.751Z"
   },
   {
    "duration": 6,
    "start_time": "2021-11-29T17:19:12.482Z"
   },
   {
    "duration": 7,
    "start_time": "2021-11-29T17:20:31.160Z"
   },
   {
    "duration": 6,
    "start_time": "2021-11-29T17:21:42.242Z"
   },
   {
    "duration": 7,
    "start_time": "2021-11-29T17:23:08.861Z"
   },
   {
    "duration": 5,
    "start_time": "2021-11-29T17:24:56.169Z"
   },
   {
    "duration": 13,
    "start_time": "2021-11-29T17:41:15.058Z"
   },
   {
    "duration": 44,
    "start_time": "2021-11-29T17:46:11.182Z"
   },
   {
    "duration": 48,
    "start_time": "2021-11-29T17:53:24.783Z"
   },
   {
    "duration": 52,
    "start_time": "2021-11-29T17:55:54.617Z"
   },
   {
    "duration": 1182,
    "start_time": "2021-11-29T17:58:51.058Z"
   },
   {
    "duration": 2105,
    "start_time": "2021-11-29T18:00:58.777Z"
   },
   {
    "duration": 1269,
    "start_time": "2021-11-29T18:34:13.518Z"
   },
   {
    "duration": 4,
    "start_time": "2021-11-29T18:47:12.195Z"
   },
   {
    "duration": 7,
    "start_time": "2021-11-29T18:47:25.391Z"
   },
   {
    "duration": 5,
    "start_time": "2021-11-29T18:47:41.906Z"
   },
   {
    "duration": 6,
    "start_time": "2021-11-29T18:49:02.013Z"
   },
   {
    "duration": 4,
    "start_time": "2021-11-29T18:49:13.198Z"
   },
   {
    "duration": 3,
    "start_time": "2021-11-29T18:49:25.158Z"
   },
   {
    "duration": 267,
    "start_time": "2021-11-29T18:49:52.753Z"
   },
   {
    "duration": 8,
    "start_time": "2021-11-29T18:52:34.191Z"
   },
   {
    "duration": 572,
    "start_time": "2021-11-29T18:53:01.232Z"
   },
   {
    "duration": 86522,
    "start_time": "2021-11-29T18:53:22.807Z"
   },
   {
    "duration": 1503,
    "start_time": "2021-11-29T18:56:00.489Z"
   },
   {
    "duration": 14,
    "start_time": "2021-11-29T18:56:27.656Z"
   },
   {
    "duration": 16,
    "start_time": "2021-11-29T18:56:41.240Z"
   },
   {
    "duration": 1036,
    "start_time": "2021-11-29T19:01:41.115Z"
   },
   {
    "duration": 1534,
    "start_time": "2021-11-29T19:02:38.664Z"
   },
   {
    "duration": 14,
    "start_time": "2021-11-29T19:03:44.094Z"
   },
   {
    "duration": 4,
    "start_time": "2021-11-29T19:15:14.039Z"
   },
   {
    "duration": 42,
    "start_time": "2021-11-29T19:15:14.052Z"
   },
   {
    "duration": 11,
    "start_time": "2021-11-29T19:15:14.096Z"
   },
   {
    "duration": 18,
    "start_time": "2021-11-29T19:15:14.109Z"
   },
   {
    "duration": 22,
    "start_time": "2021-11-29T19:15:14.129Z"
   },
   {
    "duration": 27,
    "start_time": "2021-11-29T19:15:14.153Z"
   },
   {
    "duration": 13,
    "start_time": "2021-11-29T19:15:14.183Z"
   },
   {
    "duration": 23,
    "start_time": "2021-11-29T19:15:14.199Z"
   },
   {
    "duration": 45,
    "start_time": "2021-11-29T19:15:14.224Z"
   },
   {
    "duration": 22,
    "start_time": "2021-11-29T19:15:14.270Z"
   },
   {
    "duration": 6,
    "start_time": "2021-11-29T19:15:14.294Z"
   },
   {
    "duration": 11,
    "start_time": "2021-11-29T19:15:14.302Z"
   },
   {
    "duration": 7,
    "start_time": "2021-11-29T19:15:14.315Z"
   },
   {
    "duration": 5,
    "start_time": "2021-11-29T19:15:14.324Z"
   },
   {
    "duration": 5,
    "start_time": "2021-11-29T19:15:14.331Z"
   },
   {
    "duration": 6,
    "start_time": "2021-11-29T19:15:14.338Z"
   },
   {
    "duration": 49,
    "start_time": "2021-11-29T19:15:14.346Z"
   },
   {
    "duration": 6,
    "start_time": "2021-11-29T19:15:14.398Z"
   },
   {
    "duration": 8,
    "start_time": "2021-11-29T19:15:14.405Z"
   },
   {
    "duration": 6,
    "start_time": "2021-11-29T19:15:14.415Z"
   },
   {
    "duration": 7,
    "start_time": "2021-11-29T19:15:14.422Z"
   },
   {
    "duration": 5,
    "start_time": "2021-11-29T19:15:14.430Z"
   },
   {
    "duration": 6,
    "start_time": "2021-11-29T19:15:14.492Z"
   },
   {
    "duration": 12,
    "start_time": "2021-11-29T19:15:14.500Z"
   },
   {
    "duration": 78,
    "start_time": "2021-11-29T19:15:14.514Z"
   },
   {
    "duration": 55,
    "start_time": "2021-11-29T19:15:14.594Z"
   },
   {
    "duration": 78,
    "start_time": "2021-11-29T19:15:14.651Z"
   },
   {
    "duration": 1185,
    "start_time": "2021-11-29T19:15:14.731Z"
   },
   {
    "duration": 2476,
    "start_time": "2021-11-29T19:15:15.919Z"
   },
   {
    "duration": 1289,
    "start_time": "2021-11-29T19:15:18.398Z"
   },
   {
    "duration": 4,
    "start_time": "2021-11-29T19:15:19.692Z"
   },
   {
    "duration": 8,
    "start_time": "2021-11-29T19:15:19.697Z"
   },
   {
    "duration": 5,
    "start_time": "2021-11-29T19:15:19.707Z"
   },
   {
    "duration": 7,
    "start_time": "2021-11-29T19:15:19.714Z"
   },
   {
    "duration": 6,
    "start_time": "2021-11-29T19:15:19.722Z"
   },
   {
    "duration": 8,
    "start_time": "2021-11-29T19:15:19.729Z"
   },
   {
    "duration": 182,
    "start_time": "2021-11-29T19:15:19.738Z"
   },
   {
    "duration": 8,
    "start_time": "2021-11-29T19:15:19.921Z"
   },
   {
    "duration": 593,
    "start_time": "2021-11-29T19:15:19.931Z"
   },
   {
    "duration": 88055,
    "start_time": "2021-11-29T19:15:20.526Z"
   },
   {
    "duration": 1316,
    "start_time": "2021-11-29T19:16:48.584Z"
   },
   {
    "duration": 98,
    "start_time": "2021-11-29T19:16:49.902Z"
   },
   {
    "duration": 23,
    "start_time": "2021-11-29T19:16:50.004Z"
   },
   {
    "duration": 1106,
    "start_time": "2021-11-29T19:16:50.030Z"
   },
   {
    "duration": 1280,
    "start_time": "2021-11-29T19:16:51.139Z"
   },
   {
    "duration": 13,
    "start_time": "2021-11-29T19:16:52.421Z"
   }
  ],
  "kernelspec": {
   "display_name": "Python 3",
   "language": "python",
   "name": "python3"
  },
  "language_info": {
   "codemirror_mode": {
    "name": "ipython",
    "version": 3
   },
   "file_extension": ".py",
   "mimetype": "text/x-python",
   "name": "python",
   "nbconvert_exporter": "python",
   "pygments_lexer": "ipython3",
   "version": "3.8.8"
  },
  "toc": {
   "base_numbering": 1,
   "nav_menu": {},
   "number_sections": false,
   "sideBar": true,
   "skip_h1_title": true,
   "title_cell": "Table of Contents",
   "title_sidebar": "Contents",
   "toc_cell": false,
   "toc_position": {},
   "toc_section_display": true,
   "toc_window_display": false
  }
 },
 "nbformat": 4,
 "nbformat_minor": 2
}
